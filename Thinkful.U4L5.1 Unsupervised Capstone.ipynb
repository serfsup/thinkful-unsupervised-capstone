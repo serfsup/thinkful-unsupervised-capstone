{
 "cells": [
  {
   "cell_type": "markdown",
   "metadata": {},
   "source": [
    "For this project you'll dig into a large amount of text and apply most of what you've covered in this unit and in the course so far.\n",
    "\n",
    "First, pick a set of texts. This can be either a series of novels, chapters, or articles. Anything you'd like. It just has to have multiple entries of varying characteristics. At least 100 should be good. There should also be at least 10 different authors, but try to keep the texts related (either all on the same topic of from the same branch of literature - something to make classification a bit more difficult than obviously different subjects).\n",
    "\n",
    "This capstone can be an extension of your NLP challenge if you wish to use the same corpus. If you found problems with that data set that limited your analysis, however, it may be worth using what you learned to choose a new corpus. Reserve 25% of your corpus as a test set.\n",
    "\n",
    "The first technique is to create a series of clusters. Try several techniques and pick the one you think best represents your data. Make sure there is a narrative and reasoning around why you have chosen the given clusters. Are authors consistently grouped into the same cluster?\n",
    "\n",
    "Next, perform some unsupervised feature generation and selection using the techniques covered in this unit and elsewhere in the course. Using those features then build models to attempt to classify your texts by author. Try different permutations of unsupervised and supervised techniques to see which combinations have the best performance.\n",
    "\n",
    "Lastly return to your holdout group. Does your clustering on those members perform as you'd expect? Have your clusters remained stable or changed dramatically? What about your model? Is its performance consistent?\n",
    "\n",
    "If there is a divergence in the relative stability of your model and your clusters, delve into why.\n",
    "\n",
    "Your end result should be a write up of how clustering and modeling compare for classifying your texts. What are the advantages of each? Why would you want to use one over the other? Approximately 3-5 pages is a good length for your write up, and remember to include visuals to help tell your story!"
   ]
  },
  {
   "cell_type": "code",
   "execution_count": 1,
   "metadata": {
    "ExecuteTime": {
     "end_time": "2019-08-06T02:31:43.190073Z",
     "start_time": "2019-08-06T02:31:37.889626Z"
    }
   },
   "outputs": [],
   "source": [
    "# Set up data science environment.\n",
    "import numpy as np\n",
    "import pandas as pd\n",
    "import matplotlib.pyplot as plt\n",
    "import seaborn as sns\n",
    "import math\n",
    "import scipy\n",
    "import spacy\n",
    "import re\n",
    "import warnings\n",
    "from nltk.corpus import inaugural, stopwords\n",
    "from sklearn.cluster import KMeans, MiniBatchKMeans, SpectralClustering\n",
    "from sklearn.cluster import AffinityPropagation, MeanShift, estimate_bandwidth\n",
    "from sklearn.decomposition import PCA\n",
    "from sklearn.ensemble import RandomForestClassifier, GradientBoostingClassifier\n",
    "from sklearn.feature_extraction.text import TfidfVectorizer\n",
    "from sklearn.feature_extraction.text import CountVectorizer\n",
    "from sklearn.linear_model import LogisticRegression\n",
    "from sklearn.metrics import confusion_matrix, classification_report\n",
    "from sklearn.metrics import accuracy_score\n",
    "from sklearn.model_selection import cross_val_score, train_test_split\n",
    "from sklearn.model_selection import GridSearchCV, StratifiedKFold\n",
    "from sklearn.naive_bayes import BernoulliNB\n",
    "from sklearn.neural_network import MLPClassifier\n",
    "from sklearn.pipeline import Pipeline\n",
    "from sklearn.preprocessing import MinMaxScaler, normalize\n",
    "from sklearn.tree import DecisionTreeClassifier\n",
    "from sklearn import metrics\n",
    "from typing import Dict\n",
    "\n",
    "# Display preferences.\n",
    "%matplotlib inline\n",
    "pd.options.display.float_format = '{:.3f}'.format\n",
    "sns.set_style('white')\n",
    "\n",
    "# Suppress annoying harmless error.\n",
    "warnings.filterwarnings(\n",
    "    action='ignore',\n",
    "    module='scipy',\n",
    "    message='internal gelsd'\n",
    ")"
   ]
  },
  {
   "cell_type": "markdown",
   "metadata": {},
   "source": [
    "# Data Cleaning, Processing, and Language Parsing"
   ]
  },
  {
   "cell_type": "code",
   "execution_count": 2,
   "metadata": {
    "ExecuteTime": {
     "end_time": "2019-08-06T02:31:43.662752Z",
     "start_time": "2019-08-06T02:31:43.655259Z"
    }
   },
   "outputs": [],
   "source": [
    "# Create lists for files and presidents.\n",
    "files = [\"1789-Washington.txt\",\n",
    "         \"1801-Jefferson.txt\",\n",
    "         \"1861-Lincoln.txt\",\n",
    "         \"1933-Roosevelt.txt\",\n",
    "         \"1953-Eisenhower.txt\",\n",
    "         \"1961-Kennedy.txt\",\n",
    "         \"1981-Reagan.txt\",\n",
    "         \"1989-Bush.txt\",\n",
    "         \"1993-Clinton.txt\",\n",
    "         \"2009-Obama.txt\"]\n",
    "\n",
    "presidents = [\"washington\",\n",
    "              \"jefferson\",\n",
    "              \"lincoln\",\n",
    "              \"fdr\",\n",
    "              \"eisenhower\",\n",
    "              \"kennedy\",\n",
    "              \"reagan\",\n",
    "              \"bush41\",\n",
    "              \"clinton\",\n",
    "              \"obama\"]\n",
    "\n",
    "# Control to make sure both lists are the same length.\n",
    "assert len(files) == len(presidents)"
   ]
  },
  {
   "cell_type": "code",
   "execution_count": 3,
   "metadata": {
    "ExecuteTime": {
     "end_time": "2019-08-06T02:31:44.054745Z",
     "start_time": "2019-08-06T02:31:44.036706Z"
    }
   },
   "outputs": [],
   "source": [
    "# Quick function to open all files needed (and close them again).\n",
    "docs = []\n",
    "for file_name, president in zip(files, presidents):\n",
    "    with open(f'./inaugural/{file_name}') as f:\n",
    "        doc = f.read()\n",
    "        docs.append((doc, president))"
   ]
  },
  {
   "cell_type": "code",
   "execution_count": 4,
   "metadata": {
    "ExecuteTime": {
     "end_time": "2019-08-06T02:31:44.486583Z",
     "start_time": "2019-08-06T02:31:44.479551Z"
    }
   },
   "outputs": [],
   "source": [
    "# Utility function to clean text.\n",
    "def text_cleaner(text: str) -> str:\n",
    "    \"\"\"Function to strip all characters except letters in words.\"\"\"\n",
    "    text = re.sub(r'--', ' ', text)\n",
    "    text = re.sub(\"[\\[].*?[\\]]\", \"\", text)\n",
    "    text = re.sub(\"[\\<].*?[\\>]\", \"\", text)\n",
    "    text = ' '.join(text.split())\n",
    "    return text"
   ]
  },
  {
   "cell_type": "code",
   "execution_count": 5,
   "metadata": {
    "ExecuteTime": {
     "end_time": "2019-08-06T02:31:44.970695Z",
     "start_time": "2019-08-06T02:31:44.961603Z"
    }
   },
   "outputs": [],
   "source": [
    "# Use text_cleaner on the docs, combine them into data frame (clean_docs).\n",
    "clean_docs = []\n",
    "for doc, pres in docs:\n",
    "    clean_doc = text_cleaner(doc)\n",
    "    clean_docs.append((clean_doc, pres))"
   ]
  },
  {
   "cell_type": "code",
   "execution_count": 6,
   "metadata": {
    "ExecuteTime": {
     "end_time": "2019-08-06T02:31:45.518379Z",
     "start_time": "2019-08-06T02:31:45.508614Z"
    },
    "run_control": {
     "marked": false
    }
   },
   "outputs": [
    {
     "name": "stdout",
     "output_type": "stream",
     "text": [
      "Fellow-Citizens of the Senate and of the House of Representatives: Among the vicissitudes incident to life no event could have filled me with greater anxieties than that of which the notification was transmitted by your order, and received on the 14th day of the present month. On the one hand, I was summoned by my Country, whose voice I can never hear but with veneration and love, from a retreat which I had chosen with the fondest predilection, and, in my flattering hopes, with an immutable decision, as the asylum of my declining years a retreat which was rendered every day more necessary as well as more dear to me by the addition of habit to inclination, and of frequent interruptions in my health to the gradual waste committed on it by time. On the other hand, the magnitude and difficulty of the trust to which the voice of my country called me, being sufficient to awaken in the wisest and most experienced of her citizens a distrustful scrutiny into his qualifications, could not but ov WASHINGTON\n",
      "\n",
      "Friends and Fellow Citizens: Called upon to undertake the duties of the first executive office of our country, I avail myself of the presence of that portion of my fellow citizens which is here assembled to express my grateful thanks for the favor with which they have been pleased to look toward me, to declare a sincere consciousness that the task is above my talents, and that I approach it with those anxious and awful presentiments which the greatness of the charge and the weakness of my powers so justly inspire. A rising nation, spread over a wide and fruitful land, traversing all the seas with the rich productions of their industry, engaged in commerce with nations who feel power and forget right, advancing rapidly to destinies beyond the reach of mortal eye when I contemplate these transcendent objects, and see the honor, the happiness, and the hopes of this beloved country committed to the issue, and the auspices of this day, I shrink from the contemplation, and humble myself befo JEFFERSON\n",
      "\n",
      "Fellow-Citizens of the United States: In compliance with a custom as old as the Government itself, I appear before you to address you briefly and to take in your presence the oath prescribed by the Constitution of the United States to be taken by the President \"before he enters on the execution of this office.\" I do not consider it necessary at present for me to discuss those matters of administration about which there is no special anxiety or excitement. Apprehension seems to exist among the people of the Southern States that by the accession of a Republican Administration their property and their peace and personal security are to be endangered. There has never been any reasonable cause for such apprehension. Indeed, the most ample evidence to the contrary has all the while existed and been open to their inspection. It is found in nearly all the published speeches of him who now addresses you. I do but quote from one of those speeches when I declare that I have no purpose, directly o LINCOLN\n",
      "\n",
      "I am certain that my fellow Americans expect that on my induction into the Presidency I will address them with a candor and a decision which the present situation of our Nation impels. This is preeminently the time to speak the truth, the whole truth, frankly and boldly. Nor need we shrink from honestly facing conditions in our country today. This great Nation will endure as it has endured, will revive and will prosper. So, first of all, let me assert my firm belief that the only thing we have to fear is fear itself nameless, unreasoning, unjustified terror which paralyzes needed efforts to convert retreat into advance. In every dark hour of our national life a leadership of frankness and vigor has met with that understanding and support of the people themselves which is essential to victory. I am convinced that you will again give that support to leadership in these critical days. In such a spirit on my part and on yours we face our common difficulties. They concern, thank God, only m FDR\n",
      "\n",
      "My friends, before I begin the expression of those thoughts that I deem appropriate to this moment, would you permit me the privilege of uttering a little private prayer of my own. And I ask that you bow your heads: Almighty God, as we stand here at this moment my future associates in the executive branch of government join me in beseeching that Thou will make full and complete our dedication to the service of the people in this throng, and their fellow citizens everywhere. Give us, we pray, the power to discern clearly right from wrong, and allow all our words and actions to be governed thereby, and by the laws of this land. Especially we pray that our concern shall be for all the people regardless of station, race, or calling. May cooperation be permitted and be the mutual aim of those who, under the concepts of our Constitution, hold to differing political faiths; so that all may work for the good of our beloved country and Thy glory. Amen. My fellow citizens: The world and we have  EISENHOWER\n",
      "\n",
      "Vice President Johnson, Mr. Speaker, Mr. Chief Justice, President Eisenhower, Vice President Nixon, President Truman, reverend clergy, fellow citizens, we observe today not a victory of party, but a celebration of freedom symbolizing an end, as well as a beginning signifying renewal, as well as change. For I have sworn I before you and Almighty God the same solemn oath our forebears l prescribed nearly a century and three quarters ago. The world is very different now. For man holds in his mortal hands the power to abolish all forms of human poverty and all forms of human life. And yet the same revolutionary beliefs for which our forebears fought are still at issue around the globe the belief that the rights of man come not from the generosity of the state, but from the hand of God. We dare not forget today that we are the heirs of that first revolution. Let the word go forth from this time and place, to friend and foe alike, that the torch has been passed to a new generation of America KENNEDY\n",
      "\n",
      "Senator Hatfield, Mr. Chief Justice, Mr. President, Vice President Bush, Vice President Mondale, Senator Baker, Speaker O'Neill, Reverend Moomaw, and my fellow citizens: To a few of us here today, this is a solemn and most momentous occasion; and yet, in the history of our Nation, it is a commonplace occurrence. The orderly transfer of authority as called for in the Constitution routinely takes place as it has for almost two centuries and few of us stop to think how unique we really are. In the eyes of many in the world, this every-4-year ceremony we accept as normal is nothing less than a miracle. Mr. President, I want our fellow citizens to know how much you did to carry on this tradition. By your gracious cooperation in the transition process, you have shown a watching world that we are a united people pledged to maintaining a political system which guarantees individual liberty to a greater degree than any other, and I thank you and your people for all your help in maintaining the  REAGAN\n",
      "\n",
      "Mr. Chief Justice, Mr. President, Vice President Quayle, Senator Mitchell, Speaker Wright, Senator Dole, Congressman Michael, and fellow citizens, neighbors, and friends: There is a man here who has earned a lasting place in our hearts and in our history. President Reagan, on behalf of our Nation, I thank you for the wonderful things that you have done for America. I have just repeated word for word the oath taken by George Washington 200 years ago, and the Bible on which I placed my hand is the Bible on which he placed his. It is right that the memory of Washington be with us today, not only because this is our Bicentennial Inauguration, but because Washington remains the Father of our Country. And he would, I think, be gladdened by this day; for today is the concrete expression of a stunning fact: our continuity these 200 years since our government began. We meet on democracy's front porch, a good place to talk as neighbors and as friends. For this is a day when our nation is made wh BUSH41\n",
      "\n",
      "My fellow citizens, today we celebrate the mystery of American renewal. This ceremony is held in the depth of winter, but by the words we speak and the faces we show the world, we force the spring. A spring reborn in the world's oldest democracy, that brings forth the vision and courage to reinvent America. When our founders boldly declared America's independence to the world, and our purposes to the Almighty, they knew that America, to endure, would have to change. Not change for change sake, but change to preserve America's ideals: life, liberty, the pursuit of happiness. Though we march to the music of our time, our mission is timeless. Each generation of American's must define what it means to be an American. On behalf of our nation, I salute my predecessor, President Bush, for his half-century of service to America and I thank the millions of men and women whose steadfastness and sacrifice triumphed over depression, fascism and communism. Today, a generation raised in the shadows  CLINTON\n",
      "\n",
      "My fellow citizens: I stand here today humbled by the task before us, grateful for the trust you have bestowed, mindful of the sacrifices borne by our ancestors. I thank President Bush for his service to our nation, as well as the generosity and cooperation he has shown throughout this transition. Forty-four Americans have now taken the presidential oath. The words have been spoken during rising tides of prosperity and the still waters of peace. Yet, every so often the oath is taken amidst gathering clouds and raging storms. At these moments, America has carried on not simply because of the skill or vision of those in high office, but because We the People have remained faithful to the ideals of our forbearers, and true to our founding documents. So it has been. So it must be with this generation of Americans. That we are in the midst of crisis is now well understood. Our nation is at war, against a far-reaching network of violence and hatred. Our economy is badly weakened, a consequen OBAMA\n",
      "\n"
     ]
    }
   ],
   "source": [
    "# Iterate through each doc and print the first 1000 characters for inspection.\n",
    "for doc, pres in clean_docs:\n",
    "    print(doc[:1000], pres.upper()) \n",
    "    print()"
   ]
  },
  {
   "cell_type": "code",
   "execution_count": 7,
   "metadata": {
    "ExecuteTime": {
     "end_time": "2019-08-06T02:31:52.573820Z",
     "start_time": "2019-08-06T02:31:46.575787Z"
    }
   },
   "outputs": [],
   "source": [
    "# Function to parse data.\n",
    "nlp = spacy.load('en')\n",
    "df_list = []\n",
    "\n",
    "\n",
    "def nlp_text(text_file):\n",
    "    doc = nlp(text_file)\n",
    "    return doc\n",
    "\n",
    "\n",
    "def sentences(doc_nlp, speaker):\n",
    "    return [[sent.lemma_, speaker] for sent in doc_nlp.sents]\n",
    "\n",
    "\n",
    "def sentences_to_df(sents):\n",
    "    return pd.DataFrame(sents)\n",
    "\n",
    "\n",
    "for doc, pres in clean_docs:\n",
    "    parsed = nlp_text(doc)\n",
    "    sents = sentences(parsed, pres)\n",
    "    df = sentences_to_df(sents)\n",
    "    df_list.append(df)"
   ]
  },
  {
   "cell_type": "code",
   "execution_count": 8,
   "metadata": {
    "ExecuteTime": {
     "end_time": "2019-08-06T02:31:56.498027Z",
     "start_time": "2019-08-06T02:31:56.491153Z"
    }
   },
   "outputs": [],
   "source": [
    "# Combine each sentence data frame into one master data frame.\n",
    "sent_df = pd.concat([*df_list])"
   ]
  },
  {
   "cell_type": "code",
   "execution_count": 9,
   "metadata": {
    "ExecuteTime": {
     "end_time": "2019-08-06T02:32:00.755330Z",
     "start_time": "2019-08-06T02:32:00.737768Z"
    }
   },
   "outputs": [
    {
     "data": {
      "text/plain": [
       "bush41        145\n",
       "lincoln       139\n",
       "reagan        130\n",
       "eisenhower    121\n",
       "obama         113\n",
       "fdr            86\n",
       "clinton        82\n",
       "kennedy        53\n",
       "jefferson      42\n",
       "washington     25\n",
       "Name: President, dtype: int64"
      ]
     },
     "execution_count": 9,
     "metadata": {},
     "output_type": "execute_result"
    }
   ],
   "source": [
    "# Rename columns.\n",
    "sent_df.columns = ['sentence', 'President']\n",
    "\n",
    "# Check the count of sents per President.\n",
    "sent_df.President.value_counts()"
   ]
  },
  {
   "cell_type": "code",
   "execution_count": 10,
   "metadata": {
    "ExecuteTime": {
     "end_time": "2019-08-06T02:32:05.218059Z",
     "start_time": "2019-08-06T02:32:05.205486Z"
    }
   },
   "outputs": [],
   "source": [
    "sent_df['sentence'] = sent_df['sentence'].str.replace('-PRON-', '')"
   ]
  },
  {
   "cell_type": "markdown",
   "metadata": {},
   "source": [
    "# Creating Features"
   ]
  },
  {
   "cell_type": "code",
   "execution_count": 11,
   "metadata": {
    "ExecuteTime": {
     "end_time": "2019-08-06T02:32:09.765597Z",
     "start_time": "2019-08-06T02:32:09.757593Z"
    }
   },
   "outputs": [],
   "source": [
    "# Splitting the data.\n",
    "X = sent_df.sentence\n",
    "y = sent_df.President\n",
    "X_train_eval, X_holdout, y_train_eval, y_holdout = train_test_split(\n",
    "    X, y, test_size=0.25, random_state=15)"
   ]
  },
  {
   "cell_type": "code",
   "execution_count": 12,
   "metadata": {
    "ExecuteTime": {
     "end_time": "2019-08-06T02:32:16.306398Z",
     "start_time": "2019-08-06T02:32:16.297246Z"
    }
   },
   "outputs": [],
   "source": [
    "# Splitting into train/eval/holdout groups.\n",
    "X_train, X_eval, y_train, y_eval = train_test_split(\n",
    "    X_train_eval, y_train_eval, test_size=0.25, random_state=15)"
   ]
  },
  {
   "cell_type": "code",
   "execution_count": 13,
   "metadata": {
    "ExecuteTime": {
     "end_time": "2019-08-06T02:32:22.184538Z",
     "start_time": "2019-08-06T02:32:22.177929Z"
    }
   },
   "outputs": [],
   "source": [
    "# Create base parameters dictionary.\n",
    "base_param_dict = {'strip_accents': 'unicode',\n",
    "                   'lowercase': True,\n",
    "                   'stop_words': 'english',\n",
    "                   'ngram_range': (1, 3),\n",
    "                   'max_df': 0.5,\n",
    "                   'min_df': 5,\n",
    "                   'max_features': 1000}"
   ]
  },
  {
   "cell_type": "markdown",
   "metadata": {},
   "source": [
    "## Bag of Words"
   ]
  },
  {
   "cell_type": "code",
   "execution_count": 14,
   "metadata": {
    "ExecuteTime": {
     "end_time": "2019-08-06T02:32:28.815003Z",
     "start_time": "2019-08-06T02:32:28.811861Z"
    }
   },
   "outputs": [],
   "source": [
    "# Instantiate CountVectorizer.\n",
    "bow = CountVectorizer(**base_param_dict)"
   ]
  },
  {
   "cell_type": "code",
   "execution_count": 15,
   "metadata": {
    "ExecuteTime": {
     "end_time": "2019-08-06T02:32:35.569274Z",
     "start_time": "2019-08-06T02:32:35.478399Z"
    }
   },
   "outputs": [],
   "source": [
    "# Convert X_train, X_test into dfs of bags of words.\n",
    "_bow_train = bow.fit_transform(X_train)\n",
    "_bow_eval = bow.transform(X_eval)\n",
    "_bow_holdout = bow.transform(X_holdout)\n",
    "assert len(X_train) == _bow_train.shape[0]  # df and sparse-matrix\n",
    "\n",
    "# Find feature names.\n",
    "feature_names = bow.get_feature_names()\n",
    "\n",
    "# Sparse matrix to data frame.\n",
    "X_train_bow = pd.DataFrame(_bow_train.toarray(), columns=feature_names)\n",
    "X_eval_bow = pd.DataFrame(_bow_eval.toarray(), columns=feature_names)\n",
    "X_holdout_bow = pd.DataFrame(_bow_holdout.toarray(), columns=feature_names)"
   ]
  },
  {
   "cell_type": "code",
   "execution_count": 16,
   "metadata": {
    "ExecuteTime": {
     "end_time": "2019-08-06T02:32:46.815455Z",
     "start_time": "2019-08-06T02:32:46.744308Z"
    }
   },
   "outputs": [
    {
     "data": {
      "text/plain": [
       "231"
      ]
     },
     "execution_count": 16,
     "metadata": {},
     "output_type": "execute_result"
    }
   ],
   "source": [
    "len(feature_names)"
   ]
  },
  {
   "cell_type": "markdown",
   "metadata": {},
   "source": [
    "## Tfidf"
   ]
  },
  {
   "cell_type": "code",
   "execution_count": 17,
   "metadata": {
    "ExecuteTime": {
     "end_time": "2019-08-06T02:32:55.600662Z",
     "start_time": "2019-08-06T02:32:55.596681Z"
    }
   },
   "outputs": [],
   "source": [
    "# Instantiate Tfidf.\n",
    "tfidf = TfidfVectorizer(**base_param_dict)"
   ]
  },
  {
   "cell_type": "code",
   "execution_count": 18,
   "metadata": {
    "ExecuteTime": {
     "end_time": "2019-08-06T02:33:03.763488Z",
     "start_time": "2019-08-06T02:33:03.683079Z"
    }
   },
   "outputs": [],
   "source": [
    "# Convert X_train, X_test into dfs of tfidf values.\n",
    "_tfidf_train = tfidf.fit_transform(X_train)\n",
    "_tfidf_eval = tfidf.transform(X_eval)\n",
    "_tfidf_holdout = tfidf.transform(X_holdout)\n",
    "assert len(X_train) == _tfidf_train.shape[0]  # df and sparse-matrix\n",
    "\n",
    "# Find feature names.\n",
    "feature_names_tfidf = tfidf.get_feature_names()\n",
    "\n",
    "# Set up data frames.\n",
    "X_train_tfidf = pd.DataFrame(\n",
    "    _tfidf_train.toarray(), columns=feature_names_tfidf)\n",
    "X_eval_tfidf = pd.DataFrame(\n",
    "    _tfidf_eval.toarray(), columns=feature_names_tfidf)\n",
    "X_holdout_tfidf = pd.DataFrame(\n",
    "    _tfidf_holdout.toarray(), columns=feature_names_tfidf)"
   ]
  },
  {
   "cell_type": "markdown",
   "metadata": {},
   "source": [
    "# Clustering Models"
   ]
  },
  {
   "cell_type": "code",
   "execution_count": 19,
   "metadata": {
    "ExecuteTime": {
     "end_time": "2019-08-06T02:33:19.994064Z",
     "start_time": "2019-08-06T02:33:19.976898Z"
    }
   },
   "outputs": [
    {
     "name": "stdout",
     "output_type": "stream",
     "text": [
      "526\n"
     ]
    }
   ],
   "source": [
    "# Instantiate MinMaxScaler. Create train/eval/holdout groups.\n",
    "scaler = MinMaxScaler()\n",
    "X_train_tfidf_scaled = pd.DataFrame(scaler.fit_transform(X_train_tfidf))\n",
    "print(len(X_train_tfidf_scaled))\n",
    "X_eval_tfidf_scaled = pd.DataFrame(scaler.transform(X_eval_tfidf))\n",
    "X_holdout_tfidf_scaled = pd.DataFrame(scaler.transform(X_holdout_tfidf))"
   ]
  },
  {
   "cell_type": "code",
   "execution_count": 20,
   "metadata": {
    "ExecuteTime": {
     "end_time": "2019-08-06T02:33:33.732274Z",
     "start_time": "2019-08-06T02:33:33.727600Z"
    }
   },
   "outputs": [],
   "source": [
    "feature_names = X_train_tfidf.columns\n",
    "\n",
    "X_train_tfidf_scaled.columns = feature_names\n",
    "X_eval_tfidf_scaled.columns = feature_names\n",
    "X_holdout_tfidf_scaled.columns = feature_names"
   ]
  },
  {
   "cell_type": "code",
   "execution_count": 21,
   "metadata": {
    "ExecuteTime": {
     "end_time": "2019-08-06T02:34:04.346298Z",
     "start_time": "2019-08-06T02:33:58.226793Z"
    }
   },
   "outputs": [
    {
     "name": "stdout",
     "output_type": "stream",
     "text": [
      "KMeans(algorithm='auto', copy_x=True, init='k-means++', max_iter=300,\n",
      "    n_clusters=2, n_init=10, n_jobs=None, precompute_distances='auto',\n",
      "    random_state=42, tol=0.0001, verbose=0)\n",
      "clusters: 2\t silhouette: 0.06326433706790946\n",
      "\n",
      "KMeans \n",
      " col_0   0    1\n",
      "row_0         \n",
      "0      30    0\n",
      "1       0  496 \n",
      "\n",
      "MiniBatchKMeans(batch_size=500, compute_labels=True, init='random',\n",
      "        init_size=None, max_iter=100, max_no_improvement=10, n_clusters=2,\n",
      "        n_init=3, random_state=None, reassignment_ratio=0.01, tol=0.0,\n",
      "        verbose=0)\n",
      "clusters: 2\t silhouette: 0.03941501150911587\n",
      "\n",
      "MiniBatch \n",
      " col_0    0   1\n",
      "row_0         \n",
      "0      460  58\n",
      "1        8   0 \n",
      "\n",
      "SpectralClustering(affinity='rbf', assign_labels='kmeans', coef0=1, degree=3,\n",
      "          eigen_solver=None, eigen_tol=0.0, gamma=1.0, kernel_params=None,\n",
      "          n_clusters=2, n_init=10, n_jobs=None, n_neighbors=10,\n",
      "          random_state=None)\n",
      "clusters: 2\t silhouette: 0.12603026347952262\n",
      "\n",
      "Spectral \n",
      " col_0    0  1\n",
      "row_0        \n",
      "0      522  0\n",
      "1        0  4 \n",
      "\n",
      "KMeans(algorithm='auto', copy_x=True, init='k-means++', max_iter=300,\n",
      "    n_clusters=3, n_init=10, n_jobs=None, precompute_distances='auto',\n",
      "    random_state=42, tol=0.0001, verbose=0)\n",
      "clusters: 3\t silhouette: 0.05040056643331391\n",
      "\n",
      "KMeans \n",
      " col_0   0   1    2\n",
      "row_0             \n",
      "0      44   0    0\n",
      "1       0  30    0\n",
      "2       0   0  452 \n",
      "\n",
      "MiniBatchKMeans(batch_size=500, compute_labels=True, init='random',\n",
      "        init_size=None, max_iter=100, max_no_improvement=10, n_clusters=3,\n",
      "        n_init=3, random_state=None, reassignment_ratio=0.01, tol=0.0,\n",
      "        verbose=0)\n",
      "clusters: 3\t silhouette: 0.06267935622255583\n",
      "\n",
      "MiniBatch \n",
      " col_0   0    1   2\n",
      "row_0             \n",
      "0      26  437  11\n",
      "1       3   33   0\n",
      "2       0   16   0 \n",
      "\n",
      "SpectralClustering(affinity='rbf', assign_labels='kmeans', coef0=1, degree=3,\n",
      "          eigen_solver=None, eigen_tol=0.0, gamma=1.0, kernel_params=None,\n",
      "          n_clusters=3, n_init=10, n_jobs=None, n_neighbors=10,\n",
      "          random_state=None)\n",
      "clusters: 3\t silhouette: 0.12309175700015311\n",
      "\n",
      "Spectral \n",
      " col_0    0  1  2\n",
      "row_0           \n",
      "0      517  0  0\n",
      "1        0  0  5\n",
      "2        0  4  0 \n",
      "\n",
      "KMeans(algorithm='auto', copy_x=True, init='k-means++', max_iter=300,\n",
      "    n_clusters=4, n_init=10, n_jobs=None, precompute_distances='auto',\n",
      "    random_state=42, tol=0.0001, verbose=0)\n",
      "clusters: 4\t silhouette: 0.006894827768266555\n",
      "\n",
      "KMeans \n",
      " col_0   0    1   2   3\n",
      "row_0                 \n",
      "0      35    0   0   0\n",
      "1       0  440   0   0\n",
      "2       0    0  22   0\n",
      "3       0    0   0  29 \n",
      "\n",
      "MiniBatchKMeans(batch_size=500, compute_labels=True, init='random',\n",
      "        init_size=None, max_iter=100, max_no_improvement=10, n_clusters=4,\n",
      "        n_init=3, random_state=None, reassignment_ratio=0.01, tol=0.0,\n",
      "        verbose=0)\n",
      "clusters: 4\t silhouette: 0.058481404121417745\n",
      "\n",
      "MiniBatch \n",
      " col_0    0   1  2   3\n",
      "row_0                \n",
      "0       58   3  0   5\n",
      "1      383  10  6  20\n",
      "2       17   3  4   0\n",
      "3       17   0  0   0 \n",
      "\n",
      "SpectralClustering(affinity='rbf', assign_labels='kmeans', coef0=1, degree=3,\n",
      "          eigen_solver=None, eigen_tol=0.0, gamma=1.0, kernel_params=None,\n",
      "          n_clusters=4, n_init=10, n_jobs=None, n_neighbors=10,\n",
      "          random_state=None)\n",
      "clusters: 4\t silhouette: 0.06434700620296026\n",
      "\n",
      "Spectral \n",
      " col_0    0  1  2   3\n",
      "row_0               \n",
      "0      490  0  0   0\n",
      "1        0  5  0   0\n",
      "2        0  0  4   0\n",
      "3        0  0  0  27 \n",
      "\n",
      "KMeans(algorithm='auto', copy_x=True, init='k-means++', max_iter=300,\n",
      "    n_clusters=5, n_init=10, n_jobs=None, precompute_distances='auto',\n",
      "    random_state=42, tol=0.0001, verbose=0)\n",
      "clusters: 5\t silhouette: 0.02093095433250789\n",
      "\n",
      "KMeans \n",
      " col_0    0   1   2   3   4\n",
      "row_0                     \n",
      "0      429   0   0   0   0\n",
      "1        0  32   0   0   0\n",
      "2        0   0  28   0   0\n",
      "3        0   0   0  27   0\n",
      "4        0   0   0   0  10 \n",
      "\n",
      "MiniBatchKMeans(batch_size=500, compute_labels=True, init='random',\n",
      "        init_size=None, max_iter=100, max_no_improvement=10, n_clusters=5,\n",
      "        n_init=3, random_state=None, reassignment_ratio=0.01, tol=0.0,\n",
      "        verbose=0)\n",
      "clusters: 5\t silhouette: 0.002630734100665513\n",
      "\n",
      "MiniBatch \n",
      " col_0   0   1   2   3    4\n",
      "row_0                     \n",
      "0       0   0   0   0   13\n",
      "1       1   1   0   0   10\n",
      "2       2   2   1   3   56\n",
      "3       1   0   0   0   16\n",
      "4      23  24  12  14  347 \n",
      "\n",
      "SpectralClustering(affinity='rbf', assign_labels='kmeans', coef0=1, degree=3,\n",
      "          eigen_solver=None, eigen_tol=0.0, gamma=1.0, kernel_params=None,\n",
      "          n_clusters=5, n_init=10, n_jobs=None, n_neighbors=10,\n",
      "          random_state=None)\n",
      "clusters: 5\t silhouette: 0.06444628317868345\n",
      "\n",
      "Spectral \n",
      " col_0    0  1  2   3  4\n",
      "row_0                  \n",
      "0      481  0  0   0  1\n",
      "1        0  0  4   0  0\n",
      "2        0  5  0   0  0\n",
      "3        0  0  0   0  8\n",
      "4        0  0  0  27  0 \n",
      "\n",
      "KMeans(algorithm='auto', copy_x=True, init='k-means++', max_iter=300,\n",
      "    n_clusters=6, n_init=10, n_jobs=None, precompute_distances='auto',\n",
      "    random_state=42, tol=0.0001, verbose=0)\n",
      "clusters: 6\t silhouette: 0.03229577538458712\n",
      "\n",
      "KMeans \n",
      " col_0  0    1   2   3   4   5\n",
      "row_0                        \n",
      "0      5    0   0   0   0   0\n",
      "1      0  431   0   0   0   0\n",
      "2      0    0  28   0   0   0\n",
      "3      0    0   0  13   0   0\n",
      "4      0    0   0   0  19   0\n",
      "5      0    0   0   0   0  30 \n",
      "\n",
      "MiniBatchKMeans(batch_size=500, compute_labels=True, init='random',\n",
      "        init_size=None, max_iter=100, max_no_improvement=10, n_clusters=6,\n",
      "        n_init=3, random_state=None, reassignment_ratio=0.01, tol=0.0,\n",
      "        verbose=0)\n",
      "clusters: 6\t silhouette: 0.035037215381514414\n",
      "\n",
      "MiniBatch \n",
      " col_0  0   1   2    3  4   5\n",
      "row_0                       \n",
      "0      0   1   0   16  0   1\n",
      "1      3  25   0    1  0   2\n",
      "2      3  21  24  331  1  28\n",
      "3      0   0   0   10  1   1\n",
      "4      0   1   1   45  0   6\n",
      "5      1   0   0    3  0   0 \n",
      "\n",
      "SpectralClustering(affinity='rbf', assign_labels='kmeans', coef0=1, degree=3,\n",
      "          eigen_solver=None, eigen_tol=0.0, gamma=1.0, kernel_params=None,\n",
      "          n_clusters=6, n_init=10, n_jobs=None, n_neighbors=10,\n",
      "          random_state=None)\n",
      "KMeans(algorithm='auto', copy_x=True, init='k-means++', max_iter=300,\n",
      "    n_clusters=7, n_init=10, n_jobs=None, precompute_distances='auto',\n",
      "    random_state=42, tol=0.0001, verbose=0)\n",
      "clusters: 7\t silhouette: 0.010327850077073946\n",
      "\n",
      "KMeans \n",
      " col_0   0    1   2   3   4   5   6\n",
      "row_0                             \n",
      "0      21    0   0   0   0   0   0\n",
      "1       0  410   0   0   0   0   0\n",
      "2       0    0  18   0   0   0   0\n",
      "3       0    0   0  21   0   0   0\n",
      "4       0    0   0   0  10   0   0\n",
      "5       0    0   0   0   0  28   0\n",
      "6       0    0   0   0   0   0  18 \n",
      "\n",
      "MiniBatchKMeans(batch_size=500, compute_labels=True, init='random',\n",
      "        init_size=None, max_iter=100, max_no_improvement=10, n_clusters=7,\n",
      "        n_init=3, random_state=None, reassignment_ratio=0.01, tol=0.0,\n",
      "        verbose=0)\n",
      "SpectralClustering(affinity='rbf', assign_labels='kmeans', coef0=1, degree=3,\n",
      "          eigen_solver=None, eigen_tol=0.0, gamma=1.0, kernel_params=None,\n",
      "          n_clusters=7, n_init=10, n_jobs=None, n_neighbors=10,\n",
      "          random_state=None)\n",
      "KMeans(algorithm='auto', copy_x=True, init='k-means++', max_iter=300,\n",
      "    n_clusters=8, n_init=10, n_jobs=None, precompute_distances='auto',\n",
      "    random_state=42, tol=0.0001, verbose=0)\n",
      "clusters: 8\t silhouette: 0.0007987590954423073\n",
      "\n",
      "KMeans \n",
      " col_0   0   1   2    3   4   5   6   7\n",
      "row_0                                 \n",
      "0      19   0   0    0   0   0   0   0\n",
      "1       0  13   0    0   0   0   0   0\n",
      "2       0   0  28    0   0   0   0   0\n",
      "3       0   0   0  400   0   0   0   0\n",
      "4       0   0   0    0  16   0   0   0\n",
      "5       0   0   0    0   0  12   0   0\n",
      "6       0   0   0    0   0   0  27   0\n",
      "7       0   0   0    0   0   0   0  11 \n",
      "\n",
      "MiniBatchKMeans(batch_size=500, compute_labels=True, init='random',\n",
      "        init_size=None, max_iter=100, max_no_improvement=10, n_clusters=8,\n",
      "        n_init=3, random_state=None, reassignment_ratio=0.01, tol=0.0,\n",
      "        verbose=0)\n",
      "clusters: 8\t silhouette: 0.06412657768288874\n",
      "\n",
      "MiniBatch \n",
      " col_0    0  1   2   3  4   5  6  7\n",
      "row_0                             \n",
      "0        5  0   0   0  0   0  3  0\n",
      "1        1  0   0   0  1  28  0  0\n",
      "2       17  1   0   0  1   0  0  0\n",
      "3       29  1   0   2  1   0  0  0\n",
      "4       24  0   0   0  0   0  0  0\n",
      "5       44  0   2   0  1   0  0  1\n",
      "6      312  3  13  13  6   0  0  0\n",
      "7       12  0   0   2  2   0  0  1 \n",
      "\n"
     ]
    },
    {
     "name": "stdout",
     "output_type": "stream",
     "text": [
      "SpectralClustering(affinity='rbf', assign_labels='kmeans', coef0=1, degree=3,\n",
      "          eigen_solver=None, eigen_tol=0.0, gamma=1.0, kernel_params=None,\n",
      "          n_clusters=8, n_init=10, n_jobs=None, n_neighbors=10,\n",
      "          random_state=None)\n",
      "KMeans(algorithm='auto', copy_x=True, init='k-means++', max_iter=300,\n",
      "    n_clusters=9, n_init=10, n_jobs=None, precompute_distances='auto',\n",
      "    random_state=42, tol=0.0001, verbose=0)\n",
      "clusters: 9\t silhouette: 0.007891566303634773\n",
      "\n",
      "KMeans \n",
      " col_0  0   1   2   3   4    5   6   7   8\n",
      "row_0                                    \n",
      "0      3   0   0   0   0    0   0   0   0\n",
      "1      0  30   0   0   0    0   0   0   0\n",
      "2      0   0  20   0   0    0   0   0   0\n",
      "3      0   0   0  38   0    0   0   0   0\n",
      "4      0   0   0   0  10    0   0   0   0\n",
      "5      0   0   0   0   0  345   0   0   0\n",
      "6      0   0   0   0   0    0  26   0   0\n",
      "7      0   0   0   0   0    0   0  23   0\n",
      "8      0   0   0   0   0    0   0   0  31 \n",
      "\n",
      "MiniBatchKMeans(batch_size=500, compute_labels=True, init='random',\n",
      "        init_size=None, max_iter=100, max_no_improvement=10, n_clusters=9,\n",
      "        n_init=3, random_state=None, reassignment_ratio=0.01, tol=0.0,\n",
      "        verbose=0)\n",
      "clusters: 9\t silhouette: 0.011111579368830464\n",
      "\n",
      "MiniBatch \n",
      " col_0   0  1  2   3   4  5   6    7  8\n",
      "row_0                                 \n",
      "0       0  0  0   0   1  1   0   10  0\n",
      "1       1  0  0   1   3  0   4   10  1\n",
      "2       0  1  0   0   0  0   0   13  0\n",
      "3       3  0  0   0   0  0   0    4  0\n",
      "4      30  8  1  14  13  5  16  356  4\n",
      "5       0  0  0   0   0  0   0    1  0\n",
      "6       0  0  0   0   0  0   1    3  0\n",
      "7       1  1  0   3   1  0   0   10  0\n",
      "8       0  0  0   0   0  0   0    5  0 \n",
      "\n",
      "SpectralClustering(affinity='rbf', assign_labels='kmeans', coef0=1, degree=3,\n",
      "          eigen_solver=None, eigen_tol=0.0, gamma=1.0, kernel_params=None,\n",
      "          n_clusters=9, n_init=10, n_jobs=None, n_neighbors=10,\n",
      "          random_state=None)\n",
      "clusters: 9\t silhouette: 0.004517480213368023\n",
      "\n",
      "Spectral \n",
      " col_0   0   1  2  3   4  5   6    7   8\n",
      "row_0                                  \n",
      "0      48   0  0  0   0  0   0    0   2\n",
      "1       1   5  0  0   0  0   0  337   2\n",
      "2       0   0  5  0   0  0   0    0   0\n",
      "3       0   0  0  4   0  0   0    0   0\n",
      "4       0   0  0  0   0  7   0   13   0\n",
      "5       0   0  0  0   0  2   0    0   0\n",
      "6       0   0  0  0   0  0  27    0   0\n",
      "7       0   0  0  0  38  0   0    0   0\n",
      "8       0  23  0  0   0  0   0    1  11 \n",
      "\n",
      "KMeans(algorithm='auto', copy_x=True, init='k-means++', max_iter=300,\n",
      "    n_clusters=10, n_init=10, n_jobs=None, precompute_distances='auto',\n",
      "    random_state=42, tol=0.0001, verbose=0)\n",
      "clusters: 10\t silhouette: 0.03141642841145722\n",
      "\n",
      "KMeans \n",
      " col_0  0   1    2  3   4   5   6   7   8   9\n",
      "row_0                                       \n",
      "0      8   0    0  0   0   0   0   0   0   0\n",
      "1      0  24    0  0   0   0   0   0   0   0\n",
      "2      0   0  279  0   0   0   0   0   0   0\n",
      "3      0   0    0  6   0   0   0   0   0   0\n",
      "4      0   0    0  0  75   0   0   0   0   0\n",
      "5      0   0    0  0   0  14   0   0   0   0\n",
      "6      0   0    0  0   0   0  48   0   0   0\n",
      "7      0   0    0  0   0   0   0  13   0   0\n",
      "8      0   0    0  0   0   0   0   0  27   0\n",
      "9      0   0    0  0   0   0   0   0   0  32 \n",
      "\n",
      "MiniBatchKMeans(batch_size=500, compute_labels=True, init='random',\n",
      "        init_size=None, max_iter=100, max_no_improvement=10, n_clusters=10,\n",
      "        n_init=3, random_state=None, reassignment_ratio=0.01, tol=0.0,\n",
      "        verbose=0)\n",
      "SpectralClustering(affinity='rbf', assign_labels='kmeans', coef0=1, degree=3,\n",
      "          eigen_solver=None, eigen_tol=0.0, gamma=1.0, kernel_params=None,\n",
      "          n_clusters=10, n_init=10, n_jobs=None, n_neighbors=10,\n",
      "          random_state=None)\n",
      "clusters: 10\t silhouette: 0.003784579431577381\n",
      "\n",
      "Spectral \n",
      " col_0   0  1    2  3   4  5   6   7   8  9\n",
      "row_0                                     \n",
      "0      14  0  328  0   0  0   0   0   1  4\n",
      "1       0  0    4  0   0  0  24   0   0  0\n",
      "2       0  0    0  0   0  2   0   0   0  0\n",
      "3       0  0    0  0   0  0   0   0  47  1\n",
      "4       0  5    0  0   0  0   0   0   0  0\n",
      "5       0  0    0  4   0  0   0   0   0  0\n",
      "6       0  0    0  0  25  0   0   0   0  0\n",
      "7       0  0   13  0   0  7   0   0   0  0\n",
      "8       0  0    0  0   0  0   0   0   0  9\n",
      "9       0  0    2  0   0  0   0  36   0  0 \n",
      "\n"
     ]
    }
   ],
   "source": [
    "# Clustering models\n",
    "models = []\n",
    "names = []\n",
    "plot_nums = []\n",
    "silhouettes = []\n",
    "clust = []\n",
    "\n",
    "for clusters in range(2,11):\n",
    "    bandwidth = estimate_bandwidth(\n",
    "        X_train_tfidf_scaled, quantile=0.2, n_samples=500)\n",
    "    models.append((0, 'KMeans', KMeans(n_clusters=clusters,\n",
    "                                   init='k-means++', random_state=42)))\n",
    "    models.append((1, 'MiniBatch', MiniBatchKMeans(\n",
    "        init='random', n_clusters=clusters, batch_size=500)))\n",
    "    #models.append((2, 'MeanShift', MeanShift(\n",
    "        #bandwidth=bandwidth, bin_seeding=True)))\n",
    "    models.append((2, 'Spectral', SpectralClustering(n_clusters=clusters)))\n",
    "    #models.append((4, 'Affinity', AffinityPropagation()))\n",
    "    \n",
    "for _, name, model in models:\n",
    "    names.append(name)\n",
    "    model.fit(X_train_tfidf_scaled)\n",
    "    labels = model.labels_\n",
    "    print(model)\n",
    "    if len(set(labels)) > 1:\n",
    "        ypred = model.fit_predict(X_train_tfidf_scaled)\n",
    "        silhouette = metrics.silhouette_score(\n",
    "            X_train_tfidf_scaled, labels, metric='euclidean')\n",
    "        silhouettes.append(silhouette)\n",
    "        #ax[plot_num].set_title(name)\n",
    "        #plotting(plot_num, labels, ypred)\n",
    "        if silhouette > 0:\n",
    "            print('clusters: {}\\t silhouette: {}\\n'.format(\n",
    "                model.n_clusters, silhouette))\n",
    "            print(name, '\\n', pd.crosstab(ypred, labels), '\\n')"
   ]
  },
  {
   "cell_type": "code",
   "execution_count": 22,
   "metadata": {
    "ExecuteTime": {
     "end_time": "2019-08-06T02:35:02.467808Z",
     "start_time": "2019-08-06T02:35:02.340645Z"
    },
    "run_control": {
     "marked": false
    }
   },
   "outputs": [],
   "source": [
    "# Re-run KMeans and extract cluster information.\n",
    "model = KMeans(n_clusters=4, random_state=42).fit(X_train_tfidf_scaled)\n",
    "\n",
    "# Extract cluster assignments for each data point.\n",
    "labels = model.labels_\n",
    "\n",
    "X_train_tfidf_scaled['clusters'] = labels"
   ]
  },
  {
   "cell_type": "code",
   "execution_count": 23,
   "metadata": {
    "ExecuteTime": {
     "end_time": "2019-08-06T02:35:18.495213Z",
     "start_time": "2019-08-06T02:35:18.486732Z"
    }
   },
   "outputs": [],
   "source": [
    "X_eval_labels = model.predict(X_eval_tfidf_scaled)"
   ]
  },
  {
   "cell_type": "code",
   "execution_count": 24,
   "metadata": {
    "ExecuteTime": {
     "end_time": "2019-08-06T02:35:32.086177Z",
     "start_time": "2019-08-06T02:35:32.078332Z"
    }
   },
   "outputs": [],
   "source": [
    "X_holdout_labels = model.predict(X_holdout_tfidf_scaled)"
   ]
  },
  {
   "cell_type": "code",
   "execution_count": 25,
   "metadata": {
    "ExecuteTime": {
     "end_time": "2019-08-06T02:35:45.640344Z",
     "start_time": "2019-08-06T02:35:45.633787Z"
    }
   },
   "outputs": [],
   "source": [
    "X_eval_tfidf_scaled['clusters'] = X_eval_labels"
   ]
  },
  {
   "cell_type": "code",
   "execution_count": 26,
   "metadata": {
    "ExecuteTime": {
     "end_time": "2019-08-06T02:35:59.987386Z",
     "start_time": "2019-08-06T02:35:59.983852Z"
    }
   },
   "outputs": [],
   "source": [
    "X_holdout_tfidf_scaled['clusters'] = X_holdout_labels"
   ]
  },
  {
   "cell_type": "code",
   "execution_count": 27,
   "metadata": {
    "ExecuteTime": {
     "end_time": "2019-08-06T02:36:12.941931Z",
     "start_time": "2019-08-06T02:36:12.906340Z"
    }
   },
   "outputs": [
    {
     "data": {
      "text/html": [
       "<div>\n",
       "<style scoped>\n",
       "    .dataframe tbody tr th:only-of-type {\n",
       "        vertical-align: middle;\n",
       "    }\n",
       "\n",
       "    .dataframe tbody tr th {\n",
       "        vertical-align: top;\n",
       "    }\n",
       "\n",
       "    .dataframe thead th {\n",
       "        text-align: right;\n",
       "    }\n",
       "</style>\n",
       "<table border=\"1\" class=\"dataframe\">\n",
       "  <thead>\n",
       "    <tr style=\"text-align: right;\">\n",
       "      <th></th>\n",
       "      <th>clusters</th>\n",
       "      <th>act</th>\n",
       "      <th>action</th>\n",
       "      <th>administration</th>\n",
       "      <th>america</th>\n",
       "      <th>american</th>\n",
       "      <th>american people</th>\n",
       "      <th>americans</th>\n",
       "      <th>ask</th>\n",
       "      <th>authority</th>\n",
       "      <th>...</th>\n",
       "      <th>way</th>\n",
       "      <th>willing</th>\n",
       "      <th>wish</th>\n",
       "      <th>woman</th>\n",
       "      <th>word</th>\n",
       "      <th>work</th>\n",
       "      <th>world</th>\n",
       "      <th>write</th>\n",
       "      <th>year</th>\n",
       "      <th>young</th>\n",
       "    </tr>\n",
       "  </thead>\n",
       "  <tbody>\n",
       "    <tr>\n",
       "      <th>0</th>\n",
       "      <td>0</td>\n",
       "      <td>0.000</td>\n",
       "      <td>0.035</td>\n",
       "      <td>0.000</td>\n",
       "      <td>0.030</td>\n",
       "      <td>0.000</td>\n",
       "      <td>0.000</td>\n",
       "      <td>0.012</td>\n",
       "      <td>0.012</td>\n",
       "      <td>0.000</td>\n",
       "      <td>...</td>\n",
       "      <td>0.000</td>\n",
       "      <td>0.000</td>\n",
       "      <td>0.000</td>\n",
       "      <td>0.151</td>\n",
       "      <td>0.240</td>\n",
       "      <td>0.000</td>\n",
       "      <td>0.038</td>\n",
       "      <td>0.022</td>\n",
       "      <td>0.034</td>\n",
       "      <td>0.023</td>\n",
       "    </tr>\n",
       "    <tr>\n",
       "      <th>1</th>\n",
       "      <td>1</td>\n",
       "      <td>0.012</td>\n",
       "      <td>0.012</td>\n",
       "      <td>0.009</td>\n",
       "      <td>0.018</td>\n",
       "      <td>0.012</td>\n",
       "      <td>0.007</td>\n",
       "      <td>0.017</td>\n",
       "      <td>0.011</td>\n",
       "      <td>0.013</td>\n",
       "      <td>...</td>\n",
       "      <td>0.012</td>\n",
       "      <td>0.007</td>\n",
       "      <td>0.008</td>\n",
       "      <td>0.000</td>\n",
       "      <td>0.001</td>\n",
       "      <td>0.020</td>\n",
       "      <td>0.028</td>\n",
       "      <td>0.010</td>\n",
       "      <td>0.012</td>\n",
       "      <td>0.007</td>\n",
       "    </tr>\n",
       "    <tr>\n",
       "      <th>2</th>\n",
       "      <td>2</td>\n",
       "      <td>0.000</td>\n",
       "      <td>0.000</td>\n",
       "      <td>0.000</td>\n",
       "      <td>0.018</td>\n",
       "      <td>0.000</td>\n",
       "      <td>0.000</td>\n",
       "      <td>0.000</td>\n",
       "      <td>0.000</td>\n",
       "      <td>0.000</td>\n",
       "      <td>...</td>\n",
       "      <td>0.000</td>\n",
       "      <td>0.044</td>\n",
       "      <td>0.000</td>\n",
       "      <td>0.000</td>\n",
       "      <td>0.000</td>\n",
       "      <td>0.020</td>\n",
       "      <td>0.014</td>\n",
       "      <td>0.000</td>\n",
       "      <td>0.000</td>\n",
       "      <td>0.000</td>\n",
       "    </tr>\n",
       "    <tr>\n",
       "      <th>3</th>\n",
       "      <td>3</td>\n",
       "      <td>0.000</td>\n",
       "      <td>0.000</td>\n",
       "      <td>0.000</td>\n",
       "      <td>0.000</td>\n",
       "      <td>0.019</td>\n",
       "      <td>0.023</td>\n",
       "      <td>0.028</td>\n",
       "      <td>0.000</td>\n",
       "      <td>0.000</td>\n",
       "      <td>...</td>\n",
       "      <td>0.000</td>\n",
       "      <td>0.000</td>\n",
       "      <td>0.020</td>\n",
       "      <td>0.000</td>\n",
       "      <td>0.019</td>\n",
       "      <td>0.009</td>\n",
       "      <td>0.029</td>\n",
       "      <td>0.000</td>\n",
       "      <td>0.000</td>\n",
       "      <td>0.044</td>\n",
       "    </tr>\n",
       "  </tbody>\n",
       "</table>\n",
       "<p>4 rows × 232 columns</p>\n",
       "</div>"
      ],
      "text/plain": [
       "   clusters   act  action  administration  america  american  american people  \\\n",
       "0         0 0.000   0.035           0.000    0.030     0.000            0.000   \n",
       "1         1 0.012   0.012           0.009    0.018     0.012            0.007   \n",
       "2         2 0.000   0.000           0.000    0.018     0.000            0.000   \n",
       "3         3 0.000   0.000           0.000    0.000     0.019            0.023   \n",
       "\n",
       "   americans   ask  authority  ...   way  willing  wish  woman  word  work  \\\n",
       "0      0.012 0.012      0.000  ... 0.000    0.000 0.000  0.151 0.240 0.000   \n",
       "1      0.017 0.011      0.013  ... 0.012    0.007 0.008  0.000 0.001 0.020   \n",
       "2      0.000 0.000      0.000  ... 0.000    0.044 0.000  0.000 0.000 0.020   \n",
       "3      0.028 0.000      0.000  ... 0.000    0.000 0.020  0.000 0.019 0.009   \n",
       "\n",
       "   world  write  year  young  \n",
       "0  0.038  0.022 0.034  0.023  \n",
       "1  0.028  0.010 0.012  0.007  \n",
       "2  0.014  0.000 0.000  0.000  \n",
       "3  0.029  0.000 0.000  0.044  \n",
       "\n",
       "[4 rows x 232 columns]"
      ]
     },
     "execution_count": 27,
     "metadata": {},
     "output_type": "execute_result"
    }
   ],
   "source": [
    "X_train_tfidf_clusters = X_train_tfidf_scaled.groupby(\n",
    "    ['clusters'], as_index=False).mean()\n",
    "X_train_tfidf_clusters"
   ]
  },
  {
   "cell_type": "code",
   "execution_count": 28,
   "metadata": {
    "ExecuteTime": {
     "end_time": "2019-08-06T02:36:28.282342Z",
     "start_time": "2019-08-06T02:36:28.271718Z"
    }
   },
   "outputs": [
    {
     "data": {
      "text/plain": [
       "man         0.343\n",
       "word        0.240\n",
       "woman       0.151\n",
       "man woman   0.131\n",
       "free        0.115\n",
       "free man    0.105\n",
       "say         0.063\n",
       "moment      0.062\n",
       "country     0.052\n",
       "deny        0.050\n",
       "dtype: float64"
      ]
     },
     "execution_count": 28,
     "metadata": {},
     "output_type": "execute_result"
    }
   ],
   "source": [
    "cluster0_train = X_train_tfidf_scaled[X_train_tfidf_scaled['clusters'] == 0]\n",
    "cluster0_train.mean().sort_values(ascending=False)[:10]"
   ]
  },
  {
   "cell_type": "code",
   "execution_count": 29,
   "metadata": {
    "ExecuteTime": {
     "end_time": "2019-08-06T02:36:44.930594Z",
     "start_time": "2019-08-06T02:36:44.919968Z"
    }
   },
   "outputs": [
    {
     "data": {
      "text/plain": [
       "man              0.521\n",
       "man woman        0.296\n",
       "woman            0.296\n",
       "law              0.252\n",
       "faith            0.230\n",
       "moral            0.147\n",
       "fellow citizen   0.128\n",
       "say              0.125\n",
       "liberty          0.118\n",
       "rule             0.115\n",
       "dtype: float64"
      ]
     },
     "execution_count": 29,
     "metadata": {},
     "output_type": "execute_result"
    }
   ],
   "source": [
    "cluster0_eval = X_eval_tfidf_scaled[X_eval_tfidf_scaled['clusters'] == 0]\n",
    "cluster0_eval.mean().sort_values(ascending=False)[:10]"
   ]
  },
  {
   "cell_type": "code",
   "execution_count": 30,
   "metadata": {
    "ExecuteTime": {
     "end_time": "2019-08-06T02:36:59.677906Z",
     "start_time": "2019-08-06T02:36:59.668313Z"
    }
   },
   "outputs": [
    {
     "data": {
      "text/plain": [
       "people         0.035\n",
       "make           0.029\n",
       "world          0.028\n",
       "government     0.027\n",
       "constitution   0.026\n",
       "let            0.025\n",
       "power          0.025\n",
       "nation         0.024\n",
       "today          0.024\n",
       "good           0.024\n",
       "dtype: float64"
      ]
     },
     "execution_count": 30,
     "metadata": {},
     "output_type": "execute_result"
    }
   ],
   "source": [
    "cluster1_train = X_train_tfidf_scaled[X_train_tfidf_scaled['clusters'] == 1]\n",
    "cluster1_train.mean().sort_values(ascending=False)[1:11]"
   ]
  },
  {
   "cell_type": "code",
   "execution_count": 31,
   "metadata": {
    "ExecuteTime": {
     "end_time": "2019-08-06T02:37:18.056516Z",
     "start_time": "2019-08-06T02:37:18.046598Z"
    }
   },
   "outputs": [
    {
     "data": {
      "text/plain": [
       "national    0.049\n",
       "principle   0.048\n",
       "states      0.043\n",
       "today       0.035\n",
       "new         0.031\n",
       "great       0.030\n",
       "peace       0.030\n",
       "work        0.029\n",
       "way         0.027\n",
       "union       0.027\n",
       "dtype: float64"
      ]
     },
     "execution_count": 31,
     "metadata": {},
     "output_type": "execute_result"
    }
   ],
   "source": [
    "cluster1_eval = X_eval_tfidf_scaled[X_eval_tfidf_scaled['clusters'] == 1]\n",
    "cluster1_eval.mean().sort_values(ascending=False)[1:11]"
   ]
  },
  {
   "cell_type": "code",
   "execution_count": 32,
   "metadata": {
    "ExecuteTime": {
     "end_time": "2019-08-06T02:37:36.025317Z",
     "start_time": "2019-08-06T02:37:36.014398Z"
    }
   },
   "outputs": [
    {
     "data": {
      "text/plain": [
       "hand       0.327\n",
       "offer      0.171\n",
       "thing      0.164\n",
       "peace      0.096\n",
       "material   0.082\n",
       "strong     0.081\n",
       "life       0.050\n",
       "power      0.050\n",
       "new        0.048\n",
       "liberty    0.045\n",
       "dtype: float64"
      ]
     },
     "execution_count": 32,
     "metadata": {},
     "output_type": "execute_result"
    }
   ],
   "source": [
    "cluster2_train = X_train_tfidf_scaled[X_train_tfidf_scaled['clusters'] == 2]\n",
    "cluster2_train.mean().sort_values(ascending=False)[1:11]"
   ]
  },
  {
   "cell_type": "code",
   "execution_count": 33,
   "metadata": {
    "ExecuteTime": {
     "end_time": "2019-08-06T02:37:53.729399Z",
     "start_time": "2019-08-06T02:37:53.719021Z"
    }
   },
   "outputs": [
    {
     "data": {
      "text/plain": [
       "hand        0.455\n",
       "majority    0.364\n",
       "leader      0.279\n",
       "form        0.185\n",
       "hold        0.150\n",
       "heart       0.140\n",
       "material    0.130\n",
       "trust       0.125\n",
       "value       0.125\n",
       "political   0.119\n",
       "dtype: float64"
      ]
     },
     "execution_count": 33,
     "metadata": {},
     "output_type": "execute_result"
    }
   ],
   "source": [
    "cluster2_eval = X_eval_tfidf_scaled[X_eval_tfidf_scaled['clusters'] == 2]\n",
    "cluster2_eval.mean().sort_values(ascending=False)[1:11]"
   ]
  },
  {
   "cell_type": "code",
   "execution_count": 34,
   "metadata": {
    "ExecuteTime": {
     "end_time": "2019-08-06T02:38:10.433389Z",
     "start_time": "2019-08-06T02:38:10.423053Z"
    }
   },
   "outputs": [
    {
     "data": {
      "text/plain": [
       "time         0.680\n",
       "live         0.115\n",
       "change       0.087\n",
       "government   0.065\n",
       "nation       0.064\n",
       "history      0.061\n",
       "courage      0.057\n",
       "meet         0.049\n",
       "country      0.049\n",
       "congress     0.047\n",
       "dtype: float64"
      ]
     },
     "execution_count": 34,
     "metadata": {},
     "output_type": "execute_result"
    }
   ],
   "source": [
    "cluster3_train = X_train_tfidf_scaled[X_train_tfidf_scaled['clusters'] == 3]\n",
    "cluster3_train.mean().sort_values(ascending=False)[1:11]"
   ]
  },
  {
   "cell_type": "code",
   "execution_count": 35,
   "metadata": {
    "ExecuteTime": {
     "end_time": "2019-08-06T02:38:35.556434Z",
     "start_time": "2019-08-06T02:38:35.546014Z"
    }
   },
   "outputs": [
    {
     "data": {
      "text/plain": [
       "time         1.085\n",
       "speak        0.266\n",
       "future       0.220\n",
       "right        0.185\n",
       "form         0.000\n",
       "great        0.000\n",
       "government   0.000\n",
       "good         0.000\n",
       "god          0.000\n",
       "generation   0.000\n",
       "dtype: float64"
      ]
     },
     "execution_count": 35,
     "metadata": {},
     "output_type": "execute_result"
    }
   ],
   "source": [
    "cluster3_eval = X_eval_tfidf_scaled[X_eval_tfidf_scaled['clusters'] == 3]\n",
    "cluster3_eval.mean().sort_values(ascending=False)[1:11]"
   ]
  },
  {
   "cell_type": "markdown",
   "metadata": {
    "ExecuteTime": {
     "end_time": "2019-08-03T20:20:36.652787Z",
     "start_time": "2019-08-03T20:20:36.547143Z"
    }
   },
   "source": [
    "# Neural Network"
   ]
  },
  {
   "cell_type": "code",
   "execution_count": 36,
   "metadata": {
    "ExecuteTime": {
     "end_time": "2019-08-06T02:39:11.939587Z",
     "start_time": "2019-08-06T02:39:11.319818Z"
    }
   },
   "outputs": [
    {
     "name": "stderr",
     "output_type": "stream",
     "text": [
      "/Users/danmchenry/miniconda3/lib/python3.7/site-packages/sklearn/neural_network/multilayer_perceptron.py:562: ConvergenceWarning: Stochastic Optimizer: Maximum iterations (200) reached and the optimization hasn't converged yet.\n",
      "  % self.max_iter, ConvergenceWarning)\n"
     ]
    },
    {
     "data": {
      "text/plain": [
       "MLPClassifier(activation='relu', alpha=0.0001, batch_size='auto', beta_1=0.9,\n",
       "       beta_2=0.999, early_stopping=False, epsilon=1e-08,\n",
       "       hidden_layer_sizes=(20, 20), learning_rate='constant',\n",
       "       learning_rate_init=0.001, max_iter=200, momentum=0.9,\n",
       "       n_iter_no_change=10, nesterovs_momentum=True, power_t=0.5,\n",
       "       random_state=15, shuffle=True, solver='adam', tol=0.0001,\n",
       "       validation_fraction=0.1, verbose=False, warm_start=False)"
      ]
     },
     "execution_count": 36,
     "metadata": {},
     "output_type": "execute_result"
    }
   ],
   "source": [
    "# Establish and fit the multi-level perceptron model.\n",
    "mlp = MLPClassifier(hidden_layer_sizes=(20,20,), random_state=15)\n",
    "mlp.fit(X_train_tfidf, ypred)"
   ]
  },
  {
   "cell_type": "code",
   "execution_count": 37,
   "metadata": {
    "ExecuteTime": {
     "end_time": "2019-08-06T02:39:31.483811Z",
     "start_time": "2019-08-06T02:39:31.468838Z"
    }
   },
   "outputs": [
    {
     "data": {
      "text/plain": [
       "0.9866920152091255"
      ]
     },
     "execution_count": 37,
     "metadata": {},
     "output_type": "execute_result"
    }
   ],
   "source": [
    "# Find MLP score.\n",
    "mlp.score(X_train_tfidf, ypred)"
   ]
  },
  {
   "cell_type": "code",
   "execution_count": 38,
   "metadata": {
    "ExecuteTime": {
     "end_time": "2019-08-06T02:39:53.541313Z",
     "start_time": "2019-08-06T02:39:50.837358Z"
    }
   },
   "outputs": [
    {
     "name": "stderr",
     "output_type": "stream",
     "text": [
      "/Users/danmchenry/miniconda3/lib/python3.7/site-packages/sklearn/model_selection/_split.py:652: Warning: The least populated class in y has only 2 members, which is too few. The minimum number of members in any class cannot be less than n_splits=5.\n",
      "  % (min_groups, self.n_splits)), Warning)\n",
      "/Users/danmchenry/miniconda3/lib/python3.7/site-packages/sklearn/neural_network/multilayer_perceptron.py:562: ConvergenceWarning: Stochastic Optimizer: Maximum iterations (200) reached and the optimization hasn't converged yet.\n",
      "  % self.max_iter, ConvergenceWarning)\n",
      "/Users/danmchenry/miniconda3/lib/python3.7/site-packages/sklearn/neural_network/multilayer_perceptron.py:562: ConvergenceWarning: Stochastic Optimizer: Maximum iterations (200) reached and the optimization hasn't converged yet.\n",
      "  % self.max_iter, ConvergenceWarning)\n",
      "/Users/danmchenry/miniconda3/lib/python3.7/site-packages/sklearn/neural_network/multilayer_perceptron.py:562: ConvergenceWarning: Stochastic Optimizer: Maximum iterations (200) reached and the optimization hasn't converged yet.\n",
      "  % self.max_iter, ConvergenceWarning)\n",
      "/Users/danmchenry/miniconda3/lib/python3.7/site-packages/sklearn/neural_network/multilayer_perceptron.py:562: ConvergenceWarning: Stochastic Optimizer: Maximum iterations (200) reached and the optimization hasn't converged yet.\n",
      "  % self.max_iter, ConvergenceWarning)\n",
      "/Users/danmchenry/miniconda3/lib/python3.7/site-packages/sklearn/neural_network/multilayer_perceptron.py:562: ConvergenceWarning: Stochastic Optimizer: Maximum iterations (200) reached and the optimization hasn't converged yet.\n",
      "  % self.max_iter, ConvergenceWarning)\n"
     ]
    },
    {
     "data": {
      "text/plain": [
       "array([0.83333333, 0.81481481, 0.79245283, 0.78640777, 0.74257426])"
      ]
     },
     "execution_count": 38,
     "metadata": {},
     "output_type": "execute_result"
    }
   ],
   "source": [
    "# Find cross-validation score.\n",
    "cross_val_score(mlp, X_train_tfidf, ypred, cv=5)"
   ]
  },
  {
   "cell_type": "code",
   "execution_count": 39,
   "metadata": {
    "ExecuteTime": {
     "end_time": "2019-08-06T02:40:13.731551Z",
     "start_time": "2019-08-06T02:40:13.292984Z"
    }
   },
   "outputs": [
    {
     "name": "stderr",
     "output_type": "stream",
     "text": [
      "/Users/danmchenry/miniconda3/lib/python3.7/site-packages/sklearn/neural_network/multilayer_perceptron.py:562: ConvergenceWarning: Stochastic Optimizer: Maximum iterations (200) reached and the optimization hasn't converged yet.\n",
      "  % self.max_iter, ConvergenceWarning)\n"
     ]
    },
    {
     "data": {
      "text/plain": [
       "MLPClassifier(activation='relu', alpha=0.0001, batch_size='auto', beta_1=0.9,\n",
       "       beta_2=0.999, early_stopping=False, epsilon=1e-08,\n",
       "       hidden_layer_sizes=(10, 10), learning_rate='constant',\n",
       "       learning_rate_init=0.001, max_iter=200, momentum=0.9,\n",
       "       n_iter_no_change=10, nesterovs_momentum=True, power_t=0.5,\n",
       "       random_state=15, shuffle=True, solver='adam', tol=0.0001,\n",
       "       validation_fraction=0.1, verbose=False, warm_start=False)"
      ]
     },
     "execution_count": 39,
     "metadata": {},
     "output_type": "execute_result"
    }
   ],
   "source": [
    "# Adjust hidden layer parameters.\n",
    "mlp1 = MLPClassifier(hidden_layer_sizes=(10,10,), random_state=15)\n",
    "mlp1.fit(X_train_tfidf, ypred)"
   ]
  },
  {
   "cell_type": "code",
   "execution_count": 40,
   "metadata": {
    "ExecuteTime": {
     "end_time": "2019-08-06T02:40:33.128231Z",
     "start_time": "2019-08-06T02:40:33.120891Z"
    }
   },
   "outputs": [
    {
     "data": {
      "text/plain": [
       "0.94106463878327"
      ]
     },
     "execution_count": 40,
     "metadata": {},
     "output_type": "execute_result"
    }
   ],
   "source": [
    "# Find accuracy score.\n",
    "mlp1.score(X_train_tfidf, ypred)"
   ]
  },
  {
   "cell_type": "code",
   "execution_count": 41,
   "metadata": {
    "ExecuteTime": {
     "end_time": "2019-08-06T02:40:53.051224Z",
     "start_time": "2019-08-06T02:40:50.913519Z"
    }
   },
   "outputs": [
    {
     "name": "stderr",
     "output_type": "stream",
     "text": [
      "/Users/danmchenry/miniconda3/lib/python3.7/site-packages/sklearn/model_selection/_split.py:652: Warning: The least populated class in y has only 2 members, which is too few. The minimum number of members in any class cannot be less than n_splits=5.\n",
      "  % (min_groups, self.n_splits)), Warning)\n",
      "/Users/danmchenry/miniconda3/lib/python3.7/site-packages/sklearn/neural_network/multilayer_perceptron.py:562: ConvergenceWarning: Stochastic Optimizer: Maximum iterations (200) reached and the optimization hasn't converged yet.\n",
      "  % self.max_iter, ConvergenceWarning)\n",
      "/Users/danmchenry/miniconda3/lib/python3.7/site-packages/sklearn/neural_network/multilayer_perceptron.py:562: ConvergenceWarning: Stochastic Optimizer: Maximum iterations (200) reached and the optimization hasn't converged yet.\n",
      "  % self.max_iter, ConvergenceWarning)\n",
      "/Users/danmchenry/miniconda3/lib/python3.7/site-packages/sklearn/neural_network/multilayer_perceptron.py:562: ConvergenceWarning: Stochastic Optimizer: Maximum iterations (200) reached and the optimization hasn't converged yet.\n",
      "  % self.max_iter, ConvergenceWarning)\n",
      "/Users/danmchenry/miniconda3/lib/python3.7/site-packages/sklearn/neural_network/multilayer_perceptron.py:562: ConvergenceWarning: Stochastic Optimizer: Maximum iterations (200) reached and the optimization hasn't converged yet.\n",
      "  % self.max_iter, ConvergenceWarning)\n",
      "/Users/danmchenry/miniconda3/lib/python3.7/site-packages/sklearn/neural_network/multilayer_perceptron.py:562: ConvergenceWarning: Stochastic Optimizer: Maximum iterations (200) reached and the optimization hasn't converged yet.\n",
      "  % self.max_iter, ConvergenceWarning)\n"
     ]
    },
    {
     "data": {
      "text/plain": [
       "array([0.73148148, 0.71296296, 0.72641509, 0.70873786, 0.73267327])"
      ]
     },
     "execution_count": 41,
     "metadata": {},
     "output_type": "execute_result"
    }
   ],
   "source": [
    "# Cross-validation.\n",
    "cross_val_score(mlp1, X_train_tfidf, ypred, cv=5)"
   ]
  },
  {
   "cell_type": "code",
   "execution_count": 42,
   "metadata": {
    "ExecuteTime": {
     "end_time": "2019-08-06T02:41:13.870230Z",
     "start_time": "2019-08-06T02:41:13.359206Z"
    }
   },
   "outputs": [
    {
     "name": "stderr",
     "output_type": "stream",
     "text": [
      "/Users/danmchenry/miniconda3/lib/python3.7/site-packages/sklearn/neural_network/multilayer_perceptron.py:562: ConvergenceWarning: Stochastic Optimizer: Maximum iterations (200) reached and the optimization hasn't converged yet.\n",
      "  % self.max_iter, ConvergenceWarning)\n"
     ]
    },
    {
     "data": {
      "text/plain": [
       "MLPClassifier(activation='relu', alpha=0.0001, batch_size='auto', beta_1=0.9,\n",
       "       beta_2=0.999, early_stopping=False, epsilon=1e-08,\n",
       "       hidden_layer_sizes=(25, 15), learning_rate='constant',\n",
       "       learning_rate_init=0.001, max_iter=200, momentum=0.9,\n",
       "       n_iter_no_change=10, nesterovs_momentum=True, power_t=0.5,\n",
       "       random_state=15, shuffle=True, solver='adam', tol=0.0001,\n",
       "       validation_fraction=0.1, verbose=False, warm_start=False)"
      ]
     },
     "execution_count": 42,
     "metadata": {},
     "output_type": "execute_result"
    }
   ],
   "source": [
    "# Adjust hidden layer parameters.\n",
    "mlp2 = MLPClassifier(hidden_layer_sizes=(25,15,), random_state=15)\n",
    "mlp2.fit(X_train_tfidf, ypred)"
   ]
  },
  {
   "cell_type": "code",
   "execution_count": 43,
   "metadata": {
    "ExecuteTime": {
     "end_time": "2019-08-06T02:41:33.656851Z",
     "start_time": "2019-08-06T02:41:33.648640Z"
    }
   },
   "outputs": [
    {
     "data": {
      "text/plain": [
       "0.9961977186311787"
      ]
     },
     "execution_count": 43,
     "metadata": {},
     "output_type": "execute_result"
    }
   ],
   "source": [
    "# Find accuracy score.\n",
    "mlp2.score(X_train_tfidf, ypred)"
   ]
  },
  {
   "cell_type": "code",
   "execution_count": 44,
   "metadata": {
    "ExecuteTime": {
     "end_time": "2019-08-06T02:41:54.763850Z",
     "start_time": "2019-08-06T02:41:51.951584Z"
    }
   },
   "outputs": [
    {
     "name": "stderr",
     "output_type": "stream",
     "text": [
      "/Users/danmchenry/miniconda3/lib/python3.7/site-packages/sklearn/model_selection/_split.py:652: Warning: The least populated class in y has only 2 members, which is too few. The minimum number of members in any class cannot be less than n_splits=5.\n",
      "  % (min_groups, self.n_splits)), Warning)\n",
      "/Users/danmchenry/miniconda3/lib/python3.7/site-packages/sklearn/neural_network/multilayer_perceptron.py:562: ConvergenceWarning: Stochastic Optimizer: Maximum iterations (200) reached and the optimization hasn't converged yet.\n",
      "  % self.max_iter, ConvergenceWarning)\n",
      "/Users/danmchenry/miniconda3/lib/python3.7/site-packages/sklearn/neural_network/multilayer_perceptron.py:562: ConvergenceWarning: Stochastic Optimizer: Maximum iterations (200) reached and the optimization hasn't converged yet.\n",
      "  % self.max_iter, ConvergenceWarning)\n",
      "/Users/danmchenry/miniconda3/lib/python3.7/site-packages/sklearn/neural_network/multilayer_perceptron.py:562: ConvergenceWarning: Stochastic Optimizer: Maximum iterations (200) reached and the optimization hasn't converged yet.\n",
      "  % self.max_iter, ConvergenceWarning)\n",
      "/Users/danmchenry/miniconda3/lib/python3.7/site-packages/sklearn/neural_network/multilayer_perceptron.py:562: ConvergenceWarning: Stochastic Optimizer: Maximum iterations (200) reached and the optimization hasn't converged yet.\n",
      "  % self.max_iter, ConvergenceWarning)\n",
      "/Users/danmchenry/miniconda3/lib/python3.7/site-packages/sklearn/neural_network/multilayer_perceptron.py:562: ConvergenceWarning: Stochastic Optimizer: Maximum iterations (200) reached and the optimization hasn't converged yet.\n",
      "  % self.max_iter, ConvergenceWarning)\n"
     ]
    },
    {
     "data": {
      "text/plain": [
       "array([0.84259259, 0.7962963 , 0.82075472, 0.80582524, 0.8019802 ])"
      ]
     },
     "execution_count": 44,
     "metadata": {},
     "output_type": "execute_result"
    }
   ],
   "source": [
    "# Cross-validation.\n",
    "cross_val_score(mlp2, X_train_tfidf, ypred, cv=5)"
   ]
  },
  {
   "cell_type": "markdown",
   "metadata": {},
   "source": [
    "# Prepare for Predictive Modeling"
   ]
  },
  {
   "cell_type": "code",
   "execution_count": 45,
   "metadata": {
    "ExecuteTime": {
     "end_time": "2019-08-06T02:42:13.565709Z",
     "start_time": "2019-08-06T02:42:13.556576Z"
    }
   },
   "outputs": [
    {
     "name": "stdout",
     "output_type": "stream",
     "text": [
      "Baseline score to beat: 0.15491452991452967\n"
     ]
    }
   ],
   "source": [
    "# Create baseline score to beat.\n",
    "# Bush41 had the most sentences, so guessing him\n",
    "# for all sentences would give this percentage.\n",
    "print('Baseline score to beat:', sum(\n",
    "    (sent_df.President == 'bush41') / len(sent_df.President)))"
   ]
  },
  {
   "cell_type": "code",
   "execution_count": 46,
   "metadata": {
    "ExecuteTime": {
     "end_time": "2019-08-06T02:42:31.027922Z",
     "start_time": "2019-08-06T02:42:31.022589Z"
    }
   },
   "outputs": [],
   "source": [
    "# Pipeline helpers.\n",
    "skf = StratifiedKFold(n_splits=10, shuffle=True, random_state=15)"
   ]
  },
  {
   "cell_type": "code",
   "execution_count": 47,
   "metadata": {
    "ExecuteTime": {
     "end_time": "2019-08-06T02:42:48.711161Z",
     "start_time": "2019-08-06T02:42:48.706743Z"
    }
   },
   "outputs": [],
   "source": [
    "# Instantiate the models.\n",
    "log_reg = LogisticRegression(solver='lbfgs', max_iter=1000)\n",
    "tree = DecisionTreeClassifier()\n",
    "forest = RandomForestClassifier()\n",
    "boost = GradientBoostingClassifier()\n",
    "nb = BernoulliNB()"
   ]
  },
  {
   "cell_type": "code",
   "execution_count": 48,
   "metadata": {
    "ExecuteTime": {
     "end_time": "2019-08-06T02:43:06.937845Z",
     "start_time": "2019-08-06T02:43:06.930527Z"
    },
    "run_control": {
     "marked": false
    }
   },
   "outputs": [],
   "source": [
    "# Set up _kwargs files for convenience.\n",
    "bow_kwargs = {'X_train': X_train_bow, 'y_train': y_train,\n",
    "              'X_eval': X_eval_bow, 'y_eval': y_eval,\n",
    "              'X_holdout': X_holdout_bow, 'y_holdout': y_holdout}\n",
    "\n",
    "tfidf_kwargs = {'X_train': X_train_tfidf_scaled,'y_train': y_train,\n",
    "                'X_eval': X_eval_tfidf_scaled,'y_eval': y_eval,\n",
    "                'X_holdout': X_eval_tfidf_scaled,'y_holdout': y_holdout}"
   ]
  },
  {
   "cell_type": "code",
   "execution_count": 49,
   "metadata": {
    "ExecuteTime": {
     "end_time": "2019-08-06T02:43:28.602701Z",
     "start_time": "2019-08-06T02:43:28.598014Z"
    }
   },
   "outputs": [],
   "source": [
    "# Tune parameter grids.\n",
    "log_reg_params = {'model__C': [1]}\n",
    "tree_params = {'model__criterion': ['gini']}\n",
    "forest_params = {'model__n_estimators': [100]}\n",
    "boost_params = {'model__n_estimators': [100]}\n",
    "nb_params = {'model__alpha': [1]}"
   ]
  },
  {
   "cell_type": "code",
   "execution_count": 50,
   "metadata": {
    "ExecuteTime": {
     "end_time": "2019-08-06T02:43:53.581370Z",
     "start_time": "2019-08-06T02:43:53.574140Z"
    }
   },
   "outputs": [],
   "source": [
    "# Function to fit and predict all working kernals.\n",
    "\n",
    "\n",
    "def fit_and_predict(model, params: Dict,\n",
    "                    X_train: pd.DataFrame,\n",
    "                    y_train: pd.DataFrame,\n",
    "                    X_eval: pd.DataFrame,\n",
    "                    y_eval: pd.DataFrame,\n",
    "                    X_holdout: pd.DataFrame,\n",
    "                    y_holdout: pd.DataFrame) -> None:\n",
    "    \"\"\"\n",
    "    Takes an instantiated sklearn model, training data (X_train, y_train), \n",
    "    and performs cross-validation and then prints the mean of the cross-\n",
    "    validation accuracies.\n",
    "    \"\"\"\n",
    "    assert len(X_train) == len(y_train)\n",
    "    assert len(X_eval) == len(y_eval)\n",
    "    # assert len(X_holdout) == len(y_holdout)\n",
    "    pipe = Pipeline(steps=[('model', model)])\n",
    "    clf = GridSearchCV(pipe, cv=skf, param_grid=params, n_jobs=2)\n",
    "    clf.fit(X_train, y_train)\n",
    "    print('The mean cross_val accuracy on train is',\n",
    "          f'{clf.cv_results_[\"mean_test_score\"]}.')\n",
    "    print('The std of the cross_val accuracy is',\n",
    "          f'{clf.cv_results_[\"std_test_score\"]}.')\n",
    "    y_pred = clf.predict(X_eval)\n",
    "    print(classification_report(y_eval, y_pred))\n",
    "    print(confusion_matrix(y_eval, y_pred))"
   ]
  },
  {
   "cell_type": "markdown",
   "metadata": {},
   "source": [
    "## Logistic Regression"
   ]
  },
  {
   "cell_type": "markdown",
   "metadata": {},
   "source": [
    "### Bag of Words"
   ]
  },
  {
   "cell_type": "code",
   "execution_count": 51,
   "metadata": {
    "ExecuteTime": {
     "end_time": "2019-08-06T02:44:18.598192Z",
     "start_time": "2019-08-06T02:44:17.043498Z"
    }
   },
   "outputs": [
    {
     "name": "stdout",
     "output_type": "stream",
     "text": [
      "The mean cross_val accuracy on train is [0.36121673].\n",
      "The std of the cross_val accuracy is [0.04323161].\n",
      "              precision    recall  f1-score   support\n",
      "\n",
      "      bush41       0.16      0.40      0.23        25\n",
      "     clinton       0.40      0.12      0.19        16\n",
      "  eisenhower       0.29      0.37      0.33        19\n",
      "         fdr       0.29      0.12      0.17        16\n",
      "   jefferson       0.50      0.10      0.17        10\n",
      "     kennedy       0.00      0.00      0.00         9\n",
      "     lincoln       0.63      0.59      0.61        29\n",
      "       obama       0.14      0.04      0.06        25\n",
      "      reagan       0.32      0.54      0.40        24\n",
      "  washington       1.00      0.33      0.50         3\n",
      "\n",
      "   micro avg       0.31      0.31      0.31       176\n",
      "   macro avg       0.37      0.26      0.27       176\n",
      "weighted avg       0.33      0.31      0.28       176\n",
      "\n",
      "[[10  0  5  1  0  0  2  1  6  0]\n",
      " [ 8  2  2  0  0  1  0  0  3  0]\n",
      " [ 8  0  7  0  0  0  1  2  1  0]\n",
      " [ 5  0  1  2  0  0  0  0  8  0]\n",
      " [ 3  0  1  0  1  0  2  0  3  0]\n",
      " [ 1  2  2  0  1  0  1  1  1  0]\n",
      " [ 8  0  1  1  0  0 17  1  1  0]\n",
      " [12  1  1  3  0  0  2  1  5  0]\n",
      " [ 5  0  4  0  0  0  1  1 13  0]\n",
      " [ 1  0  0  0  0  0  1  0  0  1]]\n"
     ]
    },
    {
     "name": "stderr",
     "output_type": "stream",
     "text": [
      "/Users/danmchenry/miniconda3/lib/python3.7/site-packages/sklearn/model_selection/_search.py:841: DeprecationWarning: The default of the `iid` parameter will change from True to False in version 0.22 and will be removed in 0.24. This will change numeric results when test-set sizes are unequal.\n",
      "  DeprecationWarning)\n",
      "/Users/danmchenry/miniconda3/lib/python3.7/site-packages/sklearn/linear_model/logistic.py:460: FutureWarning: Default multi_class will be changed to 'auto' in 0.22. Specify the multi_class option to silence this warning.\n",
      "  \"this warning.\", FutureWarning)\n"
     ]
    }
   ],
   "source": [
    "fit_and_predict(log_reg, params=log_reg_params, **bow_kwargs)"
   ]
  },
  {
   "cell_type": "markdown",
   "metadata": {},
   "source": [
    "### Tfidf"
   ]
  },
  {
   "cell_type": "code",
   "execution_count": 52,
   "metadata": {
    "ExecuteTime": {
     "end_time": "2019-08-06T02:44:41.509328Z",
     "start_time": "2019-08-06T02:44:40.938827Z"
    }
   },
   "outputs": [
    {
     "name": "stdout",
     "output_type": "stream",
     "text": [
      "The mean cross_val accuracy on train is [0.36692015].\n",
      "The std of the cross_val accuracy is [0.02287176].\n",
      "              precision    recall  f1-score   support\n",
      "\n",
      "      bush41       0.19      0.48      0.27        25\n",
      "     clinton       0.20      0.06      0.10        16\n",
      "  eisenhower       0.38      0.47      0.42        19\n",
      "         fdr       0.38      0.19      0.25        16\n",
      "   jefferson       0.60      0.30      0.40        10\n",
      "     kennedy       0.00      0.00      0.00         9\n",
      "     lincoln       0.58      0.62      0.60        29\n",
      "       obama       0.17      0.04      0.06        25\n",
      "      reagan       0.26      0.38      0.31        24\n",
      "  washington       0.00      0.00      0.00         3\n",
      "\n",
      "   micro avg       0.32      0.32      0.32       176\n",
      "   macro avg       0.28      0.25      0.24       176\n",
      "weighted avg       0.31      0.32      0.29       176\n",
      "\n",
      "[[12  0  4  1  0  0  2  0  6  0]\n",
      " [ 6  1  4  0  0  0  0  0  5  0]\n",
      " [ 7  0  9  0  0  0  0  2  1  0]\n",
      " [ 5  1  1  3  0  0  1  0  5  0]\n",
      " [ 1  0  1  0  3  0  2  0  3  0]\n",
      " [ 4  0  1  0  1  0  2  1  0  0]\n",
      " [ 6  0  2  1  0  0 18  1  1  0]\n",
      " [14  1  0  2  0  0  3  1  4  0]\n",
      " [ 7  2  2  1  1  0  1  1  9  0]\n",
      " [ 1  0  0  0  0  0  2  0  0  0]]\n"
     ]
    },
    {
     "name": "stderr",
     "output_type": "stream",
     "text": [
      "/Users/danmchenry/miniconda3/lib/python3.7/site-packages/sklearn/linear_model/logistic.py:460: FutureWarning: Default multi_class will be changed to 'auto' in 0.22. Specify the multi_class option to silence this warning.\n",
      "  \"this warning.\", FutureWarning)\n",
      "/Users/danmchenry/miniconda3/lib/python3.7/site-packages/sklearn/metrics/classification.py:1143: UndefinedMetricWarning: Precision and F-score are ill-defined and being set to 0.0 in labels with no predicted samples.\n",
      "  'precision', 'predicted', average, warn_for)\n"
     ]
    }
   ],
   "source": [
    "fit_and_predict(log_reg, params=log_reg_params, **tfidf_kwargs)"
   ]
  },
  {
   "cell_type": "markdown",
   "metadata": {},
   "source": [
    "## Decision Trees"
   ]
  },
  {
   "cell_type": "markdown",
   "metadata": {},
   "source": [
    "### Bag of Words"
   ]
  },
  {
   "cell_type": "code",
   "execution_count": 53,
   "metadata": {
    "ExecuteTime": {
     "end_time": "2019-08-06T02:45:04.365038Z",
     "start_time": "2019-08-06T02:45:04.046329Z"
    }
   },
   "outputs": [
    {
     "name": "stdout",
     "output_type": "stream",
     "text": [
      "The mean cross_val accuracy on train is [0.30228137].\n",
      "The std of the cross_val accuracy is [0.03817604].\n",
      "              precision    recall  f1-score   support\n",
      "\n",
      "      bush41       0.17      0.40      0.24        25\n",
      "     clinton       0.25      0.31      0.28        16\n",
      "  eisenhower       0.17      0.16      0.16        19\n",
      "         fdr       0.44      0.50      0.47        16\n",
      "   jefferson       0.50      0.10      0.17        10\n",
      "     kennedy       0.25      0.11      0.15         9\n",
      "     lincoln       0.65      0.52      0.58        29\n",
      "       obama       0.11      0.04      0.06        25\n",
      "      reagan       0.29      0.25      0.27        24\n",
      "  washington       0.67      0.67      0.67         3\n",
      "\n",
      "   micro avg       0.30      0.30      0.30       176\n",
      "   macro avg       0.35      0.31      0.30       176\n",
      "weighted avg       0.32      0.30      0.29       176\n",
      "\n",
      "[[10  3  4  3  0  1  1  0  3  0]\n",
      " [ 7  5  1  0  0  0  0  3  0  0]\n",
      " [ 9  1  3  0  0  1  2  0  3  0]\n",
      " [ 5  0  0  8  0  0  0  1  2  0]\n",
      " [ 2  2  1  0  1  0  2  0  2  0]\n",
      " [ 1  3  3  0  0  1  0  1  0  0]\n",
      " [ 6  0  2  1  1  0 15  0  3  1]\n",
      " [10  5  2  3  0  1  1  1  2  0]\n",
      " [ 8  1  2  3  0  0  2  2  6  0]\n",
      " [ 0  0  0  0  0  0  0  1  0  2]]\n"
     ]
    },
    {
     "name": "stderr",
     "output_type": "stream",
     "text": [
      "/Users/danmchenry/miniconda3/lib/python3.7/site-packages/sklearn/model_selection/_search.py:841: DeprecationWarning: The default of the `iid` parameter will change from True to False in version 0.22 and will be removed in 0.24. This will change numeric results when test-set sizes are unequal.\n",
      "  DeprecationWarning)\n"
     ]
    }
   ],
   "source": [
    "fit_and_predict(tree, params=tree_params, **bow_kwargs)"
   ]
  },
  {
   "cell_type": "markdown",
   "metadata": {},
   "source": [
    "### Tfidf"
   ]
  },
  {
   "cell_type": "code",
   "execution_count": 54,
   "metadata": {
    "ExecuteTime": {
     "end_time": "2019-08-06T02:45:28.072478Z",
     "start_time": "2019-08-06T02:45:27.615641Z"
    }
   },
   "outputs": [
    {
     "name": "stdout",
     "output_type": "stream",
     "text": [
      "The mean cross_val accuracy on train is [0.28326996].\n",
      "The std of the cross_val accuracy is [0.04593993].\n",
      "              precision    recall  f1-score   support\n",
      "\n",
      "      bush41       0.10      0.20      0.13        25\n",
      "     clinton       0.24      0.25      0.24        16\n",
      "  eisenhower       0.21      0.32      0.25        19\n",
      "         fdr       0.24      0.25      0.24        16\n",
      "   jefferson       0.00      0.00      0.00        10\n",
      "     kennedy       0.50      0.22      0.31         9\n",
      "     lincoln       0.50      0.41      0.45        29\n",
      "       obama       0.29      0.16      0.21        25\n",
      "      reagan       0.31      0.21      0.25        24\n",
      "  washington       0.00      0.00      0.00         3\n",
      "\n",
      "   micro avg       0.24      0.24      0.24       176\n",
      "   macro avg       0.24      0.20      0.21       176\n",
      "weighted avg       0.27      0.24      0.24       176\n",
      "\n",
      "[[ 5  4  5  3  2  0  2  2  1  1]\n",
      " [ 5  4  2  0  0  0  1  2  2  0]\n",
      " [ 7  0  6  2  0  0  2  1  1  0]\n",
      " [ 5  0  3  4  1  0  1  0  2  0]\n",
      " [ 3  0  0  0  0  0  3  2  2  0]\n",
      " [ 0  4  2  1  0  2  0  0  0  0]\n",
      " [ 7  0  3  3  0  1 12  0  2  1]\n",
      " [10  4  3  3  0  0  0  4  1  0]\n",
      " [ 8  1  5  1  0  0  1  3  5  0]\n",
      " [ 0  0  0  0  0  1  2  0  0  0]]\n"
     ]
    },
    {
     "name": "stderr",
     "output_type": "stream",
     "text": [
      "/Users/danmchenry/miniconda3/lib/python3.7/site-packages/sklearn/model_selection/_search.py:841: DeprecationWarning: The default of the `iid` parameter will change from True to False in version 0.22 and will be removed in 0.24. This will change numeric results when test-set sizes are unequal.\n",
      "  DeprecationWarning)\n"
     ]
    }
   ],
   "source": [
    "fit_and_predict(tree, params=tree_params, **tfidf_kwargs)"
   ]
  },
  {
   "cell_type": "markdown",
   "metadata": {},
   "source": [
    "## Random Forest"
   ]
  },
  {
   "cell_type": "markdown",
   "metadata": {},
   "source": [
    "### Bag of Words"
   ]
  },
  {
   "cell_type": "code",
   "execution_count": 55,
   "metadata": {
    "ExecuteTime": {
     "end_time": "2019-08-06T02:45:57.332667Z",
     "start_time": "2019-08-06T02:45:55.987170Z"
    }
   },
   "outputs": [
    {
     "name": "stdout",
     "output_type": "stream",
     "text": [
      "The mean cross_val accuracy on train is [0.30798479].\n",
      "The std of the cross_val accuracy is [0.05299282].\n",
      "              precision    recall  f1-score   support\n",
      "\n",
      "      bush41       0.15      0.28      0.20        25\n",
      "     clinton       0.29      0.38      0.32        16\n",
      "  eisenhower       0.28      0.37      0.32        19\n",
      "         fdr       0.25      0.19      0.21        16\n",
      "   jefferson       0.50      0.20      0.29        10\n",
      "     kennedy       0.50      0.11      0.18         9\n",
      "     lincoln       0.62      0.62      0.62        29\n",
      "       obama       0.10      0.04      0.06        25\n",
      "      reagan       0.30      0.33      0.31        24\n",
      "  washington       0.00      0.00      0.00         3\n",
      "\n",
      "   micro avg       0.30      0.30      0.30       176\n",
      "   macro avg       0.30      0.25      0.25       176\n",
      "weighted avg       0.31      0.30      0.29       176\n",
      "\n",
      "[[ 7  3  3  4  0  0  2  1  5  0]\n",
      " [ 8  6  0  0  0  0  1  0  1  0]\n",
      " [ 6  0  7  0  0  1  0  2  3  0]\n",
      " [ 5  0  1  3  1  0  2  1  3  0]\n",
      " [ 1  0  3  0  2  0  2  0  2  0]\n",
      " [ 0  5  2  0  0  1  1  0  0  0]\n",
      " [ 3  0  3  1  1  0 18  0  3  0]\n",
      " [11  5  2  3  0  0  1  1  2  0]\n",
      " [ 4  2  4  1  0  0  0  5  8  0]\n",
      " [ 1  0  0  0  0  0  2  0  0  0]]\n"
     ]
    },
    {
     "name": "stderr",
     "output_type": "stream",
     "text": [
      "/Users/danmchenry/miniconda3/lib/python3.7/site-packages/sklearn/model_selection/_search.py:841: DeprecationWarning: The default of the `iid` parameter will change from True to False in version 0.22 and will be removed in 0.24. This will change numeric results when test-set sizes are unequal.\n",
      "  DeprecationWarning)\n",
      "/Users/danmchenry/miniconda3/lib/python3.7/site-packages/sklearn/metrics/classification.py:1143: UndefinedMetricWarning: Precision and F-score are ill-defined and being set to 0.0 in labels with no predicted samples.\n",
      "  'precision', 'predicted', average, warn_for)\n"
     ]
    }
   ],
   "source": [
    "fit_and_predict(forest, params=forest_params, **bow_kwargs)"
   ]
  },
  {
   "cell_type": "markdown",
   "metadata": {},
   "source": [
    "### Tfidf"
   ]
  },
  {
   "cell_type": "code",
   "execution_count": 56,
   "metadata": {
    "ExecuteTime": {
     "end_time": "2019-08-06T02:46:21.694871Z",
     "start_time": "2019-08-06T02:46:20.185727Z"
    }
   },
   "outputs": [
    {
     "name": "stderr",
     "output_type": "stream",
     "text": [
      "/Users/danmchenry/miniconda3/lib/python3.7/site-packages/sklearn/model_selection/_search.py:841: DeprecationWarning: The default of the `iid` parameter will change from True to False in version 0.22 and will be removed in 0.24. This will change numeric results when test-set sizes are unequal.\n",
      "  DeprecationWarning)\n"
     ]
    },
    {
     "name": "stdout",
     "output_type": "stream",
     "text": [
      "The mean cross_val accuracy on train is [0.34030418].\n",
      "The std of the cross_val accuracy is [0.03311836].\n",
      "              precision    recall  f1-score   support\n",
      "\n",
      "      bush41       0.15      0.32      0.21        25\n",
      "     clinton       0.21      0.19      0.20        16\n",
      "  eisenhower       0.28      0.37      0.32        19\n",
      "         fdr       0.08      0.06      0.07        16\n",
      "   jefferson       0.50      0.30      0.37        10\n",
      "     kennedy       0.33      0.11      0.17         9\n",
      "     lincoln       0.52      0.52      0.52        29\n",
      "       obama       0.10      0.04      0.06        25\n",
      "      reagan       0.35      0.33      0.34        24\n",
      "  washington       0.00      0.00      0.00         3\n",
      "\n",
      "   micro avg       0.27      0.27      0.27       176\n",
      "   macro avg       0.25      0.22      0.23       176\n",
      "weighted avg       0.27      0.27      0.26       176\n",
      "\n",
      "[[ 8  3  4  3  0  0  3  1  3  0]\n",
      " [ 8  3  1  0  0  0  1  0  3  0]\n",
      " [ 6  0  7  1  1  0  1  2  1  0]\n",
      " [ 8  0  2  1  0  0  2  1  2  0]\n",
      " [ 0  1  1  0  3  1  2  0  2  0]\n",
      " [ 2  1  1  0  1  1  2  1  0  0]\n",
      " [ 4  0  3  3  1  0 15  0  2  1]\n",
      " [11  5  1  3  0  1  1  1  2  0]\n",
      " [ 6  1  3  1  0  0  1  4  8  0]\n",
      " [ 0  0  2  0  0  0  1  0  0  0]]\n"
     ]
    }
   ],
   "source": [
    "fit_and_predict(forest, params=forest_params, **tfidf_kwargs)"
   ]
  },
  {
   "cell_type": "markdown",
   "metadata": {},
   "source": [
    "## Gradient Boosting Machines"
   ]
  },
  {
   "cell_type": "markdown",
   "metadata": {},
   "source": [
    "### Bag of Words"
   ]
  },
  {
   "cell_type": "code",
   "execution_count": 57,
   "metadata": {
    "ExecuteTime": {
     "end_time": "2019-08-06T02:46:55.275006Z",
     "start_time": "2019-08-06T02:46:44.276730Z"
    }
   },
   "outputs": [
    {
     "name": "stderr",
     "output_type": "stream",
     "text": [
      "/Users/danmchenry/miniconda3/lib/python3.7/site-packages/sklearn/model_selection/_search.py:841: DeprecationWarning: The default of the `iid` parameter will change from True to False in version 0.22 and will be removed in 0.24. This will change numeric results when test-set sizes are unequal.\n",
      "  DeprecationWarning)\n"
     ]
    },
    {
     "name": "stdout",
     "output_type": "stream",
     "text": [
      "The mean cross_val accuracy on train is [0.3269962].\n",
      "The std of the cross_val accuracy is [0.04869892].\n",
      "              precision    recall  f1-score   support\n",
      "\n",
      "      bush41       0.16      0.48      0.24        25\n",
      "     clinton       0.31      0.25      0.28        16\n",
      "  eisenhower       0.20      0.16      0.18        19\n",
      "         fdr       0.20      0.12      0.15        16\n",
      "   jefferson       0.20      0.10      0.13        10\n",
      "     kennedy       0.33      0.11      0.17         9\n",
      "     lincoln       0.56      0.48      0.52        29\n",
      "       obama       0.29      0.08      0.12        25\n",
      "      reagan       0.36      0.33      0.35        24\n",
      "  washington       0.00      0.00      0.00         3\n",
      "\n",
      "   micro avg       0.27      0.27      0.27       176\n",
      "   macro avg       0.26      0.21      0.21       176\n",
      "weighted avg       0.30      0.27      0.26       176\n",
      "\n",
      "[[12  2  3  2  0  0  2  1  3  0]\n",
      " [ 9  4  1  0  0  1  0  0  1  0]\n",
      " [12  0  3  1  0  0  1  1  1  0]\n",
      " [ 8  0  0  2  1  0  1  0  4  0]\n",
      " [ 2  0  1  0  1  1  4  0  1  0]\n",
      " [ 1  1  1  0  2  1  1  1  1  0]\n",
      " [ 7  0  3  2  1  0 14  0  1  1]\n",
      " [15  4  0  2  0  0  0  2  2  0]\n",
      " [ 8  2  3  0  0  0  1  2  8  0]\n",
      " [ 1  0  0  1  0  0  1  0  0  0]]\n"
     ]
    }
   ],
   "source": [
    "fit_and_predict(boost, params=boost_params, **bow_kwargs)"
   ]
  },
  {
   "cell_type": "markdown",
   "metadata": {},
   "source": [
    "### Tfidf"
   ]
  },
  {
   "cell_type": "code",
   "execution_count": 58,
   "metadata": {
    "ExecuteTime": {
     "end_time": "2019-08-06T02:47:28.246847Z",
     "start_time": "2019-08-06T02:47:17.327629Z"
    }
   },
   "outputs": [
    {
     "name": "stderr",
     "output_type": "stream",
     "text": [
      "/Users/danmchenry/miniconda3/lib/python3.7/site-packages/sklearn/model_selection/_search.py:841: DeprecationWarning: The default of the `iid` parameter will change from True to False in version 0.22 and will be removed in 0.24. This will change numeric results when test-set sizes are unequal.\n",
      "  DeprecationWarning)\n"
     ]
    },
    {
     "name": "stdout",
     "output_type": "stream",
     "text": [
      "The mean cross_val accuracy on train is [0.28897338].\n",
      "The std of the cross_val accuracy is [0.03636282].\n",
      "              precision    recall  f1-score   support\n",
      "\n",
      "      bush41       0.13      0.32      0.18        25\n",
      "     clinton       0.36      0.25      0.30        16\n",
      "  eisenhower       0.22      0.26      0.24        19\n",
      "         fdr       0.30      0.19      0.23        16\n",
      "   jefferson       0.00      0.00      0.00        10\n",
      "     kennedy       0.00      0.00      0.00         9\n",
      "     lincoln       0.54      0.45      0.49        29\n",
      "       obama       0.09      0.04      0.06        25\n",
      "      reagan       0.36      0.38      0.37        24\n",
      "  washington       0.00      0.00      0.00         3\n",
      "\n",
      "   micro avg       0.24      0.24      0.24       176\n",
      "   macro avg       0.20      0.19      0.19       176\n",
      "weighted avg       0.25      0.24      0.24       176\n",
      "\n",
      "[[ 8  1  5  2  0  2  3  2  2  0]\n",
      " [ 6  4  3  0  0  0  1  0  2  0]\n",
      " [ 6  0  5  1  1  1  1  3  1  0]\n",
      " [ 7  0  0  3  1  0  0  1  4  0]\n",
      " [ 3  0  1  0  0  1  2  1  2  0]\n",
      " [ 2  1  2  0  1  0  1  1  1  0]\n",
      " [ 8  0  3  1  1  0 13  0  2  1]\n",
      " [12  4  2  3  0  0  1  1  2  0]\n",
      " [ 9  1  1  0  1  0  1  2  9  0]\n",
      " [ 1  0  1  0  0  0  1  0  0  0]]\n"
     ]
    }
   ],
   "source": [
    "fit_and_predict(boost, params=boost_params, **tfidf_kwargs)"
   ]
  },
  {
   "cell_type": "markdown",
   "metadata": {},
   "source": [
    "## Naive Bayes"
   ]
  },
  {
   "cell_type": "markdown",
   "metadata": {},
   "source": [
    "### Bag of Words"
   ]
  },
  {
   "cell_type": "code",
   "execution_count": 59,
   "metadata": {
    "ExecuteTime": {
     "end_time": "2019-08-06T02:47:49.995969Z",
     "start_time": "2019-08-06T02:47:49.859405Z"
    }
   },
   "outputs": [
    {
     "name": "stdout",
     "output_type": "stream",
     "text": [
      "The mean cross_val accuracy on train is [0.36121673].\n",
      "The std of the cross_val accuracy is [0.0564142].\n",
      "              precision    recall  f1-score   support\n",
      "\n",
      "      bush41       0.20      0.64      0.30        25\n",
      "     clinton       0.00      0.00      0.00        16\n",
      "  eisenhower       0.50      0.37      0.42        19\n",
      "         fdr       0.50      0.12      0.20        16\n",
      "   jefferson       0.00      0.00      0.00        10\n",
      "     kennedy       0.00      0.00      0.00         9\n",
      "     lincoln       0.68      0.59      0.63        29\n",
      "       obama       0.50      0.04      0.07        25\n",
      "      reagan       0.24      0.46      0.32        24\n",
      "  washington       1.00      0.33      0.50         3\n",
      "\n",
      "   micro avg       0.31      0.31      0.31       176\n",
      "   macro avg       0.36      0.26      0.25       176\n",
      "weighted avg       0.36      0.31      0.27       176\n",
      "\n",
      "[[16  0  1  0  0  0  1  0  7  0]\n",
      " [11  0  1  0  0  0  0  0  4  0]\n",
      " [ 8  0  7  0  0  0  2  0  2  0]\n",
      " [ 7  0  1  2  0  0  0  0  6  0]\n",
      " [ 3  0  1  0  0  1  2  0  3  0]\n",
      " [ 4  3  0  0  0  0  0  0  2  0]\n",
      " [ 8  0  0  1  0  0 17  1  2  0]\n",
      " [14  1  1  0  0  0  0  1  8  0]\n",
      " [ 8  0  2  1  0  0  2  0 11  0]\n",
      " [ 1  0  0  0  0  0  1  0  0  1]]\n"
     ]
    },
    {
     "name": "stderr",
     "output_type": "stream",
     "text": [
      "/Users/danmchenry/miniconda3/lib/python3.7/site-packages/sklearn/model_selection/_search.py:841: DeprecationWarning: The default of the `iid` parameter will change from True to False in version 0.22 and will be removed in 0.24. This will change numeric results when test-set sizes are unequal.\n",
      "  DeprecationWarning)\n",
      "/Users/danmchenry/miniconda3/lib/python3.7/site-packages/sklearn/metrics/classification.py:1143: UndefinedMetricWarning: Precision and F-score are ill-defined and being set to 0.0 in labels with no predicted samples.\n",
      "  'precision', 'predicted', average, warn_for)\n"
     ]
    }
   ],
   "source": [
    "fit_and_predict(nb, params=nb_params, **bow_kwargs)"
   ]
  },
  {
   "cell_type": "markdown",
   "metadata": {},
   "source": [
    "### Tfidf"
   ]
  },
  {
   "cell_type": "code",
   "execution_count": 60,
   "metadata": {
    "ExecuteTime": {
     "end_time": "2019-08-06T02:48:11.638929Z",
     "start_time": "2019-08-06T02:48:11.470868Z"
    }
   },
   "outputs": [
    {
     "name": "stdout",
     "output_type": "stream",
     "text": [
      "The mean cross_val accuracy on train is [0.36501901].\n",
      "The std of the cross_val accuracy is [0.05183521].\n",
      "              precision    recall  f1-score   support\n",
      "\n",
      "      bush41       0.21      0.68      0.32        25\n",
      "     clinton       0.00      0.00      0.00        16\n",
      "  eisenhower       0.50      0.37      0.42        19\n",
      "         fdr       0.40      0.12      0.19        16\n",
      "   jefferson       0.00      0.00      0.00        10\n",
      "     kennedy       0.00      0.00      0.00         9\n",
      "     lincoln       0.65      0.59      0.62        29\n",
      "       obama       0.00      0.00      0.00        25\n",
      "      reagan       0.23      0.42      0.30        24\n",
      "  washington       1.00      0.33      0.50         3\n",
      "\n",
      "   micro avg       0.31      0.31      0.31       176\n",
      "   macro avg       0.30      0.25      0.24       176\n",
      "weighted avg       0.28      0.31      0.26       176\n",
      "\n",
      "[[17  0  1  0  0  0  1  0  6  0]\n",
      " [11  0  1  0  0  0  0  0  4  0]\n",
      " [ 8  0  7  0  0  0  2  0  2  0]\n",
      " [ 7  0  1  2  0  0  0  0  6  0]\n",
      " [ 3  0  1  0  0  1  2  0  3  0]\n",
      " [ 4  3  0  0  0  0  0  0  2  0]\n",
      " [ 8  0  0  1  0  0 17  1  2  0]\n",
      " [13  1  1  1  0  0  1  0  8  0]\n",
      " [ 9  0  2  1  0  0  2  0 10  0]\n",
      " [ 1  0  0  0  0  0  1  0  0  1]]\n"
     ]
    },
    {
     "name": "stderr",
     "output_type": "stream",
     "text": [
      "/Users/danmchenry/miniconda3/lib/python3.7/site-packages/sklearn/model_selection/_search.py:841: DeprecationWarning: The default of the `iid` parameter will change from True to False in version 0.22 and will be removed in 0.24. This will change numeric results when test-set sizes are unequal.\n",
      "  DeprecationWarning)\n",
      "/Users/danmchenry/miniconda3/lib/python3.7/site-packages/sklearn/metrics/classification.py:1143: UndefinedMetricWarning: Precision and F-score are ill-defined and being set to 0.0 in labels with no predicted samples.\n",
      "  'precision', 'predicted', average, warn_for)\n"
     ]
    }
   ],
   "source": [
    "fit_and_predict(nb, params=nb_params, **tfidf_kwargs)"
   ]
  },
  {
   "cell_type": "code",
   "execution_count": null,
   "metadata": {},
   "outputs": [],
   "source": []
  },
  {
   "cell_type": "code",
   "execution_count": null,
   "metadata": {},
   "outputs": [],
   "source": []
  }
 ],
 "metadata": {
  "kernelspec": {
   "display_name": "Python 3",
   "language": "python",
   "name": "python3"
  },
  "language_info": {
   "codemirror_mode": {
    "name": "ipython",
    "version": 3
   },
   "file_extension": ".py",
   "mimetype": "text/x-python",
   "name": "python",
   "nbconvert_exporter": "python",
   "pygments_lexer": "ipython3",
   "version": "3.7.3"
  },
  "toc": {
   "base_numbering": 1,
   "nav_menu": {},
   "number_sections": true,
   "sideBar": true,
   "skip_h1_title": false,
   "title_cell": "Table of Contents",
   "title_sidebar": "Contents",
   "toc_cell": false,
   "toc_position": {},
   "toc_section_display": true,
   "toc_window_display": false
  },
  "varInspector": {
   "cols": {
    "lenName": 16,
    "lenType": 16,
    "lenVar": 40
   },
   "kernels_config": {
    "python": {
     "delete_cmd_postfix": "",
     "delete_cmd_prefix": "del ",
     "library": "var_list.py",
     "varRefreshCmd": "print(var_dic_list())"
    },
    "r": {
     "delete_cmd_postfix": ") ",
     "delete_cmd_prefix": "rm(",
     "library": "var_list.r",
     "varRefreshCmd": "cat(var_dic_list()) "
    }
   },
   "position": {
    "height": "144px",
    "left": "1011px",
    "right": "20px",
    "top": "6px",
    "width": "350px"
   },
   "types_to_exclude": [
    "module",
    "function",
    "builtin_function_or_method",
    "instance",
    "_Feature"
   ],
   "window_display": true
  }
 },
 "nbformat": 4,
 "nbformat_minor": 2
}
