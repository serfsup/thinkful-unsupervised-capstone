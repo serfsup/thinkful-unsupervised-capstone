{
 "cells": [
  {
   "cell_type": "markdown",
   "metadata": {},
   "source": [
    "For this project you'll dig into a large amount of text and apply most of what you've covered in this unit and in the course so far.\n",
    "\n",
    "First, pick a set of texts. This can be either a series of novels, chapters, or articles. Anything you'd like. It just has to have multiple entries of varying characteristics. At least 100 should be good. There should also be at least 10 different authors, but try to keep the texts related (either all on the same topic of from the same branch of literature - something to make classification a bit more difficult than obviously different subjects).\n",
    "\n",
    "This capstone can be an extension of your NLP challenge if you wish to use the same corpus. If you found problems with that data set that limited your analysis, however, it may be worth using what you learned to choose a new corpus. Reserve 25% of your corpus as a test set.\n",
    "\n",
    "The first technique is to create a series of clusters. Try several techniques and pick the one you think best represents your data. Make sure there is a narrative and reasoning around why you have chosen the given clusters. Are authors consistently grouped into the same cluster?\n",
    "\n",
    "Next, perform some unsupervised feature generation and selection using the techniques covered in this unit and elsewhere in the course. Using those features then build models to attempt to classify your texts by author. Try different permutations of unsupervised and supervised techniques to see which combinations have the best performance.\n",
    "\n",
    "Lastly return to your holdout group. Does your clustering on those members perform as you'd expect? Have your clusters remained stable or changed dramatically? What about your model? Is its performance consistent?\n",
    "\n",
    "If there is a divergence in the relative stability of your model and your clusters, delve into why.\n",
    "\n",
    "Your end result should be a write up of how clustering and modeling compare for classifying your texts. What are the advantages of each? Why would you want to use one over the other? Approximately 3-5 pages is a good length for your write up, and remember to include visuals to help tell your story!"
   ]
  },
  {
   "cell_type": "code",
   "execution_count": 1,
   "metadata": {
    "ExecuteTime": {
     "end_time": "2019-08-15T02:53:48.852002Z",
     "start_time": "2019-08-15T02:53:43.198159Z"
    }
   },
   "outputs": [
    {
     "name": "stderr",
     "output_type": "stream",
     "text": [
      "/Users/danmchenry/miniconda3/lib/python3.7/site-packages/past/types/oldstr.py:5: DeprecationWarning: Using or importing the ABCs from 'collections' instead of from 'collections.abc' is deprecated, and in 3.8 it will stop working\n",
      "  from collections import Iterable\n",
      "/Users/danmchenry/miniconda3/lib/python3.7/site-packages/thinc/neural/train.py:3: DeprecationWarning: Using or importing the ABCs from 'collections' instead of from 'collections.abc' is deprecated, and in 3.8 it will stop working\n",
      "  from .optimizers import Adam, SGD, linear_decay\n",
      "/Users/danmchenry/miniconda3/lib/python3.7/site-packages/thinc/check.py:1: DeprecationWarning: Using or importing the ABCs from 'collections' instead of from 'collections.abc' is deprecated, and in 3.8 it will stop working\n",
      "  from collections import defaultdict, Sequence, Sized, Iterable, Callable\n",
      "/Users/danmchenry/miniconda3/lib/python3.7/site-packages/thinc/check.py:1: DeprecationWarning: Using or importing the ABCs from 'collections' instead of from 'collections.abc' is deprecated, and in 3.8 it will stop working\n",
      "  from collections import defaultdict, Sequence, Sized, Iterable, Callable\n",
      "/Users/danmchenry/miniconda3/lib/python3.7/site-packages/scipy/sparse/sparsetools.py:21: DeprecationWarning: `scipy.sparse.sparsetools` is deprecated!\n",
      "scipy.sparse.sparsetools is a private module for scipy.sparse, and should not be used.\n",
      "  _deprecated()\n",
      "/Users/danmchenry/miniconda3/lib/python3.7/site-packages/nltk/decorators.py:68: DeprecationWarning: `formatargspec` is deprecated since Python 3.5. Use `signature` and the `Signature` object directly\n",
      "  regargs, varargs, varkwargs, defaults, formatvalue=lambda value: \"\"\n"
     ]
    },
    {
     "data": {
      "text/html": [
       "\n",
       "    <div class=\"bk-root\">\n",
       "        <a href=\"https://bokeh.pydata.org\" target=\"_blank\" class=\"bk-logo bk-logo-small bk-logo-notebook\"></a>\n",
       "        <span id=\"1001\">Loading BokehJS ...</span>\n",
       "    </div>"
      ]
     },
     "metadata": {},
     "output_type": "display_data"
    },
    {
     "data": {
      "application/javascript": [
       "\n",
       "(function(root) {\n",
       "  function now() {\n",
       "    return new Date();\n",
       "  }\n",
       "\n",
       "  var force = true;\n",
       "\n",
       "  if (typeof root._bokeh_onload_callbacks === \"undefined\" || force === true) {\n",
       "    root._bokeh_onload_callbacks = [];\n",
       "    root._bokeh_is_loading = undefined;\n",
       "  }\n",
       "\n",
       "  var JS_MIME_TYPE = 'application/javascript';\n",
       "  var HTML_MIME_TYPE = 'text/html';\n",
       "  var EXEC_MIME_TYPE = 'application/vnd.bokehjs_exec.v0+json';\n",
       "  var CLASS_NAME = 'output_bokeh rendered_html';\n",
       "\n",
       "  /**\n",
       "   * Render data to the DOM node\n",
       "   */\n",
       "  function render(props, node) {\n",
       "    var script = document.createElement(\"script\");\n",
       "    node.appendChild(script);\n",
       "  }\n",
       "\n",
       "  /**\n",
       "   * Handle when an output is cleared or removed\n",
       "   */\n",
       "  function handleClearOutput(event, handle) {\n",
       "    var cell = handle.cell;\n",
       "\n",
       "    var id = cell.output_area._bokeh_element_id;\n",
       "    var server_id = cell.output_area._bokeh_server_id;\n",
       "    // Clean up Bokeh references\n",
       "    if (id != null && id in Bokeh.index) {\n",
       "      Bokeh.index[id].model.document.clear();\n",
       "      delete Bokeh.index[id];\n",
       "    }\n",
       "\n",
       "    if (server_id !== undefined) {\n",
       "      // Clean up Bokeh references\n",
       "      var cmd = \"from bokeh.io.state import curstate; print(curstate().uuid_to_server['\" + server_id + \"'].get_sessions()[0].document.roots[0]._id)\";\n",
       "      cell.notebook.kernel.execute(cmd, {\n",
       "        iopub: {\n",
       "          output: function(msg) {\n",
       "            var id = msg.content.text.trim();\n",
       "            if (id in Bokeh.index) {\n",
       "              Bokeh.index[id].model.document.clear();\n",
       "              delete Bokeh.index[id];\n",
       "            }\n",
       "          }\n",
       "        }\n",
       "      });\n",
       "      // Destroy server and session\n",
       "      var cmd = \"import bokeh.io.notebook as ion; ion.destroy_server('\" + server_id + \"')\";\n",
       "      cell.notebook.kernel.execute(cmd);\n",
       "    }\n",
       "  }\n",
       "\n",
       "  /**\n",
       "   * Handle when a new output is added\n",
       "   */\n",
       "  function handleAddOutput(event, handle) {\n",
       "    var output_area = handle.output_area;\n",
       "    var output = handle.output;\n",
       "\n",
       "    // limit handleAddOutput to display_data with EXEC_MIME_TYPE content only\n",
       "    if ((output.output_type != \"display_data\") || (!output.data.hasOwnProperty(EXEC_MIME_TYPE))) {\n",
       "      return\n",
       "    }\n",
       "\n",
       "    var toinsert = output_area.element.find(\".\" + CLASS_NAME.split(' ')[0]);\n",
       "\n",
       "    if (output.metadata[EXEC_MIME_TYPE][\"id\"] !== undefined) {\n",
       "      toinsert[toinsert.length - 1].firstChild.textContent = output.data[JS_MIME_TYPE];\n",
       "      // store reference to embed id on output_area\n",
       "      output_area._bokeh_element_id = output.metadata[EXEC_MIME_TYPE][\"id\"];\n",
       "    }\n",
       "    if (output.metadata[EXEC_MIME_TYPE][\"server_id\"] !== undefined) {\n",
       "      var bk_div = document.createElement(\"div\");\n",
       "      bk_div.innerHTML = output.data[HTML_MIME_TYPE];\n",
       "      var script_attrs = bk_div.children[0].attributes;\n",
       "      for (var i = 0; i < script_attrs.length; i++) {\n",
       "        toinsert[toinsert.length - 1].firstChild.setAttribute(script_attrs[i].name, script_attrs[i].value);\n",
       "      }\n",
       "      // store reference to server id on output_area\n",
       "      output_area._bokeh_server_id = output.metadata[EXEC_MIME_TYPE][\"server_id\"];\n",
       "    }\n",
       "  }\n",
       "\n",
       "  function register_renderer(events, OutputArea) {\n",
       "\n",
       "    function append_mime(data, metadata, element) {\n",
       "      // create a DOM node to render to\n",
       "      var toinsert = this.create_output_subarea(\n",
       "        metadata,\n",
       "        CLASS_NAME,\n",
       "        EXEC_MIME_TYPE\n",
       "      );\n",
       "      this.keyboard_manager.register_events(toinsert);\n",
       "      // Render to node\n",
       "      var props = {data: data, metadata: metadata[EXEC_MIME_TYPE]};\n",
       "      render(props, toinsert[toinsert.length - 1]);\n",
       "      element.append(toinsert);\n",
       "      return toinsert\n",
       "    }\n",
       "\n",
       "    /* Handle when an output is cleared or removed */\n",
       "    events.on('clear_output.CodeCell', handleClearOutput);\n",
       "    events.on('delete.Cell', handleClearOutput);\n",
       "\n",
       "    /* Handle when a new output is added */\n",
       "    events.on('output_added.OutputArea', handleAddOutput);\n",
       "\n",
       "    /**\n",
       "     * Register the mime type and append_mime function with output_area\n",
       "     */\n",
       "    OutputArea.prototype.register_mime_type(EXEC_MIME_TYPE, append_mime, {\n",
       "      /* Is output safe? */\n",
       "      safe: true,\n",
       "      /* Index of renderer in `output_area.display_order` */\n",
       "      index: 0\n",
       "    });\n",
       "  }\n",
       "\n",
       "  // register the mime type if in Jupyter Notebook environment and previously unregistered\n",
       "  if (root.Jupyter !== undefined) {\n",
       "    var events = require('base/js/events');\n",
       "    var OutputArea = require('notebook/js/outputarea').OutputArea;\n",
       "\n",
       "    if (OutputArea.prototype.mime_types().indexOf(EXEC_MIME_TYPE) == -1) {\n",
       "      register_renderer(events, OutputArea);\n",
       "    }\n",
       "  }\n",
       "\n",
       "  \n",
       "  if (typeof (root._bokeh_timeout) === \"undefined\" || force === true) {\n",
       "    root._bokeh_timeout = Date.now() + 5000;\n",
       "    root._bokeh_failed_load = false;\n",
       "  }\n",
       "\n",
       "  var NB_LOAD_WARNING = {'data': {'text/html':\n",
       "     \"<div style='background-color: #fdd'>\\n\"+\n",
       "     \"<p>\\n\"+\n",
       "     \"BokehJS does not appear to have successfully loaded. If loading BokehJS from CDN, this \\n\"+\n",
       "     \"may be due to a slow or bad network connection. Possible fixes:\\n\"+\n",
       "     \"</p>\\n\"+\n",
       "     \"<ul>\\n\"+\n",
       "     \"<li>re-rerun `output_notebook()` to attempt to load from CDN again, or</li>\\n\"+\n",
       "     \"<li>use INLINE resources instead, as so:</li>\\n\"+\n",
       "     \"</ul>\\n\"+\n",
       "     \"<code>\\n\"+\n",
       "     \"from bokeh.resources import INLINE\\n\"+\n",
       "     \"output_notebook(resources=INLINE)\\n\"+\n",
       "     \"</code>\\n\"+\n",
       "     \"</div>\"}};\n",
       "\n",
       "  function display_loaded() {\n",
       "    var el = document.getElementById(\"1001\");\n",
       "    if (el != null) {\n",
       "      el.textContent = \"BokehJS is loading...\";\n",
       "    }\n",
       "    if (root.Bokeh !== undefined) {\n",
       "      if (el != null) {\n",
       "        el.textContent = \"BokehJS \" + root.Bokeh.version + \" successfully loaded.\";\n",
       "      }\n",
       "    } else if (Date.now() < root._bokeh_timeout) {\n",
       "      setTimeout(display_loaded, 100)\n",
       "    }\n",
       "  }\n",
       "\n",
       "\n",
       "  function run_callbacks() {\n",
       "    try {\n",
       "      root._bokeh_onload_callbacks.forEach(function(callback) {\n",
       "        if (callback != null)\n",
       "          callback();\n",
       "      });\n",
       "    } finally {\n",
       "      delete root._bokeh_onload_callbacks\n",
       "    }\n",
       "    console.debug(\"Bokeh: all callbacks have finished\");\n",
       "  }\n",
       "\n",
       "  function load_libs(css_urls, js_urls, callback) {\n",
       "    if (css_urls == null) css_urls = [];\n",
       "    if (js_urls == null) js_urls = [];\n",
       "\n",
       "    root._bokeh_onload_callbacks.push(callback);\n",
       "    if (root._bokeh_is_loading > 0) {\n",
       "      console.debug(\"Bokeh: BokehJS is being loaded, scheduling callback at\", now());\n",
       "      return null;\n",
       "    }\n",
       "    if (js_urls == null || js_urls.length === 0) {\n",
       "      run_callbacks();\n",
       "      return null;\n",
       "    }\n",
       "    console.debug(\"Bokeh: BokehJS not loaded, scheduling load and callback at\", now());\n",
       "    root._bokeh_is_loading = css_urls.length + js_urls.length;\n",
       "\n",
       "    function on_load() {\n",
       "      root._bokeh_is_loading--;\n",
       "      if (root._bokeh_is_loading === 0) {\n",
       "        console.debug(\"Bokeh: all BokehJS libraries/stylesheets loaded\");\n",
       "        run_callbacks()\n",
       "      }\n",
       "    }\n",
       "\n",
       "    function on_error() {\n",
       "      console.error(\"failed to load \" + url);\n",
       "    }\n",
       "\n",
       "    for (var i = 0; i < css_urls.length; i++) {\n",
       "      var url = css_urls[i];\n",
       "      const element = document.createElement(\"link\");\n",
       "      element.onload = on_load;\n",
       "      element.onerror = on_error;\n",
       "      element.rel = \"stylesheet\";\n",
       "      element.type = \"text/css\";\n",
       "      element.href = url;\n",
       "      console.debug(\"Bokeh: injecting link tag for BokehJS stylesheet: \", url);\n",
       "      document.body.appendChild(element);\n",
       "    }\n",
       "\n",
       "    for (var i = 0; i < js_urls.length; i++) {\n",
       "      var url = js_urls[i];\n",
       "      var element = document.createElement('script');\n",
       "      element.onload = on_load;\n",
       "      element.onerror = on_error;\n",
       "      element.async = false;\n",
       "      element.src = url;\n",
       "      console.debug(\"Bokeh: injecting script tag for BokehJS library: \", url);\n",
       "      document.head.appendChild(element);\n",
       "    }\n",
       "  };var element = document.getElementById(\"1001\");\n",
       "  if (element == null) {\n",
       "    console.error(\"Bokeh: ERROR: autoload.js configured with elementid '1001' but no matching script tag was found. \")\n",
       "    return false;\n",
       "  }\n",
       "\n",
       "  function inject_raw_css(css) {\n",
       "    const element = document.createElement(\"style\");\n",
       "    element.appendChild(document.createTextNode(css));\n",
       "    document.body.appendChild(element);\n",
       "  }\n",
       "\n",
       "  var js_urls = [\"https://cdn.pydata.org/bokeh/release/bokeh-1.1.0.min.js\", \"https://cdn.pydata.org/bokeh/release/bokeh-widgets-1.1.0.min.js\", \"https://cdn.pydata.org/bokeh/release/bokeh-tables-1.1.0.min.js\", \"https://cdn.pydata.org/bokeh/release/bokeh-gl-1.1.0.min.js\"];\n",
       "  var css_urls = [\"https://cdn.pydata.org/bokeh/release/bokeh-1.1.0.min.css\", \"https://cdn.pydata.org/bokeh/release/bokeh-widgets-1.1.0.min.css\", \"https://cdn.pydata.org/bokeh/release/bokeh-tables-1.1.0.min.css\"];\n",
       "\n",
       "  var inline_js = [\n",
       "    function(Bokeh) {\n",
       "      Bokeh.set_log_level(\"info\");\n",
       "    },\n",
       "    \n",
       "    function(Bokeh) {\n",
       "      \n",
       "    },\n",
       "    function(Bokeh) {} // ensure no trailing comma for IE\n",
       "  ];\n",
       "\n",
       "  function run_inline_js() {\n",
       "    \n",
       "    if ((root.Bokeh !== undefined) || (force === true)) {\n",
       "      for (var i = 0; i < inline_js.length; i++) {\n",
       "        inline_js[i].call(root, root.Bokeh);\n",
       "      }if (force === true) {\n",
       "        display_loaded();\n",
       "      }} else if (Date.now() < root._bokeh_timeout) {\n",
       "      setTimeout(run_inline_js, 100);\n",
       "    } else if (!root._bokeh_failed_load) {\n",
       "      console.log(\"Bokeh: BokehJS failed to load within specified timeout.\");\n",
       "      root._bokeh_failed_load = true;\n",
       "    } else if (force !== true) {\n",
       "      var cell = $(document.getElementById(\"1001\")).parents('.cell').data().cell;\n",
       "      cell.output_area.append_execute_result(NB_LOAD_WARNING)\n",
       "    }\n",
       "\n",
       "  }\n",
       "\n",
       "  if (root._bokeh_is_loading === 0) {\n",
       "    console.debug(\"Bokeh: BokehJS loaded, going straight to plotting\");\n",
       "    run_inline_js();\n",
       "  } else {\n",
       "    load_libs(css_urls, js_urls, function() {\n",
       "      console.debug(\"Bokeh: BokehJS plotting callback run at\", now());\n",
       "      run_inline_js();\n",
       "    });\n",
       "  }\n",
       "}(window));"
      ],
      "application/vnd.bokehjs_load.v0+json": "\n(function(root) {\n  function now() {\n    return new Date();\n  }\n\n  var force = true;\n\n  if (typeof root._bokeh_onload_callbacks === \"undefined\" || force === true) {\n    root._bokeh_onload_callbacks = [];\n    root._bokeh_is_loading = undefined;\n  }\n\n  \n\n  \n  if (typeof (root._bokeh_timeout) === \"undefined\" || force === true) {\n    root._bokeh_timeout = Date.now() + 5000;\n    root._bokeh_failed_load = false;\n  }\n\n  var NB_LOAD_WARNING = {'data': {'text/html':\n     \"<div style='background-color: #fdd'>\\n\"+\n     \"<p>\\n\"+\n     \"BokehJS does not appear to have successfully loaded. If loading BokehJS from CDN, this \\n\"+\n     \"may be due to a slow or bad network connection. Possible fixes:\\n\"+\n     \"</p>\\n\"+\n     \"<ul>\\n\"+\n     \"<li>re-rerun `output_notebook()` to attempt to load from CDN again, or</li>\\n\"+\n     \"<li>use INLINE resources instead, as so:</li>\\n\"+\n     \"</ul>\\n\"+\n     \"<code>\\n\"+\n     \"from bokeh.resources import INLINE\\n\"+\n     \"output_notebook(resources=INLINE)\\n\"+\n     \"</code>\\n\"+\n     \"</div>\"}};\n\n  function display_loaded() {\n    var el = document.getElementById(\"1001\");\n    if (el != null) {\n      el.textContent = \"BokehJS is loading...\";\n    }\n    if (root.Bokeh !== undefined) {\n      if (el != null) {\n        el.textContent = \"BokehJS \" + root.Bokeh.version + \" successfully loaded.\";\n      }\n    } else if (Date.now() < root._bokeh_timeout) {\n      setTimeout(display_loaded, 100)\n    }\n  }\n\n\n  function run_callbacks() {\n    try {\n      root._bokeh_onload_callbacks.forEach(function(callback) {\n        if (callback != null)\n          callback();\n      });\n    } finally {\n      delete root._bokeh_onload_callbacks\n    }\n    console.debug(\"Bokeh: all callbacks have finished\");\n  }\n\n  function load_libs(css_urls, js_urls, callback) {\n    if (css_urls == null) css_urls = [];\n    if (js_urls == null) js_urls = [];\n\n    root._bokeh_onload_callbacks.push(callback);\n    if (root._bokeh_is_loading > 0) {\n      console.debug(\"Bokeh: BokehJS is being loaded, scheduling callback at\", now());\n      return null;\n    }\n    if (js_urls == null || js_urls.length === 0) {\n      run_callbacks();\n      return null;\n    }\n    console.debug(\"Bokeh: BokehJS not loaded, scheduling load and callback at\", now());\n    root._bokeh_is_loading = css_urls.length + js_urls.length;\n\n    function on_load() {\n      root._bokeh_is_loading--;\n      if (root._bokeh_is_loading === 0) {\n        console.debug(\"Bokeh: all BokehJS libraries/stylesheets loaded\");\n        run_callbacks()\n      }\n    }\n\n    function on_error() {\n      console.error(\"failed to load \" + url);\n    }\n\n    for (var i = 0; i < css_urls.length; i++) {\n      var url = css_urls[i];\n      const element = document.createElement(\"link\");\n      element.onload = on_load;\n      element.onerror = on_error;\n      element.rel = \"stylesheet\";\n      element.type = \"text/css\";\n      element.href = url;\n      console.debug(\"Bokeh: injecting link tag for BokehJS stylesheet: \", url);\n      document.body.appendChild(element);\n    }\n\n    for (var i = 0; i < js_urls.length; i++) {\n      var url = js_urls[i];\n      var element = document.createElement('script');\n      element.onload = on_load;\n      element.onerror = on_error;\n      element.async = false;\n      element.src = url;\n      console.debug(\"Bokeh: injecting script tag for BokehJS library: \", url);\n      document.head.appendChild(element);\n    }\n  };var element = document.getElementById(\"1001\");\n  if (element == null) {\n    console.error(\"Bokeh: ERROR: autoload.js configured with elementid '1001' but no matching script tag was found. \")\n    return false;\n  }\n\n  function inject_raw_css(css) {\n    const element = document.createElement(\"style\");\n    element.appendChild(document.createTextNode(css));\n    document.body.appendChild(element);\n  }\n\n  var js_urls = [\"https://cdn.pydata.org/bokeh/release/bokeh-1.1.0.min.js\", \"https://cdn.pydata.org/bokeh/release/bokeh-widgets-1.1.0.min.js\", \"https://cdn.pydata.org/bokeh/release/bokeh-tables-1.1.0.min.js\", \"https://cdn.pydata.org/bokeh/release/bokeh-gl-1.1.0.min.js\"];\n  var css_urls = [\"https://cdn.pydata.org/bokeh/release/bokeh-1.1.0.min.css\", \"https://cdn.pydata.org/bokeh/release/bokeh-widgets-1.1.0.min.css\", \"https://cdn.pydata.org/bokeh/release/bokeh-tables-1.1.0.min.css\"];\n\n  var inline_js = [\n    function(Bokeh) {\n      Bokeh.set_log_level(\"info\");\n    },\n    \n    function(Bokeh) {\n      \n    },\n    function(Bokeh) {} // ensure no trailing comma for IE\n  ];\n\n  function run_inline_js() {\n    \n    if ((root.Bokeh !== undefined) || (force === true)) {\n      for (var i = 0; i < inline_js.length; i++) {\n        inline_js[i].call(root, root.Bokeh);\n      }if (force === true) {\n        display_loaded();\n      }} else if (Date.now() < root._bokeh_timeout) {\n      setTimeout(run_inline_js, 100);\n    } else if (!root._bokeh_failed_load) {\n      console.log(\"Bokeh: BokehJS failed to load within specified timeout.\");\n      root._bokeh_failed_load = true;\n    } else if (force !== true) {\n      var cell = $(document.getElementById(\"1001\")).parents('.cell').data().cell;\n      cell.output_area.append_execute_result(NB_LOAD_WARNING)\n    }\n\n  }\n\n  if (root._bokeh_is_loading === 0) {\n    console.debug(\"Bokeh: BokehJS loaded, going straight to plotting\");\n    run_inline_js();\n  } else {\n    load_libs(css_urls, js_urls, function() {\n      console.debug(\"Bokeh: BokehJS plotting callback run at\", now());\n      run_inline_js();\n    });\n  }\n}(window));"
     },
     "metadata": {},
     "output_type": "display_data"
    }
   ],
   "source": [
    "# Set up data science environment.\n",
    "import matplotlib\n",
    "import matplotlib.patches as mpatches\n",
    "import matplotlib.pyplot as plt\n",
    "import numpy as np\n",
    "import pandas as pd\n",
    "import pyLDAvis\n",
    "import pyLDAvis.sklearn\n",
    "import re\n",
    "import seaborn as sns\n",
    "import spacy\n",
    "import warnings\n",
    "from bokeh.io import output_notebook\n",
    "from bokeh.layouts import column\n",
    "from bokeh.models import HoverTool, CustomJS, ColumnDataSource, Slider\n",
    "from bokeh.palettes import all_palettes\n",
    "from bokeh.plotting import figure, show\n",
    "from collections import Counter\n",
    "from collections import Iterable\n",
    "from gensim import corpora, models\n",
    "from gensim.models.ldamodel import LdaModel\n",
    "from mpl_toolkits.mplot3d import Axes3D\n",
    "from nltk.corpus import inaugural, stopwords\n",
    "from nltk.stem.snowball import SnowballStemmer\n",
    "from nltk.tokenize import RegexpTokenizer\n",
    "from sklearn import metrics\n",
    "from sklearn.cluster import KMeans, MiniBatchKMeans\n",
    "from sklearn.decomposition import TruncatedSVD, LatentDirichletAllocation\n",
    "from sklearn.ensemble import RandomForestClassifier, GradientBoostingClassifier\n",
    "from sklearn.feature_extraction.text import CountVectorizer\n",
    "from sklearn.feature_extraction.text import TfidfVectorizer\n",
    "from sklearn.linear_model import LogisticRegression\n",
    "from sklearn.manifold import TSNE\n",
    "from sklearn.metrics import confusion_matrix, classification_report\n",
    "from sklearn.metrics import accuracy_score\n",
    "from sklearn.model_selection import cross_val_score, train_test_split\n",
    "from sklearn.model_selection import GridSearchCV, StratifiedKFold\n",
    "from sklearn.naive_bayes import BernoulliNB\n",
    "from sklearn.neural_network import MLPClassifier\n",
    "from sklearn.pipeline import Pipeline, make_pipeline\n",
    "from sklearn.preprocessing import MinMaxScaler, normalize, Normalizer\n",
    "from sklearn.tree import DecisionTreeClassifier\n",
    "from typing import Dict\n",
    "\n",
    "# Display preferences.\n",
    "%matplotlib inline\n",
    "output_notebook()\n",
    "pd.options.display.float_format = '{:.3f}'.format\n",
    "pyLDAvis.enable_notebook()\n",
    "sns.set_style('white')\n",
    "warnings.filterwarnings(\n",
    "    action='ignore',\n",
    "    module='scipy',\n",
    "    message='internal gelsd'\n",
    ")"
   ]
  },
  {
   "cell_type": "markdown",
   "metadata": {},
   "source": [
    "# Data Cleaning, Processing, and Language Parsing"
   ]
  },
  {
   "cell_type": "code",
   "execution_count": 2,
   "metadata": {
    "ExecuteTime": {
     "end_time": "2019-08-15T02:53:48.864843Z",
     "start_time": "2019-08-15T02:53:48.855764Z"
    }
   },
   "outputs": [],
   "source": [
    "# Create lists for files and presidents.\n",
    "files = [\"1789-Washington.txt\",\n",
    "         \"1801-Jefferson.txt\",\n",
    "         \"1861-Lincoln.txt\",\n",
    "         \"1933-Roosevelt.txt\",\n",
    "         \"1953-Eisenhower.txt\",\n",
    "         \"1961-Kennedy.txt\",\n",
    "         \"1981-Reagan.txt\",\n",
    "         \"1989-Bush.txt\",\n",
    "         \"1993-Clinton.txt\",\n",
    "         \"2009-Obama.txt\"]\n",
    "\n",
    "presidents = [\"washington\",\n",
    "              \"jefferson\",\n",
    "              \"lincoln\",\n",
    "              \"fdr\",\n",
    "              \"eisenhower\",\n",
    "              \"kennedy\",\n",
    "              \"reagan\",\n",
    "              \"ghwbush\",\n",
    "              \"clinton\",\n",
    "              \"obama\"]\n",
    "\n",
    "# Control to make sure both lists are the same length.\n",
    "assert len(files) == len(presidents)"
   ]
  },
  {
   "cell_type": "code",
   "execution_count": 3,
   "metadata": {
    "ExecuteTime": {
     "end_time": "2019-08-15T02:53:48.884008Z",
     "start_time": "2019-08-15T02:53:48.868191Z"
    }
   },
   "outputs": [],
   "source": [
    "# Loop to open files.\n",
    "docs = []\n",
    "for file_name, president in zip(files, presidents):\n",
    "    with open(f'./inaugural/{file_name}') as f:\n",
    "        doc = f.read()\n",
    "        docs.append((doc, president))"
   ]
  },
  {
   "cell_type": "code",
   "execution_count": 4,
   "metadata": {
    "ExecuteTime": {
     "end_time": "2019-08-15T02:53:48.892851Z",
     "start_time": "2019-08-15T02:53:48.887073Z"
    }
   },
   "outputs": [],
   "source": [
    "def text_cleaner(text: str) -> str:\n",
    "    \"\"\"Function to strip all characters except letters in words.\"\"\"\n",
    "    text = re.sub(r'--', ' ', text)\n",
    "    text = re.sub(r'\\d+', '', text)\n",
    "    text = re.sub(r\"[\\[].*?[\\]]\", \"\", text)\n",
    "    text = re.sub(r\"[\\<].*?[\\>]\", \"\", text)\n",
    "    text = ' '.join(text.split())\n",
    "    return text"
   ]
  },
  {
   "cell_type": "code",
   "execution_count": 5,
   "metadata": {
    "ExecuteTime": {
     "end_time": "2019-08-15T02:53:48.905261Z",
     "start_time": "2019-08-15T02:53:48.895404Z"
    }
   },
   "outputs": [],
   "source": [
    "# Use text_cleaner on the docs, combine them into data frame (clean_docs).\n",
    "clean_docs = []\n",
    "for doc, pres in docs:\n",
    "    clean_doc = text_cleaner(doc)\n",
    "    clean_docs.append((clean_doc, pres))"
   ]
  },
  {
   "cell_type": "code",
   "execution_count": 6,
   "metadata": {
    "ExecuteTime": {
     "end_time": "2019-08-15T02:53:48.915021Z",
     "start_time": "2019-08-15T02:53:48.907968Z"
    },
    "run_control": {
     "marked": false
    },
    "scrolled": true
   },
   "outputs": [
    {
     "name": "stdout",
     "output_type": "stream",
     "text": [
      "Fellow-Citizens of the Senate and of the House of Representatives: Among the vicissitudes incident t WASHINGTON\n",
      "\n",
      "Friends and Fellow Citizens: Called upon to undertake the duties of the first executive office of ou JEFFERSON\n",
      "\n",
      "Fellow-Citizens of the United States: In compliance with a custom as old as the Government itself, I LINCOLN\n",
      "\n",
      "I am certain that my fellow Americans expect that on my induction into the Presidency I will address FDR\n",
      "\n",
      "My friends, before I begin the expression of those thoughts that I deem appropriate to this moment,  EISENHOWER\n",
      "\n",
      "Vice President Johnson, Mr. Speaker, Mr. Chief Justice, President Eisenhower, Vice President Nixon,  KENNEDY\n",
      "\n",
      "Senator Hatfield, Mr. Chief Justice, Mr. President, Vice President Bush, Vice President Mondale, Sen REAGAN\n",
      "\n",
      "Mr. Chief Justice, Mr. President, Vice President Quayle, Senator Mitchell, Speaker Wright, Senator D GHWBUSH\n",
      "\n",
      "My fellow citizens, today we celebrate the mystery of American renewal. This ceremony is held in the CLINTON\n",
      "\n",
      "My fellow citizens: I stand here today humbled by the task before us, grateful for the trust you hav OBAMA\n",
      "\n"
     ]
    }
   ],
   "source": [
    "# Iterate through each doc and print the first 100 characters for inspection.\n",
    "for doc, pres in clean_docs:\n",
    "    print(doc[:100], pres.upper()) \n",
    "    print()"
   ]
  },
  {
   "cell_type": "code",
   "execution_count": 7,
   "metadata": {
    "ExecuteTime": {
     "end_time": "2019-08-15T02:53:48.922149Z",
     "start_time": "2019-08-15T02:53:48.918295Z"
    }
   },
   "outputs": [
    {
     "name": "stdout",
     "output_type": "stream",
     "text": [
      "13334\n"
     ]
    }
   ],
   "source": [
    "# Find number of characters in all docs.\n",
    "print(len(clean_doc))"
   ]
  },
  {
   "cell_type": "code",
   "execution_count": 8,
   "metadata": {
    "ExecuteTime": {
     "end_time": "2019-08-15T02:53:54.229116Z",
     "start_time": "2019-08-15T02:53:48.924989Z"
    }
   },
   "outputs": [],
   "source": [
    "# Define nlp as spacy.\n",
    "nlp = spacy.load('en')\n",
    "# Create an empty list for df.\n",
    "df_list = []\n",
    "\n",
    "\n",
    "def nlp_text(text_file: str) -> doc:\n",
    "    \"\"\"Function that takes a text file and tokenizes it with spacy.\"\"\"\n",
    "    return nlp(text_file)\n",
    "\n",
    "\n",
    "def sentences(doc_nlp: str, speaker: str) -> [str, str]:\n",
    "    \"\"\"Function that takes two strings, lemmatizes the first string and \n",
    "    returns a list with two strings.\n",
    "    \"\"\"\n",
    "    return [[sent.lemma_, speaker] for sent in doc_nlp.sents]\n",
    "\n",
    "\n",
    "def sentences_to_df(sents):\n",
    "    \"\"\"Function that takes a string and returns a data frame.\"\"\"\n",
    "    return pd.DataFrame(sents)\n",
    "\n",
    "\n",
    "# Calling each function.\n",
    "for doc, pres in clean_docs:\n",
    "    parsed = nlp_text(doc)\n",
    "    sents = sentences(parsed, pres)\n",
    "    df = sentences_to_df(sents)\n",
    "    df_list.append(df)"
   ]
  },
  {
   "cell_type": "code",
   "execution_count": 9,
   "metadata": {
    "ExecuteTime": {
     "end_time": "2019-08-15T02:53:54.239413Z",
     "start_time": "2019-08-15T02:53:54.230898Z"
    }
   },
   "outputs": [],
   "source": [
    "# Combine each sentence data frame into one master data frame.\n",
    "sent_df = pd.concat([*df_list])"
   ]
  },
  {
   "cell_type": "code",
   "execution_count": 10,
   "metadata": {
    "ExecuteTime": {
     "end_time": "2019-08-15T02:53:54.253904Z",
     "start_time": "2019-08-15T02:53:54.241556Z"
    }
   },
   "outputs": [
    {
     "data": {
      "text/plain": [
       "ghwbush       145\n",
       "lincoln       139\n",
       "reagan        130\n",
       "eisenhower    121\n",
       "obama         113\n",
       "fdr            86\n",
       "clinton        82\n",
       "kennedy        53\n",
       "jefferson      42\n",
       "washington     25\n",
       "Name: President, dtype: int64"
      ]
     },
     "execution_count": 10,
     "metadata": {},
     "output_type": "execute_result"
    }
   ],
   "source": [
    "# Rename columns.\n",
    "sent_df.columns = ['sentence', 'President']\n",
    "\n",
    "# Check the count of sents per President.\n",
    "sent_df.President.value_counts()"
   ]
  },
  {
   "cell_type": "code",
   "execution_count": 11,
   "metadata": {
    "ExecuteTime": {
     "end_time": "2019-08-15T02:53:54.269134Z",
     "start_time": "2019-08-15T02:53:54.257076Z"
    }
   },
   "outputs": [],
   "source": [
    "# Filter out pronouns from results.\n",
    "sent_df['sentence'] = sent_df['sentence'].str.replace('-PRON-', '')"
   ]
  },
  {
   "cell_type": "markdown",
   "metadata": {},
   "source": [
    "# Creating Features"
   ]
  },
  {
   "cell_type": "code",
   "execution_count": 12,
   "metadata": {
    "ExecuteTime": {
     "end_time": "2019-08-15T02:53:54.283463Z",
     "start_time": "2019-08-15T02:53:54.274735Z"
    }
   },
   "outputs": [],
   "source": [
    "# Splitting the data.\n",
    "X = sent_df.sentence\n",
    "y = sent_df.President\n",
    "X_train_eval, X_holdout, y_train_eval, y_holdout = train_test_split(\n",
    "    X, y, test_size=0.25, random_state=15)"
   ]
  },
  {
   "cell_type": "code",
   "execution_count": 13,
   "metadata": {
    "ExecuteTime": {
     "end_time": "2019-08-15T02:53:54.293056Z",
     "start_time": "2019-08-15T02:53:54.286961Z"
    }
   },
   "outputs": [],
   "source": [
    "# Splitting into train/eval/holdout groups.\n",
    "X_train, X_eval, y_train, y_eval = train_test_split(\n",
    "    X_train_eval, y_train_eval, test_size=0.25, random_state=15)"
   ]
  },
  {
   "cell_type": "code",
   "execution_count": 14,
   "metadata": {
    "ExecuteTime": {
     "end_time": "2019-08-15T02:53:54.300560Z",
     "start_time": "2019-08-15T02:53:54.296741Z"
    }
   },
   "outputs": [],
   "source": [
    "# Create base parameters dictionary.\n",
    "base_param_dict = {'strip_accents': 'unicode',\n",
    "                   'lowercase': True,\n",
    "                   'stop_words': 'english',\n",
    "                   'ngram_range': (1, 3),\n",
    "                   'max_df': 0.5,\n",
    "                   'min_df': 5,\n",
    "                   'max_features': 1000}"
   ]
  },
  {
   "cell_type": "markdown",
   "metadata": {},
   "source": [
    "## Count Vectorizer"
   ]
  },
  {
   "cell_type": "code",
   "execution_count": 15,
   "metadata": {
    "ExecuteTime": {
     "end_time": "2019-08-15T02:53:54.355599Z",
     "start_time": "2019-08-15T02:53:54.303673Z"
    },
    "run_control": {
     "marked": false
    }
   },
   "outputs": [
    {
     "name": "stdout",
     "output_type": "stream",
     "text": [
      "(526, 231)\n"
     ]
    }
   ],
   "source": [
    "# Instantiate CountVectorizer.\n",
    "bow = CountVectorizer(**base_param_dict)\n",
    "tf_vectorizer = CountVectorizer(**base_param_dict)\n",
    "\n",
    "# Fit/transform document-term matrix.\n",
    "dtm_tf = tf_vectorizer.fit_transform(X_train)\n",
    "print(dtm_tf.shape)"
   ]
  },
  {
   "cell_type": "code",
   "execution_count": 16,
   "metadata": {
    "ExecuteTime": {
     "end_time": "2019-08-15T02:53:54.467818Z",
     "start_time": "2019-08-15T02:53:54.357704Z"
    },
    "run_control": {
     "marked": false
    }
   },
   "outputs": [],
   "source": [
    "# Convert X_train, X_test into dfs of bags of words.\n",
    "_bow_train = bow.fit_transform(X_train)\n",
    "_bow_eval = bow.transform(X_eval)\n",
    "_bow_holdout = bow.transform(X_holdout)\n",
    "assert len(X_train) == _bow_train.shape[0]  # df and sparse-matrix\n",
    "\n",
    "# Find feature names.\n",
    "feature_names = bow.get_feature_names()\n",
    "\n",
    "# Sparse matrix to data frame.\n",
    "X_train_bow = pd.DataFrame(_bow_train.toarray(), columns=feature_names)\n",
    "X_eval_bow = pd.DataFrame(_bow_eval.toarray(), columns=feature_names)\n",
    "X_holdout_bow = pd.DataFrame(_bow_holdout.toarray(), columns=feature_names)"
   ]
  },
  {
   "cell_type": "code",
   "execution_count": 17,
   "metadata": {
    "ExecuteTime": {
     "end_time": "2019-08-15T02:53:54.512617Z",
     "start_time": "2019-08-15T02:53:54.480604Z"
    },
    "run_control": {
     "marked": false
    }
   },
   "outputs": [
    {
     "name": "stdout",
     "output_type": "stream",
     "text": [
      "\n",
      "Train Weights:\n",
      "            word  cum_weight\n",
      "147      people          58\n",
      "80   government          44\n",
      "227       world          44\n",
      "131      nation          39\n",
      "120        make          37\n",
      "121         man          35\n",
      "206        time          33\n",
      "79         good          32\n",
      "72         free          31\n",
      "81        great          29\n",
      "\n",
      "Eval Weights:\n",
      "            word  cum_weight\n",
      "80   government          15\n",
      "131      nation          14\n",
      "81        great          14\n",
      "135         new          13\n",
      "147      people          12\n",
      "74      freedom          11\n",
      "227       world          11\n",
      "226        work          10\n",
      "3       america          10\n",
      "194      states          10\n"
     ]
    }
   ],
   "source": [
    "# Calculate weights on training data.\n",
    "weights_bow = np.asarray(X_train_bow.sum(axis=0)).ravel()\n",
    "weights_bow_df = pd.DataFrame(\n",
    "    {'word': bow.get_feature_names(), 'cum_weight': weights_bow})\n",
    "print(\"\\nTrain Weights:\\n\", weights_bow_df.sort_values(\n",
    "    by='cum_weight', ascending=False).head(10))\n",
    "\n",
    "# # Calculate weights on eval data.\n",
    "weights_bow_eval = np.asarray(X_eval_bow.sum(axis=0)).ravel()\n",
    "weights_bow_eval_df = pd.DataFrame(\n",
    "    {'word': bow.get_feature_names(), 'cum_weight': weights_bow_eval})\n",
    "print(\"\\nEval Weights:\\n\", weights_bow_eval_df.sort_values(\n",
    "    by='cum_weight', ascending=False).head(10))"
   ]
  },
  {
   "cell_type": "markdown",
   "metadata": {},
   "source": [
    "## Tfidf"
   ]
  },
  {
   "cell_type": "code",
   "execution_count": 18,
   "metadata": {
    "ExecuteTime": {
     "end_time": "2019-08-15T02:53:54.590427Z",
     "start_time": "2019-08-15T02:53:54.517885Z"
    }
   },
   "outputs": [
    {
     "name": "stdout",
     "output_type": "stream",
     "text": [
      "(526, 231)\n"
     ]
    },
    {
     "name": "stderr",
     "output_type": "stream",
     "text": [
      "/Users/danmchenry/miniconda3/lib/python3.7/site-packages/sklearn/feature_extraction/text.py:1577: UserWarning: Only (<class 'numpy.float64'>, <class 'numpy.float32'>, <class 'numpy.float16'>) 'dtype' should be used. <class 'numpy.int64'> 'dtype' will be converted to np.float64.\n",
      "  UserWarning)\n"
     ]
    }
   ],
   "source": [
    "# Instantiate Tfidf Vectorizer.\n",
    "tfidf = TfidfVectorizer(**tf_vectorizer.get_params())\n",
    "dtm_tfidf = tfidf.fit_transform(X_train)\n",
    "print(dtm_tfidf.shape)"
   ]
  },
  {
   "cell_type": "code",
   "execution_count": 19,
   "metadata": {
    "ExecuteTime": {
     "end_time": "2019-08-15T02:53:54.668827Z",
     "start_time": "2019-08-15T02:53:54.595935Z"
    },
    "run_control": {
     "marked": false
    }
   },
   "outputs": [],
   "source": [
    "# Convert X_train, X_test into scipy sparse matrices of tfidf values.\n",
    "_tfidf_train = tfidf.fit_transform(X_train)\n",
    "_tfidf_eval = tfidf.transform(X_eval)\n",
    "_tfidf_holdout = tfidf.transform(X_holdout)\n",
    "assert len(X_train) == _tfidf_train.shape[0]  # df and sparse-matrix\n",
    "\n",
    "# Find feature names.\n",
    "feature_names_tfidf = tfidf.get_feature_names()\n",
    "\n",
    "# Sparse matrix to data frames.\n",
    "X_train_tfidf = pd.DataFrame(\n",
    "    _tfidf_train.toarray(), columns=feature_names_tfidf)\n",
    "X_eval_tfidf = pd.DataFrame(\n",
    "    _tfidf_eval.toarray(), columns=feature_names_tfidf)\n",
    "X_holdout_tfidf = pd.DataFrame(\n",
    "    _tfidf_holdout.toarray(), columns=feature_names_tfidf)"
   ]
  },
  {
   "cell_type": "code",
   "execution_count": 20,
   "metadata": {
    "ExecuteTime": {
     "end_time": "2019-08-15T02:53:54.693406Z",
     "start_time": "2019-08-15T02:53:54.673415Z"
    }
   },
   "outputs": [
    {
     "name": "stdout",
     "output_type": "stream",
     "text": [
      "\n",
      "Train Weights:\n",
      "            word  avg_weight\n",
      "147      people       0.032\n",
      "227       world       0.028\n",
      "80   government       0.028\n",
      "131      nation       0.026\n",
      "206        time       0.025\n",
      "108         let       0.023\n",
      "79         good       0.023\n",
      "120        make       0.022\n",
      "111        life       0.022\n",
      "81        great       0.022\n",
      "\n",
      "Eval Weights:\n",
      "            word  avg_weight\n",
      "135         new       0.029\n",
      "226        work       0.029\n",
      "81        great       0.028\n",
      "74      freedom       0.027\n",
      "132    national       0.027\n",
      "194      states       0.025\n",
      "131      nation       0.024\n",
      "80   government       0.023\n",
      "147      people       0.023\n",
      "158   principle       0.023\n"
     ]
    }
   ],
   "source": [
    "# Calculate weights on training data.\n",
    "weights = np.asarray(X_train_tfidf.mean(axis=0)).ravel()\n",
    "weights_df = pd.DataFrame(\n",
    "    {'word': tfidf.get_feature_names(), 'avg_weight': weights})\n",
    "print(\"\\nTrain Weights:\\n\", weights_df.sort_values(\n",
    "    by='avg_weight', ascending=False).head(10))\n",
    "\n",
    "# Calculate weights on eval data.\n",
    "weights = np.asarray(X_eval_tfidf.mean(axis=0)).ravel()\n",
    "weights_df = pd.DataFrame(\n",
    "    {'word': tfidf.get_feature_names(), 'avg_weight': weights})\n",
    "print(\"\\nEval Weights:\\n\", weights_df.sort_values(\n",
    "    by='avg_weight', ascending=False).head(10))"
   ]
  },
  {
   "cell_type": "code",
   "execution_count": 21,
   "metadata": {
    "ExecuteTime": {
     "end_time": "2019-08-15T02:53:54.702927Z",
     "start_time": "2019-08-15T02:53:54.697603Z"
    }
   },
   "outputs": [],
   "source": [
    "# tests = {'pos': ['good', 'equality', 'freedom', 'progress'],\n",
    "#          'neg': ['government', 'nation', 'foreign']}"
   ]
  },
  {
   "cell_type": "code",
   "execution_count": 22,
   "metadata": {
    "ExecuteTime": {
     "end_time": "2019-08-15T02:53:54.714211Z",
     "start_time": "2019-08-15T02:53:54.709993Z"
    }
   },
   "outputs": [],
   "source": [
    "# test_pos = pd.DataFrame(tests)\n",
    "# test_tfidf = pd.DataFrame(tfidf.transform(test_pos))"
   ]
  },
  {
   "cell_type": "markdown",
   "metadata": {},
   "source": [
    "## Latent Semantic Analysis (LSA)"
   ]
  },
  {
   "cell_type": "code",
   "execution_count": 23,
   "metadata": {
    "ExecuteTime": {
     "end_time": "2019-08-15T02:53:54.801479Z",
     "start_time": "2019-08-15T02:53:54.719184Z"
    }
   },
   "outputs": [
    {
     "name": "stdout",
     "output_type": "stream",
     "text": [
      "Percent variance captured by components: 74.95773248880421\n",
      "\n",
      "Component 0:\n",
      "sentence\n",
      " government have no power except that grant  by the people .                                                                                                                                                                                                                                                                                                                                                                                                                                                                                                                                                                                                                                                                                                                                                                                                                                                                                                                                                                                                                                                                                                                                                                                                                                                                                                                                                                                                                                                    0.434\n",
      "to the people of poor nation ,  pledge to work alongside  to make  farm flourish and let clean water flow ; to nourish starve body and feed hungry mind .                                                                                                                                                                                                                                                                                                                                                                                                                                                                                                                                                                                                                                                                                                                                                                                                                                                                                                                                                                                                                                                                                                                                                                                                                                                                                                                                                       0.424\n",
      "americans deserve good , and in this city today there be people who want to do good , and so  say to all of  here , let  resolve to reform  politic , so that power and privilege no longer shout down the voice of the people .                                                                                                                                                                                                                                                                                                                                                                                                                                                                                                                                                                                                                                                                                                                                                                                                                                                                                                                                                                                                                                                                                                                                                                                                                                                                                0.421\n",
      "equal and exact justice to all man , of whatev state or persuasion , religious or political ; peace , commerce , and honest friendship with all nation , entangle alliance with none ; the support of the state government in all  right , as the most competent administration for  domestic concern and the sure bulwark against antirepublican tendency ; the preservation of the general government in  whole constitutional vigor , as the sheet anchor of  peace at home and safety abroad ; a jealous care of the right of election by the people a mild and safe corrective of abuse which be lop by the sword of revolution where peaceable remedy be unprovided ; absolute acquiescence in the decision of the majority , the vital principle of republic , from which be no appeal but to force , the vital principle and immediate parent of despotism ; a well discipline militia ,  good reliance in peace and for the first moment of war , till regular may relieve  ; the supremacy of the civil over the military authority ; economy in the public expense , that labor may be lightly burthen ; the honest payment of  debt and sacred preservation of the public faith ; encouragement of agriculture , and of commerce as  handmaid ; the diffusion of information and arraignment of all abuse at the bar of the public reason ; freedom of religion ; freedom of the press , and freedom of person under the protection of the habeas corpus , and trial by jury impartially select .   0.418\n",
      "by  gracious cooperation in the transition process ,  have show a watch world that  be a united people pledge to maintain a political system which guarantee individual liberty to a great degree than any other , and  thank  and  people for all  help in maintain the continuity which be the bulwark of  republic .                                                                                                                                                                                                                                                                                                                                                                                                                                                                                                                                                                                                                                                                                                                                                                                                                                                                                                                                                                                                                                                                                                                                                                                         0.415\n",
      "Name: 0, dtype: float64\n",
      "\n",
      "Component 1:\n",
      "sentence\n",
      "now , so there will be no misunderstanding ,  be not  intention to do away with government .                                                                                                                                                        0.628\n",
      "the government will not assail  .                                                                                                                                                                                                                   0.628\n",
      "from time to time ,  have be tempt to believe that society have become too complex to be manage by self - rule , that government by an elite group be superior to government for , by , and of the people .                                         0.587\n",
      "while the strict legal right may exist in the government to enforce the exercise of these office , the attempt to do so would be so irritate and so nearly impracticable withal that  deem  better to forego for the time the us of such office .   0.565\n",
      " be time to check and reverse the growth of government which show sign of have grow beyond the consent of the govern .                                                                                                                              0.531\n",
      "Name: 1, dtype: float64\n",
      "\n",
      "Component 2:\n",
      "sentence\n",
      "let  embrace  .                                                                                                                                                                 0.550\n",
      "so let  mark this day with remembrance , of who  be and how far  have travel .                                                                                                  0.511\n",
      "so , as  begin , let  take inventory .                                                                                                                                          0.505\n",
      "so let  begin anew remember on both side that civility be not a sign of weakness , and sincerity be always subject to proof .                                                   0.485\n",
      "and so ,  fellow americans , as  stand at the edge of the st century , let  begin anew , with energy and hope , with faith and discipline , and let  work until  work be do .   0.465\n",
      "Name: 2, dtype: float64\n",
      "\n",
      "Component 3:\n",
      "sentence\n",
      "technology be almost magical , and ambition for a good life be now universal .                                                                                                        0.685\n",
      "disease diminish and life lengthen .                                                                                                                                                  0.598\n",
      " threaten to shatter the life of million of  people .                                                                                                                                 0.590\n",
      "for  ,  pack up  few worldly possession and travel across ocean in search of a new life .                                                                                             0.516\n",
      " be no coincidence that  present trouble parallel and be proportionate to the intervention and intrusion in  life that result from unnecessary and excessive growth of government .   0.485\n",
      "Name: 3, dtype: float64\n",
      "\n",
      "Component 4:\n",
      "sentence\n",
      " have no vision , and when there be no vision the people perish .                                                                        0.508\n",
      "the chief magistrate derive all  authority from the people , and  have refer none upon  to fix term for the separation of the states .   0.429\n",
      "the people of the united states have not fail .                                                                                          0.411\n",
      "especially  pray that  concern shall be for all the people regardless of station , race , or call .                                      0.396\n",
      "for the impoverishment of any single people in the world mean danger to the well - being of all other people .                           0.381\n",
      "Name: 4, dtype: float64\n"
     ]
    }
   ],
   "source": [
    "# Reduce feature space to 100 features with SVD.\n",
    "svd = TruncatedSVD(100)\n",
    "\n",
    "# Make pipeline to run SVD and normalize results.\n",
    "lsa_pipe = make_pipeline(svd, Normalizer())\n",
    "\n",
    "# Fit with training data, transform test data.\n",
    "X_train_lsa = lsa_pipe.fit_transform(X_train_tfidf)\n",
    "X_eval_lsa = lsa_pipe.transform(X_eval_tfidf)\n",
    "X_holdout_lsa = lsa_pipe.transform(X_holdout_tfidf)\n",
    "\n",
    "# Examine variance captured in reduced feature space.\n",
    "variance_explained = svd.explained_variance_ratio_\n",
    "total_variance = variance_explained.sum()\n",
    "print('Percent variance captured by components:', total_variance*100)\n",
    "\n",
    "sent_by_component = pd.DataFrame(X_train_lsa, index=X_train)\n",
    "\n",
    "# Look at values from first 5 components.\n",
    "for i in range(5):\n",
    "    print('\\nComponent {}:'.format(i))\n",
    "    print(sent_by_component.loc[:, i].sort_values(ascending=False)[:5])"
   ]
  },
  {
   "cell_type": "code",
   "execution_count": 24,
   "metadata": {
    "ExecuteTime": {
     "end_time": "2019-08-15T02:53:55.189688Z",
     "start_time": "2019-08-15T02:53:54.804869Z"
    },
    "run_control": {
     "marked": false
    }
   },
   "outputs": [
    {
     "data": {
      "image/png": "[encoded data removed]",
      "text/plain": [
       "<Figure size 432x288 with 1 Axes>"
      ]
     },
     "metadata": {
      "needs_background": "light"
     },
     "output_type": "display_data"
    }
   ],
   "source": [
    "sns.scatterplot(X_train_lsa[:,0], X_train_lsa[:,1], hue = y_train);"
   ]
  },
  {
   "cell_type": "code",
   "execution_count": 25,
   "metadata": {
    "ExecuteTime": {
     "end_time": "2019-08-15T02:53:55.196469Z",
     "start_time": "2019-08-15T02:53:55.191791Z"
    }
   },
   "outputs": [],
   "source": [
    "pres = set(y_train)\n",
    "colors = range(10)\n",
    "pairs = {p: c for p, c in zip(pres, colors)}"
   ]
  },
  {
   "cell_type": "code",
   "execution_count": 26,
   "metadata": {
    "ExecuteTime": {
     "end_time": "2019-08-15T02:53:55.206246Z",
     "start_time": "2019-08-15T02:53:55.199537Z"
    }
   },
   "outputs": [],
   "source": [
    "# Creating a temp data frame combining lsa features with target.\n",
    "temp_df = pd.DataFrame(X_train_lsa)\n",
    "temp_df['target'] = y_train.values"
   ]
  },
  {
   "cell_type": "code",
   "execution_count": 27,
   "metadata": {
    "ExecuteTime": {
     "end_time": "2019-08-15T02:53:55.710534Z",
     "start_time": "2019-08-15T02:53:55.208699Z"
    },
    "run_control": {
     "marked": false
    }
   },
   "outputs": [
    {
     "data": {
      "text/plain": [
       "<matplotlib.legend.Legend at 0x1a273c5358>"
      ]
     },
     "execution_count": 27,
     "metadata": {},
     "output_type": "execute_result"
    },
    {
     "data": {
      "image/png": "[encoded data removed]",
      "text/plain": [
       "<Figure size 864x576 with 1 Axes>"
      ]
     },
     "metadata": {
      "needs_background": "light"
     },
     "output_type": "display_data"
    }
   ],
   "source": [
    "fig = plt.figure(figsize=(12, 8))\n",
    "ax = fig.add_subplot(111, projection='3d')\n",
    "#ax = fig.gca(projection='3d')\n",
    "#xs = X_train_lsa[:,0]\n",
    "#ys = X_train_lsa[:,1]\n",
    "#zs = X_train_lsa[:,2]\n",
    "#p1mask = y_train == 'washington'\n",
    "#scatter = ax.scatter(xs.iloc[p1mask], ys.iloc[p1mask], zs.iloc[p1mask],\n",
    "#                     edgecolors='w', c = 'red')\n",
    "#scatter = ax.scatter(xs, ys, zs, edgecolors='w', c = y_train.map(pairs))\n",
    "#legend1 = ax.legend(*scatter.legend_elements(), loc=\"lower left\", \n",
    "#                    title=\"Classes\") \n",
    "#ax.add_artist(legend1)\n",
    "\n",
    "#ax.legend(*scatter.legend_elements())\n",
    "for p, c in pairs.items():\n",
    "    data = temp_df[(temp_df.target == p) & (p not in ['washington', 'ghwbush'])]\n",
    "    xs = data.loc[:, 0]\n",
    "    ys = data.loc[:, 1]\n",
    "    zs = data.loc[:, 2]\n",
    "    ax.scatter(xs, ys, zs, c='gray', label=p)\n",
    "#    ax.scatter(xs, ys, zs, cmap='hot', label=p)\n",
    "#    print(f'color:{c} label:{p}')\n",
    "\n",
    "wash = temp_df[temp_df.target == 'washington']\n",
    "xs = wash.loc[:, 0]\n",
    "ys = wash.loc[:, 1]\n",
    "zs = wash.loc[:, 2]\n",
    "ax.scatter(xs, ys, zs, c='r', label='washington')\n",
    "\n",
    "bush = temp_df[temp_df.target == 'ghwbush']\n",
    "xs = bush.loc[:, 0]\n",
    "ys = bush.loc[:, 1]\n",
    "zs = bush.loc[:, 2]\n",
    "ax.scatter(xs, ys, zs, c='c', label='ghwbush')\n",
    "\n",
    "ax.set_xlabel('Component0')\n",
    "ax.set_ylabel('Component1')\n",
    "ax.set_zlabel('Component2')\n",
    "ax.legend(loc=2)\n",
    "#ax.legend(labels=(pairs.keys()));"
   ]
  },
  {
   "cell_type": "code",
   "execution_count": 28,
   "metadata": {
    "ExecuteTime": {
     "end_time": "2019-08-15T02:53:55.720941Z",
     "start_time": "2019-08-15T02:53:55.713194Z"
    },
    "scrolled": true
   },
   "outputs": [],
   "source": [
    "# Instantiate MinMaxScaler.\n",
    "scaler = MinMaxScaler()"
   ]
  },
  {
   "cell_type": "code",
   "execution_count": 29,
   "metadata": {
    "ExecuteTime": {
     "end_time": "2019-08-15T02:53:55.732319Z",
     "start_time": "2019-08-15T02:53:55.723421Z"
    }
   },
   "outputs": [],
   "source": [
    "# Create train/eval/holdout groups for LSA.\n",
    "X_train_lsa_scaled = pd.DataFrame(scaler.fit_transform(X_train_lsa))\n",
    "X_eval_lsa_scaled = pd.DataFrame(scaler.transform(X_eval_lsa))\n",
    "X_holdout_lsa_scaled = pd.DataFrame(scaler.transform(X_holdout_lsa))"
   ]
  },
  {
   "cell_type": "markdown",
   "metadata": {},
   "source": [
    "# Clustering Models"
   ]
  },
  {
   "cell_type": "code",
   "execution_count": 30,
   "metadata": {
    "ExecuteTime": {
     "end_time": "2019-08-15T02:54:00.185764Z",
     "start_time": "2019-08-15T02:53:55.736238Z"
    }
   },
   "outputs": [
    {
     "name": "stdout",
     "output_type": "stream",
     "text": [
      "KMeans(algorithm='auto', copy_x=True, init='k-means++', max_iter=300,\n",
      "    n_clusters=2, n_init=10, n_jobs=None, precompute_distances='auto',\n",
      "    random_state=15, tol=0.0001, verbose=0)\n",
      "clusters: 2\t silhouette: 0.024038081526201075\n",
      "\n",
      "KMeans \n",
      " col_0    0   1\n",
      "row_0         \n",
      "0      487   0\n",
      "1        0  39 \n",
      "\n",
      "MiniBatchKMeans(batch_size=500, compute_labels=True, init='random',\n",
      "        init_size=None, max_iter=100, max_no_improvement=10, n_clusters=2,\n",
      "        n_init=3, random_state=None, reassignment_ratio=0.01, tol=0.0,\n",
      "        verbose=0)\n",
      "clusters: 2\t silhouette: 0.025189806162362816\n",
      "\n",
      "MiniBatch \n",
      " col_0    0   1\n",
      "row_0         \n",
      "0       78   1\n",
      "1      436  11 \n",
      "\n",
      "KMeans(algorithm='auto', copy_x=True, init='k-means++', max_iter=300,\n",
      "    n_clusters=3, n_init=10, n_jobs=None, precompute_distances='auto',\n",
      "    random_state=15, tol=0.0001, verbose=0)\n",
      "clusters: 3\t silhouette: 0.025777622722872567\n",
      "\n",
      "KMeans \n",
      " col_0    0   1   2\n",
      "row_0             \n",
      "0      421   0   0\n",
      "1        0  34   0\n",
      "2        0   0  71 \n",
      "\n",
      "MiniBatchKMeans(batch_size=500, compute_labels=True, init='random',\n",
      "        init_size=None, max_iter=100, max_no_improvement=10, n_clusters=3,\n",
      "        n_init=3, random_state=None, reassignment_ratio=0.01, tol=0.0,\n",
      "        verbose=0)\n",
      "clusters: 3\t silhouette: 0.023956304552423868\n",
      "\n",
      "MiniBatch \n",
      " col_0    0   1   2\n",
      "row_0             \n",
      "0       26   0   1\n",
      "1        1  16   0\n",
      "2      402  30  50 \n",
      "\n",
      "KMeans(algorithm='auto', copy_x=True, init='k-means++', max_iter=300,\n",
      "    n_clusters=4, n_init=10, n_jobs=None, precompute_distances='auto',\n",
      "    random_state=15, tol=0.0001, verbose=0)\n",
      "clusters: 4\t silhouette: 0.02862078840773947\n",
      "\n",
      "KMeans \n",
      " col_0    0   1   2   3\n",
      "row_0                 \n",
      "0      408   0   0   0\n",
      "1        0  38   0   0\n",
      "2        0   0  58   0\n",
      "3        0   0   0  22 \n",
      "\n",
      "MiniBatchKMeans(batch_size=500, compute_labels=True, init='random',\n",
      "        init_size=None, max_iter=100, max_no_improvement=10, n_clusters=4,\n",
      "        n_init=3, random_state=None, reassignment_ratio=0.01, tol=0.0,\n",
      "        verbose=0)\n",
      "clusters: 4\t silhouette: 0.01974991318451689\n",
      "\n",
      "MiniBatch \n",
      " col_0    0    1   2   3\n",
      "row_0                  \n",
      "0      148  235   2   0\n",
      "1        8    8   0   0\n",
      "2        4    4   3  27\n",
      "3       28   14  45   0 \n",
      "\n",
      "KMeans(algorithm='auto', copy_x=True, init='k-means++', max_iter=300,\n",
      "    n_clusters=5, n_init=10, n_jobs=None, precompute_distances='auto',\n",
      "    random_state=15, tol=0.0001, verbose=0)\n",
      "clusters: 5\t silhouette: 0.028553916123900673\n",
      "\n",
      "KMeans \n",
      " col_0    0   1   2   3   4\n",
      "row_0                     \n",
      "0      367   0   0   0   0\n",
      "1        0  29   0   0   0\n",
      "2        0   0  63   0   0\n",
      "3        0   0   0  35   0\n",
      "4        0   0   0   0  32 \n",
      "\n",
      "MiniBatchKMeans(batch_size=500, compute_labels=True, init='random',\n",
      "        init_size=None, max_iter=100, max_no_improvement=10, n_clusters=5,\n",
      "        n_init=3, random_state=None, reassignment_ratio=0.01, tol=0.0,\n",
      "        verbose=0)\n",
      "clusters: 5\t silhouette: 0.014134648457008936\n",
      "\n",
      "MiniBatch \n",
      " col_0    0    1   2   3   4\n",
      "row_0                      \n",
      "0      194  166  20  25  13\n",
      "1       34    9   0   1   0\n",
      "2        4   15   2   1   0\n",
      "3       26    7   1   3   0\n",
      "4        1    4   0   0   0 \n",
      "\n",
      "KMeans(algorithm='auto', copy_x=True, init='k-means++', max_iter=300,\n",
      "    n_clusters=6, n_init=10, n_jobs=None, precompute_distances='auto',\n",
      "    random_state=15, tol=0.0001, verbose=0)\n",
      "clusters: 6\t silhouette: 0.029534262962463382\n",
      "\n",
      "KMeans \n",
      " col_0    0   1   2   3   4   5\n",
      "row_0                         \n",
      "0      304   0   0   0   0   0\n",
      "1        0  85   0   0   0   0\n",
      "2        0   0  21   0   0   0\n",
      "3        0   0   0  36   0   0\n",
      "4        0   0   0   0  27   0\n",
      "5        0   0   0   0   0  53 \n",
      "\n",
      "MiniBatchKMeans(batch_size=500, compute_labels=True, init='random',\n",
      "        init_size=None, max_iter=100, max_no_improvement=10, n_clusters=6,\n",
      "        n_init=3, random_state=None, reassignment_ratio=0.01, tol=0.0,\n",
      "        verbose=0)\n",
      "clusters: 6\t silhouette: 0.026333306339431744\n",
      "\n",
      "MiniBatch \n",
      " col_0    0   1   2   3   4   5\n",
      "row_0                         \n",
      "0       40   1   4   1   4   2\n",
      "1      213  19  29  22  25  14\n",
      "2       30   0   3   0  10   7\n",
      "3        6  25   7   0   4   0\n",
      "4       12   9   1   0  23   0\n",
      "5        5   0  10   0   0   0 \n",
      "\n",
      "KMeans(algorithm='auto', copy_x=True, init='k-means++', max_iter=300,\n",
      "    n_clusters=7, n_init=10, n_jobs=None, precompute_distances='auto',\n",
      "    random_state=15, tol=0.0001, verbose=0)\n",
      "clusters: 7\t silhouette: 0.03467250479976268\n",
      "\n",
      "KMeans \n",
      " col_0   0   1    2   3   4   5   6\n",
      "row_0                             \n",
      "0      23   0    0   0   0   0   0\n",
      "1       0  19    0   0   0   0   0\n",
      "2       0   0  428   0   0   0   0\n",
      "3       0   0    0  11   0   0   0\n",
      "4       0   0    0   0  21   0   0\n",
      "5       0   0    0   0   0  13   0\n",
      "6       0   0    0   0   0   0  11 \n",
      "\n",
      "MiniBatchKMeans(batch_size=500, compute_labels=True, init='random',\n",
      "        init_size=None, max_iter=100, max_no_improvement=10, n_clusters=7,\n",
      "        n_init=3, random_state=None, reassignment_ratio=0.01, tol=0.0,\n",
      "        verbose=0)\n",
      "clusters: 7\t silhouette: 0.02715646160560635\n",
      "\n",
      "MiniBatch \n",
      " col_0   0    1   2  3   4   5   6\n",
      "row_0                            \n",
      "0       1    7   1  2   0   0   3\n",
      "1       7   50  11  0   1   6   1\n",
      "2      37  172  14  8  17  36  48\n",
      "3      24    5   1  0   0   6   1\n",
      "4       2   12  15  0   1   2   2\n",
      "5       0    9   0  0   0   0   6\n",
      "6       0   17   0  0   0   1   0 \n",
      "\n",
      "KMeans(algorithm='auto', copy_x=True, init='k-means++', max_iter=300,\n",
      "    n_clusters=8, n_init=10, n_jobs=None, precompute_distances='auto',\n",
      "    random_state=15, tol=0.0001, verbose=0)\n",
      "clusters: 8\t silhouette: 0.03190423892917613\n",
      "\n",
      "KMeans \n",
      " col_0    0   1   2   3   4   5   6   7\n",
      "row_0                                 \n",
      "0      230   0   0   0   0   0   0   0\n",
      "1        0  38   0   0   0   0   0   0\n",
      "2        0   0  36   0   0   0   0   0\n",
      "3        0   0   0  52   0   0   0   0\n",
      "4        0   0   0   0  38   0   0   0\n",
      "5        0   0   0   0   0  19   0   0\n",
      "6        0   0   0   0   0   0  39   0\n",
      "7        0   0   0   0   0   0   0  74 \n",
      "\n",
      "MiniBatchKMeans(batch_size=500, compute_labels=True, init='random',\n",
      "        init_size=None, max_iter=100, max_no_improvement=10, n_clusters=8,\n",
      "        n_init=3, random_state=None, reassignment_ratio=0.01, tol=0.0,\n",
      "        verbose=0)\n",
      "clusters: 8\t silhouette: 0.028938518511507024\n",
      "\n",
      "MiniBatch \n",
      " col_0   0   1    2   3  4   5   6   7\n",
      "row_0                                \n",
      "0       0   0    1   0  0   0   0   0\n",
      "1       1   1    0   5  0   0   0   0\n",
      "2       1   1   10   1  0   0   3   0\n",
      "3       0   0    3   0  0   0   0   0\n",
      "4       1   0    1   0  0   1   1   0\n",
      "5       1   1   19   0  1   1   1   2\n",
      "6      54  27  261  10  8  33  31  29\n",
      "7       1   1    0   0  0   0  14   0 \n",
      "\n",
      "KMeans(algorithm='auto', copy_x=True, init='k-means++', max_iter=300,\n",
      "    n_clusters=9, n_init=10, n_jobs=None, precompute_distances='auto',\n",
      "    random_state=15, tol=0.0001, verbose=0)\n",
      "clusters: 9\t silhouette: 0.033444860559750086\n",
      "\n",
      "KMeans \n",
      " col_0    0   1   2   3   4   5   6   7   8\n",
      "row_0                                     \n",
      "0      239   0   0   0   0   0   0   0   0\n",
      "1        0  49   0   0   0   0   0   0   0\n",
      "2        0   0  43   0   0   0   0   0   0\n",
      "3        0   0   0  29   0   0   0   0   0\n",
      "4        0   0   0   0  14   0   0   0   0\n",
      "5        0   0   0   0   0  26   0   0   0\n",
      "6        0   0   0   0   0   0  20   0   0\n",
      "7        0   0   0   0   0   0   0  84   0\n",
      "8        0   0   0   0   0   0   0   0  22 \n",
      "\n",
      "MiniBatchKMeans(batch_size=500, compute_labels=True, init='random',\n",
      "        init_size=None, max_iter=100, max_no_improvement=10, n_clusters=9,\n",
      "        n_init=3, random_state=None, reassignment_ratio=0.01, tol=0.0,\n",
      "        verbose=0)\n",
      "clusters: 9\t silhouette: 0.0316214926421116\n",
      "\n",
      "MiniBatch \n",
      " col_0   0    1   2   3   4   5   6   7   8\n",
      "row_0                                     \n",
      "0      10   40   1  28  11   0   0   0   4\n",
      "1       0    0   1   3   1   0  17   1   1\n",
      "2       0   11   0   1   1   3   0   0   1\n",
      "3       0    5   0   3   0   0   1   0   0\n",
      "4       1    0   0   0   1   0   0   0   9\n",
      "5      17  225  11  14   9  15   0  13  23\n",
      "6       0    7   0   0   1   1  11   1   1\n",
      "7       0   10   0   2   0   1   0   0   1\n",
      "8       0    2   0   2   0   4   0   0   0 \n",
      "\n",
      "KMeans(algorithm='auto', copy_x=True, init='k-means++', max_iter=300,\n",
      "    n_clusters=10, n_init=10, n_jobs=None, precompute_distances='auto',\n",
      "    random_state=15, tol=0.0001, verbose=0)\n"
     ]
    },
    {
     "name": "stdout",
     "output_type": "stream",
     "text": [
      "clusters: 10\t silhouette: 0.0387890509783065\n",
      "\n",
      "KMeans \n",
      " col_0    0   1   2   3   4   5   6   7   8   9\n",
      "row_0                                         \n",
      "0      251   0   0   0   0   0   0   0   0   0\n",
      "1        0  45   0   0   0   0   0   0   0   0\n",
      "2        0   0  24   0   0   0   0   0   0   0\n",
      "3        0   0   0  29   0   0   0   0   0   0\n",
      "4        0   0   0   0  21   0   0   0   0   0\n",
      "5        0   0   0   0   0  61   0   0   0   0\n",
      "6        0   0   0   0   0   0  27   0   0   0\n",
      "7        0   0   0   0   0   0   0  30   0   0\n",
      "8        0   0   0   0   0   0   0   0  18   0\n",
      "9        0   0   0   0   0   0   0   0   0  20 \n",
      "\n",
      "MiniBatchKMeans(batch_size=500, compute_labels=True, init='random',\n",
      "        init_size=None, max_iter=100, max_no_improvement=10, n_clusters=10,\n",
      "        n_init=3, random_state=None, reassignment_ratio=0.01, tol=0.0,\n",
      "        verbose=0)\n",
      "clusters: 10\t silhouette: 0.029732570146056125\n",
      "\n",
      "MiniBatch \n",
      " col_0   0    1  2   3   4   5  6  7  8  9\n",
      "row_0                                    \n",
      "0       7   25  1   5   1   0  0  0  1  0\n",
      "1      47  179  9  21   1  21  4  8  6  1\n",
      "2       0   24  1   0   2   5  2  0  0  0\n",
      "3       6   16  0   0   2   0  0  0  0  2\n",
      "4      12   13  0   2   1   0  0  0  0  0\n",
      "5       4   10  0   1   1   0  1  0  0  0\n",
      "6       0    5  0   1   0   0  0  0  1  0\n",
      "7       8   13  2   1  20   3  0  0  0  0\n",
      "8       6    5  1   3   0   3  0  1  0  0\n",
      "9       0    0  0   2   0   1  0  0  0  8 \n",
      "\n"
     ]
    }
   ],
   "source": [
    "# Clustering models\n",
    "models = []\n",
    "names = []\n",
    "plot_nums = []\n",
    "silhouettes = []\n",
    "clust = []\n",
    "\n",
    "for clusters in range(2, 11):\n",
    "    models.append(\n",
    "        (0, 'KMeans', KMeans(n_clusters=clusters,\n",
    "                             init='k-means++', random_state=15)))\n",
    "    models.append(\n",
    "        (1, 'MiniBatch', MiniBatchKMeans(init='random',\n",
    "                                         n_clusters=clusters,\n",
    "                                         batch_size=500)))\n",
    "# Check for numbers.**\n",
    "for _, name, model in models:\n",
    "    names.append(name)\n",
    "    model.fit(X_train_tfidf)\n",
    "    labels = model.labels_\n",
    "    print(model)\n",
    "    if len(set(labels)) > 1:\n",
    "        ypred = model.fit_predict(X_train_tfidf)\n",
    "        silhouette = metrics.silhouette_score(\n",
    "            X_train_tfidf, labels, metric='euclidean')\n",
    "        silhouettes.append(silhouette)\n",
    "        if silhouette > 0:\n",
    "            print('clusters: {}\\t silhouette: {}\\n'.format(\n",
    "                model.n_clusters, silhouette))\n",
    "            print(name, '\\n', pd.crosstab(ypred, labels), '\\n')"
   ]
  },
  {
   "cell_type": "markdown",
   "metadata": {},
   "source": [
    "## Tfidf"
   ]
  },
  {
   "cell_type": "code",
   "execution_count": 31,
   "metadata": {
    "ExecuteTime": {
     "end_time": "2019-08-15T02:54:00.500681Z",
     "start_time": "2019-08-15T02:54:00.197231Z"
    },
    "run_control": {
     "marked": false
    }
   },
   "outputs": [],
   "source": [
    "# Re-run KMeans and extract cluster information.\n",
    "model_tfidf = KMeans(n_clusters=10, random_state=15).fit(X_train_tfidf)\n",
    "\n",
    "# Extract cluster assignments for each data point.\n",
    "labels = model_tfidf.labels_"
   ]
  },
  {
   "cell_type": "code",
   "execution_count": 32,
   "metadata": {
    "ExecuteTime": {
     "end_time": "2019-08-15T02:54:00.525087Z",
     "start_time": "2019-08-15T02:54:00.503364Z"
    }
   },
   "outputs": [],
   "source": [
    "# Create cluster assignment for eval, holdout groups.\n",
    "X_eval_tfidf_labels = model_tfidf.predict(X_eval_tfidf)\n",
    "X_holdout_tfidf_labels = model_tfidf.predict(X_holdout_tfidf)\n",
    "\n",
    "# Create a column for cluster labels.\n",
    "X_eval_tfidf['clusters'] = X_eval_tfidf_labels\n",
    "X_holdout_tfidf['clusters'] = X_holdout_tfidf_labels\n",
    "\n",
    "X_train_tfidf['clusters'] = labels"
   ]
  },
  {
   "cell_type": "code",
   "execution_count": 33,
   "metadata": {
    "ExecuteTime": {
     "end_time": "2019-08-15T02:54:00.603496Z",
     "start_time": "2019-08-15T02:54:00.530818Z"
    },
    "run_control": {
     "marked": false
    },
    "scrolled": true
   },
   "outputs": [
    {
     "data": {
      "text/html": [
       "<div>\n",
       "<style scoped>\n",
       "    .dataframe tbody tr th:only-of-type {\n",
       "        vertical-align: middle;\n",
       "    }\n",
       "\n",
       "    .dataframe tbody tr th {\n",
       "        vertical-align: top;\n",
       "    }\n",
       "\n",
       "    .dataframe thead th {\n",
       "        text-align: right;\n",
       "    }\n",
       "</style>\n",
       "<table border=\"1\" class=\"dataframe\">\n",
       "  <thead>\n",
       "    <tr style=\"text-align: right;\">\n",
       "      <th></th>\n",
       "      <th>clusters</th>\n",
       "      <th>act</th>\n",
       "      <th>action</th>\n",
       "      <th>administration</th>\n",
       "      <th>america</th>\n",
       "      <th>american</th>\n",
       "      <th>american people</th>\n",
       "      <th>americans</th>\n",
       "      <th>ask</th>\n",
       "      <th>authority</th>\n",
       "      <th>...</th>\n",
       "      <th>way</th>\n",
       "      <th>willing</th>\n",
       "      <th>wish</th>\n",
       "      <th>woman</th>\n",
       "      <th>word</th>\n",
       "      <th>work</th>\n",
       "      <th>world</th>\n",
       "      <th>write</th>\n",
       "      <th>year</th>\n",
       "      <th>young</th>\n",
       "    </tr>\n",
       "  </thead>\n",
       "  <tbody>\n",
       "    <tr>\n",
       "      <th>0</th>\n",
       "      <td>0</td>\n",
       "      <td>0.015</td>\n",
       "      <td>0.005</td>\n",
       "      <td>0.003</td>\n",
       "      <td>0.019</td>\n",
       "      <td>0.002</td>\n",
       "      <td>0.000</td>\n",
       "      <td>0.011</td>\n",
       "      <td>0.010</td>\n",
       "      <td>0.011</td>\n",
       "      <td>...</td>\n",
       "      <td>0.003</td>\n",
       "      <td>0.000</td>\n",
       "      <td>0.004</td>\n",
       "      <td>0.006</td>\n",
       "      <td>0.001</td>\n",
       "      <td>0.000</td>\n",
       "      <td>0.001</td>\n",
       "      <td>0.006</td>\n",
       "      <td>0.003</td>\n",
       "      <td>0.007</td>\n",
       "    </tr>\n",
       "    <tr>\n",
       "      <th>1</th>\n",
       "      <td>1</td>\n",
       "      <td>0.000</td>\n",
       "      <td>0.000</td>\n",
       "      <td>0.000</td>\n",
       "      <td>0.006</td>\n",
       "      <td>0.007</td>\n",
       "      <td>0.000</td>\n",
       "      <td>0.014</td>\n",
       "      <td>0.012</td>\n",
       "      <td>0.000</td>\n",
       "      <td>...</td>\n",
       "      <td>0.016</td>\n",
       "      <td>0.012</td>\n",
       "      <td>0.007</td>\n",
       "      <td>0.008</td>\n",
       "      <td>0.008</td>\n",
       "      <td>0.005</td>\n",
       "      <td>0.024</td>\n",
       "      <td>0.000</td>\n",
       "      <td>0.000</td>\n",
       "      <td>0.016</td>\n",
       "    </tr>\n",
       "    <tr>\n",
       "      <th>2</th>\n",
       "      <td>2</td>\n",
       "      <td>0.000</td>\n",
       "      <td>0.000</td>\n",
       "      <td>0.000</td>\n",
       "      <td>0.017</td>\n",
       "      <td>0.000</td>\n",
       "      <td>0.000</td>\n",
       "      <td>0.012</td>\n",
       "      <td>0.000</td>\n",
       "      <td>0.000</td>\n",
       "      <td>...</td>\n",
       "      <td>0.030</td>\n",
       "      <td>0.030</td>\n",
       "      <td>0.000</td>\n",
       "      <td>0.000</td>\n",
       "      <td>0.010</td>\n",
       "      <td>0.000</td>\n",
       "      <td>0.017</td>\n",
       "      <td>0.000</td>\n",
       "      <td>0.015</td>\n",
       "      <td>0.000</td>\n",
       "    </tr>\n",
       "    <tr>\n",
       "      <th>3</th>\n",
       "      <td>3</td>\n",
       "      <td>0.000</td>\n",
       "      <td>0.000</td>\n",
       "      <td>0.000</td>\n",
       "      <td>0.016</td>\n",
       "      <td>0.021</td>\n",
       "      <td>0.000</td>\n",
       "      <td>0.019</td>\n",
       "      <td>0.000</td>\n",
       "      <td>0.000</td>\n",
       "      <td>...</td>\n",
       "      <td>0.037</td>\n",
       "      <td>0.018</td>\n",
       "      <td>0.000</td>\n",
       "      <td>0.000</td>\n",
       "      <td>0.000</td>\n",
       "      <td>0.000</td>\n",
       "      <td>0.015</td>\n",
       "      <td>0.000</td>\n",
       "      <td>0.000</td>\n",
       "      <td>0.000</td>\n",
       "    </tr>\n",
       "    <tr>\n",
       "      <th>4</th>\n",
       "      <td>4</td>\n",
       "      <td>0.000</td>\n",
       "      <td>0.009</td>\n",
       "      <td>0.018</td>\n",
       "      <td>0.000</td>\n",
       "      <td>0.023</td>\n",
       "      <td>0.000</td>\n",
       "      <td>0.043</td>\n",
       "      <td>0.000</td>\n",
       "      <td>0.000</td>\n",
       "      <td>...</td>\n",
       "      <td>0.000</td>\n",
       "      <td>0.000</td>\n",
       "      <td>0.000</td>\n",
       "      <td>0.000</td>\n",
       "      <td>0.000</td>\n",
       "      <td>0.000</td>\n",
       "      <td>0.010</td>\n",
       "      <td>0.000</td>\n",
       "      <td>0.000</td>\n",
       "      <td>0.000</td>\n",
       "    </tr>\n",
       "    <tr>\n",
       "      <th>5</th>\n",
       "      <td>5</td>\n",
       "      <td>0.005</td>\n",
       "      <td>0.009</td>\n",
       "      <td>0.008</td>\n",
       "      <td>0.029</td>\n",
       "      <td>0.021</td>\n",
       "      <td>0.023</td>\n",
       "      <td>0.000</td>\n",
       "      <td>0.006</td>\n",
       "      <td>0.016</td>\n",
       "      <td>...</td>\n",
       "      <td>0.008</td>\n",
       "      <td>0.000</td>\n",
       "      <td>0.008</td>\n",
       "      <td>0.015</td>\n",
       "      <td>0.005</td>\n",
       "      <td>0.000</td>\n",
       "      <td>0.195</td>\n",
       "      <td>0.000</td>\n",
       "      <td>0.006</td>\n",
       "      <td>0.000</td>\n",
       "    </tr>\n",
       "    <tr>\n",
       "      <th>6</th>\n",
       "      <td>6</td>\n",
       "      <td>0.011</td>\n",
       "      <td>0.036</td>\n",
       "      <td>0.000</td>\n",
       "      <td>0.015</td>\n",
       "      <td>0.013</td>\n",
       "      <td>0.014</td>\n",
       "      <td>0.027</td>\n",
       "      <td>0.016</td>\n",
       "      <td>0.000</td>\n",
       "      <td>...</td>\n",
       "      <td>0.000</td>\n",
       "      <td>0.000</td>\n",
       "      <td>0.000</td>\n",
       "      <td>0.000</td>\n",
       "      <td>0.160</td>\n",
       "      <td>0.000</td>\n",
       "      <td>0.025</td>\n",
       "      <td>0.053</td>\n",
       "      <td>0.030</td>\n",
       "      <td>0.012</td>\n",
       "    </tr>\n",
       "    <tr>\n",
       "      <th>7</th>\n",
       "      <td>7</td>\n",
       "      <td>0.000</td>\n",
       "      <td>0.018</td>\n",
       "      <td>0.025</td>\n",
       "      <td>0.000</td>\n",
       "      <td>0.008</td>\n",
       "      <td>0.009</td>\n",
       "      <td>0.000</td>\n",
       "      <td>0.039</td>\n",
       "      <td>0.004</td>\n",
       "      <td>...</td>\n",
       "      <td>0.000</td>\n",
       "      <td>0.000</td>\n",
       "      <td>0.011</td>\n",
       "      <td>0.000</td>\n",
       "      <td>0.000</td>\n",
       "      <td>0.000</td>\n",
       "      <td>0.000</td>\n",
       "      <td>0.000</td>\n",
       "      <td>0.044</td>\n",
       "      <td>0.000</td>\n",
       "    </tr>\n",
       "    <tr>\n",
       "      <th>8</th>\n",
       "      <td>8</td>\n",
       "      <td>0.027</td>\n",
       "      <td>0.000</td>\n",
       "      <td>0.000</td>\n",
       "      <td>0.021</td>\n",
       "      <td>0.000</td>\n",
       "      <td>0.000</td>\n",
       "      <td>0.036</td>\n",
       "      <td>0.017</td>\n",
       "      <td>0.000</td>\n",
       "      <td>...</td>\n",
       "      <td>0.000</td>\n",
       "      <td>0.019</td>\n",
       "      <td>0.000</td>\n",
       "      <td>0.000</td>\n",
       "      <td>0.015</td>\n",
       "      <td>0.505</td>\n",
       "      <td>0.000</td>\n",
       "      <td>0.018</td>\n",
       "      <td>0.000</td>\n",
       "      <td>0.000</td>\n",
       "    </tr>\n",
       "    <tr>\n",
       "      <th>9</th>\n",
       "      <td>9</td>\n",
       "      <td>0.019</td>\n",
       "      <td>0.000</td>\n",
       "      <td>0.000</td>\n",
       "      <td>0.037</td>\n",
       "      <td>0.000</td>\n",
       "      <td>0.000</td>\n",
       "      <td>0.000</td>\n",
       "      <td>0.000</td>\n",
       "      <td>0.000</td>\n",
       "      <td>...</td>\n",
       "      <td>0.000</td>\n",
       "      <td>0.000</td>\n",
       "      <td>0.000</td>\n",
       "      <td>0.000</td>\n",
       "      <td>0.019</td>\n",
       "      <td>0.000</td>\n",
       "      <td>0.000</td>\n",
       "      <td>0.000</td>\n",
       "      <td>0.000</td>\n",
       "      <td>0.000</td>\n",
       "    </tr>\n",
       "  </tbody>\n",
       "</table>\n",
       "<p>10 rows × 232 columns</p>\n",
       "</div>"
      ],
      "text/plain": [
       "   clusters   act  action  administration  america  american  american people  \\\n",
       "0         0 0.015   0.005           0.003    0.019     0.002            0.000   \n",
       "1         1 0.000   0.000           0.000    0.006     0.007            0.000   \n",
       "2         2 0.000   0.000           0.000    0.017     0.000            0.000   \n",
       "3         3 0.000   0.000           0.000    0.016     0.021            0.000   \n",
       "4         4 0.000   0.009           0.018    0.000     0.023            0.000   \n",
       "5         5 0.005   0.009           0.008    0.029     0.021            0.023   \n",
       "6         6 0.011   0.036           0.000    0.015     0.013            0.014   \n",
       "7         7 0.000   0.018           0.025    0.000     0.008            0.009   \n",
       "8         8 0.027   0.000           0.000    0.021     0.000            0.000   \n",
       "9         9 0.019   0.000           0.000    0.037     0.000            0.000   \n",
       "\n",
       "   americans   ask  authority  ...   way  willing  wish  woman  word  work  \\\n",
       "0      0.011 0.010      0.011  ... 0.003    0.000 0.004  0.006 0.001 0.000   \n",
       "1      0.014 0.012      0.000  ... 0.016    0.012 0.007  0.008 0.008 0.005   \n",
       "2      0.012 0.000      0.000  ... 0.030    0.030 0.000  0.000 0.010 0.000   \n",
       "3      0.019 0.000      0.000  ... 0.037    0.018 0.000  0.000 0.000 0.000   \n",
       "4      0.043 0.000      0.000  ... 0.000    0.000 0.000  0.000 0.000 0.000   \n",
       "5      0.000 0.006      0.016  ... 0.008    0.000 0.008  0.015 0.005 0.000   \n",
       "6      0.027 0.016      0.000  ... 0.000    0.000 0.000  0.000 0.160 0.000   \n",
       "7      0.000 0.039      0.004  ... 0.000    0.000 0.011  0.000 0.000 0.000   \n",
       "8      0.036 0.017      0.000  ... 0.000    0.019 0.000  0.000 0.015 0.505   \n",
       "9      0.000 0.000      0.000  ... 0.000    0.000 0.000  0.000 0.019 0.000   \n",
       "\n",
       "   world  write  year  young  \n",
       "0  0.001  0.006 0.003  0.007  \n",
       "1  0.024  0.000 0.000  0.016  \n",
       "2  0.017  0.000 0.015  0.000  \n",
       "3  0.015  0.000 0.000  0.000  \n",
       "4  0.010  0.000 0.000  0.000  \n",
       "5  0.195  0.000 0.006  0.000  \n",
       "6  0.025  0.053 0.030  0.012  \n",
       "7  0.000  0.000 0.044  0.000  \n",
       "8  0.000  0.018 0.000  0.000  \n",
       "9  0.000  0.000 0.000  0.000  \n",
       "\n",
       "[10 rows x 232 columns]"
      ]
     },
     "execution_count": 33,
     "metadata": {},
     "output_type": "execute_result"
    }
   ],
   "source": [
    "# Aggregate by cluster.\n",
    "X_train_tfidf_clusters = X_train_tfidf.groupby(\n",
    "    ['clusters'], as_index=False).mean()\n",
    "X_train_tfidf_clusters"
   ]
  },
  {
   "cell_type": "code",
   "execution_count": 34,
   "metadata": {
    "ExecuteTime": {
     "end_time": "2019-08-15T02:54:00.687886Z",
     "start_time": "2019-08-15T02:54:00.606521Z"
    }
   },
   "outputs": [
    {
     "name": "stdout",
     "output_type": "stream",
     "text": [
      "Cluster 0:\n",
      "day            0.028\n",
      "freedom        0.022\n",
      "god            0.021\n",
      "right          0.020\n",
      "union          0.019\n",
      "constitution   0.019\n",
      "america        0.019\n",
      "make           0.019\n",
      "man            0.018\n",
      "old            0.017\n",
      "dtype: float64\n",
      "\n",
      "principle    0.031\n",
      "law          0.029\n",
      "believe      0.027\n",
      "faith        0.026\n",
      "states       0.024\n",
      "way          0.023\n",
      "new          0.023\n",
      "generation   0.021\n",
      "union        0.021\n",
      "case         0.021\n",
      "dtype: float64\n",
      "\n",
      "There are 1 words that are in the top ten of         both training and testing.\n",
      "These words are: {'union'}.\n",
      "\n",
      "Cluster 1:\n",
      "time         0.262\n",
      "nation       0.229\n",
      "government   0.053\n",
      "change       0.045\n",
      "great        0.038\n",
      "live         0.031\n",
      "make         0.030\n",
      "require      0.029\n",
      "god          0.028\n",
      "believe      0.028\n",
      "dtype: float64\n",
      "\n",
      "nation    0.289\n",
      "time      0.209\n",
      "freedom   0.134\n",
      "great     0.101\n",
      "new       0.095\n",
      "right     0.094\n",
      "think     0.075\n",
      "speak     0.073\n",
      "power     0.062\n",
      "future    0.060\n",
      "dtype: float64\n",
      "\n",
      "There are 3 words that are in the top ten of         both training and testing.\n",
      "These words are: {'time', 'nation', 'great'}.\n",
      "\n",
      "Cluster 2:\n",
      "good         0.444\n",
      "make         0.088\n",
      "power        0.070\n",
      "government   0.061\n",
      "hope         0.060\n",
      "life         0.043\n",
      "discipline   0.043\n",
      "equal        0.040\n",
      "public       0.036\n",
      "peace        0.036\n",
      "dtype: float64\n",
      "\n",
      "good       0.357\n",
      "land       0.191\n",
      "national   0.175\n",
      "action     0.141\n",
      "place      0.138\n",
      "hold       0.131\n",
      "friend     0.128\n",
      "meet       0.126\n",
      "right      0.116\n",
      "use        0.101\n",
      "dtype: float64\n",
      "\n",
      "There are 1 words that are in the top ten of         both training and testing.\n",
      "These words are: {'good'}.\n",
      "\n",
      "Cluster 3:\n",
      "life      0.323\n",
      "hand      0.219\n",
      "heart     0.097\n",
      "new       0.067\n",
      "present   0.057\n",
      "faith     0.052\n",
      "know      0.043\n",
      "great     0.041\n",
      "way       0.037\n",
      "make      0.030\n",
      "dtype: float64\n",
      "\n",
      "life             0.279\n",
      "hand             0.260\n",
      "national         0.191\n",
      "value            0.134\n",
      "form             0.105\n",
      "administration   0.096\n",
      "leader           0.088\n",
      "majority         0.086\n",
      "heart            0.080\n",
      "day              0.075\n",
      "dtype: float64\n",
      "\n",
      "There are 3 words that are in the top ten of         both training and testing.\n",
      "These words are: {'heart', 'hand', 'life'}.\n",
      "\n",
      "Cluster 4:\n",
      "citizen          0.306\n",
      "fellow           0.276\n",
      "fellow citizen   0.175\n",
      "president        0.095\n",
      "country          0.064\n",
      "man              0.054\n",
      "great            0.049\n",
      "free             0.048\n",
      "duty             0.044\n",
      "americans        0.043\n",
      "dtype: float64\n",
      "\n",
      "citizen          0.458\n",
      "ask              0.247\n",
      "fellow citizen   0.203\n",
      "fellow           0.181\n",
      "america          0.154\n",
      "today            0.146\n",
      "hope             0.143\n",
      "world            0.125\n",
      "mind             0.120\n",
      "heart            0.111\n",
      "dtype: float64\n",
      "\n",
      "There are 3 words that are in the top ten of         both training and testing.\n",
      "These words are: {'fellow', 'fellow citizen', 'citizen'}.\n",
      "\n",
      "Cluster 5:\n",
      "world           0.195\n",
      "people          0.194\n",
      "free            0.054\n",
      "states          0.049\n",
      "united          0.047\n",
      "great           0.039\n",
      "shall           0.037\n",
      "united states   0.036\n",
      "economic        0.035\n",
      "peace           0.030\n",
      "dtype: float64\n",
      "\n",
      "people            0.177\n",
      "world             0.175\n",
      "peace             0.097\n",
      "america           0.095\n",
      "great             0.086\n",
      "american people   0.075\n",
      "purpose           0.069\n",
      "american          0.068\n",
      "year              0.058\n",
      "americans         0.058\n",
      "dtype: float64\n",
      "\n",
      "There are 4 words that are in the top ten of         both training and testing.\n",
      "These words are: {'peace', 'world', 'people', 'great'}.\n",
      "\n",
      "Cluster 6:\n",
      "need           0.257\n",
      "word           0.160\n",
      "deny           0.098\n",
      "write          0.053\n",
      "constitution   0.043\n",
      "speak          0.040\n",
      "factory        0.040\n",
      "great          0.039\n",
      "material       0.038\n",
      "moment         0.037\n",
      "dtype: float64\n",
      "\n",
      "need        0.501\n",
      "action      0.152\n",
      "serve       0.126\n",
      "care        0.119\n",
      "congress    0.109\n",
      "executive   0.107\n",
      "face        0.106\n",
      "country     0.100\n",
      "authority   0.097\n",
      "today       0.097\n",
      "dtype: float64\n",
      "\n",
      "There are 1 words that are in the top ten of         both training and testing.\n",
      "These words are: {'need'}.\n",
      "\n",
      "Cluster 7:\n",
      "government   0.301\n",
      "support      0.144\n",
      "shall        0.105\n",
      "people       0.070\n",
      "federal      0.061\n",
      "year         0.044\n",
      "power        0.042\n",
      "law          0.041\n",
      "states       0.040\n",
      "ask          0.039\n",
      "dtype: float64\n",
      "\n",
      "government      0.356\n",
      "states          0.089\n",
      "opportunity     0.076\n",
      "continue        0.076\n",
      "support         0.069\n",
      "united states   0.067\n",
      "let             0.063\n",
      "united          0.061\n",
      "freedom         0.059\n",
      "union           0.059\n",
      "dtype: float64\n",
      "\n",
      "There are 3 words that are in the top ten of         both training and testing.\n",
      "These words are: {'states', 'government', 'support'}.\n",
      "\n",
      "Cluster 8:\n",
      "work        0.505\n",
      "sacrifice   0.063\n",
      "let         0.056\n",
      "good        0.051\n",
      "return      0.049\n",
      "god         0.046\n",
      "thing       0.046\n",
      "moral       0.043\n",
      "seek        0.042\n",
      "right       0.039\n",
      "dtype: float64\n",
      "\n",
      "work        0.638\n",
      "know        0.093\n",
      "new         0.089\n",
      "people      0.080\n",
      "task        0.080\n",
      "old         0.075\n",
      "friend      0.074\n",
      "man woman   0.062\n",
      "woman       0.061\n",
      "stand       0.060\n",
      "dtype: float64\n",
      "\n",
      "There are 1 words that are in the top ten of         both training and testing.\n",
      "These words are: {'work'}.\n",
      "\n",
      "Cluster 9:\n",
      "let          0.506\n",
      "begin        0.133\n",
      "fear         0.081\n",
      "renew        0.058\n",
      "remember     0.056\n",
      "hope         0.047\n",
      "hard         0.041\n",
      "understand   0.040\n",
      "america      0.037\n",
      "far          0.034\n",
      "dtype: float64\n",
      "\n",
      "let              0.554\n",
      "seek             0.197\n",
      "people           0.159\n",
      "child            0.140\n",
      "responsibility   0.138\n",
      "community        0.135\n",
      "country          0.120\n",
      "turn             0.070\n",
      "end              0.068\n",
      "generation       0.067\n",
      "dtype: float64\n",
      "\n",
      "There are 1 words that are in the top ten of         both training and testing.\n",
      "These words are: {'let'}.\n",
      "\n"
     ]
    }
   ],
   "source": [
    "num_clusters = model_tfidf.n_clusters\n",
    "for i in range(num_clusters):\n",
    "    data_train = X_train_tfidf[X_train_tfidf['clusters'] == i]\n",
    "    data_eval = X_eval_tfidf[X_eval_tfidf['clusters'] == i]\n",
    "    print(f'Cluster {i}:')\n",
    "    if i < 1:\n",
    "        train = data_train.mean().sort_values(ascending=False)[:10].copy()\n",
    "        print(train)\n",
    "        print()\n",
    "        evl = data_eval.mean().sort_values(ascending=False)[:10].copy()\n",
    "        print(evl)\n",
    "        print()\n",
    "        train_set, eval_set = {*train.index}, {*evl.index}\n",
    "        overlap = train_set.intersection(eval_set)\n",
    "        print((f'There are {len(overlap)} words that are in the top ten of \\\n",
    "        both training and testing.'))\n",
    "        if len(overlap) > 0:\n",
    "            print(f'These words are: {overlap}.')\n",
    "        print()\n",
    "    elif i >= 1:\n",
    "        train = data_train.mean().sort_values(ascending=False)[1:11].copy()\n",
    "        print(train)\n",
    "        print()\n",
    "        evl = data_eval.mean().sort_values(ascending=False)[1:11].copy()\n",
    "        print(evl)\n",
    "        print()\n",
    "        train_set, eval_set = {*train.index}, {*evl.index}\n",
    "        overlap = train_set.intersection(eval_set)\n",
    "        print(f'There are {len(overlap)} words that are in the top ten of \\\n",
    "        both training and testing.')\n",
    "        if len(overlap) > 0:\n",
    "            print(f'These words are: {overlap}.')\n",
    "        print()"
   ]
  },
  {
   "cell_type": "markdown",
   "metadata": {},
   "source": [
    "## LSA"
   ]
  },
  {
   "cell_type": "code",
   "execution_count": 35,
   "metadata": {
    "ExecuteTime": {
     "end_time": "2019-08-15T02:54:00.883676Z",
     "start_time": "2019-08-15T02:54:00.691296Z"
    },
    "run_control": {
     "marked": false
    }
   },
   "outputs": [],
   "source": [
    "# Re-run KMeans and extract cluster information.\n",
    "model_lsa = KMeans(n_clusters=10, random_state=42).fit(X_train_lsa_scaled)\n",
    "\n",
    "# Extract cluster assignments for each data point.\n",
    "labels = model_lsa.labels_"
   ]
  },
  {
   "cell_type": "code",
   "execution_count": 36,
   "metadata": {
    "ExecuteTime": {
     "end_time": "2019-08-15T02:54:00.899217Z",
     "start_time": "2019-08-15T02:54:00.886132Z"
    }
   },
   "outputs": [],
   "source": [
    "# Create cluster assignment for eval, holdout groups.\n",
    "X_eval_lsa_labels = model_lsa.predict(X_eval_lsa_scaled)\n",
    "X_holdout_lsa_labels = model_lsa.predict(X_holdout_lsa_scaled)\n",
    "\n",
    "# Create a column for cluster labels.\n",
    "X_eval_lsa_scaled['clusters'] = X_eval_lsa_labels\n",
    "X_holdout_lsa_scaled['clusters'] = X_holdout_lsa_labels\n",
    "\n",
    "X_train_lsa_scaled['clusters'] = labels"
   ]
  },
  {
   "cell_type": "code",
   "execution_count": 37,
   "metadata": {
    "ExecuteTime": {
     "end_time": "2019-08-15T02:54:00.936777Z",
     "start_time": "2019-08-15T02:54:00.905876Z"
    }
   },
   "outputs": [
    {
     "data": {
      "text/html": [
       "<div>\n",
       "<style scoped>\n",
       "    .dataframe tbody tr th:only-of-type {\n",
       "        vertical-align: middle;\n",
       "    }\n",
       "\n",
       "    .dataframe tbody tr th {\n",
       "        vertical-align: top;\n",
       "    }\n",
       "\n",
       "    .dataframe thead th {\n",
       "        text-align: right;\n",
       "    }\n",
       "</style>\n",
       "<table border=\"1\" class=\"dataframe\">\n",
       "  <thead>\n",
       "    <tr style=\"text-align: right;\">\n",
       "      <th></th>\n",
       "      <th>clusters</th>\n",
       "      <th>0</th>\n",
       "      <th>1</th>\n",
       "      <th>2</th>\n",
       "      <th>3</th>\n",
       "      <th>4</th>\n",
       "      <th>5</th>\n",
       "      <th>6</th>\n",
       "      <th>7</th>\n",
       "      <th>8</th>\n",
       "      <th>...</th>\n",
       "      <th>90</th>\n",
       "      <th>91</th>\n",
       "      <th>92</th>\n",
       "      <th>93</th>\n",
       "      <th>94</th>\n",
       "      <th>95</th>\n",
       "      <th>96</th>\n",
       "      <th>97</th>\n",
       "      <th>98</th>\n",
       "      <th>99</th>\n",
       "    </tr>\n",
       "  </thead>\n",
       "  <tbody>\n",
       "    <tr>\n",
       "      <th>0</th>\n",
       "      <td>0</td>\n",
       "      <td>0.265</td>\n",
       "      <td>0.421</td>\n",
       "      <td>0.470</td>\n",
       "      <td>0.368</td>\n",
       "      <td>0.478</td>\n",
       "      <td>0.467</td>\n",
       "      <td>0.460</td>\n",
       "      <td>0.464</td>\n",
       "      <td>0.396</td>\n",
       "      <td>...</td>\n",
       "      <td>0.579</td>\n",
       "      <td>0.443</td>\n",
       "      <td>0.394</td>\n",
       "      <td>0.336</td>\n",
       "      <td>0.587</td>\n",
       "      <td>0.454</td>\n",
       "      <td>0.503</td>\n",
       "      <td>0.679</td>\n",
       "      <td>0.311</td>\n",
       "      <td>0.426</td>\n",
       "    </tr>\n",
       "    <tr>\n",
       "      <th>1</th>\n",
       "      <td>1</td>\n",
       "      <td>0.582</td>\n",
       "      <td>0.556</td>\n",
       "      <td>0.351</td>\n",
       "      <td>0.437</td>\n",
       "      <td>0.735</td>\n",
       "      <td>0.359</td>\n",
       "      <td>0.590</td>\n",
       "      <td>0.464</td>\n",
       "      <td>0.383</td>\n",
       "      <td>...</td>\n",
       "      <td>0.477</td>\n",
       "      <td>0.431</td>\n",
       "      <td>0.427</td>\n",
       "      <td>0.356</td>\n",
       "      <td>0.481</td>\n",
       "      <td>0.360</td>\n",
       "      <td>0.463</td>\n",
       "      <td>0.529</td>\n",
       "      <td>0.340</td>\n",
       "      <td>0.499</td>\n",
       "    </tr>\n",
       "    <tr>\n",
       "      <th>2</th>\n",
       "      <td>2</td>\n",
       "      <td>0.246</td>\n",
       "      <td>0.365</td>\n",
       "      <td>0.508</td>\n",
       "      <td>0.353</td>\n",
       "      <td>0.448</td>\n",
       "      <td>0.420</td>\n",
       "      <td>0.444</td>\n",
       "      <td>0.481</td>\n",
       "      <td>0.479</td>\n",
       "      <td>...</td>\n",
       "      <td>0.483</td>\n",
       "      <td>0.417</td>\n",
       "      <td>0.404</td>\n",
       "      <td>0.376</td>\n",
       "      <td>0.472</td>\n",
       "      <td>0.370</td>\n",
       "      <td>0.475</td>\n",
       "      <td>0.539</td>\n",
       "      <td>0.355</td>\n",
       "      <td>0.505</td>\n",
       "    </tr>\n",
       "    <tr>\n",
       "      <th>3</th>\n",
       "      <td>3</td>\n",
       "      <td>0.373</td>\n",
       "      <td>0.406</td>\n",
       "      <td>0.493</td>\n",
       "      <td>0.298</td>\n",
       "      <td>0.464</td>\n",
       "      <td>0.546</td>\n",
       "      <td>0.448</td>\n",
       "      <td>0.475</td>\n",
       "      <td>0.423</td>\n",
       "      <td>...</td>\n",
       "      <td>0.554</td>\n",
       "      <td>0.428</td>\n",
       "      <td>0.384</td>\n",
       "      <td>0.324</td>\n",
       "      <td>0.499</td>\n",
       "      <td>0.356</td>\n",
       "      <td>0.488</td>\n",
       "      <td>0.511</td>\n",
       "      <td>0.349</td>\n",
       "      <td>0.506</td>\n",
       "    </tr>\n",
       "    <tr>\n",
       "      <th>4</th>\n",
       "      <td>4</td>\n",
       "      <td>0.409</td>\n",
       "      <td>0.257</td>\n",
       "      <td>0.563</td>\n",
       "      <td>0.370</td>\n",
       "      <td>0.531</td>\n",
       "      <td>0.295</td>\n",
       "      <td>0.352</td>\n",
       "      <td>0.488</td>\n",
       "      <td>0.544</td>\n",
       "      <td>...</td>\n",
       "      <td>0.484</td>\n",
       "      <td>0.426</td>\n",
       "      <td>0.392</td>\n",
       "      <td>0.390</td>\n",
       "      <td>0.489</td>\n",
       "      <td>0.372</td>\n",
       "      <td>0.450</td>\n",
       "      <td>0.523</td>\n",
       "      <td>0.359</td>\n",
       "      <td>0.493</td>\n",
       "    </tr>\n",
       "    <tr>\n",
       "      <th>5</th>\n",
       "      <td>5</td>\n",
       "      <td>0.337</td>\n",
       "      <td>0.428</td>\n",
       "      <td>0.511</td>\n",
       "      <td>0.355</td>\n",
       "      <td>0.489</td>\n",
       "      <td>0.330</td>\n",
       "      <td>0.515</td>\n",
       "      <td>0.571</td>\n",
       "      <td>0.289</td>\n",
       "      <td>...</td>\n",
       "      <td>0.522</td>\n",
       "      <td>0.444</td>\n",
       "      <td>0.376</td>\n",
       "      <td>0.364</td>\n",
       "      <td>0.497</td>\n",
       "      <td>0.359</td>\n",
       "      <td>0.430</td>\n",
       "      <td>0.523</td>\n",
       "      <td>0.315</td>\n",
       "      <td>0.512</td>\n",
       "    </tr>\n",
       "    <tr>\n",
       "      <th>6</th>\n",
       "      <td>6</td>\n",
       "      <td>0.157</td>\n",
       "      <td>0.448</td>\n",
       "      <td>0.484</td>\n",
       "      <td>0.367</td>\n",
       "      <td>0.491</td>\n",
       "      <td>0.407</td>\n",
       "      <td>0.455</td>\n",
       "      <td>0.502</td>\n",
       "      <td>0.542</td>\n",
       "      <td>...</td>\n",
       "      <td>0.528</td>\n",
       "      <td>0.401</td>\n",
       "      <td>0.408</td>\n",
       "      <td>0.362</td>\n",
       "      <td>0.476</td>\n",
       "      <td>0.388</td>\n",
       "      <td>0.539</td>\n",
       "      <td>0.567</td>\n",
       "      <td>0.360</td>\n",
       "      <td>0.503</td>\n",
       "    </tr>\n",
       "    <tr>\n",
       "      <th>7</th>\n",
       "      <td>7</td>\n",
       "      <td>0.645</td>\n",
       "      <td>0.416</td>\n",
       "      <td>0.472</td>\n",
       "      <td>0.383</td>\n",
       "      <td>0.450</td>\n",
       "      <td>0.359</td>\n",
       "      <td>0.467</td>\n",
       "      <td>0.550</td>\n",
       "      <td>0.343</td>\n",
       "      <td>...</td>\n",
       "      <td>0.506</td>\n",
       "      <td>0.402</td>\n",
       "      <td>0.397</td>\n",
       "      <td>0.374</td>\n",
       "      <td>0.495</td>\n",
       "      <td>0.368</td>\n",
       "      <td>0.479</td>\n",
       "      <td>0.532</td>\n",
       "      <td>0.344</td>\n",
       "      <td>0.501</td>\n",
       "    </tr>\n",
       "    <tr>\n",
       "      <th>8</th>\n",
       "      <td>8</td>\n",
       "      <td>0.541</td>\n",
       "      <td>0.144</td>\n",
       "      <td>0.204</td>\n",
       "      <td>0.318</td>\n",
       "      <td>0.381</td>\n",
       "      <td>0.445</td>\n",
       "      <td>0.257</td>\n",
       "      <td>0.428</td>\n",
       "      <td>0.227</td>\n",
       "      <td>...</td>\n",
       "      <td>0.498</td>\n",
       "      <td>0.403</td>\n",
       "      <td>0.434</td>\n",
       "      <td>0.372</td>\n",
       "      <td>0.496</td>\n",
       "      <td>0.391</td>\n",
       "      <td>0.506</td>\n",
       "      <td>0.560</td>\n",
       "      <td>0.332</td>\n",
       "      <td>0.503</td>\n",
       "    </tr>\n",
       "    <tr>\n",
       "      <th>9</th>\n",
       "      <td>9</td>\n",
       "      <td>0.516</td>\n",
       "      <td>0.467</td>\n",
       "      <td>0.439</td>\n",
       "      <td>0.477</td>\n",
       "      <td>0.511</td>\n",
       "      <td>0.360</td>\n",
       "      <td>0.337</td>\n",
       "      <td>0.463</td>\n",
       "      <td>0.366</td>\n",
       "      <td>...</td>\n",
       "      <td>0.259</td>\n",
       "      <td>0.638</td>\n",
       "      <td>0.457</td>\n",
       "      <td>0.303</td>\n",
       "      <td>0.534</td>\n",
       "      <td>0.346</td>\n",
       "      <td>0.691</td>\n",
       "      <td>0.572</td>\n",
       "      <td>0.368</td>\n",
       "      <td>0.475</td>\n",
       "    </tr>\n",
       "  </tbody>\n",
       "</table>\n",
       "<p>10 rows × 101 columns</p>\n",
       "</div>"
      ],
      "text/plain": [
       "   clusters     0     1     2     3     4     5     6     7     8  ...    90  \\\n",
       "0         0 0.265 0.421 0.470 0.368 0.478 0.467 0.460 0.464 0.396  ... 0.579   \n",
       "1         1 0.582 0.556 0.351 0.437 0.735 0.359 0.590 0.464 0.383  ... 0.477   \n",
       "2         2 0.246 0.365 0.508 0.353 0.448 0.420 0.444 0.481 0.479  ... 0.483   \n",
       "3         3 0.373 0.406 0.493 0.298 0.464 0.546 0.448 0.475 0.423  ... 0.554   \n",
       "4         4 0.409 0.257 0.563 0.370 0.531 0.295 0.352 0.488 0.544  ... 0.484   \n",
       "5         5 0.337 0.428 0.511 0.355 0.489 0.330 0.515 0.571 0.289  ... 0.522   \n",
       "6         6 0.157 0.448 0.484 0.367 0.491 0.407 0.455 0.502 0.542  ... 0.528   \n",
       "7         7 0.645 0.416 0.472 0.383 0.450 0.359 0.467 0.550 0.343  ... 0.506   \n",
       "8         8 0.541 0.144 0.204 0.318 0.381 0.445 0.257 0.428 0.227  ... 0.498   \n",
       "9         9 0.516 0.467 0.439 0.477 0.511 0.360 0.337 0.463 0.366  ... 0.259   \n",
       "\n",
       "     91    92    93    94    95    96    97    98    99  \n",
       "0 0.443 0.394 0.336 0.587 0.454 0.503 0.679 0.311 0.426  \n",
       "1 0.431 0.427 0.356 0.481 0.360 0.463 0.529 0.340 0.499  \n",
       "2 0.417 0.404 0.376 0.472 0.370 0.475 0.539 0.355 0.505  \n",
       "3 0.428 0.384 0.324 0.499 0.356 0.488 0.511 0.349 0.506  \n",
       "4 0.426 0.392 0.390 0.489 0.372 0.450 0.523 0.359 0.493  \n",
       "5 0.444 0.376 0.364 0.497 0.359 0.430 0.523 0.315 0.512  \n",
       "6 0.401 0.408 0.362 0.476 0.388 0.539 0.567 0.360 0.503  \n",
       "7 0.402 0.397 0.374 0.495 0.368 0.479 0.532 0.344 0.501  \n",
       "8 0.403 0.434 0.372 0.496 0.391 0.506 0.560 0.332 0.503  \n",
       "9 0.638 0.457 0.303 0.534 0.346 0.691 0.572 0.368 0.475  \n",
       "\n",
       "[10 rows x 101 columns]"
      ]
     },
     "execution_count": 37,
     "metadata": {},
     "output_type": "execute_result"
    }
   ],
   "source": [
    "# Aggregate by cluster.\n",
    "X_train_lsa_clusters = X_train_lsa_scaled.groupby(\n",
    "    ['clusters'], as_index=False).mean()\n",
    "X_train_lsa_clusters"
   ]
  },
  {
   "cell_type": "code",
   "execution_count": 38,
   "metadata": {
    "ExecuteTime": {
     "end_time": "2019-08-15T02:54:01.056193Z",
     "start_time": "2019-08-15T02:54:00.940890Z"
    }
   },
   "outputs": [
    {
     "name": "stdout",
     "output_type": "stream",
     "text": [
      "Cluster 0:\n",
      "47   0.739\n",
      "44   0.726\n",
      "67   0.689\n",
      "97   0.679\n",
      "71   0.663\n",
      "55   0.645\n",
      "53   0.641\n",
      "74   0.629\n",
      "77   0.609\n",
      "33   0.593\n",
      "dtype: float64\n",
      "\n",
      "47   0.839\n",
      "71   0.836\n",
      "60   0.766\n",
      "3    0.725\n",
      "97   0.716\n",
      "44   0.701\n",
      "8    0.690\n",
      "77   0.674\n",
      "76   0.666\n",
      "67   0.659\n",
      "dtype: float64\n",
      "\n",
      "There are 6 features that are in the top ten of both training and testing.\n",
      "These features are: {97, 67, 71, 44, 77, 47}.\n",
      "\n",
      "Cluster 1:\n",
      "25   0.785\n",
      "27   0.742\n",
      "4    0.735\n",
      "32   0.669\n",
      "38   0.631\n",
      "21   0.627\n",
      "36   0.605\n",
      "6    0.590\n",
      "71   0.583\n",
      "0    0.582\n",
      "dtype: float64\n",
      "\n",
      "25   0.822\n",
      "27   0.776\n",
      "71   0.701\n",
      "11   0.644\n",
      "21   0.643\n",
      "38   0.639\n",
      "32   0.638\n",
      "4    0.636\n",
      "77   0.620\n",
      "9    0.602\n",
      "dtype: float64\n",
      "\n",
      "There are 7 features that are in the top ten of both training and testing.\n",
      "These features are: {32, 4, 38, 71, 21, 25, 27}.\n",
      "\n",
      "Cluster 2:\n",
      "97   0.539\n",
      "55   0.535\n",
      "49   0.524\n",
      "44   0.522\n",
      "58   0.519\n",
      "41   0.516\n",
      "12   0.515\n",
      "9    0.514\n",
      "85   0.509\n",
      "2    0.508\n",
      "dtype: float64\n",
      "\n",
      "55   0.546\n",
      "97   0.531\n",
      "44   0.523\n",
      "85   0.514\n",
      "67   0.514\n",
      "49   0.513\n",
      "72   0.512\n",
      "99   0.509\n",
      "12   0.508\n",
      "36   0.503\n",
      "dtype: float64\n",
      "\n",
      "There are 6 features that are in the top ten of both training and testing.\n",
      "These features are: {97, 44, 12, 49, 85, 55}.\n",
      "\n",
      "Cluster 3:\n",
      "19   0.760\n",
      "15   0.602\n",
      "36   0.598\n",
      "11   0.579\n",
      "26   0.572\n",
      "20   0.568\n",
      "34   0.562\n",
      "55   0.554\n",
      "90   0.554\n",
      "77   0.553\n",
      "dtype: float64\n",
      "\n",
      "19   0.746\n",
      "58   0.716\n",
      "90   0.669\n",
      "36   0.647\n",
      "77   0.641\n",
      "96   0.626\n",
      "38   0.620\n",
      "55   0.616\n",
      "60   0.612\n",
      "26   0.594\n",
      "dtype: float64\n",
      "\n",
      "There are 6 features that are in the top ten of both training and testing.\n",
      "These features are: {36, 90, 77, 19, 55, 26}.\n",
      "\n",
      "Cluster 4:\n",
      "13   0.802\n",
      "10   0.788\n",
      "17   0.667\n",
      "19   0.658\n",
      "11   0.588\n",
      "18   0.564\n",
      "2    0.563\n",
      "38   0.560\n",
      "49   0.560\n",
      "8    0.544\n",
      "dtype: float64\n",
      "\n",
      "10   0.689\n",
      "13   0.676\n",
      "17   0.617\n",
      "67   0.615\n",
      "19   0.594\n",
      "11   0.588\n",
      "38   0.570\n",
      "85   0.552\n",
      "18   0.552\n",
      "88   0.544\n",
      "dtype: float64\n",
      "\n",
      "There are 7 features that are in the top ten of both training and testing.\n",
      "These features are: {38, 10, 11, 13, 17, 18, 19}.\n",
      "\n",
      "Cluster 5:\n",
      "32   0.875\n",
      "35   0.815\n",
      "30   0.784\n",
      "38   0.688\n",
      "44   0.677\n",
      "9    0.620\n",
      "11   0.608\n",
      "49   0.601\n",
      "7    0.571\n",
      "72   0.562\n",
      "dtype: float64\n",
      "\n",
      "32   0.882\n",
      "35   0.825\n",
      "30   0.770\n",
      "38   0.765\n",
      "44   0.651\n",
      "83   0.649\n",
      "12   0.627\n",
      "67   0.621\n",
      "49   0.604\n",
      "72   0.586\n",
      "dtype: float64\n",
      "\n",
      "There are 7 features that are in the top ten of both training and testing.\n",
      "These features are: {32, 35, 38, 72, 44, 49, 30}.\n",
      "\n",
      "Cluster 6:\n",
      "40   0.795\n",
      "49   0.764\n",
      "55   0.684\n",
      "10   0.638\n",
      "21   0.631\n",
      "11   0.623\n",
      "33   0.590\n",
      "34   0.583\n",
      "66   0.581\n",
      "16   0.574\n",
      "dtype: float64\n",
      "\n",
      "40   0.723\n",
      "49   0.708\n",
      "55   0.679\n",
      "21   0.662\n",
      "11   0.657\n",
      "54   0.657\n",
      "27   0.646\n",
      "25   0.635\n",
      "34   0.613\n",
      "90   0.608\n",
      "dtype: float64\n",
      "\n",
      "There are 6 features that are in the top ten of both training and testing.\n",
      "These features are: {34, 40, 11, 49, 21, 55}.\n",
      "\n",
      "Cluster 7:\n",
      "0    0.645\n",
      "7    0.550\n",
      "55   0.547\n",
      "41   0.538\n",
      "49   0.537\n",
      "97   0.532\n",
      "9    0.527\n",
      "64   0.524\n",
      "36   0.516\n",
      "90   0.506\n",
      "dtype: float64\n",
      "\n",
      "0    0.660\n",
      "55   0.575\n",
      "49   0.566\n",
      "97   0.543\n",
      "96   0.522\n",
      "78   0.521\n",
      "64   0.518\n",
      "74   0.517\n",
      "67   0.516\n",
      "85   0.512\n",
      "dtype: float64\n",
      "\n",
      "There are 5 features that are in the top ten of both training and testing.\n",
      "These features are: {0, 97, 64, 49, 55}.\n",
      "\n",
      "Cluster 8:\n",
      "12   0.635\n",
      "11   0.617\n",
      "32   0.561\n",
      "97   0.560\n",
      "55   0.556\n",
      "86   0.544\n",
      "0    0.541\n",
      "33   0.533\n",
      "60   0.528\n",
      "36   0.527\n",
      "dtype: float64\n",
      "\n",
      "97   0.752\n",
      "90   0.680\n",
      "11   0.673\n",
      "67   0.666\n",
      "71   0.661\n",
      "75   0.623\n",
      "12   0.617\n",
      "78   0.611\n",
      "64   0.595\n",
      "94   0.592\n",
      "dtype: float64\n",
      "\n",
      "There are 3 features that are in the top ten of both training and testing.\n",
      "These features are: {97, 11, 12}.\n",
      "\n",
      "Cluster 9:\n",
      "79   0.707\n",
      "96   0.691\n",
      "88   0.690\n",
      "9    0.685\n",
      "91   0.638\n",
      "24   0.610\n",
      "51   0.609\n",
      "63   0.606\n",
      "31   0.604\n",
      "72   0.588\n",
      "dtype: float64\n",
      "\n",
      "79   0.763\n",
      "67   0.722\n",
      "88   0.719\n",
      "72   0.648\n",
      "85   0.620\n",
      "61   0.611\n",
      "37   0.609\n",
      "60   0.606\n",
      "50   0.602\n",
      "74   0.602\n",
      "dtype: float64\n",
      "\n",
      "There are 3 features that are in the top ten of both training and testing.\n",
      "These features are: {72, 88, 79}.\n",
      "\n"
     ]
    }
   ],
   "source": [
    "num_clusters = model_lsa.n_clusters\n",
    "for i in range(num_clusters):\n",
    "    data_train = X_train_lsa_scaled[X_train_lsa_scaled['clusters'] == i]\n",
    "    data_eval = X_eval_lsa_scaled[X_eval_lsa_scaled['clusters'] == i]\n",
    "    print(f'Cluster {i}:')\n",
    "    if i < 1:\n",
    "        train = data_train.mean().sort_values(ascending=False)[:10].copy()\n",
    "        print(train)\n",
    "        print()\n",
    "        evl = data_eval.mean().sort_values(ascending=False)[:10].copy()\n",
    "        print(evl)\n",
    "        print()\n",
    "        train_set, eval_set = {*train.index}, {*evl.index}\n",
    "        overlap = train_set.intersection(eval_set)\n",
    "        print((f'There are {len(overlap)} features that are in the top ten of both training and testing.'))\n",
    "        if len(overlap) > 0:\n",
    "            print(f'These features are: {overlap}.')\n",
    "        print()\n",
    "    elif i >= 1:\n",
    "        train = data_train.mean().sort_values(ascending=False)[1:11].copy()\n",
    "        print(train)\n",
    "        print()\n",
    "        evl = data_eval.mean().sort_values(ascending=False)[1:11].copy()\n",
    "        print(evl)\n",
    "        print()\n",
    "        train_set, eval_set = {*train.index}, {*evl.index}\n",
    "        overlap = train_set.intersection(eval_set)\n",
    "        print(f'There are {len(overlap)} features that are in the top ten of both training and testing.')\n",
    "        if len(overlap) > 0:\n",
    "            print(f'These features are: {overlap}.')\n",
    "        print()"
   ]
  },
  {
   "cell_type": "markdown",
   "metadata": {},
   "source": [
    "## Latent Dirichlet Allocation (LDA)"
   ]
  },
  {
   "cell_type": "markdown",
   "metadata": {},
   "source": [
    "### Set up text for LDA"
   ]
  },
  {
   "cell_type": "code",
   "execution_count": 39,
   "metadata": {
    "ExecuteTime": {
     "end_time": "2019-08-15T02:54:02.609749Z",
     "start_time": "2019-08-15T02:54:01.059879Z"
    }
   },
   "outputs": [
    {
     "name": "stderr",
     "output_type": "stream",
     "text": [
      "/Users/danmchenry/miniconda3/lib/python3.7/site-packages/sklearn/decomposition/online_lda.py:314: DeprecationWarning: n_topics has been renamed to n_components in version 0.19 and will be removed in 0.21\n",
      "  DeprecationWarning)\n",
      "/Users/danmchenry/miniconda3/lib/python3.7/site-packages/sklearn/decomposition/online_lda.py:314: DeprecationWarning: n_topics has been renamed to n_components in version 0.19 and will be removed in 0.21\n",
      "  DeprecationWarning)\n"
     ]
    },
    {
     "data": {
      "text/plain": [
       "LatentDirichletAllocation(batch_size=128, doc_topic_prior=None,\n",
       "             evaluate_every=-1, learning_decay=0.7,\n",
       "             learning_method='batch', learning_offset=10.0,\n",
       "             max_doc_update_iter=100, max_iter=10, mean_change_tol=0.001,\n",
       "             n_components=10, n_jobs=None, n_topics=10, perp_tol=0.1,\n",
       "             random_state=15, topic_word_prior=None,\n",
       "             total_samples=1000000.0, verbose=0)"
      ]
     },
     "execution_count": 39,
     "metadata": {},
     "output_type": "execute_result"
    }
   ],
   "source": [
    "# For TF DTM.\n",
    "lda_tf = LatentDirichletAllocation(n_topics=10, random_state=15)\n",
    "lda_tf.fit(dtm_tf)\n",
    "\n",
    "# For TFIDF DTM.\n",
    "lda_tfidf = LatentDirichletAllocation(n_topics=10, random_state=15)\n",
    "lda_tfidf.fit(dtm_tfidf)"
   ]
  },
  {
   "cell_type": "code",
   "execution_count": 40,
   "metadata": {
    "ExecuteTime": {
     "end_time": "2019-08-15T02:54:04.004022Z",
     "start_time": "2019-08-15T02:54:02.613620Z"
    }
   },
   "outputs": [
    {
     "name": "stderr",
     "output_type": "stream",
     "text": [
      "/Users/danmchenry/miniconda3/lib/python3.7/site-packages/sklearn/decomposition/online_lda.py:314: DeprecationWarning: n_topics has been renamed to n_components in version 0.19 and will be removed in 0.21\n",
      "  DeprecationWarning)\n",
      "/Users/danmchenry/miniconda3/lib/python3.7/site-packages/sklearn/decomposition/online_lda.py:314: DeprecationWarning: n_topics has been renamed to n_components in version 0.19 and will be removed in 0.21\n",
      "  DeprecationWarning)\n"
     ]
    },
    {
     "data": {
      "text/plain": [
       "LatentDirichletAllocation(batch_size=128, doc_topic_prior=None,\n",
       "             evaluate_every=-1, learning_decay=0.7,\n",
       "             learning_method='batch', learning_offset=10.0,\n",
       "             max_doc_update_iter=100, max_iter=10, mean_change_tol=0.001,\n",
       "             n_components=10, n_jobs=None, n_topics=10, perp_tol=0.1,\n",
       "             random_state=15, topic_word_prior=None,\n",
       "             total_samples=1000000.0, verbose=0)"
      ]
     },
     "execution_count": 40,
     "metadata": {},
     "output_type": "execute_result"
    }
   ],
   "source": [
    "# For TF DTM.\n",
    "lda_tf = LatentDirichletAllocation(n_topics=10, random_state=15)\n",
    "lda_tf.fit(dtm_tf)\n",
    "\n",
    "# For TFIDF DTM.\n",
    "lda_tfidf = LatentDirichletAllocation(n_topics=10, random_state=15)\n",
    "lda_tfidf.fit(dtm_tfidf)"
   ]
  },
  {
   "cell_type": "markdown",
   "metadata": {},
   "source": [
    "## Visualizing the Models With pyLDAvis"
   ]
  },
  {
   "cell_type": "code",
   "execution_count": 41,
   "metadata": {
    "ExecuteTime": {
     "end_time": "2019-08-15T02:54:13.731861Z",
     "start_time": "2019-08-15T02:54:04.006156Z"
    }
   },
   "outputs": [
    {
     "name": "stderr",
     "output_type": "stream",
     "text": [
      "/Users/danmchenry/miniconda3/lib/python3.7/site-packages/pyLDAvis/_prepare.py:257: FutureWarning: Sorting because non-concatenation axis is not aligned. A future version\n",
      "of pandas will change to not sort by default.\n",
      "\n",
      "To accept the future behavior, pass 'sort=False'.\n",
      "\n",
      "To retain the current behavior and silence the warning, pass 'sort=True'.\n",
      "\n",
      "  return pd.concat([default_term_info] + list(topic_dfs))\n"
     ]
    },
    {
     "data": {
      "text/html": [
       "\n",
       "<link rel=\"stylesheet\" type=\"text/css\" href=\"https://cdn.rawgit.com/bmabey/pyLDAvis/files/ldavis.v1.0.0.css\">\n",
       "\n",
       "\n",
       "<div id=\"ldavis_el15502112282878384458744813\"></div>\n",
       "<script type=\"text/javascript\">\n",
       "\n",
       "var ldavis_el15502112282878384458744813_data = {\"mdsDat\": {\"x\": [-0.1254752237575057, 0.2334110989402371, -0.012050496487046121, 0.07968468834076606, 0.04789752221026058, 0.08650284669049679, -0.05285394788570826, -0.029351462434715904, -0.10573319592406283, -0.12203182969272151], \"y\": [-0.032436770872772976, 0.09614972270383605, -0.08833183195633865, -0.03071376621934019, 0.14445524546780264, -0.2522003505010064, 0.05384153835184613, 0.059116770884863876, 0.028506661276835942, 0.021612780864274157], \"topics\": [1, 2, 3, 4, 5, 6, 7, 8, 9, 10], \"cluster\": [1, 1, 1, 1, 1, 1, 1, 1, 1, 1], \"Freq\": [15.031848357770066, 13.044283893904506, 11.108143856093273, 10.375948228912721, 10.048121236192188, 8.931944579036506, 8.899696240770337, 8.756823561864321, 7.274310538678895, 6.528879506777178]}, \"tinfo\": {\"Category\": [\"Default\", \"Default\", \"Default\", \"Default\", \"Default\", \"Default\", \"Default\", \"Default\", \"Default\", \"Default\", \"Default\", \"Default\", \"Default\", \"Default\", \"Default\", \"Default\", \"Default\", \"Default\", \"Default\", \"Default\", \"Default\", \"Default\", \"Default\", \"Default\", \"Default\", \"Default\", \"Default\", \"Default\", \"Default\", \"Default\", \"Topic1\", \"Topic1\", \"Topic1\", \"Topic1\", \"Topic1\", \"Topic1\", \"Topic1\", \"Topic1\", \"Topic1\", \"Topic1\", \"Topic1\", \"Topic1\", \"Topic1\", \"Topic1\", \"Topic1\", \"Topic1\", \"Topic1\", \"Topic1\", \"Topic1\", \"Topic1\", \"Topic1\", \"Topic1\", \"Topic1\", \"Topic1\", \"Topic1\", \"Topic1\", \"Topic1\", \"Topic1\", \"Topic1\", \"Topic1\", \"Topic1\", \"Topic1\", \"Topic1\", \"Topic1\", \"Topic1\", \"Topic1\", \"Topic1\", \"Topic1\", \"Topic1\", \"Topic1\", \"Topic1\", \"Topic1\", \"Topic1\", \"Topic1\", \"Topic2\", \"Topic2\", \"Topic2\", \"Topic2\", \"Topic2\", \"Topic2\", \"Topic2\", \"Topic2\", \"Topic2\", \"Topic2\", \"Topic2\", \"Topic2\", \"Topic2\", \"Topic2\", \"Topic2\", \"Topic2\", \"Topic2\", \"Topic2\", \"Topic2\", \"Topic2\", \"Topic2\", \"Topic2\", \"Topic2\", \"Topic2\", \"Topic2\", \"Topic2\", \"Topic2\", \"Topic2\", \"Topic2\", \"Topic2\", \"Topic2\", \"Topic2\", \"Topic2\", \"Topic2\", \"Topic2\", \"Topic2\", \"Topic2\", \"Topic3\", \"Topic3\", \"Topic3\", \"Topic3\", \"Topic3\", \"Topic3\", \"Topic3\", \"Topic3\", \"Topic3\", \"Topic3\", \"Topic3\", \"Topic3\", \"Topic3\", \"Topic3\", \"Topic3\", \"Topic3\", \"Topic3\", \"Topic3\", \"Topic3\", \"Topic3\", \"Topic3\", \"Topic3\", \"Topic3\", \"Topic3\", \"Topic3\", \"Topic3\", \"Topic3\", \"Topic3\", \"Topic3\", \"Topic3\", \"Topic3\", \"Topic3\", \"Topic3\", \"Topic3\", \"Topic3\", \"Topic3\", \"Topic3\", \"Topic3\", \"Topic3\", \"Topic3\", \"Topic3\", \"Topic3\", \"Topic3\", \"Topic4\", \"Topic4\", \"Topic4\", \"Topic4\", \"Topic4\", \"Topic4\", \"Topic4\", \"Topic4\", \"Topic4\", \"Topic4\", \"Topic4\", \"Topic4\", \"Topic4\", \"Topic4\", \"Topic4\", \"Topic4\", \"Topic4\", \"Topic4\", \"Topic4\", \"Topic4\", \"Topic4\", \"Topic4\", \"Topic4\", \"Topic4\", \"Topic4\", \"Topic4\", \"Topic4\", \"Topic4\", \"Topic4\", \"Topic4\", \"Topic4\", \"Topic4\", \"Topic4\", \"Topic4\", \"Topic4\", \"Topic4\", \"Topic4\", \"Topic4\", \"Topic4\", \"Topic5\", \"Topic5\", \"Topic5\", \"Topic5\", \"Topic5\", \"Topic5\", \"Topic5\", \"Topic5\", \"Topic5\", \"Topic5\", \"Topic5\", \"Topic5\", \"Topic5\", \"Topic5\", \"Topic5\", \"Topic5\", \"Topic5\", \"Topic5\", \"Topic5\", \"Topic5\", \"Topic5\", \"Topic5\", \"Topic5\", \"Topic5\", \"Topic5\", \"Topic5\", \"Topic5\", \"Topic5\", \"Topic5\", \"Topic5\", \"Topic5\", \"Topic5\", \"Topic5\", \"Topic5\", \"Topic5\", \"Topic6\", \"Topic6\", \"Topic6\", \"Topic6\", \"Topic6\", \"Topic6\", \"Topic6\", \"Topic6\", \"Topic6\", \"Topic6\", \"Topic6\", \"Topic6\", \"Topic6\", \"Topic6\", \"Topic6\", \"Topic6\", \"Topic6\", \"Topic6\", \"Topic6\", \"Topic6\", \"Topic6\", \"Topic6\", \"Topic6\", \"Topic6\", \"Topic6\", \"Topic6\", \"Topic6\", \"Topic6\", \"Topic6\", \"Topic6\", \"Topic6\", \"Topic6\", \"Topic6\", \"Topic6\", \"Topic7\", \"Topic7\", \"Topic7\", \"Topic7\", \"Topic7\", \"Topic7\", \"Topic7\", \"Topic7\", \"Topic7\", \"Topic7\", \"Topic7\", \"Topic7\", \"Topic7\", \"Topic7\", \"Topic7\", \"Topic7\", \"Topic7\", \"Topic7\", \"Topic7\", \"Topic7\", \"Topic7\", \"Topic7\", \"Topic7\", \"Topic7\", \"Topic7\", \"Topic7\", \"Topic7\", \"Topic7\", \"Topic7\", \"Topic7\", \"Topic7\", \"Topic7\", \"Topic7\", \"Topic7\", \"Topic7\", \"Topic7\", \"Topic7\", \"Topic7\", \"Topic7\", \"Topic8\", \"Topic8\", \"Topic8\", \"Topic8\", \"Topic8\", \"Topic8\", \"Topic8\", \"Topic8\", \"Topic8\", \"Topic8\", \"Topic8\", \"Topic8\", \"Topic8\", \"Topic8\", \"Topic8\", \"Topic8\", \"Topic8\", \"Topic8\", \"Topic8\", \"Topic8\", \"Topic8\", \"Topic8\", \"Topic8\", \"Topic8\", \"Topic8\", \"Topic8\", \"Topic8\", \"Topic8\", \"Topic8\", \"Topic8\", \"Topic8\", \"Topic8\", \"Topic8\", \"Topic8\", \"Topic8\", \"Topic8\", \"Topic8\", \"Topic8\", \"Topic8\", \"Topic8\", \"Topic9\", \"Topic9\", \"Topic9\", \"Topic9\", \"Topic9\", \"Topic9\", \"Topic9\", \"Topic9\", \"Topic9\", \"Topic9\", \"Topic9\", \"Topic9\", \"Topic9\", \"Topic9\", \"Topic9\", \"Topic9\", \"Topic9\", \"Topic9\", \"Topic9\", \"Topic9\", \"Topic9\", \"Topic9\", \"Topic9\", \"Topic9\", \"Topic9\", \"Topic9\", \"Topic9\", \"Topic9\", \"Topic9\", \"Topic9\", \"Topic9\", \"Topic9\", \"Topic9\", \"Topic9\", \"Topic9\", \"Topic9\", \"Topic9\", \"Topic10\", \"Topic10\", \"Topic10\", \"Topic10\", \"Topic10\", \"Topic10\", \"Topic10\", \"Topic10\", \"Topic10\", \"Topic10\", \"Topic10\", \"Topic10\", \"Topic10\", \"Topic10\", \"Topic10\", \"Topic10\", \"Topic10\", \"Topic10\", \"Topic10\", \"Topic10\", \"Topic10\", \"Topic10\", \"Topic10\", \"Topic10\", \"Topic10\", \"Topic10\", \"Topic10\", \"Topic10\", \"Topic10\", \"Topic10\", \"Topic10\", \"Topic10\", \"Topic10\", \"Topic10\", \"Topic10\", \"Topic10\", \"Topic10\", \"Topic10\", \"Topic10\", \"Topic10\", \"Topic10\", \"Topic10\"], \"Freq\": [31.0, 26.0, 21.0, 40.0, 23.0, 29.0, 14.0, 20.0, 18.0, 32.0, 41.0, 30.0, 17.0, 19.0, 26.0, 13.0, 9.0, 11.0, 36.0, 19.0, 34.0, 10.0, 11.0, 7.0, 53.0, 11.0, 22.0, 17.0, 21.0, 8.0, 5.526818631803358, 4.620810414217703, 4.620799381476825, 4.6207698704337, 12.705969216384585, 4.620828085043043, 4.62081135703992, 3.71477679062366, 3.520175921667335, 4.6206738126253555, 4.406669917436042, 3.714782773273446, 3.714625206087907, 6.212477908547446, 6.432847301425154, 15.845003872914575, 4.248691651039285, 2.808629987133013, 2.8087415124999855, 2.8087328721096876, 2.8087298883951957, 4.523167773947964, 3.6307115493513065, 8.474564292949795, 4.6208501705516545, 4.109640209089674, 2.8087366909689084, 2.808682123066633, 3.534228303988098, 23.204274803068486, 6.244545459748539, 6.801132824953896, 9.685445990020442, 3.714775107495276, 8.276083735305571, 6.683933607914192, 5.907422900280887, 4.8890395477178625, 4.564183249475403, 4.834689745077338, 4.496262856384598, 4.422775204660651, 3.959408318768813, 3.9649719993521257, 8.071505561278425, 11.619456675314966, 8.942146219449858, 15.451973619515956, 6.297579242518929, 13.349179602601982, 8.071488552586755, 3.6366144260486966, 3.636604067069523, 8.958466461772264, 10.51089119852423, 8.054707037222576, 4.523625021756585, 3.362639868280841, 8.815385375667768, 5.259925630657137, 11.539955782040343, 9.209589978692023, 7.002192769296974, 2.749638505770716, 5.882308410257527, 4.523599761857294, 3.1871687855981183, 6.6373207216543735, 6.297449884071087, 2.749666174674618, 2.339272192537456, 1.8626443854583274, 1.862651428517955, 3.772773383908122, 4.523532272464019, 3.972602650865776, 3.6366772056333456, 5.011147727644335, 4.600179024652347, 4.805216762927178, 4.767260331773235, 6.404430032590803, 5.502389575597862, 4.6003623891826555, 4.600344085304123, 4.595857865269375, 6.3147539156122106, 6.4043520972731525, 4.600366132458861, 3.5009971134353144, 2.733999790715042, 2.685147238940611, 9.66873246464607, 6.2371984415456305, 2.7963082264616226, 2.7963068716491564, 14.653896425620246, 4.462038149322791, 5.502496501293363, 2.6482793306833456, 9.593190202839994, 1.8942640275555416, 1.894267332667259, 1.8942217418417004, 1.8942819859019355, 2.796301414706829, 6.322726567372069, 1.8942645732610564, 1.8942268233864143, 1.8148180377164371, 2.5992974545844616, 3.9811887945065636, 3.698340183760989, 9.476919451657146, 7.252715446931073, 5.812133807501715, 8.212368041231727, 2.7962887244080923, 3.5177284284966914, 3.1476716671062714, 2.9985408945857244, 3.2303827937907608, 3.035974737667835, 2.796359417022102, 4.603308333645191, 5.505947175982663, 4.603317288483247, 5.505981653834378, 3.4256676925125813, 4.550533621746271, 3.700695224016706, 3.671571733223989, 4.603333014007572, 2.7980645564434776, 2.798131811712372, 3.700705522808136, 20.00660775607451, 13.743163771797288, 3.7006981790331808, 2.4229042667971843, 5.238986832175565, 2.213769671743626, 7.4287531426249265, 1.8954651005969416, 1.895518872867236, 1.8954946050700623, 1.89550487887831, 1.8954617345346962, 1.8954896949091993, 1.895470758941329, 1.8954593122428414, 3.700727174151639, 3.7007909669010814, 3.089210726979426, 4.97626341218144, 4.869436606411853, 3.7007251471135922, 2.798112775420635, 3.9231138478969863, 2.7980852813114403, 2.6134679126773697, 2.035922345774892, 2.234194775364405, 24.420428865923757, 6.407170785225317, 4.602324599348553, 8.959143065881403, 5.504736811825806, 7.230159068672989, 3.699915519742902, 4.602455989068986, 4.602419287127338, 2.7974992130200547, 2.7974691228475446, 3.699886789844884, 2.7974848993023316, 3.6999113845144174, 2.797512067057218, 2.7975048555516033, 2.7975276695821214, 11.469670311137534, 9.454092287998026, 2.2417958847834702, 4.602369374709474, 6.943009662435604, 1.895046586888788, 1.8950899506591803, 2.6325784323020365, 2.5440143254653145, 4.479756274353095, 1.8949872545120612, 3.6998975057399277, 1.7292595022756636, 3.1592248180810367, 2.79752963408315, 2.797499728651234, 3.0189916765738207, 3.420565925747742, 6.529629858250646, 5.609976640353573, 5.450722326272772, 4.690370555438839, 4.671631734042217, 6.4837341468112495, 3.770660832667409, 3.770669598089866, 15.51972395127999, 3.5325298489470396, 4.690375318110435, 11.89464344431512, 2.8509883165080927, 3.7706448700397863, 4.690334371768874, 3.7706809539520045, 4.211039233655937, 2.63626460704656, 2.636263566945669, 2.4353295420008476, 2.850973226221135, 12.81511470963393, 2.850969731358753, 1.9313134843149975, 2.8510424697826307, 1.9313305474893916, 7.215498307140106, 2.8509624377670377, 1.4370824080900328, 4.329867748148728, 2.975941743981439, 3.07724093047728, 3.336345171038553, 3.547634679173283, 8.490200376269947, 8.490287435652672, 3.825250577343371, 5.190226451151609, 7.1777945817733295, 2.8922749519604074, 3.8253111022494872, 3.8162533403213326, 5.312987501893362, 3.825279683249423, 2.892334876199138, 2.8923157132227564, 3.569729695878086, 2.3471045263135952, 4.504835326357804, 2.879676779512557, 1.9593138044989917, 1.9592823726740098, 1.9592533027243058, 2.8922755033179777, 3.8253469357561065, 1.9592527067424368, 1.9592862042427448, 1.659184366026607, 12.387770381549196, 1.6008638633852856, 1.9592821315150035, 1.9592419357912214, 1.959299058139526, 3.1682169918248833, 8.46859896666574, 5.426540051219347, 3.3238384076406513, 2.1768076262118248, 2.892332819749406, 2.5395801704561047, 2.8923324363528957, 2.2037413764205556, 1.9593554722397184, 12.743040602416661, 7.202052307289449, 4.609175792156488, 5.5129533671072455, 4.609247057164727, 4.609237161519013, 4.609211297926941, 3.7054544741056707, 3.7054062569678106, 5.512943761031373, 4.4685497268542544, 2.8016639542554933, 2.8016706034502326, 2.8016841852735963, 3.7054376193001675, 3.705383414378534, 1.8979207188767835, 1.8978905439410172, 1.8978627661592788, 7.249858515927858, 4.483463596960328, 1.8978907840667256, 1.8978594227093974, 1.8979260042117425, 2.269107124362566, 3.6314396045993407, 1.4267711232772682, 1.8979027831396, 1.8978825444562872, 2.801659612669191, 5.626666533344728, 3.703525099673951, 2.4797547992223885, 4.46010905590944, 4.224990071513478, 2.801659356822763, 3.7054612510200347, 2.8016575493178224, 3.626294320805681, 2.8015057367412473, 3.8061755460844973, 5.629233034828627, 19.978396739386795, 3.806229893199173, 4.734619429575547, 2.8778693112295666, 3.8062273645935742, 2.87786083567128, 2.87784932998756, 3.8062501494979366, 3.8062910436569273, 2.877869544372775, 2.877851388741598, 1.949471783287502, 1.9495721680152862, 1.9495494153768005, 2.704473271877392, 2.877908818245598, 3.6870035806101966, 1.949541604648862, 3.7705322348903025, 1.9495321884436614, 1.9494749194349497, 1.9495158107251997, 4.635469828626655, 1.0211617415245637, 1.0211777146693155, 1.0211731450636818, 1.021194948669542, 2.8779852448684218, 2.4849596139486567, 6.39713605334935, 4.303968241659523, 2.1145521033310746, 3.344624653981942, 2.834554713526644, 1.9495386412119742, 6.602016594475343, 3.8124962011932535, 5.672164502195855, 13.831082828098062, 4.733149040590846, 5.483202536754134, 4.578478023348069, 4.599272112823372, 5.669153225164456, 4.720248516326595, 1.882701758919033, 4.815062448016986, 1.9527480824341608, 2.6665270982561116, 2.882568024790039, 1.8327591268976942, 1.9527718900712272, 1.2262760381487054, 1.0228491373721817, 1.0227935378524082, 1.0228552664772206, 1.0228591880941071, 1.0228735019392203, 1.0227965326559905, 1.0228676384195674, 1.0228234208452565, 1.02285028371962, 1.022844424558348, 1.0228511674338816, 1.022875750999561, 3.812535585956766, 2.654284608566152, 3.653573719527518, 3.281083667706467, 2.396868234719927, 2.88257959902153, 2.345427360050442, 1.1446628072353828, 1.1828822372425785, 1.069355716315056, 1.0919172954178793, 1.084783731718526], \"Term\": [\"time\", \"let\", \"day\", \"world\", \"right\", \"free\", \"god\", \"freedom\", \"fellow\", \"man\", \"government\", \"good\", \"citizen\", \"new\", \"shall\", \"president\", \"present\", \"union\", \"nation\", \"america\", \"make\", \"begin\", \"public\", \"think\", \"people\", \"united\", \"power\", \"peace\", \"life\", \"heart\", \"special\", \"hear\", \"grow\", \"summon\", \"peace\", \"economic\", \"political\", \"merely\", \"strive\", \"young\", \"pledge\", \"administration\", \"tell\", \"help\", \"public\", \"good\", \"earth\", \"idea\", \"safety\", \"decision\", \"american people\", \"service\", \"security\", \"need\", \"year\", \"principle\", \"discipline\", \"individual\", \"equal\", \"people\", \"come\", \"hope\", \"make\", \"thank\", \"government\", \"nation\", \"man\", \"day\", \"power\", \"time\", \"free\", \"shall\", \"strength\", \"world\", \"say\", \"president\", \"fellow citizen\", \"fellow\", \"speak\", \"citizen\", \"land\", \"task\", \"express\", \"change\", \"today\", \"meet\", \"write\", \"continue\", \"americans\", \"provision\", \"america\", \"constitution\", \"law\", \"hero\", \"face\", \"purpose\", \"challenge\", \"word\", \"hand\", \"deny\", \"little\", \"serve\", \"balance\", \"hold\", \"war\", \"force\", \"strength\", \"power\", \"new\", \"great\", \"make\", \"federal\", \"believe\", \"break\", \"dark\", \"child\", \"generation\", \"act\", \"bear\", \"like\", \"preserve\", \"pass\", \"new\", \"mean\", \"live\", \"order\", \"nation\", \"hold\", \"states\", \"revolution\", \"great\", \"danger\", \"trade\", \"free man\", \"trust\", \"community\", \"freedom\", \"sense\", \"success\", \"true\", \"moment\", \"war\", \"change\", \"government\", \"world\", \"time\", \"people\", \"united\", \"know\", \"word\", \"need\", \"man\", \"free\", \"law\", \"sound\", \"require\", \"lose\", \"respect\", \"progress\", \"sacrifice\", \"party\", \"produce\", \"seek\", \"trade\", \"spirit\", \"responsibility\", \"world\", \"free\", \"measure\", \"patriotism\", \"duty\", \"mind\", \"work\", \"crisis\", \"peaceful\", \"job\", \"reach\", \"far\", \"confidence\", \"strong\", \"value\", \"force\", \"mean\", \"face\", \"know\", \"new\", \"americans\", \"friend\", \"nation\", \"citizen\", \"good\", \"leadership\", \"right\", \"let\", \"understand\", \"remember\", \"begin\", \"high\", \"support\", \"fear\", \"remain\", \"case\", \"danger\", \"crisis\", \"end\", \"restore\", \"congress\", \"true\", \"far\", \"century\", \"shall\", \"power\", \"renew\", \"friend\", \"hope\", \"city\", \"reach\", \"oath\", \"liberty\", \"country\", \"father\", \"duty\", \"energy\", \"come\", \"meet\", \"faith\", \"america\", \"government\", \"state\", \"man woman\", \"woman\", \"labor\", \"material\", \"authority\", \"exercise\", \"factory\", \"right\", \"dare\", \"care\", \"freedom\", \"free man\", \"enemy\", \"constitutional\", \"moral\", \"vital\", \"circumstance\", \"conflict\", \"concern\", \"revolution\", \"man\", \"view\", \"deny\", \"act\", \"courage\", \"free\", \"friend\", \"little\", \"work\", \"country\", \"need\", \"world\", \"people\", \"present\", \"union\", \"point\", \"way\", \"old\", \"balance\", \"form\", \"lie\", \"national\", \"measure\", \"success\", \"value\", \"action\", \"patriotism\", \"thing\", \"courage\", \"leave\", \"bring\", \"destroy\", \"community\", \"common\", \"order\", \"offer\", \"instrument\", \"government\", \"renew\", \"home\", \"effort\", \"security\", \"duty\", \"make\", \"shall\", \"constitution\", \"light\", \"nation\", \"life\", \"people\", \"good\", \"work\", \"god\", \"difference\", \"reject\", \"endure\", \"love\", \"choose\", \"effort\", \"father\", \"fact\", \"ask\", \"leadership\", \"city\", \"blessing\", \"sense\", \"thank\", \"use\", \"willing\", \"opinion\", \"hard\", \"life\", \"faith\", \"discipline\", \"turn\", \"confidence\", \"earth\", \"history\", \"necessary\", \"enemy\", \"form\", \"help\", \"good\", \"know\", \"national\", \"nation\", \"make\", \"country\", \"great\", \"hand\", \"man\", \"people\", \"leader\", \"question\", \"time\", \"protect\", \"just\", \"serve\", \"rule\", \"destroy\", \"bring\", \"oath\", \"possible\", \"strong\", \"congress\", \"return\", \"tell\", \"energy\", \"use\", \"light\", \"history\", \"young\", \"faith\", \"executive\", \"heart\", \"place\", \"life\", \"express\", \"hero\", \"preserve\", \"job\", \"hand\", \"word\", \"people\", \"make\", \"country\", \"world\", \"government\", \"work\", \"think\", \"prayer\", \"heart\", \"day\", \"united states\", \"future\", \"stand\", \"place\", \"united\", \"public\", \"opportunity\", \"states\", \"little\", \"moment\", \"year\", \"executive\", \"american\", \"like\", \"hero\", \"pass\", \"opinion\", \"restore\", \"spirit\", \"decision\", \"mind\", \"factory\", \"fact\", \"reject\", \"century\", \"individual\", \"great\", \"america\", \"man\", \"good\", \"life\", \"people\", \"government\", \"difference\", \"begin\", \"authority\", \"history\", \"constitution\"], \"Total\": [31.0, 26.0, 21.0, 40.0, 23.0, 29.0, 14.0, 20.0, 18.0, 32.0, 41.0, 30.0, 17.0, 19.0, 26.0, 13.0, 9.0, 11.0, 36.0, 19.0, 34.0, 10.0, 11.0, 7.0, 53.0, 11.0, 22.0, 17.0, 21.0, 8.0, 6.347736705901246, 5.4416926203476885, 5.44169284281954, 5.441693023625985, 17.17501441680525, 6.371555852304759, 6.371555710715249, 5.438071221586891, 5.471554304778566, 7.298376438213891, 7.230475257768538, 6.309611300012372, 6.392329895391472, 10.866542536987417, 11.902452693510465, 30.02392241145245, 8.15088703684663, 5.418620155510946, 5.4359764429305075, 5.4618904753776345, 5.465020108640894, 9.097539543999158, 7.304932498593321, 17.208171491953596, 10.062234417587211, 9.020253416567757, 6.339547823154973, 6.363925954584837, 8.1681659563616, 53.760035129338576, 14.554314491668253, 18.1180417253304, 34.71330571484354, 9.053111720460763, 41.193030697271986, 36.22495585172359, 32.83177182680904, 21.248360657472404, 22.50403710521002, 31.263081080639978, 29.039369515145168, 26.43642996108188, 11.769255574755604, 40.74476620651461, 8.894301585015906, 13.37521702655828, 10.68583338376633, 18.707944440062825, 8.053331306234458, 17.828677517734434, 11.66320193888018, 5.363156720484005, 5.387736952619085, 13.389419129450086, 16.097803167679775, 12.504478312369121, 7.172092585734538, 5.406601730572809, 14.296650344041844, 8.973947882688691, 19.738972229723576, 17.130852192997484, 13.465678098328596, 5.4306189484307055, 11.676673226386338, 9.926230373547087, 7.180323154181242, 15.311292669348362, 15.412494141071859, 7.216212073004193, 6.36693678505705, 5.470455043695695, 5.484412779353064, 11.68195570507279, 14.402086485728345, 12.621671423526356, 11.769255574755604, 22.50403710521002, 19.780679032030676, 27.14515599235186, 34.71330571484354, 7.225708905145031, 6.323675289633722, 5.421641123616263, 5.421641369222905, 6.354554777953804, 9.057979559932699, 10.887332921472993, 8.139773338938452, 6.388552007370329, 5.431854830967474, 5.451409535667774, 19.780679032030676, 13.527463369819483, 6.35800189894989, 6.386170585555424, 36.22495585172359, 11.68195570507279, 14.652168142162811, 7.279070605009832, 27.14515599235186, 5.422807980236425, 5.423375450192413, 5.474550743777818, 5.48291644038137, 8.221775469873657, 20.967600380716576, 6.3598126118264675, 6.40150207140228, 6.308464630131686, 9.112957723808686, 14.402086485728345, 13.389419129450086, 41.193030697271986, 40.74476620651461, 31.263081080639978, 53.760035129338576, 11.914855162609683, 19.049579573942857, 15.311292669348362, 17.208171491953596, 32.83177182680904, 29.039369515145168, 13.465678098328596, 5.42453100010785, 7.229565610237726, 6.357523444402296, 8.135609273105938, 5.429008914411689, 7.2368199004871245, 6.311323247559022, 6.353514273710402, 8.192939499246267, 5.423375450192413, 5.455215762987805, 7.255850066307308, 40.74476620651461, 29.039369515145168, 8.253890771698693, 5.49792159673912, 12.74479777935413, 5.4626962657111395, 20.05920073153849, 5.423964183083927, 5.431206240206988, 5.43806139199567, 5.454533134290425, 6.310946473041463, 6.345920066190876, 6.40375004710427, 6.419435602218702, 12.621671423526356, 13.527463369819483, 11.676673226386338, 19.049579573942857, 19.780679032030676, 14.296650344041844, 11.823422976016044, 36.22495585172359, 17.828677517734434, 30.02392241145245, 8.141362314204354, 23.72141114252125, 26.180702551150954, 7.228432568703686, 5.423586684777641, 10.870287028474669, 7.229769833689193, 9.938899424567833, 5.423775651122684, 7.216612636161427, 8.137708629043647, 5.422807980236425, 5.423964183083927, 7.2133694551570935, 5.454649434419302, 7.306183420193599, 6.308464630131686, 6.310946473041463, 6.360692440267243, 26.43642996108188, 22.50403710521002, 5.457541221131233, 11.823422976016044, 18.1180417253304, 5.427598520658352, 5.454533134290425, 8.236107138428416, 8.118914865705472, 14.562698627059147, 6.331358911485723, 12.74479777935413, 6.417653134006158, 14.554314491668253, 12.504478312369121, 14.564740383082407, 19.738972229723576, 41.193030697271986, 7.349163287326421, 6.429493261625887, 7.333177629871352, 6.413584534658388, 6.396140272315467, 9.166521064790825, 5.47713555851621, 5.52001632672527, 23.72141114252125, 5.4686703181231255, 7.372678470077528, 20.967600380716576, 5.474550743777818, 7.303717630562826, 9.088242573291595, 7.353519453375749, 8.244370101901787, 5.45609366989922, 5.472873535040903, 5.498707554890585, 7.279070605009832, 32.83177182680904, 7.336460700386315, 7.216212073004193, 10.887332921472993, 7.383810964218152, 29.039369515145168, 11.823422976016044, 6.36693678505705, 20.05920073153849, 14.562698627059147, 17.208171491953596, 40.74476620651461, 53.760035129338576, 9.30840690391146, 11.147749054341665, 5.563112841631201, 8.282708515569816, 12.932060268051654, 5.484412779353064, 7.33794720649697, 7.380178584348683, 10.987688340161927, 8.253890771698693, 6.40150207140228, 6.419435602218702, 8.232394476529192, 5.49792159673912, 11.029092971869462, 7.383810964218152, 5.491580803526866, 5.56247783048665, 5.562477017452219, 8.221775469873657, 11.01367242403967, 6.386170585555424, 6.41425676357434, 5.471732379696974, 41.193030697271986, 5.457541221131233, 7.284132945044879, 7.296257658042696, 7.304932498593321, 12.74479777935413, 34.71330571484354, 26.43642996108188, 17.130852192997484, 10.089297723972386, 36.22495585172359, 21.922251116581677, 53.760035129338576, 30.02392241145245, 20.05920073153849, 14.4939778144747, 9.07483741850627, 6.36013676806134, 8.107997660749815, 7.234341391838945, 7.245593768790332, 7.296257658042696, 6.331358911485723, 6.3587994988651495, 10.004865695230338, 8.141362314204354, 5.427598520658352, 5.457779426461651, 6.3598126118264675, 9.053111720460763, 9.14640535392548, 5.433693074691483, 5.453502098982787, 5.464074016535208, 21.922251116581677, 14.564740383082407, 6.339547823154973, 6.344639430322295, 6.345920066190876, 8.15088703684663, 13.681520142215195, 5.461831825279864, 7.303717630562826, 7.33794720649697, 10.866542536987417, 30.02392241145245, 19.049579573942857, 10.987688340161927, 36.22495585172359, 34.71330571484354, 14.562698627059147, 27.14515599235186, 15.412494141071859, 32.83177182680904, 53.760035129338576, 5.55782473271579, 8.285610263269884, 31.263081080639978, 6.433489338671599, 8.260432691223452, 5.470455043695695, 7.342965415689475, 5.562477017452219, 5.56247783048665, 8.236107138428416, 8.251181401290152, 6.40375004710427, 7.306183420193599, 5.492465771865074, 6.392329895391472, 6.417653134006158, 9.14640535392548, 10.089297723972386, 13.681520142215195, 7.298376438213891, 14.564740383082407, 8.239308624837372, 8.347333346629796, 9.218502008112065, 21.922251116581677, 5.387736952619085, 5.4306189484307055, 5.431854830967474, 5.43806139199567, 15.412494141071859, 15.311292669348362, 53.760035129338576, 34.71330571484354, 14.562698627059147, 40.74476620651461, 41.193030697271986, 20.05920073153849, 7.420516884978376, 5.53468832722353, 8.347333346629796, 21.248360657472404, 7.364757793302482, 9.222752088213888, 8.247540820658688, 9.218502008112065, 11.914855162609683, 11.902452693510465, 5.55243797474531, 14.652168142162811, 6.36693678505705, 9.112957723808686, 10.062234417587211, 8.239308624837372, 9.1113661492137, 6.388552007370329, 5.4306189484307055, 5.451409535667774, 5.453502098982787, 5.454649434419302, 5.455215762987805, 5.4618904753776345, 5.4626962657111395, 5.52001632672527, 6.3587994988651495, 6.36013676806134, 6.360692440267243, 6.363925954584837, 27.14515599235186, 19.738972229723576, 32.83177182680904, 30.02392241145245, 21.922251116581677, 53.760035129338576, 41.193030697271986, 9.07483741850627, 10.870287028474669, 9.166521064790825, 13.681520142215195, 17.130852192997484], \"loglift\": [30.0, 29.0, 28.0, 27.0, 26.0, 25.0, 24.0, 23.0, 22.0, 21.0, 20.0, 19.0, 18.0, 17.0, 16.0, 15.0, 14.0, 13.0, 12.0, 11.0, 10.0, 9.0, 8.0, 7.0, 6.0, 5.0, 4.0, 3.0, 2.0, 1.0, 1.7565, 1.7315, 1.7315, 1.7315, 1.5936, 1.5737, 1.5737, 1.5139, 1.4539, 1.4379, 1.3998, 1.3652, 1.3522, 1.3359, 1.2797, 1.2559, 1.2435, 1.2379, 1.2347, 1.2299, 1.2294, 1.1962, 1.1959, 1.1867, 1.1168, 1.1089, 1.0809, 1.0771, 1.0572, 1.0548, 1.0488, 0.9152, 0.6185, 1.0042, 0.2901, 0.205, 0.1798, 0.4257, 0.2995, 0.0284, 0.0296, 0.107, 0.8056, -0.4348, 1.9397, 1.8961, 1.8587, 1.8456, 1.7909, 1.7475, 1.6687, 1.6483, 1.6437, 1.635, 1.6105, 1.597, 1.5759, 1.5619, 1.5533, 1.5026, 1.5, 1.4162, 1.3829, 1.3562, 1.3512, 1.2509, 1.2246, 1.2009, 1.1418, 1.072, 1.0355, 0.9595, 0.9569, 0.9066, 0.8787, 0.8808, 0.8624, 0.5348, 0.5782, 0.3053, 0.0515, 2.0768, 2.0584, 2.0332, 2.0332, 1.8735, 1.8367, 1.6669, 1.6269, 1.596, 1.511, 1.4894, 1.4817, 1.4233, 1.3761, 1.3717, 1.2924, 1.2351, 1.2181, 1.1864, 1.1573, 1.1457, 1.1456, 1.1362, 1.1347, 1.119, 0.9987, 0.9863, 0.9798, 0.9516, 0.943, 0.9117, 0.9109, 0.7281, 0.4715, 0.515, 0.3186, 0.748, 0.5083, 0.6156, 0.4502, -0.1213, -0.0606, 0.6257, 2.1015, 1.9933, 1.9428, 1.8753, 1.8052, 1.8017, 1.7319, 1.7173, 1.6892, 1.6039, 1.5981, 1.5924, 1.5544, 1.5176, 1.4635, 1.4463, 1.3767, 1.3624, 1.2723, 1.2143, 1.213, 1.2117, 1.2087, 1.0629, 1.0573, 1.0483, 1.0458, 1.0388, 0.9695, 0.936, 0.9233, 0.864, 0.9142, 0.8245, 0.0428, 0.4138, -0.1756, 0.8797, -0.0968, 2.2282, 2.1772, 2.1336, 2.1044, 2.0252, 1.9796, 1.9153, 1.848, 1.7279, 1.6359, 1.6357, 1.6302, 1.63, 1.6174, 1.4846, 1.4842, 1.4764, 1.4627, 1.4305, 1.4081, 1.3543, 1.3386, 1.2455, 1.2406, 1.1572, 1.1373, 1.1189, 1.0915, 1.061, 0.9864, 0.7702, 0.8004, 0.6479, 0.4201, -0.1907, 2.2973, 2.2792, 2.1189, 2.1026, 2.1013, 2.0693, 2.0422, 2.0344, 1.9913, 1.9785, 1.9633, 1.8486, 1.7631, 1.7544, 1.7541, 1.7476, 1.7437, 1.6882, 1.6851, 1.6011, 1.4782, 1.4748, 1.4703, 1.0974, 1.0756, 1.0745, 1.0231, 0.9931, 0.927, 0.8824, 0.8276, 0.6942, -0.0869, -0.3027, 2.3271, 2.1468, 2.0446, 1.9518, 1.8304, 1.7793, 1.7677, 1.7596, 1.6925, 1.6501, 1.6247, 1.6219, 1.5836, 1.568, 1.5238, 1.4775, 1.3885, 1.3757, 1.3757, 1.3744, 1.3617, 1.2376, 1.2332, 1.2259, 1.2176, 1.1927, 1.106, 1.1043, 1.1032, 1.0272, 1.0084, 0.8357, 0.7794, 0.8855, -0.1085, 0.2636, -0.5033, -0.1927, 0.0931, 2.3066, 2.2042, 2.1133, 2.0496, 1.9846, 1.983, 1.976, 1.8996, 1.8953, 1.8394, 1.8354, 1.7741, 1.7685, 1.6156, 1.542, 1.5318, 1.3835, 1.3798, 1.3779, 1.3288, 1.2571, 1.2293, 1.2285, 1.2283, 1.1566, 1.1089, 1.093, 1.0877, 1.083, 1.0799, 0.7609, 0.7976, 0.9467, 0.3408, 0.3292, 0.7871, 0.4439, 0.7304, 0.2322, -0.519, 2.2422, 2.2343, 2.173, 2.0959, 2.0642, 1.9785, 1.9637, 1.9618, 1.9618, 1.8489, 1.8471, 1.821, 1.6891, 1.585, 1.4333, 1.4294, 1.4024, 1.3664, 1.3096, 1.3008, 1.2694, 1.1795, 1.1664, 1.0672, 1.0671, 0.9576, 0.9497, 0.9495, 0.9484, 0.9427, 0.8025, 0.4921, 0.5332, 0.6912, 0.1208, -0.0556, 0.2897, 2.6121, 2.3562, 2.3426, 2.2996, 2.2868, 2.209, 2.1404, 2.0336, 1.9862, 1.8041, 1.6474, 1.6161, 1.5471, 1.5, 1.4788, 1.2258, 1.1887, 1.0784, 1.0595, 1.0556, 1.0553, 1.0551, 1.055, 1.0537, 1.0536, 1.0431, 0.9017, 0.9015, 0.9014, 0.9009, 0.766, 0.7225, 0.5332, 0.5151, 0.5156, -0.1969, -0.1369, 0.6585, 0.5109, 0.5804, 0.2008, -0.0306], \"logprob\": [30.0, 29.0, 28.0, 27.0, 26.0, 25.0, 24.0, 23.0, 22.0, 21.0, 20.0, 19.0, 18.0, 17.0, 16.0, 15.0, 14.0, 13.0, 12.0, 11.0, 10.0, 9.0, 8.0, 7.0, 6.0, 5.0, 4.0, 3.0, 2.0, 1.0, -4.1365, -4.3155, -4.3155, -4.3155, -3.304, -4.3155, -4.3155, -4.5338, -4.5876, -4.3156, -4.363, -4.5338, -4.5338, -4.0195, -3.9847, -3.0832, -4.3995, -4.8134, -4.8134, -4.8134, -4.8134, -4.3369, -4.5567, -3.709, -4.3155, -4.4328, -4.8134, -4.8134, -4.5836, -2.7018, -4.0144, -3.929, -3.5755, -4.5338, -3.7327, -3.9464, -4.0699, -4.2591, -4.3279, -4.2703, -4.3429, -4.3593, -4.47, -4.4686, -3.6159, -3.2516, -3.5135, -2.9665, -3.8641, -3.1128, -3.6159, -4.4132, -4.4132, -3.5117, -3.3519, -3.618, -4.195, -4.4916, -3.5278, -4.0442, -3.2585, -3.484, -3.7581, -4.6928, -3.9323, -4.195, -4.5451, -3.8116, -3.8641, -4.6928, -4.8544, -5.0823, -5.0823, -4.3765, -4.195, -4.3249, -4.4132, -4.0926, -4.1782, -4.1346, -4.1425, -3.6866, -3.8384, -4.0175, -4.0175, -4.0185, -3.7007, -3.6866, -4.0175, -4.2906, -4.5378, -4.5559, -3.2747, -3.7131, -4.5153, -4.5153, -2.8589, -4.048, -3.8384, -4.5697, -3.2826, -4.9048, -4.9048, -4.9048, -4.9048, -4.5153, -3.6995, -4.9048, -4.9048, -4.9476, -4.5884, -4.162, -4.2357, -3.2947, -3.5622, -3.7837, -3.438, -4.5153, -4.2858, -4.3969, -4.4455, -4.371, -4.4331, -4.5153, -3.9486, -3.7696, -3.9486, -3.7696, -4.2441, -3.9602, -4.1669, -4.1748, -3.9486, -4.4465, -4.4465, -4.1669, -2.4794, -2.8549, -4.1669, -4.5905, -3.8193, -4.6807, -3.4701, -4.836, -4.8359, -4.8359, -4.8359, -4.836, -4.8359, -4.836, -4.836, -4.1669, -4.1669, -4.3475, -3.8707, -3.8924, -4.1669, -4.4465, -4.1085, -4.4465, -4.5147, -4.7645, -4.6715, -2.2479, -3.5859, -3.9168, -3.2506, -3.7377, -3.4651, -4.135, -3.9167, -3.9167, -4.4146, -4.4146, -4.135, -4.4146, -4.135, -4.4146, -4.4146, -4.4146, -3.0036, -3.1969, -4.636, -3.9167, -3.5056, -4.8041, -4.804, -4.4754, -4.5096, -3.9437, -4.8041, -4.135, -4.8956, -4.293, -4.4146, -4.4146, -4.3384, -4.2135, -3.4492, -3.601, -3.6298, -3.7801, -3.7841, -3.4563, -3.9983, -3.9983, -2.5835, -4.0635, -3.7801, -2.8495, -4.2779, -3.9983, -3.7801, -3.9983, -3.8879, -4.3562, -4.3562, -4.4355, -4.2779, -2.7749, -4.2779, -4.6674, -4.2779, -4.6674, -3.3493, -4.2779, -4.9629, -3.86, -4.235, -4.2015, -4.1207, -4.0593, -3.183, -3.183, -3.9803, -3.6752, -3.351, -4.2599, -3.9803, -3.9827, -3.6518, -3.9803, -4.2599, -4.2599, -4.0495, -4.4688, -3.8168, -4.2643, -4.6494, -4.6494, -4.6494, -4.2599, -3.9803, -4.6494, -4.6494, -4.8156, -2.8052, -4.8514, -4.6494, -4.6494, -4.6494, -4.1688, -3.1856, -3.6306, -4.1208, -4.5441, -4.2599, -4.3899, -4.2599, -4.5318, -4.6493, -2.7608, -3.3314, -3.7777, -3.5987, -3.7777, -3.7777, -3.7777, -3.996, -3.996, -3.5987, -3.8087, -4.2755, -4.2755, -4.2755, -3.996, -3.996, -4.665, -4.665, -4.665, -3.3248, -3.8054, -4.665, -4.665, -4.665, -4.4864, -4.0161, -4.9503, -4.665, -4.665, -4.2756, -3.5782, -3.9965, -4.3976, -3.8106, -3.8647, -4.2756, -3.996, -4.2756, -4.0176, -4.2756, -3.7837, -3.3923, -2.1256, -3.7836, -3.5654, -4.0632, -3.7836, -4.0632, -4.0632, -3.7836, -3.7836, -4.0632, -4.0632, -4.4527, -4.4527, -4.4527, -4.1254, -4.0632, -3.8155, -4.4527, -3.7931, -4.4527, -4.4527, -4.4527, -3.5865, -5.0993, -5.0993, -5.0993, -5.0993, -4.0632, -4.21, -3.2644, -3.6607, -4.3714, -3.9129, -4.0784, -4.4527, -3.1248, -3.6739, -3.2766, -2.3852, -3.4576, -3.3105, -3.4908, -3.4863, -3.2771, -3.4603, -4.3795, -3.4404, -4.3429, -4.0314, -3.9535, -4.4063, -4.3429, -4.8082, -4.9896, -4.9896, -4.9896, -4.9896, -4.9895, -4.9896, -4.9896, -4.9896, -4.9896, -4.9896, -4.9896, -4.9895, -3.6739, -4.036, -3.7165, -3.824, -4.138, -3.9535, -4.1597, -4.8771, -4.8442, -4.9451, -4.9242, -4.9308]}, \"token.table\": {\"Topic\": [3, 4, 6, 1, 2, 3, 7, 8, 1, 2, 2, 4, 5, 10, 1, 2, 4, 5, 7, 10, 1, 5, 7, 2, 4, 5, 5, 7, 8, 2, 6, 10, 2, 7, 1, 3, 5, 10, 3, 3, 7, 8, 3, 7, 9, 6, 7, 10, 1, 3, 5, 1, 5, 10, 1, 2, 4, 2, 3, 3, 7, 2, 8, 9, 2, 4, 6, 2, 4, 8, 5, 8, 1, 3, 5, 7, 10, 1, 5, 6, 7, 8, 10, 3, 4, 7, 1, 6, 9, 3, 4, 6, 8, 4, 6, 8, 5, 9, 2, 3, 5, 7, 10, 2, 3, 5, 6, 2, 7, 4, 5, 6, 8, 9, 1, 6, 7, 9, 4, 5, 3, 5, 2, 6, 3, 1, 7, 10, 1, 5, 10, 2, 3, 5, 6, 7, 9, 8, 10, 1, 5, 8, 4, 5, 7, 1, 4, 8, 1, 10, 7, 8, 2, 4, 5, 2, 8, 1, 6, 8, 1, 5, 7, 9, 1, 4, 6, 8, 2, 5, 7, 9, 10, 2, 6, 2, 9, 2, 4, 7, 8, 5, 8, 10, 6, 10, 1, 4, 5, 8, 9, 2, 4, 5, 5, 8, 4, 5, 3, 2, 5, 8, 10, 2, 8, 1, 2, 4, 6, 8, 2, 7, 8, 1, 3, 4, 6, 3, 6, 2, 3, 5, 6, 4, 5, 6, 7, 3, 9, 10, 3, 8, 9, 8, 10, 1, 4, 7, 8, 10, 1, 3, 4, 5, 7, 9, 10, 1, 2, 3, 4, 5, 8, 9, 10, 1, 2, 7, 8, 9, 10, 1, 7, 8, 1, 9, 10, 1, 3, 8, 2, 9, 10, 5, 8, 2, 3, 4, 6, 8, 9, 10, 1, 2, 3, 4, 1, 2, 4, 7, 1, 3, 5, 6, 1, 2, 3, 1, 3, 5, 10, 2, 5, 6, 7, 1, 2, 4, 9, 3, 4, 9, 1, 3, 4, 5, 6, 8, 9, 10, 6, 8, 1, 2, 7, 10, 1, 2, 3, 7, 8, 7, 9, 1, 4, 8, 1, 3, 7, 5, 8, 1, 2, 3, 4, 5, 1, 4, 7, 9, 2, 4, 5, 7, 8, 9, 10, 1, 4, 5, 7, 9, 3, 7, 10, 2, 6, 10, 1, 3, 9, 4, 7, 3, 8, 1, 2, 6, 7, 8, 9, 10, 1, 2, 3, 4, 6, 8, 10, 6, 2, 6, 2, 3, 4, 5, 8, 4, 7, 2, 4, 5, 1, 5, 1, 4, 10, 1, 3, 5, 10, 3, 6, 7, 9, 1, 2, 3, 4, 7, 8, 9, 2, 4, 7, 8, 1, 4, 7, 8, 1, 2, 3, 6, 2, 3, 4, 5, 8, 9, 3, 4, 7, 10, 1, 3, 4, 7, 9, 10, 3, 4, 8, 10, 6, 7, 9, 10, 3, 4, 7, 2, 4, 5, 3, 8, 10, 4, 7, 1, 2, 4, 1, 4, 5, 1, 3, 4, 5, 6, 7, 8, 9, 10, 4, 9, 10, 1, 2, 4, 6, 7, 1, 10, 2, 4, 7, 8, 9, 1, 2, 3, 5, 8, 8, 10, 7, 2, 3, 9, 2, 7, 1, 2, 4, 8, 4, 5, 9, 1, 4, 1, 4, 9, 2, 4, 9, 1, 10, 2, 6, 7, 8, 4, 5, 9, 4, 5, 7, 8, 10, 1, 2, 5, 5, 2, 5, 7, 4, 5, 1, 4, 5, 3, 4, 10, 1, 5, 10, 3, 4, 6, 9, 3, 5, 6, 1, 2, 4, 6, 8, 1, 9, 1, 4, 1, 4, 8, 2, 1, 3, 7, 4, 5, 7, 3, 7, 8, 2, 9, 1, 5, 6, 10, 1, 3, 4, 5, 6, 7, 9, 4, 2, 7, 1, 1, 4, 10, 2, 4, 5, 10, 6, 1, 3, 6, 7, 10, 1, 2, 3, 7, 9, 1, 7, 3, 4, 9, 2, 3, 7, 1, 1, 3, 5, 2, 8, 1, 9, 1, 5, 8, 1, 5, 6, 7, 10, 1, 3, 9, 2, 3, 5, 10, 3, 4, 2, 3, 5, 1, 3, 7, 9, 1, 2, 8, 9, 5, 6, 7, 1, 3, 10, 3, 10, 1, 7, 8, 9, 4, 7, 8, 3, 4, 6, 7, 9, 1, 4, 6, 7, 1, 2, 3, 5, 9, 2, 4, 7, 1, 4, 8, 1, 6, 1, 2, 3, 9, 4, 5, 6, 7, 8, 9, 1, 2, 3, 4, 6, 9, 1, 2, 6, 1, 4, 9, 10, 1, 9], \"Freq\": [0.5510991574590551, 0.0918498595765092, 0.27554957872952757, 0.1214713414002488, 0.1214713414002488, 0.1214713414002488, 0.4858853656009952, 0.1214713414002488, 0.6339534734876865, 0.31697673674384325, 0.6079343878872283, 0.10132239798120472, 0.15198359697180708, 0.15198359697180708, 0.3292590760671929, 0.10975302535573096, 0.10975302535573096, 0.10975302535573096, 0.10975302535573096, 0.21950605071146193, 0.5489458300906556, 0.18298194336355186, 0.18298194336355186, 0.6295180887424282, 0.279785817218857, 0.06994645430471425, 0.19990273342234555, 0.19990273342234555, 0.5997082002670366, 0.10909264190108742, 0.6545558514065245, 0.10909264190108742, 0.36466985262840085, 0.5470047789426012, 0.36856063124618216, 0.614267718743637, 0.8279450189700179, 0.09199389099666866, 0.9488153210263157, 0.18322470035186322, 0.18322470035186322, 0.5496741010555897, 0.9222299827667261, 0.35955199480319083, 0.5393279922047862, 0.6781795815852827, 0.13563591631705654, 0.13563591631705654, 0.24576942861556378, 0.12288471430778189, 0.6144235715389095, 0.3144311753447979, 0.4716467630171968, 0.15721558767239896, 0.1392694978383641, 0.41780849351509225, 0.2785389956767282, 0.6721725500551745, 0.2987433555800776, 0.7868371860365052, 0.15736743720730104, 0.13801491387874926, 0.6900745693937463, 0.13801491387874926, 0.18328131086108557, 0.18328131086108557, 0.5498439325832567, 0.7291623277760629, 0.16826822948678377, 0.05608940982892792, 0.36848709284367, 0.552730639265505, 0.4122488904190406, 0.13741629680634687, 0.2061244452095203, 0.13741629680634687, 0.06870814840317344, 0.1815924718838175, 0.1815924718838175, 0.09079623594190875, 0.363184943767635, 0.09079623594190875, 0.09079623594190875, 0.3648846907815278, 0.24325646052101854, 0.3648846907815278, 0.18186091731876045, 0.3637218346375209, 0.18186091731876045, 0.15758156257399059, 0.31516312514798117, 0.15758156257399059, 0.31516312514798117, 0.1827193691937788, 0.5481581075813363, 0.1827193691937788, 0.5474814646651738, 0.4106110984988803, 0.5253679092321454, 0.05837421213690504, 0.11674842427381008, 0.17512263641071513, 0.05837421213690504, 0.22006454865955857, 0.11003227432977929, 0.11003227432977929, 0.5501613716488964, 0.5548771944927708, 0.18495906483092361, 0.13733718256613325, 0.2746743651322665, 0.20600577384919985, 0.20600577384919985, 0.13733718256613325, 0.13543141947240883, 0.27086283894481766, 0.4062942584172265, 0.13543141947240883, 0.3687339983249762, 0.5531009974874643, 0.3688126165058869, 0.5532189247588304, 0.18285980719774034, 0.7314392287909613, 0.9222299409886383, 0.23531227093708293, 0.09412490837483317, 0.6588743586238323, 0.5492603730382529, 0.18308679101275097, 0.18308679101275097, 0.4157305757715994, 0.13857685859053312, 0.13857685859053312, 0.27715371718106624, 0.35955204735678353, 0.5393280710351752, 0.7713636814831454, 0.11019481164044934, 0.4732198705154659, 0.15773995683848863, 0.31547991367697725, 0.39231693484377794, 0.31385354787502234, 0.23539016090626677, 0.49074413397188954, 0.12268603349297239, 0.24537206698594477, 0.7847376866658665, 0.1569475373331733, 0.2741131267198865, 0.6852828167997164, 0.13863146844434324, 0.2772629368886865, 0.554525873777373, 0.24667002676651525, 0.7400100802995457, 0.1369165746243314, 0.5476662984973256, 0.2738331492486628, 0.15582020079912914, 0.3116404015982583, 0.15582020079912914, 0.3116404015982583, 0.489706014957334, 0.1224265037393335, 0.1224265037393335, 0.244853007478667, 0.24273881354207388, 0.12136940677103694, 0.12136940677103694, 0.24273881354207388, 0.24273881354207388, 0.18257718643555104, 0.7303087457422042, 0.7424267433946494, 0.18560668584866236, 0.5138449868102425, 0.25692249340512124, 0.08564083113504042, 0.08564083113504042, 0.15726238894282943, 0.6290495557713177, 0.15726238894282943, 0.7246355378758428, 0.1811588844689607, 0.13731792997306624, 0.06865896498653312, 0.20597689495959937, 0.2746358599461325, 0.2746358599461325, 0.15845483783957137, 0.31690967567914274, 0.4753645135187141, 0.3158879520116603, 0.6317759040233206, 0.18437340781103417, 0.7374936312441367, 0.8303683526093515, 0.801798404312004, 0.0534532269541336, 0.0534532269541336, 0.0534532269541336, 0.8422366021233862, 0.09358184468037625, 0.0792288094377132, 0.3169152377508528, 0.3169152377508528, 0.1584576188754264, 0.0792288094377132, 0.13627789514683433, 0.5451115805873373, 0.27255579029366866, 0.13774403738048938, 0.10330802803536704, 0.48210413083171283, 0.24105206541585641, 0.3653267808820897, 0.5479901713231345, 0.047692629668756814, 0.2861557780125409, 0.047692629668756814, 0.5723115560250818, 0.2537336274009258, 0.422889379001543, 0.2537336274009258, 0.0845778758003086, 0.21685501039932295, 0.10842750519966148, 0.5421375259983073, 0.6623993750814536, 0.11039989584690893, 0.11039989584690893, 0.8969242375283126, 0.06899417211756251, 0.5329083848783494, 0.0999203221646905, 0.06661354810979367, 0.199840644329381, 0.0999203221646905, 0.19420760901988698, 0.21848356014737286, 0.048551902254971746, 0.07282785338245762, 0.2913114135298305, 0.07282785338245762, 0.048551902254971746, 0.0736779704107613, 0.18419492602690324, 0.3683898520538065, 0.03683898520538065, 0.03683898520538065, 0.1473559408215226, 0.03683898520538065, 0.1473559408215226, 0.9188317210144696, 0.38929455187989004, 0.12976485062663, 0.19464727593994502, 0.19464727593994502, 0.064882425313315, 0.36602725254959273, 0.18301362627479636, 0.36602725254959273, 0.9188317585789204, 0.23959747585826224, 0.7187924275747868, 0.5521535465008549, 0.09202559108347583, 0.27607677325042745, 0.5524232188794824, 0.18414107295982746, 0.18414107295982746, 0.8299019385155628, 0.13831698975259382, 0.07309129319003353, 0.14618258638006706, 0.07309129319003353, 0.07309129319003353, 0.29236517276013413, 0.29236517276013413, 0.07309129319003353, 0.17120421019329127, 0.34240842038658253, 0.34240842038658253, 0.08560210509664563, 0.4118540974792047, 0.1372846991597349, 0.1372846991597349, 0.2745693983194698, 0.3863552201788711, 0.11038720576539174, 0.3863552201788711, 0.11038720576539174, 0.5536464845111692, 0.18454882817038973, 0.18454882817038973, 0.47140711903454424, 0.15713570634484808, 0.15713570634484808, 0.15713570634484808, 0.1827574761716289, 0.1827574761716289, 0.1827574761716289, 0.3655149523432578, 0.1838890604420003, 0.1838890604420003, 0.3677781208840006, 0.1838890604420003, 0.12105903375527537, 0.24211806751055073, 0.6052951687763769, 0.10498919371090575, 0.2099783874218115, 0.26247298427726434, 0.05249459685545287, 0.05249459685545287, 0.2099783874218115, 0.05249459685545287, 0.05249459685545287, 0.7795952439670025, 0.1559190487934005, 0.08573974841903605, 0.6859179873522884, 0.08573974841903605, 0.08573974841903605, 0.0742628772719677, 0.519840140903774, 0.2227886318159031, 0.0742628772719677, 0.0742628772719677, 0.17992650867767782, 0.7197060347107113, 0.12282956603654469, 0.24565913207308937, 0.49131826414617874, 0.364193858117418, 0.182096929058709, 0.364193858117418, 0.9167057283168635, 0.038196072013202645, 0.12316916934602043, 0.12316916934602043, 0.12316916934602043, 0.24633833869204086, 0.3695075080380613, 0.13549807617402693, 0.13549807617402693, 0.5419923046961077, 0.13549807617402693, 0.09123150671726539, 0.09123150671726539, 0.045615753358632695, 0.1368472600758981, 0.3193102735104289, 0.22807876679316347, 0.09123150671726539, 0.1982298525345285, 0.1982298525345285, 0.09911492626726424, 0.1982298525345285, 0.2973447788017927, 0.6261199713777534, 0.15652999284443836, 0.15652999284443836, 0.31412279837518114, 0.15706139918759057, 0.31412279837518114, 0.3145642344539606, 0.4718463516809409, 0.1572821172269803, 0.786469769828757, 0.1572939539657514, 0.27645916769371687, 0.6911479192342922, 0.28807397607551855, 0.14403698803775927, 0.05761479521510371, 0.23045918086041484, 0.11522959043020742, 0.11522959043020742, 0.028807397607551855, 0.18274980807160257, 0.060916602690534186, 0.09137490403580129, 0.030458301345267093, 0.3959579174884722, 0.12183320538106837, 0.12183320538106837, 0.9331995160195133, 0.15634428849666082, 0.781721442483304, 0.07392368936152917, 0.443542136169175, 0.2956947574461167, 0.07392368936152917, 0.07392368936152917, 0.484619933875958, 0.484619933875958, 0.639770792523715, 0.07997134906546438, 0.23991404719639314, 0.735554912212561, 0.18388872805314024, 0.18305978428215228, 0.36611956856430455, 0.18305978428215228, 0.10973385703166175, 0.32920157109498527, 0.2194677140633235, 0.32920157109498527, 0.135989305031475, 0.5439572201259, 0.135989305031475, 0.135989305031475, 0.19323695047835202, 0.05521055727952915, 0.4140791795964686, 0.1104211145590583, 0.08281583591929373, 0.1104211145590583, 0.027605278639764575, 0.1820219083471497, 0.09101095417357485, 0.4550547708678743, 0.1820219083471497, 0.1830887570304785, 0.1830887570304785, 0.1830887570304785, 0.1830887570304785, 0.46489541342267166, 0.11622385335566791, 0.1743357800335019, 0.1743357800335019, 0.25277190898773216, 0.5055438179754643, 0.25277190898773216, 0.3642497541104655, 0.1214165847034885, 0.485666338813954, 0.15590270811715226, 0.15590270811715226, 0.3118054162343045, 0.15590270811715226, 0.07732719916798378, 0.07732719916798378, 0.07732719916798378, 0.5412903941758865, 0.07732719916798378, 0.07732719916798378, 0.18336840838229893, 0.18336840838229893, 0.36673681676459785, 0.18336840838229893, 0.1801010663330949, 0.1801010663330949, 0.1801010663330949, 0.3602021326661898, 0.4697650900189791, 0.1565883633396597, 0.3131767266793194, 0.1584453783739823, 0.6337815134959291, 0.1584453783739823, 0.5503163870502554, 0.18343879568341848, 0.18343879568341848, 0.36377383067561797, 0.36377383067561797, 0.7569134840014969, 0.1164482283079226, 0.1164482283079226, 0.3682423225238779, 0.3682423225238779, 0.18412116126193895, 0.4278271013898233, 0.14880942657037333, 0.03720235664259333, 0.03720235664259333, 0.07440471328518666, 0.055803534963890004, 0.055803534963890004, 0.11160706992778001, 0.055803534963890004, 0.216954988808382, 0.216954988808382, 0.542387472020955, 0.5532139807410773, 0.13830349518526933, 0.13830349518526933, 0.17975547655919608, 0.7190219062367843, 0.7847377041044058, 0.15694754082088117, 0.12119476610266262, 0.12119476610266262, 0.12119476610266262, 0.12119476610266262, 0.4847790644106505, 0.22218235673111406, 0.22218235673111406, 0.04443647134622281, 0.3999282421160053, 0.08887294269244563, 0.18067864726569866, 0.7227145890627946, 0.8594381490390522, 0.18409917627012298, 0.5522975288103689, 0.18409917627012298, 0.8971817037564622, 0.07476514197970519, 0.44344652143066027, 0.22172326071533013, 0.11086163035766507, 0.11086163035766507, 0.6295728360210375, 0.15739320900525938, 0.15739320900525938, 0.18419568207844145, 0.5525870462353243, 0.15543664524148915, 0.15543664524148915, 0.6217465809659566, 0.5571683795540326, 0.22286735182161305, 0.11143367591080652, 0.5040977817346302, 0.4200814847788585, 0.5037158933289271, 0.2014863573315708, 0.1007431786657854, 0.2014863573315708, 0.1206911703816194, 0.1206911703816194, 0.7241470222897164, 0.3666674948634588, 0.3666674948634588, 0.1833337474317294, 0.7861466163917212, 0.15722932327834427, 0.1385691667845855, 0.1385691667845855, 0.6928458339229275, 0.9218991583620264, 0.18323269756132435, 0.3664653951226487, 0.3664653951226487, 0.8299253818934088, 0.1383208969822348, 0.1229164241338042, 0.7374985448028252, 0.1229164241338042, 0.2756396537584262, 0.5512793075168524, 0.1378198268792131, 0.18332983852086165, 0.5499895155625849, 0.18332983852086165, 0.18206758886372276, 0.18206758886372276, 0.18206758886372276, 0.3641351777274455, 0.41214052765681997, 0.13738017588560666, 0.41214052765681997, 0.0421560080887209, 0.12646802426616272, 0.0843120161774418, 0.6744961294195344, 0.0843120161774418, 0.4085542870173401, 0.5447390493564535, 0.2763644843317679, 0.6909112108294198, 0.5518787712742028, 0.18395959042473425, 0.18395959042473425, 0.8994522980283778, 0.547575217261797, 0.13689380431544926, 0.2737876086308985, 0.6102815723782642, 0.12205631447565284, 0.24411262895130567, 0.31447467434510185, 0.15723733717255092, 0.4717120115176528, 0.3656002990655879, 0.5484004485983819, 0.5495991499479722, 0.2198396599791889, 0.10991982998959444, 0.10991982998959444, 0.15130636042342174, 0.037826590105855436, 0.037826590105855436, 0.4160924911644098, 0.07565318021171087, 0.18913295052927717, 0.037826590105855436, 0.9217386719516564, 0.74503330011459, 0.12417221668576499, 0.9452187886781805, 0.18331080629014443, 0.5499324188704333, 0.18331080629014443, 0.1212482631786641, 0.1212482631786641, 0.1212482631786641, 0.6062413158933205, 0.9524893823044386, 0.06824928504078644, 0.40949571024471865, 0.13649857008157287, 0.06824928504078644, 0.3412464252039322, 0.3398685647187216, 0.3398685647187216, 0.0849671411796804, 0.0849671411796804, 0.1699342823593608, 0.7310536964801047, 0.18276342412002616, 0.15615849972973145, 0.3123169994594629, 0.46847549918919434, 0.15621333693967626, 0.3124266738793525, 0.4686400108190288, 0.9188316904852399, 0.10061476198542803, 0.10061476198542803, 0.7043033338979962, 0.7458294076550899, 0.18645735191377247, 0.6257499324125599, 0.31287496620627997, 0.44183703057145285, 0.11045925764286321, 0.44183703057145285, 0.181338574722432, 0.181338574722432, 0.181338574722432, 0.45334643680608, 0.943330513022665, 0.15993305289082038, 0.19191966346898448, 0.6397322115632815, 0.6833230525569572, 0.12424055501035587, 0.12424055501035587, 0.062120277505177936, 0.36877402613330834, 0.5531610391999625, 0.1585171763068323, 0.3170343526136646, 0.47555152892049685, 0.1823846872140995, 0.364769374428199, 0.1823846872140995, 0.1823846872140995, 0.31522673935442286, 0.15761336967721143, 0.31522673935442286, 0.15761336967721143, 0.8300554709436838, 0.17940841601749807, 0.7176336640699923, 0.2517865269075513, 0.2517865269075513, 0.5035730538151026, 0.27156358106152545, 0.6789089526538137, 0.10933256960569948, 0.10933256960569948, 0.4373302784227979, 0.32799770881709844, 0.31155386920756006, 0.4673308038113401, 0.15577693460378003, 0.13630550763358457, 0.13630550763358457, 0.4089165229007537, 0.13630550763358457, 0.13630550763358457, 0.12129489429026519, 0.12129489429026519, 0.48517957716106075, 0.12129489429026519, 0.13886876752072605, 0.34717191880181514, 0.2777375350414521, 0.20830315128108906, 0.06943438376036302, 0.12073345308726033, 0.12073345308726033, 0.6036672654363017, 0.36807378931934925, 0.18403689465967463, 0.36807378931934925, 0.13636653173742136, 0.6818326586871067, 0.13062254397395165, 0.4571789039088308, 0.1959338159609275, 0.13062254397395165, 0.3489670447833002, 0.09970486993808578, 0.19940973987617155, 0.09970486993808578, 0.09970486993808578, 0.09970486993808578, 0.09817211810042112, 0.04908605905021056, 0.17180120667573695, 0.4908605905021056, 0.07362908857531585, 0.07362908857531585, 0.13942932108671097, 0.6971466054335548, 0.13942932108671097, 0.49690752495894774, 0.09938150499178955, 0.09938150499178955, 0.29814451497536865, 0.68508387342427, 0.27403354936970803], \"Term\": [\"act\", \"act\", \"act\", \"action\", \"action\", \"action\", \"action\", \"action\", \"administration\", \"administration\", \"america\", \"america\", \"america\", \"america\", \"american\", \"american\", \"american\", \"american\", \"american\", \"american\", \"american people\", \"american people\", \"american people\", \"americans\", \"americans\", \"americans\", \"ask\", \"ask\", \"ask\", \"authority\", \"authority\", \"authority\", \"balance\", \"balance\", \"bear\", \"bear\", \"begin\", \"begin\", \"believe\", \"blessing\", \"blessing\", \"blessing\", \"break\", \"bring\", \"bring\", \"care\", \"care\", \"care\", \"case\", \"case\", \"case\", \"century\", \"century\", \"century\", \"challenge\", \"challenge\", \"challenge\", \"change\", \"change\", \"child\", \"child\", \"choose\", \"choose\", \"choose\", \"circumstance\", \"circumstance\", \"circumstance\", \"citizen\", \"citizen\", \"citizen\", \"city\", \"city\", \"come\", \"come\", \"come\", \"come\", \"come\", \"common\", \"common\", \"common\", \"common\", \"common\", \"common\", \"community\", \"community\", \"community\", \"concern\", \"concern\", \"concern\", \"confidence\", \"confidence\", \"confidence\", \"confidence\", \"conflict\", \"conflict\", \"conflict\", \"congress\", \"congress\", \"constitution\", \"constitution\", \"constitution\", \"constitution\", \"constitution\", \"constitutional\", \"constitutional\", \"constitutional\", \"constitutional\", \"continue\", \"continue\", \"country\", \"country\", \"country\", \"country\", \"country\", \"courage\", \"courage\", \"courage\", \"courage\", \"crisis\", \"crisis\", \"danger\", \"danger\", \"dare\", \"dare\", \"dark\", \"day\", \"day\", \"day\", \"decision\", \"decision\", \"decision\", \"deny\", \"deny\", \"deny\", \"deny\", \"destroy\", \"destroy\", \"difference\", \"difference\", \"discipline\", \"discipline\", \"discipline\", \"duty\", \"duty\", \"duty\", \"earth\", \"earth\", \"earth\", \"economic\", \"economic\", \"effort\", \"effort\", \"end\", \"end\", \"end\", \"endure\", \"endure\", \"enemy\", \"enemy\", \"enemy\", \"energy\", \"energy\", \"energy\", \"energy\", \"equal\", \"equal\", \"equal\", \"equal\", \"executive\", \"executive\", \"executive\", \"executive\", \"executive\", \"exercise\", \"exercise\", \"express\", \"express\", \"face\", \"face\", \"face\", \"face\", \"fact\", \"fact\", \"fact\", \"factory\", \"factory\", \"faith\", \"faith\", \"faith\", \"faith\", \"faith\", \"far\", \"far\", \"far\", \"father\", \"father\", \"fear\", \"fear\", \"federal\", \"fellow\", \"fellow\", \"fellow\", \"fellow\", \"fellow citizen\", \"fellow citizen\", \"force\", \"force\", \"force\", \"force\", \"force\", \"form\", \"form\", \"form\", \"free\", \"free\", \"free\", \"free\", \"free man\", \"free man\", \"freedom\", \"freedom\", \"freedom\", \"freedom\", \"friend\", \"friend\", \"friend\", \"friend\", \"future\", \"future\", \"future\", \"generation\", \"generation\", \"generation\", \"god\", \"god\", \"good\", \"good\", \"good\", \"good\", \"good\", \"government\", \"government\", \"government\", \"government\", \"government\", \"government\", \"government\", \"great\", \"great\", \"great\", \"great\", \"great\", \"great\", \"great\", \"great\", \"grow\", \"hand\", \"hand\", \"hand\", \"hand\", \"hand\", \"hard\", \"hard\", \"hard\", \"hear\", \"heart\", \"heart\", \"help\", \"help\", \"help\", \"hero\", \"hero\", \"hero\", \"high\", \"high\", \"history\", \"history\", \"history\", \"history\", \"history\", \"history\", \"history\", \"hold\", \"hold\", \"hold\", \"hold\", \"home\", \"home\", \"home\", \"home\", \"hope\", \"hope\", \"hope\", \"hope\", \"idea\", \"idea\", \"idea\", \"individual\", \"individual\", \"individual\", \"individual\", \"instrument\", \"instrument\", \"instrument\", \"instrument\", \"job\", \"job\", \"job\", \"job\", \"just\", \"just\", \"just\", \"know\", \"know\", \"know\", \"know\", \"know\", \"know\", \"know\", \"know\", \"labor\", \"labor\", \"land\", \"land\", \"land\", \"land\", \"law\", \"law\", \"law\", \"law\", \"law\", \"leader\", \"leader\", \"leadership\", \"leadership\", \"leadership\", \"leave\", \"leave\", \"leave\", \"let\", \"let\", \"liberty\", \"liberty\", \"liberty\", \"liberty\", \"liberty\", \"lie\", \"lie\", \"lie\", \"lie\", \"life\", \"life\", \"life\", \"life\", \"life\", \"life\", \"life\", \"light\", \"light\", \"light\", \"light\", \"light\", \"like\", \"like\", \"like\", \"little\", \"little\", \"little\", \"live\", \"live\", \"live\", \"lose\", \"lose\", \"love\", \"love\", \"make\", \"make\", \"make\", \"make\", \"make\", \"make\", \"make\", \"man\", \"man\", \"man\", \"man\", \"man\", \"man\", \"man\", \"man woman\", \"material\", \"material\", \"mean\", \"mean\", \"mean\", \"mean\", \"mean\", \"measure\", \"measure\", \"meet\", \"meet\", \"meet\", \"merely\", \"merely\", \"mind\", \"mind\", \"mind\", \"moment\", \"moment\", \"moment\", \"moment\", \"moral\", \"moral\", \"moral\", \"moral\", \"nation\", \"nation\", \"nation\", \"nation\", \"nation\", \"nation\", \"nation\", \"national\", \"national\", \"national\", \"national\", \"necessary\", \"necessary\", \"necessary\", \"necessary\", \"need\", \"need\", \"need\", \"need\", \"new\", \"new\", \"new\", \"oath\", \"oath\", \"oath\", \"offer\", \"offer\", \"offer\", \"offer\", \"old\", \"old\", \"old\", \"old\", \"old\", \"old\", \"opinion\", \"opinion\", \"opinion\", \"opinion\", \"opportunity\", \"opportunity\", \"opportunity\", \"opportunity\", \"order\", \"order\", \"order\", \"party\", \"party\", \"party\", \"pass\", \"pass\", \"pass\", \"patriotism\", \"patriotism\", \"peace\", \"peace\", \"peace\", \"peaceful\", \"peaceful\", \"peaceful\", \"people\", \"people\", \"people\", \"people\", \"people\", \"people\", \"people\", \"people\", \"people\", \"place\", \"place\", \"place\", \"pledge\", \"pledge\", \"pledge\", \"point\", \"point\", \"political\", \"political\", \"possible\", \"possible\", \"possible\", \"possible\", \"possible\", \"power\", \"power\", \"power\", \"power\", \"power\", \"prayer\", \"prayer\", \"present\", \"preserve\", \"preserve\", \"preserve\", \"president\", \"president\", \"principle\", \"principle\", \"principle\", \"principle\", \"produce\", \"produce\", \"produce\", \"progress\", \"progress\", \"protect\", \"protect\", \"protect\", \"provision\", \"provision\", \"provision\", \"public\", \"public\", \"purpose\", \"purpose\", \"purpose\", \"purpose\", \"question\", \"question\", \"question\", \"reach\", \"reach\", \"reach\", \"reject\", \"reject\", \"remain\", \"remain\", \"remain\", \"remember\", \"renew\", \"renew\", \"renew\", \"require\", \"require\", \"respect\", \"respect\", \"respect\", \"responsibility\", \"responsibility\", \"responsibility\", \"restore\", \"restore\", \"restore\", \"return\", \"return\", \"return\", \"return\", \"revolution\", \"revolution\", \"revolution\", \"right\", \"right\", \"right\", \"right\", \"right\", \"rule\", \"rule\", \"sacrifice\", \"sacrifice\", \"safety\", \"safety\", \"safety\", \"say\", \"security\", \"security\", \"security\", \"seek\", \"seek\", \"seek\", \"sense\", \"sense\", \"sense\", \"serve\", \"serve\", \"service\", \"service\", \"service\", \"service\", \"shall\", \"shall\", \"shall\", \"shall\", \"shall\", \"shall\", \"shall\", \"sound\", \"speak\", \"speak\", \"special\", \"spirit\", \"spirit\", \"spirit\", \"stand\", \"stand\", \"stand\", \"stand\", \"state\", \"states\", \"states\", \"states\", \"states\", \"states\", \"strength\", \"strength\", \"strength\", \"strength\", \"strength\", \"strive\", \"strive\", \"strong\", \"strong\", \"strong\", \"success\", \"success\", \"success\", \"summon\", \"support\", \"support\", \"support\", \"task\", \"task\", \"tell\", \"tell\", \"thank\", \"thank\", \"thank\", \"thing\", \"thing\", \"thing\", \"thing\", \"think\", \"time\", \"time\", \"time\", \"today\", \"today\", \"today\", \"today\", \"trade\", \"trade\", \"true\", \"true\", \"true\", \"trust\", \"trust\", \"trust\", \"trust\", \"turn\", \"turn\", \"turn\", \"turn\", \"understand\", \"union\", \"union\", \"united\", \"united\", \"united\", \"united states\", \"united states\", \"use\", \"use\", \"use\", \"use\", \"value\", \"value\", \"value\", \"view\", \"view\", \"view\", \"view\", \"view\", \"vital\", \"vital\", \"vital\", \"vital\", \"war\", \"war\", \"war\", \"war\", \"war\", \"way\", \"way\", \"way\", \"willing\", \"willing\", \"willing\", \"woman\", \"woman\", \"word\", \"word\", \"word\", \"word\", \"work\", \"work\", \"work\", \"work\", \"work\", \"work\", \"world\", \"world\", \"world\", \"world\", \"world\", \"world\", \"write\", \"write\", \"write\", \"year\", \"year\", \"year\", \"year\", \"young\", \"young\"]}, \"R\": 30, \"lambda.step\": 0.01, \"plot.opts\": {\"xlab\": \"PC1\", \"ylab\": \"PC2\"}, \"topic.order\": [3, 7, 2, 4, 9, 10, 1, 8, 6, 5]};\n",
       "\n",
       "function LDAvis_load_lib(url, callback){\n",
       "  var s = document.createElement('script');\n",
       "  s.src = url;\n",
       "  s.async = true;\n",
       "  s.onreadystatechange = s.onload = callback;\n",
       "  s.onerror = function(){console.warn(\"failed to load library \" + url);};\n",
       "  document.getElementsByTagName(\"head\")[0].appendChild(s);\n",
       "}\n",
       "\n",
       "if(typeof(LDAvis) !== \"undefined\"){\n",
       "   // already loaded: just create the visualization\n",
       "   !function(LDAvis){\n",
       "       new LDAvis(\"#\" + \"ldavis_el15502112282878384458744813\", ldavis_el15502112282878384458744813_data);\n",
       "   }(LDAvis);\n",
       "}else if(typeof define === \"function\" && define.amd){\n",
       "   // require.js is available: use it to load d3/LDAvis\n",
       "   require.config({paths: {d3: \"https://cdnjs.cloudflare.com/ajax/libs/d3/3.5.5/d3.min\"}});\n",
       "   require([\"d3\"], function(d3){\n",
       "      window.d3 = d3;\n",
       "      LDAvis_load_lib(\"https://cdn.rawgit.com/bmabey/pyLDAvis/files/ldavis.v1.0.0.js\", function(){\n",
       "        new LDAvis(\"#\" + \"ldavis_el15502112282878384458744813\", ldavis_el15502112282878384458744813_data);\n",
       "      });\n",
       "    });\n",
       "}else{\n",
       "    // require.js not available: dynamically load d3 & LDAvis\n",
       "    LDAvis_load_lib(\"https://cdnjs.cloudflare.com/ajax/libs/d3/3.5.5/d3.min.js\", function(){\n",
       "         LDAvis_load_lib(\"https://cdn.rawgit.com/bmabey/pyLDAvis/files/ldavis.v1.0.0.js\", function(){\n",
       "                 new LDAvis(\"#\" + \"ldavis_el15502112282878384458744813\", ldavis_el15502112282878384458744813_data);\n",
       "            })\n",
       "         });\n",
       "}\n",
       "</script>"
      ],
      "text/plain": [
       "PreparedData(topic_coordinates=           x      y  topics  cluster   Freq\n",
       "topic                                      \n",
       "2     -0.125 -0.032       1        1 15.032\n",
       "6      0.233  0.096       2        1 13.044\n",
       "1     -0.012 -0.088       3        1 11.108\n",
       "3      0.080 -0.031       4        1 10.376\n",
       "8      0.048  0.144       5        1 10.048\n",
       "9      0.087 -0.252       6        1  8.932\n",
       "0     -0.053  0.054       7        1  8.900\n",
       "7     -0.029  0.059       8        1  8.757\n",
       "5     -0.106  0.029       9        1  7.274\n",
       "4     -0.122  0.022      10        1  6.529, topic_info=    Category   Freq          Term  Total  loglift  logprob\n",
       "206  Default 31.000          time 31.000   30.000   30.000\n",
       "108  Default 26.000           let 26.000   29.000   29.000\n",
       "42   Default 21.000           day 21.000   28.000   28.000\n",
       "227  Default 40.000         world 40.000   27.000   27.000\n",
       "177  Default 23.000         right 23.000   26.000   26.000\n",
       "72   Default 29.000          free 29.000   25.000   25.000\n",
       "78   Default 14.000           god 14.000   24.000   24.000\n",
       "74   Default 20.000       freedom 20.000   23.000   23.000\n",
       "68   Default 18.000        fellow 18.000   22.000   22.000\n",
       "121  Default 32.000           man 32.000   21.000   21.000\n",
       "80   Default 41.000    government 41.000   20.000   20.000\n",
       "79   Default 30.000          good 30.000   19.000   19.000\n",
       "24   Default 17.000       citizen 17.000   18.000   18.000\n",
       "135  Default 19.000           new 19.000   17.000   17.000\n",
       "187  Default 26.000         shall 26.000   16.000   16.000\n",
       "157  Default 13.000     president 13.000   15.000   15.000\n",
       "155  Default  9.000       present  9.000   14.000   14.000\n",
       "213  Default 11.000         union 11.000   13.000   13.000\n",
       "131  Default 36.000        nation 36.000   12.000   12.000\n",
       "3    Default 19.000       america 19.000   11.000   11.000\n",
       "120  Default 34.000          make 34.000   10.000   10.000\n",
       "11   Default 10.000         begin 10.000    9.000    9.000\n",
       "163  Default 11.000        public 11.000    8.000    8.000\n",
       "205  Default  7.000         think  7.000    7.000    7.000\n",
       "147  Default 53.000        people 53.000    6.000    6.000\n",
       "214  Default 11.000        united 11.000    5.000    5.000\n",
       "153  Default 22.000         power 22.000    4.000    4.000\n",
       "145  Default 17.000         peace 17.000    3.000    3.000\n",
       "111  Default 21.000          life 21.000    2.000    2.000\n",
       "86   Default  8.000         heart  8.000    1.000    1.000\n",
       "..       ...    ...           ...    ...      ...      ...\n",
       "114  Topic10  1.953        little  6.367    1.547   -4.343\n",
       "129  Topic10  2.667        moment  9.113    1.500   -4.031\n",
       "229  Topic10  2.883          year 10.062    1.479   -3.954\n",
       "57   Topic10  1.833     executive  8.239    1.226   -4.406\n",
       "4    Topic10  1.953      american  9.111    1.189   -4.343\n",
       "113  Topic10  1.226          like  6.389    1.078   -4.808\n",
       "88   Topic10  1.023          hero  5.431    1.060   -4.990\n",
       "143  Topic10  1.023          pass  5.451    1.056   -4.990\n",
       "139  Topic10  1.023       opinion  5.454    1.055   -4.990\n",
       "174  Topic10  1.023       restore  5.455    1.055   -4.990\n",
       "191  Topic10  1.023        spirit  5.455    1.055   -4.989\n",
       "43   Topic10  1.023      decision  5.462    1.054   -4.990\n",
       "128  Topic10  1.023          mind  5.463    1.054   -4.990\n",
       "62   Topic10  1.023       factory  5.520    1.043   -4.990\n",
       "61   Topic10  1.023          fact  6.359    0.902   -4.990\n",
       "167  Topic10  1.023        reject  6.360    0.901   -4.990\n",
       "18   Topic10  1.023       century  6.361    0.901   -4.990\n",
       "97   Topic10  1.023    individual  6.364    0.901   -4.989\n",
       "81   Topic10  3.813         great 27.145    0.766   -3.674\n",
       "3    Topic10  2.654       america 19.739    0.723   -4.036\n",
       "121  Topic10  3.654           man 32.832    0.533   -3.716\n",
       "79   Topic10  3.281          good 30.024    0.515   -3.824\n",
       "111  Topic10  2.397          life 21.922    0.516   -4.138\n",
       "147  Topic10  2.883        people 53.760   -0.197   -3.954\n",
       "80   Topic10  2.345    government 41.193   -0.137   -4.160\n",
       "46   Topic10  1.145    difference  9.075    0.658   -4.877\n",
       "11   Topic10  1.183         begin 10.870    0.511   -4.844\n",
       "8    Topic10  1.069     authority  9.167    0.580   -4.945\n",
       "90   Topic10  1.092       history 13.682    0.201   -4.924\n",
       "33   Topic10  1.085  constitution 17.131   -0.031   -4.931\n",
       "\n",
       "[420 rows x 6 columns], token_table=      Topic  Freq             Term\n",
       "term                              \n",
       "0         3 0.551              act\n",
       "0         4 0.092              act\n",
       "0         6 0.276              act\n",
       "1         1 0.121           action\n",
       "1         2 0.121           action\n",
       "1         3 0.121           action\n",
       "1         7 0.486           action\n",
       "1         8 0.121           action\n",
       "2         1 0.634   administration\n",
       "2         2 0.317   administration\n",
       "3         2 0.608          america\n",
       "3         4 0.101          america\n",
       "3         5 0.152          america\n",
       "3        10 0.152          america\n",
       "4         1 0.329         american\n",
       "4         2 0.110         american\n",
       "4         4 0.110         american\n",
       "4         5 0.110         american\n",
       "4         7 0.110         american\n",
       "4        10 0.220         american\n",
       "5         1 0.549  american people\n",
       "5         5 0.183  american people\n",
       "5         7 0.183  american people\n",
       "6         2 0.630        americans\n",
       "6         4 0.280        americans\n",
       "6         5 0.070        americans\n",
       "7         5 0.200              ask\n",
       "7         7 0.200              ask\n",
       "7         8 0.600              ask\n",
       "8         2 0.109        authority\n",
       "...     ...   ...              ...\n",
       "222       1 0.368          willing\n",
       "222       4 0.184          willing\n",
       "222       8 0.368          willing\n",
       "224       1 0.136            woman\n",
       "224       6 0.682            woman\n",
       "225       1 0.131             word\n",
       "225       2 0.457             word\n",
       "225       3 0.196             word\n",
       "225       9 0.131             word\n",
       "226       4 0.349             work\n",
       "226       5 0.100             work\n",
       "226       6 0.199             work\n",
       "226       7 0.100             work\n",
       "226       8 0.100             work\n",
       "226       9 0.100             work\n",
       "227       1 0.098            world\n",
       "227       2 0.049            world\n",
       "227       3 0.172            world\n",
       "227       4 0.491            world\n",
       "227       6 0.074            world\n",
       "227       9 0.074            world\n",
       "228       1 0.139            write\n",
       "228       2 0.697            write\n",
       "228       6 0.139            write\n",
       "229       1 0.497             year\n",
       "229       4 0.099             year\n",
       "229       9 0.099             year\n",
       "229      10 0.298             year\n",
       "230       1 0.685            young\n",
       "230       9 0.274            young\n",
       "\n",
       "[729 rows x 3 columns], R=30, lambda_step=0.01, plot_opts={'xlab': 'PC1', 'ylab': 'PC2'}, topic_order=[3, 7, 2, 4, 9, 10, 1, 8, 6, 5])"
      ]
     },
     "execution_count": 41,
     "metadata": {},
     "output_type": "execute_result"
    }
   ],
   "source": [
    "# Prepare pyLDAvis model.\n",
    "pyLDAvis.sklearn.prepare(lda_tf, dtm_tf, tf_vectorizer)"
   ]
  },
  {
   "cell_type": "code",
   "execution_count": 42,
   "metadata": {
    "ExecuteTime": {
     "end_time": "2019-08-15T02:54:19.995514Z",
     "start_time": "2019-08-15T02:54:13.736202Z"
    }
   },
   "outputs": [
    {
     "name": "stderr",
     "output_type": "stream",
     "text": [
      "/Users/danmchenry/miniconda3/lib/python3.7/site-packages/pyLDAvis/_prepare.py:257: FutureWarning: Sorting because non-concatenation axis is not aligned. A future version\n",
      "of pandas will change to not sort by default.\n",
      "\n",
      "To accept the future behavior, pass 'sort=False'.\n",
      "\n",
      "To retain the current behavior and silence the warning, pass 'sort=True'.\n",
      "\n",
      "  return pd.concat([default_term_info] + list(topic_dfs))\n"
     ]
    },
    {
     "data": {
      "text/html": [
       "\n",
       "<link rel=\"stylesheet\" type=\"text/css\" href=\"https://cdn.rawgit.com/bmabey/pyLDAvis/files/ldavis.v1.0.0.css\">\n",
       "\n",
       "\n",
       "<div id=\"ldavis_el155021124371815607382670182\"></div>\n",
       "<script type=\"text/javascript\">\n",
       "\n",
       "var ldavis_el155021124371815607382670182_data = {\"mdsDat\": {\"x\": [0.1753567686145307, 0.039104159926134495, 0.06562562316695113, -0.05119868878900328, 0.08417931207587652, 0.022117007369257775, -0.045021742339984364, -0.1509547636105877, -0.09126208868482742, -0.04794558772834759], \"y\": [0.0015530345314094308, 0.127283097305607, -0.10282532622481177, 0.03156514624726553, -0.033472137385929454, 0.10837974041003183, -0.09857871318667845, 0.08614568815633546, -0.1464819571562428, 0.026431427303013268], \"topics\": [1, 2, 3, 4, 5, 6, 7, 8, 9, 10], \"cluster\": [1, 1, 1, 1, 1, 1, 1, 1, 1, 1], \"Freq\": [16.872413734219336, 12.615843410853675, 10.604360210866542, 9.689158422092893, 9.50120508110748, 9.30533017320002, 8.908577406095983, 7.888050781035526, 7.7836253479557564, 6.831435432572788]}, \"tinfo\": {\"Category\": [\"Default\", \"Default\", \"Default\", \"Default\", \"Default\", \"Default\", \"Default\", \"Default\", \"Default\", \"Default\", \"Default\", \"Default\", \"Default\", \"Default\", \"Default\", \"Default\", \"Default\", \"Default\", \"Default\", \"Default\", \"Default\", \"Default\", \"Default\", \"Default\", \"Default\", \"Default\", \"Default\", \"Default\", \"Default\", \"Default\", \"Topic1\", \"Topic1\", \"Topic1\", \"Topic1\", \"Topic1\", \"Topic1\", \"Topic1\", \"Topic1\", \"Topic1\", \"Topic1\", \"Topic1\", \"Topic1\", \"Topic1\", \"Topic1\", \"Topic1\", \"Topic1\", \"Topic1\", \"Topic1\", \"Topic1\", \"Topic1\", \"Topic1\", \"Topic1\", \"Topic1\", \"Topic1\", \"Topic1\", \"Topic1\", \"Topic1\", \"Topic1\", \"Topic1\", \"Topic1\", \"Topic1\", \"Topic1\", \"Topic1\", \"Topic1\", \"Topic1\", \"Topic1\", \"Topic1\", \"Topic1\", \"Topic1\", \"Topic2\", \"Topic2\", \"Topic2\", \"Topic2\", \"Topic2\", \"Topic2\", \"Topic2\", \"Topic2\", \"Topic2\", \"Topic2\", \"Topic2\", \"Topic2\", \"Topic2\", \"Topic2\", \"Topic2\", \"Topic2\", \"Topic2\", \"Topic2\", \"Topic2\", \"Topic2\", \"Topic2\", \"Topic2\", \"Topic2\", \"Topic2\", \"Topic2\", \"Topic2\", \"Topic2\", \"Topic2\", \"Topic2\", \"Topic2\", \"Topic2\", \"Topic2\", \"Topic2\", \"Topic2\", \"Topic2\", \"Topic3\", \"Topic3\", \"Topic3\", \"Topic3\", \"Topic3\", \"Topic3\", \"Topic3\", \"Topic3\", \"Topic3\", \"Topic3\", \"Topic3\", \"Topic3\", \"Topic3\", \"Topic3\", \"Topic3\", \"Topic3\", \"Topic3\", \"Topic3\", \"Topic3\", \"Topic3\", \"Topic3\", \"Topic3\", \"Topic3\", \"Topic3\", \"Topic3\", \"Topic3\", \"Topic3\", \"Topic3\", \"Topic3\", \"Topic3\", \"Topic3\", \"Topic3\", \"Topic3\", \"Topic3\", \"Topic3\", \"Topic3\", \"Topic4\", \"Topic4\", \"Topic4\", \"Topic4\", \"Topic4\", \"Topic4\", \"Topic4\", \"Topic4\", \"Topic4\", \"Topic4\", \"Topic4\", \"Topic4\", \"Topic4\", \"Topic4\", \"Topic4\", \"Topic4\", \"Topic4\", \"Topic4\", \"Topic4\", \"Topic4\", \"Topic4\", \"Topic4\", \"Topic4\", \"Topic4\", \"Topic4\", \"Topic4\", \"Topic4\", \"Topic4\", \"Topic4\", \"Topic4\", \"Topic4\", \"Topic4\", \"Topic4\", \"Topic4\", \"Topic4\", \"Topic4\", \"Topic4\", \"Topic4\", \"Topic5\", \"Topic5\", \"Topic5\", \"Topic5\", \"Topic5\", \"Topic5\", \"Topic5\", \"Topic5\", \"Topic5\", \"Topic5\", \"Topic5\", \"Topic5\", \"Topic5\", \"Topic5\", \"Topic5\", \"Topic5\", \"Topic5\", \"Topic5\", \"Topic5\", \"Topic5\", \"Topic5\", \"Topic5\", \"Topic5\", \"Topic5\", \"Topic5\", \"Topic5\", \"Topic5\", \"Topic5\", \"Topic5\", \"Topic5\", \"Topic5\", \"Topic5\", \"Topic5\", \"Topic5\", \"Topic5\", \"Topic5\", \"Topic6\", \"Topic6\", \"Topic6\", \"Topic6\", \"Topic6\", \"Topic6\", \"Topic6\", \"Topic6\", \"Topic6\", \"Topic6\", \"Topic6\", \"Topic6\", \"Topic6\", \"Topic6\", \"Topic6\", \"Topic6\", \"Topic6\", \"Topic6\", \"Topic6\", \"Topic6\", \"Topic6\", \"Topic6\", \"Topic6\", \"Topic6\", \"Topic6\", \"Topic6\", \"Topic6\", \"Topic6\", \"Topic6\", \"Topic6\", \"Topic6\", \"Topic6\", \"Topic6\", \"Topic6\", \"Topic6\", \"Topic6\", \"Topic7\", \"Topic7\", \"Topic7\", \"Topic7\", \"Topic7\", \"Topic7\", \"Topic7\", \"Topic7\", \"Topic7\", \"Topic7\", \"Topic7\", \"Topic7\", \"Topic7\", \"Topic7\", \"Topic7\", \"Topic7\", \"Topic7\", \"Topic7\", \"Topic7\", \"Topic7\", \"Topic7\", \"Topic7\", \"Topic7\", \"Topic7\", \"Topic7\", \"Topic7\", \"Topic7\", \"Topic7\", \"Topic7\", \"Topic7\", \"Topic7\", \"Topic7\", \"Topic7\", \"Topic7\", \"Topic7\", \"Topic7\", \"Topic7\", \"Topic8\", \"Topic8\", \"Topic8\", \"Topic8\", \"Topic8\", \"Topic8\", \"Topic8\", \"Topic8\", \"Topic8\", \"Topic8\", \"Topic8\", \"Topic8\", \"Topic8\", \"Topic8\", \"Topic8\", \"Topic8\", \"Topic8\", \"Topic8\", \"Topic8\", \"Topic8\", \"Topic8\", \"Topic8\", \"Topic8\", \"Topic8\", \"Topic8\", \"Topic8\", \"Topic8\", \"Topic8\", \"Topic8\", \"Topic8\", \"Topic8\", \"Topic8\", \"Topic8\", \"Topic8\", \"Topic8\", \"Topic9\", \"Topic9\", \"Topic9\", \"Topic9\", \"Topic9\", \"Topic9\", \"Topic9\", \"Topic9\", \"Topic9\", \"Topic9\", \"Topic9\", \"Topic9\", \"Topic9\", \"Topic9\", \"Topic9\", \"Topic9\", \"Topic9\", \"Topic9\", \"Topic9\", \"Topic9\", \"Topic9\", \"Topic9\", \"Topic9\", \"Topic9\", \"Topic9\", \"Topic9\", \"Topic9\", \"Topic9\", \"Topic9\", \"Topic9\", \"Topic9\", \"Topic9\", \"Topic9\", \"Topic9\", \"Topic9\", \"Topic9\", \"Topic9\", \"Topic10\", \"Topic10\", \"Topic10\", \"Topic10\", \"Topic10\", \"Topic10\", \"Topic10\", \"Topic10\", \"Topic10\", \"Topic10\", \"Topic10\", \"Topic10\", \"Topic10\", \"Topic10\", \"Topic10\", \"Topic10\", \"Topic10\", \"Topic10\", \"Topic10\", \"Topic10\", \"Topic10\", \"Topic10\", \"Topic10\", \"Topic10\", \"Topic10\", \"Topic10\", \"Topic10\", \"Topic10\", \"Topic10\", \"Topic10\", \"Topic10\", \"Topic10\", \"Topic10\", \"Topic10\", \"Topic10\", \"Topic10\", \"Topic10\", \"Topic10\", \"Topic10\"], \"Freq\": [9.0, 8.0, 10.0, 8.0, 4.0, 8.0, 9.0, 12.0, 6.0, 6.0, 8.0, 10.0, 8.0, 4.0, 7.0, 4.0, 4.0, 5.0, 5.0, 4.0, 10.0, 12.0, 11.0, 5.0, 9.0, 4.0, 3.0, 5.0, 4.0, 6.0, 3.14341304783896, 2.4445228539980532, 2.2652487712734537, 2.254041492804631, 3.0959114479482475, 2.0654668845090964, 3.568016029014153, 2.799176374513001, 2.5151976241257317, 1.8530059045174212, 1.5554520985034053, 2.236761451106156, 2.930007810170477, 1.4377071835053337, 2.5676336509224797, 4.4171408187935475, 1.8458135832426446, 1.4669418222107589, 2.3785100949403666, 6.491578240869691, 2.470593830927571, 1.7583700804043618, 1.3139051647997793, 1.6565042660154585, 6.603382748398583, 3.540423668748028, 2.3705449214891057, 1.870440970495023, 1.2691243194737545, 4.47793003276716, 6.152828255727931, 3.536913862737815, 2.810575953401994, 3.0479803252880013, 2.924010376401029, 2.684843511160279, 2.389039236647152, 2.3366849677865837, 2.0605092336561577, 5.279308655756317, 5.649554919826955, 2.951294020732061, 4.317471694180799, 3.897334250970881, 2.937570796665049, 2.3953088845123065, 3.1462397569661316, 2.7547669665227756, 2.038426948240262, 3.5946203134825234, 4.586287182947678, 1.258492064099586, 3.495550090887445, 3.1043651709918976, 3.2848910128940076, 2.3742989845381612, 1.5167251659613021, 2.4013244814948322, 1.0862011478260154, 1.1932230903013141, 1.1824895559373538, 1.1075809778364478, 1.107252293524558, 1.9150776107149636, 2.9814429730493557, 0.9410572411688092, 1.9668141208759544, 1.3459403437544502, 1.4419644713286106, 2.736575612834012, 1.9220505583651126, 1.590505980785354, 1.1997509441585479, 1.197235501220928, 4.193603012384268, 1.8324193028698414, 2.1511374349531933, 2.5625611737466056, 1.7805928876207013, 2.1303215062732925, 1.8159615840614347, 1.5081960538242398, 2.5958693750617177, 1.8082285979325532, 1.3490571378917755, 1.3591329076860235, 1.3526472841291388, 1.9784477731505834, 4.590053419487818, 1.433810632881298, 2.6688691982621346, 2.109265540525679, 1.3089247517424105, 1.7845829811490561, 1.9363723792806669, 1.0904147306095127, 1.8320529026492265, 1.1228901963610685, 1.0403274417251667, 1.1556950221835682, 1.423584928953636, 0.9154689658183506, 0.8472495231583084, 0.727708333347319, 1.2105767240627168, 2.6694268652932145, 2.418325963651146, 1.4632706417463563, 1.2279434595511525, 1.3145011156408828, 2.5785634051892043, 2.2667687851614167, 1.9516097828473127, 2.3577175017340752, 2.388994268596446, 1.5260203043923595, 2.5500205302309724, 2.425512624932299, 2.514707699872293, 1.2909033304543303, 1.9750560803058865, 1.5789674045455007, 1.5935694833338174, 1.8176341155429458, 1.4493834210645402, 1.9296607138582742, 1.358974390045761, 1.5484114002566758, 3.0627549912347636, 1.4340499337630404, 3.3105827563590324, 0.8610849312241127, 0.9383405778804265, 0.8763786202445504, 0.8022757950179787, 0.727285255378353, 0.6611433670472247, 0.7591229095781221, 1.0148481494630768, 2.5559216570540273, 1.7131113556214563, 1.3196764351112498, 1.096666271426878, 1.4481313278086014, 1.4228904782934575, 1.4866915876559366, 1.2018815342858096, 1.2539888014661842, 3.6698626050927774, 2.1670167909098232, 2.04036416615267, 2.11159455094326, 1.5633032039054424, 1.598049623209055, 1.4210511505605898, 3.1787306538759768, 1.6509368200433336, 2.1058562034995303, 4.52505677998631, 2.3113293695823685, 3.1113969397550156, 1.8838634930169254, 1.2678971371094445, 1.0491827520168613, 1.659633199890164, 1.164997556512921, 1.0535982110459583, 1.1467546438821477, 3.3175732073604562, 0.9860879888048945, 1.2908608055933435, 0.9450967027788713, 1.1989368904495512, 0.7920443852044617, 0.8188222755892196, 0.7581862702336143, 0.7042192169874554, 0.6770219611942537, 1.8001989057430872, 1.6181024827175827, 1.5114769874050857, 1.5963145722099796, 1.4756179743696392, 1.24068631906985, 2.712552368121753, 2.620408038304801, 2.3401702141601413, 3.1810641132143447, 3.466053431598613, 2.26911105881707, 1.950940352691359, 1.728229057010181, 1.383145417450227, 3.1138913890593583, 2.5638457133228267, 1.2943395570100618, 1.406187147023606, 4.49159161913968, 1.211121850250247, 1.3128403284428718, 1.181268037514797, 0.9639309253427701, 4.334563086511399, 1.0974686961963307, 1.1053942724497408, 1.1661191175785282, 0.841941027137464, 0.7086142069012717, 0.8623193895903614, 1.1113632040536205, 0.707818088140388, 0.8502673480159403, 1.076596632372192, 0.4169734120990297, 1.104127442523962, 1.8475937801572504, 1.2293130686889475, 1.0541528139767233, 1.2455383000456794, 1.0794456080341561, 3.1345876362778635, 2.5334464963553796, 2.4229698167527784, 2.287538274783007, 2.166731916637654, 2.257523028223039, 3.447613108150683, 1.9995817536213363, 1.6930049646265275, 5.183284439673249, 1.3718356959711768, 1.4623420162877332, 1.9638260289775198, 1.2966331351817049, 1.1586489335682038, 1.693237570017586, 5.3487133241863285, 1.4836689855510634, 1.2230626255538337, 1.096132365355947, 2.9935417122409698, 0.7066153828425339, 0.7994244723769781, 1.0764764935120599, 0.6724152385134063, 0.8693919917942605, 0.5235595018867787, 0.5350615255685666, 0.5474214737306964, 0.4522838983318658, 0.6841413043003363, 0.9549844537269541, 0.7567475100445522, 0.7741645409726567, 1.2332265475552746, 1.1264327370869767, 0.8642246548511191, 3.299170271366664, 2.583742034852016, 3.393032492161597, 2.312033542204577, 6.559607275406024, 2.491147794142999, 1.9351457267411942, 1.5353503799356585, 1.4917805698634583, 2.7991160095935768, 1.4538217727407141, 1.4787404609936796, 1.2171735466217108, 2.65363336765614, 1.8219896246059875, 1.010259561547138, 0.7359809073735496, 0.9335020279089047, 2.0657930179193644, 1.9387346894061788, 1.8944448047641722, 0.533740543497078, 0.7620176971298753, 0.5147717976184503, 0.4983877131802079, 0.876119073480759, 0.37084720276207406, 0.5438669910027046, 0.4424786592829236, 0.5516912175286824, 0.8443327799905456, 0.7481988555371956, 0.7056579930110307, 0.7333788919649603, 0.701925169282038, 6.960880530700339, 7.471607488837458, 2.655209723033595, 2.309605755437057, 2.098817749984494, 2.1292791348557234, 1.1832985815960135, 1.768534899171677, 1.751344938634147, 1.9884287949945285, 1.977934054088036, 1.25174887181826, 1.5508276635699059, 1.134157005433646, 0.8727641229984857, 1.012304229290904, 0.9267362950596564, 0.8793171883953751, 0.926727244003179, 1.709924583420269, 0.8096790190997156, 0.5069221561318557, 0.99276649281244, 0.6867705394064991, 0.6085252376018296, 0.5952070667114348, 0.809285475510962, 0.4863654499625262, 0.48598003052686506, 0.5328368197857944, 1.5295594531677834, 0.8192616624506598, 0.8783832504014346, 1.1746769385235944, 0.6741335026960391, 0.6220576261264161, 0.623497277005921, 4.140794495958403, 5.451103890137129, 2.355886998167421, 2.6151949685249933, 1.9279616745475043, 1.9384941181023478, 2.2357957691339623, 1.0562032167370463, 1.2867785134784, 1.1325244723666372, 1.6861304225978104, 1.2279574007457792, 0.6484771344256212, 0.6580654417190506, 1.0516697532735548, 0.5560452152750363, 0.6425449542287425, 0.5517102133690831, 0.7031218514346259, 0.7030272162112593, 0.5918828451437118, 0.6813570240110717, 0.4059799518883623, 0.4059810856291615, 1.2641562037868574, 1.1490471475441377, 0.49346004263440163, 0.5439822776854325, 0.4059717449430683, 0.4574847796703209, 0.4699645519743195, 0.9228079640164177, 1.1810879337295483, 0.5314146775301981, 0.9007461401349026, 0.7707725487383276, 0.8103784566724287, 0.8688606209572977, 0.578321950530898], \"Term\": [\"day\", \"new\", \"let\", \"freedom\", \"enemy\", \"work\", \"great\", \"world\", \"fellow\", \"citizen\", \"free\", \"life\", \"america\", \"union\", \"god\", \"thank\", \"understand\", \"act\", \"face\", \"question\", \"good\", \"government\", \"nation\", \"begin\", \"man\", \"authority\", \"leadership\", \"americans\", \"believe\", \"faith\", \"united\", \"grow\", \"economic\", \"united states\", \"future\", \"hear\", \"states\", \"effort\", \"bear\", \"peaceful\", \"state\", \"tell\", \"use\", \"majority\", \"help\", \"hope\", \"equal\", \"leave\", \"service\", \"time\", \"hold\", \"federal\", \"necessary\", \"young\", \"government\", \"need\", \"change\", \"generation\", \"spirit\", \"good\", \"people\", \"man\", \"come\", \"power\", \"right\", \"free\", \"world\", \"nation\", \"make\", \"citizen\", \"fellow\", \"fellow citizen\", \"americans\", \"meet\", \"say\", \"write\", \"president\", \"speak\", \"hero\", \"today\", \"america\", \"express\", \"hand\", \"war\", \"constitution\", \"law\", \"little\", \"land\", \"instrument\", \"principle\", \"dare\", \"success\", \"revolution\", \"ask\", \"right\", \"political\", \"word\", \"provision\", \"national\", \"great\", \"power\", \"make\", \"purpose\", \"friend\", \"union\", \"point\", \"moral\", \"measure\", \"administration\", \"restore\", \"value\", \"discipline\", \"light\", \"lie\", \"trade\", \"vital\", \"security\", \"present\", \"life\", \"community\", \"peace\", \"strength\", \"courage\", \"duty\", \"old\", \"patriotism\", \"thing\", \"liberty\", \"balance\", \"constitutional\", \"public\", \"progress\", \"destroy\", \"honor\", \"common\", \"people\", \"government\", \"constitution\", \"ask\", \"good\", \"fact\", \"remember\", \"city\", \"reject\", \"endure\", \"safety\", \"long\", \"difference\", \"common\", \"opinion\", \"father\", \"hard\", \"choose\", \"form\", \"order\", \"national\", \"turn\", \"american\", \"god\", \"action\", \"shall\", \"american people\", \"far\", \"spirit\", \"danger\", \"task\", \"blessing\", \"wish\", \"earth\", \"let\", \"life\", \"come\", \"face\", \"day\", \"great\", \"nation\", \"make\", \"people\", \"question\", \"man woman\", \"trust\", \"woman\", \"bring\", \"serve\", \"free man\", \"country\", \"view\", \"way\", \"free\", \"purpose\", \"faith\", \"possible\", \"return\", \"task\", \"rule\", \"energy\", \"respect\", \"courage\", \"man\", \"leader\", \"end\", \"party\", \"provision\", \"destroy\", \"dare\", \"balance\", \"concern\", \"far\", \"government\", \"time\", \"life\", \"nation\", \"world\", \"make\", \"break\", \"child\", \"dark\", \"believe\", \"act\", \"true\", \"moment\", \"offer\", \"sense\", \"mean\", \"begin\", \"preserve\", \"live\", \"great\", \"danger\", \"individual\", \"pledge\", \"summon\", \"nation\", \"special\", \"community\", \"love\", \"progress\", \"honor\", \"energy\", \"public\", \"confidence\", \"earth\", \"thing\", \"blessing\", \"history\", \"people\", \"freedom\", \"today\", \"make\", \"man\", \"leadership\", \"lose\", \"produce\", \"sound\", \"strong\", \"sacrifice\", \"face\", \"require\", \"mind\", \"work\", \"willing\", \"crisis\", \"oath\", \"job\", \"wish\", \"seek\", \"world\", \"place\", \"just\", \"stand\", \"good\", \"opportunity\", \"reach\", \"public\", \"confidence\", \"present\", \"instrument\", \"party\", \"far\", \"circumstance\", \"measure\", \"word\", \"duty\", \"force\", \"make\", \"time\", \"mean\", \"understand\", \"continue\", \"thank\", \"congress\", \"let\", \"heart\", \"remain\", \"century\", \"renew\", \"history\", \"fear\", \"love\", \"protect\", \"know\", \"begin\", \"father\", \"leader\", \"end\", \"america\", \"power\", \"god\", \"willing\", \"seek\", \"destroy\", \"reach\", \"friend\", \"blessing\", \"care\", \"ideal\", \"responsibility\", \"hope\", \"faith\", \"americans\", \"freedom\", \"work\", \"new\", \"day\", \"support\", \"year\", \"like\", \"responsibility\", \"decision\", \"factory\", \"care\", \"think\", \"place\", \"ideal\", \"stand\", \"idea\", \"pass\", \"confidence\", \"strive\", \"offer\", \"challenge\", \"come\", \"protect\", \"opportunity\", \"old\", \"end\", \"hero\", \"restore\", \"change\", \"century\", \"prayer\", \"congress\", \"life\", \"constitution\", \"god\", \"world\", \"ask\", \"light\", \"good\", \"enemy\", \"freedom\", \"high\", \"authority\", \"labor\", \"prayer\", \"conflict\", \"circumstance\", \"material\", \"little\", \"friend\", \"force\", \"patriotism\", \"choose\", \"act\", \"return\", \"executive\", \"concern\", \"case\", \"think\", \"factory\", \"service\", \"opportunity\", \"exercise\", \"god\", \"need\", \"dare\", \"remain\", \"instrument\", \"security\", \"strive\", \"faith\", \"shall\", \"deny\", \"work\", \"know\", \"right\", \"people\", \"president\"], \"Total\": [9.0, 8.0, 10.0, 8.0, 4.0, 8.0, 9.0, 12.0, 6.0, 6.0, 8.0, 10.0, 8.0, 4.0, 7.0, 4.0, 4.0, 5.0, 5.0, 4.0, 10.0, 12.0, 11.0, 5.0, 9.0, 4.0, 3.0, 5.0, 4.0, 6.0, 3.884443597010914, 3.1855367587052568, 3.0062764057487166, 2.9950615792701463, 4.143916351945496, 2.806490366062457, 4.936825940075264, 3.8928736795800276, 3.5173171322399326, 2.5940526832828525, 2.296633932343854, 3.3708906936606184, 4.423676693970855, 2.1788289237959613, 3.8938780341326598, 6.76562740730453, 2.8515918356276972, 2.419262626305431, 4.016629516214895, 11.004717442243553, 4.305896637563492, 3.1009571279630084, 2.405282967922444, 3.0356676433596257, 12.439580162674057, 6.96655696868841, 4.820682762831521, 3.8038704967187784, 2.8052647977939844, 10.109271745443065, 14.195455445635401, 9.126262556119789, 6.830870640530139, 7.738682113876996, 8.091484989852855, 8.910802141566926, 12.830459131867132, 11.68541994419687, 10.176762414546682, 6.080091947989865, 6.667438358909026, 3.6901324662189365, 5.898879358274387, 5.50304507927271, 4.154127088348255, 3.388488527205631, 4.693894089258402, 4.187944753514351, 3.3015158148068338, 5.9089654001373635, 8.159363723099553, 2.473034508245167, 6.897226621828783, 6.159141668078813, 6.655693617205991, 5.02882127651407, 3.300973738324231, 5.2725984892403295, 2.587153119500176, 3.0378631992303173, 3.0620144472683104, 2.8829734058300227, 2.8838424509478644, 5.079830873562573, 8.091484989852855, 2.5783349705030565, 5.680473103887727, 3.9216004326809704, 4.494110182806962, 9.831403192187677, 7.738682113876996, 10.176762414546682, 4.573875816268919, 5.20486223554661, 4.930039591351077, 2.5688496328732966, 3.238472461532006, 3.902834595557367, 2.8186929530408813, 3.3777003406311805, 2.9102898449468313, 2.492034620836485, 4.637314650476257, 3.2918034876438163, 2.465165210100946, 2.8404428712125744, 2.916090568798231, 4.286932184075213, 10.1978542290962, 3.194986709686783, 5.976797003715391, 4.7966021811486765, 3.107676540532309, 4.409520438059598, 4.847892707166848, 2.7601866974638987, 5.015893765854659, 3.1804382304892593, 2.96246728747869, 3.3351921009049037, 4.186910817586556, 2.7065035685029275, 2.7217568550821527, 2.392054142111494, 4.380522345670002, 14.195455445635401, 12.439580162674057, 6.655693617205991, 5.079830873562573, 10.109271745443065, 3.3142767031262435, 3.0024488516589596, 2.6872857768886167, 3.6103923919893055, 3.6863331732241167, 2.36932953831978, 4.074474801822269, 4.082306484322427, 4.380522345670002, 2.2990123852168316, 3.6366652798342884, 3.0050113332749464, 3.1499889605930234, 3.6098792042117753, 2.898673069637339, 4.494110182806962, 3.250168381953424, 3.7501922083714474, 7.579768102668837, 3.577960241650982, 8.38367408506416, 2.452117891862791, 2.9667681243614914, 2.8052647977939844, 2.668408660062054, 2.4277200181996736, 2.2307593372961265, 2.5731258253959117, 3.758976646819195, 10.956160151602614, 10.1978542290962, 6.830870640530139, 5.199659703942138, 9.62602600082404, 9.831403192187677, 11.68541994419687, 10.176762414546682, 14.195455445635401, 4.402352976411794, 2.8994901121813927, 2.7728840738984455, 3.133199995647768, 2.5068581088302775, 2.6888759489954914, 2.3947701010916997, 5.494049667995481, 3.0345362405663234, 3.9259825012589333, 8.910802141566926, 4.573875816268919, 6.242340412763294, 3.9560534990478518, 2.738068020262666, 2.4277200181996736, 3.8979972350845276, 2.9194387811199984, 2.7477411415569732, 3.107676540532309, 9.126262556119789, 2.728917530856141, 3.6485067624245744, 2.8554595900855433, 3.9216004326809704, 2.7217568550821527, 3.0620144472683104, 2.96246728747869, 2.9375857403911945, 2.9667681243614914, 12.439580162674057, 11.004717442243553, 10.1978542290962, 11.68541994419687, 12.830459131867132, 10.176762414546682, 3.448816035284337, 3.356698344414886, 3.0764289703898164, 4.231040348152578, 5.166880232753547, 3.393271442672337, 3.592443268762642, 3.259568197795243, 2.6631345140138007, 6.115718129458083, 5.03780266044268, 2.6721931637150282, 3.0366209394269412, 9.831403192187677, 2.668408660062054, 3.0510529734077494, 2.935397046422072, 2.5117999930258197, 11.68541994419687, 2.974064960403135, 3.194986709686783, 3.5328725083365695, 2.7065035685029275, 2.392054142111494, 2.9194387811199984, 4.186910817586556, 2.9643052605163147, 3.758976646819195, 5.015893765854659, 2.2307593372961265, 6.055698008555945, 14.195455445635401, 8.135080702873354, 5.9089654001373635, 10.176762414546682, 9.126262556119789, 3.8717194963942085, 3.2701115756758927, 3.1596189281063567, 3.0241833087646928, 2.903442587503334, 3.2951930152180307, 5.199659703942138, 3.111051586917332, 2.6643423967918194, 8.413640227893548, 2.557895749804279, 2.818364783267291, 3.8331577091701634, 2.7546414192150586, 2.5731258253959117, 3.780796388093641, 12.830459131867132, 4.1140198595247375, 3.580657966984202, 3.528330083581134, 10.109271745443065, 2.39592690459354, 2.918654948323896, 4.186910817586556, 2.9643052605163147, 4.286932184075213, 2.587153119500176, 2.8554595900855433, 2.9667681243614914, 2.5695821321568184, 3.902834595557367, 5.680473103887727, 4.409520438059598, 4.81005539665038, 10.176762414546682, 11.004717442243553, 6.115718129458083, 4.314218994710907, 3.5910138857051717, 4.763175519499635, 3.4932882861886707, 10.956160151602614, 4.43263026570238, 3.4517952624056507, 3.104053387887131, 3.188253429654632, 6.055698008555945, 3.338398134774542, 3.5328725083365695, 3.2788666415868195, 7.303898055616384, 5.03780266044268, 3.6366652798342884, 2.728917530856141, 3.6485067624245744, 8.159363723099553, 7.738682113876996, 7.579768102668837, 2.557895749804279, 3.780796388093641, 2.7217568550821527, 2.918654948323896, 5.20486223554661, 2.2307593372961265, 3.3899855691865297, 2.7631397882565123, 3.7428776640345607, 6.76562740730453, 6.242340412763294, 5.898879358274387, 8.135080702873354, 8.413640227893548, 8.134783005304762, 9.62602600082404, 4.445420844224056, 3.8790658145826136, 3.5347409864443153, 3.7428776640345607, 2.177516068897667, 3.398662383408389, 3.3899855691865297, 3.9966423921297505, 4.1140198595247375, 2.7631397882565123, 3.528330083581134, 2.625847118139448, 2.4855767205297297, 2.9643052605163147, 2.998593702104374, 3.259568197795243, 3.5873500739104447, 6.830870640530139, 3.2788666415868195, 2.39592690459354, 4.847892707166848, 3.6485067624245744, 3.3015158148068338, 3.3777003406311805, 4.820682762831521, 3.104053387887131, 3.154220268467988, 3.4932882861886707, 10.1978542290962, 6.655693617205991, 7.579768102668837, 12.830459131867132, 5.079830873562573, 4.637314650476257, 10.109271745443065, 4.87063298478485, 8.135080702873354, 3.672689156884161, 4.0871064960125, 3.135779697977008, 3.154220268467988, 3.806126955994836, 2.5695821321568184, 3.19314144120842, 3.300973738324231, 5.20486223554661, 4.81005539665038, 2.7601866974638987, 3.1499889605930234, 5.166880232753547, 2.738068020262666, 3.317687463016588, 2.9375857403911945, 3.77518955827429, 3.9966423921297505, 3.398662383408389, 4.016629516214895, 2.39592690459354, 2.4245217872221665, 7.579768102668837, 6.96655696868841, 3.0620144472683104, 3.4517952624056507, 2.587153119500176, 2.916090568798231, 2.998593702104374, 6.242340412763294, 8.38367408506416, 3.564953327910137, 8.413640227893548, 7.303898055616384, 8.091484989852855, 14.195455445635401, 4.693894089258402], \"loglift\": [30.0, 29.0, 28.0, 27.0, 26.0, 25.0, 24.0, 23.0, 22.0, 21.0, 20.0, 19.0, 18.0, 17.0, 16.0, 15.0, 14.0, 13.0, 12.0, 11.0, 10.0, 9.0, 8.0, 7.0, 6.0, 5.0, 4.0, 3.0, 2.0, 1.0, 1.5678, 1.5147, 1.4965, 1.4953, 1.4879, 1.4729, 1.4548, 1.4497, 1.4441, 1.4431, 1.3898, 1.3693, 1.3675, 1.3638, 1.3631, 1.3531, 1.3445, 1.2792, 1.2555, 1.2517, 1.224, 1.2122, 1.1748, 1.1738, 1.1462, 1.1026, 1.0697, 1.0696, 0.9863, 0.9652, 0.9435, 0.8316, 0.8914, 0.8477, 0.7616, 0.5798, 0.0986, 0.1699, 0.1823, 1.929, 1.9046, 1.8468, 1.7581, 1.7252, 1.7237, 1.7233, 1.6702, 1.6513, 1.588, 1.5732, 1.4941, 1.3947, 1.3906, 1.3851, 1.3641, 1.3197, 1.2926, 1.2837, 1.2023, 1.1357, 1.1188, 1.1136, 1.113, 1.0947, 1.0718, 1.0623, 1.0096, 1.0008, 0.9335, 0.7913, 0.6774, 0.2142, 0.732, 0.6006, 2.0821, 1.9061, 1.8348, 1.8232, 1.7846, 1.783, 1.7723, 1.7417, 1.6637, 1.6448, 1.6411, 1.5068, 1.4757, 1.4706, 1.4456, 1.4427, 1.4377, 1.4223, 1.3792, 1.3393, 1.3262, 1.3152, 1.2367, 1.2028, 1.1974, 1.1841, 1.1651, 1.1599, 1.0769, 1.0539, 0.9578, 0.5728, 0.6061, 0.7291, 0.824, 0.2039, 2.0832, 2.0531, 2.0143, 1.908, 1.9004, 1.8942, 1.8655, 1.8135, 1.7792, 1.757, 1.7237, 1.6907, 1.6527, 1.648, 1.641, 1.4887, 1.4622, 1.4496, 1.428, 1.4199, 1.405, 1.2876, 1.183, 1.1707, 1.1324, 1.1288, 1.118, 1.1134, 1.0248, 0.8787, 0.5503, 0.6901, 0.7778, 0.44, 0.4013, 0.2724, 0.1979, -0.0924, 2.1718, 2.0626, 2.047, 1.9591, 1.8815, 1.8334, 1.8319, 1.8066, 1.745, 1.7309, 1.6761, 1.6712, 1.6575, 1.6118, 1.5839, 1.5148, 1.4999, 1.4351, 1.3952, 1.3568, 1.3418, 1.3358, 1.3147, 1.2481, 1.1687, 1.1193, 1.0348, 0.9909, 0.9255, 0.8762, 0.4208, 0.4367, 0.4447, 0.3631, 0.191, 0.2493, 2.1344, 2.127, 2.101, 2.0894, 1.9753, 1.9722, 1.7641, 1.7401, 1.7194, 1.6996, 1.6991, 1.6497, 1.6047, 1.5912, 1.5846, 1.5313, 1.4643, 1.4168, 1.3829, 1.3777, 1.3132, 1.2662, 1.2069, 1.158, 1.1551, 1.0482, 0.9424, 0.8882, 0.8358, 0.6975, 0.6726, 0.3355, 0.4849, 0.6508, 0.274, 0.2399, 2.207, 2.1629, 2.1527, 2.139, 2.1255, 2.04, 2.0072, 1.9761, 1.9647, 1.9337, 1.7951, 1.762, 1.7494, 1.6646, 1.6203, 1.6149, 1.5432, 1.3983, 1.344, 1.2491, 1.2012, 1.1971, 1.1232, 1.0599, 0.9346, 0.8226, 0.8205, 0.7435, 0.7281, 0.681, 0.6769, 0.6351, 0.6557, 0.5915, 0.3077, 0.1389, 0.4614, 2.2716, 2.2106, 2.2006, 2.1271, 2.0268, 1.9636, 1.9611, 1.8359, 1.7803, 1.7681, 1.7085, 1.6689, 1.5489, 1.5273, 1.5228, 1.259, 1.2294, 1.1767, 1.1662, 1.1556, 1.1533, 0.9728, 0.9381, 0.8745, 0.7723, 0.758, 0.7455, 0.7099, 0.7081, 0.6252, 0.4588, 0.4184, 0.4164, 0.1335, 0.056, 2.3973, 2.2998, 2.0378, 2.0346, 2.0319, 1.9891, 1.9433, 1.8999, 1.8927, 1.855, 1.8208, 1.7613, 1.7311, 1.7136, 1.5066, 1.4787, 1.3789, 1.2429, 1.1996, 1.1681, 1.1545, 1.0, 0.9673, 0.8831, 0.862, 0.8171, 0.7686, 0.6996, 0.6828, 0.6728, 0.656, 0.4583, 0.398, 0.1623, 0.5335, 0.5443, -0.2327, 2.5213, 2.2833, 2.2396, 2.2371, 2.1972, 2.1968, 2.1516, 1.7946, 1.7748, 1.6139, 1.5565, 1.3183, 1.2352, 1.1178, 1.0917, 1.0895, 1.042, 1.0113, 1.003, 0.9458, 0.9358, 0.9095, 0.9084, 0.8966, 0.8926, 0.8814, 0.8582, 0.8359, 0.8316, 0.8314, 0.8304, 0.7719, 0.7238, 0.7803, 0.4492, 0.4349, 0.3826, -0.1099, 0.5897], \"logprob\": [30.0, 29.0, 28.0, 27.0, 26.0, 25.0, 24.0, 23.0, 22.0, 21.0, 20.0, 19.0, 18.0, 17.0, 16.0, 15.0, 14.0, 13.0, 12.0, 11.0, 10.0, 9.0, 8.0, 7.0, 6.0, 5.0, 4.0, 3.0, 2.0, 1.0, -3.9538, -4.2053, -4.2814, -4.2864, -3.969, -4.3737, -3.8271, -4.0698, -4.1768, -4.4823, -4.6573, -4.2941, -4.0241, -4.7361, -4.1561, -3.6136, -4.4862, -4.7159, -4.2326, -3.2286, -4.1946, -4.5347, -4.8261, -4.5944, -3.2115, -3.8349, -4.236, -4.4729, -4.8608, -3.5999, -3.2822, -3.8358, -4.0657, -3.9846, -4.0261, -4.1115, -4.2282, -4.2504, -4.3761, -3.1446, -3.0768, -3.7261, -3.3457, -3.4481, -3.7308, -3.9349, -3.6622, -3.795, -4.0962, -3.5289, -3.2853, -4.5785, -3.5569, -3.6756, -3.619, -3.9437, -4.3918, -3.9324, -4.7257, -4.6317, -4.6408, -4.7062, -4.7065, -4.1586, -3.716, -4.8691, -4.132, -4.5113, -4.4424, -3.8017, -4.155, -4.3443, -4.6263, -4.6284, -3.2011, -4.029, -3.8687, -3.6937, -4.0577, -3.8784, -4.0381, -4.2238, -3.6808, -4.0423, -4.3353, -4.3278, -4.3326, -3.9524, -3.1108, -4.2744, -3.653, -3.8883, -4.3655, -4.0555, -3.9739, -4.5481, -4.0292, -4.5188, -4.5952, -4.49, -4.2815, -4.723, -4.8004, -4.9525, -4.4436, -3.6528, -3.7516, -4.254, -4.4293, -4.3612, -3.5972, -3.7261, -3.8758, -3.6867, -3.6736, -4.1218, -3.6083, -3.6584, -3.6223, -4.2891, -3.8638, -4.0877, -4.0785, -3.9469, -4.1733, -3.8871, -4.2377, -4.1072, -3.4251, -4.1839, -3.3473, -4.694, -4.6081, -4.6764, -4.7647, -4.8629, -4.9582, -4.82, -4.5297, -3.606, -4.0061, -4.267, -4.4522, -4.1742, -4.1917, -4.1479, -4.3605, -4.3181, -3.2247, -3.7515, -3.8117, -3.7774, -4.078, -4.0561, -4.1734, -3.3684, -4.0235, -3.7801, -3.0152, -3.687, -3.3898, -3.8915, -4.2875, -4.4768, -4.0182, -4.3721, -4.4726, -4.3879, -3.3256, -4.5388, -4.2695, -4.5813, -4.3434, -4.758, -4.7247, -4.8017, -4.8755, -4.9149, -3.9369, -4.0436, -4.1118, -4.0571, -4.1358, -4.3092, -3.5061, -3.5407, -3.6538, -3.3468, -3.261, -3.6846, -3.8357, -3.9569, -4.1796, -3.3681, -3.5625, -4.246, -4.1631, -3.0018, -4.3125, -4.2318, -4.3374, -4.5407, -3.0374, -4.411, -4.4038, -4.3503, -4.6761, -4.8485, -4.6521, -4.3984, -4.8496, -4.6662, -4.4302, -5.3787, -4.405, -3.8901, -4.2976, -4.4513, -4.2844, -4.4276, -3.3179, -3.5309, -3.5754, -3.633, -3.6872, -3.6462, -3.2228, -3.7675, -3.9339, -2.815, -4.1443, -4.0804, -3.7855, -4.2007, -4.3132, -3.9338, -2.7836, -4.0659, -4.2591, -4.3686, -3.364, -4.8077, -4.6843, -4.3867, -4.8573, -4.6004, -5.1075, -5.0858, -5.063, -5.2539, -4.84, -4.5065, -4.7392, -4.7164, -4.2508, -4.3414, -4.6064, -3.1451, -3.3895, -3.117, -3.5006, -2.4578, -3.426, -3.6786, -3.91, -3.9388, -3.3095, -3.9646, -3.9476, -4.1422, -3.3628, -3.7388, -4.3286, -4.6453, -4.4076, -3.6133, -3.6767, -3.6998, -4.9666, -4.6106, -5.0028, -5.0351, -4.471, -5.3307, -4.9478, -5.1541, -4.9335, -4.508, -4.6289, -4.6874, -4.6489, -4.6927, -2.3851, -2.3143, -3.3489, -3.4884, -3.5841, -3.5697, -4.1571, -3.7553, -3.7651, -3.6381, -3.6434, -4.1009, -3.8867, -4.1996, -4.4615, -4.3132, -4.4015, -4.4541, -4.4015, -3.789, -4.5366, -5.0048, -4.3327, -4.7012, -4.8222, -4.8443, -4.537, -5.0462, -5.047, -4.955, -3.9005, -4.5248, -4.4551, -4.1645, -4.7198, -4.8002, -4.7979, -2.7741, -2.4991, -3.338, -3.2336, -3.5385, -3.533, -3.3904, -4.1403, -3.9428, -4.0705, -3.6725, -3.9896, -4.6281, -4.6134, -4.1446, -4.7819, -4.6373, -4.7897, -4.5472, -4.5473, -4.7194, -4.5786, -5.0964, -5.0964, -3.9606, -4.056, -4.9013, -4.8038, -5.0964, -4.977, -4.9501, -4.2753, -4.0285, -4.8272, -4.2995, -4.4553, -4.4052, -4.3355, -4.7426]}, \"token.table\": {\"Topic\": [6, 10, 2, 3, 4, 3, 2, 8, 9, 1, 4, 1, 4, 2, 8, 2, 3, 4, 9, 10, 3, 5, 1, 6, 8, 6, 4, 6, 5, 4, 8, 9, 4, 5, 6, 10, 1, 8, 1, 2, 9, 1, 2, 9, 6, 4, 10, 10, 2, 4, 1, 4, 9, 3, 4, 3, 6, 1, 4, 5, 10, 6, 7, 9, 4, 10, 8, 9, 1, 2, 3, 9, 1, 2, 3, 8, 4, 5, 3, 5, 2, 7, 4, 6, 2, 5, 6, 4, 9, 9, 1, 2, 6, 10, 3, 5, 8, 4, 7, 3, 2, 3, 7, 1, 4, 6, 1, 1, 5, 8, 9, 2, 4, 10, 5, 6, 1, 5, 10, 1, 2, 5, 4, 7, 4, 9, 10, 4, 5, 8, 10, 4, 5, 7, 4, 8, 1, 8, 1, 3, 2, 2, 1, 2, 6, 7, 10, 3, 4, 1, 5, 5, 6, 8, 10, 2, 7, 8, 10, 1, 1, 4, 8, 9, 10, 1, 3, 7, 9, 1, 2, 3, 5, 9, 1, 2, 4, 6, 1, 1, 2, 3, 6, 4, 1, 3, 7, 8, 1, 2, 9, 10, 2, 4, 5, 6, 8, 1, 2, 3, 6, 1, 4, 8, 1, 9, 4, 9, 1, 6, 2, 7, 7, 5, 7, 1, 2, 6, 7, 8, 10, 4, 10, 2, 3, 6, 7, 1, 2, 3, 5, 5, 8, 7, 1, 4, 6, 8, 3, 4, 3, 3, 4, 5, 9, 3, 5, 9, 9, 2, 10, 1, 6, 4, 8, 7, 6, 8, 1, 1, 2, 3, 4, 5, 6, 7, 1, 5, 6, 5, 3, 7, 10, 4, 6, 7, 10, 3, 7, 2, 4, 7, 1, 6, 3, 1, 3, 4, 5, 6, 2, 4, 6, 1, 1, 3, 4, 10, 6, 9, 4, 7, 6, 9, 1, 3, 5, 9, 4, 7, 9, 4, 6, 2, 5, 7, 1, 9, 3, 10, 1, 3, 4, 7, 1, 1, 3, 4, 5, 6, 10, 7, 9, 1, 6, 3, 1, 2, 5, 6, 1, 2, 8, 10, 3, 7, 6, 2, 10, 1, 2, 4, 7, 3, 6, 8, 9, 2, 5, 9, 3, 6, 7, 2, 5, 5, 3, 5, 7, 4, 6, 8, 10, 4, 3, 8, 7, 1, 5, 8, 9, 3, 9, 5, 10, 1, 2, 1, 2, 3, 10, 1, 5, 7, 4, 2, 5, 1, 3, 3, 7, 8, 3, 6, 5, 1, 10, 1, 3, 4, 5, 10, 7, 2, 1, 6, 1, 4, 7, 9, 1, 1, 3, 1, 2, 3, 3, 9, 7, 2, 3, 1, 6, 4, 5, 9, 4, 5, 1, 8, 1, 3, 6, 9, 10, 1, 5, 6, 7, 9, 2, 6, 3, 6, 5, 1, 4, 8, 3, 1, 1, 1, 3, 3, 5, 1, 3, 1, 2, 5, 6, 4, 5, 7, 8, 4, 7, 5, 1, 2, 7, 3, 7, 8, 10, 1, 2, 5, 6, 7, 9, 2, 7, 9, 1, 5], \"Freq\": [0.5806211610988382, 0.19354038703294607, 0.2794888518768361, 0.2794888518768361, 0.2794888518768361, 0.7095487281941606, 0.612792880631704, 0.2451171522526816, 0.1225585761263408, 0.26665299921634106, 0.5333059984326821, 0.40781073508677584, 0.40781073508677584, 0.6780948985486845, 0.16952372463717114, 0.3937138951630816, 0.1968569475815408, 0.1968569475815408, 0.1968569475815408, 0.7340156178770696, 0.3375564699825207, 0.3375564699825207, 0.8529228065623728, 0.5954977203764439, 0.39699848025096257, 0.7090454718329279, 0.44827785018355526, 0.8698637356436049, 0.7978114090123825, 0.2949865064587761, 0.2949865064587761, 0.5899730129175522, 0.26488736116793, 0.26488736116793, 0.26488736116793, 0.26488736116793, 0.32215940740654614, 0.6443188148130923, 0.2787572942135349, 0.2787572942135349, 0.2787572942135349, 0.41487899088079827, 0.20743949544039914, 0.20743949544039914, 0.8937353590296887, 0.6349228600545559, 0.31746143002727795, 0.3891683349932989, 0.8223559845428072, 0.7442453709987006, 0.43918266907293857, 0.14639422302431285, 0.2927884460486257, 0.22828327790371075, 0.6848498337111323, 0.312990347336385, 0.312990347336385, 0.3404155957901781, 0.3404155957901781, 0.3404155957901781, 0.3404155957901781, 0.3373471731537604, 0.3373471731537604, 0.3373471731537604, 0.2627342733339336, 0.5254685466678672, 0.5725264667984464, 0.2862632333992232, 0.15024730065922, 0.45074190197766, 0.15024730065922, 0.15024730065922, 0.2998328041520248, 0.2998328041520248, 0.2998328041520248, 0.8354186576504664, 0.18201510005002428, 0.5460453001500728, 0.32178381081729684, 0.32178381081729684, 0.35481567394576724, 0.35481567394576724, 0.3747551920989287, 0.3747551920989287, 0.3265823911745817, 0.3265823911745817, 0.6501043967696672, 0.10388503001284169, 0.7271952100898919, 0.45923886132616887, 0.28050858118420996, 0.28050858118420996, 0.28050858118420996, 0.28050858118420996, 0.3674097479107171, 0.3674097479107171, 0.3674097479107171, 0.4899191199094784, 0.2449595599547392, 0.8025570685405137, 0.2267820308459775, 0.453564061691955, 0.2267820308459775, 0.26602985172738147, 0.26602985172738147, 0.26602985172738147, 0.6652748217614067, 0.7706389281872735, 0.27408473249901866, 0.27408473249901866, 0.27408473249901866, 0.2712722787141311, 0.5425445574282622, 0.8212484932647193, 0.3425315873951517, 0.3425315873951517, 0.7013626477015623, 0.30141476891580254, 0.30141476891580254, 0.4124524701201899, 0.4043615229249619, 0.4043615229249619, 0.19232027804470492, 0.5769608341341147, 0.9051748748588804, 0.5884668067542138, 0.2942334033771069, 0.16019632603748543, 0.48058897811245627, 0.16019632603748543, 0.16019632603748543, 0.3370671242516536, 0.3370671242516536, 0.3370671242516536, 0.5499543802093146, 0.2749771901046573, 0.2995448594292768, 0.2995448594292768, 0.6449621576399486, 0.3224810788199743, 0.8998958336049414, 0.8129789451905299, 0.2078978135462595, 0.2078978135462595, 0.2078978135462595, 0.2078978135462595, 0.2078978135462595, 0.2770175796556473, 0.5540351593112945, 0.3366700272701222, 0.5611167121168703, 0.41757661812469254, 0.12292441052819483, 0.12292441052819483, 0.6146220526409741, 0.19212804388375535, 0.19212804388375535, 0.19212804388375535, 0.3842560877675107, 0.7239528371733548, 0.5257802550652556, 0.3957904726588799, 0.2638603151059199, 0.13193015755295995, 0.13193015755295995, 0.3956763751852918, 0.09891909379632295, 0.29675728138896884, 0.09891909379632295, 0.5627199558554278, 0.08038856512220396, 0.16077713024440793, 0.16077713024440793, 0.08038856512220396, 0.1017148804144895, 0.3051446412434685, 0.1017148804144895, 0.406859521657958, 0.627837677444629, 0.14498581166452268, 0.4349574349935681, 0.14498581166452268, 0.14498581166452268, 0.6655548942041238, 0.7126338376874696, 0.22559968688061632, 0.22559968688061632, 0.45119937376123265, 0.7704401559840417, 0.6057823473176417, 0.30289117365882084, 0.5445601069317725, 0.16513373001545403, 0.16513373001545403, 0.16513373001545403, 0.16513373001545403, 0.49540119004636207, 0.464479333422111, 0.2322396667110555, 0.4180507382317393, 0.4180507382317393, 0.5912238081100044, 0.1478059520275011, 0.1478059520275011, 0.380829482833164, 0.380829482833164, 0.3619071334175896, 0.3619071334175896, 0.3277556990048228, 0.3277556990048228, 0.3865252475636984, 0.3865252475636984, 0.36302365637301437, 0.2792782804782236, 0.2792782804782236, 0.13691319243305197, 0.13691319243305197, 0.13691319243305197, 0.13691319243305197, 0.4107395772991559, 0.13691319243305197, 0.3188999535411024, 0.6377999070822048, 0.3793196095020992, 0.1896598047510496, 0.1896598047510496, 0.1896598047510496, 0.1988537561814466, 0.3977075123628932, 0.1988537561814466, 0.1988537561814466, 0.36644566524744737, 0.36644566524744737, 0.7748495217161124, 0.41334908791078495, 0.2738185603795847, 0.09127285345986157, 0.638909974219031, 0.3144220788234476, 0.3144220788234476, 0.6075696825485611, 0.49029922252998637, 0.19611968901199456, 0.19611968901199456, 0.19611968901199456, 0.6469261255955312, 0.21564204186517708, 0.21564204186517708, 0.5658123205264469, 0.6058818271651316, 0.3029409135825658, 0.32931341117232626, 0.32931341117232626, 0.7362912144304535, 0.24543040481015116, 0.9173998900572486, 0.28305578467388387, 0.28305578467388387, 0.45896214662773865, 0.1965261562106625, 0.1965261562106625, 0.09826307810533125, 0.09826307810533125, 0.09826307810533125, 0.09826307810533125, 0.09826307810533125, 0.4382955208008698, 0.32872164060065234, 0.10957388020021745, 0.6897764512448454, 0.31317121975704204, 0.31317121975704204, 0.31317121975704204, 0.16351309508252476, 0.4905392852475743, 0.16351309508252476, 0.16351309508252476, 0.7686720834684945, 0.2562240278228315, 0.7268702949692437, 0.18171757374231093, 0.750654271165836, 0.27836208540724805, 0.5567241708144961, 0.6175751141184234, 0.17115345529308307, 0.08557672764654153, 0.08557672764654153, 0.17115345529308307, 0.34230691058616614, 0.22251345857644578, 0.44502691715289155, 0.22251345857644578, 0.41575149923576227, 0.5741717204033828, 0.1435429301008457, 0.1435429301008457, 0.1435429301008457, 0.12292890902534111, 0.8605023631773878, 0.2608815175038778, 0.5217630350077556, 0.6135782038101828, 0.3067891019050914, 0.20627519221323878, 0.41255038442647757, 0.20627519221323878, 0.20627519221323878, 0.43496938356236164, 0.4173750034205014, 0.4173750034205014, 0.3449854385010424, 0.3449854385010424, 0.3502063217676431, 0.3502063217676431, 0.3502063217676431, 0.40232111595689496, 0.40232111595689496, 0.3622943335386752, 0.3622943335386752, 0.1673136965130929, 0.5019410895392787, 0.1673136965130929, 0.1673136965130929, 0.7709943644895212, 0.42267048232290333, 0.21133524116145166, 0.07044508038715055, 0.07044508038715055, 0.1408901607743011, 0.07044508038715055, 0.24307126220715974, 0.4861425244143195, 0.3406694168405227, 0.3406694168405227, 0.778558610206768, 0.387847200398826, 0.387847200398826, 0.5055543360273976, 0.2527771680136988, 0.38766290640371487, 0.2584419376024766, 0.2584419376024766, 0.6340711268624891, 0.46653408874286745, 0.23326704437143372, 0.3742244436437917, 0.6391281829015397, 0.21304272763384657, 0.32917874651279994, 0.32917874651279994, 0.32917874651279994, 0.632987725896, 0.36948039220696055, 0.36948039220696055, 0.3049834315664776, 0.3049834315664776, 0.254997931881693, 0.254997931881693, 0.254997931881693, 0.2388395749438069, 0.2388395749438069, 0.2388395749438069, 0.21863295816713652, 0.43726591633427303, 0.908605016779064, 0.34262357754015177, 0.34262357754015177, 0.34262357754015177, 0.5539564077404926, 0.2769782038702463, 0.5794086404203896, 0.2897043202101948, 0.666122921259734, 0.31365135239839614, 0.31365135239839614, 0.6428694427345556, 0.36393530121012874, 0.36393530121012874, 0.267174107668288, 0.534348215336576, 0.5921188377611574, 0.2960594188805787, 0.3652210217568185, 0.3652210217568185, 0.3467595810136296, 0.3467595810136296, 0.3707601266964169, 0.3707601266964169, 0.12358670889880563, 0.12358670889880563, 0.5130839965710315, 0.5130839965710315, 0.6069447194029293, 0.844120654241414, 0.722173379917668, 0.24072445997255598, 0.3429248771282562, 0.3429248771282562, 0.2644945396025999, 0.5289890792051998, 0.2644945396025999, 0.37549736775887765, 0.37549736775887765, 0.7438052323489147, 0.4979299165945275, 0.24896495829726376, 0.23855889192580584, 0.11927944596290292, 0.3578383378887088, 0.11927944596290292, 0.11927944596290292, 0.6613355725506443, 0.7163418279294451, 0.33624013372742534, 0.33624013372742534, 0.35647258711063, 0.35647258711063, 0.28342019491130893, 0.5668403898226179, 0.870839697974365, 0.8102371946171995, 0.20255929865429986, 0.41696182515620794, 0.20848091257810397, 0.41696182515620794, 0.3334896619365982, 0.3334896619365982, 0.6888374540651059, 0.3468641084159064, 0.3468641084159064, 0.3981208706013881, 0.3981208706013881, 0.2249505806180987, 0.2249505806180987, 0.6748517418542961, 0.41190911328464097, 0.41190911328464097, 0.5933149964670318, 0.6298319236229082, 0.19936626385658904, 0.3987325277131781, 0.19936626385658904, 0.5004200535775807, 0.25021002678879034, 0.5452207229753977, 0.18174024099179925, 0.09087012049589963, 0.09087012049589963, 0.09087012049589963, 0.6769374550588863, 0.16923436376472156, 0.4056523254111034, 0.589401712709703, 0.7212706866566425, 0.30767636703147594, 0.30767636703147594, 0.6953749922472418, 0.8113525106405485, 0.7723113813027186, 0.6677659029926761, 0.6781689096060701, 0.6872167744641045, 0.329539646497474, 0.659079292994948, 0.35205777596685256, 0.35205777596685256, 0.16236028555451698, 0.4870808566635509, 0.16236028555451698, 0.16236028555451698, 0.2547133105354731, 0.5094266210709462, 0.3909463472373792, 0.3909463472373792, 0.38863237472894896, 0.38863237472894896, 0.6383250359945546, 0.17604167499985135, 0.3520833499997027, 0.17604167499985135, 0.11885461856150242, 0.5942730928075121, 0.11885461856150242, 0.11885461856150242, 0.15587906710466667, 0.07793953355233334, 0.07793953355233334, 0.07793953355233334, 0.3896976677616667, 0.07793953355233334, 0.590233664343946, 0.25779402768591586, 0.5155880553718317, 0.6588336520880018, 0.3294168260440009], \"Term\": [\"act\", \"act\", \"action\", \"action\", \"action\", \"administration\", \"america\", \"america\", \"america\", \"american\", \"american\", \"american people\", \"american people\", \"americans\", \"americans\", \"ask\", \"ask\", \"ask\", \"ask\", \"authority\", \"balance\", \"balance\", \"bear\", \"begin\", \"begin\", \"believe\", \"blessing\", \"break\", \"bring\", \"care\", \"care\", \"care\", \"case\", \"case\", \"case\", \"case\", \"century\", \"century\", \"challenge\", \"challenge\", \"challenge\", \"change\", \"change\", \"change\", \"child\", \"choose\", \"choose\", \"circumstance\", \"citizen\", \"city\", \"come\", \"come\", \"come\", \"common\", \"common\", \"community\", \"community\", \"concern\", \"concern\", \"concern\", \"concern\", \"confidence\", \"confidence\", \"confidence\", \"conflict\", \"conflict\", \"congress\", \"congress\", \"constitution\", \"constitution\", \"constitution\", \"constitution\", \"constitutional\", \"constitutional\", \"constitutional\", \"continue\", \"country\", \"country\", \"courage\", \"courage\", \"crisis\", \"crisis\", \"danger\", \"danger\", \"dare\", \"dare\", \"dark\", \"day\", \"day\", \"decision\", \"deny\", \"deny\", \"deny\", \"deny\", \"destroy\", \"destroy\", \"destroy\", \"difference\", \"difference\", \"discipline\", \"duty\", \"duty\", \"duty\", \"earth\", \"earth\", \"earth\", \"economic\", \"effort\", \"end\", \"end\", \"end\", \"endure\", \"endure\", \"enemy\", \"energy\", \"energy\", \"equal\", \"executive\", \"executive\", \"exercise\", \"express\", \"express\", \"face\", \"face\", \"fact\", \"factory\", \"factory\", \"faith\", \"faith\", \"faith\", \"faith\", \"far\", \"far\", \"far\", \"father\", \"father\", \"fear\", \"fear\", \"federal\", \"federal\", \"fellow\", \"fellow citizen\", \"force\", \"force\", \"force\", \"force\", \"force\", \"form\", \"form\", \"free\", \"free\", \"free man\", \"freedom\", \"freedom\", \"freedom\", \"friend\", \"friend\", \"friend\", \"friend\", \"future\", \"generation\", \"god\", \"god\", \"god\", \"god\", \"good\", \"good\", \"good\", \"good\", \"government\", \"government\", \"government\", \"government\", \"government\", \"great\", \"great\", \"great\", \"great\", \"grow\", \"hand\", \"hand\", \"hand\", \"hand\", \"hard\", \"hear\", \"heart\", \"heart\", \"heart\", \"help\", \"hero\", \"hero\", \"high\", \"history\", \"history\", \"history\", \"history\", \"history\", \"hold\", \"hold\", \"honor\", \"honor\", \"hope\", \"hope\", \"hope\", \"idea\", \"idea\", \"ideal\", \"ideal\", \"individual\", \"individual\", \"instrument\", \"instrument\", \"job\", \"just\", \"just\", \"know\", \"know\", \"know\", \"know\", \"know\", \"know\", \"labor\", \"labor\", \"land\", \"land\", \"land\", \"land\", \"law\", \"law\", \"law\", \"law\", \"leader\", \"leader\", \"leadership\", \"leave\", \"let\", \"let\", \"let\", \"liberty\", \"liberty\", \"lie\", \"life\", \"life\", \"life\", \"life\", \"light\", \"light\", \"light\", \"like\", \"little\", \"little\", \"live\", \"live\", \"long\", \"long\", \"lose\", \"love\", \"love\", \"majority\", \"make\", \"make\", \"make\", \"make\", \"make\", \"make\", \"make\", \"man\", \"man\", \"man\", \"man woman\", \"material\", \"material\", \"material\", \"mean\", \"mean\", \"mean\", \"mean\", \"measure\", \"measure\", \"meet\", \"meet\", \"mind\", \"moment\", \"moment\", \"moral\", \"nation\", \"nation\", \"nation\", \"nation\", \"nation\", \"national\", \"national\", \"national\", \"necessary\", \"need\", \"need\", \"need\", \"need\", \"new\", \"new\", \"oath\", \"oath\", \"offer\", \"offer\", \"old\", \"old\", \"old\", \"old\", \"opinion\", \"opportunity\", \"opportunity\", \"order\", \"order\", \"party\", \"party\", \"party\", \"pass\", \"pass\", \"patriotism\", \"patriotism\", \"peace\", \"peace\", \"peace\", \"peace\", \"peaceful\", \"people\", \"people\", \"people\", \"people\", \"people\", \"people\", \"place\", \"place\", \"pledge\", \"pledge\", \"point\", \"political\", \"political\", \"possible\", \"possible\", \"power\", \"power\", \"power\", \"prayer\", \"present\", \"present\", \"preserve\", \"president\", \"president\", \"principle\", \"principle\", \"principle\", \"produce\", \"progress\", \"progress\", \"protect\", \"protect\", \"provision\", \"provision\", \"provision\", \"public\", \"public\", \"public\", \"purpose\", \"purpose\", \"question\", \"reach\", \"reach\", \"reach\", \"reject\", \"reject\", \"remain\", \"remain\", \"remember\", \"renew\", \"renew\", \"require\", \"respect\", \"respect\", \"responsibility\", \"responsibility\", \"restore\", \"restore\", \"return\", \"return\", \"revolution\", \"revolution\", \"right\", \"right\", \"right\", \"right\", \"rule\", \"rule\", \"sacrifice\", \"safety\", \"say\", \"say\", \"security\", \"security\", \"seek\", \"seek\", \"seek\", \"sense\", \"sense\", \"serve\", \"service\", \"service\", \"shall\", \"shall\", \"shall\", \"shall\", \"shall\", \"sound\", \"speak\", \"special\", \"special\", \"spirit\", \"spirit\", \"stand\", \"stand\", \"state\", \"states\", \"states\", \"strength\", \"strength\", \"strength\", \"strive\", \"strive\", \"strong\", \"success\", \"success\", \"summon\", \"summon\", \"support\", \"support\", \"support\", \"task\", \"task\", \"tell\", \"thank\", \"thing\", \"thing\", \"thing\", \"think\", \"think\", \"time\", \"time\", \"time\", \"time\", \"time\", \"today\", \"today\", \"trade\", \"true\", \"trust\", \"turn\", \"turn\", \"understand\", \"union\", \"united\", \"united states\", \"use\", \"value\", \"view\", \"view\", \"vital\", \"vital\", \"war\", \"war\", \"war\", \"war\", \"way\", \"way\", \"willing\", \"willing\", \"wish\", \"wish\", \"woman\", \"word\", \"word\", \"word\", \"work\", \"work\", \"work\", \"work\", \"world\", \"world\", \"world\", \"world\", \"world\", \"world\", \"write\", \"year\", \"year\", \"young\", \"young\"]}, \"R\": 30, \"lambda.step\": 0.01, \"plot.opts\": {\"xlab\": \"PC1\", \"ylab\": \"PC2\"}, \"topic.order\": [3, 7, 1, 8, 6, 2, 4, 9, 5, 10]};\n",
       "\n",
       "function LDAvis_load_lib(url, callback){\n",
       "  var s = document.createElement('script');\n",
       "  s.src = url;\n",
       "  s.async = true;\n",
       "  s.onreadystatechange = s.onload = callback;\n",
       "  s.onerror = function(){console.warn(\"failed to load library \" + url);};\n",
       "  document.getElementsByTagName(\"head\")[0].appendChild(s);\n",
       "}\n",
       "\n",
       "if(typeof(LDAvis) !== \"undefined\"){\n",
       "   // already loaded: just create the visualization\n",
       "   !function(LDAvis){\n",
       "       new LDAvis(\"#\" + \"ldavis_el155021124371815607382670182\", ldavis_el155021124371815607382670182_data);\n",
       "   }(LDAvis);\n",
       "}else if(typeof define === \"function\" && define.amd){\n",
       "   // require.js is available: use it to load d3/LDAvis\n",
       "   require.config({paths: {d3: \"https://cdnjs.cloudflare.com/ajax/libs/d3/3.5.5/d3.min\"}});\n",
       "   require([\"d3\"], function(d3){\n",
       "      window.d3 = d3;\n",
       "      LDAvis_load_lib(\"https://cdn.rawgit.com/bmabey/pyLDAvis/files/ldavis.v1.0.0.js\", function(){\n",
       "        new LDAvis(\"#\" + \"ldavis_el155021124371815607382670182\", ldavis_el155021124371815607382670182_data);\n",
       "      });\n",
       "    });\n",
       "}else{\n",
       "    // require.js not available: dynamically load d3 & LDAvis\n",
       "    LDAvis_load_lib(\"https://cdnjs.cloudflare.com/ajax/libs/d3/3.5.5/d3.min.js\", function(){\n",
       "         LDAvis_load_lib(\"https://cdn.rawgit.com/bmabey/pyLDAvis/files/ldavis.v1.0.0.js\", function(){\n",
       "                 new LDAvis(\"#\" + \"ldavis_el155021124371815607382670182\", ldavis_el155021124371815607382670182_data);\n",
       "            })\n",
       "         });\n",
       "}\n",
       "</script>"
      ],
      "text/plain": [
       "PreparedData(topic_coordinates=           x      y  topics  cluster   Freq\n",
       "topic                                      \n",
       "2      0.175  0.002       1        1 16.872\n",
       "6      0.039  0.127       2        1 12.616\n",
       "0      0.066 -0.103       3        1 10.604\n",
       "7     -0.051  0.032       4        1  9.689\n",
       "5      0.084 -0.033       5        1  9.501\n",
       "1      0.022  0.108       6        1  9.305\n",
       "3     -0.045 -0.099       7        1  8.909\n",
       "8     -0.151  0.086       8        1  7.888\n",
       "4     -0.091 -0.146       9        1  7.784\n",
       "9     -0.048  0.026      10        1  6.831, topic_info=    Category   Freq         Term  Total  loglift  logprob\n",
       "42   Default  9.000          day  9.000   30.000   30.000\n",
       "135  Default  8.000          new  8.000   29.000   29.000\n",
       "108  Default 10.000          let 10.000   28.000   28.000\n",
       "74   Default  8.000      freedom  8.000   27.000   27.000\n",
       "54   Default  4.000        enemy  4.000   26.000   26.000\n",
       "226  Default  8.000         work  8.000   25.000   25.000\n",
       "81   Default  9.000        great  9.000   24.000   24.000\n",
       "227  Default 12.000        world 12.000   23.000   23.000\n",
       "68   Default  6.000       fellow  6.000   22.000   22.000\n",
       "24   Default  6.000      citizen  6.000   21.000   21.000\n",
       "72   Default  8.000         free  8.000   20.000   20.000\n",
       "111  Default 10.000         life 10.000   19.000   19.000\n",
       "3    Default  8.000      america  8.000   18.000   18.000\n",
       "213  Default  4.000        union  4.000   17.000   17.000\n",
       "78   Default  7.000          god  7.000   16.000   16.000\n",
       "203  Default  4.000        thank  4.000   15.000   15.000\n",
       "212  Default  4.000   understand  4.000   14.000   14.000\n",
       "0    Default  5.000          act  5.000   13.000   13.000\n",
       "60   Default  5.000         face  5.000   12.000   12.000\n",
       "165  Default  4.000     question  4.000   11.000   11.000\n",
       "79   Default 10.000         good 10.000   10.000   10.000\n",
       "80   Default 12.000   government 12.000    9.000    9.000\n",
       "131  Default 11.000       nation 11.000    8.000    8.000\n",
       "11   Default  5.000        begin  5.000    7.000    7.000\n",
       "121  Default  9.000          man  9.000    6.000    6.000\n",
       "8    Default  4.000    authority  4.000    5.000    5.000\n",
       "106  Default  3.000   leadership  3.000    4.000    4.000\n",
       "6    Default  5.000    americans  5.000    3.000    3.000\n",
       "12   Default  4.000      believe  4.000    2.000    2.000\n",
       "63   Default  6.000        faith  6.000    1.000    1.000\n",
       "..       ...    ...          ...    ...      ...      ...\n",
       "114  Topic10  1.133       little  3.301    1.614   -4.071\n",
       "75   Topic10  1.686       friend  5.205    1.556   -3.672\n",
       "70   Topic10  1.228        force  4.810    1.318   -3.990\n",
       "144  Topic10  0.648   patriotism  2.760    1.235   -4.628\n",
       "22   Topic10  0.658       choose  3.150    1.118   -4.613\n",
       "0    Topic10  1.052          act  5.167    1.092   -4.145\n",
       "175  Topic10  0.556       return  2.738    1.089   -4.782\n",
       "57   Topic10  0.643    executive  3.318    1.042   -4.637\n",
       "29   Topic10  0.552      concern  2.938    1.011   -4.790\n",
       "17   Topic10  0.703         case  3.775    1.003   -4.547\n",
       "205  Topic10  0.703        think  3.997    0.946   -4.547\n",
       "62   Topic10  0.592      factory  3.399    0.936   -4.719\n",
       "186  Topic10  0.681      service  4.017    0.909   -4.579\n",
       "140  Topic10  0.406  opportunity  2.396    0.908   -5.096\n",
       "58   Topic10  0.406     exercise  2.425    0.897   -5.096\n",
       "78   Topic10  1.264          god  7.580    0.893   -3.961\n",
       "134  Topic10  1.149         need  6.967    0.881   -4.056\n",
       "40   Topic10  0.493         dare  3.062    0.858   -4.901\n",
       "168  Topic10  0.544       remain  3.452    0.836   -4.804\n",
       "98   Topic10  0.406   instrument  2.587    0.832   -5.096\n",
       "182  Topic10  0.457     security  2.916    0.831   -4.977\n",
       "196  Topic10  0.470       strive  2.999    0.830   -4.950\n",
       "63   Topic10  0.923        faith  6.242    0.772   -4.275\n",
       "187  Topic10  1.181        shall  8.384    0.724   -4.029\n",
       "44   Topic10  0.531         deny  3.565    0.780   -4.827\n",
       "226  Topic10  0.901         work  8.414    0.449   -4.300\n",
       "101  Topic10  0.771         know  7.304    0.435   -4.455\n",
       "177  Topic10  0.810        right  8.091    0.383   -4.405\n",
       "147  Topic10  0.869       people 14.195   -0.110   -4.335\n",
       "157  Topic10  0.578    president  4.694    0.590   -4.743\n",
       "\n",
       "[398 rows x 6 columns], token_table=      Topic  Freq             Term\n",
       "term                              \n",
       "0         6 0.581              act\n",
       "0        10 0.194              act\n",
       "1         2 0.279           action\n",
       "1         3 0.279           action\n",
       "1         4 0.279           action\n",
       "2         3 0.710   administration\n",
       "3         2 0.613          america\n",
       "3         8 0.245          america\n",
       "3         9 0.123          america\n",
       "4         1 0.267         american\n",
       "4         4 0.533         american\n",
       "5         1 0.408  american people\n",
       "5         4 0.408  american people\n",
       "6         2 0.678        americans\n",
       "6         8 0.170        americans\n",
       "7         2 0.394              ask\n",
       "7         3 0.197              ask\n",
       "7         4 0.197              ask\n",
       "7         9 0.197              ask\n",
       "8        10 0.734        authority\n",
       "9         3 0.338          balance\n",
       "9         5 0.338          balance\n",
       "10        1 0.853             bear\n",
       "11        6 0.595            begin\n",
       "11        8 0.397            begin\n",
       "12        6 0.709          believe\n",
       "13        4 0.448         blessing\n",
       "14        6 0.870            break\n",
       "15        5 0.798            bring\n",
       "16        4 0.295             care\n",
       "...     ...   ...              ...\n",
       "219       3 0.352            vital\n",
       "220       1 0.162              war\n",
       "220       2 0.487              war\n",
       "220       5 0.162              war\n",
       "220       6 0.162              war\n",
       "221       4 0.255              way\n",
       "221       5 0.509              way\n",
       "222       7 0.391          willing\n",
       "222       8 0.391          willing\n",
       "223       4 0.389             wish\n",
       "223       7 0.389             wish\n",
       "224       5 0.638            woman\n",
       "225       1 0.176             word\n",
       "225       2 0.352             word\n",
       "225       7 0.176             word\n",
       "226       3 0.119             work\n",
       "226       7 0.594             work\n",
       "226       8 0.119             work\n",
       "226      10 0.119             work\n",
       "227       1 0.156            world\n",
       "227       2 0.078            world\n",
       "227       5 0.078            world\n",
       "227       6 0.078            world\n",
       "227       7 0.390            world\n",
       "227       9 0.078            world\n",
       "228       2 0.590            write\n",
       "229       7 0.258             year\n",
       "229       9 0.516             year\n",
       "230       1 0.659            young\n",
       "230       5 0.329            young\n",
       "\n",
       "[496 rows x 3 columns], R=30, lambda_step=0.01, plot_opts={'xlab': 'PC1', 'ylab': 'PC2'}, topic_order=[3, 7, 1, 8, 6, 2, 4, 9, 5, 10])"
      ]
     },
     "execution_count": 42,
     "metadata": {},
     "output_type": "execute_result"
    }
   ],
   "source": [
    "pyLDAvis.sklearn.prepare(lda_tfidf, dtm_tfidf, tfidf)"
   ]
  },
  {
   "cell_type": "code",
   "execution_count": 43,
   "metadata": {
    "ExecuteTime": {
     "end_time": "2019-08-15T02:54:26.218343Z",
     "start_time": "2019-08-15T02:54:19.999043Z"
    }
   },
   "outputs": [
    {
     "name": "stderr",
     "output_type": "stream",
     "text": [
      "/Users/danmchenry/miniconda3/lib/python3.7/site-packages/pyLDAvis/_prepare.py:257: FutureWarning: Sorting because non-concatenation axis is not aligned. A future version\n",
      "of pandas will change to not sort by default.\n",
      "\n",
      "To accept the future behavior, pass 'sort=False'.\n",
      "\n",
      "To retain the current behavior and silence the warning, pass 'sort=True'.\n",
      "\n",
      "  return pd.concat([default_term_info] + list(topic_dfs))\n"
     ]
    },
    {
     "data": {
      "text/html": [
       "\n",
       "<link rel=\"stylesheet\" type=\"text/css\" href=\"https://cdn.rawgit.com/bmabey/pyLDAvis/files/ldavis.v1.0.0.css\">\n",
       "\n",
       "\n",
       "<div id=\"ldavis_el15502112286303360126354570\"></div>\n",
       "<script type=\"text/javascript\">\n",
       "\n",
       "var ldavis_el15502112286303360126354570_data = {\"mdsDat\": {\"x\": [-0.13241687723699236, 0.14897898305343413, -0.17148525854323127, 0.10018910938677868, 0.24309915803866156, 0.2943409055026884, -0.054204058127273726, 0.028518387941213252, -0.2793417357743509, -0.17767861424092768], \"y\": [-0.07515432103646906, 0.2675984796884675, 0.14670809623081865, -0.007144634891094056, -0.19029548040375432, 0.08289056194969864, 0.23699532763789619, -0.25356248913025436, 0.025937373644297736, -0.2339729136896069], \"topics\": [1, 2, 3, 4, 5, 6, 7, 8, 9, 10], \"cluster\": [1, 1, 1, 1, 1, 1, 1, 1, 1, 1], \"Freq\": [15.031848357770066, 13.044283893904506, 11.108143856093273, 10.375948228912721, 10.048121236192188, 8.931944579036506, 8.899696240770337, 8.756823561864321, 7.274310538678895, 6.528879506777178]}, \"tinfo\": {\"Category\": [\"Default\", \"Default\", \"Default\", \"Default\", \"Default\", \"Default\", \"Default\", \"Default\", \"Default\", \"Default\", \"Default\", \"Default\", \"Default\", \"Default\", \"Default\", \"Default\", \"Default\", \"Default\", \"Default\", \"Default\", \"Default\", \"Default\", \"Default\", \"Default\", \"Default\", \"Default\", \"Default\", \"Default\", \"Default\", \"Default\", \"Topic1\", \"Topic1\", \"Topic1\", \"Topic1\", \"Topic1\", \"Topic1\", \"Topic1\", \"Topic1\", \"Topic1\", \"Topic1\", \"Topic1\", \"Topic1\", \"Topic1\", \"Topic1\", \"Topic1\", \"Topic1\", \"Topic1\", \"Topic1\", \"Topic1\", \"Topic1\", \"Topic1\", \"Topic1\", \"Topic1\", \"Topic1\", \"Topic1\", \"Topic1\", \"Topic1\", \"Topic1\", \"Topic1\", \"Topic1\", \"Topic1\", \"Topic1\", \"Topic1\", \"Topic1\", \"Topic1\", \"Topic1\", \"Topic1\", \"Topic1\", \"Topic1\", \"Topic1\", \"Topic1\", \"Topic1\", \"Topic1\", \"Topic1\", \"Topic2\", \"Topic2\", \"Topic2\", \"Topic2\", \"Topic2\", \"Topic2\", \"Topic2\", \"Topic2\", \"Topic2\", \"Topic2\", \"Topic2\", \"Topic2\", \"Topic2\", \"Topic2\", \"Topic2\", \"Topic2\", \"Topic2\", \"Topic2\", \"Topic2\", \"Topic2\", \"Topic2\", \"Topic2\", \"Topic2\", \"Topic2\", \"Topic2\", \"Topic2\", \"Topic2\", \"Topic2\", \"Topic2\", \"Topic2\", \"Topic2\", \"Topic2\", \"Topic2\", \"Topic2\", \"Topic2\", \"Topic2\", \"Topic2\", \"Topic3\", \"Topic3\", \"Topic3\", \"Topic3\", \"Topic3\", \"Topic3\", \"Topic3\", \"Topic3\", \"Topic3\", \"Topic3\", \"Topic3\", \"Topic3\", \"Topic3\", \"Topic3\", \"Topic3\", \"Topic3\", \"Topic3\", \"Topic3\", \"Topic3\", \"Topic3\", \"Topic3\", \"Topic3\", \"Topic3\", \"Topic3\", \"Topic3\", \"Topic3\", \"Topic3\", \"Topic3\", \"Topic3\", \"Topic3\", \"Topic3\", \"Topic3\", \"Topic3\", \"Topic3\", \"Topic3\", \"Topic3\", \"Topic3\", \"Topic3\", \"Topic3\", \"Topic3\", \"Topic3\", \"Topic3\", \"Topic3\", \"Topic4\", \"Topic4\", \"Topic4\", \"Topic4\", \"Topic4\", \"Topic4\", \"Topic4\", \"Topic4\", \"Topic4\", \"Topic4\", \"Topic4\", \"Topic4\", \"Topic4\", \"Topic4\", \"Topic4\", \"Topic4\", \"Topic4\", \"Topic4\", \"Topic4\", \"Topic4\", \"Topic4\", \"Topic4\", \"Topic4\", \"Topic4\", \"Topic4\", \"Topic4\", \"Topic4\", \"Topic4\", \"Topic4\", \"Topic4\", \"Topic4\", \"Topic4\", \"Topic4\", \"Topic4\", \"Topic4\", \"Topic4\", \"Topic4\", \"Topic4\", \"Topic4\", \"Topic5\", \"Topic5\", \"Topic5\", \"Topic5\", \"Topic5\", \"Topic5\", \"Topic5\", \"Topic5\", \"Topic5\", \"Topic5\", \"Topic5\", \"Topic5\", \"Topic5\", \"Topic5\", \"Topic5\", \"Topic5\", \"Topic5\", \"Topic5\", \"Topic5\", \"Topic5\", \"Topic5\", \"Topic5\", \"Topic5\", \"Topic5\", \"Topic5\", \"Topic5\", \"Topic5\", \"Topic5\", \"Topic5\", \"Topic5\", \"Topic5\", \"Topic5\", \"Topic5\", \"Topic5\", \"Topic5\", \"Topic6\", \"Topic6\", \"Topic6\", \"Topic6\", \"Topic6\", \"Topic6\", \"Topic6\", \"Topic6\", \"Topic6\", \"Topic6\", \"Topic6\", \"Topic6\", \"Topic6\", \"Topic6\", \"Topic6\", \"Topic6\", \"Topic6\", \"Topic6\", \"Topic6\", \"Topic6\", \"Topic6\", \"Topic6\", \"Topic6\", \"Topic6\", \"Topic6\", \"Topic6\", \"Topic6\", \"Topic6\", \"Topic6\", \"Topic6\", \"Topic6\", \"Topic6\", \"Topic6\", \"Topic6\", \"Topic7\", \"Topic7\", \"Topic7\", \"Topic7\", \"Topic7\", \"Topic7\", \"Topic7\", \"Topic7\", \"Topic7\", \"Topic7\", \"Topic7\", \"Topic7\", \"Topic7\", \"Topic7\", \"Topic7\", \"Topic7\", \"Topic7\", \"Topic7\", \"Topic7\", \"Topic7\", \"Topic7\", \"Topic7\", \"Topic7\", \"Topic7\", \"Topic7\", \"Topic7\", \"Topic7\", \"Topic7\", \"Topic7\", \"Topic7\", \"Topic7\", \"Topic7\", \"Topic7\", \"Topic7\", \"Topic7\", \"Topic7\", \"Topic7\", \"Topic7\", \"Topic7\", \"Topic8\", \"Topic8\", \"Topic8\", \"Topic8\", \"Topic8\", \"Topic8\", \"Topic8\", \"Topic8\", \"Topic8\", \"Topic8\", \"Topic8\", \"Topic8\", \"Topic8\", \"Topic8\", \"Topic8\", \"Topic8\", \"Topic8\", \"Topic8\", \"Topic8\", \"Topic8\", \"Topic8\", \"Topic8\", \"Topic8\", \"Topic8\", \"Topic8\", \"Topic8\", \"Topic8\", \"Topic8\", \"Topic8\", \"Topic8\", \"Topic8\", \"Topic8\", \"Topic8\", \"Topic8\", \"Topic8\", \"Topic8\", \"Topic8\", \"Topic8\", \"Topic8\", \"Topic8\", \"Topic9\", \"Topic9\", \"Topic9\", \"Topic9\", \"Topic9\", \"Topic9\", \"Topic9\", \"Topic9\", \"Topic9\", \"Topic9\", \"Topic9\", \"Topic9\", \"Topic9\", \"Topic9\", \"Topic9\", \"Topic9\", \"Topic9\", \"Topic9\", \"Topic9\", \"Topic9\", \"Topic9\", \"Topic9\", \"Topic9\", \"Topic9\", \"Topic9\", \"Topic9\", \"Topic9\", \"Topic9\", \"Topic9\", \"Topic9\", \"Topic9\", \"Topic9\", \"Topic9\", \"Topic9\", \"Topic9\", \"Topic9\", \"Topic9\", \"Topic10\", \"Topic10\", \"Topic10\", \"Topic10\", \"Topic10\", \"Topic10\", \"Topic10\", \"Topic10\", \"Topic10\", \"Topic10\", \"Topic10\", \"Topic10\", \"Topic10\", \"Topic10\", \"Topic10\", \"Topic10\", \"Topic10\", \"Topic10\", \"Topic10\", \"Topic10\", \"Topic10\", \"Topic10\", \"Topic10\", \"Topic10\", \"Topic10\", \"Topic10\", \"Topic10\", \"Topic10\", \"Topic10\", \"Topic10\", \"Topic10\", \"Topic10\", \"Topic10\", \"Topic10\", \"Topic10\", \"Topic10\", \"Topic10\", \"Topic10\", \"Topic10\", \"Topic10\", \"Topic10\", \"Topic10\"], \"Freq\": [31.0, 26.0, 21.0, 40.0, 23.0, 29.0, 14.0, 20.0, 18.0, 32.0, 41.0, 30.0, 17.0, 19.0, 26.0, 13.0, 9.0, 11.0, 36.0, 19.0, 34.0, 10.0, 11.0, 7.0, 53.0, 11.0, 22.0, 17.0, 21.0, 8.0, 5.526818631803358, 4.620810414217703, 4.620799381476825, 4.6207698704337, 12.705969216384585, 4.620828085043043, 4.62081135703992, 3.71477679062366, 3.520175921667335, 4.6206738126253555, 4.406669917436042, 3.714782773273446, 3.714625206087907, 6.212477908547446, 6.432847301425154, 15.845003872914575, 4.248691651039285, 2.808629987133013, 2.8087415124999855, 2.8087328721096876, 2.8087298883951957, 4.523167773947964, 3.6307115493513065, 8.474564292949795, 4.6208501705516545, 4.109640209089674, 2.8087366909689084, 2.808682123066633, 3.534228303988098, 23.204274803068486, 6.244545459748539, 6.801132824953896, 9.685445990020442, 3.714775107495276, 8.276083735305571, 6.683933607914192, 5.907422900280887, 4.8890395477178625, 4.564183249475403, 4.834689745077338, 4.496262856384598, 4.422775204660651, 3.959408318768813, 3.9649719993521257, 8.071505561278425, 11.619456675314966, 8.942146219449858, 15.451973619515956, 6.297579242518929, 13.349179602601982, 8.071488552586755, 3.6366144260486966, 3.636604067069523, 8.958466461772264, 10.51089119852423, 8.054707037222576, 4.523625021756585, 3.362639868280841, 8.815385375667768, 5.259925630657137, 11.539955782040343, 9.209589978692023, 7.002192769296974, 2.749638505770716, 5.882308410257527, 4.523599761857294, 3.1871687855981183, 6.6373207216543735, 6.297449884071087, 2.749666174674618, 2.339272192537456, 1.8626443854583274, 1.862651428517955, 3.772773383908122, 4.523532272464019, 3.972602650865776, 3.6366772056333456, 5.011147727644335, 4.600179024652347, 4.805216762927178, 4.767260331773235, 6.404430032590803, 5.502389575597862, 4.6003623891826555, 4.600344085304123, 4.595857865269375, 6.3147539156122106, 6.4043520972731525, 4.600366132458861, 3.5009971134353144, 2.733999790715042, 2.685147238940611, 9.66873246464607, 6.2371984415456305, 2.7963082264616226, 2.7963068716491564, 14.653896425620246, 4.462038149322791, 5.502496501293363, 2.6482793306833456, 9.593190202839994, 1.8942640275555416, 1.894267332667259, 1.8942217418417004, 1.8942819859019355, 2.796301414706829, 6.322726567372069, 1.8942645732610564, 1.8942268233864143, 1.8148180377164371, 2.5992974545844616, 3.9811887945065636, 3.698340183760989, 9.476919451657146, 7.252715446931073, 5.812133807501715, 8.212368041231727, 2.7962887244080923, 3.5177284284966914, 3.1476716671062714, 2.9985408945857244, 3.2303827937907608, 3.035974737667835, 2.796359417022102, 4.603308333645191, 5.505947175982663, 4.603317288483247, 5.505981653834378, 3.4256676925125813, 4.550533621746271, 3.700695224016706, 3.671571733223989, 4.603333014007572, 2.7980645564434776, 2.798131811712372, 3.700705522808136, 20.00660775607451, 13.743163771797288, 3.7006981790331808, 2.4229042667971843, 5.238986832175565, 2.213769671743626, 7.4287531426249265, 1.8954651005969416, 1.895518872867236, 1.8954946050700623, 1.89550487887831, 1.8954617345346962, 1.8954896949091993, 1.895470758941329, 1.8954593122428414, 3.700727174151639, 3.7007909669010814, 3.089210726979426, 4.97626341218144, 4.869436606411853, 3.7007251471135922, 2.798112775420635, 3.9231138478969863, 2.7980852813114403, 2.6134679126773697, 2.035922345774892, 2.234194775364405, 24.420428865923757, 6.407170785225317, 4.602324599348553, 8.959143065881403, 5.504736811825806, 7.230159068672989, 3.699915519742902, 4.602455989068986, 4.602419287127338, 2.7974992130200547, 2.7974691228475446, 3.699886789844884, 2.7974848993023316, 3.6999113845144174, 2.797512067057218, 2.7975048555516033, 2.7975276695821214, 11.469670311137534, 9.454092287998026, 2.2417958847834702, 4.602369374709474, 6.943009662435604, 1.895046586888788, 1.8950899506591803, 2.6325784323020365, 2.5440143254653145, 4.479756274353095, 1.8949872545120612, 3.6998975057399277, 1.7292595022756636, 3.1592248180810367, 2.79752963408315, 2.797499728651234, 3.0189916765738207, 3.420565925747742, 6.529629858250646, 5.609976640353573, 5.450722326272772, 4.690370555438839, 4.671631734042217, 6.4837341468112495, 3.770660832667409, 3.770669598089866, 15.51972395127999, 3.5325298489470396, 4.690375318110435, 11.89464344431512, 2.8509883165080927, 3.7706448700397863, 4.690334371768874, 3.7706809539520045, 4.211039233655937, 2.63626460704656, 2.636263566945669, 2.4353295420008476, 2.850973226221135, 12.81511470963393, 2.850969731358753, 1.9313134843149975, 2.8510424697826307, 1.9313305474893916, 7.215498307140106, 2.8509624377670377, 1.4370824080900328, 4.329867748148728, 2.975941743981439, 3.07724093047728, 3.336345171038553, 3.547634679173283, 8.490200376269947, 8.490287435652672, 3.825250577343371, 5.190226451151609, 7.1777945817733295, 2.8922749519604074, 3.8253111022494872, 3.8162533403213326, 5.312987501893362, 3.825279683249423, 2.892334876199138, 2.8923157132227564, 3.569729695878086, 2.3471045263135952, 4.504835326357804, 2.879676779512557, 1.9593138044989917, 1.9592823726740098, 1.9592533027243058, 2.8922755033179777, 3.8253469357561065, 1.9592527067424368, 1.9592862042427448, 1.659184366026607, 12.387770381549196, 1.6008638633852856, 1.9592821315150035, 1.9592419357912214, 1.959299058139526, 3.1682169918248833, 8.46859896666574, 5.426540051219347, 3.3238384076406513, 2.1768076262118248, 2.892332819749406, 2.5395801704561047, 2.8923324363528957, 2.2037413764205556, 1.9593554722397184, 12.743040602416661, 7.202052307289449, 4.609175792156488, 5.5129533671072455, 4.609247057164727, 4.609237161519013, 4.609211297926941, 3.7054544741056707, 3.7054062569678106, 5.512943761031373, 4.4685497268542544, 2.8016639542554933, 2.8016706034502326, 2.8016841852735963, 3.7054376193001675, 3.705383414378534, 1.8979207188767835, 1.8978905439410172, 1.8978627661592788, 7.249858515927858, 4.483463596960328, 1.8978907840667256, 1.8978594227093974, 1.8979260042117425, 2.269107124362566, 3.6314396045993407, 1.4267711232772682, 1.8979027831396, 1.8978825444562872, 2.801659612669191, 5.626666533344728, 3.703525099673951, 2.4797547992223885, 4.46010905590944, 4.224990071513478, 2.801659356822763, 3.7054612510200347, 2.8016575493178224, 3.626294320805681, 2.8015057367412473, 3.8061755460844973, 5.629233034828627, 19.978396739386795, 3.806229893199173, 4.734619429575547, 2.8778693112295666, 3.8062273645935742, 2.87786083567128, 2.87784932998756, 3.8062501494979366, 3.8062910436569273, 2.877869544372775, 2.877851388741598, 1.949471783287502, 1.9495721680152862, 1.9495494153768005, 2.704473271877392, 2.877908818245598, 3.6870035806101966, 1.949541604648862, 3.7705322348903025, 1.9495321884436614, 1.9494749194349497, 1.9495158107251997, 4.635469828626655, 1.0211617415245637, 1.0211777146693155, 1.0211731450636818, 1.021194948669542, 2.8779852448684218, 2.4849596139486567, 6.39713605334935, 4.303968241659523, 2.1145521033310746, 3.344624653981942, 2.834554713526644, 1.9495386412119742, 6.602016594475343, 3.8124962011932535, 5.672164502195855, 13.831082828098062, 4.733149040590846, 5.483202536754134, 4.578478023348069, 4.599272112823372, 5.669153225164456, 4.720248516326595, 1.882701758919033, 4.815062448016986, 1.9527480824341608, 2.6665270982561116, 2.882568024790039, 1.8327591268976942, 1.9527718900712272, 1.2262760381487054, 1.0228491373721817, 1.0227935378524082, 1.0228552664772206, 1.0228591880941071, 1.0228735019392203, 1.0227965326559905, 1.0228676384195674, 1.0228234208452565, 1.02285028371962, 1.022844424558348, 1.0228511674338816, 1.022875750999561, 3.812535585956766, 2.654284608566152, 3.653573719527518, 3.281083667706467, 2.396868234719927, 2.88257959902153, 2.345427360050442, 1.1446628072353828, 1.1828822372425785, 1.069355716315056, 1.0919172954178793, 1.084783731718526], \"Term\": [\"time\", \"let\", \"day\", \"world\", \"right\", \"free\", \"god\", \"freedom\", \"fellow\", \"man\", \"government\", \"good\", \"citizen\", \"new\", \"shall\", \"president\", \"present\", \"union\", \"nation\", \"america\", \"make\", \"begin\", \"public\", \"think\", \"people\", \"united\", \"power\", \"peace\", \"life\", \"heart\", \"special\", \"hear\", \"grow\", \"summon\", \"peace\", \"economic\", \"political\", \"merely\", \"strive\", \"young\", \"pledge\", \"administration\", \"tell\", \"help\", \"public\", \"good\", \"earth\", \"idea\", \"safety\", \"decision\", \"american people\", \"service\", \"security\", \"need\", \"year\", \"principle\", \"discipline\", \"individual\", \"equal\", \"people\", \"come\", \"hope\", \"make\", \"thank\", \"government\", \"nation\", \"man\", \"day\", \"power\", \"time\", \"free\", \"shall\", \"strength\", \"world\", \"say\", \"president\", \"fellow citizen\", \"fellow\", \"speak\", \"citizen\", \"land\", \"task\", \"express\", \"change\", \"today\", \"meet\", \"write\", \"continue\", \"americans\", \"provision\", \"america\", \"constitution\", \"law\", \"hero\", \"face\", \"purpose\", \"challenge\", \"word\", \"hand\", \"deny\", \"little\", \"serve\", \"balance\", \"hold\", \"war\", \"force\", \"strength\", \"power\", \"new\", \"great\", \"make\", \"federal\", \"believe\", \"break\", \"dark\", \"child\", \"generation\", \"act\", \"bear\", \"like\", \"preserve\", \"pass\", \"new\", \"mean\", \"live\", \"order\", \"nation\", \"hold\", \"states\", \"revolution\", \"great\", \"danger\", \"trade\", \"free man\", \"trust\", \"community\", \"freedom\", \"sense\", \"success\", \"true\", \"moment\", \"war\", \"change\", \"government\", \"world\", \"time\", \"people\", \"united\", \"know\", \"word\", \"need\", \"man\", \"free\", \"law\", \"sound\", \"require\", \"lose\", \"respect\", \"progress\", \"sacrifice\", \"party\", \"produce\", \"seek\", \"trade\", \"spirit\", \"responsibility\", \"world\", \"free\", \"measure\", \"patriotism\", \"duty\", \"mind\", \"work\", \"crisis\", \"peaceful\", \"job\", \"reach\", \"far\", \"confidence\", \"strong\", \"value\", \"force\", \"mean\", \"face\", \"know\", \"new\", \"americans\", \"friend\", \"nation\", \"citizen\", \"good\", \"leadership\", \"right\", \"let\", \"understand\", \"remember\", \"begin\", \"high\", \"support\", \"fear\", \"remain\", \"case\", \"danger\", \"crisis\", \"end\", \"restore\", \"congress\", \"true\", \"far\", \"century\", \"shall\", \"power\", \"renew\", \"friend\", \"hope\", \"city\", \"reach\", \"oath\", \"liberty\", \"country\", \"father\", \"duty\", \"energy\", \"come\", \"meet\", \"faith\", \"america\", \"government\", \"state\", \"man woman\", \"woman\", \"labor\", \"material\", \"authority\", \"exercise\", \"factory\", \"right\", \"dare\", \"care\", \"freedom\", \"free man\", \"enemy\", \"constitutional\", \"moral\", \"vital\", \"circumstance\", \"conflict\", \"concern\", \"revolution\", \"man\", \"view\", \"deny\", \"act\", \"courage\", \"free\", \"friend\", \"little\", \"work\", \"country\", \"need\", \"world\", \"people\", \"present\", \"union\", \"point\", \"way\", \"old\", \"balance\", \"form\", \"lie\", \"national\", \"measure\", \"success\", \"value\", \"action\", \"patriotism\", \"thing\", \"courage\", \"leave\", \"bring\", \"destroy\", \"community\", \"common\", \"order\", \"offer\", \"instrument\", \"government\", \"renew\", \"home\", \"effort\", \"security\", \"duty\", \"make\", \"shall\", \"constitution\", \"light\", \"nation\", \"life\", \"people\", \"good\", \"work\", \"god\", \"difference\", \"reject\", \"endure\", \"love\", \"choose\", \"effort\", \"father\", \"fact\", \"ask\", \"leadership\", \"city\", \"blessing\", \"sense\", \"thank\", \"use\", \"willing\", \"opinion\", \"hard\", \"life\", \"faith\", \"discipline\", \"turn\", \"confidence\", \"earth\", \"history\", \"necessary\", \"enemy\", \"form\", \"help\", \"good\", \"know\", \"national\", \"nation\", \"make\", \"country\", \"great\", \"hand\", \"man\", \"people\", \"leader\", \"question\", \"time\", \"protect\", \"just\", \"serve\", \"rule\", \"destroy\", \"bring\", \"oath\", \"possible\", \"strong\", \"congress\", \"return\", \"tell\", \"energy\", \"use\", \"light\", \"history\", \"young\", \"faith\", \"executive\", \"heart\", \"place\", \"life\", \"express\", \"hero\", \"preserve\", \"job\", \"hand\", \"word\", \"people\", \"make\", \"country\", \"world\", \"government\", \"work\", \"think\", \"prayer\", \"heart\", \"day\", \"united states\", \"future\", \"stand\", \"place\", \"united\", \"public\", \"opportunity\", \"states\", \"little\", \"moment\", \"year\", \"executive\", \"american\", \"like\", \"hero\", \"pass\", \"opinion\", \"restore\", \"spirit\", \"decision\", \"mind\", \"factory\", \"fact\", \"reject\", \"century\", \"individual\", \"great\", \"america\", \"man\", \"good\", \"life\", \"people\", \"government\", \"difference\", \"begin\", \"authority\", \"history\", \"constitution\"], \"Total\": [31.0, 26.0, 21.0, 40.0, 23.0, 29.0, 14.0, 20.0, 18.0, 32.0, 41.0, 30.0, 17.0, 19.0, 26.0, 13.0, 9.0, 11.0, 36.0, 19.0, 34.0, 10.0, 11.0, 7.0, 53.0, 11.0, 22.0, 17.0, 21.0, 8.0, 6.347736705901246, 5.4416926203476885, 5.44169284281954, 5.441693023625985, 17.17501441680525, 6.371555852304759, 6.371555710715249, 5.438071221586891, 5.471554304778566, 7.298376438213891, 7.230475257768538, 6.309611300012372, 6.392329895391472, 10.866542536987417, 11.902452693510465, 30.02392241145245, 8.15088703684663, 5.418620155510946, 5.4359764429305075, 5.4618904753776345, 5.465020108640894, 9.097539543999158, 7.304932498593321, 17.208171491953596, 10.062234417587211, 9.020253416567757, 6.339547823154973, 6.363925954584837, 8.1681659563616, 53.760035129338576, 14.554314491668253, 18.1180417253304, 34.71330571484354, 9.053111720460763, 41.193030697271986, 36.22495585172359, 32.83177182680904, 21.248360657472404, 22.50403710521002, 31.263081080639978, 29.039369515145168, 26.43642996108188, 11.769255574755604, 40.74476620651461, 8.894301585015906, 13.37521702655828, 10.68583338376633, 18.707944440062825, 8.053331306234458, 17.828677517734434, 11.66320193888018, 5.363156720484005, 5.387736952619085, 13.389419129450086, 16.097803167679775, 12.504478312369121, 7.172092585734538, 5.406601730572809, 14.296650344041844, 8.973947882688691, 19.738972229723576, 17.130852192997484, 13.465678098328596, 5.4306189484307055, 11.676673226386338, 9.926230373547087, 7.180323154181242, 15.311292669348362, 15.412494141071859, 7.216212073004193, 6.36693678505705, 5.470455043695695, 5.484412779353064, 11.68195570507279, 14.402086485728345, 12.621671423526356, 11.769255574755604, 22.50403710521002, 19.780679032030676, 27.14515599235186, 34.71330571484354, 7.225708905145031, 6.323675289633722, 5.421641123616263, 5.421641369222905, 6.354554777953804, 9.057979559932699, 10.887332921472993, 8.139773338938452, 6.388552007370329, 5.431854830967474, 5.451409535667774, 19.780679032030676, 13.527463369819483, 6.35800189894989, 6.386170585555424, 36.22495585172359, 11.68195570507279, 14.652168142162811, 7.279070605009832, 27.14515599235186, 5.422807980236425, 5.423375450192413, 5.474550743777818, 5.48291644038137, 8.221775469873657, 20.967600380716576, 6.3598126118264675, 6.40150207140228, 6.308464630131686, 9.112957723808686, 14.402086485728345, 13.389419129450086, 41.193030697271986, 40.74476620651461, 31.263081080639978, 53.760035129338576, 11.914855162609683, 19.049579573942857, 15.311292669348362, 17.208171491953596, 32.83177182680904, 29.039369515145168, 13.465678098328596, 5.42453100010785, 7.229565610237726, 6.357523444402296, 8.135609273105938, 5.429008914411689, 7.2368199004871245, 6.311323247559022, 6.353514273710402, 8.192939499246267, 5.423375450192413, 5.455215762987805, 7.255850066307308, 40.74476620651461, 29.039369515145168, 8.253890771698693, 5.49792159673912, 12.74479777935413, 5.4626962657111395, 20.05920073153849, 5.423964183083927, 5.431206240206988, 5.43806139199567, 5.454533134290425, 6.310946473041463, 6.345920066190876, 6.40375004710427, 6.419435602218702, 12.621671423526356, 13.527463369819483, 11.676673226386338, 19.049579573942857, 19.780679032030676, 14.296650344041844, 11.823422976016044, 36.22495585172359, 17.828677517734434, 30.02392241145245, 8.141362314204354, 23.72141114252125, 26.180702551150954, 7.228432568703686, 5.423586684777641, 10.870287028474669, 7.229769833689193, 9.938899424567833, 5.423775651122684, 7.216612636161427, 8.137708629043647, 5.422807980236425, 5.423964183083927, 7.2133694551570935, 5.454649434419302, 7.306183420193599, 6.308464630131686, 6.310946473041463, 6.360692440267243, 26.43642996108188, 22.50403710521002, 5.457541221131233, 11.823422976016044, 18.1180417253304, 5.427598520658352, 5.454533134290425, 8.236107138428416, 8.118914865705472, 14.562698627059147, 6.331358911485723, 12.74479777935413, 6.417653134006158, 14.554314491668253, 12.504478312369121, 14.564740383082407, 19.738972229723576, 41.193030697271986, 7.349163287326421, 6.429493261625887, 7.333177629871352, 6.413584534658388, 6.396140272315467, 9.166521064790825, 5.47713555851621, 5.52001632672527, 23.72141114252125, 5.4686703181231255, 7.372678470077528, 20.967600380716576, 5.474550743777818, 7.303717630562826, 9.088242573291595, 7.353519453375749, 8.244370101901787, 5.45609366989922, 5.472873535040903, 5.498707554890585, 7.279070605009832, 32.83177182680904, 7.336460700386315, 7.216212073004193, 10.887332921472993, 7.383810964218152, 29.039369515145168, 11.823422976016044, 6.36693678505705, 20.05920073153849, 14.562698627059147, 17.208171491953596, 40.74476620651461, 53.760035129338576, 9.30840690391146, 11.147749054341665, 5.563112841631201, 8.282708515569816, 12.932060268051654, 5.484412779353064, 7.33794720649697, 7.380178584348683, 10.987688340161927, 8.253890771698693, 6.40150207140228, 6.419435602218702, 8.232394476529192, 5.49792159673912, 11.029092971869462, 7.383810964218152, 5.491580803526866, 5.56247783048665, 5.562477017452219, 8.221775469873657, 11.01367242403967, 6.386170585555424, 6.41425676357434, 5.471732379696974, 41.193030697271986, 5.457541221131233, 7.284132945044879, 7.296257658042696, 7.304932498593321, 12.74479777935413, 34.71330571484354, 26.43642996108188, 17.130852192997484, 10.089297723972386, 36.22495585172359, 21.922251116581677, 53.760035129338576, 30.02392241145245, 20.05920073153849, 14.4939778144747, 9.07483741850627, 6.36013676806134, 8.107997660749815, 7.234341391838945, 7.245593768790332, 7.296257658042696, 6.331358911485723, 6.3587994988651495, 10.004865695230338, 8.141362314204354, 5.427598520658352, 5.457779426461651, 6.3598126118264675, 9.053111720460763, 9.14640535392548, 5.433693074691483, 5.453502098982787, 5.464074016535208, 21.922251116581677, 14.564740383082407, 6.339547823154973, 6.344639430322295, 6.345920066190876, 8.15088703684663, 13.681520142215195, 5.461831825279864, 7.303717630562826, 7.33794720649697, 10.866542536987417, 30.02392241145245, 19.049579573942857, 10.987688340161927, 36.22495585172359, 34.71330571484354, 14.562698627059147, 27.14515599235186, 15.412494141071859, 32.83177182680904, 53.760035129338576, 5.55782473271579, 8.285610263269884, 31.263081080639978, 6.433489338671599, 8.260432691223452, 5.470455043695695, 7.342965415689475, 5.562477017452219, 5.56247783048665, 8.236107138428416, 8.251181401290152, 6.40375004710427, 7.306183420193599, 5.492465771865074, 6.392329895391472, 6.417653134006158, 9.14640535392548, 10.089297723972386, 13.681520142215195, 7.298376438213891, 14.564740383082407, 8.239308624837372, 8.347333346629796, 9.218502008112065, 21.922251116581677, 5.387736952619085, 5.4306189484307055, 5.431854830967474, 5.43806139199567, 15.412494141071859, 15.311292669348362, 53.760035129338576, 34.71330571484354, 14.562698627059147, 40.74476620651461, 41.193030697271986, 20.05920073153849, 7.420516884978376, 5.53468832722353, 8.347333346629796, 21.248360657472404, 7.364757793302482, 9.222752088213888, 8.247540820658688, 9.218502008112065, 11.914855162609683, 11.902452693510465, 5.55243797474531, 14.652168142162811, 6.36693678505705, 9.112957723808686, 10.062234417587211, 8.239308624837372, 9.1113661492137, 6.388552007370329, 5.4306189484307055, 5.451409535667774, 5.453502098982787, 5.454649434419302, 5.455215762987805, 5.4618904753776345, 5.4626962657111395, 5.52001632672527, 6.3587994988651495, 6.36013676806134, 6.360692440267243, 6.363925954584837, 27.14515599235186, 19.738972229723576, 32.83177182680904, 30.02392241145245, 21.922251116581677, 53.760035129338576, 41.193030697271986, 9.07483741850627, 10.870287028474669, 9.166521064790825, 13.681520142215195, 17.130852192997484], \"loglift\": [30.0, 29.0, 28.0, 27.0, 26.0, 25.0, 24.0, 23.0, 22.0, 21.0, 20.0, 19.0, 18.0, 17.0, 16.0, 15.0, 14.0, 13.0, 12.0, 11.0, 10.0, 9.0, 8.0, 7.0, 6.0, 5.0, 4.0, 3.0, 2.0, 1.0, 1.7565, 1.7315, 1.7315, 1.7315, 1.5936, 1.5737, 1.5737, 1.5139, 1.4539, 1.4379, 1.3998, 1.3652, 1.3522, 1.3359, 1.2797, 1.2559, 1.2435, 1.2379, 1.2347, 1.2299, 1.2294, 1.1962, 1.1959, 1.1867, 1.1168, 1.1089, 1.0809, 1.0771, 1.0572, 1.0548, 1.0488, 0.9152, 0.6185, 1.0042, 0.2901, 0.205, 0.1798, 0.4257, 0.2995, 0.0284, 0.0296, 0.107, 0.8056, -0.4348, 1.9397, 1.8961, 1.8587, 1.8456, 1.7909, 1.7475, 1.6687, 1.6483, 1.6437, 1.635, 1.6105, 1.597, 1.5759, 1.5619, 1.5533, 1.5026, 1.5, 1.4162, 1.3829, 1.3562, 1.3512, 1.2509, 1.2246, 1.2009, 1.1418, 1.072, 1.0355, 0.9595, 0.9569, 0.9066, 0.8787, 0.8808, 0.8624, 0.5348, 0.5782, 0.3053, 0.0515, 2.0768, 2.0584, 2.0332, 2.0332, 1.8735, 1.8367, 1.6669, 1.6269, 1.596, 1.511, 1.4894, 1.4817, 1.4233, 1.3761, 1.3717, 1.2924, 1.2351, 1.2181, 1.1864, 1.1573, 1.1457, 1.1456, 1.1362, 1.1347, 1.119, 0.9987, 0.9863, 0.9798, 0.9516, 0.943, 0.9117, 0.9109, 0.7281, 0.4715, 0.515, 0.3186, 0.748, 0.5083, 0.6156, 0.4502, -0.1213, -0.0606, 0.6257, 2.1015, 1.9933, 1.9428, 1.8753, 1.8052, 1.8017, 1.7319, 1.7173, 1.6892, 1.6039, 1.5981, 1.5924, 1.5544, 1.5176, 1.4635, 1.4463, 1.3767, 1.3624, 1.2723, 1.2143, 1.213, 1.2117, 1.2087, 1.0629, 1.0573, 1.0483, 1.0458, 1.0388, 0.9695, 0.936, 0.9233, 0.864, 0.9142, 0.8245, 0.0428, 0.4138, -0.1756, 0.8797, -0.0968, 2.2282, 2.1772, 2.1336, 2.1044, 2.0252, 1.9796, 1.9153, 1.848, 1.7279, 1.6359, 1.6357, 1.6302, 1.63, 1.6174, 1.4846, 1.4842, 1.4764, 1.4627, 1.4305, 1.4081, 1.3543, 1.3386, 1.2455, 1.2406, 1.1572, 1.1373, 1.1189, 1.0915, 1.061, 0.9864, 0.7702, 0.8004, 0.6479, 0.4201, -0.1907, 2.2973, 2.2792, 2.1189, 2.1026, 2.1013, 2.0693, 2.0422, 2.0344, 1.9913, 1.9785, 1.9633, 1.8486, 1.7631, 1.7544, 1.7541, 1.7476, 1.7437, 1.6882, 1.6851, 1.6011, 1.4782, 1.4748, 1.4703, 1.0974, 1.0756, 1.0745, 1.0231, 0.9931, 0.927, 0.8824, 0.8276, 0.6942, -0.0869, -0.3027, 2.3271, 2.1468, 2.0446, 1.9518, 1.8304, 1.7793, 1.7677, 1.7596, 1.6925, 1.6501, 1.6247, 1.6219, 1.5836, 1.568, 1.5238, 1.4775, 1.3885, 1.3757, 1.3757, 1.3744, 1.3617, 1.2376, 1.2332, 1.2259, 1.2176, 1.1927, 1.106, 1.1043, 1.1032, 1.0272, 1.0084, 0.8357, 0.7794, 0.8855, -0.1085, 0.2636, -0.5033, -0.1927, 0.0931, 2.3066, 2.2042, 2.1133, 2.0496, 1.9846, 1.983, 1.976, 1.8996, 1.8953, 1.8394, 1.8354, 1.7741, 1.7685, 1.6156, 1.542, 1.5318, 1.3835, 1.3798, 1.3779, 1.3288, 1.2571, 1.2293, 1.2285, 1.2283, 1.1566, 1.1089, 1.093, 1.0877, 1.083, 1.0799, 0.7609, 0.7976, 0.9467, 0.3408, 0.3292, 0.7871, 0.4439, 0.7304, 0.2322, -0.519, 2.2422, 2.2343, 2.173, 2.0959, 2.0642, 1.9785, 1.9637, 1.9618, 1.9618, 1.8489, 1.8471, 1.821, 1.6891, 1.585, 1.4333, 1.4294, 1.4024, 1.3664, 1.3096, 1.3008, 1.2694, 1.1795, 1.1664, 1.0672, 1.0671, 0.9576, 0.9497, 0.9495, 0.9484, 0.9427, 0.8025, 0.4921, 0.5332, 0.6912, 0.1208, -0.0556, 0.2897, 2.6121, 2.3562, 2.3426, 2.2996, 2.2868, 2.209, 2.1404, 2.0336, 1.9862, 1.8041, 1.6474, 1.6161, 1.5471, 1.5, 1.4788, 1.2258, 1.1887, 1.0784, 1.0595, 1.0556, 1.0553, 1.0551, 1.055, 1.0537, 1.0536, 1.0431, 0.9017, 0.9015, 0.9014, 0.9009, 0.766, 0.7225, 0.5332, 0.5151, 0.5156, -0.1969, -0.1369, 0.6585, 0.5109, 0.5804, 0.2008, -0.0306], \"logprob\": [30.0, 29.0, 28.0, 27.0, 26.0, 25.0, 24.0, 23.0, 22.0, 21.0, 20.0, 19.0, 18.0, 17.0, 16.0, 15.0, 14.0, 13.0, 12.0, 11.0, 10.0, 9.0, 8.0, 7.0, 6.0, 5.0, 4.0, 3.0, 2.0, 1.0, -4.1365, -4.3155, -4.3155, -4.3155, -3.304, -4.3155, -4.3155, -4.5338, -4.5876, -4.3156, -4.363, -4.5338, -4.5338, -4.0195, -3.9847, -3.0832, -4.3995, -4.8134, -4.8134, -4.8134, -4.8134, -4.3369, -4.5567, -3.709, -4.3155, -4.4328, -4.8134, -4.8134, -4.5836, -2.7018, -4.0144, -3.929, -3.5755, -4.5338, -3.7327, -3.9464, -4.0699, -4.2591, -4.3279, -4.2703, -4.3429, -4.3593, -4.47, -4.4686, -3.6159, -3.2516, -3.5135, -2.9665, -3.8641, -3.1128, -3.6159, -4.4132, -4.4132, -3.5117, -3.3519, -3.618, -4.195, -4.4916, -3.5278, -4.0442, -3.2585, -3.484, -3.7581, -4.6928, -3.9323, -4.195, -4.5451, -3.8116, -3.8641, -4.6928, -4.8544, -5.0823, -5.0823, -4.3765, -4.195, -4.3249, -4.4132, -4.0926, -4.1782, -4.1346, -4.1425, -3.6866, -3.8384, -4.0175, -4.0175, -4.0185, -3.7007, -3.6866, -4.0175, -4.2906, -4.5378, -4.5559, -3.2747, -3.7131, -4.5153, -4.5153, -2.8589, -4.048, -3.8384, -4.5697, -3.2826, -4.9048, -4.9048, -4.9048, -4.9048, -4.5153, -3.6995, -4.9048, -4.9048, -4.9476, -4.5884, -4.162, -4.2357, -3.2947, -3.5622, -3.7837, -3.438, -4.5153, -4.2858, -4.3969, -4.4455, -4.371, -4.4331, -4.5153, -3.9486, -3.7696, -3.9486, -3.7696, -4.2441, -3.9602, -4.1669, -4.1748, -3.9486, -4.4465, -4.4465, -4.1669, -2.4794, -2.8549, -4.1669, -4.5905, -3.8193, -4.6807, -3.4701, -4.836, -4.8359, -4.8359, -4.8359, -4.836, -4.8359, -4.836, -4.836, -4.1669, -4.1669, -4.3475, -3.8707, -3.8924, -4.1669, -4.4465, -4.1085, -4.4465, -4.5147, -4.7645, -4.6715, -2.2479, -3.5859, -3.9168, -3.2506, -3.7377, -3.4651, -4.135, -3.9167, -3.9167, -4.4146, -4.4146, -4.135, -4.4146, -4.135, -4.4146, -4.4146, -4.4146, -3.0036, -3.1969, -4.636, -3.9167, -3.5056, -4.8041, -4.804, -4.4754, -4.5096, -3.9437, -4.8041, -4.135, -4.8956, -4.293, -4.4146, -4.4146, -4.3384, -4.2135, -3.4492, -3.601, -3.6298, -3.7801, -3.7841, -3.4563, -3.9983, -3.9983, -2.5835, -4.0635, -3.7801, -2.8495, -4.2779, -3.9983, -3.7801, -3.9983, -3.8879, -4.3562, -4.3562, -4.4355, -4.2779, -2.7749, -4.2779, -4.6674, -4.2779, -4.6674, -3.3493, -4.2779, -4.9629, -3.86, -4.235, -4.2015, -4.1207, -4.0593, -3.183, -3.183, -3.9803, -3.6752, -3.351, -4.2599, -3.9803, -3.9827, -3.6518, -3.9803, -4.2599, -4.2599, -4.0495, -4.4688, -3.8168, -4.2643, -4.6494, -4.6494, -4.6494, -4.2599, -3.9803, -4.6494, -4.6494, -4.8156, -2.8052, -4.8514, -4.6494, -4.6494, -4.6494, -4.1688, -3.1856, -3.6306, -4.1208, -4.5441, -4.2599, -4.3899, -4.2599, -4.5318, -4.6493, -2.7608, -3.3314, -3.7777, -3.5987, -3.7777, -3.7777, -3.7777, -3.996, -3.996, -3.5987, -3.8087, -4.2755, -4.2755, -4.2755, -3.996, -3.996, -4.665, -4.665, -4.665, -3.3248, -3.8054, -4.665, -4.665, -4.665, -4.4864, -4.0161, -4.9503, -4.665, -4.665, -4.2756, -3.5782, -3.9965, -4.3976, -3.8106, -3.8647, -4.2756, -3.996, -4.2756, -4.0176, -4.2756, -3.7837, -3.3923, -2.1256, -3.7836, -3.5654, -4.0632, -3.7836, -4.0632, -4.0632, -3.7836, -3.7836, -4.0632, -4.0632, -4.4527, -4.4527, -4.4527, -4.1254, -4.0632, -3.8155, -4.4527, -3.7931, -4.4527, -4.4527, -4.4527, -3.5865, -5.0993, -5.0993, -5.0993, -5.0993, -4.0632, -4.21, -3.2644, -3.6607, -4.3714, -3.9129, -4.0784, -4.4527, -3.1248, -3.6739, -3.2766, -2.3852, -3.4576, -3.3105, -3.4908, -3.4863, -3.2771, -3.4603, -4.3795, -3.4404, -4.3429, -4.0314, -3.9535, -4.4063, -4.3429, -4.8082, -4.9896, -4.9896, -4.9896, -4.9896, -4.9895, -4.9896, -4.9896, -4.9896, -4.9896, -4.9896, -4.9896, -4.9895, -3.6739, -4.036, -3.7165, -3.824, -4.138, -3.9535, -4.1597, -4.8771, -4.8442, -4.9451, -4.9242, -4.9308]}, \"token.table\": {\"Topic\": [3, 4, 6, 1, 2, 3, 7, 8, 1, 2, 2, 4, 5, 10, 1, 2, 4, 5, 7, 10, 1, 5, 7, 2, 4, 5, 5, 7, 8, 2, 6, 10, 2, 7, 1, 3, 5, 10, 3, 3, 7, 8, 3, 7, 9, 6, 7, 10, 1, 3, 5, 1, 5, 10, 1, 2, 4, 2, 3, 3, 7, 2, 8, 9, 2, 4, 6, 2, 4, 8, 5, 8, 1, 3, 5, 7, 10, 1, 5, 6, 7, 8, 10, 3, 4, 7, 1, 6, 9, 3, 4, 6, 8, 4, 6, 8, 5, 9, 2, 3, 5, 7, 10, 2, 3, 5, 6, 2, 7, 4, 5, 6, 8, 9, 1, 6, 7, 9, 4, 5, 3, 5, 2, 6, 3, 1, 7, 10, 1, 5, 10, 2, 3, 5, 6, 7, 9, 8, 10, 1, 5, 8, 4, 5, 7, 1, 4, 8, 1, 10, 7, 8, 2, 4, 5, 2, 8, 1, 6, 8, 1, 5, 7, 9, 1, 4, 6, 8, 2, 5, 7, 9, 10, 2, 6, 2, 9, 2, 4, 7, 8, 5, 8, 10, 6, 10, 1, 4, 5, 8, 9, 2, 4, 5, 5, 8, 4, 5, 3, 2, 5, 8, 10, 2, 8, 1, 2, 4, 6, 8, 2, 7, 8, 1, 3, 4, 6, 3, 6, 2, 3, 5, 6, 4, 5, 6, 7, 3, 9, 10, 3, 8, 9, 8, 10, 1, 4, 7, 8, 10, 1, 3, 4, 5, 7, 9, 10, 1, 2, 3, 4, 5, 8, 9, 10, 1, 2, 7, 8, 9, 10, 1, 7, 8, 1, 9, 10, 1, 3, 8, 2, 9, 10, 5, 8, 2, 3, 4, 6, 8, 9, 10, 1, 2, 3, 4, 1, 2, 4, 7, 1, 3, 5, 6, 1, 2, 3, 1, 3, 5, 10, 2, 5, 6, 7, 1, 2, 4, 9, 3, 4, 9, 1, 3, 4, 5, 6, 8, 9, 10, 6, 8, 1, 2, 7, 10, 1, 2, 3, 7, 8, 7, 9, 1, 4, 8, 1, 3, 7, 5, 8, 1, 2, 3, 4, 5, 1, 4, 7, 9, 2, 4, 5, 7, 8, 9, 10, 1, 4, 5, 7, 9, 3, 7, 10, 2, 6, 10, 1, 3, 9, 4, 7, 3, 8, 1, 2, 6, 7, 8, 9, 10, 1, 2, 3, 4, 6, 8, 10, 6, 2, 6, 2, 3, 4, 5, 8, 4, 7, 2, 4, 5, 1, 5, 1, 4, 10, 1, 3, 5, 10, 3, 6, 7, 9, 1, 2, 3, 4, 7, 8, 9, 2, 4, 7, 8, 1, 4, 7, 8, 1, 2, 3, 6, 2, 3, 4, 5, 8, 9, 3, 4, 7, 10, 1, 3, 4, 7, 9, 10, 3, 4, 8, 10, 6, 7, 9, 10, 3, 4, 7, 2, 4, 5, 3, 8, 10, 4, 7, 1, 2, 4, 1, 4, 5, 1, 3, 4, 5, 6, 7, 8, 9, 10, 4, 9, 10, 1, 2, 4, 6, 7, 1, 10, 2, 4, 7, 8, 9, 1, 2, 3, 5, 8, 8, 10, 7, 2, 3, 9, 2, 7, 1, 2, 4, 8, 4, 5, 9, 1, 4, 1, 4, 9, 2, 4, 9, 1, 10, 2, 6, 7, 8, 4, 5, 9, 4, 5, 7, 8, 10, 1, 2, 5, 5, 2, 5, 7, 4, 5, 1, 4, 5, 3, 4, 10, 1, 5, 10, 3, 4, 6, 9, 3, 5, 6, 1, 2, 4, 6, 8, 1, 9, 1, 4, 1, 4, 8, 2, 1, 3, 7, 4, 5, 7, 3, 7, 8, 2, 9, 1, 5, 6, 10, 1, 3, 4, 5, 6, 7, 9, 4, 2, 7, 1, 1, 4, 10, 2, 4, 5, 10, 6, 1, 3, 6, 7, 10, 1, 2, 3, 7, 9, 1, 7, 3, 4, 9, 2, 3, 7, 1, 1, 3, 5, 2, 8, 1, 9, 1, 5, 8, 1, 5, 6, 7, 10, 1, 3, 9, 2, 3, 5, 10, 3, 4, 2, 3, 5, 1, 3, 7, 9, 1, 2, 8, 9, 5, 6, 7, 1, 3, 10, 3, 10, 1, 7, 8, 9, 4, 7, 8, 3, 4, 6, 7, 9, 1, 4, 6, 7, 1, 2, 3, 5, 9, 2, 4, 7, 1, 4, 8, 1, 6, 1, 2, 3, 9, 4, 5, 6, 7, 8, 9, 1, 2, 3, 4, 6, 9, 1, 2, 6, 1, 4, 9, 10, 1, 9], \"Freq\": [0.5510991574590551, 0.0918498595765092, 0.27554957872952757, 0.1214713414002488, 0.1214713414002488, 0.1214713414002488, 0.4858853656009952, 0.1214713414002488, 0.6339534734876865, 0.31697673674384325, 0.6079343878872283, 0.10132239798120472, 0.15198359697180708, 0.15198359697180708, 0.3292590760671929, 0.10975302535573096, 0.10975302535573096, 0.10975302535573096, 0.10975302535573096, 0.21950605071146193, 0.5489458300906556, 0.18298194336355186, 0.18298194336355186, 0.6295180887424282, 0.279785817218857, 0.06994645430471425, 0.19990273342234555, 0.19990273342234555, 0.5997082002670366, 0.10909264190108742, 0.6545558514065245, 0.10909264190108742, 0.36466985262840085, 0.5470047789426012, 0.36856063124618216, 0.614267718743637, 0.8279450189700179, 0.09199389099666866, 0.9488153210263157, 0.18322470035186322, 0.18322470035186322, 0.5496741010555897, 0.9222299827667261, 0.35955199480319083, 0.5393279922047862, 0.6781795815852827, 0.13563591631705654, 0.13563591631705654, 0.24576942861556378, 0.12288471430778189, 0.6144235715389095, 0.3144311753447979, 0.4716467630171968, 0.15721558767239896, 0.1392694978383641, 0.41780849351509225, 0.2785389956767282, 0.6721725500551745, 0.2987433555800776, 0.7868371860365052, 0.15736743720730104, 0.13801491387874926, 0.6900745693937463, 0.13801491387874926, 0.18328131086108557, 0.18328131086108557, 0.5498439325832567, 0.7291623277760629, 0.16826822948678377, 0.05608940982892792, 0.36848709284367, 0.552730639265505, 0.4122488904190406, 0.13741629680634687, 0.2061244452095203, 0.13741629680634687, 0.06870814840317344, 0.1815924718838175, 0.1815924718838175, 0.09079623594190875, 0.363184943767635, 0.09079623594190875, 0.09079623594190875, 0.3648846907815278, 0.24325646052101854, 0.3648846907815278, 0.18186091731876045, 0.3637218346375209, 0.18186091731876045, 0.15758156257399059, 0.31516312514798117, 0.15758156257399059, 0.31516312514798117, 0.1827193691937788, 0.5481581075813363, 0.1827193691937788, 0.5474814646651738, 0.4106110984988803, 0.5253679092321454, 0.05837421213690504, 0.11674842427381008, 0.17512263641071513, 0.05837421213690504, 0.22006454865955857, 0.11003227432977929, 0.11003227432977929, 0.5501613716488964, 0.5548771944927708, 0.18495906483092361, 0.13733718256613325, 0.2746743651322665, 0.20600577384919985, 0.20600577384919985, 0.13733718256613325, 0.13543141947240883, 0.27086283894481766, 0.4062942584172265, 0.13543141947240883, 0.3687339983249762, 0.5531009974874643, 0.3688126165058869, 0.5532189247588304, 0.18285980719774034, 0.7314392287909613, 0.9222299409886383, 0.23531227093708293, 0.09412490837483317, 0.6588743586238323, 0.5492603730382529, 0.18308679101275097, 0.18308679101275097, 0.4157305757715994, 0.13857685859053312, 0.13857685859053312, 0.27715371718106624, 0.35955204735678353, 0.5393280710351752, 0.7713636814831454, 0.11019481164044934, 0.4732198705154659, 0.15773995683848863, 0.31547991367697725, 0.39231693484377794, 0.31385354787502234, 0.23539016090626677, 0.49074413397188954, 0.12268603349297239, 0.24537206698594477, 0.7847376866658665, 0.1569475373331733, 0.2741131267198865, 0.6852828167997164, 0.13863146844434324, 0.2772629368886865, 0.554525873777373, 0.24667002676651525, 0.7400100802995457, 0.1369165746243314, 0.5476662984973256, 0.2738331492486628, 0.15582020079912914, 0.3116404015982583, 0.15582020079912914, 0.3116404015982583, 0.489706014957334, 0.1224265037393335, 0.1224265037393335, 0.244853007478667, 0.24273881354207388, 0.12136940677103694, 0.12136940677103694, 0.24273881354207388, 0.24273881354207388, 0.18257718643555104, 0.7303087457422042, 0.7424267433946494, 0.18560668584866236, 0.5138449868102425, 0.25692249340512124, 0.08564083113504042, 0.08564083113504042, 0.15726238894282943, 0.6290495557713177, 0.15726238894282943, 0.7246355378758428, 0.1811588844689607, 0.13731792997306624, 0.06865896498653312, 0.20597689495959937, 0.2746358599461325, 0.2746358599461325, 0.15845483783957137, 0.31690967567914274, 0.4753645135187141, 0.3158879520116603, 0.6317759040233206, 0.18437340781103417, 0.7374936312441367, 0.8303683526093515, 0.801798404312004, 0.0534532269541336, 0.0534532269541336, 0.0534532269541336, 0.8422366021233862, 0.09358184468037625, 0.0792288094377132, 0.3169152377508528, 0.3169152377508528, 0.1584576188754264, 0.0792288094377132, 0.13627789514683433, 0.5451115805873373, 0.27255579029366866, 0.13774403738048938, 0.10330802803536704, 0.48210413083171283, 0.24105206541585641, 0.3653267808820897, 0.5479901713231345, 0.047692629668756814, 0.2861557780125409, 0.047692629668756814, 0.5723115560250818, 0.2537336274009258, 0.422889379001543, 0.2537336274009258, 0.0845778758003086, 0.21685501039932295, 0.10842750519966148, 0.5421375259983073, 0.6623993750814536, 0.11039989584690893, 0.11039989584690893, 0.8969242375283126, 0.06899417211756251, 0.5329083848783494, 0.0999203221646905, 0.06661354810979367, 0.199840644329381, 0.0999203221646905, 0.19420760901988698, 0.21848356014737286, 0.048551902254971746, 0.07282785338245762, 0.2913114135298305, 0.07282785338245762, 0.048551902254971746, 0.0736779704107613, 0.18419492602690324, 0.3683898520538065, 0.03683898520538065, 0.03683898520538065, 0.1473559408215226, 0.03683898520538065, 0.1473559408215226, 0.9188317210144696, 0.38929455187989004, 0.12976485062663, 0.19464727593994502, 0.19464727593994502, 0.064882425313315, 0.36602725254959273, 0.18301362627479636, 0.36602725254959273, 0.9188317585789204, 0.23959747585826224, 0.7187924275747868, 0.5521535465008549, 0.09202559108347583, 0.27607677325042745, 0.5524232188794824, 0.18414107295982746, 0.18414107295982746, 0.8299019385155628, 0.13831698975259382, 0.07309129319003353, 0.14618258638006706, 0.07309129319003353, 0.07309129319003353, 0.29236517276013413, 0.29236517276013413, 0.07309129319003353, 0.17120421019329127, 0.34240842038658253, 0.34240842038658253, 0.08560210509664563, 0.4118540974792047, 0.1372846991597349, 0.1372846991597349, 0.2745693983194698, 0.3863552201788711, 0.11038720576539174, 0.3863552201788711, 0.11038720576539174, 0.5536464845111692, 0.18454882817038973, 0.18454882817038973, 0.47140711903454424, 0.15713570634484808, 0.15713570634484808, 0.15713570634484808, 0.1827574761716289, 0.1827574761716289, 0.1827574761716289, 0.3655149523432578, 0.1838890604420003, 0.1838890604420003, 0.3677781208840006, 0.1838890604420003, 0.12105903375527537, 0.24211806751055073, 0.6052951687763769, 0.10498919371090575, 0.2099783874218115, 0.26247298427726434, 0.05249459685545287, 0.05249459685545287, 0.2099783874218115, 0.05249459685545287, 0.05249459685545287, 0.7795952439670025, 0.1559190487934005, 0.08573974841903605, 0.6859179873522884, 0.08573974841903605, 0.08573974841903605, 0.0742628772719677, 0.519840140903774, 0.2227886318159031, 0.0742628772719677, 0.0742628772719677, 0.17992650867767782, 0.7197060347107113, 0.12282956603654469, 0.24565913207308937, 0.49131826414617874, 0.364193858117418, 0.182096929058709, 0.364193858117418, 0.9167057283168635, 0.038196072013202645, 0.12316916934602043, 0.12316916934602043, 0.12316916934602043, 0.24633833869204086, 0.3695075080380613, 0.13549807617402693, 0.13549807617402693, 0.5419923046961077, 0.13549807617402693, 0.09123150671726539, 0.09123150671726539, 0.045615753358632695, 0.1368472600758981, 0.3193102735104289, 0.22807876679316347, 0.09123150671726539, 0.1982298525345285, 0.1982298525345285, 0.09911492626726424, 0.1982298525345285, 0.2973447788017927, 0.6261199713777534, 0.15652999284443836, 0.15652999284443836, 0.31412279837518114, 0.15706139918759057, 0.31412279837518114, 0.3145642344539606, 0.4718463516809409, 0.1572821172269803, 0.786469769828757, 0.1572939539657514, 0.27645916769371687, 0.6911479192342922, 0.28807397607551855, 0.14403698803775927, 0.05761479521510371, 0.23045918086041484, 0.11522959043020742, 0.11522959043020742, 0.028807397607551855, 0.18274980807160257, 0.060916602690534186, 0.09137490403580129, 0.030458301345267093, 0.3959579174884722, 0.12183320538106837, 0.12183320538106837, 0.9331995160195133, 0.15634428849666082, 0.781721442483304, 0.07392368936152917, 0.443542136169175, 0.2956947574461167, 0.07392368936152917, 0.07392368936152917, 0.484619933875958, 0.484619933875958, 0.639770792523715, 0.07997134906546438, 0.23991404719639314, 0.735554912212561, 0.18388872805314024, 0.18305978428215228, 0.36611956856430455, 0.18305978428215228, 0.10973385703166175, 0.32920157109498527, 0.2194677140633235, 0.32920157109498527, 0.135989305031475, 0.5439572201259, 0.135989305031475, 0.135989305031475, 0.19323695047835202, 0.05521055727952915, 0.4140791795964686, 0.1104211145590583, 0.08281583591929373, 0.1104211145590583, 0.027605278639764575, 0.1820219083471497, 0.09101095417357485, 0.4550547708678743, 0.1820219083471497, 0.1830887570304785, 0.1830887570304785, 0.1830887570304785, 0.1830887570304785, 0.46489541342267166, 0.11622385335566791, 0.1743357800335019, 0.1743357800335019, 0.25277190898773216, 0.5055438179754643, 0.25277190898773216, 0.3642497541104655, 0.1214165847034885, 0.485666338813954, 0.15590270811715226, 0.15590270811715226, 0.3118054162343045, 0.15590270811715226, 0.07732719916798378, 0.07732719916798378, 0.07732719916798378, 0.5412903941758865, 0.07732719916798378, 0.07732719916798378, 0.18336840838229893, 0.18336840838229893, 0.36673681676459785, 0.18336840838229893, 0.1801010663330949, 0.1801010663330949, 0.1801010663330949, 0.3602021326661898, 0.4697650900189791, 0.1565883633396597, 0.3131767266793194, 0.1584453783739823, 0.6337815134959291, 0.1584453783739823, 0.5503163870502554, 0.18343879568341848, 0.18343879568341848, 0.36377383067561797, 0.36377383067561797, 0.7569134840014969, 0.1164482283079226, 0.1164482283079226, 0.3682423225238779, 0.3682423225238779, 0.18412116126193895, 0.4278271013898233, 0.14880942657037333, 0.03720235664259333, 0.03720235664259333, 0.07440471328518666, 0.055803534963890004, 0.055803534963890004, 0.11160706992778001, 0.055803534963890004, 0.216954988808382, 0.216954988808382, 0.542387472020955, 0.5532139807410773, 0.13830349518526933, 0.13830349518526933, 0.17975547655919608, 0.7190219062367843, 0.7847377041044058, 0.15694754082088117, 0.12119476610266262, 0.12119476610266262, 0.12119476610266262, 0.12119476610266262, 0.4847790644106505, 0.22218235673111406, 0.22218235673111406, 0.04443647134622281, 0.3999282421160053, 0.08887294269244563, 0.18067864726569866, 0.7227145890627946, 0.8594381490390522, 0.18409917627012298, 0.5522975288103689, 0.18409917627012298, 0.8971817037564622, 0.07476514197970519, 0.44344652143066027, 0.22172326071533013, 0.11086163035766507, 0.11086163035766507, 0.6295728360210375, 0.15739320900525938, 0.15739320900525938, 0.18419568207844145, 0.5525870462353243, 0.15543664524148915, 0.15543664524148915, 0.6217465809659566, 0.5571683795540326, 0.22286735182161305, 0.11143367591080652, 0.5040977817346302, 0.4200814847788585, 0.5037158933289271, 0.2014863573315708, 0.1007431786657854, 0.2014863573315708, 0.1206911703816194, 0.1206911703816194, 0.7241470222897164, 0.3666674948634588, 0.3666674948634588, 0.1833337474317294, 0.7861466163917212, 0.15722932327834427, 0.1385691667845855, 0.1385691667845855, 0.6928458339229275, 0.9218991583620264, 0.18323269756132435, 0.3664653951226487, 0.3664653951226487, 0.8299253818934088, 0.1383208969822348, 0.1229164241338042, 0.7374985448028252, 0.1229164241338042, 0.2756396537584262, 0.5512793075168524, 0.1378198268792131, 0.18332983852086165, 0.5499895155625849, 0.18332983852086165, 0.18206758886372276, 0.18206758886372276, 0.18206758886372276, 0.3641351777274455, 0.41214052765681997, 0.13738017588560666, 0.41214052765681997, 0.0421560080887209, 0.12646802426616272, 0.0843120161774418, 0.6744961294195344, 0.0843120161774418, 0.4085542870173401, 0.5447390493564535, 0.2763644843317679, 0.6909112108294198, 0.5518787712742028, 0.18395959042473425, 0.18395959042473425, 0.8994522980283778, 0.547575217261797, 0.13689380431544926, 0.2737876086308985, 0.6102815723782642, 0.12205631447565284, 0.24411262895130567, 0.31447467434510185, 0.15723733717255092, 0.4717120115176528, 0.3656002990655879, 0.5484004485983819, 0.5495991499479722, 0.2198396599791889, 0.10991982998959444, 0.10991982998959444, 0.15130636042342174, 0.037826590105855436, 0.037826590105855436, 0.4160924911644098, 0.07565318021171087, 0.18913295052927717, 0.037826590105855436, 0.9217386719516564, 0.74503330011459, 0.12417221668576499, 0.9452187886781805, 0.18331080629014443, 0.5499324188704333, 0.18331080629014443, 0.1212482631786641, 0.1212482631786641, 0.1212482631786641, 0.6062413158933205, 0.9524893823044386, 0.06824928504078644, 0.40949571024471865, 0.13649857008157287, 0.06824928504078644, 0.3412464252039322, 0.3398685647187216, 0.3398685647187216, 0.0849671411796804, 0.0849671411796804, 0.1699342823593608, 0.7310536964801047, 0.18276342412002616, 0.15615849972973145, 0.3123169994594629, 0.46847549918919434, 0.15621333693967626, 0.3124266738793525, 0.4686400108190288, 0.9188316904852399, 0.10061476198542803, 0.10061476198542803, 0.7043033338979962, 0.7458294076550899, 0.18645735191377247, 0.6257499324125599, 0.31287496620627997, 0.44183703057145285, 0.11045925764286321, 0.44183703057145285, 0.181338574722432, 0.181338574722432, 0.181338574722432, 0.45334643680608, 0.943330513022665, 0.15993305289082038, 0.19191966346898448, 0.6397322115632815, 0.6833230525569572, 0.12424055501035587, 0.12424055501035587, 0.062120277505177936, 0.36877402613330834, 0.5531610391999625, 0.1585171763068323, 0.3170343526136646, 0.47555152892049685, 0.1823846872140995, 0.364769374428199, 0.1823846872140995, 0.1823846872140995, 0.31522673935442286, 0.15761336967721143, 0.31522673935442286, 0.15761336967721143, 0.8300554709436838, 0.17940841601749807, 0.7176336640699923, 0.2517865269075513, 0.2517865269075513, 0.5035730538151026, 0.27156358106152545, 0.6789089526538137, 0.10933256960569948, 0.10933256960569948, 0.4373302784227979, 0.32799770881709844, 0.31155386920756006, 0.4673308038113401, 0.15577693460378003, 0.13630550763358457, 0.13630550763358457, 0.4089165229007537, 0.13630550763358457, 0.13630550763358457, 0.12129489429026519, 0.12129489429026519, 0.48517957716106075, 0.12129489429026519, 0.13886876752072605, 0.34717191880181514, 0.2777375350414521, 0.20830315128108906, 0.06943438376036302, 0.12073345308726033, 0.12073345308726033, 0.6036672654363017, 0.36807378931934925, 0.18403689465967463, 0.36807378931934925, 0.13636653173742136, 0.6818326586871067, 0.13062254397395165, 0.4571789039088308, 0.1959338159609275, 0.13062254397395165, 0.3489670447833002, 0.09970486993808578, 0.19940973987617155, 0.09970486993808578, 0.09970486993808578, 0.09970486993808578, 0.09817211810042112, 0.04908605905021056, 0.17180120667573695, 0.4908605905021056, 0.07362908857531585, 0.07362908857531585, 0.13942932108671097, 0.6971466054335548, 0.13942932108671097, 0.49690752495894774, 0.09938150499178955, 0.09938150499178955, 0.29814451497536865, 0.68508387342427, 0.27403354936970803], \"Term\": [\"act\", \"act\", \"act\", \"action\", \"action\", \"action\", \"action\", \"action\", \"administration\", \"administration\", \"america\", \"america\", \"america\", \"america\", \"american\", \"american\", \"american\", \"american\", \"american\", \"american\", \"american people\", \"american people\", \"american people\", \"americans\", \"americans\", \"americans\", \"ask\", \"ask\", \"ask\", \"authority\", \"authority\", \"authority\", \"balance\", \"balance\", \"bear\", \"bear\", \"begin\", \"begin\", \"believe\", \"blessing\", \"blessing\", \"blessing\", \"break\", \"bring\", \"bring\", \"care\", \"care\", \"care\", \"case\", \"case\", \"case\", \"century\", \"century\", \"century\", \"challenge\", \"challenge\", \"challenge\", \"change\", \"change\", \"child\", \"child\", \"choose\", \"choose\", \"choose\", \"circumstance\", \"circumstance\", \"circumstance\", \"citizen\", \"citizen\", \"citizen\", \"city\", \"city\", \"come\", \"come\", \"come\", \"come\", \"come\", \"common\", \"common\", \"common\", \"common\", \"common\", \"common\", \"community\", \"community\", \"community\", \"concern\", \"concern\", \"concern\", \"confidence\", \"confidence\", \"confidence\", \"confidence\", \"conflict\", \"conflict\", \"conflict\", \"congress\", \"congress\", \"constitution\", \"constitution\", \"constitution\", \"constitution\", \"constitution\", \"constitutional\", \"constitutional\", \"constitutional\", \"constitutional\", \"continue\", \"continue\", \"country\", \"country\", \"country\", \"country\", \"country\", \"courage\", \"courage\", \"courage\", \"courage\", \"crisis\", \"crisis\", \"danger\", \"danger\", \"dare\", \"dare\", \"dark\", \"day\", \"day\", \"day\", \"decision\", \"decision\", \"decision\", \"deny\", \"deny\", \"deny\", \"deny\", \"destroy\", \"destroy\", \"difference\", \"difference\", \"discipline\", \"discipline\", \"discipline\", \"duty\", \"duty\", \"duty\", \"earth\", \"earth\", \"earth\", \"economic\", \"economic\", \"effort\", \"effort\", \"end\", \"end\", \"end\", \"endure\", \"endure\", \"enemy\", \"enemy\", \"enemy\", \"energy\", \"energy\", \"energy\", \"energy\", \"equal\", \"equal\", \"equal\", \"equal\", \"executive\", \"executive\", \"executive\", \"executive\", \"executive\", \"exercise\", \"exercise\", \"express\", \"express\", \"face\", \"face\", \"face\", \"face\", \"fact\", \"fact\", \"fact\", \"factory\", \"factory\", \"faith\", \"faith\", \"faith\", \"faith\", \"faith\", \"far\", \"far\", \"far\", \"father\", \"father\", \"fear\", \"fear\", \"federal\", \"fellow\", \"fellow\", \"fellow\", \"fellow\", \"fellow citizen\", \"fellow citizen\", \"force\", \"force\", \"force\", \"force\", \"force\", \"form\", \"form\", \"form\", \"free\", \"free\", \"free\", \"free\", \"free man\", \"free man\", \"freedom\", \"freedom\", \"freedom\", \"freedom\", \"friend\", \"friend\", \"friend\", \"friend\", \"future\", \"future\", \"future\", \"generation\", \"generation\", \"generation\", \"god\", \"god\", \"good\", \"good\", \"good\", \"good\", \"good\", \"government\", \"government\", \"government\", \"government\", \"government\", \"government\", \"government\", \"great\", \"great\", \"great\", \"great\", \"great\", \"great\", \"great\", \"great\", \"grow\", \"hand\", \"hand\", \"hand\", \"hand\", \"hand\", \"hard\", \"hard\", \"hard\", \"hear\", \"heart\", \"heart\", \"help\", \"help\", \"help\", \"hero\", \"hero\", \"hero\", \"high\", \"high\", \"history\", \"history\", \"history\", \"history\", \"history\", \"history\", \"history\", \"hold\", \"hold\", \"hold\", \"hold\", \"home\", \"home\", \"home\", \"home\", \"hope\", \"hope\", \"hope\", \"hope\", \"idea\", \"idea\", \"idea\", \"individual\", \"individual\", \"individual\", \"individual\", \"instrument\", \"instrument\", \"instrument\", \"instrument\", \"job\", \"job\", \"job\", \"job\", \"just\", \"just\", \"just\", \"know\", \"know\", \"know\", \"know\", \"know\", \"know\", \"know\", \"know\", \"labor\", \"labor\", \"land\", \"land\", \"land\", \"land\", \"law\", \"law\", \"law\", \"law\", \"law\", \"leader\", \"leader\", \"leadership\", \"leadership\", \"leadership\", \"leave\", \"leave\", \"leave\", \"let\", \"let\", \"liberty\", \"liberty\", \"liberty\", \"liberty\", \"liberty\", \"lie\", \"lie\", \"lie\", \"lie\", \"life\", \"life\", \"life\", \"life\", \"life\", \"life\", \"life\", \"light\", \"light\", \"light\", \"light\", \"light\", \"like\", \"like\", \"like\", \"little\", \"little\", \"little\", \"live\", \"live\", \"live\", \"lose\", \"lose\", \"love\", \"love\", \"make\", \"make\", \"make\", \"make\", \"make\", \"make\", \"make\", \"man\", \"man\", \"man\", \"man\", \"man\", \"man\", \"man\", \"man woman\", \"material\", \"material\", \"mean\", \"mean\", \"mean\", \"mean\", \"mean\", \"measure\", \"measure\", \"meet\", \"meet\", \"meet\", \"merely\", \"merely\", \"mind\", \"mind\", \"mind\", \"moment\", \"moment\", \"moment\", \"moment\", \"moral\", \"moral\", \"moral\", \"moral\", \"nation\", \"nation\", \"nation\", \"nation\", \"nation\", \"nation\", \"nation\", \"national\", \"national\", \"national\", \"national\", \"necessary\", \"necessary\", \"necessary\", \"necessary\", \"need\", \"need\", \"need\", \"need\", \"new\", \"new\", \"new\", \"oath\", \"oath\", \"oath\", \"offer\", \"offer\", \"offer\", \"offer\", \"old\", \"old\", \"old\", \"old\", \"old\", \"old\", \"opinion\", \"opinion\", \"opinion\", \"opinion\", \"opportunity\", \"opportunity\", \"opportunity\", \"opportunity\", \"order\", \"order\", \"order\", \"party\", \"party\", \"party\", \"pass\", \"pass\", \"pass\", \"patriotism\", \"patriotism\", \"peace\", \"peace\", \"peace\", \"peaceful\", \"peaceful\", \"peaceful\", \"people\", \"people\", \"people\", \"people\", \"people\", \"people\", \"people\", \"people\", \"people\", \"place\", \"place\", \"place\", \"pledge\", \"pledge\", \"pledge\", \"point\", \"point\", \"political\", \"political\", \"possible\", \"possible\", \"possible\", \"possible\", \"possible\", \"power\", \"power\", \"power\", \"power\", \"power\", \"prayer\", \"prayer\", \"present\", \"preserve\", \"preserve\", \"preserve\", \"president\", \"president\", \"principle\", \"principle\", \"principle\", \"principle\", \"produce\", \"produce\", \"produce\", \"progress\", \"progress\", \"protect\", \"protect\", \"protect\", \"provision\", \"provision\", \"provision\", \"public\", \"public\", \"purpose\", \"purpose\", \"purpose\", \"purpose\", \"question\", \"question\", \"question\", \"reach\", \"reach\", \"reach\", \"reject\", \"reject\", \"remain\", \"remain\", \"remain\", \"remember\", \"renew\", \"renew\", \"renew\", \"require\", \"require\", \"respect\", \"respect\", \"respect\", \"responsibility\", \"responsibility\", \"responsibility\", \"restore\", \"restore\", \"restore\", \"return\", \"return\", \"return\", \"return\", \"revolution\", \"revolution\", \"revolution\", \"right\", \"right\", \"right\", \"right\", \"right\", \"rule\", \"rule\", \"sacrifice\", \"sacrifice\", \"safety\", \"safety\", \"safety\", \"say\", \"security\", \"security\", \"security\", \"seek\", \"seek\", \"seek\", \"sense\", \"sense\", \"sense\", \"serve\", \"serve\", \"service\", \"service\", \"service\", \"service\", \"shall\", \"shall\", \"shall\", \"shall\", \"shall\", \"shall\", \"shall\", \"sound\", \"speak\", \"speak\", \"special\", \"spirit\", \"spirit\", \"spirit\", \"stand\", \"stand\", \"stand\", \"stand\", \"state\", \"states\", \"states\", \"states\", \"states\", \"states\", \"strength\", \"strength\", \"strength\", \"strength\", \"strength\", \"strive\", \"strive\", \"strong\", \"strong\", \"strong\", \"success\", \"success\", \"success\", \"summon\", \"support\", \"support\", \"support\", \"task\", \"task\", \"tell\", \"tell\", \"thank\", \"thank\", \"thank\", \"thing\", \"thing\", \"thing\", \"thing\", \"think\", \"time\", \"time\", \"time\", \"today\", \"today\", \"today\", \"today\", \"trade\", \"trade\", \"true\", \"true\", \"true\", \"trust\", \"trust\", \"trust\", \"trust\", \"turn\", \"turn\", \"turn\", \"turn\", \"understand\", \"union\", \"union\", \"united\", \"united\", \"united\", \"united states\", \"united states\", \"use\", \"use\", \"use\", \"use\", \"value\", \"value\", \"value\", \"view\", \"view\", \"view\", \"view\", \"view\", \"vital\", \"vital\", \"vital\", \"vital\", \"war\", \"war\", \"war\", \"war\", \"war\", \"way\", \"way\", \"way\", \"willing\", \"willing\", \"willing\", \"woman\", \"woman\", \"word\", \"word\", \"word\", \"word\", \"work\", \"work\", \"work\", \"work\", \"work\", \"work\", \"world\", \"world\", \"world\", \"world\", \"world\", \"world\", \"write\", \"write\", \"write\", \"year\", \"year\", \"year\", \"year\", \"young\", \"young\"]}, \"R\": 30, \"lambda.step\": 0.01, \"plot.opts\": {\"xlab\": \"PC1\", \"ylab\": \"PC2\"}, \"topic.order\": [3, 7, 2, 4, 9, 10, 1, 8, 6, 5]};\n",
       "\n",
       "function LDAvis_load_lib(url, callback){\n",
       "  var s = document.createElement('script');\n",
       "  s.src = url;\n",
       "  s.async = true;\n",
       "  s.onreadystatechange = s.onload = callback;\n",
       "  s.onerror = function(){console.warn(\"failed to load library \" + url);};\n",
       "  document.getElementsByTagName(\"head\")[0].appendChild(s);\n",
       "}\n",
       "\n",
       "if(typeof(LDAvis) !== \"undefined\"){\n",
       "   // already loaded: just create the visualization\n",
       "   !function(LDAvis){\n",
       "       new LDAvis(\"#\" + \"ldavis_el15502112286303360126354570\", ldavis_el15502112286303360126354570_data);\n",
       "   }(LDAvis);\n",
       "}else if(typeof define === \"function\" && define.amd){\n",
       "   // require.js is available: use it to load d3/LDAvis\n",
       "   require.config({paths: {d3: \"https://cdnjs.cloudflare.com/ajax/libs/d3/3.5.5/d3.min\"}});\n",
       "   require([\"d3\"], function(d3){\n",
       "      window.d3 = d3;\n",
       "      LDAvis_load_lib(\"https://cdn.rawgit.com/bmabey/pyLDAvis/files/ldavis.v1.0.0.js\", function(){\n",
       "        new LDAvis(\"#\" + \"ldavis_el15502112286303360126354570\", ldavis_el15502112286303360126354570_data);\n",
       "      });\n",
       "    });\n",
       "}else{\n",
       "    // require.js not available: dynamically load d3 & LDAvis\n",
       "    LDAvis_load_lib(\"https://cdnjs.cloudflare.com/ajax/libs/d3/3.5.5/d3.min.js\", function(){\n",
       "         LDAvis_load_lib(\"https://cdn.rawgit.com/bmabey/pyLDAvis/files/ldavis.v1.0.0.js\", function(){\n",
       "                 new LDAvis(\"#\" + \"ldavis_el15502112286303360126354570\", ldavis_el15502112286303360126354570_data);\n",
       "            })\n",
       "         });\n",
       "}\n",
       "</script>"
      ],
      "text/plain": [
       "PreparedData(topic_coordinates=           x      y  topics  cluster   Freq\n",
       "topic                                      \n",
       "2     -0.132 -0.075       1        1 15.032\n",
       "6      0.149  0.268       2        1 13.044\n",
       "1     -0.171  0.147       3        1 11.108\n",
       "3      0.100 -0.007       4        1 10.376\n",
       "8      0.243 -0.190       5        1 10.048\n",
       "9      0.294  0.083       6        1  8.932\n",
       "0     -0.054  0.237       7        1  8.900\n",
       "7      0.029 -0.254       8        1  8.757\n",
       "5     -0.279  0.026       9        1  7.274\n",
       "4     -0.178 -0.234      10        1  6.529, topic_info=    Category   Freq          Term  Total  loglift  logprob\n",
       "206  Default 31.000          time 31.000   30.000   30.000\n",
       "108  Default 26.000           let 26.000   29.000   29.000\n",
       "42   Default 21.000           day 21.000   28.000   28.000\n",
       "227  Default 40.000         world 40.000   27.000   27.000\n",
       "177  Default 23.000         right 23.000   26.000   26.000\n",
       "72   Default 29.000          free 29.000   25.000   25.000\n",
       "78   Default 14.000           god 14.000   24.000   24.000\n",
       "74   Default 20.000       freedom 20.000   23.000   23.000\n",
       "68   Default 18.000        fellow 18.000   22.000   22.000\n",
       "121  Default 32.000           man 32.000   21.000   21.000\n",
       "80   Default 41.000    government 41.000   20.000   20.000\n",
       "79   Default 30.000          good 30.000   19.000   19.000\n",
       "24   Default 17.000       citizen 17.000   18.000   18.000\n",
       "135  Default 19.000           new 19.000   17.000   17.000\n",
       "187  Default 26.000         shall 26.000   16.000   16.000\n",
       "157  Default 13.000     president 13.000   15.000   15.000\n",
       "155  Default  9.000       present  9.000   14.000   14.000\n",
       "213  Default 11.000         union 11.000   13.000   13.000\n",
       "131  Default 36.000        nation 36.000   12.000   12.000\n",
       "3    Default 19.000       america 19.000   11.000   11.000\n",
       "120  Default 34.000          make 34.000   10.000   10.000\n",
       "11   Default 10.000         begin 10.000    9.000    9.000\n",
       "163  Default 11.000        public 11.000    8.000    8.000\n",
       "205  Default  7.000         think  7.000    7.000    7.000\n",
       "147  Default 53.000        people 53.000    6.000    6.000\n",
       "214  Default 11.000        united 11.000    5.000    5.000\n",
       "153  Default 22.000         power 22.000    4.000    4.000\n",
       "145  Default 17.000         peace 17.000    3.000    3.000\n",
       "111  Default 21.000          life 21.000    2.000    2.000\n",
       "86   Default  8.000         heart  8.000    1.000    1.000\n",
       "..       ...    ...           ...    ...      ...      ...\n",
       "114  Topic10  1.953        little  6.367    1.547   -4.343\n",
       "129  Topic10  2.667        moment  9.113    1.500   -4.031\n",
       "229  Topic10  2.883          year 10.062    1.479   -3.954\n",
       "57   Topic10  1.833     executive  8.239    1.226   -4.406\n",
       "4    Topic10  1.953      american  9.111    1.189   -4.343\n",
       "113  Topic10  1.226          like  6.389    1.078   -4.808\n",
       "88   Topic10  1.023          hero  5.431    1.060   -4.990\n",
       "143  Topic10  1.023          pass  5.451    1.056   -4.990\n",
       "139  Topic10  1.023       opinion  5.454    1.055   -4.990\n",
       "174  Topic10  1.023       restore  5.455    1.055   -4.990\n",
       "191  Topic10  1.023        spirit  5.455    1.055   -4.989\n",
       "43   Topic10  1.023      decision  5.462    1.054   -4.990\n",
       "128  Topic10  1.023          mind  5.463    1.054   -4.990\n",
       "62   Topic10  1.023       factory  5.520    1.043   -4.990\n",
       "61   Topic10  1.023          fact  6.359    0.902   -4.990\n",
       "167  Topic10  1.023        reject  6.360    0.901   -4.990\n",
       "18   Topic10  1.023       century  6.361    0.901   -4.990\n",
       "97   Topic10  1.023    individual  6.364    0.901   -4.989\n",
       "81   Topic10  3.813         great 27.145    0.766   -3.674\n",
       "3    Topic10  2.654       america 19.739    0.723   -4.036\n",
       "121  Topic10  3.654           man 32.832    0.533   -3.716\n",
       "79   Topic10  3.281          good 30.024    0.515   -3.824\n",
       "111  Topic10  2.397          life 21.922    0.516   -4.138\n",
       "147  Topic10  2.883        people 53.760   -0.197   -3.954\n",
       "80   Topic10  2.345    government 41.193   -0.137   -4.160\n",
       "46   Topic10  1.145    difference  9.075    0.658   -4.877\n",
       "11   Topic10  1.183         begin 10.870    0.511   -4.844\n",
       "8    Topic10  1.069     authority  9.167    0.580   -4.945\n",
       "90   Topic10  1.092       history 13.682    0.201   -4.924\n",
       "33   Topic10  1.085  constitution 17.131   -0.031   -4.931\n",
       "\n",
       "[420 rows x 6 columns], token_table=      Topic  Freq             Term\n",
       "term                              \n",
       "0         3 0.551              act\n",
       "0         4 0.092              act\n",
       "0         6 0.276              act\n",
       "1         1 0.121           action\n",
       "1         2 0.121           action\n",
       "1         3 0.121           action\n",
       "1         7 0.486           action\n",
       "1         8 0.121           action\n",
       "2         1 0.634   administration\n",
       "2         2 0.317   administration\n",
       "3         2 0.608          america\n",
       "3         4 0.101          america\n",
       "3         5 0.152          america\n",
       "3        10 0.152          america\n",
       "4         1 0.329         american\n",
       "4         2 0.110         american\n",
       "4         4 0.110         american\n",
       "4         5 0.110         american\n",
       "4         7 0.110         american\n",
       "4        10 0.220         american\n",
       "5         1 0.549  american people\n",
       "5         5 0.183  american people\n",
       "5         7 0.183  american people\n",
       "6         2 0.630        americans\n",
       "6         4 0.280        americans\n",
       "6         5 0.070        americans\n",
       "7         5 0.200              ask\n",
       "7         7 0.200              ask\n",
       "7         8 0.600              ask\n",
       "8         2 0.109        authority\n",
       "...     ...   ...              ...\n",
       "222       1 0.368          willing\n",
       "222       4 0.184          willing\n",
       "222       8 0.368          willing\n",
       "224       1 0.136            woman\n",
       "224       6 0.682            woman\n",
       "225       1 0.131             word\n",
       "225       2 0.457             word\n",
       "225       3 0.196             word\n",
       "225       9 0.131             word\n",
       "226       4 0.349             work\n",
       "226       5 0.100             work\n",
       "226       6 0.199             work\n",
       "226       7 0.100             work\n",
       "226       8 0.100             work\n",
       "226       9 0.100             work\n",
       "227       1 0.098            world\n",
       "227       2 0.049            world\n",
       "227       3 0.172            world\n",
       "227       4 0.491            world\n",
       "227       6 0.074            world\n",
       "227       9 0.074            world\n",
       "228       1 0.139            write\n",
       "228       2 0.697            write\n",
       "228       6 0.139            write\n",
       "229       1 0.497             year\n",
       "229       4 0.099             year\n",
       "229       9 0.099             year\n",
       "229      10 0.298             year\n",
       "230       1 0.685            young\n",
       "230       9 0.274            young\n",
       "\n",
       "[729 rows x 3 columns], R=30, lambda_step=0.01, plot_opts={'xlab': 'PC1', 'ylab': 'PC2'}, topic_order=[3, 7, 2, 4, 9, 10, 1, 8, 6, 5])"
      ]
     },
     "execution_count": 43,
     "metadata": {},
     "output_type": "execute_result"
    }
   ],
   "source": [
    "pyLDAvis.sklearn.prepare(lda_tf, dtm_tf, tf_vectorizer, mds='mmds')"
   ]
  },
  {
   "cell_type": "code",
   "execution_count": 44,
   "metadata": {
    "ExecuteTime": {
     "end_time": "2019-08-15T02:54:32.544766Z",
     "start_time": "2019-08-15T02:54:26.222179Z"
    }
   },
   "outputs": [
    {
     "name": "stderr",
     "output_type": "stream",
     "text": [
      "/Users/danmchenry/miniconda3/lib/python3.7/site-packages/pyLDAvis/_prepare.py:257: FutureWarning: Sorting because non-concatenation axis is not aligned. A future version\n",
      "of pandas will change to not sort by default.\n",
      "\n",
      "To accept the future behavior, pass 'sort=False'.\n",
      "\n",
      "To retain the current behavior and silence the warning, pass 'sort=True'.\n",
      "\n",
      "  return pd.concat([default_term_info] + list(topic_dfs))\n"
     ]
    },
    {
     "data": {
      "text/html": [
       "\n",
       "<link rel=\"stylesheet\" type=\"text/css\" href=\"https://cdn.rawgit.com/bmabey/pyLDAvis/files/ldavis.v1.0.0.css\">\n",
       "\n",
       "\n",
       "<div id=\"ldavis_el155021124366096965824603722\"></div>\n",
       "<script type=\"text/javascript\">\n",
       "\n",
       "var ldavis_el155021124366096965824603722_data = {\"mdsDat\": {\"x\": [26.320499420166016, 19.84197425842285, 76.88052368164062, -44.246986389160156, 111.6239242553711, 72.38501739501953, -7.834835052490234, 49.77714920043945, 134.98190307617188, -30.234619140625], \"y\": [32.83514404296875, 95.06492614746094, 69.50084686279297, 75.73567199707031, 13.431160926818848, 143.1716766357422, 152.11642456054688, -27.539993286132812, 95.30290985107422, 1.954593539237976], \"topics\": [1, 2, 3, 4, 5, 6, 7, 8, 9, 10], \"cluster\": [1, 1, 1, 1, 1, 1, 1, 1, 1, 1], \"Freq\": [15.031848357770066, 13.044283893904506, 11.108143856093273, 10.375948228912721, 10.048121236192188, 8.931944579036506, 8.899696240770337, 8.756823561864321, 7.274310538678895, 6.528879506777178]}, \"tinfo\": {\"Category\": [\"Default\", \"Default\", \"Default\", \"Default\", \"Default\", \"Default\", \"Default\", \"Default\", \"Default\", \"Default\", \"Default\", \"Default\", \"Default\", \"Default\", \"Default\", \"Default\", \"Default\", \"Default\", \"Default\", \"Default\", \"Default\", \"Default\", \"Default\", \"Default\", \"Default\", \"Default\", \"Default\", \"Default\", \"Default\", \"Default\", \"Topic1\", \"Topic1\", \"Topic1\", \"Topic1\", \"Topic1\", \"Topic1\", \"Topic1\", \"Topic1\", \"Topic1\", \"Topic1\", \"Topic1\", \"Topic1\", \"Topic1\", \"Topic1\", \"Topic1\", \"Topic1\", \"Topic1\", \"Topic1\", \"Topic1\", \"Topic1\", \"Topic1\", \"Topic1\", \"Topic1\", \"Topic1\", \"Topic1\", \"Topic1\", \"Topic1\", \"Topic1\", \"Topic1\", \"Topic1\", \"Topic1\", \"Topic1\", \"Topic1\", \"Topic1\", \"Topic1\", \"Topic1\", \"Topic1\", \"Topic1\", \"Topic1\", \"Topic1\", \"Topic1\", \"Topic1\", \"Topic1\", \"Topic1\", \"Topic2\", \"Topic2\", \"Topic2\", \"Topic2\", \"Topic2\", \"Topic2\", \"Topic2\", \"Topic2\", \"Topic2\", \"Topic2\", \"Topic2\", \"Topic2\", \"Topic2\", \"Topic2\", \"Topic2\", \"Topic2\", \"Topic2\", \"Topic2\", \"Topic2\", \"Topic2\", \"Topic2\", \"Topic2\", \"Topic2\", \"Topic2\", \"Topic2\", \"Topic2\", \"Topic2\", \"Topic2\", \"Topic2\", \"Topic2\", \"Topic2\", \"Topic2\", \"Topic2\", \"Topic2\", \"Topic2\", \"Topic2\", \"Topic2\", \"Topic3\", \"Topic3\", \"Topic3\", \"Topic3\", \"Topic3\", \"Topic3\", \"Topic3\", \"Topic3\", \"Topic3\", \"Topic3\", \"Topic3\", \"Topic3\", \"Topic3\", \"Topic3\", \"Topic3\", \"Topic3\", \"Topic3\", \"Topic3\", \"Topic3\", \"Topic3\", \"Topic3\", \"Topic3\", \"Topic3\", \"Topic3\", \"Topic3\", \"Topic3\", \"Topic3\", \"Topic3\", \"Topic3\", \"Topic3\", \"Topic3\", \"Topic3\", \"Topic3\", \"Topic3\", \"Topic3\", \"Topic3\", \"Topic3\", \"Topic3\", \"Topic3\", \"Topic3\", \"Topic3\", \"Topic3\", \"Topic3\", \"Topic4\", \"Topic4\", \"Topic4\", \"Topic4\", \"Topic4\", \"Topic4\", \"Topic4\", \"Topic4\", \"Topic4\", \"Topic4\", \"Topic4\", \"Topic4\", \"Topic4\", \"Topic4\", \"Topic4\", \"Topic4\", \"Topic4\", \"Topic4\", \"Topic4\", \"Topic4\", \"Topic4\", \"Topic4\", \"Topic4\", \"Topic4\", \"Topic4\", \"Topic4\", \"Topic4\", \"Topic4\", \"Topic4\", \"Topic4\", \"Topic4\", \"Topic4\", \"Topic4\", \"Topic4\", \"Topic4\", \"Topic4\", \"Topic4\", \"Topic4\", \"Topic4\", \"Topic5\", \"Topic5\", \"Topic5\", \"Topic5\", \"Topic5\", \"Topic5\", \"Topic5\", \"Topic5\", \"Topic5\", \"Topic5\", \"Topic5\", \"Topic5\", \"Topic5\", \"Topic5\", \"Topic5\", \"Topic5\", \"Topic5\", \"Topic5\", \"Topic5\", \"Topic5\", \"Topic5\", \"Topic5\", \"Topic5\", \"Topic5\", \"Topic5\", \"Topic5\", \"Topic5\", \"Topic5\", \"Topic5\", \"Topic5\", \"Topic5\", \"Topic5\", \"Topic5\", \"Topic5\", \"Topic5\", \"Topic6\", \"Topic6\", \"Topic6\", \"Topic6\", \"Topic6\", \"Topic6\", \"Topic6\", \"Topic6\", \"Topic6\", \"Topic6\", \"Topic6\", \"Topic6\", \"Topic6\", \"Topic6\", \"Topic6\", \"Topic6\", \"Topic6\", \"Topic6\", \"Topic6\", \"Topic6\", \"Topic6\", \"Topic6\", \"Topic6\", \"Topic6\", \"Topic6\", \"Topic6\", \"Topic6\", \"Topic6\", \"Topic6\", \"Topic6\", \"Topic6\", \"Topic6\", \"Topic6\", \"Topic6\", \"Topic7\", \"Topic7\", \"Topic7\", \"Topic7\", \"Topic7\", \"Topic7\", \"Topic7\", \"Topic7\", \"Topic7\", \"Topic7\", \"Topic7\", \"Topic7\", \"Topic7\", \"Topic7\", \"Topic7\", \"Topic7\", \"Topic7\", \"Topic7\", \"Topic7\", \"Topic7\", \"Topic7\", \"Topic7\", \"Topic7\", \"Topic7\", \"Topic7\", \"Topic7\", \"Topic7\", \"Topic7\", \"Topic7\", \"Topic7\", \"Topic7\", \"Topic7\", \"Topic7\", \"Topic7\", \"Topic7\", \"Topic7\", \"Topic7\", \"Topic7\", \"Topic7\", \"Topic8\", \"Topic8\", \"Topic8\", \"Topic8\", \"Topic8\", \"Topic8\", \"Topic8\", \"Topic8\", \"Topic8\", \"Topic8\", \"Topic8\", \"Topic8\", \"Topic8\", \"Topic8\", \"Topic8\", \"Topic8\", \"Topic8\", \"Topic8\", \"Topic8\", \"Topic8\", \"Topic8\", \"Topic8\", \"Topic8\", \"Topic8\", \"Topic8\", \"Topic8\", \"Topic8\", \"Topic8\", \"Topic8\", \"Topic8\", \"Topic8\", \"Topic8\", \"Topic8\", \"Topic8\", \"Topic8\", \"Topic8\", \"Topic8\", \"Topic8\", \"Topic8\", \"Topic8\", \"Topic9\", \"Topic9\", \"Topic9\", \"Topic9\", \"Topic9\", \"Topic9\", \"Topic9\", \"Topic9\", \"Topic9\", \"Topic9\", \"Topic9\", \"Topic9\", \"Topic9\", \"Topic9\", \"Topic9\", \"Topic9\", \"Topic9\", \"Topic9\", \"Topic9\", \"Topic9\", \"Topic9\", \"Topic9\", \"Topic9\", \"Topic9\", \"Topic9\", \"Topic9\", \"Topic9\", \"Topic9\", \"Topic9\", \"Topic9\", \"Topic9\", \"Topic9\", \"Topic9\", \"Topic9\", \"Topic9\", \"Topic9\", \"Topic9\", \"Topic10\", \"Topic10\", \"Topic10\", \"Topic10\", \"Topic10\", \"Topic10\", \"Topic10\", \"Topic10\", \"Topic10\", \"Topic10\", \"Topic10\", \"Topic10\", \"Topic10\", \"Topic10\", \"Topic10\", \"Topic10\", \"Topic10\", \"Topic10\", \"Topic10\", \"Topic10\", \"Topic10\", \"Topic10\", \"Topic10\", \"Topic10\", \"Topic10\", \"Topic10\", \"Topic10\", \"Topic10\", \"Topic10\", \"Topic10\", \"Topic10\", \"Topic10\", \"Topic10\", \"Topic10\", \"Topic10\", \"Topic10\", \"Topic10\", \"Topic10\", \"Topic10\", \"Topic10\", \"Topic10\", \"Topic10\"], \"Freq\": [31.0, 26.0, 21.0, 40.0, 23.0, 29.0, 14.0, 20.0, 18.0, 32.0, 41.0, 30.0, 17.0, 19.0, 26.0, 13.0, 9.0, 11.0, 36.0, 19.0, 34.0, 10.0, 11.0, 7.0, 53.0, 11.0, 22.0, 17.0, 21.0, 8.0, 5.526818631803358, 4.620810414217703, 4.620799381476825, 4.6207698704337, 12.705969216384585, 4.620828085043043, 4.62081135703992, 3.71477679062366, 3.520175921667335, 4.6206738126253555, 4.406669917436042, 3.714782773273446, 3.714625206087907, 6.212477908547446, 6.432847301425154, 15.845003872914575, 4.248691651039285, 2.808629987133013, 2.8087415124999855, 2.8087328721096876, 2.8087298883951957, 4.523167773947964, 3.6307115493513065, 8.474564292949795, 4.6208501705516545, 4.109640209089674, 2.8087366909689084, 2.808682123066633, 3.534228303988098, 23.204274803068486, 6.244545459748539, 6.801132824953896, 9.685445990020442, 3.714775107495276, 8.276083735305571, 6.683933607914192, 5.907422900280887, 4.8890395477178625, 4.564183249475403, 4.834689745077338, 4.496262856384598, 4.422775204660651, 3.959408318768813, 3.9649719993521257, 8.071505561278425, 11.619456675314966, 8.942146219449858, 15.451973619515956, 6.297579242518929, 13.349179602601982, 8.071488552586755, 3.6366144260486966, 3.636604067069523, 8.958466461772264, 10.51089119852423, 8.054707037222576, 4.523625021756585, 3.362639868280841, 8.815385375667768, 5.259925630657137, 11.539955782040343, 9.209589978692023, 7.002192769296974, 2.749638505770716, 5.882308410257527, 4.523599761857294, 3.1871687855981183, 6.6373207216543735, 6.297449884071087, 2.749666174674618, 2.339272192537456, 1.8626443854583274, 1.862651428517955, 3.772773383908122, 4.523532272464019, 3.972602650865776, 3.6366772056333456, 5.011147727644335, 4.600179024652347, 4.805216762927178, 4.767260331773235, 6.404430032590803, 5.502389575597862, 4.6003623891826555, 4.600344085304123, 4.595857865269375, 6.3147539156122106, 6.4043520972731525, 4.600366132458861, 3.5009971134353144, 2.733999790715042, 2.685147238940611, 9.66873246464607, 6.2371984415456305, 2.7963082264616226, 2.7963068716491564, 14.653896425620246, 4.462038149322791, 5.502496501293363, 2.6482793306833456, 9.593190202839994, 1.8942640275555416, 1.894267332667259, 1.8942217418417004, 1.8942819859019355, 2.796301414706829, 6.322726567372069, 1.8942645732610564, 1.8942268233864143, 1.8148180377164371, 2.5992974545844616, 3.9811887945065636, 3.698340183760989, 9.476919451657146, 7.252715446931073, 5.812133807501715, 8.212368041231727, 2.7962887244080923, 3.5177284284966914, 3.1476716671062714, 2.9985408945857244, 3.2303827937907608, 3.035974737667835, 2.796359417022102, 4.603308333645191, 5.505947175982663, 4.603317288483247, 5.505981653834378, 3.4256676925125813, 4.550533621746271, 3.700695224016706, 3.671571733223989, 4.603333014007572, 2.7980645564434776, 2.798131811712372, 3.700705522808136, 20.00660775607451, 13.743163771797288, 3.7006981790331808, 2.4229042667971843, 5.238986832175565, 2.213769671743626, 7.4287531426249265, 1.8954651005969416, 1.895518872867236, 1.8954946050700623, 1.89550487887831, 1.8954617345346962, 1.8954896949091993, 1.895470758941329, 1.8954593122428414, 3.700727174151639, 3.7007909669010814, 3.089210726979426, 4.97626341218144, 4.869436606411853, 3.7007251471135922, 2.798112775420635, 3.9231138478969863, 2.7980852813114403, 2.6134679126773697, 2.035922345774892, 2.234194775364405, 24.420428865923757, 6.407170785225317, 4.602324599348553, 8.959143065881403, 5.504736811825806, 7.230159068672989, 3.699915519742902, 4.602455989068986, 4.602419287127338, 2.7974992130200547, 2.7974691228475446, 3.699886789844884, 2.7974848993023316, 3.6999113845144174, 2.797512067057218, 2.7975048555516033, 2.7975276695821214, 11.469670311137534, 9.454092287998026, 2.2417958847834702, 4.602369374709474, 6.943009662435604, 1.895046586888788, 1.8950899506591803, 2.6325784323020365, 2.5440143254653145, 4.479756274353095, 1.8949872545120612, 3.6998975057399277, 1.7292595022756636, 3.1592248180810367, 2.79752963408315, 2.797499728651234, 3.0189916765738207, 3.420565925747742, 6.529629858250646, 5.609976640353573, 5.450722326272772, 4.690370555438839, 4.671631734042217, 6.4837341468112495, 3.770660832667409, 3.770669598089866, 15.51972395127999, 3.5325298489470396, 4.690375318110435, 11.89464344431512, 2.8509883165080927, 3.7706448700397863, 4.690334371768874, 3.7706809539520045, 4.211039233655937, 2.63626460704656, 2.636263566945669, 2.4353295420008476, 2.850973226221135, 12.81511470963393, 2.850969731358753, 1.9313134843149975, 2.8510424697826307, 1.9313305474893916, 7.215498307140106, 2.8509624377670377, 1.4370824080900328, 4.329867748148728, 2.975941743981439, 3.07724093047728, 3.336345171038553, 3.547634679173283, 8.490200376269947, 8.490287435652672, 3.825250577343371, 5.190226451151609, 7.1777945817733295, 2.8922749519604074, 3.8253111022494872, 3.8162533403213326, 5.312987501893362, 3.825279683249423, 2.892334876199138, 2.8923157132227564, 3.569729695878086, 2.3471045263135952, 4.504835326357804, 2.879676779512557, 1.9593138044989917, 1.9592823726740098, 1.9592533027243058, 2.8922755033179777, 3.8253469357561065, 1.9592527067424368, 1.9592862042427448, 1.659184366026607, 12.387770381549196, 1.6008638633852856, 1.9592821315150035, 1.9592419357912214, 1.959299058139526, 3.1682169918248833, 8.46859896666574, 5.426540051219347, 3.3238384076406513, 2.1768076262118248, 2.892332819749406, 2.5395801704561047, 2.8923324363528957, 2.2037413764205556, 1.9593554722397184, 12.743040602416661, 7.202052307289449, 4.609175792156488, 5.5129533671072455, 4.609247057164727, 4.609237161519013, 4.609211297926941, 3.7054544741056707, 3.7054062569678106, 5.512943761031373, 4.4685497268542544, 2.8016639542554933, 2.8016706034502326, 2.8016841852735963, 3.7054376193001675, 3.705383414378534, 1.8979207188767835, 1.8978905439410172, 1.8978627661592788, 7.249858515927858, 4.483463596960328, 1.8978907840667256, 1.8978594227093974, 1.8979260042117425, 2.269107124362566, 3.6314396045993407, 1.4267711232772682, 1.8979027831396, 1.8978825444562872, 2.801659612669191, 5.626666533344728, 3.703525099673951, 2.4797547992223885, 4.46010905590944, 4.224990071513478, 2.801659356822763, 3.7054612510200347, 2.8016575493178224, 3.626294320805681, 2.8015057367412473, 3.8061755460844973, 5.629233034828627, 19.978396739386795, 3.806229893199173, 4.734619429575547, 2.8778693112295666, 3.8062273645935742, 2.87786083567128, 2.87784932998756, 3.8062501494979366, 3.8062910436569273, 2.877869544372775, 2.877851388741598, 1.949471783287502, 1.9495721680152862, 1.9495494153768005, 2.704473271877392, 2.877908818245598, 3.6870035806101966, 1.949541604648862, 3.7705322348903025, 1.9495321884436614, 1.9494749194349497, 1.9495158107251997, 4.635469828626655, 1.0211617415245637, 1.0211777146693155, 1.0211731450636818, 1.021194948669542, 2.8779852448684218, 2.4849596139486567, 6.39713605334935, 4.303968241659523, 2.1145521033310746, 3.344624653981942, 2.834554713526644, 1.9495386412119742, 6.602016594475343, 3.8124962011932535, 5.672164502195855, 13.831082828098062, 4.733149040590846, 5.483202536754134, 4.578478023348069, 4.599272112823372, 5.669153225164456, 4.720248516326595, 1.882701758919033, 4.815062448016986, 1.9527480824341608, 2.6665270982561116, 2.882568024790039, 1.8327591268976942, 1.9527718900712272, 1.2262760381487054, 1.0228491373721817, 1.0227935378524082, 1.0228552664772206, 1.0228591880941071, 1.0228735019392203, 1.0227965326559905, 1.0228676384195674, 1.0228234208452565, 1.02285028371962, 1.022844424558348, 1.0228511674338816, 1.022875750999561, 3.812535585956766, 2.654284608566152, 3.653573719527518, 3.281083667706467, 2.396868234719927, 2.88257959902153, 2.345427360050442, 1.1446628072353828, 1.1828822372425785, 1.069355716315056, 1.0919172954178793, 1.084783731718526], \"Term\": [\"time\", \"let\", \"day\", \"world\", \"right\", \"free\", \"god\", \"freedom\", \"fellow\", \"man\", \"government\", \"good\", \"citizen\", \"new\", \"shall\", \"president\", \"present\", \"union\", \"nation\", \"america\", \"make\", \"begin\", \"public\", \"think\", \"people\", \"united\", \"power\", \"peace\", \"life\", \"heart\", \"special\", \"hear\", \"grow\", \"summon\", \"peace\", \"economic\", \"political\", \"merely\", \"strive\", \"young\", \"pledge\", \"administration\", \"tell\", \"help\", \"public\", \"good\", \"earth\", \"idea\", \"safety\", \"decision\", \"american people\", \"service\", \"security\", \"need\", \"year\", \"principle\", \"discipline\", \"individual\", \"equal\", \"people\", \"come\", \"hope\", \"make\", \"thank\", \"government\", \"nation\", \"man\", \"day\", \"power\", \"time\", \"free\", \"shall\", \"strength\", \"world\", \"say\", \"president\", \"fellow citizen\", \"fellow\", \"speak\", \"citizen\", \"land\", \"task\", \"express\", \"change\", \"today\", \"meet\", \"write\", \"continue\", \"americans\", \"provision\", \"america\", \"constitution\", \"law\", \"hero\", \"face\", \"purpose\", \"challenge\", \"word\", \"hand\", \"deny\", \"little\", \"serve\", \"balance\", \"hold\", \"war\", \"force\", \"strength\", \"power\", \"new\", \"great\", \"make\", \"federal\", \"believe\", \"break\", \"dark\", \"child\", \"generation\", \"act\", \"bear\", \"like\", \"preserve\", \"pass\", \"new\", \"mean\", \"live\", \"order\", \"nation\", \"hold\", \"states\", \"revolution\", \"great\", \"danger\", \"trade\", \"free man\", \"trust\", \"community\", \"freedom\", \"sense\", \"success\", \"true\", \"moment\", \"war\", \"change\", \"government\", \"world\", \"time\", \"people\", \"united\", \"know\", \"word\", \"need\", \"man\", \"free\", \"law\", \"sound\", \"require\", \"lose\", \"respect\", \"progress\", \"sacrifice\", \"party\", \"produce\", \"seek\", \"trade\", \"spirit\", \"responsibility\", \"world\", \"free\", \"measure\", \"patriotism\", \"duty\", \"mind\", \"work\", \"crisis\", \"peaceful\", \"job\", \"reach\", \"far\", \"confidence\", \"strong\", \"value\", \"force\", \"mean\", \"face\", \"know\", \"new\", \"americans\", \"friend\", \"nation\", \"citizen\", \"good\", \"leadership\", \"right\", \"let\", \"understand\", \"remember\", \"begin\", \"high\", \"support\", \"fear\", \"remain\", \"case\", \"danger\", \"crisis\", \"end\", \"restore\", \"congress\", \"true\", \"far\", \"century\", \"shall\", \"power\", \"renew\", \"friend\", \"hope\", \"city\", \"reach\", \"oath\", \"liberty\", \"country\", \"father\", \"duty\", \"energy\", \"come\", \"meet\", \"faith\", \"america\", \"government\", \"state\", \"man woman\", \"woman\", \"labor\", \"material\", \"authority\", \"exercise\", \"factory\", \"right\", \"dare\", \"care\", \"freedom\", \"free man\", \"enemy\", \"constitutional\", \"moral\", \"vital\", \"circumstance\", \"conflict\", \"concern\", \"revolution\", \"man\", \"view\", \"deny\", \"act\", \"courage\", \"free\", \"friend\", \"little\", \"work\", \"country\", \"need\", \"world\", \"people\", \"present\", \"union\", \"point\", \"way\", \"old\", \"balance\", \"form\", \"lie\", \"national\", \"measure\", \"success\", \"value\", \"action\", \"patriotism\", \"thing\", \"courage\", \"leave\", \"bring\", \"destroy\", \"community\", \"common\", \"order\", \"offer\", \"instrument\", \"government\", \"renew\", \"home\", \"effort\", \"security\", \"duty\", \"make\", \"shall\", \"constitution\", \"light\", \"nation\", \"life\", \"people\", \"good\", \"work\", \"god\", \"difference\", \"reject\", \"endure\", \"love\", \"choose\", \"effort\", \"father\", \"fact\", \"ask\", \"leadership\", \"city\", \"blessing\", \"sense\", \"thank\", \"use\", \"willing\", \"opinion\", \"hard\", \"life\", \"faith\", \"discipline\", \"turn\", \"confidence\", \"earth\", \"history\", \"necessary\", \"enemy\", \"form\", \"help\", \"good\", \"know\", \"national\", \"nation\", \"make\", \"country\", \"great\", \"hand\", \"man\", \"people\", \"leader\", \"question\", \"time\", \"protect\", \"just\", \"serve\", \"rule\", \"destroy\", \"bring\", \"oath\", \"possible\", \"strong\", \"congress\", \"return\", \"tell\", \"energy\", \"use\", \"light\", \"history\", \"young\", \"faith\", \"executive\", \"heart\", \"place\", \"life\", \"express\", \"hero\", \"preserve\", \"job\", \"hand\", \"word\", \"people\", \"make\", \"country\", \"world\", \"government\", \"work\", \"think\", \"prayer\", \"heart\", \"day\", \"united states\", \"future\", \"stand\", \"place\", \"united\", \"public\", \"opportunity\", \"states\", \"little\", \"moment\", \"year\", \"executive\", \"american\", \"like\", \"hero\", \"pass\", \"opinion\", \"restore\", \"spirit\", \"decision\", \"mind\", \"factory\", \"fact\", \"reject\", \"century\", \"individual\", \"great\", \"america\", \"man\", \"good\", \"life\", \"people\", \"government\", \"difference\", \"begin\", \"authority\", \"history\", \"constitution\"], \"Total\": [31.0, 26.0, 21.0, 40.0, 23.0, 29.0, 14.0, 20.0, 18.0, 32.0, 41.0, 30.0, 17.0, 19.0, 26.0, 13.0, 9.0, 11.0, 36.0, 19.0, 34.0, 10.0, 11.0, 7.0, 53.0, 11.0, 22.0, 17.0, 21.0, 8.0, 6.347736705901246, 5.4416926203476885, 5.44169284281954, 5.441693023625985, 17.17501441680525, 6.371555852304759, 6.371555710715249, 5.438071221586891, 5.471554304778566, 7.298376438213891, 7.230475257768538, 6.309611300012372, 6.392329895391472, 10.866542536987417, 11.902452693510465, 30.02392241145245, 8.15088703684663, 5.418620155510946, 5.4359764429305075, 5.4618904753776345, 5.465020108640894, 9.097539543999158, 7.304932498593321, 17.208171491953596, 10.062234417587211, 9.020253416567757, 6.339547823154973, 6.363925954584837, 8.1681659563616, 53.760035129338576, 14.554314491668253, 18.1180417253304, 34.71330571484354, 9.053111720460763, 41.193030697271986, 36.22495585172359, 32.83177182680904, 21.248360657472404, 22.50403710521002, 31.263081080639978, 29.039369515145168, 26.43642996108188, 11.769255574755604, 40.74476620651461, 8.894301585015906, 13.37521702655828, 10.68583338376633, 18.707944440062825, 8.053331306234458, 17.828677517734434, 11.66320193888018, 5.363156720484005, 5.387736952619085, 13.389419129450086, 16.097803167679775, 12.504478312369121, 7.172092585734538, 5.406601730572809, 14.296650344041844, 8.973947882688691, 19.738972229723576, 17.130852192997484, 13.465678098328596, 5.4306189484307055, 11.676673226386338, 9.926230373547087, 7.180323154181242, 15.311292669348362, 15.412494141071859, 7.216212073004193, 6.36693678505705, 5.470455043695695, 5.484412779353064, 11.68195570507279, 14.402086485728345, 12.621671423526356, 11.769255574755604, 22.50403710521002, 19.780679032030676, 27.14515599235186, 34.71330571484354, 7.225708905145031, 6.323675289633722, 5.421641123616263, 5.421641369222905, 6.354554777953804, 9.057979559932699, 10.887332921472993, 8.139773338938452, 6.388552007370329, 5.431854830967474, 5.451409535667774, 19.780679032030676, 13.527463369819483, 6.35800189894989, 6.386170585555424, 36.22495585172359, 11.68195570507279, 14.652168142162811, 7.279070605009832, 27.14515599235186, 5.422807980236425, 5.423375450192413, 5.474550743777818, 5.48291644038137, 8.221775469873657, 20.967600380716576, 6.3598126118264675, 6.40150207140228, 6.308464630131686, 9.112957723808686, 14.402086485728345, 13.389419129450086, 41.193030697271986, 40.74476620651461, 31.263081080639978, 53.760035129338576, 11.914855162609683, 19.049579573942857, 15.311292669348362, 17.208171491953596, 32.83177182680904, 29.039369515145168, 13.465678098328596, 5.42453100010785, 7.229565610237726, 6.357523444402296, 8.135609273105938, 5.429008914411689, 7.2368199004871245, 6.311323247559022, 6.353514273710402, 8.192939499246267, 5.423375450192413, 5.455215762987805, 7.255850066307308, 40.74476620651461, 29.039369515145168, 8.253890771698693, 5.49792159673912, 12.74479777935413, 5.4626962657111395, 20.05920073153849, 5.423964183083927, 5.431206240206988, 5.43806139199567, 5.454533134290425, 6.310946473041463, 6.345920066190876, 6.40375004710427, 6.419435602218702, 12.621671423526356, 13.527463369819483, 11.676673226386338, 19.049579573942857, 19.780679032030676, 14.296650344041844, 11.823422976016044, 36.22495585172359, 17.828677517734434, 30.02392241145245, 8.141362314204354, 23.72141114252125, 26.180702551150954, 7.228432568703686, 5.423586684777641, 10.870287028474669, 7.229769833689193, 9.938899424567833, 5.423775651122684, 7.216612636161427, 8.137708629043647, 5.422807980236425, 5.423964183083927, 7.2133694551570935, 5.454649434419302, 7.306183420193599, 6.308464630131686, 6.310946473041463, 6.360692440267243, 26.43642996108188, 22.50403710521002, 5.457541221131233, 11.823422976016044, 18.1180417253304, 5.427598520658352, 5.454533134290425, 8.236107138428416, 8.118914865705472, 14.562698627059147, 6.331358911485723, 12.74479777935413, 6.417653134006158, 14.554314491668253, 12.504478312369121, 14.564740383082407, 19.738972229723576, 41.193030697271986, 7.349163287326421, 6.429493261625887, 7.333177629871352, 6.413584534658388, 6.396140272315467, 9.166521064790825, 5.47713555851621, 5.52001632672527, 23.72141114252125, 5.4686703181231255, 7.372678470077528, 20.967600380716576, 5.474550743777818, 7.303717630562826, 9.088242573291595, 7.353519453375749, 8.244370101901787, 5.45609366989922, 5.472873535040903, 5.498707554890585, 7.279070605009832, 32.83177182680904, 7.336460700386315, 7.216212073004193, 10.887332921472993, 7.383810964218152, 29.039369515145168, 11.823422976016044, 6.36693678505705, 20.05920073153849, 14.562698627059147, 17.208171491953596, 40.74476620651461, 53.760035129338576, 9.30840690391146, 11.147749054341665, 5.563112841631201, 8.282708515569816, 12.932060268051654, 5.484412779353064, 7.33794720649697, 7.380178584348683, 10.987688340161927, 8.253890771698693, 6.40150207140228, 6.419435602218702, 8.232394476529192, 5.49792159673912, 11.029092971869462, 7.383810964218152, 5.491580803526866, 5.56247783048665, 5.562477017452219, 8.221775469873657, 11.01367242403967, 6.386170585555424, 6.41425676357434, 5.471732379696974, 41.193030697271986, 5.457541221131233, 7.284132945044879, 7.296257658042696, 7.304932498593321, 12.74479777935413, 34.71330571484354, 26.43642996108188, 17.130852192997484, 10.089297723972386, 36.22495585172359, 21.922251116581677, 53.760035129338576, 30.02392241145245, 20.05920073153849, 14.4939778144747, 9.07483741850627, 6.36013676806134, 8.107997660749815, 7.234341391838945, 7.245593768790332, 7.296257658042696, 6.331358911485723, 6.3587994988651495, 10.004865695230338, 8.141362314204354, 5.427598520658352, 5.457779426461651, 6.3598126118264675, 9.053111720460763, 9.14640535392548, 5.433693074691483, 5.453502098982787, 5.464074016535208, 21.922251116581677, 14.564740383082407, 6.339547823154973, 6.344639430322295, 6.345920066190876, 8.15088703684663, 13.681520142215195, 5.461831825279864, 7.303717630562826, 7.33794720649697, 10.866542536987417, 30.02392241145245, 19.049579573942857, 10.987688340161927, 36.22495585172359, 34.71330571484354, 14.562698627059147, 27.14515599235186, 15.412494141071859, 32.83177182680904, 53.760035129338576, 5.55782473271579, 8.285610263269884, 31.263081080639978, 6.433489338671599, 8.260432691223452, 5.470455043695695, 7.342965415689475, 5.562477017452219, 5.56247783048665, 8.236107138428416, 8.251181401290152, 6.40375004710427, 7.306183420193599, 5.492465771865074, 6.392329895391472, 6.417653134006158, 9.14640535392548, 10.089297723972386, 13.681520142215195, 7.298376438213891, 14.564740383082407, 8.239308624837372, 8.347333346629796, 9.218502008112065, 21.922251116581677, 5.387736952619085, 5.4306189484307055, 5.431854830967474, 5.43806139199567, 15.412494141071859, 15.311292669348362, 53.760035129338576, 34.71330571484354, 14.562698627059147, 40.74476620651461, 41.193030697271986, 20.05920073153849, 7.420516884978376, 5.53468832722353, 8.347333346629796, 21.248360657472404, 7.364757793302482, 9.222752088213888, 8.247540820658688, 9.218502008112065, 11.914855162609683, 11.902452693510465, 5.55243797474531, 14.652168142162811, 6.36693678505705, 9.112957723808686, 10.062234417587211, 8.239308624837372, 9.1113661492137, 6.388552007370329, 5.4306189484307055, 5.451409535667774, 5.453502098982787, 5.454649434419302, 5.455215762987805, 5.4618904753776345, 5.4626962657111395, 5.52001632672527, 6.3587994988651495, 6.36013676806134, 6.360692440267243, 6.363925954584837, 27.14515599235186, 19.738972229723576, 32.83177182680904, 30.02392241145245, 21.922251116581677, 53.760035129338576, 41.193030697271986, 9.07483741850627, 10.870287028474669, 9.166521064790825, 13.681520142215195, 17.130852192997484], \"loglift\": [30.0, 29.0, 28.0, 27.0, 26.0, 25.0, 24.0, 23.0, 22.0, 21.0, 20.0, 19.0, 18.0, 17.0, 16.0, 15.0, 14.0, 13.0, 12.0, 11.0, 10.0, 9.0, 8.0, 7.0, 6.0, 5.0, 4.0, 3.0, 2.0, 1.0, 1.7565, 1.7315, 1.7315, 1.7315, 1.5936, 1.5737, 1.5737, 1.5139, 1.4539, 1.4379, 1.3998, 1.3652, 1.3522, 1.3359, 1.2797, 1.2559, 1.2435, 1.2379, 1.2347, 1.2299, 1.2294, 1.1962, 1.1959, 1.1867, 1.1168, 1.1089, 1.0809, 1.0771, 1.0572, 1.0548, 1.0488, 0.9152, 0.6185, 1.0042, 0.2901, 0.205, 0.1798, 0.4257, 0.2995, 0.0284, 0.0296, 0.107, 0.8056, -0.4348, 1.9397, 1.8961, 1.8587, 1.8456, 1.7909, 1.7475, 1.6687, 1.6483, 1.6437, 1.635, 1.6105, 1.597, 1.5759, 1.5619, 1.5533, 1.5026, 1.5, 1.4162, 1.3829, 1.3562, 1.3512, 1.2509, 1.2246, 1.2009, 1.1418, 1.072, 1.0355, 0.9595, 0.9569, 0.9066, 0.8787, 0.8808, 0.8624, 0.5348, 0.5782, 0.3053, 0.0515, 2.0768, 2.0584, 2.0332, 2.0332, 1.8735, 1.8367, 1.6669, 1.6269, 1.596, 1.511, 1.4894, 1.4817, 1.4233, 1.3761, 1.3717, 1.2924, 1.2351, 1.2181, 1.1864, 1.1573, 1.1457, 1.1456, 1.1362, 1.1347, 1.119, 0.9987, 0.9863, 0.9798, 0.9516, 0.943, 0.9117, 0.9109, 0.7281, 0.4715, 0.515, 0.3186, 0.748, 0.5083, 0.6156, 0.4502, -0.1213, -0.0606, 0.6257, 2.1015, 1.9933, 1.9428, 1.8753, 1.8052, 1.8017, 1.7319, 1.7173, 1.6892, 1.6039, 1.5981, 1.5924, 1.5544, 1.5176, 1.4635, 1.4463, 1.3767, 1.3624, 1.2723, 1.2143, 1.213, 1.2117, 1.2087, 1.0629, 1.0573, 1.0483, 1.0458, 1.0388, 0.9695, 0.936, 0.9233, 0.864, 0.9142, 0.8245, 0.0428, 0.4138, -0.1756, 0.8797, -0.0968, 2.2282, 2.1772, 2.1336, 2.1044, 2.0252, 1.9796, 1.9153, 1.848, 1.7279, 1.6359, 1.6357, 1.6302, 1.63, 1.6174, 1.4846, 1.4842, 1.4764, 1.4627, 1.4305, 1.4081, 1.3543, 1.3386, 1.2455, 1.2406, 1.1572, 1.1373, 1.1189, 1.0915, 1.061, 0.9864, 0.7702, 0.8004, 0.6479, 0.4201, -0.1907, 2.2973, 2.2792, 2.1189, 2.1026, 2.1013, 2.0693, 2.0422, 2.0344, 1.9913, 1.9785, 1.9633, 1.8486, 1.7631, 1.7544, 1.7541, 1.7476, 1.7437, 1.6882, 1.6851, 1.6011, 1.4782, 1.4748, 1.4703, 1.0974, 1.0756, 1.0745, 1.0231, 0.9931, 0.927, 0.8824, 0.8276, 0.6942, -0.0869, -0.3027, 2.3271, 2.1468, 2.0446, 1.9518, 1.8304, 1.7793, 1.7677, 1.7596, 1.6925, 1.6501, 1.6247, 1.6219, 1.5836, 1.568, 1.5238, 1.4775, 1.3885, 1.3757, 1.3757, 1.3744, 1.3617, 1.2376, 1.2332, 1.2259, 1.2176, 1.1927, 1.106, 1.1043, 1.1032, 1.0272, 1.0084, 0.8357, 0.7794, 0.8855, -0.1085, 0.2636, -0.5033, -0.1927, 0.0931, 2.3066, 2.2042, 2.1133, 2.0496, 1.9846, 1.983, 1.976, 1.8996, 1.8953, 1.8394, 1.8354, 1.7741, 1.7685, 1.6156, 1.542, 1.5318, 1.3835, 1.3798, 1.3779, 1.3288, 1.2571, 1.2293, 1.2285, 1.2283, 1.1566, 1.1089, 1.093, 1.0877, 1.083, 1.0799, 0.7609, 0.7976, 0.9467, 0.3408, 0.3292, 0.7871, 0.4439, 0.7304, 0.2322, -0.519, 2.2422, 2.2343, 2.173, 2.0959, 2.0642, 1.9785, 1.9637, 1.9618, 1.9618, 1.8489, 1.8471, 1.821, 1.6891, 1.585, 1.4333, 1.4294, 1.4024, 1.3664, 1.3096, 1.3008, 1.2694, 1.1795, 1.1664, 1.0672, 1.0671, 0.9576, 0.9497, 0.9495, 0.9484, 0.9427, 0.8025, 0.4921, 0.5332, 0.6912, 0.1208, -0.0556, 0.2897, 2.6121, 2.3562, 2.3426, 2.2996, 2.2868, 2.209, 2.1404, 2.0336, 1.9862, 1.8041, 1.6474, 1.6161, 1.5471, 1.5, 1.4788, 1.2258, 1.1887, 1.0784, 1.0595, 1.0556, 1.0553, 1.0551, 1.055, 1.0537, 1.0536, 1.0431, 0.9017, 0.9015, 0.9014, 0.9009, 0.766, 0.7225, 0.5332, 0.5151, 0.5156, -0.1969, -0.1369, 0.6585, 0.5109, 0.5804, 0.2008, -0.0306], \"logprob\": [30.0, 29.0, 28.0, 27.0, 26.0, 25.0, 24.0, 23.0, 22.0, 21.0, 20.0, 19.0, 18.0, 17.0, 16.0, 15.0, 14.0, 13.0, 12.0, 11.0, 10.0, 9.0, 8.0, 7.0, 6.0, 5.0, 4.0, 3.0, 2.0, 1.0, -4.1365, -4.3155, -4.3155, -4.3155, -3.304, -4.3155, -4.3155, -4.5338, -4.5876, -4.3156, -4.363, -4.5338, -4.5338, -4.0195, -3.9847, -3.0832, -4.3995, -4.8134, -4.8134, -4.8134, -4.8134, -4.3369, -4.5567, -3.709, -4.3155, -4.4328, -4.8134, -4.8134, -4.5836, -2.7018, -4.0144, -3.929, -3.5755, -4.5338, -3.7327, -3.9464, -4.0699, -4.2591, -4.3279, -4.2703, -4.3429, -4.3593, -4.47, -4.4686, -3.6159, -3.2516, -3.5135, -2.9665, -3.8641, -3.1128, -3.6159, -4.4132, -4.4132, -3.5117, -3.3519, -3.618, -4.195, -4.4916, -3.5278, -4.0442, -3.2585, -3.484, -3.7581, -4.6928, -3.9323, -4.195, -4.5451, -3.8116, -3.8641, -4.6928, -4.8544, -5.0823, -5.0823, -4.3765, -4.195, -4.3249, -4.4132, -4.0926, -4.1782, -4.1346, -4.1425, -3.6866, -3.8384, -4.0175, -4.0175, -4.0185, -3.7007, -3.6866, -4.0175, -4.2906, -4.5378, -4.5559, -3.2747, -3.7131, -4.5153, -4.5153, -2.8589, -4.048, -3.8384, -4.5697, -3.2826, -4.9048, -4.9048, -4.9048, -4.9048, -4.5153, -3.6995, -4.9048, -4.9048, -4.9476, -4.5884, -4.162, -4.2357, -3.2947, -3.5622, -3.7837, -3.438, -4.5153, -4.2858, -4.3969, -4.4455, -4.371, -4.4331, -4.5153, -3.9486, -3.7696, -3.9486, -3.7696, -4.2441, -3.9602, -4.1669, -4.1748, -3.9486, -4.4465, -4.4465, -4.1669, -2.4794, -2.8549, -4.1669, -4.5905, -3.8193, -4.6807, -3.4701, -4.836, -4.8359, -4.8359, -4.8359, -4.836, -4.8359, -4.836, -4.836, -4.1669, -4.1669, -4.3475, -3.8707, -3.8924, -4.1669, -4.4465, -4.1085, -4.4465, -4.5147, -4.7645, -4.6715, -2.2479, -3.5859, -3.9168, -3.2506, -3.7377, -3.4651, -4.135, -3.9167, -3.9167, -4.4146, -4.4146, -4.135, -4.4146, -4.135, -4.4146, -4.4146, -4.4146, -3.0036, -3.1969, -4.636, -3.9167, -3.5056, -4.8041, -4.804, -4.4754, -4.5096, -3.9437, -4.8041, -4.135, -4.8956, -4.293, -4.4146, -4.4146, -4.3384, -4.2135, -3.4492, -3.601, -3.6298, -3.7801, -3.7841, -3.4563, -3.9983, -3.9983, -2.5835, -4.0635, -3.7801, -2.8495, -4.2779, -3.9983, -3.7801, -3.9983, -3.8879, -4.3562, -4.3562, -4.4355, -4.2779, -2.7749, -4.2779, -4.6674, -4.2779, -4.6674, -3.3493, -4.2779, -4.9629, -3.86, -4.235, -4.2015, -4.1207, -4.0593, -3.183, -3.183, -3.9803, -3.6752, -3.351, -4.2599, -3.9803, -3.9827, -3.6518, -3.9803, -4.2599, -4.2599, -4.0495, -4.4688, -3.8168, -4.2643, -4.6494, -4.6494, -4.6494, -4.2599, -3.9803, -4.6494, -4.6494, -4.8156, -2.8052, -4.8514, -4.6494, -4.6494, -4.6494, -4.1688, -3.1856, -3.6306, -4.1208, -4.5441, -4.2599, -4.3899, -4.2599, -4.5318, -4.6493, -2.7608, -3.3314, -3.7777, -3.5987, -3.7777, -3.7777, -3.7777, -3.996, -3.996, -3.5987, -3.8087, -4.2755, -4.2755, -4.2755, -3.996, -3.996, -4.665, -4.665, -4.665, -3.3248, -3.8054, -4.665, -4.665, -4.665, -4.4864, -4.0161, -4.9503, -4.665, -4.665, -4.2756, -3.5782, -3.9965, -4.3976, -3.8106, -3.8647, -4.2756, -3.996, -4.2756, -4.0176, -4.2756, -3.7837, -3.3923, -2.1256, -3.7836, -3.5654, -4.0632, -3.7836, -4.0632, -4.0632, -3.7836, -3.7836, -4.0632, -4.0632, -4.4527, -4.4527, -4.4527, -4.1254, -4.0632, -3.8155, -4.4527, -3.7931, -4.4527, -4.4527, -4.4527, -3.5865, -5.0993, -5.0993, -5.0993, -5.0993, -4.0632, -4.21, -3.2644, -3.6607, -4.3714, -3.9129, -4.0784, -4.4527, -3.1248, -3.6739, -3.2766, -2.3852, -3.4576, -3.3105, -3.4908, -3.4863, -3.2771, -3.4603, -4.3795, -3.4404, -4.3429, -4.0314, -3.9535, -4.4063, -4.3429, -4.8082, -4.9896, -4.9896, -4.9896, -4.9896, -4.9895, -4.9896, -4.9896, -4.9896, -4.9896, -4.9896, -4.9896, -4.9895, -3.6739, -4.036, -3.7165, -3.824, -4.138, -3.9535, -4.1597, -4.8771, -4.8442, -4.9451, -4.9242, -4.9308]}, \"token.table\": {\"Topic\": [3, 4, 6, 1, 2, 3, 7, 8, 1, 2, 2, 4, 5, 10, 1, 2, 4, 5, 7, 10, 1, 5, 7, 2, 4, 5, 5, 7, 8, 2, 6, 10, 2, 7, 1, 3, 5, 10, 3, 3, 7, 8, 3, 7, 9, 6, 7, 10, 1, 3, 5, 1, 5, 10, 1, 2, 4, 2, 3, 3, 7, 2, 8, 9, 2, 4, 6, 2, 4, 8, 5, 8, 1, 3, 5, 7, 10, 1, 5, 6, 7, 8, 10, 3, 4, 7, 1, 6, 9, 3, 4, 6, 8, 4, 6, 8, 5, 9, 2, 3, 5, 7, 10, 2, 3, 5, 6, 2, 7, 4, 5, 6, 8, 9, 1, 6, 7, 9, 4, 5, 3, 5, 2, 6, 3, 1, 7, 10, 1, 5, 10, 2, 3, 5, 6, 7, 9, 8, 10, 1, 5, 8, 4, 5, 7, 1, 4, 8, 1, 10, 7, 8, 2, 4, 5, 2, 8, 1, 6, 8, 1, 5, 7, 9, 1, 4, 6, 8, 2, 5, 7, 9, 10, 2, 6, 2, 9, 2, 4, 7, 8, 5, 8, 10, 6, 10, 1, 4, 5, 8, 9, 2, 4, 5, 5, 8, 4, 5, 3, 2, 5, 8, 10, 2, 8, 1, 2, 4, 6, 8, 2, 7, 8, 1, 3, 4, 6, 3, 6, 2, 3, 5, 6, 4, 5, 6, 7, 3, 9, 10, 3, 8, 9, 8, 10, 1, 4, 7, 8, 10, 1, 3, 4, 5, 7, 9, 10, 1, 2, 3, 4, 5, 8, 9, 10, 1, 2, 7, 8, 9, 10, 1, 7, 8, 1, 9, 10, 1, 3, 8, 2, 9, 10, 5, 8, 2, 3, 4, 6, 8, 9, 10, 1, 2, 3, 4, 1, 2, 4, 7, 1, 3, 5, 6, 1, 2, 3, 1, 3, 5, 10, 2, 5, 6, 7, 1, 2, 4, 9, 3, 4, 9, 1, 3, 4, 5, 6, 8, 9, 10, 6, 8, 1, 2, 7, 10, 1, 2, 3, 7, 8, 7, 9, 1, 4, 8, 1, 3, 7, 5, 8, 1, 2, 3, 4, 5, 1, 4, 7, 9, 2, 4, 5, 7, 8, 9, 10, 1, 4, 5, 7, 9, 3, 7, 10, 2, 6, 10, 1, 3, 9, 4, 7, 3, 8, 1, 2, 6, 7, 8, 9, 10, 1, 2, 3, 4, 6, 8, 10, 6, 2, 6, 2, 3, 4, 5, 8, 4, 7, 2, 4, 5, 1, 5, 1, 4, 10, 1, 3, 5, 10, 3, 6, 7, 9, 1, 2, 3, 4, 7, 8, 9, 2, 4, 7, 8, 1, 4, 7, 8, 1, 2, 3, 6, 2, 3, 4, 5, 8, 9, 3, 4, 7, 10, 1, 3, 4, 7, 9, 10, 3, 4, 8, 10, 6, 7, 9, 10, 3, 4, 7, 2, 4, 5, 3, 8, 10, 4, 7, 1, 2, 4, 1, 4, 5, 1, 3, 4, 5, 6, 7, 8, 9, 10, 4, 9, 10, 1, 2, 4, 6, 7, 1, 10, 2, 4, 7, 8, 9, 1, 2, 3, 5, 8, 8, 10, 7, 2, 3, 9, 2, 7, 1, 2, 4, 8, 4, 5, 9, 1, 4, 1, 4, 9, 2, 4, 9, 1, 10, 2, 6, 7, 8, 4, 5, 9, 4, 5, 7, 8, 10, 1, 2, 5, 5, 2, 5, 7, 4, 5, 1, 4, 5, 3, 4, 10, 1, 5, 10, 3, 4, 6, 9, 3, 5, 6, 1, 2, 4, 6, 8, 1, 9, 1, 4, 1, 4, 8, 2, 1, 3, 7, 4, 5, 7, 3, 7, 8, 2, 9, 1, 5, 6, 10, 1, 3, 4, 5, 6, 7, 9, 4, 2, 7, 1, 1, 4, 10, 2, 4, 5, 10, 6, 1, 3, 6, 7, 10, 1, 2, 3, 7, 9, 1, 7, 3, 4, 9, 2, 3, 7, 1, 1, 3, 5, 2, 8, 1, 9, 1, 5, 8, 1, 5, 6, 7, 10, 1, 3, 9, 2, 3, 5, 10, 3, 4, 2, 3, 5, 1, 3, 7, 9, 1, 2, 8, 9, 5, 6, 7, 1, 3, 10, 3, 10, 1, 7, 8, 9, 4, 7, 8, 3, 4, 6, 7, 9, 1, 4, 6, 7, 1, 2, 3, 5, 9, 2, 4, 7, 1, 4, 8, 1, 6, 1, 2, 3, 9, 4, 5, 6, 7, 8, 9, 1, 2, 3, 4, 6, 9, 1, 2, 6, 1, 4, 9, 10, 1, 9], \"Freq\": [0.5510991574590551, 0.0918498595765092, 0.27554957872952757, 0.1214713414002488, 0.1214713414002488, 0.1214713414002488, 0.4858853656009952, 0.1214713414002488, 0.6339534734876865, 0.31697673674384325, 0.6079343878872283, 0.10132239798120472, 0.15198359697180708, 0.15198359697180708, 0.3292590760671929, 0.10975302535573096, 0.10975302535573096, 0.10975302535573096, 0.10975302535573096, 0.21950605071146193, 0.5489458300906556, 0.18298194336355186, 0.18298194336355186, 0.6295180887424282, 0.279785817218857, 0.06994645430471425, 0.19990273342234555, 0.19990273342234555, 0.5997082002670366, 0.10909264190108742, 0.6545558514065245, 0.10909264190108742, 0.36466985262840085, 0.5470047789426012, 0.36856063124618216, 0.614267718743637, 0.8279450189700179, 0.09199389099666866, 0.9488153210263157, 0.18322470035186322, 0.18322470035186322, 0.5496741010555897, 0.9222299827667261, 0.35955199480319083, 0.5393279922047862, 0.6781795815852827, 0.13563591631705654, 0.13563591631705654, 0.24576942861556378, 0.12288471430778189, 0.6144235715389095, 0.3144311753447979, 0.4716467630171968, 0.15721558767239896, 0.1392694978383641, 0.41780849351509225, 0.2785389956767282, 0.6721725500551745, 0.2987433555800776, 0.7868371860365052, 0.15736743720730104, 0.13801491387874926, 0.6900745693937463, 0.13801491387874926, 0.18328131086108557, 0.18328131086108557, 0.5498439325832567, 0.7291623277760629, 0.16826822948678377, 0.05608940982892792, 0.36848709284367, 0.552730639265505, 0.4122488904190406, 0.13741629680634687, 0.2061244452095203, 0.13741629680634687, 0.06870814840317344, 0.1815924718838175, 0.1815924718838175, 0.09079623594190875, 0.363184943767635, 0.09079623594190875, 0.09079623594190875, 0.3648846907815278, 0.24325646052101854, 0.3648846907815278, 0.18186091731876045, 0.3637218346375209, 0.18186091731876045, 0.15758156257399059, 0.31516312514798117, 0.15758156257399059, 0.31516312514798117, 0.1827193691937788, 0.5481581075813363, 0.1827193691937788, 0.5474814646651738, 0.4106110984988803, 0.5253679092321454, 0.05837421213690504, 0.11674842427381008, 0.17512263641071513, 0.05837421213690504, 0.22006454865955857, 0.11003227432977929, 0.11003227432977929, 0.5501613716488964, 0.5548771944927708, 0.18495906483092361, 0.13733718256613325, 0.2746743651322665, 0.20600577384919985, 0.20600577384919985, 0.13733718256613325, 0.13543141947240883, 0.27086283894481766, 0.4062942584172265, 0.13543141947240883, 0.3687339983249762, 0.5531009974874643, 0.3688126165058869, 0.5532189247588304, 0.18285980719774034, 0.7314392287909613, 0.9222299409886383, 0.23531227093708293, 0.09412490837483317, 0.6588743586238323, 0.5492603730382529, 0.18308679101275097, 0.18308679101275097, 0.4157305757715994, 0.13857685859053312, 0.13857685859053312, 0.27715371718106624, 0.35955204735678353, 0.5393280710351752, 0.7713636814831454, 0.11019481164044934, 0.4732198705154659, 0.15773995683848863, 0.31547991367697725, 0.39231693484377794, 0.31385354787502234, 0.23539016090626677, 0.49074413397188954, 0.12268603349297239, 0.24537206698594477, 0.7847376866658665, 0.1569475373331733, 0.2741131267198865, 0.6852828167997164, 0.13863146844434324, 0.2772629368886865, 0.554525873777373, 0.24667002676651525, 0.7400100802995457, 0.1369165746243314, 0.5476662984973256, 0.2738331492486628, 0.15582020079912914, 0.3116404015982583, 0.15582020079912914, 0.3116404015982583, 0.489706014957334, 0.1224265037393335, 0.1224265037393335, 0.244853007478667, 0.24273881354207388, 0.12136940677103694, 0.12136940677103694, 0.24273881354207388, 0.24273881354207388, 0.18257718643555104, 0.7303087457422042, 0.7424267433946494, 0.18560668584866236, 0.5138449868102425, 0.25692249340512124, 0.08564083113504042, 0.08564083113504042, 0.15726238894282943, 0.6290495557713177, 0.15726238894282943, 0.7246355378758428, 0.1811588844689607, 0.13731792997306624, 0.06865896498653312, 0.20597689495959937, 0.2746358599461325, 0.2746358599461325, 0.15845483783957137, 0.31690967567914274, 0.4753645135187141, 0.3158879520116603, 0.6317759040233206, 0.18437340781103417, 0.7374936312441367, 0.8303683526093515, 0.801798404312004, 0.0534532269541336, 0.0534532269541336, 0.0534532269541336, 0.8422366021233862, 0.09358184468037625, 0.0792288094377132, 0.3169152377508528, 0.3169152377508528, 0.1584576188754264, 0.0792288094377132, 0.13627789514683433, 0.5451115805873373, 0.27255579029366866, 0.13774403738048938, 0.10330802803536704, 0.48210413083171283, 0.24105206541585641, 0.3653267808820897, 0.5479901713231345, 0.047692629668756814, 0.2861557780125409, 0.047692629668756814, 0.5723115560250818, 0.2537336274009258, 0.422889379001543, 0.2537336274009258, 0.0845778758003086, 0.21685501039932295, 0.10842750519966148, 0.5421375259983073, 0.6623993750814536, 0.11039989584690893, 0.11039989584690893, 0.8969242375283126, 0.06899417211756251, 0.5329083848783494, 0.0999203221646905, 0.06661354810979367, 0.199840644329381, 0.0999203221646905, 0.19420760901988698, 0.21848356014737286, 0.048551902254971746, 0.07282785338245762, 0.2913114135298305, 0.07282785338245762, 0.048551902254971746, 0.0736779704107613, 0.18419492602690324, 0.3683898520538065, 0.03683898520538065, 0.03683898520538065, 0.1473559408215226, 0.03683898520538065, 0.1473559408215226, 0.9188317210144696, 0.38929455187989004, 0.12976485062663, 0.19464727593994502, 0.19464727593994502, 0.064882425313315, 0.36602725254959273, 0.18301362627479636, 0.36602725254959273, 0.9188317585789204, 0.23959747585826224, 0.7187924275747868, 0.5521535465008549, 0.09202559108347583, 0.27607677325042745, 0.5524232188794824, 0.18414107295982746, 0.18414107295982746, 0.8299019385155628, 0.13831698975259382, 0.07309129319003353, 0.14618258638006706, 0.07309129319003353, 0.07309129319003353, 0.29236517276013413, 0.29236517276013413, 0.07309129319003353, 0.17120421019329127, 0.34240842038658253, 0.34240842038658253, 0.08560210509664563, 0.4118540974792047, 0.1372846991597349, 0.1372846991597349, 0.2745693983194698, 0.3863552201788711, 0.11038720576539174, 0.3863552201788711, 0.11038720576539174, 0.5536464845111692, 0.18454882817038973, 0.18454882817038973, 0.47140711903454424, 0.15713570634484808, 0.15713570634484808, 0.15713570634484808, 0.1827574761716289, 0.1827574761716289, 0.1827574761716289, 0.3655149523432578, 0.1838890604420003, 0.1838890604420003, 0.3677781208840006, 0.1838890604420003, 0.12105903375527537, 0.24211806751055073, 0.6052951687763769, 0.10498919371090575, 0.2099783874218115, 0.26247298427726434, 0.05249459685545287, 0.05249459685545287, 0.2099783874218115, 0.05249459685545287, 0.05249459685545287, 0.7795952439670025, 0.1559190487934005, 0.08573974841903605, 0.6859179873522884, 0.08573974841903605, 0.08573974841903605, 0.0742628772719677, 0.519840140903774, 0.2227886318159031, 0.0742628772719677, 0.0742628772719677, 0.17992650867767782, 0.7197060347107113, 0.12282956603654469, 0.24565913207308937, 0.49131826414617874, 0.364193858117418, 0.182096929058709, 0.364193858117418, 0.9167057283168635, 0.038196072013202645, 0.12316916934602043, 0.12316916934602043, 0.12316916934602043, 0.24633833869204086, 0.3695075080380613, 0.13549807617402693, 0.13549807617402693, 0.5419923046961077, 0.13549807617402693, 0.09123150671726539, 0.09123150671726539, 0.045615753358632695, 0.1368472600758981, 0.3193102735104289, 0.22807876679316347, 0.09123150671726539, 0.1982298525345285, 0.1982298525345285, 0.09911492626726424, 0.1982298525345285, 0.2973447788017927, 0.6261199713777534, 0.15652999284443836, 0.15652999284443836, 0.31412279837518114, 0.15706139918759057, 0.31412279837518114, 0.3145642344539606, 0.4718463516809409, 0.1572821172269803, 0.786469769828757, 0.1572939539657514, 0.27645916769371687, 0.6911479192342922, 0.28807397607551855, 0.14403698803775927, 0.05761479521510371, 0.23045918086041484, 0.11522959043020742, 0.11522959043020742, 0.028807397607551855, 0.18274980807160257, 0.060916602690534186, 0.09137490403580129, 0.030458301345267093, 0.3959579174884722, 0.12183320538106837, 0.12183320538106837, 0.9331995160195133, 0.15634428849666082, 0.781721442483304, 0.07392368936152917, 0.443542136169175, 0.2956947574461167, 0.07392368936152917, 0.07392368936152917, 0.484619933875958, 0.484619933875958, 0.639770792523715, 0.07997134906546438, 0.23991404719639314, 0.735554912212561, 0.18388872805314024, 0.18305978428215228, 0.36611956856430455, 0.18305978428215228, 0.10973385703166175, 0.32920157109498527, 0.2194677140633235, 0.32920157109498527, 0.135989305031475, 0.5439572201259, 0.135989305031475, 0.135989305031475, 0.19323695047835202, 0.05521055727952915, 0.4140791795964686, 0.1104211145590583, 0.08281583591929373, 0.1104211145590583, 0.027605278639764575, 0.1820219083471497, 0.09101095417357485, 0.4550547708678743, 0.1820219083471497, 0.1830887570304785, 0.1830887570304785, 0.1830887570304785, 0.1830887570304785, 0.46489541342267166, 0.11622385335566791, 0.1743357800335019, 0.1743357800335019, 0.25277190898773216, 0.5055438179754643, 0.25277190898773216, 0.3642497541104655, 0.1214165847034885, 0.485666338813954, 0.15590270811715226, 0.15590270811715226, 0.3118054162343045, 0.15590270811715226, 0.07732719916798378, 0.07732719916798378, 0.07732719916798378, 0.5412903941758865, 0.07732719916798378, 0.07732719916798378, 0.18336840838229893, 0.18336840838229893, 0.36673681676459785, 0.18336840838229893, 0.1801010663330949, 0.1801010663330949, 0.1801010663330949, 0.3602021326661898, 0.4697650900189791, 0.1565883633396597, 0.3131767266793194, 0.1584453783739823, 0.6337815134959291, 0.1584453783739823, 0.5503163870502554, 0.18343879568341848, 0.18343879568341848, 0.36377383067561797, 0.36377383067561797, 0.7569134840014969, 0.1164482283079226, 0.1164482283079226, 0.3682423225238779, 0.3682423225238779, 0.18412116126193895, 0.4278271013898233, 0.14880942657037333, 0.03720235664259333, 0.03720235664259333, 0.07440471328518666, 0.055803534963890004, 0.055803534963890004, 0.11160706992778001, 0.055803534963890004, 0.216954988808382, 0.216954988808382, 0.542387472020955, 0.5532139807410773, 0.13830349518526933, 0.13830349518526933, 0.17975547655919608, 0.7190219062367843, 0.7847377041044058, 0.15694754082088117, 0.12119476610266262, 0.12119476610266262, 0.12119476610266262, 0.12119476610266262, 0.4847790644106505, 0.22218235673111406, 0.22218235673111406, 0.04443647134622281, 0.3999282421160053, 0.08887294269244563, 0.18067864726569866, 0.7227145890627946, 0.8594381490390522, 0.18409917627012298, 0.5522975288103689, 0.18409917627012298, 0.8971817037564622, 0.07476514197970519, 0.44344652143066027, 0.22172326071533013, 0.11086163035766507, 0.11086163035766507, 0.6295728360210375, 0.15739320900525938, 0.15739320900525938, 0.18419568207844145, 0.5525870462353243, 0.15543664524148915, 0.15543664524148915, 0.6217465809659566, 0.5571683795540326, 0.22286735182161305, 0.11143367591080652, 0.5040977817346302, 0.4200814847788585, 0.5037158933289271, 0.2014863573315708, 0.1007431786657854, 0.2014863573315708, 0.1206911703816194, 0.1206911703816194, 0.7241470222897164, 0.3666674948634588, 0.3666674948634588, 0.1833337474317294, 0.7861466163917212, 0.15722932327834427, 0.1385691667845855, 0.1385691667845855, 0.6928458339229275, 0.9218991583620264, 0.18323269756132435, 0.3664653951226487, 0.3664653951226487, 0.8299253818934088, 0.1383208969822348, 0.1229164241338042, 0.7374985448028252, 0.1229164241338042, 0.2756396537584262, 0.5512793075168524, 0.1378198268792131, 0.18332983852086165, 0.5499895155625849, 0.18332983852086165, 0.18206758886372276, 0.18206758886372276, 0.18206758886372276, 0.3641351777274455, 0.41214052765681997, 0.13738017588560666, 0.41214052765681997, 0.0421560080887209, 0.12646802426616272, 0.0843120161774418, 0.6744961294195344, 0.0843120161774418, 0.4085542870173401, 0.5447390493564535, 0.2763644843317679, 0.6909112108294198, 0.5518787712742028, 0.18395959042473425, 0.18395959042473425, 0.8994522980283778, 0.547575217261797, 0.13689380431544926, 0.2737876086308985, 0.6102815723782642, 0.12205631447565284, 0.24411262895130567, 0.31447467434510185, 0.15723733717255092, 0.4717120115176528, 0.3656002990655879, 0.5484004485983819, 0.5495991499479722, 0.2198396599791889, 0.10991982998959444, 0.10991982998959444, 0.15130636042342174, 0.037826590105855436, 0.037826590105855436, 0.4160924911644098, 0.07565318021171087, 0.18913295052927717, 0.037826590105855436, 0.9217386719516564, 0.74503330011459, 0.12417221668576499, 0.9452187886781805, 0.18331080629014443, 0.5499324188704333, 0.18331080629014443, 0.1212482631786641, 0.1212482631786641, 0.1212482631786641, 0.6062413158933205, 0.9524893823044386, 0.06824928504078644, 0.40949571024471865, 0.13649857008157287, 0.06824928504078644, 0.3412464252039322, 0.3398685647187216, 0.3398685647187216, 0.0849671411796804, 0.0849671411796804, 0.1699342823593608, 0.7310536964801047, 0.18276342412002616, 0.15615849972973145, 0.3123169994594629, 0.46847549918919434, 0.15621333693967626, 0.3124266738793525, 0.4686400108190288, 0.9188316904852399, 0.10061476198542803, 0.10061476198542803, 0.7043033338979962, 0.7458294076550899, 0.18645735191377247, 0.6257499324125599, 0.31287496620627997, 0.44183703057145285, 0.11045925764286321, 0.44183703057145285, 0.181338574722432, 0.181338574722432, 0.181338574722432, 0.45334643680608, 0.943330513022665, 0.15993305289082038, 0.19191966346898448, 0.6397322115632815, 0.6833230525569572, 0.12424055501035587, 0.12424055501035587, 0.062120277505177936, 0.36877402613330834, 0.5531610391999625, 0.1585171763068323, 0.3170343526136646, 0.47555152892049685, 0.1823846872140995, 0.364769374428199, 0.1823846872140995, 0.1823846872140995, 0.31522673935442286, 0.15761336967721143, 0.31522673935442286, 0.15761336967721143, 0.8300554709436838, 0.17940841601749807, 0.7176336640699923, 0.2517865269075513, 0.2517865269075513, 0.5035730538151026, 0.27156358106152545, 0.6789089526538137, 0.10933256960569948, 0.10933256960569948, 0.4373302784227979, 0.32799770881709844, 0.31155386920756006, 0.4673308038113401, 0.15577693460378003, 0.13630550763358457, 0.13630550763358457, 0.4089165229007537, 0.13630550763358457, 0.13630550763358457, 0.12129489429026519, 0.12129489429026519, 0.48517957716106075, 0.12129489429026519, 0.13886876752072605, 0.34717191880181514, 0.2777375350414521, 0.20830315128108906, 0.06943438376036302, 0.12073345308726033, 0.12073345308726033, 0.6036672654363017, 0.36807378931934925, 0.18403689465967463, 0.36807378931934925, 0.13636653173742136, 0.6818326586871067, 0.13062254397395165, 0.4571789039088308, 0.1959338159609275, 0.13062254397395165, 0.3489670447833002, 0.09970486993808578, 0.19940973987617155, 0.09970486993808578, 0.09970486993808578, 0.09970486993808578, 0.09817211810042112, 0.04908605905021056, 0.17180120667573695, 0.4908605905021056, 0.07362908857531585, 0.07362908857531585, 0.13942932108671097, 0.6971466054335548, 0.13942932108671097, 0.49690752495894774, 0.09938150499178955, 0.09938150499178955, 0.29814451497536865, 0.68508387342427, 0.27403354936970803], \"Term\": [\"act\", \"act\", \"act\", \"action\", \"action\", \"action\", \"action\", \"action\", \"administration\", \"administration\", \"america\", \"america\", \"america\", \"america\", \"american\", \"american\", \"american\", \"american\", \"american\", \"american\", \"american people\", \"american people\", \"american people\", \"americans\", \"americans\", \"americans\", \"ask\", \"ask\", \"ask\", \"authority\", \"authority\", \"authority\", \"balance\", \"balance\", \"bear\", \"bear\", \"begin\", \"begin\", \"believe\", \"blessing\", \"blessing\", \"blessing\", \"break\", \"bring\", \"bring\", \"care\", \"care\", \"care\", \"case\", \"case\", \"case\", \"century\", \"century\", \"century\", \"challenge\", \"challenge\", \"challenge\", \"change\", \"change\", \"child\", \"child\", \"choose\", \"choose\", \"choose\", \"circumstance\", \"circumstance\", \"circumstance\", \"citizen\", \"citizen\", \"citizen\", \"city\", \"city\", \"come\", \"come\", \"come\", \"come\", \"come\", \"common\", \"common\", \"common\", \"common\", \"common\", \"common\", \"community\", \"community\", \"community\", \"concern\", \"concern\", \"concern\", \"confidence\", \"confidence\", \"confidence\", \"confidence\", \"conflict\", \"conflict\", \"conflict\", \"congress\", \"congress\", \"constitution\", \"constitution\", \"constitution\", \"constitution\", \"constitution\", \"constitutional\", \"constitutional\", \"constitutional\", \"constitutional\", \"continue\", \"continue\", \"country\", \"country\", \"country\", \"country\", \"country\", \"courage\", \"courage\", \"courage\", \"courage\", \"crisis\", \"crisis\", \"danger\", \"danger\", \"dare\", \"dare\", \"dark\", \"day\", \"day\", \"day\", \"decision\", \"decision\", \"decision\", \"deny\", \"deny\", \"deny\", \"deny\", \"destroy\", \"destroy\", \"difference\", \"difference\", \"discipline\", \"discipline\", \"discipline\", \"duty\", \"duty\", \"duty\", \"earth\", \"earth\", \"earth\", \"economic\", \"economic\", \"effort\", \"effort\", \"end\", \"end\", \"end\", \"endure\", \"endure\", \"enemy\", \"enemy\", \"enemy\", \"energy\", \"energy\", \"energy\", \"energy\", \"equal\", \"equal\", \"equal\", \"equal\", \"executive\", \"executive\", \"executive\", \"executive\", \"executive\", \"exercise\", \"exercise\", \"express\", \"express\", \"face\", \"face\", \"face\", \"face\", \"fact\", \"fact\", \"fact\", \"factory\", \"factory\", \"faith\", \"faith\", \"faith\", \"faith\", \"faith\", \"far\", \"far\", \"far\", \"father\", \"father\", \"fear\", \"fear\", \"federal\", \"fellow\", \"fellow\", \"fellow\", \"fellow\", \"fellow citizen\", \"fellow citizen\", \"force\", \"force\", \"force\", \"force\", \"force\", \"form\", \"form\", \"form\", \"free\", \"free\", \"free\", \"free\", \"free man\", \"free man\", \"freedom\", \"freedom\", \"freedom\", \"freedom\", \"friend\", \"friend\", \"friend\", \"friend\", \"future\", \"future\", \"future\", \"generation\", \"generation\", \"generation\", \"god\", \"god\", \"good\", \"good\", \"good\", \"good\", \"good\", \"government\", \"government\", \"government\", \"government\", \"government\", \"government\", \"government\", \"great\", \"great\", \"great\", \"great\", \"great\", \"great\", \"great\", \"great\", \"grow\", \"hand\", \"hand\", \"hand\", \"hand\", \"hand\", \"hard\", \"hard\", \"hard\", \"hear\", \"heart\", \"heart\", \"help\", \"help\", \"help\", \"hero\", \"hero\", \"hero\", \"high\", \"high\", \"history\", \"history\", \"history\", \"history\", \"history\", \"history\", \"history\", \"hold\", \"hold\", \"hold\", \"hold\", \"home\", \"home\", \"home\", \"home\", \"hope\", \"hope\", \"hope\", \"hope\", \"idea\", \"idea\", \"idea\", \"individual\", \"individual\", \"individual\", \"individual\", \"instrument\", \"instrument\", \"instrument\", \"instrument\", \"job\", \"job\", \"job\", \"job\", \"just\", \"just\", \"just\", \"know\", \"know\", \"know\", \"know\", \"know\", \"know\", \"know\", \"know\", \"labor\", \"labor\", \"land\", \"land\", \"land\", \"land\", \"law\", \"law\", \"law\", \"law\", \"law\", \"leader\", \"leader\", \"leadership\", \"leadership\", \"leadership\", \"leave\", \"leave\", \"leave\", \"let\", \"let\", \"liberty\", \"liberty\", \"liberty\", \"liberty\", \"liberty\", \"lie\", \"lie\", \"lie\", \"lie\", \"life\", \"life\", \"life\", \"life\", \"life\", \"life\", \"life\", \"light\", \"light\", \"light\", \"light\", \"light\", \"like\", \"like\", \"like\", \"little\", \"little\", \"little\", \"live\", \"live\", \"live\", \"lose\", \"lose\", \"love\", \"love\", \"make\", \"make\", \"make\", \"make\", \"make\", \"make\", \"make\", \"man\", \"man\", \"man\", \"man\", \"man\", \"man\", \"man\", \"man woman\", \"material\", \"material\", \"mean\", \"mean\", \"mean\", \"mean\", \"mean\", \"measure\", \"measure\", \"meet\", \"meet\", \"meet\", \"merely\", \"merely\", \"mind\", \"mind\", \"mind\", \"moment\", \"moment\", \"moment\", \"moment\", \"moral\", \"moral\", \"moral\", \"moral\", \"nation\", \"nation\", \"nation\", \"nation\", \"nation\", \"nation\", \"nation\", \"national\", \"national\", \"national\", \"national\", \"necessary\", \"necessary\", \"necessary\", \"necessary\", \"need\", \"need\", \"need\", \"need\", \"new\", \"new\", \"new\", \"oath\", \"oath\", \"oath\", \"offer\", \"offer\", \"offer\", \"offer\", \"old\", \"old\", \"old\", \"old\", \"old\", \"old\", \"opinion\", \"opinion\", \"opinion\", \"opinion\", \"opportunity\", \"opportunity\", \"opportunity\", \"opportunity\", \"order\", \"order\", \"order\", \"party\", \"party\", \"party\", \"pass\", \"pass\", \"pass\", \"patriotism\", \"patriotism\", \"peace\", \"peace\", \"peace\", \"peaceful\", \"peaceful\", \"peaceful\", \"people\", \"people\", \"people\", \"people\", \"people\", \"people\", \"people\", \"people\", \"people\", \"place\", \"place\", \"place\", \"pledge\", \"pledge\", \"pledge\", \"point\", \"point\", \"political\", \"political\", \"possible\", \"possible\", \"possible\", \"possible\", \"possible\", \"power\", \"power\", \"power\", \"power\", \"power\", \"prayer\", \"prayer\", \"present\", \"preserve\", \"preserve\", \"preserve\", \"president\", \"president\", \"principle\", \"principle\", \"principle\", \"principle\", \"produce\", \"produce\", \"produce\", \"progress\", \"progress\", \"protect\", \"protect\", \"protect\", \"provision\", \"provision\", \"provision\", \"public\", \"public\", \"purpose\", \"purpose\", \"purpose\", \"purpose\", \"question\", \"question\", \"question\", \"reach\", \"reach\", \"reach\", \"reject\", \"reject\", \"remain\", \"remain\", \"remain\", \"remember\", \"renew\", \"renew\", \"renew\", \"require\", \"require\", \"respect\", \"respect\", \"respect\", \"responsibility\", \"responsibility\", \"responsibility\", \"restore\", \"restore\", \"restore\", \"return\", \"return\", \"return\", \"return\", \"revolution\", \"revolution\", \"revolution\", \"right\", \"right\", \"right\", \"right\", \"right\", \"rule\", \"rule\", \"sacrifice\", \"sacrifice\", \"safety\", \"safety\", \"safety\", \"say\", \"security\", \"security\", \"security\", \"seek\", \"seek\", \"seek\", \"sense\", \"sense\", \"sense\", \"serve\", \"serve\", \"service\", \"service\", \"service\", \"service\", \"shall\", \"shall\", \"shall\", \"shall\", \"shall\", \"shall\", \"shall\", \"sound\", \"speak\", \"speak\", \"special\", \"spirit\", \"spirit\", \"spirit\", \"stand\", \"stand\", \"stand\", \"stand\", \"state\", \"states\", \"states\", \"states\", \"states\", \"states\", \"strength\", \"strength\", \"strength\", \"strength\", \"strength\", \"strive\", \"strive\", \"strong\", \"strong\", \"strong\", \"success\", \"success\", \"success\", \"summon\", \"support\", \"support\", \"support\", \"task\", \"task\", \"tell\", \"tell\", \"thank\", \"thank\", \"thank\", \"thing\", \"thing\", \"thing\", \"thing\", \"think\", \"time\", \"time\", \"time\", \"today\", \"today\", \"today\", \"today\", \"trade\", \"trade\", \"true\", \"true\", \"true\", \"trust\", \"trust\", \"trust\", \"trust\", \"turn\", \"turn\", \"turn\", \"turn\", \"understand\", \"union\", \"union\", \"united\", \"united\", \"united\", \"united states\", \"united states\", \"use\", \"use\", \"use\", \"use\", \"value\", \"value\", \"value\", \"view\", \"view\", \"view\", \"view\", \"view\", \"vital\", \"vital\", \"vital\", \"vital\", \"war\", \"war\", \"war\", \"war\", \"war\", \"way\", \"way\", \"way\", \"willing\", \"willing\", \"willing\", \"woman\", \"woman\", \"word\", \"word\", \"word\", \"word\", \"work\", \"work\", \"work\", \"work\", \"work\", \"work\", \"world\", \"world\", \"world\", \"world\", \"world\", \"world\", \"write\", \"write\", \"write\", \"year\", \"year\", \"year\", \"year\", \"young\", \"young\"]}, \"R\": 30, \"lambda.step\": 0.01, \"plot.opts\": {\"xlab\": \"PC1\", \"ylab\": \"PC2\"}, \"topic.order\": [3, 7, 2, 4, 9, 10, 1, 8, 6, 5]};\n",
       "\n",
       "function LDAvis_load_lib(url, callback){\n",
       "  var s = document.createElement('script');\n",
       "  s.src = url;\n",
       "  s.async = true;\n",
       "  s.onreadystatechange = s.onload = callback;\n",
       "  s.onerror = function(){console.warn(\"failed to load library \" + url);};\n",
       "  document.getElementsByTagName(\"head\")[0].appendChild(s);\n",
       "}\n",
       "\n",
       "if(typeof(LDAvis) !== \"undefined\"){\n",
       "   // already loaded: just create the visualization\n",
       "   !function(LDAvis){\n",
       "       new LDAvis(\"#\" + \"ldavis_el155021124366096965824603722\", ldavis_el155021124366096965824603722_data);\n",
       "   }(LDAvis);\n",
       "}else if(typeof define === \"function\" && define.amd){\n",
       "   // require.js is available: use it to load d3/LDAvis\n",
       "   require.config({paths: {d3: \"https://cdnjs.cloudflare.com/ajax/libs/d3/3.5.5/d3.min\"}});\n",
       "   require([\"d3\"], function(d3){\n",
       "      window.d3 = d3;\n",
       "      LDAvis_load_lib(\"https://cdn.rawgit.com/bmabey/pyLDAvis/files/ldavis.v1.0.0.js\", function(){\n",
       "        new LDAvis(\"#\" + \"ldavis_el155021124366096965824603722\", ldavis_el155021124366096965824603722_data);\n",
       "      });\n",
       "    });\n",
       "}else{\n",
       "    // require.js not available: dynamically load d3 & LDAvis\n",
       "    LDAvis_load_lib(\"https://cdnjs.cloudflare.com/ajax/libs/d3/3.5.5/d3.min.js\", function(){\n",
       "         LDAvis_load_lib(\"https://cdn.rawgit.com/bmabey/pyLDAvis/files/ldavis.v1.0.0.js\", function(){\n",
       "                 new LDAvis(\"#\" + \"ldavis_el155021124366096965824603722\", ldavis_el155021124366096965824603722_data);\n",
       "            })\n",
       "         });\n",
       "}\n",
       "</script>"
      ],
      "text/plain": [
       "PreparedData(topic_coordinates=            x       y  topics  cluster   Freq\n",
       "topic                                        \n",
       "2      26.320  32.835       1        1 15.032\n",
       "6      19.842  95.065       2        1 13.044\n",
       "1      76.881  69.501       3        1 11.108\n",
       "3     -44.247  75.736       4        1 10.376\n",
       "8     111.624  13.431       5        1 10.048\n",
       "9      72.385 143.172       6        1  8.932\n",
       "0      -7.835 152.116       7        1  8.900\n",
       "7      49.777 -27.540       8        1  8.757\n",
       "5     134.982  95.303       9        1  7.274\n",
       "4     -30.235   1.955      10        1  6.529, topic_info=    Category   Freq          Term  Total  loglift  logprob\n",
       "206  Default 31.000          time 31.000   30.000   30.000\n",
       "108  Default 26.000           let 26.000   29.000   29.000\n",
       "42   Default 21.000           day 21.000   28.000   28.000\n",
       "227  Default 40.000         world 40.000   27.000   27.000\n",
       "177  Default 23.000         right 23.000   26.000   26.000\n",
       "72   Default 29.000          free 29.000   25.000   25.000\n",
       "78   Default 14.000           god 14.000   24.000   24.000\n",
       "74   Default 20.000       freedom 20.000   23.000   23.000\n",
       "68   Default 18.000        fellow 18.000   22.000   22.000\n",
       "121  Default 32.000           man 32.000   21.000   21.000\n",
       "80   Default 41.000    government 41.000   20.000   20.000\n",
       "79   Default 30.000          good 30.000   19.000   19.000\n",
       "24   Default 17.000       citizen 17.000   18.000   18.000\n",
       "135  Default 19.000           new 19.000   17.000   17.000\n",
       "187  Default 26.000         shall 26.000   16.000   16.000\n",
       "157  Default 13.000     president 13.000   15.000   15.000\n",
       "155  Default  9.000       present  9.000   14.000   14.000\n",
       "213  Default 11.000         union 11.000   13.000   13.000\n",
       "131  Default 36.000        nation 36.000   12.000   12.000\n",
       "3    Default 19.000       america 19.000   11.000   11.000\n",
       "120  Default 34.000          make 34.000   10.000   10.000\n",
       "11   Default 10.000         begin 10.000    9.000    9.000\n",
       "163  Default 11.000        public 11.000    8.000    8.000\n",
       "205  Default  7.000         think  7.000    7.000    7.000\n",
       "147  Default 53.000        people 53.000    6.000    6.000\n",
       "214  Default 11.000        united 11.000    5.000    5.000\n",
       "153  Default 22.000         power 22.000    4.000    4.000\n",
       "145  Default 17.000         peace 17.000    3.000    3.000\n",
       "111  Default 21.000          life 21.000    2.000    2.000\n",
       "86   Default  8.000         heart  8.000    1.000    1.000\n",
       "..       ...    ...           ...    ...      ...      ...\n",
       "114  Topic10  1.953        little  6.367    1.547   -4.343\n",
       "129  Topic10  2.667        moment  9.113    1.500   -4.031\n",
       "229  Topic10  2.883          year 10.062    1.479   -3.954\n",
       "57   Topic10  1.833     executive  8.239    1.226   -4.406\n",
       "4    Topic10  1.953      american  9.111    1.189   -4.343\n",
       "113  Topic10  1.226          like  6.389    1.078   -4.808\n",
       "88   Topic10  1.023          hero  5.431    1.060   -4.990\n",
       "143  Topic10  1.023          pass  5.451    1.056   -4.990\n",
       "139  Topic10  1.023       opinion  5.454    1.055   -4.990\n",
       "174  Topic10  1.023       restore  5.455    1.055   -4.990\n",
       "191  Topic10  1.023        spirit  5.455    1.055   -4.989\n",
       "43   Topic10  1.023      decision  5.462    1.054   -4.990\n",
       "128  Topic10  1.023          mind  5.463    1.054   -4.990\n",
       "62   Topic10  1.023       factory  5.520    1.043   -4.990\n",
       "61   Topic10  1.023          fact  6.359    0.902   -4.990\n",
       "167  Topic10  1.023        reject  6.360    0.901   -4.990\n",
       "18   Topic10  1.023       century  6.361    0.901   -4.990\n",
       "97   Topic10  1.023    individual  6.364    0.901   -4.989\n",
       "81   Topic10  3.813         great 27.145    0.766   -3.674\n",
       "3    Topic10  2.654       america 19.739    0.723   -4.036\n",
       "121  Topic10  3.654           man 32.832    0.533   -3.716\n",
       "79   Topic10  3.281          good 30.024    0.515   -3.824\n",
       "111  Topic10  2.397          life 21.922    0.516   -4.138\n",
       "147  Topic10  2.883        people 53.760   -0.197   -3.954\n",
       "80   Topic10  2.345    government 41.193   -0.137   -4.160\n",
       "46   Topic10  1.145    difference  9.075    0.658   -4.877\n",
       "11   Topic10  1.183         begin 10.870    0.511   -4.844\n",
       "8    Topic10  1.069     authority  9.167    0.580   -4.945\n",
       "90   Topic10  1.092       history 13.682    0.201   -4.924\n",
       "33   Topic10  1.085  constitution 17.131   -0.031   -4.931\n",
       "\n",
       "[420 rows x 6 columns], token_table=      Topic  Freq             Term\n",
       "term                              \n",
       "0         3 0.551              act\n",
       "0         4 0.092              act\n",
       "0         6 0.276              act\n",
       "1         1 0.121           action\n",
       "1         2 0.121           action\n",
       "1         3 0.121           action\n",
       "1         7 0.486           action\n",
       "1         8 0.121           action\n",
       "2         1 0.634   administration\n",
       "2         2 0.317   administration\n",
       "3         2 0.608          america\n",
       "3         4 0.101          america\n",
       "3         5 0.152          america\n",
       "3        10 0.152          america\n",
       "4         1 0.329         american\n",
       "4         2 0.110         american\n",
       "4         4 0.110         american\n",
       "4         5 0.110         american\n",
       "4         7 0.110         american\n",
       "4        10 0.220         american\n",
       "5         1 0.549  american people\n",
       "5         5 0.183  american people\n",
       "5         7 0.183  american people\n",
       "6         2 0.630        americans\n",
       "6         4 0.280        americans\n",
       "6         5 0.070        americans\n",
       "7         5 0.200              ask\n",
       "7         7 0.200              ask\n",
       "7         8 0.600              ask\n",
       "8         2 0.109        authority\n",
       "...     ...   ...              ...\n",
       "222       1 0.368          willing\n",
       "222       4 0.184          willing\n",
       "222       8 0.368          willing\n",
       "224       1 0.136            woman\n",
       "224       6 0.682            woman\n",
       "225       1 0.131             word\n",
       "225       2 0.457             word\n",
       "225       3 0.196             word\n",
       "225       9 0.131             word\n",
       "226       4 0.349             work\n",
       "226       5 0.100             work\n",
       "226       6 0.199             work\n",
       "226       7 0.100             work\n",
       "226       8 0.100             work\n",
       "226       9 0.100             work\n",
       "227       1 0.098            world\n",
       "227       2 0.049            world\n",
       "227       3 0.172            world\n",
       "227       4 0.491            world\n",
       "227       6 0.074            world\n",
       "227       9 0.074            world\n",
       "228       1 0.139            write\n",
       "228       2 0.697            write\n",
       "228       6 0.139            write\n",
       "229       1 0.497             year\n",
       "229       4 0.099             year\n",
       "229       9 0.099             year\n",
       "229      10 0.298             year\n",
       "230       1 0.685            young\n",
       "230       9 0.274            young\n",
       "\n",
       "[729 rows x 3 columns], R=30, lambda_step=0.01, plot_opts={'xlab': 'PC1', 'ylab': 'PC2'}, topic_order=[3, 7, 2, 4, 9, 10, 1, 8, 6, 5])"
      ]
     },
     "execution_count": 44,
     "metadata": {},
     "output_type": "execute_result"
    }
   ],
   "source": [
    "pyLDAvis.sklearn.prepare(lda_tf, dtm_tf, tf_vectorizer, mds='tsne')"
   ]
  },
  {
   "cell_type": "code",
   "execution_count": 45,
   "metadata": {
    "ExecuteTime": {
     "end_time": "2019-08-15T02:54:32.552389Z",
     "start_time": "2019-08-15T02:54:32.548658Z"
    }
   },
   "outputs": [],
   "source": [
    "# # Removing numerals.\n",
    "# sent_df['sentence_tokens'] = sent_df.sentence.map(\n",
    "#     lambda x: re.sub(r'\\d+', '', x))\n",
    "# # Lower case.\n",
    "# sent_df['sentence_tokens'] = sent_df.sentence_tokens.map(lambda x: x.lower())\n",
    "# print(sent_df['sentence_tokens'][0][:500])"
   ]
  },
  {
   "cell_type": "code",
   "execution_count": 46,
   "metadata": {
    "ExecuteTime": {
     "end_time": "2019-08-15T02:54:32.558964Z",
     "start_time": "2019-08-15T02:54:32.555479Z"
    }
   },
   "outputs": [],
   "source": [
    "# # Tokenize.\n",
    "# sent_df['sentence_tokens'] = sent_df.sentence_tokens.map(\n",
    "#     lambda x: RegexpTokenizer(r'\\w+').tokenize(x))\n",
    "# print(sent_df['sentence_tokens'][0][:25])"
   ]
  },
  {
   "cell_type": "code",
   "execution_count": 47,
   "metadata": {
    "ExecuteTime": {
     "end_time": "2019-08-15T02:54:32.565432Z",
     "start_time": "2019-08-15T02:54:32.561488Z"
    }
   },
   "outputs": [],
   "source": [
    "# # Stemming.\n",
    "# snowball = SnowballStemmer(\"english\")\n",
    "# sent_df['sentence_tokens'] = sent_df.sentence_tokens.map(\n",
    "#     lambda x: [snowball.stem(token) for token in x])\n",
    "# print(sent_df['sentence_tokens'][0][:25])"
   ]
  },
  {
   "cell_type": "code",
   "execution_count": 48,
   "metadata": {
    "ExecuteTime": {
     "end_time": "2019-08-15T02:54:32.572474Z",
     "start_time": "2019-08-15T02:54:32.568034Z"
    }
   },
   "outputs": [],
   "source": [
    "# # Stop words.\n",
    "# stop_en = stopwords.words('english')\n",
    "# sent_df['sentence_tokens'] = sent_df.sentence_tokens.map(\n",
    "#     lambda x: [t for t in x if t not in stop_en])\n",
    "# print(sent_df['sentence_tokens'][0][:25])"
   ]
  },
  {
   "cell_type": "code",
   "execution_count": 49,
   "metadata": {
    "ExecuteTime": {
     "end_time": "2019-08-15T02:54:32.578835Z",
     "start_time": "2019-08-15T02:54:32.575085Z"
    }
   },
   "outputs": [],
   "source": [
    "# # Final cleaning.\n",
    "# sent_df['sentence_tokens'] = sent_df.sentence_tokens.map(\n",
    "#     lambda x: [t for t in x if len(t) > 1])\n",
    "# print(sent_df['sentence_tokens'][0][:25])"
   ]
  },
  {
   "cell_type": "markdown",
   "metadata": {},
   "source": [
    "### Run LDA"
   ]
  },
  {
   "cell_type": "code",
   "execution_count": 50,
   "metadata": {
    "ExecuteTime": {
     "end_time": "2019-08-15T02:54:32.586030Z",
     "start_time": "2019-08-15T02:54:32.581376Z"
    }
   },
   "outputs": [],
   "source": [
    "# texts = sent_df['sentence_tokens']\n",
    "# dictionary = corpora.Dictionary(texts)\n",
    "# corpus = [dictionary.doc2bow(text) for text in texts]\n",
    "# lda = LdaModel(corpus,\n",
    "#                id2word=dictionary,\n",
    "#                num_topics=10,\n",
    "#                passes=5,\n",
    "#                minimum_probability=0,\n",
    "#                random_state=15)"
   ]
  },
  {
   "cell_type": "code",
   "execution_count": 51,
   "metadata": {
    "ExecuteTime": {
     "end_time": "2019-08-15T02:54:32.593197Z",
     "start_time": "2019-08-15T02:54:32.588720Z"
    }
   },
   "outputs": [],
   "source": [
    "# # Print topics\n",
    "# lda.print_topics()"
   ]
  },
  {
   "cell_type": "code",
   "execution_count": 52,
   "metadata": {
    "ExecuteTime": {
     "end_time": "2019-08-15T02:54:32.599162Z",
     "start_time": "2019-08-15T02:54:32.596009Z"
    }
   },
   "outputs": [],
   "source": [
    "# # Refactoring results of LDA into numpy matrix.\n",
    "# hm = np.array([[y for (x,y) in lda[corpus[i]]] for i in range(len(corpus))])"
   ]
  },
  {
   "cell_type": "code",
   "execution_count": 53,
   "metadata": {
    "ExecuteTime": {
     "end_time": "2019-08-15T02:54:32.604594Z",
     "start_time": "2019-08-15T02:54:32.601378Z"
    }
   },
   "outputs": [],
   "source": [
    "# # Reduce dimensionality using t-SNE.\n",
    "# tsne = TSNE(random_state=15, perplexity=30, early_exaggeration=120)\n",
    "# embedding = tsne.fit_transform(hm)\n",
    "# embedding = pd.DataFrame(embedding, columns=['x','y'])\n",
    "# embedding['hue'] = hm.argmax(axis=1)"
   ]
  },
  {
   "cell_type": "code",
   "execution_count": 54,
   "metadata": {
    "ExecuteTime": {
     "end_time": "2019-08-15T02:54:32.611877Z",
     "start_time": "2019-08-15T02:54:32.606769Z"
    }
   },
   "outputs": [],
   "source": [
    "# # Scatter plot using Bokeh.\n",
    "# source = ColumnDataSource(\n",
    "#     data=dict(x=embedding.x,\n",
    "#               y=embedding.y,\n",
    "#               colors=[all_palettes['Set1'][9] for i in embedding.hue],\n",
    "#               sentence=sent_df.sentence,\n",
    "#               President=sent_df.President,\n",
    "#               alpha=[0.9] * embedding.shape[0],\n",
    "#               size=[7] * embedding.shape[0]\n",
    "#               )\n",
    "# )\n",
    "# hover_tsne = HoverTool(names=[\"sent_df\"], tooltips=\"\"\"\n",
    "#     <div style=\"margin: 10\">\n",
    "#         <div style=\"margin: 0 auto; width:300px;\">\n",
    "#             <span style=\"font-size: 12px; font-weight: bold;\">Title:</span>\n",
    "#             <span style=\"font-size: 12px\">@title</span>\n",
    "#             <span style=\"font-size: 12px; font-weight: bold;\">Year:</span>\n",
    "#             <span style=\"font-size: 12px\">@year</span>\n",
    "#         </div>\n",
    "#     </div>\n",
    "#     \"\"\")\n",
    "# tools_tsne = [hover_tsne, 'pan', 'wheel_zoom', 'reset']\n",
    "# plot_tsne = figure(plot_width=700, plot_height=700,\n",
    "#                    tools=tools_tsne, title='Inaugural Addresses')\n",
    "# plot_tsne.circle('x', 'y', size='size', fill_color='colors',alpha='alpha',\n",
    "#                  line_alpha=0, line_width=0.01, source=source, name=\"sent_df\")\n",
    "\n",
    "\n",
    "# callback = CustomJS(args=dict(source=source), code=\n",
    "#     \"\"\"var data = source.data;\n",
    "#     var f = cb_obj.value\n",
    "#     x = data['x']\n",
    "#     y = data['y']\n",
    "#     colors = data['colors']\n",
    "#     alpha = data['alpha']\n",
    "#     title = data['title']\n",
    "#     President = data['President']\n",
    "#     size = data['size']\n",
    "#     for (i = 0; i < x.length; i++) {\n",
    "#         if (year[i] <= f) {\n",
    "#             alpha[i] = 0.9\n",
    "#             size[i] = 7\n",
    "#         } else {\n",
    "#             alpha[i] = 0.05\n",
    "#             size[i] = 4\n",
    "#         }\n",
    "#     }\n",
    "#     source.change.emit();\n",
    "#     \"\"\")\n",
    "# slider = Slider(start=0.1, end=10, value=1, step=.1, title=\"Amplitude\")\n",
    "# #slider = Slider(\n",
    "# #    start=sent_df.President.min(), end=sent_df.sentence.max(),values=\n",
    "# #    ['Washington', 'Jefferson', 'Lincoln', 'FDR', 'Eisenhower', 'Kennedy', 'Reagan', 'GHWBush', 'Clinton', 'Obama'], step=1, title=\"Inaugural Speeches\")\n",
    "# slider.js_on_change('value', callback)\n",
    "\n",
    "# layout = column(plot_tsne)\n",
    "# show(layout)"
   ]
  },
  {
   "cell_type": "markdown",
   "metadata": {},
   "source": [
    "# Prepare for Predictive Modeling"
   ]
  },
  {
   "cell_type": "code",
   "execution_count": 55,
   "metadata": {
    "ExecuteTime": {
     "end_time": "2019-08-15T02:54:32.621618Z",
     "start_time": "2019-08-15T02:54:32.614658Z"
    }
   },
   "outputs": [
    {
     "name": "stdout",
     "output_type": "stream",
     "text": [
      "Baseline score to beat: 0.15491452991452967\n"
     ]
    }
   ],
   "source": [
    "'''Create baseline score to beat. GHWBush had the most sentences, so guessing \n",
    "him for all sentences would give this percentage.\n",
    "'''\n",
    "\n",
    "print('Baseline score to beat:', sum(\n",
    "    (sent_df.President == 'ghwbush') / len(sent_df.President)))"
   ]
  },
  {
   "cell_type": "code",
   "execution_count": 56,
   "metadata": {
    "ExecuteTime": {
     "end_time": "2019-08-15T02:54:32.628794Z",
     "start_time": "2019-08-15T02:54:32.624817Z"
    }
   },
   "outputs": [],
   "source": [
    "# Pipeline helpers.\n",
    "skf = StratifiedKFold(n_splits=10, shuffle=True, random_state=15)"
   ]
  },
  {
   "cell_type": "code",
   "execution_count": 57,
   "metadata": {
    "ExecuteTime": {
     "end_time": "2019-08-15T02:54:32.637184Z",
     "start_time": "2019-08-15T02:54:32.631440Z"
    }
   },
   "outputs": [],
   "source": [
    "# Instantiate the models.\n",
    "log_reg = LogisticRegression(solver='lbfgs', max_iter=1000, random_state=15)\n",
    "tree = DecisionTreeClassifier(random_state=15)\n",
    "forest = RandomForestClassifier(max_depth=10, random_state=15)\n",
    "boost = GradientBoostingClassifier(random_state=15)\n",
    "nb = BernoulliNB()"
   ]
  },
  {
   "cell_type": "code",
   "execution_count": 58,
   "metadata": {
    "ExecuteTime": {
     "end_time": "2019-08-15T02:54:32.646261Z",
     "start_time": "2019-08-15T02:54:32.640832Z"
    },
    "run_control": {
     "marked": false
    }
   },
   "outputs": [],
   "source": [
    "# Set up _kwargs files for convenience.\n",
    "tfidf_kwargs = {'X_train': X_train_tfidf,'y_train': y_train,\n",
    "                'X_eval': X_eval_tfidf,'y_eval': y_eval}\n",
    "                #'X_holdout': X_holdout_tfidf, 'y_holdout': y_holdout}\n",
    "\n",
    "lsa_kwargs = {'X_train': X_train_lsa_scaled, 'y_train': y_train,\n",
    "              'X_eval': X_eval_lsa_scaled, 'y_eval': y_eval}\n",
    "              #'X_holdout': X_holdout_tfidf_scaled, 'y_holdout': y_holdout}"
   ]
  },
  {
   "cell_type": "code",
   "execution_count": 59,
   "metadata": {
    "ExecuteTime": {
     "end_time": "2019-08-15T02:54:32.661096Z",
     "start_time": "2019-08-15T02:54:32.649908Z"
    }
   },
   "outputs": [],
   "source": [
    "# Tune parameter grids.\n",
    "log_reg_params = {'model__C': [1, 10, 100, 1000]}\n",
    "tree_params = {'model__criterion': ['gini']}\n",
    "forest_params = {'model__n_estimators': [100, 200, 300,400],\n",
    "                 'model__max_depth': [None, 5, 10]}\n",
    "boost_params = {'model__n_estimators': [100]}\n",
    "nb_params = {'model__alpha': [1]}"
   ]
  },
  {
   "cell_type": "code",
   "execution_count": 60,
   "metadata": {
    "ExecuteTime": {
     "end_time": "2019-08-15T02:54:32.679584Z",
     "start_time": "2019-08-15T02:54:32.666879Z"
    }
   },
   "outputs": [],
   "source": [
    "# Function to fit and predict all working kernals.\n",
    "\n",
    "\n",
    "def fit_and_predict(model, params: Dict,\n",
    "                    X_train: pd.DataFrame,\n",
    "                    y_train: pd.DataFrame,\n",
    "                    X_eval: pd.DataFrame,\n",
    "                    y_eval: pd.DataFrame) -> None:\n",
    "    \"\"\"\n",
    "    Takes an instantiated sklearn model, training data (X_train, y_train), \n",
    "    and performs cross-validation and then prints the mean of the cross-\n",
    "    validation accuracies.\n",
    "    \"\"\"\n",
    "    assert len(X_train) == len(y_train)\n",
    "    assert len(X_eval) == len(y_eval)\n",
    "    # assert len(X_holdout) == len(y_holdout)\n",
    "    pipe = Pipeline(steps=[('model', model)])\n",
    "    clf = GridSearchCV(pipe, cv=skf, param_grid=params, n_jobs=2)\n",
    "    clf.fit(X_train, y_train)\n",
    "    print('The mean cross_val accuracy on train is',\n",
    "          f'{clf.cv_results_[\"mean_test_score\"]}.')\n",
    "    print('The std of the cross_val accuracy is',\n",
    "          f'{clf.cv_results_[\"std_test_score\"]}.')\n",
    "    y_pred = clf.predict(X_eval)\n",
    "    print(classification_report(y_eval, y_pred))\n",
    "    print(confusion_matrix(y_eval, y_pred))"
   ]
  },
  {
   "cell_type": "markdown",
   "metadata": {},
   "source": [
    "## Logistic Regression"
   ]
  },
  {
   "cell_type": "markdown",
   "metadata": {},
   "source": [
    "### Tfidf"
   ]
  },
  {
   "cell_type": "code",
   "execution_count": 61,
   "metadata": {
    "ExecuteTime": {
     "end_time": "2019-08-15T02:54:46.727644Z",
     "start_time": "2019-08-15T02:54:32.686216Z"
    },
    "scrolled": true
   },
   "outputs": [
    {
     "name": "stderr",
     "output_type": "stream",
     "text": [
      "/Users/danmchenry/miniconda3/lib/python3.7/site-packages/sklearn/model_selection/_search.py:841: DeprecationWarning: The default of the `iid` parameter will change from True to False in version 0.22 and will be removed in 0.24. This will change numeric results when test-set sizes are unequal.\n",
      "  DeprecationWarning)\n",
      "/Users/danmchenry/miniconda3/lib/python3.7/site-packages/sklearn/linear_model/logistic.py:460: FutureWarning: Default multi_class will be changed to 'auto' in 0.22. Specify the multi_class option to silence this warning.\n",
      "  \"this warning.\", FutureWarning)\n"
     ]
    },
    {
     "name": "stdout",
     "output_type": "stream",
     "text": [
      "The mean cross_val accuracy on train is [0.3460076  0.34220532 0.31558935 0.28326996].\n",
      "The std of the cross_val accuracy is [0.03517412 0.02098996 0.04191145 0.04905875].\n",
      "              precision    recall  f1-score   support\n",
      "\n",
      "     clinton       0.33      0.12      0.18        16\n",
      "  eisenhower       0.33      0.42      0.37        19\n",
      "         fdr       0.25      0.06      0.10        16\n",
      "     ghwbush       0.15      0.44      0.22        25\n",
      "   jefferson       1.00      0.10      0.18        10\n",
      "     kennedy       0.00      0.00      0.00         9\n",
      "     lincoln       0.58      0.62      0.60        29\n",
      "       obama       0.00      0.00      0.00        25\n",
      "      reagan       0.25      0.33      0.29        24\n",
      "  washington       0.00      0.00      0.00         3\n",
      "\n",
      "   micro avg       0.28      0.28      0.28       176\n",
      "   macro avg       0.29      0.21      0.19       176\n",
      "weighted avg       0.30      0.28      0.25       176\n",
      "\n",
      "[[ 2  1  0  9  0  1  0  0  3  0]\n",
      " [ 0  8  0  7  0  0  1  2  1  0]\n",
      " [ 0  2  1  8  0  0  1  0  4  0]\n",
      " [ 0  5  2 11  0  0  2  0  5  0]\n",
      " [ 0  2  0  2  1  0  2  0  3  0]\n",
      " [ 1  1  0  4  0  0  1  1  1  0]\n",
      " [ 0  1  0  7  0  0 18  0  3  0]\n",
      " [ 1  1  1 15  0  0  3  0  4  0]\n",
      " [ 2  3  0  8  0  0  2  1  8  0]\n",
      " [ 0  0  0  2  0  0  1  0  0  0]]\n"
     ]
    },
    {
     "name": "stderr",
     "output_type": "stream",
     "text": [
      "/Users/danmchenry/miniconda3/lib/python3.7/site-packages/sklearn/metrics/classification.py:1143: UndefinedMetricWarning: Precision and F-score are ill-defined and being set to 0.0 in labels with no predicted samples.\n",
      "  'precision', 'predicted', average, warn_for)\n"
     ]
    }
   ],
   "source": [
    "fit_and_predict(log_reg, params=log_reg_params, **tfidf_kwargs)"
   ]
  },
  {
   "cell_type": "markdown",
   "metadata": {},
   "source": [
    "### LSA (Latent Semantic Analysis)"
   ]
  },
  {
   "cell_type": "code",
   "execution_count": 62,
   "metadata": {
    "ExecuteTime": {
     "end_time": "2019-08-15T02:55:02.206544Z",
     "start_time": "2019-08-15T02:54:46.730921Z"
    }
   },
   "outputs": [
    {
     "name": "stderr",
     "output_type": "stream",
     "text": [
      "/Users/danmchenry/miniconda3/lib/python3.7/site-packages/sklearn/model_selection/_search.py:841: DeprecationWarning: The default of the `iid` parameter will change from True to False in version 0.22 and will be removed in 0.24. This will change numeric results when test-set sizes are unequal.\n",
      "  DeprecationWarning)\n",
      "/Users/danmchenry/miniconda3/lib/python3.7/site-packages/sklearn/linear_model/logistic.py:460: FutureWarning: Default multi_class will be changed to 'auto' in 0.22. Specify the multi_class option to silence this warning.\n",
      "  \"this warning.\", FutureWarning)\n"
     ]
    },
    {
     "name": "stdout",
     "output_type": "stream",
     "text": [
      "The mean cross_val accuracy on train is [0.31368821 0.31939163 0.31558935 0.30228137].\n",
      "The std of the cross_val accuracy is [0.03308349 0.0311812  0.04997338 0.04755442].\n",
      "              precision    recall  f1-score   support\n",
      "\n",
      "     clinton       0.25      0.25      0.25        16\n",
      "  eisenhower       0.36      0.47      0.41        19\n",
      "         fdr       0.47      0.44      0.45        16\n",
      "     ghwbush       0.16      0.32      0.21        25\n",
      "   jefferson       0.43      0.30      0.35        10\n",
      "     kennedy       0.40      0.22      0.29         9\n",
      "     lincoln       0.64      0.62      0.63        29\n",
      "       obama       0.17      0.04      0.06        25\n",
      "      reagan       0.35      0.29      0.32        24\n",
      "  washington       0.67      0.67      0.67         3\n",
      "\n",
      "   micro avg       0.35      0.35      0.35       176\n",
      "   macro avg       0.39      0.36      0.36       176\n",
      "weighted avg       0.36      0.35      0.34       176\n",
      "\n",
      "[[ 4  1  1  8  0  1  0  0  1  0]\n",
      " [ 0  9  0  8  0  0  1  1  0  0]\n",
      " [ 0  3  7  3  0  0  0  1  2  0]\n",
      " [ 4  5  1  8  0  0  1  1  5  0]\n",
      " [ 0  1  0  1  3  1  3  0  1  0]\n",
      " [ 1  0  0  0  4  2  1  0  1  0]\n",
      " [ 0  1  1  6  0  0 18  0  2  1]\n",
      " [ 5  1  3 10  0  1  3  1  1  0]\n",
      " [ 2  4  2  6  0  0  1  2  7  0]\n",
      " [ 0  0  0  1  0  0  0  0  0  2]]\n"
     ]
    }
   ],
   "source": [
    "fit_and_predict(log_reg, params=log_reg_params, **lsa_kwargs)"
   ]
  },
  {
   "cell_type": "markdown",
   "metadata": {},
   "source": [
    "## Decision Trees"
   ]
  },
  {
   "cell_type": "markdown",
   "metadata": {},
   "source": [
    "### Tfidf"
   ]
  },
  {
   "cell_type": "code",
   "execution_count": 63,
   "metadata": {
    "ExecuteTime": {
     "end_time": "2019-08-15T02:55:02.564569Z",
     "start_time": "2019-08-15T02:55:02.208906Z"
    }
   },
   "outputs": [
    {
     "name": "stdout",
     "output_type": "stream",
     "text": [
      "The mean cross_val accuracy on train is [0.26996198].\n",
      "The std of the cross_val accuracy is [0.05939566].\n",
      "              precision    recall  f1-score   support\n",
      "\n",
      "     clinton       0.08      0.06      0.07        16\n",
      "  eisenhower       0.24      0.32      0.27        19\n",
      "         fdr       0.00      0.00      0.00        16\n",
      "     ghwbush       0.11      0.28      0.16        25\n",
      "   jefferson       0.00      0.00      0.00        10\n",
      "     kennedy       0.67      0.22      0.33         9\n",
      "     lincoln       0.52      0.41      0.46        29\n",
      "       obama       0.23      0.12      0.16        25\n",
      "      reagan       0.23      0.21      0.22        24\n",
      "  washington       0.00      0.00      0.00         3\n",
      "\n",
      "   micro avg       0.20      0.20      0.20       176\n",
      "   macro avg       0.21      0.16      0.17       176\n",
      "weighted avg       0.23      0.20      0.20       176\n",
      "\n",
      "[[ 1  1  0 10  0  0  0  1  3  0]\n",
      " [ 0  6  2  8  0  0  1  1  1  0]\n",
      " [ 1  2  0  8  1  0  1  0  3  0]\n",
      " [ 4  3  3  7  0  0  3  2  2  1]\n",
      " [ 0  0  0  2  0  0  4  2  2  0]\n",
      " [ 2  2  1  1  0  2  0  0  1  0]\n",
      " [ 0  4  1  8  0  0 12  0  2  2]\n",
      " [ 4  2  2  9  1  1  0  3  3  0]\n",
      " [ 1  4  2  8  0  0  0  4  5  0]\n",
      " [ 0  1  0  0  0  0  2  0  0  0]]\n"
     ]
    }
   ],
   "source": [
    "fit_and_predict(tree, params=tree_params, **tfidf_kwargs)"
   ]
  },
  {
   "cell_type": "markdown",
   "metadata": {},
   "source": [
    "### LSA"
   ]
  },
  {
   "cell_type": "code",
   "execution_count": 64,
   "metadata": {
    "ExecuteTime": {
     "end_time": "2019-08-15T02:55:03.041448Z",
     "start_time": "2019-08-15T02:55:02.567875Z"
    }
   },
   "outputs": [
    {
     "name": "stdout",
     "output_type": "stream",
     "text": [
      "The mean cross_val accuracy on train is [0.21292776].\n",
      "The std of the cross_val accuracy is [0.04921557].\n",
      "              precision    recall  f1-score   support\n",
      "\n",
      "     clinton       0.00      0.00      0.00        16\n",
      "  eisenhower       0.15      0.21      0.17        19\n",
      "         fdr       0.29      0.25      0.27        16\n",
      "     ghwbush       0.15      0.28      0.20        25\n",
      "   jefferson       0.25      0.10      0.14        10\n",
      "     kennedy       0.00      0.00      0.00         9\n",
      "     lincoln       0.41      0.38      0.39        29\n",
      "       obama       0.13      0.08      0.10        25\n",
      "      reagan       0.09      0.08      0.09        24\n",
      "  washington       0.00      0.00      0.00         3\n",
      "\n",
      "   micro avg       0.18      0.18      0.18       176\n",
      "   macro avg       0.15      0.14      0.14       176\n",
      "weighted avg       0.18      0.18      0.17       176\n",
      "\n",
      "[[ 0  1  1  7  0  2  1  1  2  1]\n",
      " [ 0  4  0  7  0  1  3  3  1  0]\n",
      " [ 0  3  4  2  0  0  2  1  3  1]\n",
      " [ 1  4  2  7  0  1  5  3  2  0]\n",
      " [ 0  1  0  1  1  1  1  2  3  0]\n",
      " [ 0  2  1  3  0  0  0  1  2  0]\n",
      " [ 2  4  2  4  1  1 11  0  4  0]\n",
      " [ 2  3  2  8  2  1  2  2  2  1]\n",
      " [ 3  5  2  7  0  1  1  2  2  1]\n",
      " [ 0  0  0  0  0  0  1  0  2  0]]\n"
     ]
    },
    {
     "name": "stderr",
     "output_type": "stream",
     "text": [
      "/Users/danmchenry/miniconda3/lib/python3.7/site-packages/sklearn/model_selection/_search.py:841: DeprecationWarning: The default of the `iid` parameter will change from True to False in version 0.22 and will be removed in 0.24. This will change numeric results when test-set sizes are unequal.\n",
      "  DeprecationWarning)\n"
     ]
    }
   ],
   "source": [
    "fit_and_predict(tree, params=tree_params, **lsa_kwargs)"
   ]
  },
  {
   "cell_type": "markdown",
   "metadata": {},
   "source": [
    "## Random Forest"
   ]
  },
  {
   "cell_type": "markdown",
   "metadata": {},
   "source": [
    "### Tfidf"
   ]
  },
  {
   "cell_type": "code",
   "execution_count": 65,
   "metadata": {
    "ExecuteTime": {
     "end_time": "2019-08-15T02:55:24.379081Z",
     "start_time": "2019-08-15T02:55:03.043935Z"
    }
   },
   "outputs": [
    {
     "name": "stderr",
     "output_type": "stream",
     "text": [
      "/Users/danmchenry/miniconda3/lib/python3.7/site-packages/sklearn/model_selection/_search.py:841: DeprecationWarning: The default of the `iid` parameter will change from True to False in version 0.22 and will be removed in 0.24. This will change numeric results when test-set sizes are unequal.\n",
      "  DeprecationWarning)\n"
     ]
    },
    {
     "name": "stdout",
     "output_type": "stream",
     "text": [
      "The mean cross_val accuracy on train is [0.30418251 0.32129278 0.32319392 0.32319392 0.28707224 0.29277567\n",
      " 0.29087452 0.28136882 0.2851711  0.29277567 0.30418251 0.30418251].\n",
      "The std of the cross_val accuracy is [0.0294265  0.0316737  0.0353509  0.03592705 0.05275027 0.05193235\n",
      " 0.04611536 0.0494077  0.05074101 0.05179239 0.04375188 0.04720934].\n",
      "              precision    recall  f1-score   support\n",
      "\n",
      "     clinton       0.27      0.25      0.26        16\n",
      "  eisenhower       0.22      0.32      0.26        19\n",
      "         fdr       0.18      0.12      0.15        16\n",
      "     ghwbush       0.14      0.28      0.18        25\n",
      "   jefferson       0.50      0.30      0.37        10\n",
      "     kennedy       1.00      0.11      0.20         9\n",
      "     lincoln       0.56      0.52      0.54        29\n",
      "       obama       0.07      0.04      0.05        25\n",
      "      reagan       0.30      0.29      0.30        24\n",
      "  washington       0.00      0.00      0.00         3\n",
      "\n",
      "   micro avg       0.26      0.26      0.26       176\n",
      "   macro avg       0.32      0.22      0.23       176\n",
      "weighted avg       0.31      0.26      0.26       176\n",
      "\n",
      "[[ 4  2  0  7  0  0  0  1  2  0]\n",
      " [ 0  6  1  6  1  0  1  3  1  0]\n",
      " [ 0  4  2  5  0  0  1  2  2  0]\n",
      " [ 3  6  3  7  0  0  3  1  1  1]\n",
      " [ 1  0  0  0  3  0  3  1  2  0]\n",
      " [ 1  1  0  2  1  1  2  0  1  0]\n",
      " [ 0  2  0  6  1  0 15  0  5  0]\n",
      " [ 5  3  3 11  0  0  0  1  2  0]\n",
      " [ 1  2  2  7  0  0  0  5  7  0]\n",
      " [ 0  1  0  0  0  0  2  0  0  0]]\n"
     ]
    }
   ],
   "source": [
    "fit_and_predict(forest, params=forest_params, **tfidf_kwargs)"
   ]
  },
  {
   "cell_type": "markdown",
   "metadata": {},
   "source": [
    "### LSA"
   ]
  },
  {
   "cell_type": "code",
   "execution_count": 66,
   "metadata": {
    "ExecuteTime": {
     "end_time": "2019-08-15T02:56:12.818233Z",
     "start_time": "2019-08-15T02:55:24.382371Z"
    }
   },
   "outputs": [
    {
     "name": "stderr",
     "output_type": "stream",
     "text": [
      "/Users/danmchenry/miniconda3/lib/python3.7/site-packages/sklearn/model_selection/_search.py:841: DeprecationWarning: The default of the `iid` parameter will change from True to False in version 0.22 and will be removed in 0.24. This will change numeric results when test-set sizes are unequal.\n",
      "  DeprecationWarning)\n"
     ]
    },
    {
     "name": "stdout",
     "output_type": "stream",
     "text": [
      "The mean cross_val accuracy on train is [0.3269962  0.33460076 0.32889734 0.33079848 0.29847909 0.29467681\n",
      " 0.31558935 0.31749049 0.30418251 0.32129278 0.31939163 0.32509506].\n",
      "The std of the cross_val accuracy is [0.04246419 0.03008867 0.04137468 0.03406886 0.06429284 0.04731644\n",
      " 0.04887308 0.05115268 0.02931676 0.03400292 0.04475215 0.03733447].\n",
      "              precision    recall  f1-score   support\n",
      "\n",
      "     clinton       0.40      0.12      0.19        16\n",
      "  eisenhower       0.24      0.42      0.31        19\n",
      "         fdr       0.25      0.06      0.10        16\n",
      "     ghwbush       0.14      0.36      0.20        25\n",
      "   jefferson       0.00      0.00      0.00        10\n",
      "     kennedy       1.00      0.11      0.20         9\n",
      "     lincoln       0.53      0.66      0.58        29\n",
      "       obama       0.17      0.04      0.06        25\n",
      "      reagan       0.29      0.33      0.31        24\n",
      "  washington       0.00      0.00      0.00         3\n",
      "\n",
      "   micro avg       0.28      0.28      0.28       176\n",
      "   macro avg       0.30      0.21      0.20       176\n",
      "weighted avg       0.31      0.28      0.25       176\n",
      "\n",
      "[[ 2  3  0  9  0  0  0  1  1  0]\n",
      " [ 0  8  0  9  0  0  0  1  1  0]\n",
      " [ 0  4  1  3  0  0  3  1  4  0]\n",
      " [ 2  4  0  9  0  0  4  1  5  0]\n",
      " [ 0  2  0  1  0  0  4  0  3  0]\n",
      " [ 0  4  0  2  0  1  1  0  1  0]\n",
      " [ 0  2  1  5  0  0 19  0  2  0]\n",
      " [ 1  3  2 14  0  0  2  1  2  0]\n",
      " [ 0  3  0 10  0  0  2  1  8  0]\n",
      " [ 0  0  0  1  0  0  1  0  1  0]]\n"
     ]
    },
    {
     "name": "stderr",
     "output_type": "stream",
     "text": [
      "/Users/danmchenry/miniconda3/lib/python3.7/site-packages/sklearn/metrics/classification.py:1143: UndefinedMetricWarning: Precision and F-score are ill-defined and being set to 0.0 in labels with no predicted samples.\n",
      "  'precision', 'predicted', average, warn_for)\n"
     ]
    }
   ],
   "source": [
    "fit_and_predict(forest, params=forest_params, **lsa_kwargs)"
   ]
  },
  {
   "cell_type": "markdown",
   "metadata": {},
   "source": [
    "## Gradient Boosting Machines"
   ]
  },
  {
   "cell_type": "markdown",
   "metadata": {},
   "source": [
    "### Tfidf"
   ]
  },
  {
   "cell_type": "code",
   "execution_count": 67,
   "metadata": {
    "ExecuteTime": {
     "end_time": "2019-08-15T02:56:22.446794Z",
     "start_time": "2019-08-15T02:56:12.835124Z"
    }
   },
   "outputs": [
    {
     "name": "stderr",
     "output_type": "stream",
     "text": [
      "/Users/danmchenry/miniconda3/lib/python3.7/site-packages/sklearn/model_selection/_search.py:841: DeprecationWarning: The default of the `iid` parameter will change from True to False in version 0.22 and will be removed in 0.24. This will change numeric results when test-set sizes are unequal.\n",
      "  DeprecationWarning)\n"
     ]
    },
    {
     "name": "stdout",
     "output_type": "stream",
     "text": [
      "The mean cross_val accuracy on train is [0.28326996].\n",
      "The std of the cross_val accuracy is [0.03895119].\n",
      "              precision    recall  f1-score   support\n",
      "\n",
      "     clinton       0.33      0.25      0.29        16\n",
      "  eisenhower       0.18      0.26      0.21        19\n",
      "         fdr       0.25      0.12      0.17        16\n",
      "     ghwbush       0.13      0.32      0.18        25\n",
      "   jefferson       0.00      0.00      0.00        10\n",
      "     kennedy       0.00      0.00      0.00         9\n",
      "     lincoln       0.55      0.41      0.47        29\n",
      "       obama       0.00      0.00      0.00        25\n",
      "      reagan       0.32      0.33      0.33        24\n",
      "  washington       0.00      0.00      0.00         3\n",
      "\n",
      "   micro avg       0.22      0.22      0.22       176\n",
      "   macro avg       0.18      0.17      0.16       176\n",
      "weighted avg       0.22      0.22      0.21       176\n",
      "\n",
      "[[ 4  3  0  6  0  0  1  0  2  0]\n",
      " [ 0  5  1  7  0  1  1  3  1  0]\n",
      " [ 0  0  2  8  1  0  0  1  4  0]\n",
      " [ 1  7  2  8  0  1  2  2  2  0]\n",
      " [ 0  2  0  2  0  0  3  1  2  0]\n",
      " [ 1  2  0  1  1  0  1  1  2  0]\n",
      " [ 1  3  0  9  1  0 12  0  2  1]\n",
      " [ 4  3  3 12  0  0  1  0  2  0]\n",
      " [ 1  2  0  8  1  1  0  3  8  0]\n",
      " [ 0  1  0  1  0  0  1  0  0  0]]\n"
     ]
    }
   ],
   "source": [
    "fit_and_predict(boost, params=boost_params, **tfidf_kwargs)"
   ]
  },
  {
   "cell_type": "markdown",
   "metadata": {},
   "source": [
    "### LSA"
   ]
  },
  {
   "cell_type": "code",
   "execution_count": 68,
   "metadata": {
    "ExecuteTime": {
     "end_time": "2019-08-15T02:56:44.733644Z",
     "start_time": "2019-08-15T02:56:22.453081Z"
    }
   },
   "outputs": [
    {
     "name": "stderr",
     "output_type": "stream",
     "text": [
      "/Users/danmchenry/miniconda3/lib/python3.7/site-packages/sklearn/model_selection/_search.py:841: DeprecationWarning: The default of the `iid` parameter will change from True to False in version 0.22 and will be removed in 0.24. This will change numeric results when test-set sizes are unequal.\n",
      "  DeprecationWarning)\n"
     ]
    },
    {
     "name": "stdout",
     "output_type": "stream",
     "text": [
      "The mean cross_val accuracy on train is [0.29087452].\n",
      "The std of the cross_val accuracy is [0.03692312].\n",
      "              precision    recall  f1-score   support\n",
      "\n",
      "     clinton       0.09      0.06      0.07        16\n",
      "  eisenhower       0.25      0.26      0.26        19\n",
      "         fdr       0.22      0.12      0.16        16\n",
      "     ghwbush       0.10      0.24      0.14        25\n",
      "   jefferson       0.00      0.00      0.00        10\n",
      "     kennedy       0.00      0.00      0.00         9\n",
      "     lincoln       0.59      0.55      0.57        29\n",
      "       obama       0.08      0.04      0.05        25\n",
      "      reagan       0.24      0.33      0.28        24\n",
      "  washington       0.00      0.00      0.00         3\n",
      "\n",
      "   micro avg       0.22      0.22      0.22       176\n",
      "   macro avg       0.16      0.16      0.15       176\n",
      "weighted avg       0.21      0.22      0.21       176\n",
      "\n",
      "[[ 1  2  2 10  0  0  0  0  1  0]\n",
      " [ 0  5  0  8  0  0  0  2  4  0]\n",
      " [ 0  1  2  6  0  0  1  1  5  0]\n",
      " [ 2  3  1  6  1  1  4  2  5  0]\n",
      " [ 1  1  0  1  0  0  2  1  4  0]\n",
      " [ 0  2  0  1  1  0  1  2  2  0]\n",
      " [ 0  2  1  6  1  0 16  0  2  1]\n",
      " [ 2  2  3 14  0  0  1  1  2  0]\n",
      " [ 5  1  0  6  0  0  2  2  8  0]\n",
      " [ 0  1  0  0  0  0  0  2  0  0]]\n"
     ]
    }
   ],
   "source": [
    "fit_and_predict(boost, params=boost_params, **lsa_kwargs)"
   ]
  },
  {
   "cell_type": "markdown",
   "metadata": {},
   "source": [
    "## Naive Bayes"
   ]
  },
  {
   "cell_type": "markdown",
   "metadata": {},
   "source": [
    "### Tfidf"
   ]
  },
  {
   "cell_type": "code",
   "execution_count": 69,
   "metadata": {
    "ExecuteTime": {
     "end_time": "2019-08-15T02:56:44.948923Z",
     "start_time": "2019-08-15T02:56:44.736342Z"
    }
   },
   "outputs": [
    {
     "name": "stdout",
     "output_type": "stream",
     "text": [
      "The mean cross_val accuracy on train is [0.36311787].\n",
      "The std of the cross_val accuracy is [0.05182334].\n",
      "              precision    recall  f1-score   support\n",
      "\n",
      "     clinton       0.00      0.00      0.00        16\n",
      "  eisenhower       0.50      0.37      0.42        19\n",
      "         fdr       0.40      0.12      0.19        16\n",
      "     ghwbush       0.21      0.64      0.31        25\n",
      "   jefferson       0.00      0.00      0.00        10\n",
      "     kennedy       0.00      0.00      0.00         9\n",
      "     lincoln       0.63      0.59      0.61        29\n",
      "       obama       0.00      0.00      0.00        25\n",
      "      reagan       0.22      0.42      0.29        24\n",
      "  washington       1.00      0.33      0.50         3\n",
      "\n",
      "   micro avg       0.30      0.30      0.30       176\n",
      "   macro avg       0.30      0.25      0.23       176\n",
      "weighted avg       0.27      0.30      0.26       176\n",
      "\n",
      "[[ 0  1  0 11  0  0  0  0  4  0]\n",
      " [ 0  7  0  8  0  0  2  0  2  0]\n",
      " [ 0  1  2  6  0  0  0  0  7  0]\n",
      " [ 0  1  0 16  0  0  1  0  7  0]\n",
      " [ 0  1  0  2  0  1  2  1  3  0]\n",
      " [ 3  0  0  3  0  0  1  0  2  0]\n",
      " [ 0  0  1  8  0  0 17  1  2  0]\n",
      " [ 1  1  1 13  0  0  1  0  8  0]\n",
      " [ 0  2  1  9  0  0  2  0 10  0]\n",
      " [ 0  0  0  1  0  0  1  0  0  1]]\n"
     ]
    },
    {
     "name": "stderr",
     "output_type": "stream",
     "text": [
      "/Users/danmchenry/miniconda3/lib/python3.7/site-packages/sklearn/model_selection/_search.py:841: DeprecationWarning: The default of the `iid` parameter will change from True to False in version 0.22 and will be removed in 0.24. This will change numeric results when test-set sizes are unequal.\n",
      "  DeprecationWarning)\n",
      "/Users/danmchenry/miniconda3/lib/python3.7/site-packages/sklearn/metrics/classification.py:1143: UndefinedMetricWarning: Precision and F-score are ill-defined and being set to 0.0 in labels with no predicted samples.\n",
      "  'precision', 'predicted', average, warn_for)\n"
     ]
    }
   ],
   "source": [
    "fit_and_predict(nb, params=nb_params, **tfidf_kwargs)"
   ]
  },
  {
   "cell_type": "markdown",
   "metadata": {},
   "source": [
    "###  LSA"
   ]
  },
  {
   "cell_type": "code",
   "execution_count": 70,
   "metadata": {
    "ExecuteTime": {
     "end_time": "2019-08-15T02:56:45.136584Z",
     "start_time": "2019-08-15T02:56:44.951847Z"
    }
   },
   "outputs": [
    {
     "name": "stderr",
     "output_type": "stream",
     "text": [
      "/Users/danmchenry/miniconda3/lib/python3.7/site-packages/sklearn/model_selection/_search.py:841: DeprecationWarning: The default of the `iid` parameter will change from True to False in version 0.22 and will be removed in 0.24. This will change numeric results when test-set sizes are unequal.\n",
      "  DeprecationWarning)\n",
      "/Users/danmchenry/miniconda3/lib/python3.7/site-packages/sklearn/metrics/classification.py:1143: UndefinedMetricWarning: Precision and F-score are ill-defined and being set to 0.0 in labels with no predicted samples.\n",
      "  'precision', 'predicted', average, warn_for)\n"
     ]
    },
    {
     "name": "stdout",
     "output_type": "stream",
     "text": [
      "The mean cross_val accuracy on train is [0.16920152].\n",
      "The std of the cross_val accuracy is [0.01201805].\n",
      "              precision    recall  f1-score   support\n",
      "\n",
      "     clinton       0.00      0.00      0.00        16\n",
      "  eisenhower       0.00      0.00      0.00        19\n",
      "         fdr       0.00      0.00      0.00        16\n",
      "     ghwbush       0.14      0.88      0.24        25\n",
      "   jefferson       0.00      0.00      0.00        10\n",
      "     kennedy       0.00      0.00      0.00         9\n",
      "     lincoln       0.20      0.03      0.06        29\n",
      "       obama       0.00      0.00      0.00        25\n",
      "      reagan       0.00      0.00      0.00        24\n",
      "  washington       0.00      0.00      0.00         3\n",
      "\n",
      "   micro avg       0.13      0.13      0.13       176\n",
      "   macro avg       0.03      0.09      0.03       176\n",
      "weighted avg       0.05      0.13      0.04       176\n",
      "\n",
      "[[ 0  0  1 14  0  0  0  0  1  0]\n",
      " [ 0  0  0 19  0  0  0  0  0  0]\n",
      " [ 0  0  0 14  0  0  0  1  1  0]\n",
      " [ 0  0  0 22  0  0  2  1  0  0]\n",
      " [ 0  0  0  9  0  0  0  0  1  0]\n",
      " [ 0  0  0  9  0  0  0  0  0  0]\n",
      " [ 0  0  0 28  0  0  1  0  0  0]\n",
      " [ 0  0  0 23  0  0  1  0  1  0]\n",
      " [ 0  0  2 21  0  0  1  0  0  0]\n",
      " [ 0  0  0  3  0  0  0  0  0  0]]\n"
     ]
    }
   ],
   "source": [
    "fit_and_predict(nb, params=nb_params, **lsa_kwargs)"
   ]
  },
  {
   "cell_type": "markdown",
   "metadata": {
    "ExecuteTime": {
     "end_time": "2019-08-03T20:20:36.652787Z",
     "start_time": "2019-08-03T20:20:36.547143Z"
    }
   },
   "source": [
    "# Neural Network"
   ]
  },
  {
   "cell_type": "markdown",
   "metadata": {},
   "source": [
    "## *Note: there are not enough data to effectively run a neural network on this project. Section 5 is merely going through the process for the sake of the capstone.*"
   ]
  },
  {
   "cell_type": "code",
   "execution_count": 71,
   "metadata": {
    "ExecuteTime": {
     "end_time": "2019-08-15T02:56:48.426224Z",
     "start_time": "2019-08-15T02:56:45.138639Z"
    }
   },
   "outputs": [
    {
     "data": {
      "text/plain": [
       "MLPClassifier(activation='relu', alpha=0.05, batch_size='auto', beta_1=0.9,\n",
       "       beta_2=0.999, early_stopping=False, epsilon=1e-08,\n",
       "       hidden_layer_sizes=(3,), learning_rate='constant',\n",
       "       learning_rate_init=0.001, max_iter=5000, momentum=0.9,\n",
       "       n_iter_no_change=10, nesterovs_momentum=True, power_t=0.5,\n",
       "       random_state=15, shuffle=True, solver='adam', tol=0.0001,\n",
       "       validation_fraction=0.1, verbose=False, warm_start=False)"
      ]
     },
     "execution_count": 71,
     "metadata": {},
     "output_type": "execute_result"
    }
   ],
   "source": [
    "# Establish and fit the multi-level perceptron model.\n",
    "mlp = MLPClassifier(\n",
    "    hidden_layer_sizes=(3,), random_state=15, max_iter=5000, alpha=0.05)\n",
    "mlp.fit(X_train_tfidf, y_train)"
   ]
  },
  {
   "cell_type": "code",
   "execution_count": 72,
   "metadata": {
    "ExecuteTime": {
     "end_time": "2019-08-15T02:56:48.439677Z",
     "start_time": "2019-08-15T02:56:48.428588Z"
    }
   },
   "outputs": [
    {
     "data": {
      "text/plain": [
       "0.7623574144486692"
      ]
     },
     "execution_count": 72,
     "metadata": {},
     "output_type": "execute_result"
    }
   ],
   "source": [
    "# Find MLP score.\n",
    "mlp.score(X_train_tfidf, y_train)"
   ]
  },
  {
   "cell_type": "code",
   "execution_count": 73,
   "metadata": {
    "ExecuteTime": {
     "end_time": "2019-08-15T02:57:08.201094Z",
     "start_time": "2019-08-15T02:56:48.442402Z"
    }
   },
   "outputs": [
    {
     "data": {
      "text/plain": [
       "array([0.23636364, 0.21296296, 0.24528302, 0.28431373, 0.21      ])"
      ]
     },
     "execution_count": 73,
     "metadata": {},
     "output_type": "execute_result"
    }
   ],
   "source": [
    "# Find cross-validation score.\n",
    "cross_val_score(mlp, X_train_tfidf, y_train, cv=5)"
   ]
  },
  {
   "cell_type": "code",
   "execution_count": 74,
   "metadata": {
    "ExecuteTime": {
     "end_time": "2019-08-15T02:57:15.668721Z",
     "start_time": "2019-08-15T02:57:08.205701Z"
    }
   },
   "outputs": [
    {
     "data": {
      "text/plain": [
       "MLPClassifier(activation='relu', alpha=0.01, batch_size='auto', beta_1=0.9,\n",
       "       beta_2=0.999, early_stopping=False, epsilon=1e-08,\n",
       "       hidden_layer_sizes=(5, 2), learning_rate='constant',\n",
       "       learning_rate_init=0.001, max_iter=5000, momentum=0.9,\n",
       "       n_iter_no_change=10, nesterovs_momentum=True, power_t=0.5,\n",
       "       random_state=15, shuffle=True, solver='adam', tol=0.0001,\n",
       "       validation_fraction=0.1, verbose=False, warm_start=False)"
      ]
     },
     "execution_count": 74,
     "metadata": {},
     "output_type": "execute_result"
    }
   ],
   "source": [
    "# Adjust hidden layer parameters.\n",
    "mlp1 = MLPClassifier(\n",
    "    hidden_layer_sizes=(5,2,), random_state=15, max_iter=5000, alpha=0.01)\n",
    "mlp1.fit(X_train_tfidf, y_train)"
   ]
  },
  {
   "cell_type": "code",
   "execution_count": 75,
   "metadata": {
    "ExecuteTime": {
     "end_time": "2019-08-15T02:57:15.682089Z",
     "start_time": "2019-08-15T02:57:15.673238Z"
    },
    "run_control": {
     "marked": false
    }
   },
   "outputs": [
    {
     "data": {
      "text/plain": [
       "0.8745247148288974"
      ]
     },
     "execution_count": 75,
     "metadata": {},
     "output_type": "execute_result"
    }
   ],
   "source": [
    "# Find accuracy score.\n",
    "mlp1.score(X_train_tfidf, y_train)"
   ]
  },
  {
   "cell_type": "code",
   "execution_count": 76,
   "metadata": {
    "ExecuteTime": {
     "end_time": "2019-08-15T02:57:36.250191Z",
     "start_time": "2019-08-15T02:57:15.684631Z"
    }
   },
   "outputs": [
    {
     "data": {
      "text/plain": [
       "array([0.25454545, 0.19444444, 0.19811321, 0.25490196, 0.14      ])"
      ]
     },
     "execution_count": 76,
     "metadata": {},
     "output_type": "execute_result"
    }
   ],
   "source": [
    "# Cross-validation.\n",
    "cross_val_score(mlp1, X_train_tfidf, y_train, cv=5)"
   ]
  },
  {
   "cell_type": "code",
   "execution_count": 77,
   "metadata": {
    "ExecuteTime": {
     "end_time": "2019-08-15T02:57:42.172224Z",
     "start_time": "2019-08-15T02:57:36.253471Z"
    }
   },
   "outputs": [
    {
     "data": {
      "text/plain": [
       "MLPClassifier(activation='relu', alpha=0.05, batch_size='auto', beta_1=0.9,\n",
       "       beta_2=0.999, early_stopping=False, epsilon=1e-08,\n",
       "       hidden_layer_sizes=(5, 2), learning_rate='constant',\n",
       "       learning_rate_init=0.001, max_iter=5000, momentum=0.9,\n",
       "       n_iter_no_change=10, nesterovs_momentum=True, power_t=0.5,\n",
       "       random_state=15, shuffle=True, solver='adam', tol=0.0001,\n",
       "       validation_fraction=0.1, verbose=False, warm_start=False)"
      ]
     },
     "execution_count": 77,
     "metadata": {},
     "output_type": "execute_result"
    }
   ],
   "source": [
    "# Adjust hidden layer parameters.\n",
    "mlp2 = MLPClassifier(\n",
    "    hidden_layer_sizes=(5,2,), random_state=15, max_iter=5000, alpha=0.05)\n",
    "mlp2.fit(X_train_tfidf, y_train)"
   ]
  },
  {
   "cell_type": "code",
   "execution_count": 78,
   "metadata": {
    "ExecuteTime": {
     "end_time": "2019-08-15T02:57:42.186018Z",
     "start_time": "2019-08-15T02:57:42.174933Z"
    }
   },
   "outputs": [
    {
     "data": {
      "text/plain": [
       "0.8878326996197718"
      ]
     },
     "execution_count": 78,
     "metadata": {},
     "output_type": "execute_result"
    }
   ],
   "source": [
    "# Find accuracy score.\n",
    "mlp2.score(X_train_tfidf, y_train)"
   ]
  },
  {
   "cell_type": "code",
   "execution_count": 79,
   "metadata": {
    "ExecuteTime": {
     "end_time": "2019-08-15T02:58:02.374346Z",
     "start_time": "2019-08-15T02:57:42.188533Z"
    }
   },
   "outputs": [
    {
     "data": {
      "text/plain": [
       "array([0.24545455, 0.21296296, 0.19811321, 0.23529412, 0.17      ])"
      ]
     },
     "execution_count": 79,
     "metadata": {},
     "output_type": "execute_result"
    }
   ],
   "source": [
    "# Cross-validation.\n",
    "cross_val_score(mlp2, X_train_tfidf, y_train, cv=5)"
   ]
  },
  {
   "cell_type": "code",
   "execution_count": null,
   "metadata": {},
   "outputs": [],
   "source": []
  },
  {
   "cell_type": "code",
   "execution_count": 80,
   "metadata": {
    "ExecuteTime": {
     "end_time": "2019-08-15T02:58:02.382661Z",
     "start_time": "2019-08-15T02:58:02.377746Z"
    }
   },
   "outputs": [],
   "source": [
    "#fit_and_predict(log_reg, params=log_reg_params, **bow_kwargs)"
   ]
  },
  {
   "cell_type": "code",
   "execution_count": 81,
   "metadata": {
    "ExecuteTime": {
     "end_time": "2019-08-15T02:58:02.390560Z",
     "start_time": "2019-08-15T02:58:02.386899Z"
    },
    "scrolled": false
   },
   "outputs": [],
   "source": [
    "#fit_and_predict(tree, params=tree_params, **bow_kwargs)"
   ]
  },
  {
   "cell_type": "code",
   "execution_count": 82,
   "metadata": {
    "ExecuteTime": {
     "end_time": "2019-08-15T02:58:02.402444Z",
     "start_time": "2019-08-15T02:58:02.393874Z"
    }
   },
   "outputs": [],
   "source": [
    "#fit_and_predict(forest, params=forest_params, **bow_kwargs)"
   ]
  },
  {
   "cell_type": "code",
   "execution_count": 83,
   "metadata": {
    "ExecuteTime": {
     "end_time": "2019-08-15T02:58:02.409483Z",
     "start_time": "2019-08-15T02:58:02.404885Z"
    }
   },
   "outputs": [],
   "source": [
    "#fit_and_predict(boost, params=boost_params, **bow_kwargs)"
   ]
  },
  {
   "cell_type": "code",
   "execution_count": 84,
   "metadata": {
    "ExecuteTime": {
     "end_time": "2019-08-15T02:58:02.416028Z",
     "start_time": "2019-08-15T02:58:02.412075Z"
    }
   },
   "outputs": [],
   "source": [
    "#fit_and_predict(nb, params=nb_params, **bow_kwargs)"
   ]
  }
 ],
 "metadata": {
  "kernelspec": {
   "display_name": "Python 3",
   "language": "python",
   "name": "python3"
  },
  "language_info": {
   "codemirror_mode": {
    "name": "ipython",
    "version": 3
   },
   "file_extension": ".py",
   "mimetype": "text/x-python",
   "name": "python",
   "nbconvert_exporter": "python",
   "pygments_lexer": "ipython3",
   "version": "3.7.3"
  },
  "toc": {
   "base_numbering": 1,
   "nav_menu": {},
   "number_sections": true,
   "sideBar": true,
   "skip_h1_title": false,
   "title_cell": "Table of Contents",
   "title_sidebar": "Contents",
   "toc_cell": false,
   "toc_position": {},
   "toc_section_display": true,
   "toc_window_display": false
  },
  "varInspector": {
   "cols": {
    "lenName": 16,
    "lenType": 16,
    "lenVar": 40
   },
   "kernels_config": {
    "python": {
     "delete_cmd_postfix": "",
     "delete_cmd_prefix": "del ",
     "library": "var_list.py",
     "varRefreshCmd": "print(var_dic_list())"
    },
    "r": {
     "delete_cmd_postfix": ") ",
     "delete_cmd_prefix": "rm(",
     "library": "var_list.r",
     "varRefreshCmd": "cat(var_dic_list()) "
    }
   },
   "oldHeight": 277,
   "position": {
    "height": "299px",
    "left": "895px",
    "right": "20px",
    "top": "113px",
    "width": "508px"
   },
   "types_to_exclude": [
    "module",
    "function",
    "builtin_function_or_method",
    "instance",
    "_Feature"
   ],
   "varInspector_section_display": "block",
   "window_display": false
  }
 },
 "nbformat": 4,
 "nbformat_minor": 2
}
