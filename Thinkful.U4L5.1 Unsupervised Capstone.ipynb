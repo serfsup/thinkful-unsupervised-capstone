{
 "cells": [
  {
   "cell_type": "markdown",
   "metadata": {},
   "source": [
    "For this project you'll dig into a large amount of text and apply most of what you've covered in this unit and in the course so far.\n",
    "\n",
    "First, pick a set of texts. This can be either a series of novels, chapters, or articles. Anything you'd like. It just has to have multiple entries of varying characteristics. At least 100 should be good. There should also be at least 10 different authors, but try to keep the texts related (either all on the same topic of from the same branch of literature - something to make classification a bit more difficult than obviously different subjects).\n",
    "\n",
    "This capstone can be an extension of your NLP challenge if you wish to use the same corpus. If you found problems with that data set that limited your analysis, however, it may be worth using what you learned to choose a new corpus. Reserve 25% of your corpus as a test set.\n",
    "\n",
    "The first technique is to create a series of clusters. Try several techniques and pick the one you think best represents your data. Make sure there is a narrative and reasoning around why you have chosen the given clusters. Are authors consistently grouped into the same cluster?\n",
    "\n",
    "Next, perform some unsupervised feature generation and selection using the techniques covered in this unit and elsewhere in the course. Using those features then build models to attempt to classify your texts by author. Try different permutations of unsupervised and supervised techniques to see which combinations have the best performance.\n",
    "\n",
    "Lastly return to your holdout group. Does your clustering on those members perform as you'd expect? Have your clusters remained stable or changed dramatically? What about your model? Is its performance consistent?\n",
    "\n",
    "If there is a divergence in the relative stability of your model and your clusters, delve into why.\n",
    "\n",
    "Your end result should be a write up of how clustering and modeling compare for classifying your texts. What are the advantages of each? Why would you want to use one over the other? Approximately 3-5 pages is a good length for your write up, and remember to include visuals to help tell your story!"
   ]
  },
  {
   "cell_type": "code",
   "execution_count": 1,
   "metadata": {
    "ExecuteTime": {
     "end_time": "2019-08-11T02:03:33.703998Z",
     "start_time": "2019-08-11T02:03:28.607633Z"
    }
   },
   "outputs": [
    {
     "data": {
      "text/html": [
       "\n",
       "    <div class=\"bk-root\">\n",
       "        <a href=\"https://bokeh.pydata.org\" target=\"_blank\" class=\"bk-logo bk-logo-small bk-logo-notebook\"></a>\n",
       "        <span id=\"1001\">Loading BokehJS ...</span>\n",
       "    </div>"
      ]
     },
     "metadata": {},
     "output_type": "display_data"
    },
    {
     "data": {
      "application/javascript": [
       "\n",
       "(function(root) {\n",
       "  function now() {\n",
       "    return new Date();\n",
       "  }\n",
       "\n",
       "  var force = true;\n",
       "\n",
       "  if (typeof root._bokeh_onload_callbacks === \"undefined\" || force === true) {\n",
       "    root._bokeh_onload_callbacks = [];\n",
       "    root._bokeh_is_loading = undefined;\n",
       "  }\n",
       "\n",
       "  var JS_MIME_TYPE = 'application/javascript';\n",
       "  var HTML_MIME_TYPE = 'text/html';\n",
       "  var EXEC_MIME_TYPE = 'application/vnd.bokehjs_exec.v0+json';\n",
       "  var CLASS_NAME = 'output_bokeh rendered_html';\n",
       "\n",
       "  /**\n",
       "   * Render data to the DOM node\n",
       "   */\n",
       "  function render(props, node) {\n",
       "    var script = document.createElement(\"script\");\n",
       "    node.appendChild(script);\n",
       "  }\n",
       "\n",
       "  /**\n",
       "   * Handle when an output is cleared or removed\n",
       "   */\n",
       "  function handleClearOutput(event, handle) {\n",
       "    var cell = handle.cell;\n",
       "\n",
       "    var id = cell.output_area._bokeh_element_id;\n",
       "    var server_id = cell.output_area._bokeh_server_id;\n",
       "    // Clean up Bokeh references\n",
       "    if (id != null && id in Bokeh.index) {\n",
       "      Bokeh.index[id].model.document.clear();\n",
       "      delete Bokeh.index[id];\n",
       "    }\n",
       "\n",
       "    if (server_id !== undefined) {\n",
       "      // Clean up Bokeh references\n",
       "      var cmd = \"from bokeh.io.state import curstate; print(curstate().uuid_to_server['\" + server_id + \"'].get_sessions()[0].document.roots[0]._id)\";\n",
       "      cell.notebook.kernel.execute(cmd, {\n",
       "        iopub: {\n",
       "          output: function(msg) {\n",
       "            var id = msg.content.text.trim();\n",
       "            if (id in Bokeh.index) {\n",
       "              Bokeh.index[id].model.document.clear();\n",
       "              delete Bokeh.index[id];\n",
       "            }\n",
       "          }\n",
       "        }\n",
       "      });\n",
       "      // Destroy server and session\n",
       "      var cmd = \"import bokeh.io.notebook as ion; ion.destroy_server('\" + server_id + \"')\";\n",
       "      cell.notebook.kernel.execute(cmd);\n",
       "    }\n",
       "  }\n",
       "\n",
       "  /**\n",
       "   * Handle when a new output is added\n",
       "   */\n",
       "  function handleAddOutput(event, handle) {\n",
       "    var output_area = handle.output_area;\n",
       "    var output = handle.output;\n",
       "\n",
       "    // limit handleAddOutput to display_data with EXEC_MIME_TYPE content only\n",
       "    if ((output.output_type != \"display_data\") || (!output.data.hasOwnProperty(EXEC_MIME_TYPE))) {\n",
       "      return\n",
       "    }\n",
       "\n",
       "    var toinsert = output_area.element.find(\".\" + CLASS_NAME.split(' ')[0]);\n",
       "\n",
       "    if (output.metadata[EXEC_MIME_TYPE][\"id\"] !== undefined) {\n",
       "      toinsert[toinsert.length - 1].firstChild.textContent = output.data[JS_MIME_TYPE];\n",
       "      // store reference to embed id on output_area\n",
       "      output_area._bokeh_element_id = output.metadata[EXEC_MIME_TYPE][\"id\"];\n",
       "    }\n",
       "    if (output.metadata[EXEC_MIME_TYPE][\"server_id\"] !== undefined) {\n",
       "      var bk_div = document.createElement(\"div\");\n",
       "      bk_div.innerHTML = output.data[HTML_MIME_TYPE];\n",
       "      var script_attrs = bk_div.children[0].attributes;\n",
       "      for (var i = 0; i < script_attrs.length; i++) {\n",
       "        toinsert[toinsert.length - 1].firstChild.setAttribute(script_attrs[i].name, script_attrs[i].value);\n",
       "      }\n",
       "      // store reference to server id on output_area\n",
       "      output_area._bokeh_server_id = output.metadata[EXEC_MIME_TYPE][\"server_id\"];\n",
       "    }\n",
       "  }\n",
       "\n",
       "  function register_renderer(events, OutputArea) {\n",
       "\n",
       "    function append_mime(data, metadata, element) {\n",
       "      // create a DOM node to render to\n",
       "      var toinsert = this.create_output_subarea(\n",
       "        metadata,\n",
       "        CLASS_NAME,\n",
       "        EXEC_MIME_TYPE\n",
       "      );\n",
       "      this.keyboard_manager.register_events(toinsert);\n",
       "      // Render to node\n",
       "      var props = {data: data, metadata: metadata[EXEC_MIME_TYPE]};\n",
       "      render(props, toinsert[toinsert.length - 1]);\n",
       "      element.append(toinsert);\n",
       "      return toinsert\n",
       "    }\n",
       "\n",
       "    /* Handle when an output is cleared or removed */\n",
       "    events.on('clear_output.CodeCell', handleClearOutput);\n",
       "    events.on('delete.Cell', handleClearOutput);\n",
       "\n",
       "    /* Handle when a new output is added */\n",
       "    events.on('output_added.OutputArea', handleAddOutput);\n",
       "\n",
       "    /**\n",
       "     * Register the mime type and append_mime function with output_area\n",
       "     */\n",
       "    OutputArea.prototype.register_mime_type(EXEC_MIME_TYPE, append_mime, {\n",
       "      /* Is output safe? */\n",
       "      safe: true,\n",
       "      /* Index of renderer in `output_area.display_order` */\n",
       "      index: 0\n",
       "    });\n",
       "  }\n",
       "\n",
       "  // register the mime type if in Jupyter Notebook environment and previously unregistered\n",
       "  if (root.Jupyter !== undefined) {\n",
       "    var events = require('base/js/events');\n",
       "    var OutputArea = require('notebook/js/outputarea').OutputArea;\n",
       "\n",
       "    if (OutputArea.prototype.mime_types().indexOf(EXEC_MIME_TYPE) == -1) {\n",
       "      register_renderer(events, OutputArea);\n",
       "    }\n",
       "  }\n",
       "\n",
       "  \n",
       "  if (typeof (root._bokeh_timeout) === \"undefined\" || force === true) {\n",
       "    root._bokeh_timeout = Date.now() + 5000;\n",
       "    root._bokeh_failed_load = false;\n",
       "  }\n",
       "\n",
       "  var NB_LOAD_WARNING = {'data': {'text/html':\n",
       "     \"<div style='background-color: #fdd'>\\n\"+\n",
       "     \"<p>\\n\"+\n",
       "     \"BokehJS does not appear to have successfully loaded. If loading BokehJS from CDN, this \\n\"+\n",
       "     \"may be due to a slow or bad network connection. Possible fixes:\\n\"+\n",
       "     \"</p>\\n\"+\n",
       "     \"<ul>\\n\"+\n",
       "     \"<li>re-rerun `output_notebook()` to attempt to load from CDN again, or</li>\\n\"+\n",
       "     \"<li>use INLINE resources instead, as so:</li>\\n\"+\n",
       "     \"</ul>\\n\"+\n",
       "     \"<code>\\n\"+\n",
       "     \"from bokeh.resources import INLINE\\n\"+\n",
       "     \"output_notebook(resources=INLINE)\\n\"+\n",
       "     \"</code>\\n\"+\n",
       "     \"</div>\"}};\n",
       "\n",
       "  function display_loaded() {\n",
       "    var el = document.getElementById(\"1001\");\n",
       "    if (el != null) {\n",
       "      el.textContent = \"BokehJS is loading...\";\n",
       "    }\n",
       "    if (root.Bokeh !== undefined) {\n",
       "      if (el != null) {\n",
       "        el.textContent = \"BokehJS \" + root.Bokeh.version + \" successfully loaded.\";\n",
       "      }\n",
       "    } else if (Date.now() < root._bokeh_timeout) {\n",
       "      setTimeout(display_loaded, 100)\n",
       "    }\n",
       "  }\n",
       "\n",
       "\n",
       "  function run_callbacks() {\n",
       "    try {\n",
       "      root._bokeh_onload_callbacks.forEach(function(callback) {\n",
       "        if (callback != null)\n",
       "          callback();\n",
       "      });\n",
       "    } finally {\n",
       "      delete root._bokeh_onload_callbacks\n",
       "    }\n",
       "    console.debug(\"Bokeh: all callbacks have finished\");\n",
       "  }\n",
       "\n",
       "  function load_libs(css_urls, js_urls, callback) {\n",
       "    if (css_urls == null) css_urls = [];\n",
       "    if (js_urls == null) js_urls = [];\n",
       "\n",
       "    root._bokeh_onload_callbacks.push(callback);\n",
       "    if (root._bokeh_is_loading > 0) {\n",
       "      console.debug(\"Bokeh: BokehJS is being loaded, scheduling callback at\", now());\n",
       "      return null;\n",
       "    }\n",
       "    if (js_urls == null || js_urls.length === 0) {\n",
       "      run_callbacks();\n",
       "      return null;\n",
       "    }\n",
       "    console.debug(\"Bokeh: BokehJS not loaded, scheduling load and callback at\", now());\n",
       "    root._bokeh_is_loading = css_urls.length + js_urls.length;\n",
       "\n",
       "    function on_load() {\n",
       "      root._bokeh_is_loading--;\n",
       "      if (root._bokeh_is_loading === 0) {\n",
       "        console.debug(\"Bokeh: all BokehJS libraries/stylesheets loaded\");\n",
       "        run_callbacks()\n",
       "      }\n",
       "    }\n",
       "\n",
       "    function on_error() {\n",
       "      console.error(\"failed to load \" + url);\n",
       "    }\n",
       "\n",
       "    for (var i = 0; i < css_urls.length; i++) {\n",
       "      var url = css_urls[i];\n",
       "      const element = document.createElement(\"link\");\n",
       "      element.onload = on_load;\n",
       "      element.onerror = on_error;\n",
       "      element.rel = \"stylesheet\";\n",
       "      element.type = \"text/css\";\n",
       "      element.href = url;\n",
       "      console.debug(\"Bokeh: injecting link tag for BokehJS stylesheet: \", url);\n",
       "      document.body.appendChild(element);\n",
       "    }\n",
       "\n",
       "    for (var i = 0; i < js_urls.length; i++) {\n",
       "      var url = js_urls[i];\n",
       "      var element = document.createElement('script');\n",
       "      element.onload = on_load;\n",
       "      element.onerror = on_error;\n",
       "      element.async = false;\n",
       "      element.src = url;\n",
       "      console.debug(\"Bokeh: injecting script tag for BokehJS library: \", url);\n",
       "      document.head.appendChild(element);\n",
       "    }\n",
       "  };var element = document.getElementById(\"1001\");\n",
       "  if (element == null) {\n",
       "    console.error(\"Bokeh: ERROR: autoload.js configured with elementid '1001' but no matching script tag was found. \")\n",
       "    return false;\n",
       "  }\n",
       "\n",
       "  function inject_raw_css(css) {\n",
       "    const element = document.createElement(\"style\");\n",
       "    element.appendChild(document.createTextNode(css));\n",
       "    document.body.appendChild(element);\n",
       "  }\n",
       "\n",
       "  var js_urls = [\"https://cdn.pydata.org/bokeh/release/bokeh-1.3.4.min.js\", \"https://cdn.pydata.org/bokeh/release/bokeh-widgets-1.3.4.min.js\", \"https://cdn.pydata.org/bokeh/release/bokeh-tables-1.3.4.min.js\", \"https://cdn.pydata.org/bokeh/release/bokeh-gl-1.3.4.min.js\"];\n",
       "  var css_urls = [];\n",
       "\n",
       "  var inline_js = [\n",
       "    function(Bokeh) {\n",
       "      Bokeh.set_log_level(\"info\");\n",
       "    },\n",
       "    \n",
       "    function(Bokeh) {\n",
       "      \n",
       "    },\n",
       "    function(Bokeh) {} // ensure no trailing comma for IE\n",
       "  ];\n",
       "\n",
       "  function run_inline_js() {\n",
       "    \n",
       "    if ((root.Bokeh !== undefined) || (force === true)) {\n",
       "      for (var i = 0; i < inline_js.length; i++) {\n",
       "        inline_js[i].call(root, root.Bokeh);\n",
       "      }if (force === true) {\n",
       "        display_loaded();\n",
       "      }} else if (Date.now() < root._bokeh_timeout) {\n",
       "      setTimeout(run_inline_js, 100);\n",
       "    } else if (!root._bokeh_failed_load) {\n",
       "      console.log(\"Bokeh: BokehJS failed to load within specified timeout.\");\n",
       "      root._bokeh_failed_load = true;\n",
       "    } else if (force !== true) {\n",
       "      var cell = $(document.getElementById(\"1001\")).parents('.cell').data().cell;\n",
       "      cell.output_area.append_execute_result(NB_LOAD_WARNING)\n",
       "    }\n",
       "\n",
       "  }\n",
       "\n",
       "  if (root._bokeh_is_loading === 0) {\n",
       "    console.debug(\"Bokeh: BokehJS loaded, going straight to plotting\");\n",
       "    run_inline_js();\n",
       "  } else {\n",
       "    load_libs(css_urls, js_urls, function() {\n",
       "      console.debug(\"Bokeh: BokehJS plotting callback run at\", now());\n",
       "      run_inline_js();\n",
       "    });\n",
       "  }\n",
       "}(window));"
      ],
      "application/vnd.bokehjs_load.v0+json": "\n(function(root) {\n  function now() {\n    return new Date();\n  }\n\n  var force = true;\n\n  if (typeof root._bokeh_onload_callbacks === \"undefined\" || force === true) {\n    root._bokeh_onload_callbacks = [];\n    root._bokeh_is_loading = undefined;\n  }\n\n  \n\n  \n  if (typeof (root._bokeh_timeout) === \"undefined\" || force === true) {\n    root._bokeh_timeout = Date.now() + 5000;\n    root._bokeh_failed_load = false;\n  }\n\n  var NB_LOAD_WARNING = {'data': {'text/html':\n     \"<div style='background-color: #fdd'>\\n\"+\n     \"<p>\\n\"+\n     \"BokehJS does not appear to have successfully loaded. If loading BokehJS from CDN, this \\n\"+\n     \"may be due to a slow or bad network connection. Possible fixes:\\n\"+\n     \"</p>\\n\"+\n     \"<ul>\\n\"+\n     \"<li>re-rerun `output_notebook()` to attempt to load from CDN again, or</li>\\n\"+\n     \"<li>use INLINE resources instead, as so:</li>\\n\"+\n     \"</ul>\\n\"+\n     \"<code>\\n\"+\n     \"from bokeh.resources import INLINE\\n\"+\n     \"output_notebook(resources=INLINE)\\n\"+\n     \"</code>\\n\"+\n     \"</div>\"}};\n\n  function display_loaded() {\n    var el = document.getElementById(\"1001\");\n    if (el != null) {\n      el.textContent = \"BokehJS is loading...\";\n    }\n    if (root.Bokeh !== undefined) {\n      if (el != null) {\n        el.textContent = \"BokehJS \" + root.Bokeh.version + \" successfully loaded.\";\n      }\n    } else if (Date.now() < root._bokeh_timeout) {\n      setTimeout(display_loaded, 100)\n    }\n  }\n\n\n  function run_callbacks() {\n    try {\n      root._bokeh_onload_callbacks.forEach(function(callback) {\n        if (callback != null)\n          callback();\n      });\n    } finally {\n      delete root._bokeh_onload_callbacks\n    }\n    console.debug(\"Bokeh: all callbacks have finished\");\n  }\n\n  function load_libs(css_urls, js_urls, callback) {\n    if (css_urls == null) css_urls = [];\n    if (js_urls == null) js_urls = [];\n\n    root._bokeh_onload_callbacks.push(callback);\n    if (root._bokeh_is_loading > 0) {\n      console.debug(\"Bokeh: BokehJS is being loaded, scheduling callback at\", now());\n      return null;\n    }\n    if (js_urls == null || js_urls.length === 0) {\n      run_callbacks();\n      return null;\n    }\n    console.debug(\"Bokeh: BokehJS not loaded, scheduling load and callback at\", now());\n    root._bokeh_is_loading = css_urls.length + js_urls.length;\n\n    function on_load() {\n      root._bokeh_is_loading--;\n      if (root._bokeh_is_loading === 0) {\n        console.debug(\"Bokeh: all BokehJS libraries/stylesheets loaded\");\n        run_callbacks()\n      }\n    }\n\n    function on_error() {\n      console.error(\"failed to load \" + url);\n    }\n\n    for (var i = 0; i < css_urls.length; i++) {\n      var url = css_urls[i];\n      const element = document.createElement(\"link\");\n      element.onload = on_load;\n      element.onerror = on_error;\n      element.rel = \"stylesheet\";\n      element.type = \"text/css\";\n      element.href = url;\n      console.debug(\"Bokeh: injecting link tag for BokehJS stylesheet: \", url);\n      document.body.appendChild(element);\n    }\n\n    for (var i = 0; i < js_urls.length; i++) {\n      var url = js_urls[i];\n      var element = document.createElement('script');\n      element.onload = on_load;\n      element.onerror = on_error;\n      element.async = false;\n      element.src = url;\n      console.debug(\"Bokeh: injecting script tag for BokehJS library: \", url);\n      document.head.appendChild(element);\n    }\n  };var element = document.getElementById(\"1001\");\n  if (element == null) {\n    console.error(\"Bokeh: ERROR: autoload.js configured with elementid '1001' but no matching script tag was found. \")\n    return false;\n  }\n\n  function inject_raw_css(css) {\n    const element = document.createElement(\"style\");\n    element.appendChild(document.createTextNode(css));\n    document.body.appendChild(element);\n  }\n\n  var js_urls = [\"https://cdn.pydata.org/bokeh/release/bokeh-1.3.4.min.js\", \"https://cdn.pydata.org/bokeh/release/bokeh-widgets-1.3.4.min.js\", \"https://cdn.pydata.org/bokeh/release/bokeh-tables-1.3.4.min.js\", \"https://cdn.pydata.org/bokeh/release/bokeh-gl-1.3.4.min.js\"];\n  var css_urls = [];\n\n  var inline_js = [\n    function(Bokeh) {\n      Bokeh.set_log_level(\"info\");\n    },\n    \n    function(Bokeh) {\n      \n    },\n    function(Bokeh) {} // ensure no trailing comma for IE\n  ];\n\n  function run_inline_js() {\n    \n    if ((root.Bokeh !== undefined) || (force === true)) {\n      for (var i = 0; i < inline_js.length; i++) {\n        inline_js[i].call(root, root.Bokeh);\n      }if (force === true) {\n        display_loaded();\n      }} else if (Date.now() < root._bokeh_timeout) {\n      setTimeout(run_inline_js, 100);\n    } else if (!root._bokeh_failed_load) {\n      console.log(\"Bokeh: BokehJS failed to load within specified timeout.\");\n      root._bokeh_failed_load = true;\n    } else if (force !== true) {\n      var cell = $(document.getElementById(\"1001\")).parents('.cell').data().cell;\n      cell.output_area.append_execute_result(NB_LOAD_WARNING)\n    }\n\n  }\n\n  if (root._bokeh_is_loading === 0) {\n    console.debug(\"Bokeh: BokehJS loaded, going straight to plotting\");\n    run_inline_js();\n  } else {\n    load_libs(css_urls, js_urls, function() {\n      console.debug(\"Bokeh: BokehJS plotting callback run at\", now());\n      run_inline_js();\n    });\n  }\n}(window));"
     },
     "metadata": {},
     "output_type": "display_data"
    }
   ],
   "source": [
    "# Set up data science environment.\n",
    "import numpy as np\n",
    "import pandas as pd\n",
    "import matplotlib\n",
    "import matplotlib.patches as mpatches\n",
    "import matplotlib.pyplot as plt\n",
    "import seaborn as sns\n",
    "import math\n",
    "import scipy\n",
    "import spacy\n",
    "import re\n",
    "import warnings\n",
    "from bokeh.io import output_notebook\n",
    "from bokeh.layouts import column\n",
    "from bokeh.models import HoverTool, CustomJS, ColumnDataSource, Slider\n",
    "from bokeh.palettes import all_palettes\n",
    "from bokeh.plotting import figure, show\n",
    "from collections import Counter\n",
    "from gensim import corpora, models\n",
    "from gensim.models.ldamodel import LdaModel\n",
    "from nltk.corpus import inaugural, stopwords\n",
    "from nltk.stem.snowball import SnowballStemmer\n",
    "from nltk.tokenize import RegexpTokenizer\n",
    "from sklearn.cluster import KMeans, MiniBatchKMeans, SpectralClustering\n",
    "from sklearn.decomposition import TruncatedSVD\n",
    "from sklearn.ensemble import RandomForestClassifier, GradientBoostingClassifier\n",
    "from sklearn.feature_extraction.text import TfidfVectorizer\n",
    "from sklearn.feature_extraction.text import CountVectorizer\n",
    "from sklearn.linear_model import LogisticRegression\n",
    "from sklearn.manifold import TSNE\n",
    "from sklearn.metrics import confusion_matrix, classification_report\n",
    "from sklearn.metrics import accuracy_score\n",
    "from sklearn.model_selection import cross_val_score, train_test_split\n",
    "from sklearn.model_selection import GridSearchCV, StratifiedKFold\n",
    "from sklearn.naive_bayes import BernoulliNB\n",
    "from sklearn.neural_network import MLPClassifier\n",
    "from sklearn.pipeline import Pipeline, make_pipeline\n",
    "from sklearn.preprocessing import MinMaxScaler, normalize, Normalizer\n",
    "from sklearn.tree import DecisionTreeClassifier\n",
    "from sklearn import metrics\n",
    "from typing import Dict\n",
    "output_notebook()\n",
    "\n",
    "# Display preferences.\n",
    "%matplotlib inline\n",
    "pd.options.display.float_format = '{:.3f}'.format\n",
    "sns.set_style('white')\n",
    "\n",
    "# Suppress annoying harmless error.\n",
    "warnings.filterwarnings(\n",
    "    action='ignore',\n",
    "    module='scipy',\n",
    "    message='internal gelsd'\n",
    ")"
   ]
  },
  {
   "cell_type": "markdown",
   "metadata": {},
   "source": [
    "# Data Cleaning, Processing, and Language Parsing"
   ]
  },
  {
   "cell_type": "code",
   "execution_count": 2,
   "metadata": {
    "ExecuteTime": {
     "end_time": "2019-08-11T02:03:42.568746Z",
     "start_time": "2019-08-11T02:03:42.561997Z"
    }
   },
   "outputs": [],
   "source": [
    "# Create lists for files and presidents.\n",
    "files = [\"1789-Washington.txt\",\n",
    "         \"1801-Jefferson.txt\",\n",
    "         \"1861-Lincoln.txt\",\n",
    "         \"1933-Roosevelt.txt\",\n",
    "         \"1953-Eisenhower.txt\",\n",
    "         \"1961-Kennedy.txt\",\n",
    "         \"1981-Reagan.txt\",\n",
    "         \"1989-Bush.txt\",\n",
    "         \"1993-Clinton.txt\",\n",
    "         \"2009-Obama.txt\"]\n",
    "\n",
    "presidents = [\"washington\",\n",
    "              \"jefferson\",\n",
    "              \"lincoln\",\n",
    "              \"fdr\",\n",
    "              \"eisenhower\",\n",
    "              \"kennedy\",\n",
    "              \"reagan\",\n",
    "              \"ghwbush\",\n",
    "              \"clinton\",\n",
    "              \"obama\"]\n",
    "\n",
    "# Control to make sure both lists are the same length.\n",
    "assert len(files) == len(presidents)"
   ]
  },
  {
   "cell_type": "code",
   "execution_count": 3,
   "metadata": {
    "ExecuteTime": {
     "end_time": "2019-08-11T02:03:49.500561Z",
     "start_time": "2019-08-11T02:03:49.487116Z"
    }
   },
   "outputs": [],
   "source": [
    "# Quick function to open all files needed (and close them again).\n",
    "docs = []\n",
    "for file_name, president in zip(files, presidents):\n",
    "    with open(f'./inaugural/{file_name}') as f:\n",
    "        doc = f.read()\n",
    "        docs.append((doc, president))"
   ]
  },
  {
   "cell_type": "code",
   "execution_count": 4,
   "metadata": {
    "ExecuteTime": {
     "end_time": "2019-08-11T02:03:54.983738Z",
     "start_time": "2019-08-11T02:03:54.978297Z"
    }
   },
   "outputs": [],
   "source": [
    "# Utility function to clean text.\n",
    "def text_cleaner(text: str) -> str:\n",
    "    \"\"\"Function to strip all characters except letters in words.\"\"\"\n",
    "    \n",
    "    text = re.sub(r'--', ' ', text)\n",
    "    text = re.sub(r'\\d+', '', text)\n",
    "    text = re.sub(\"[\\[].*?[\\]]\", \"\", text)\n",
    "    text = re.sub(\"[\\<].*?[\\>]\", \"\", text)\n",
    "    text = ' '.join(text.split())\n",
    "    return text"
   ]
  },
  {
   "cell_type": "code",
   "execution_count": 5,
   "metadata": {
    "ExecuteTime": {
     "end_time": "2019-08-11T02:03:57.211793Z",
     "start_time": "2019-08-11T02:03:57.200369Z"
    }
   },
   "outputs": [],
   "source": [
    "# Use text_cleaner on the docs, combine them into data frame (clean_docs).\n",
    "clean_docs = []\n",
    "for doc, pres in docs:\n",
    "    clean_doc = text_cleaner(doc)\n",
    "    clean_docs.append((clean_doc, pres))"
   ]
  },
  {
   "cell_type": "code",
   "execution_count": 6,
   "metadata": {
    "ExecuteTime": {
     "end_time": "2019-08-11T02:04:03.872013Z",
     "start_time": "2019-08-11T02:04:03.861301Z"
    },
    "run_control": {
     "marked": false
    },
    "scrolled": true
   },
   "outputs": [
    {
     "name": "stdout",
     "output_type": "stream",
     "text": [
      "Fellow-Citizens of the Senate and of the House of Representatives: Among the vicissitudes incident to life no event could have filled me with greater anxieties than that of which the notification was transmitted by your order, and received on the th day of the present month. On the one hand, I was summoned by my Country, whose voice I can never hear but with veneration and love, from a retreat which I had chosen with the fondest predilection, and, in my flattering hopes, with an immutable decision, as the asylum of my declining years a retreat which was rendered every day more necessary as well as more dear to me by the addition of habit to inclination, and of frequent interruptions in my health to the gradual waste committed on it by time. On the other hand, the magnitude and difficulty of the trust to which the voice of my country called me, being sufficient to awaken in the wisest and most experienced of her citizens a distrustful scrutiny into his qualifications, could not but over WASHINGTON\n",
      "\n",
      "Friends and Fellow Citizens: Called upon to undertake the duties of the first executive office of our country, I avail myself of the presence of that portion of my fellow citizens which is here assembled to express my grateful thanks for the favor with which they have been pleased to look toward me, to declare a sincere consciousness that the task is above my talents, and that I approach it with those anxious and awful presentiments which the greatness of the charge and the weakness of my powers so justly inspire. A rising nation, spread over a wide and fruitful land, traversing all the seas with the rich productions of their industry, engaged in commerce with nations who feel power and forget right, advancing rapidly to destinies beyond the reach of mortal eye when I contemplate these transcendent objects, and see the honor, the happiness, and the hopes of this beloved country committed to the issue, and the auspices of this day, I shrink from the contemplation, and humble myself befo JEFFERSON\n",
      "\n",
      "Fellow-Citizens of the United States: In compliance with a custom as old as the Government itself, I appear before you to address you briefly and to take in your presence the oath prescribed by the Constitution of the United States to be taken by the President \"before he enters on the execution of this office.\" I do not consider it necessary at present for me to discuss those matters of administration about which there is no special anxiety or excitement. Apprehension seems to exist among the people of the Southern States that by the accession of a Republican Administration their property and their peace and personal security are to be endangered. There has never been any reasonable cause for such apprehension. Indeed, the most ample evidence to the contrary has all the while existed and been open to their inspection. It is found in nearly all the published speeches of him who now addresses you. I do but quote from one of those speeches when I declare that I have no purpose, directly o LINCOLN\n",
      "\n",
      "I am certain that my fellow Americans expect that on my induction into the Presidency I will address them with a candor and a decision which the present situation of our Nation impels. This is preeminently the time to speak the truth, the whole truth, frankly and boldly. Nor need we shrink from honestly facing conditions in our country today. This great Nation will endure as it has endured, will revive and will prosper. So, first of all, let me assert my firm belief that the only thing we have to fear is fear itself nameless, unreasoning, unjustified terror which paralyzes needed efforts to convert retreat into advance. In every dark hour of our national life a leadership of frankness and vigor has met with that understanding and support of the people themselves which is essential to victory. I am convinced that you will again give that support to leadership in these critical days. In such a spirit on my part and on yours we face our common difficulties. They concern, thank God, only m FDR\n",
      "\n",
      "My friends, before I begin the expression of those thoughts that I deem appropriate to this moment, would you permit me the privilege of uttering a little private prayer of my own. And I ask that you bow your heads: Almighty God, as we stand here at this moment my future associates in the executive branch of government join me in beseeching that Thou will make full and complete our dedication to the service of the people in this throng, and their fellow citizens everywhere. Give us, we pray, the power to discern clearly right from wrong, and allow all our words and actions to be governed thereby, and by the laws of this land. Especially we pray that our concern shall be for all the people regardless of station, race, or calling. May cooperation be permitted and be the mutual aim of those who, under the concepts of our Constitution, hold to differing political faiths; so that all may work for the good of our beloved country and Thy glory. Amen. My fellow citizens: The world and we have  EISENHOWER\n",
      "\n",
      "Vice President Johnson, Mr. Speaker, Mr. Chief Justice, President Eisenhower, Vice President Nixon, President Truman, reverend clergy, fellow citizens, we observe today not a victory of party, but a celebration of freedom symbolizing an end, as well as a beginning signifying renewal, as well as change. For I have sworn I before you and Almighty God the same solemn oath our forebears l prescribed nearly a century and three quarters ago. The world is very different now. For man holds in his mortal hands the power to abolish all forms of human poverty and all forms of human life. And yet the same revolutionary beliefs for which our forebears fought are still at issue around the globe the belief that the rights of man come not from the generosity of the state, but from the hand of God. We dare not forget today that we are the heirs of that first revolution. Let the word go forth from this time and place, to friend and foe alike, that the torch has been passed to a new generation of America KENNEDY\n",
      "\n",
      "Senator Hatfield, Mr. Chief Justice, Mr. President, Vice President Bush, Vice President Mondale, Senator Baker, Speaker O'Neill, Reverend Moomaw, and my fellow citizens: To a few of us here today, this is a solemn and most momentous occasion; and yet, in the history of our Nation, it is a commonplace occurrence. The orderly transfer of authority as called for in the Constitution routinely takes place as it has for almost two centuries and few of us stop to think how unique we really are. In the eyes of many in the world, this every--year ceremony we accept as normal is nothing less than a miracle. Mr. President, I want our fellow citizens to know how much you did to carry on this tradition. By your gracious cooperation in the transition process, you have shown a watching world that we are a united people pledged to maintaining a political system which guarantees individual liberty to a greater degree than any other, and I thank you and your people for all your help in maintaining the c REAGAN\n",
      "\n",
      "Mr. Chief Justice, Mr. President, Vice President Quayle, Senator Mitchell, Speaker Wright, Senator Dole, Congressman Michael, and fellow citizens, neighbors, and friends: There is a man here who has earned a lasting place in our hearts and in our history. President Reagan, on behalf of our Nation, I thank you for the wonderful things that you have done for America. I have just repeated word for word the oath taken by George Washington years ago, and the Bible on which I placed my hand is the Bible on which he placed his. It is right that the memory of Washington be with us today, not only because this is our Bicentennial Inauguration, but because Washington remains the Father of our Country. And he would, I think, be gladdened by this day; for today is the concrete expression of a stunning fact: our continuity these years since our government began. We meet on democracy's front porch, a good place to talk as neighbors and as friends. For this is a day when our nation is made whole, whe GHWBUSH\n",
      "\n",
      "My fellow citizens, today we celebrate the mystery of American renewal. This ceremony is held in the depth of winter, but by the words we speak and the faces we show the world, we force the spring. A spring reborn in the world's oldest democracy, that brings forth the vision and courage to reinvent America. When our founders boldly declared America's independence to the world, and our purposes to the Almighty, they knew that America, to endure, would have to change. Not change for change sake, but change to preserve America's ideals: life, liberty, the pursuit of happiness. Though we march to the music of our time, our mission is timeless. Each generation of American's must define what it means to be an American. On behalf of our nation, I salute my predecessor, President Bush, for his half-century of service to America and I thank the millions of men and women whose steadfastness and sacrifice triumphed over depression, fascism and communism. Today, a generation raised in the shadows  CLINTON\n",
      "\n",
      "My fellow citizens: I stand here today humbled by the task before us, grateful for the trust you have bestowed, mindful of the sacrifices borne by our ancestors. I thank President Bush for his service to our nation, as well as the generosity and cooperation he has shown throughout this transition. Forty-four Americans have now taken the presidential oath. The words have been spoken during rising tides of prosperity and the still waters of peace. Yet, every so often the oath is taken amidst gathering clouds and raging storms. At these moments, America has carried on not simply because of the skill or vision of those in high office, but because We the People have remained faithful to the ideals of our forbearers, and true to our founding documents. So it has been. So it must be with this generation of Americans. That we are in the midst of crisis is now well understood. Our nation is at war, against a far-reaching network of violence and hatred. Our economy is badly weakened, a consequen OBAMA\n",
      "\n"
     ]
    }
   ],
   "source": [
    "# Iterate through each doc and print the first 1000 characters for inspection.\n",
    "for doc, pres in clean_docs:\n",
    "    print(doc[:1000], pres.upper()) \n",
    "    print()"
   ]
  },
  {
   "cell_type": "code",
   "execution_count": 7,
   "metadata": {
    "ExecuteTime": {
     "end_time": "2019-08-11T02:04:23.108798Z",
     "start_time": "2019-08-11T02:04:18.524486Z"
    }
   },
   "outputs": [],
   "source": [
    "# Define nlp as spacy.\n",
    "nlp = spacy.load('en')\n",
    "# Create an empty list for df.\n",
    "df_list = []\n",
    "\n",
    "\n",
    "# Create a function to parse data.\n",
    "def nlp_text(text_file: str) -> doc:\n",
    "    \"\"\"Function that takes a text file and tokenizes it with spacy.\"\"\"\n",
    "    \n",
    "    \n",
    "    doc = nlp(text_file)\n",
    "    return doc\n",
    "\n",
    "\n",
    "# Create a function to lemmatize sentences.\n",
    "def sentences(doc_nlp: str, speaker: str) -> [str, str]:\n",
    "    \"\"\"Function that takes two strings, lemmatizes the first string and \n",
    "    returns a list with two strings.\n",
    "    \"\"\"\n",
    "    \n",
    "    \n",
    "    return [[sent.lemma_, speaker] for sent in doc_nlp.sents]\n",
    "\n",
    "\n",
    "# Create a function to combine groups of sentences into one data frame.\n",
    "def sentences_to_df(sents):\n",
    "    \"\"\"Function that takes a string and returns a data frame.\"\"\"\n",
    "\n",
    "    \n",
    "    return pd.DataFrame(sents)\n",
    "\n",
    "\n",
    "# Calling each function.\n",
    "for doc, pres in clean_docs:\n",
    "    parsed = nlp_text(doc)\n",
    "    sents = sentences(parsed, pres)\n",
    "    df = sentences_to_df(sents)\n",
    "    df_list.append(df)"
   ]
  },
  {
   "cell_type": "code",
   "execution_count": 8,
   "metadata": {
    "ExecuteTime": {
     "end_time": "2019-08-11T02:04:25.044509Z",
     "start_time": "2019-08-11T02:04:25.036642Z"
    }
   },
   "outputs": [],
   "source": [
    "# Combine each sentence data frame into one master data frame.\n",
    "sent_df = pd.concat([*df_list])"
   ]
  },
  {
   "cell_type": "code",
   "execution_count": 9,
   "metadata": {
    "ExecuteTime": {
     "end_time": "2019-08-11T02:04:29.582047Z",
     "start_time": "2019-08-11T02:04:29.570162Z"
    }
   },
   "outputs": [
    {
     "data": {
      "text/plain": [
       "ghwbush       145\n",
       "lincoln       139\n",
       "reagan        130\n",
       "eisenhower    121\n",
       "obama         113\n",
       "fdr            86\n",
       "clinton        82\n",
       "kennedy        53\n",
       "jefferson      42\n",
       "washington     25\n",
       "Name: President, dtype: int64"
      ]
     },
     "execution_count": 9,
     "metadata": {},
     "output_type": "execute_result"
    }
   ],
   "source": [
    "# Rename columns.\n",
    "sent_df.columns = ['sentence', 'President']\n",
    "\n",
    "# Check the count of sents per President.\n",
    "sent_df.President.value_counts()"
   ]
  },
  {
   "cell_type": "code",
   "execution_count": 10,
   "metadata": {
    "ExecuteTime": {
     "end_time": "2019-08-11T02:04:34.844526Z",
     "start_time": "2019-08-11T02:04:34.837858Z"
    }
   },
   "outputs": [],
   "source": [
    "# Filter out pronouns from results.\n",
    "sent_df['sentence'] = sent_df['sentence'].str.replace('-PRON-', '')"
   ]
  },
  {
   "cell_type": "markdown",
   "metadata": {},
   "source": [
    "# Creating Features"
   ]
  },
  {
   "cell_type": "code",
   "execution_count": 11,
   "metadata": {
    "ExecuteTime": {
     "end_time": "2019-08-11T02:04:37.372697Z",
     "start_time": "2019-08-11T02:04:37.364722Z"
    }
   },
   "outputs": [],
   "source": [
    "# Splitting the data.\n",
    "X = sent_df.sentence\n",
    "y = sent_df.President\n",
    "X_train_eval, X_holdout, y_train_eval, y_holdout = train_test_split(\n",
    "    X, y, test_size=0.25, random_state=15)"
   ]
  },
  {
   "cell_type": "code",
   "execution_count": 12,
   "metadata": {
    "ExecuteTime": {
     "end_time": "2019-08-11T02:04:40.281705Z",
     "start_time": "2019-08-11T02:04:40.273767Z"
    }
   },
   "outputs": [],
   "source": [
    "# Splitting into train/eval/holdout groups.\n",
    "X_train, X_eval, y_train, y_eval = train_test_split(\n",
    "    X_train_eval, y_train_eval, test_size=0.25, random_state=15)"
   ]
  },
  {
   "cell_type": "code",
   "execution_count": 13,
   "metadata": {
    "ExecuteTime": {
     "end_time": "2019-08-11T02:04:42.958732Z",
     "start_time": "2019-08-11T02:04:42.949656Z"
    }
   },
   "outputs": [],
   "source": [
    "# Create base parameters dictionary.\n",
    "base_param_dict = {'strip_accents': 'unicode',\n",
    "                   'lowercase': True,\n",
    "                   'stop_words': 'english',\n",
    "                   'ngram_range': (1, 3),\n",
    "                   'max_df': 0.5,\n",
    "                   'min_df': 5,\n",
    "                   'max_features': 1000}"
   ]
  },
  {
   "cell_type": "markdown",
   "metadata": {},
   "source": [
    "## Bag of Words"
   ]
  },
  {
   "cell_type": "code",
   "execution_count": 14,
   "metadata": {
    "ExecuteTime": {
     "end_time": "2019-08-11T02:04:46.073108Z",
     "start_time": "2019-08-11T02:04:46.069878Z"
    },
    "run_control": {
     "marked": false
    }
   },
   "outputs": [],
   "source": [
    "# Instantiate CountVectorizer.\n",
    "bow = CountVectorizer(**base_param_dict)"
   ]
  },
  {
   "cell_type": "code",
   "execution_count": 15,
   "metadata": {
    "ExecuteTime": {
     "end_time": "2019-08-11T02:04:48.874259Z",
     "start_time": "2019-08-11T02:04:48.800291Z"
    },
    "run_control": {
     "marked": false
    }
   },
   "outputs": [],
   "source": [
    "# Convert X_train, X_test into dfs of bags of words.\n",
    "_bow_train = bow.fit_transform(X_train)\n",
    "_bow_eval = bow.transform(X_eval)\n",
    "_bow_holdout = bow.transform(X_holdout)\n",
    "assert len(X_train) == _bow_train.shape[0]  # df and sparse-matrix\n",
    "\n",
    "# Find feature names.\n",
    "feature_names = bow.get_feature_names()\n",
    "\n",
    "# Sparse matrix to data frame.\n",
    "X_train_bow = pd.DataFrame(_bow_train.toarray(), columns=feature_names)\n",
    "X_eval_bow = pd.DataFrame(_bow_eval.toarray(), columns=feature_names)\n",
    "X_holdout_bow = pd.DataFrame(_bow_holdout.toarray(), columns=feature_names)"
   ]
  },
  {
   "cell_type": "markdown",
   "metadata": {},
   "source": [
    "## Tfidf"
   ]
  },
  {
   "cell_type": "code",
   "execution_count": 16,
   "metadata": {
    "ExecuteTime": {
     "end_time": "2019-08-11T02:04:53.205692Z",
     "start_time": "2019-08-11T02:04:53.181732Z"
    }
   },
   "outputs": [],
   "source": [
    "# Instantiate Tfidf.\n",
    "tfidf = TfidfVectorizer(**base_param_dict)"
   ]
  },
  {
   "cell_type": "code",
   "execution_count": 17,
   "metadata": {
    "ExecuteTime": {
     "end_time": "2019-08-11T02:04:57.032558Z",
     "start_time": "2019-08-11T02:04:56.971758Z"
    },
    "run_control": {
     "marked": false
    }
   },
   "outputs": [],
   "source": [
    "# Convert X_train, X_test into scipy sparse matrices of tfidf values.\n",
    "_tfidf_train = tfidf.fit_transform(X_train)\n",
    "_tfidf_eval = tfidf.transform(X_eval)\n",
    "_tfidf_holdout = tfidf.transform(X_holdout)\n",
    "assert len(X_train) == _tfidf_train.shape[0]  # df and sparse-matrix\n",
    "\n",
    "# Find feature names.\n",
    "feature_names_tfidf = tfidf.get_feature_names()\n",
    "\n",
    "# Sparse matrix to data frames.\n",
    "X_train_tfidf = pd.DataFrame(\n",
    "    _tfidf_train.toarray(), columns=feature_names_tfidf)\n",
    "X_eval_tfidf = pd.DataFrame(\n",
    "    _tfidf_eval.toarray(), columns=feature_names_tfidf)\n",
    "X_holdout_tfidf = pd.DataFrame(\n",
    "    _tfidf_holdout.toarray(), columns=feature_names_tfidf)"
   ]
  },
  {
   "cell_type": "code",
   "execution_count": 18,
   "metadata": {
    "ExecuteTime": {
     "end_time": "2019-08-11T02:05:02.162989Z",
     "start_time": "2019-08-11T02:05:02.141131Z"
    }
   },
   "outputs": [
    {
     "name": "stdout",
     "output_type": "stream",
     "text": [
      "\n",
      "Train Weights:\n",
      "            word  avg_weight\n",
      "147      people       0.032\n",
      "227       world       0.028\n",
      "80   government       0.028\n",
      "131      nation       0.026\n",
      "206        time       0.025\n",
      "108         let       0.023\n",
      "79         good       0.023\n",
      "120        make       0.022\n",
      "111        life       0.022\n",
      "81        great       0.022\n",
      "\n",
      "Eval Weights:\n",
      "            word  avg_weight\n",
      "135         new       0.029\n",
      "226        work       0.029\n",
      "81        great       0.028\n",
      "74      freedom       0.027\n",
      "132    national       0.027\n",
      "194      states       0.025\n",
      "131      nation       0.024\n",
      "80   government       0.023\n",
      "147      people       0.023\n",
      "158   principle       0.023\n"
     ]
    }
   ],
   "source": [
    "# Calculate weights on training data.\n",
    "weights = np.asarray(X_train_tfidf.mean(axis=0)).ravel().tolist()\n",
    "weights_df = pd.DataFrame(\n",
    "    {'word': tfidf.get_feature_names(), 'avg_weight': weights})\n",
    "print(\"\\nTrain Weights:\\n\", weights_df.sort_values(\n",
    "    by='avg_weight', ascending=False).head(10))\n",
    "\n",
    "# Calculate weights on eval data.\n",
    "weights = np.asarray(X_eval_tfidf.mean(axis=0)).ravel().tolist()\n",
    "weights_df = pd.DataFrame(\n",
    "    {'word': tfidf.get_feature_names(), 'avg_weight': weights})\n",
    "print(\"\\nEval Weights:\\n\", weights_df.sort_values(\n",
    "    by='avg_weight', ascending=False).head(10))"
   ]
  },
  {
   "cell_type": "markdown",
   "metadata": {},
   "source": [
    "## Latent Semantic Analysis (LSA)"
   ]
  },
  {
   "cell_type": "code",
   "execution_count": 19,
   "metadata": {
    "ExecuteTime": {
     "end_time": "2019-08-11T02:05:07.735352Z",
     "start_time": "2019-08-11T02:05:07.731260Z"
    },
    "scrolled": true
   },
   "outputs": [],
   "source": [
    "# Instantiate MinMaxScaler. Create train/eval/holdout groups for Tfidf.\n",
    "scaler = MinMaxScaler()\n",
    "\n",
    "# Tfidf\n",
    "#X_train_tfidf_scaled = pd.DataFrame(\n",
    "#    scaler.fit_transform(X_train_tfidf), columns=feature_names_tfidf)\n",
    "#X_eval_tfidf_scaled = pd.DataFrame(\n",
    "#    scaler.transform(X_eval_tfidf), columns=feature_names_tfidf)\n",
    "#X_holdout_tfidf_scaled = pd.DataFrame(\n",
    "#    scaler.transform(X_holdout_tfidf), columns=feature_names_tfidf)"
   ]
  },
  {
   "cell_type": "code",
   "execution_count": 20,
   "metadata": {
    "ExecuteTime": {
     "end_time": "2019-08-11T02:05:13.111232Z",
     "start_time": "2019-08-11T02:05:13.045919Z"
    }
   },
   "outputs": [
    {
     "name": "stdout",
     "output_type": "stream",
     "text": [
      "Percent variance captured by components: 74.92686660519296\n",
      "Component 0:\n",
      "sentence\n",
      " government have no power except that grant  by the people .                                                                                                                                                                                                                                                                                                                                                                                                                                                                                                                                                                                                                                                                                                                                                                                                                                                                                                                                                                                                                                                                                                                                                                                                                                                                                                                                                                                                                                                    0.435\n",
      "to the people of poor nation ,  pledge to work alongside  to make  farm flourish and let clean water flow ; to nourish starve body and feed hungry mind .                                                                                                                                                                                                                                                                                                                                                                                                                                                                                                                                                                                                                                                                                                                                                                                                                                                                                                                                                                                                                                                                                                                                                                                                                                                                                                                                                       0.420\n",
      "americans deserve good , and in this city today there be people who want to do good , and so  say to all of  here , let  resolve to reform  politic , so that power and privilege no longer shout down the voice of the people .                                                                                                                                                                                                                                                                                                                                                                                                                                                                                                                                                                                                                                                                                                                                                                                                                                                                                                                                                                                                                                                                                                                                                                                                                                                                                0.420\n",
      "by  gracious cooperation in the transition process ,  have show a watch world that  be a united people pledge to maintain a political system which guarantee individual liberty to a great degree than any other , and  thank  and  people for all  help in maintain the continuity which be the bulwark of  republic .                                                                                                                                                                                                                                                                                                                                                                                                                                                                                                                                                                                                                                                                                                                                                                                                                                                                                                                                                                                                                                                                                                                                                                                         0.419\n",
      "equal and exact justice to all man , of whatev state or persuasion , religious or political ; peace , commerce , and honest friendship with all nation , entangle alliance with none ; the support of the state government in all  right , as the most competent administration for  domestic concern and the sure bulwark against antirepublican tendency ; the preservation of the general government in  whole constitutional vigor , as the sheet anchor of  peace at home and safety abroad ; a jealous care of the right of election by the people a mild and safe corrective of abuse which be lop by the sword of revolution where peaceable remedy be unprovided ; absolute acquiescence in the decision of the majority , the vital principle of republic , from which be no appeal but to force , the vital principle and immediate parent of despotism ; a well discipline militia ,  good reliance in peace and for the first moment of war , till regular may relieve  ; the supremacy of the civil over the military authority ; economy in the public expense , that labor may be lightly burthen ; the honest payment of  debt and sacred preservation of the public faith ; encouragement of agriculture , and of commerce as  handmaid ; the diffusion of information and arraignment of all abuse at the bar of the public reason ; freedom of religion ; freedom of the press , and freedom of person under the protection of the habeas corpus , and trial by jury impartially select .   0.417\n",
      "Name: 0, dtype: float64\n",
      "Component 1:\n",
      "sentence\n",
      "now , so there will be no misunderstanding ,  be not  intention to do away with government .                                                                                                                                                        0.627\n",
      "the government will not assail  .                                                                                                                                                                                                                   0.627\n",
      "from time to time ,  have be tempt to believe that society have become too complex to be manage by self - rule , that government by an elite group be superior to government for , by , and of the people .                                         0.588\n",
      "while the strict legal right may exist in the government to enforce the exercise of these office , the attempt to do so would be so irritate and so nearly impracticable withal that  deem  better to forego for the time the us of such office .   0.565\n",
      " be time to check and reverse the growth of government which show sign of have grow beyond the consent of the govern .                                                                                                                              0.526\n",
      "Name: 1, dtype: float64\n",
      "Component 2:\n",
      "sentence\n",
      "let  embrace  .                                                                                                                                                                 0.551\n",
      "so let  mark this day with remembrance , of who  be and how far  have travel .                                                                                                  0.511\n",
      "so , as  begin , let  take inventory .                                                                                                                                          0.505\n",
      "so let  begin anew remember on both side that civility be not a sign of weakness , and sincerity be always subject to proof .                                                   0.482\n",
      "and so ,  fellow americans , as  stand at the edge of the st century , let  begin anew , with energy and hope , with faith and discipline , and let  work until  work be do .   0.465\n",
      "Name: 2, dtype: float64\n",
      "Component 3:\n",
      "sentence\n",
      "technology be almost magical , and ambition for a good life be now universal .                                                                                                        0.686\n",
      "disease diminish and life lengthen .                                                                                                                                                  0.600\n",
      " threaten to shatter the life of million of  people .                                                                                                                                 0.591\n",
      "for  ,  pack up  few worldly possession and travel across ocean in search of a new life .                                                                                             0.516\n",
      " be no coincidence that  present trouble parallel and be proportionate to the intervention and intrusion in  life that result from unnecessary and excessive growth of government .   0.485\n",
      "Name: 3, dtype: float64\n",
      "Component 4:\n",
      "sentence\n",
      " have no vision , and when there be no vision the people perish .                                                                        0.509\n",
      "the chief magistrate derive all  authority from the people , and  have refer none upon  to fix term for the separation of the states .   0.436\n",
      "the people of the united states have not fail .                                                                                          0.414\n",
      "especially  pray that  concern shall be for all the people regardless of station , race , or call .                                      0.384\n",
      "for the impoverishment of any single people in the world mean danger to the well - being of all other people .                           0.380\n",
      "Name: 4, dtype: float64\n",
      "Component 5:\n",
      "sentence\n",
      " will not go away in day , week , or month , but  will go away .                                                        0.619\n",
      "in the day ahead  will propose remove the roadblock that have slow  economy and reduced productivity .                  0.619\n",
      "all this will not be finish in the first day .                                                                          0.619\n",
      "may  guide  in the day to come .                                                                                        0.576\n",
      " would be fitting and good ,  think , if on each inauguration day in future year  should be declare a day of prayer .   0.513\n",
      "Name: 5, dtype: float64\n"
     ]
    }
   ],
   "source": [
    "# Reduce feature space to 100 features.\n",
    "svd = TruncatedSVD(100)\n",
    "\n",
    "# Make pipeline to run SVD and normalize results.\n",
    "lsa_pipe = make_pipeline(svd, Normalizer())\n",
    "\n",
    "# Fit with training data, transform test data.\n",
    "X_train_lsa = lsa_pipe.fit_transform(X_train_tfidf)\n",
    "X_eval_lsa = lsa_pipe.transform(X_eval_tfidf)\n",
    "X_holdout_lsa = lsa_pipe.transform(X_holdout_tfidf)\n",
    "\n",
    "# Examine variance captured in reduced feature space.\n",
    "variance_explained = svd.explained_variance_ratio_\n",
    "total_variance = variance_explained.sum()\n",
    "print('Percent variance captured by components:', total_variance*100)\n",
    "\n",
    "sent_by_component = pd.DataFrame(X_train_lsa, index=X_train)\n",
    "\n",
    "# Look at values from first 5 components.\n",
    "for i in range(6):\n",
    "    print('Component {}:'.format(i))\n",
    "    print(sent_by_component.loc[:, i].sort_values(ascending=False)[:5])"
   ]
  },
  {
   "cell_type": "code",
   "execution_count": 21,
   "metadata": {
    "ExecuteTime": {
     "end_time": "2019-08-11T02:05:18.872090Z",
     "start_time": "2019-08-11T02:05:18.865781Z"
    }
   },
   "outputs": [],
   "source": [
    "# Create train/eval/holdout groups for LSA.\n",
    "X_train_lsa_scaled = pd.DataFrame(scaler.fit_transform(X_train_lsa))\n",
    "X_eval_lsa_scaled = pd.DataFrame(scaler.transform(X_eval_lsa))\n",
    "X_holdout_lsa_scaled = pd.DataFrame(scaler.transform(X_holdout_lsa))"
   ]
  },
  {
   "cell_type": "markdown",
   "metadata": {},
   "source": [
    "# Clustering Models"
   ]
  },
  {
   "cell_type": "code",
   "execution_count": 22,
   "metadata": {
    "ExecuteTime": {
     "end_time": "2019-08-11T02:05:28.877005Z",
     "start_time": "2019-08-11T02:05:25.900968Z"
    }
   },
   "outputs": [
    {
     "name": "stdout",
     "output_type": "stream",
     "text": [
      "KMeans(algorithm='auto', copy_x=True, init='k-means++', max_iter=300,\n",
      "    n_clusters=2, n_init=10, n_jobs=None, precompute_distances='auto',\n",
      "    random_state=15, tol=0.0001, verbose=0)\n",
      "clusters: 2\t silhouette: 0.02403808152620107\n",
      "\n",
      "KMeans \n",
      " col_0    0   1\n",
      "row_0         \n",
      "0      487   0\n",
      "1        0  39 \n",
      "\n",
      "MiniBatchKMeans(batch_size=500, compute_labels=True, init='random',\n",
      "        init_size=None, max_iter=100, max_no_improvement=10, n_clusters=2,\n",
      "        n_init=3, random_state=None, reassignment_ratio=0.01, tol=0.0,\n",
      "        verbose=0)\n",
      "clusters: 2\t silhouette: 0.02483958468795499\n",
      "\n",
      "MiniBatch \n",
      " col_0    0   1\n",
      "row_0         \n",
      "0      397  29\n",
      "1       90  10 \n",
      "\n",
      "KMeans(algorithm='auto', copy_x=True, init='k-means++', max_iter=300,\n",
      "    n_clusters=3, n_init=10, n_jobs=None, precompute_distances='auto',\n",
      "    random_state=15, tol=0.0001, verbose=0)\n",
      "clusters: 3\t silhouette: 0.024610759668237767\n",
      "\n",
      "KMeans \n",
      " col_0    0   1   2\n",
      "row_0             \n",
      "0      395   0   0\n",
      "1        0  59   0\n",
      "2        0   0  72 \n",
      "\n",
      "MiniBatchKMeans(batch_size=500, compute_labels=True, init='random',\n",
      "        init_size=None, max_iter=100, max_no_improvement=10, n_clusters=3,\n",
      "        n_init=3, random_state=None, reassignment_ratio=0.01, tol=0.0,\n",
      "        verbose=0)\n",
      "clusters: 3\t silhouette: 0.021793346102993282\n",
      "\n",
      "MiniBatch \n",
      " col_0    0   1   2\n",
      "row_0             \n",
      "0       57   5  11\n",
      "1       36   4  27\n",
      "2      274  87  25 \n",
      "\n",
      "KMeans(algorithm='auto', copy_x=True, init='k-means++', max_iter=300,\n",
      "    n_clusters=4, n_init=10, n_jobs=None, precompute_distances='auto',\n",
      "    random_state=15, tol=0.0001, verbose=0)\n",
      "clusters: 4\t silhouette: 0.02862078840773946\n",
      "\n",
      "KMeans \n",
      " col_0    0   1   2   3\n",
      "row_0                 \n",
      "0      408   0   0   0\n",
      "1        0  38   0   0\n",
      "2        0   0  58   0\n",
      "3        0   0   0  22 \n",
      "\n",
      "MiniBatchKMeans(batch_size=500, compute_labels=True, init='random',\n",
      "        init_size=None, max_iter=100, max_no_improvement=10, n_clusters=4,\n",
      "        n_init=3, random_state=None, reassignment_ratio=0.01, tol=0.0,\n",
      "        verbose=0)\n",
      "clusters: 4\t silhouette: 0.02346927700965915\n",
      "\n",
      "MiniBatch \n",
      " col_0    0   1   2   3\n",
      "row_0                 \n",
      "0      269  58  94  37\n",
      "1       15   4   8   2\n",
      "2        7   0  20   1\n",
      "3        7   1   2   1 \n",
      "\n",
      "KMeans(algorithm='auto', copy_x=True, init='k-means++', max_iter=300,\n",
      "    n_clusters=5, n_init=10, n_jobs=None, precompute_distances='auto',\n",
      "    random_state=15, tol=0.0001, verbose=0)\n",
      "clusters: 5\t silhouette: 0.026262398061972524\n",
      "\n",
      "KMeans \n",
      " col_0    0   1   2   3   4\n",
      "row_0                     \n",
      "0      312   0   0   0   0\n",
      "1        0  69   0   0   0\n",
      "2        0   0  50   0   0\n",
      "3        0   0   0  42   0\n",
      "4        0   0   0   0  53 \n",
      "\n",
      "MiniBatchKMeans(batch_size=500, compute_labels=True, init='random',\n",
      "        init_size=None, max_iter=100, max_no_improvement=10, n_clusters=5,\n",
      "        n_init=3, random_state=None, reassignment_ratio=0.01, tol=0.0,\n",
      "        verbose=0)\n",
      "clusters: 5\t silhouette: 0.02400564830068031\n",
      "\n",
      "MiniBatch \n",
      " col_0   0   1   2   3    4\n",
      "row_0                     \n",
      "0      63  20  22  22  231\n",
      "1       6   3   7   0   34\n",
      "2       1   0  30   1   11\n",
      "3       5   1  19   0   23\n",
      "4       1   4   2   0   20 \n",
      "\n",
      "KMeans(algorithm='auto', copy_x=True, init='k-means++', max_iter=300,\n",
      "    n_clusters=6, n_init=10, n_jobs=None, precompute_distances='auto',\n",
      "    random_state=15, tol=0.0001, verbose=0)\n",
      "clusters: 6\t silhouette: 0.029523842709622067\n",
      "\n",
      "KMeans \n",
      " col_0    0   1   2   3   4   5\n",
      "row_0                         \n",
      "0      305   0   0   0   0   0\n",
      "1        0  84   0   0   0   0\n",
      "2        0   0  21   0   0   0\n",
      "3        0   0   0  36   0   0\n",
      "4        0   0   0   0  27   0\n",
      "5        0   0   0   0   0  53 \n",
      "\n",
      "MiniBatchKMeans(batch_size=500, compute_labels=True, init='random',\n",
      "        init_size=None, max_iter=100, max_no_improvement=10, n_clusters=6,\n",
      "        n_init=3, random_state=None, reassignment_ratio=0.01, tol=0.0,\n",
      "        verbose=0)\n",
      "clusters: 6\t silhouette: 0.02340587786319296\n",
      "\n",
      "MiniBatch \n",
      " col_0   0    1  2   3   4   5\n",
      "row_0                        \n",
      "0      52  207  8  11  18   2\n",
      "1       2   10  1   3   1  34\n",
      "2       4   42  1  24  21   3\n",
      "3       4   29  0   1   9   3\n",
      "4       2   11  0   3   2   1\n",
      "5       4    8  0   0   3   2 \n",
      "\n",
      "KMeans(algorithm='auto', copy_x=True, init='k-means++', max_iter=300,\n",
      "    n_clusters=7, n_init=10, n_jobs=None, precompute_distances='auto',\n",
      "    random_state=15, tol=0.0001, verbose=0)\n",
      "clusters: 7\t silhouette: 0.03467250479976267\n",
      "\n",
      "KMeans \n",
      " col_0   0   1    2   3   4   5   6\n",
      "row_0                             \n",
      "0      23   0    0   0   0   0   0\n",
      "1       0  19    0   0   0   0   0\n",
      "2       0   0  428   0   0   0   0\n",
      "3       0   0    0  11   0   0   0\n",
      "4       0   0    0   0  21   0   0\n",
      "5       0   0    0   0   0  13   0\n",
      "6       0   0    0   0   0   0  11 \n",
      "\n",
      "MiniBatchKMeans(batch_size=500, compute_labels=True, init='random',\n",
      "        init_size=None, max_iter=100, max_no_improvement=10, n_clusters=7,\n",
      "        n_init=3, random_state=None, reassignment_ratio=0.01, tol=0.0,\n",
      "        verbose=0)\n",
      "clusters: 7\t silhouette: 0.025200344091031102\n",
      "\n",
      "MiniBatch \n",
      " col_0   0    1  2   3   4   5  6\n",
      "row_0                           \n",
      "0      13   37  0   3  29   3  1\n",
      "1       4   22  0   1   1   0  0\n",
      "2       0    6  0   1   2   5  0\n",
      "3       0   19  0   1   0   0  0\n",
      "4      27    7  0   1   0   2  0\n",
      "5      10  257  5  17  15  18  2\n",
      "6       0   15  0   0   2   0  0 \n",
      "\n",
      "KMeans(algorithm='auto', copy_x=True, init='k-means++', max_iter=300,\n",
      "    n_clusters=8, n_init=10, n_jobs=None, precompute_distances='auto',\n",
      "    random_state=15, tol=0.0001, verbose=0)\n",
      "clusters: 8\t silhouette: 0.032527760077513825\n",
      "\n",
      "KMeans \n",
      " col_0    0   1   2   3   4   5   6   7\n",
      "row_0                                 \n",
      "0      234   0   0   0   0   0   0   0\n",
      "1        0  38   0   0   0   0   0   0\n",
      "2        0   0  37   0   0   0   0   0\n",
      "3        0   0   0  52   0   0   0   0\n",
      "4        0   0   0   0  38   0   0   0\n",
      "5        0   0   0   0   0  19   0   0\n",
      "6        0   0   0   0   0   0  39   0\n",
      "7        0   0   0   0   0   0   0  69 \n",
      "\n",
      "MiniBatchKMeans(batch_size=500, compute_labels=True, init='random',\n",
      "        init_size=None, max_iter=100, max_no_improvement=10, n_clusters=8,\n",
      "        n_init=3, random_state=None, reassignment_ratio=0.01, tol=0.0,\n",
      "        verbose=0)\n",
      "clusters: 8\t silhouette: 0.033461070003316336\n",
      "\n",
      "MiniBatch \n",
      " col_0    0   1   2   3   4   5   6   7\n",
      "row_0                                 \n",
      "0      243  13   3  15  25  24  23  38\n",
      "1        9   0   1   0   1   0   2   3\n",
      "2       14   3   0   0   0   1   2   0\n",
      "3        0   0  19   1   0   0   0   0\n",
      "4       20   0   0   0   2   7   0   1\n",
      "5        9   1   0   0   2   1   0   1\n",
      "6       13   1   0   1   0   0   0   2\n",
      "7       15   2   0   0   2   1   4   1 \n",
      "\n",
      "KMeans(algorithm='auto', copy_x=True, init='k-means++', max_iter=300,\n",
      "    n_clusters=9, n_init=10, n_jobs=None, precompute_distances='auto',\n",
      "    random_state=15, tol=0.0001, verbose=0)\n",
      "clusters: 9\t silhouette: 0.0334546650517409\n",
      "\n",
      "KMeans \n",
      " col_0    0   1   2   3   4   5   6   7   8\n",
      "row_0                                     \n",
      "0      228   0   0   0   0   0   0   0   0\n",
      "1        0  59   0   0   0   0   0   0   0\n",
      "2        0   0  43   0   0   0   0   0   0\n",
      "3        0   0   0  29   0   0   0   0   0\n",
      "4        0   0   0   0  14   0   0   0   0\n",
      "5        0   0   0   0   0  24   0   0   0\n",
      "6        0   0   0   0   0   0  20   0   0\n",
      "7        0   0   0   0   0   0   0  86   0\n",
      "8        0   0   0   0   0   0   0   0  23 \n",
      "\n",
      "MiniBatchKMeans(batch_size=500, compute_labels=True, init='random',\n",
      "        init_size=None, max_iter=100, max_no_improvement=10, n_clusters=9,\n",
      "        n_init=3, random_state=None, reassignment_ratio=0.01, tol=0.0,\n",
      "        verbose=0)\n",
      "clusters: 9\t silhouette: 0.033143929938400644\n",
      "\n",
      "MiniBatch \n",
      " col_0   0   1   2    3   4   5  6  7   8\n",
      "row_0                                   \n",
      "0      18  10  18  186  13   6  5  8  21\n",
      "1       6   1   0    7   0  10  0  2   1\n",
      "2       8   0  12    4   1   0  0  0   0\n",
      "3       1   1   2   16   4   5  1  2   0\n",
      "4       0   2   2   17   3   0  1  0   2\n",
      "5       0   2   8    9   1   1  2  0   1\n",
      "6       0  38   1    0   5   0  0  0   0\n",
      "7       1   4   5   25   0   1  1  0   2\n",
      "8       0   5   2   13   0   0  1  1   1 \n",
      "\n",
      "KMeans(algorithm='auto', copy_x=True, init='k-means++', max_iter=300,\n",
      "    n_clusters=10, n_init=10, n_jobs=None, precompute_distances='auto',\n",
      "    random_state=15, tol=0.0001, verbose=0)\n",
      "clusters: 10\t silhouette: 0.038866084346253535\n",
      "\n",
      "KMeans \n",
      " col_0    0   1   2   3   4   5   6   7   8   9\n",
      "row_0                                         \n",
      "0      251   0   0   0   0   0   0   0   0   0\n",
      "1        0  43   0   0   0   0   0   0   0   0\n",
      "2        0   0  24   0   0   0   0   0   0   0\n",
      "3        0   0   0  29   0   0   0   0   0   0\n",
      "4        0   0   0   0  21   0   0   0   0   0\n",
      "5        0   0   0   0   0  61   0   0   0   0\n",
      "6        0   0   0   0   0   0  27   0   0   0\n",
      "7        0   0   0   0   0   0   0  32   0   0\n",
      "8        0   0   0   0   0   0   0   0  18   0\n",
      "9        0   0   0   0   0   0   0   0   0  20 \n",
      "\n",
      "MiniBatchKMeans(batch_size=500, compute_labels=True, init='random',\n",
      "        init_size=None, max_iter=100, max_no_improvement=10, n_clusters=10,\n",
      "        n_init=3, random_state=None, reassignment_ratio=0.01, tol=0.0,\n",
      "        verbose=0)\n"
     ]
    },
    {
     "name": "stdout",
     "output_type": "stream",
     "text": [
      "clusters: 10\t silhouette: 0.034095956926305335\n",
      "\n",
      "MiniBatch \n",
      " col_0    0   1   2   3   4  5   6   7   8  9\n",
      "row_0                                       \n",
      "0        9   0   1   3  12  0   1   3   3  1\n",
      "1        4   0   0   0   0  0   0  10   2  2\n",
      "2        2   0   0   1   2  0  34   0   3  1\n",
      "3        2   0   0   0   4  0   0   2   1  0\n",
      "4      168   6  11  14  12  1   6  16  39  8\n",
      "5        3  13   0   0   0  0   0   0   1  0\n",
      "6       25   0   1   0   3  0   3   2   4  0\n",
      "7       22   0   1   1   1  3   8   2   1  2\n",
      "8       20   0   0   0   1  0   0   0   1  0\n",
      "9       10   0   0   1   2  0   2   1   8  0 \n",
      "\n"
     ]
    }
   ],
   "source": [
    "# Clustering models\n",
    "models = []\n",
    "names = []\n",
    "plot_nums = []\n",
    "silhouettes = []\n",
    "clust = []\n",
    "\n",
    "for clusters in range(2, 11):\n",
    "    models.append(\n",
    "        (0, 'KMeans', KMeans(n_clusters=clusters,\n",
    "                             init='k-means++', random_state=15)))\n",
    "    models.append(\n",
    "        (1, 'MiniBatch', MiniBatchKMeans(init='random',\n",
    "                                         n_clusters=clusters,\n",
    "                                         batch_size=500)))\n",
    "    #models.append((2, 'Spectral', SpectralClustering(n_clusters=clusters)))\n",
    "\n",
    "for plot_num, name, model in models:\n",
    "    names.append(name)\n",
    "    model.fit(X_train_tfidf)\n",
    "    labels = model.labels_\n",
    "    print(model)\n",
    "    if len(set(labels)) > 1:\n",
    "        ypred = model.fit_predict(X_train_tfidf)\n",
    "        silhouette = metrics.silhouette_score(\n",
    "            X_train_tfidf, labels, metric='euclidean')\n",
    "        silhouettes.append(silhouette)\n",
    "        #ax[plot_num].set_title(name)\n",
    "        #plotting(plot_num, labels, ypred)\n",
    "        if silhouette > 0:\n",
    "            print('clusters: {}\\t silhouette: {}\\n'.format(\n",
    "                model.n_clusters, silhouette))\n",
    "            print(name, '\\n', pd.crosstab(ypred, labels), '\\n')"
   ]
  },
  {
   "cell_type": "markdown",
   "metadata": {},
   "source": [
    "## Tfidf"
   ]
  },
  {
   "cell_type": "code",
   "execution_count": 23,
   "metadata": {
    "ExecuteTime": {
     "end_time": "2019-08-11T02:08:01.880946Z",
     "start_time": "2019-08-11T02:08:01.661801Z"
    },
    "run_control": {
     "marked": false
    }
   },
   "outputs": [],
   "source": [
    "# Re-run KMeans and extract cluster information.\n",
    "model_tfidf = KMeans(n_clusters=10, random_state=15).fit(X_train_tfidf)\n",
    "\n",
    "# Extract cluster assignments for each data point.\n",
    "labels = model_tfidf.labels_"
   ]
  },
  {
   "cell_type": "code",
   "execution_count": 24,
   "metadata": {
    "ExecuteTime": {
     "end_time": "2019-08-11T02:08:08.883699Z",
     "start_time": "2019-08-11T02:08:08.872013Z"
    }
   },
   "outputs": [],
   "source": [
    "# Create cluster assignment for eval, holdout groups.\n",
    "X_eval_tfidf_labels = model_tfidf.predict(X_eval_tfidf)\n",
    "X_holdout_tfidf_labels = model_tfidf.predict(X_holdout_tfidf)\n",
    "\n",
    "# Create a column for cluster labels.\n",
    "X_eval_tfidf['clusters'] = X_eval_tfidf_labels\n",
    "X_holdout_tfidf['clusters'] = X_holdout_tfidf_labels\n",
    "\n",
    "X_train_tfidf['clusters'] = labels"
   ]
  },
  {
   "cell_type": "code",
   "execution_count": 25,
   "metadata": {
    "ExecuteTime": {
     "end_time": "2019-08-11T02:08:15.869588Z",
     "start_time": "2019-08-11T02:08:15.835615Z"
    },
    "run_control": {
     "marked": false
    }
   },
   "outputs": [
    {
     "data": {
      "text/html": [
       "<div>\n",
       "<style scoped>\n",
       "    .dataframe tbody tr th:only-of-type {\n",
       "        vertical-align: middle;\n",
       "    }\n",
       "\n",
       "    .dataframe tbody tr th {\n",
       "        vertical-align: top;\n",
       "    }\n",
       "\n",
       "    .dataframe thead th {\n",
       "        text-align: right;\n",
       "    }\n",
       "</style>\n",
       "<table border=\"1\" class=\"dataframe\">\n",
       "  <thead>\n",
       "    <tr style=\"text-align: right;\">\n",
       "      <th></th>\n",
       "      <th>clusters</th>\n",
       "      <th>act</th>\n",
       "      <th>action</th>\n",
       "      <th>administration</th>\n",
       "      <th>america</th>\n",
       "      <th>american</th>\n",
       "      <th>american people</th>\n",
       "      <th>americans</th>\n",
       "      <th>ask</th>\n",
       "      <th>authority</th>\n",
       "      <th>...</th>\n",
       "      <th>way</th>\n",
       "      <th>willing</th>\n",
       "      <th>wish</th>\n",
       "      <th>woman</th>\n",
       "      <th>word</th>\n",
       "      <th>work</th>\n",
       "      <th>world</th>\n",
       "      <th>write</th>\n",
       "      <th>year</th>\n",
       "      <th>young</th>\n",
       "    </tr>\n",
       "  </thead>\n",
       "  <tbody>\n",
       "    <tr>\n",
       "      <th>0</th>\n",
       "      <td>0</td>\n",
       "      <td>0.015</td>\n",
       "      <td>0.005</td>\n",
       "      <td>0.003</td>\n",
       "      <td>0.019</td>\n",
       "      <td>0.002</td>\n",
       "      <td>0.000</td>\n",
       "      <td>0.011</td>\n",
       "      <td>0.010</td>\n",
       "      <td>0.011</td>\n",
       "      <td>...</td>\n",
       "      <td>0.003</td>\n",
       "      <td>0.000</td>\n",
       "      <td>0.004</td>\n",
       "      <td>0.006</td>\n",
       "      <td>0.001</td>\n",
       "      <td>0.000</td>\n",
       "      <td>0.001</td>\n",
       "      <td>0.006</td>\n",
       "      <td>0.003</td>\n",
       "      <td>0.007</td>\n",
       "    </tr>\n",
       "    <tr>\n",
       "      <th>1</th>\n",
       "      <td>1</td>\n",
       "      <td>0.000</td>\n",
       "      <td>0.000</td>\n",
       "      <td>0.000</td>\n",
       "      <td>0.007</td>\n",
       "      <td>0.007</td>\n",
       "      <td>0.000</td>\n",
       "      <td>0.014</td>\n",
       "      <td>0.012</td>\n",
       "      <td>0.000</td>\n",
       "      <td>...</td>\n",
       "      <td>0.000</td>\n",
       "      <td>0.013</td>\n",
       "      <td>0.007</td>\n",
       "      <td>0.008</td>\n",
       "      <td>0.009</td>\n",
       "      <td>0.006</td>\n",
       "      <td>0.025</td>\n",
       "      <td>0.000</td>\n",
       "      <td>0.000</td>\n",
       "      <td>0.017</td>\n",
       "    </tr>\n",
       "    <tr>\n",
       "      <th>2</th>\n",
       "      <td>2</td>\n",
       "      <td>0.000</td>\n",
       "      <td>0.000</td>\n",
       "      <td>0.000</td>\n",
       "      <td>0.017</td>\n",
       "      <td>0.000</td>\n",
       "      <td>0.000</td>\n",
       "      <td>0.012</td>\n",
       "      <td>0.000</td>\n",
       "      <td>0.000</td>\n",
       "      <td>...</td>\n",
       "      <td>0.030</td>\n",
       "      <td>0.030</td>\n",
       "      <td>0.000</td>\n",
       "      <td>0.000</td>\n",
       "      <td>0.010</td>\n",
       "      <td>0.000</td>\n",
       "      <td>0.017</td>\n",
       "      <td>0.000</td>\n",
       "      <td>0.015</td>\n",
       "      <td>0.000</td>\n",
       "    </tr>\n",
       "    <tr>\n",
       "      <th>3</th>\n",
       "      <td>3</td>\n",
       "      <td>0.000</td>\n",
       "      <td>0.000</td>\n",
       "      <td>0.000</td>\n",
       "      <td>0.016</td>\n",
       "      <td>0.021</td>\n",
       "      <td>0.000</td>\n",
       "      <td>0.019</td>\n",
       "      <td>0.000</td>\n",
       "      <td>0.000</td>\n",
       "      <td>...</td>\n",
       "      <td>0.037</td>\n",
       "      <td>0.018</td>\n",
       "      <td>0.000</td>\n",
       "      <td>0.000</td>\n",
       "      <td>0.000</td>\n",
       "      <td>0.000</td>\n",
       "      <td>0.015</td>\n",
       "      <td>0.000</td>\n",
       "      <td>0.000</td>\n",
       "      <td>0.000</td>\n",
       "    </tr>\n",
       "    <tr>\n",
       "      <th>4</th>\n",
       "      <td>4</td>\n",
       "      <td>0.000</td>\n",
       "      <td>0.009</td>\n",
       "      <td>0.018</td>\n",
       "      <td>0.000</td>\n",
       "      <td>0.023</td>\n",
       "      <td>0.000</td>\n",
       "      <td>0.043</td>\n",
       "      <td>0.000</td>\n",
       "      <td>0.000</td>\n",
       "      <td>...</td>\n",
       "      <td>0.000</td>\n",
       "      <td>0.000</td>\n",
       "      <td>0.000</td>\n",
       "      <td>0.000</td>\n",
       "      <td>0.000</td>\n",
       "      <td>0.000</td>\n",
       "      <td>0.010</td>\n",
       "      <td>0.000</td>\n",
       "      <td>0.000</td>\n",
       "      <td>0.000</td>\n",
       "    </tr>\n",
       "    <tr>\n",
       "      <th>5</th>\n",
       "      <td>5</td>\n",
       "      <td>0.005</td>\n",
       "      <td>0.009</td>\n",
       "      <td>0.008</td>\n",
       "      <td>0.029</td>\n",
       "      <td>0.021</td>\n",
       "      <td>0.023</td>\n",
       "      <td>0.000</td>\n",
       "      <td>0.006</td>\n",
       "      <td>0.016</td>\n",
       "      <td>...</td>\n",
       "      <td>0.008</td>\n",
       "      <td>0.000</td>\n",
       "      <td>0.008</td>\n",
       "      <td>0.015</td>\n",
       "      <td>0.005</td>\n",
       "      <td>0.000</td>\n",
       "      <td>0.195</td>\n",
       "      <td>0.000</td>\n",
       "      <td>0.006</td>\n",
       "      <td>0.000</td>\n",
       "    </tr>\n",
       "    <tr>\n",
       "      <th>6</th>\n",
       "      <td>6</td>\n",
       "      <td>0.011</td>\n",
       "      <td>0.036</td>\n",
       "      <td>0.000</td>\n",
       "      <td>0.015</td>\n",
       "      <td>0.013</td>\n",
       "      <td>0.014</td>\n",
       "      <td>0.027</td>\n",
       "      <td>0.016</td>\n",
       "      <td>0.000</td>\n",
       "      <td>...</td>\n",
       "      <td>0.000</td>\n",
       "      <td>0.000</td>\n",
       "      <td>0.000</td>\n",
       "      <td>0.000</td>\n",
       "      <td>0.160</td>\n",
       "      <td>0.000</td>\n",
       "      <td>0.025</td>\n",
       "      <td>0.053</td>\n",
       "      <td>0.030</td>\n",
       "      <td>0.012</td>\n",
       "    </tr>\n",
       "    <tr>\n",
       "      <th>7</th>\n",
       "      <td>7</td>\n",
       "      <td>0.000</td>\n",
       "      <td>0.016</td>\n",
       "      <td>0.023</td>\n",
       "      <td>0.000</td>\n",
       "      <td>0.007</td>\n",
       "      <td>0.008</td>\n",
       "      <td>0.000</td>\n",
       "      <td>0.037</td>\n",
       "      <td>0.004</td>\n",
       "      <td>...</td>\n",
       "      <td>0.022</td>\n",
       "      <td>0.000</td>\n",
       "      <td>0.010</td>\n",
       "      <td>0.000</td>\n",
       "      <td>0.000</td>\n",
       "      <td>0.000</td>\n",
       "      <td>0.000</td>\n",
       "      <td>0.000</td>\n",
       "      <td>0.041</td>\n",
       "      <td>0.000</td>\n",
       "    </tr>\n",
       "    <tr>\n",
       "      <th>8</th>\n",
       "      <td>8</td>\n",
       "      <td>0.027</td>\n",
       "      <td>0.000</td>\n",
       "      <td>0.000</td>\n",
       "      <td>0.021</td>\n",
       "      <td>0.000</td>\n",
       "      <td>0.000</td>\n",
       "      <td>0.036</td>\n",
       "      <td>0.017</td>\n",
       "      <td>0.000</td>\n",
       "      <td>...</td>\n",
       "      <td>0.000</td>\n",
       "      <td>0.019</td>\n",
       "      <td>0.000</td>\n",
       "      <td>0.000</td>\n",
       "      <td>0.015</td>\n",
       "      <td>0.505</td>\n",
       "      <td>0.000</td>\n",
       "      <td>0.018</td>\n",
       "      <td>0.000</td>\n",
       "      <td>0.000</td>\n",
       "    </tr>\n",
       "    <tr>\n",
       "      <th>9</th>\n",
       "      <td>9</td>\n",
       "      <td>0.019</td>\n",
       "      <td>0.000</td>\n",
       "      <td>0.000</td>\n",
       "      <td>0.037</td>\n",
       "      <td>0.000</td>\n",
       "      <td>0.000</td>\n",
       "      <td>0.000</td>\n",
       "      <td>0.000</td>\n",
       "      <td>0.000</td>\n",
       "      <td>...</td>\n",
       "      <td>0.000</td>\n",
       "      <td>0.000</td>\n",
       "      <td>0.000</td>\n",
       "      <td>0.000</td>\n",
       "      <td>0.019</td>\n",
       "      <td>0.000</td>\n",
       "      <td>0.000</td>\n",
       "      <td>0.000</td>\n",
       "      <td>0.000</td>\n",
       "      <td>0.000</td>\n",
       "    </tr>\n",
       "  </tbody>\n",
       "</table>\n",
       "<p>10 rows × 232 columns</p>\n",
       "</div>"
      ],
      "text/plain": [
       "   clusters   act  action  administration  america  american  american people  \\\n",
       "0         0 0.015   0.005           0.003    0.019     0.002            0.000   \n",
       "1         1 0.000   0.000           0.000    0.007     0.007            0.000   \n",
       "2         2 0.000   0.000           0.000    0.017     0.000            0.000   \n",
       "3         3 0.000   0.000           0.000    0.016     0.021            0.000   \n",
       "4         4 0.000   0.009           0.018    0.000     0.023            0.000   \n",
       "5         5 0.005   0.009           0.008    0.029     0.021            0.023   \n",
       "6         6 0.011   0.036           0.000    0.015     0.013            0.014   \n",
       "7         7 0.000   0.016           0.023    0.000     0.007            0.008   \n",
       "8         8 0.027   0.000           0.000    0.021     0.000            0.000   \n",
       "9         9 0.019   0.000           0.000    0.037     0.000            0.000   \n",
       "\n",
       "   americans   ask  authority  ...   way  willing  wish  woman  word  work  \\\n",
       "0      0.011 0.010      0.011  ... 0.003    0.000 0.004  0.006 0.001 0.000   \n",
       "1      0.014 0.012      0.000  ... 0.000    0.013 0.007  0.008 0.009 0.006   \n",
       "2      0.012 0.000      0.000  ... 0.030    0.030 0.000  0.000 0.010 0.000   \n",
       "3      0.019 0.000      0.000  ... 0.037    0.018 0.000  0.000 0.000 0.000   \n",
       "4      0.043 0.000      0.000  ... 0.000    0.000 0.000  0.000 0.000 0.000   \n",
       "5      0.000 0.006      0.016  ... 0.008    0.000 0.008  0.015 0.005 0.000   \n",
       "6      0.027 0.016      0.000  ... 0.000    0.000 0.000  0.000 0.160 0.000   \n",
       "7      0.000 0.037      0.004  ... 0.022    0.000 0.010  0.000 0.000 0.000   \n",
       "8      0.036 0.017      0.000  ... 0.000    0.019 0.000  0.000 0.015 0.505   \n",
       "9      0.000 0.000      0.000  ... 0.000    0.000 0.000  0.000 0.019 0.000   \n",
       "\n",
       "   world  write  year  young  \n",
       "0  0.001  0.006 0.003  0.007  \n",
       "1  0.025  0.000 0.000  0.017  \n",
       "2  0.017  0.000 0.015  0.000  \n",
       "3  0.015  0.000 0.000  0.000  \n",
       "4  0.010  0.000 0.000  0.000  \n",
       "5  0.195  0.000 0.006  0.000  \n",
       "6  0.025  0.053 0.030  0.012  \n",
       "7  0.000  0.000 0.041  0.000  \n",
       "8  0.000  0.018 0.000  0.000  \n",
       "9  0.000  0.000 0.000  0.000  \n",
       "\n",
       "[10 rows x 232 columns]"
      ]
     },
     "execution_count": 25,
     "metadata": {},
     "output_type": "execute_result"
    }
   ],
   "source": [
    "# Aggregate by cluster.\n",
    "X_train_tfidf_clusters = X_train_tfidf.groupby(\n",
    "    ['clusters'], as_index=False).mean()\n",
    "X_train_tfidf_clusters"
   ]
  },
  {
   "cell_type": "code",
   "execution_count": 26,
   "metadata": {
    "ExecuteTime": {
     "end_time": "2019-08-11T02:08:23.314705Z",
     "start_time": "2019-08-11T02:08:23.302148Z"
    }
   },
   "outputs": [
    {
     "data": {
      "text/plain": [
       "day            0.028\n",
       "freedom        0.022\n",
       "god            0.021\n",
       "right          0.020\n",
       "union          0.019\n",
       "constitution   0.019\n",
       "america        0.019\n",
       "make           0.019\n",
       "man            0.018\n",
       "old            0.017\n",
       "dtype: float64"
      ]
     },
     "execution_count": 26,
     "metadata": {},
     "output_type": "execute_result"
    }
   ],
   "source": [
    "# View the ten most common terms in each cluster.\n",
    "cluster0_train_tfidf = X_train_tfidf[X_train_tfidf['clusters'] == 0]\n",
    "cluster0_train_tfidf.mean().sort_values(ascending=False)[:10]"
   ]
  },
  {
   "cell_type": "code",
   "execution_count": 27,
   "metadata": {
    "ExecuteTime": {
     "end_time": "2019-08-11T02:08:31.600781Z",
     "start_time": "2019-08-11T02:08:31.585982Z"
    }
   },
   "outputs": [
    {
     "data": {
      "text/plain": [
       "principle    0.031\n",
       "law          0.029\n",
       "believe      0.027\n",
       "faith        0.026\n",
       "states       0.024\n",
       "way          0.023\n",
       "new          0.023\n",
       "generation   0.021\n",
       "union        0.021\n",
       "case         0.021\n",
       "dtype: float64"
      ]
     },
     "execution_count": 27,
     "metadata": {},
     "output_type": "execute_result"
    }
   ],
   "source": [
    "cluster0_eval_tfidf = X_eval_tfidf[X_eval_tfidf['clusters'] == 0]\n",
    "cluster0_eval_tfidf.mean().sort_values(ascending=False)[:10]"
   ]
  },
  {
   "cell_type": "code",
   "execution_count": 28,
   "metadata": {
    "ExecuteTime": {
     "end_time": "2019-08-11T02:08:50.426791Z",
     "start_time": "2019-08-11T02:08:50.414247Z"
    }
   },
   "outputs": [
    {
     "data": {
      "text/plain": [
       "time         0.264\n",
       "nation       0.228\n",
       "change       0.047\n",
       "great        0.040\n",
       "government   0.035\n",
       "live         0.032\n",
       "make         0.032\n",
       "require      0.031\n",
       "god          0.029\n",
       "believe      0.029\n",
       "dtype: float64"
      ]
     },
     "execution_count": 28,
     "metadata": {},
     "output_type": "execute_result"
    }
   ],
   "source": [
    "cluster1_train_tfidf = X_train_tfidf[X_train_tfidf['clusters'] == 1]\n",
    "cluster1_train_tfidf.mean().sort_values(ascending=False)[1:11]"
   ]
  },
  {
   "cell_type": "code",
   "execution_count": 29,
   "metadata": {
    "ExecuteTime": {
     "end_time": "2019-08-11T02:09:00.159870Z",
     "start_time": "2019-08-11T02:09:00.147353Z"
    }
   },
   "outputs": [
    {
     "data": {
      "text/plain": [
       "nation    0.289\n",
       "time      0.209\n",
       "freedom   0.134\n",
       "great     0.101\n",
       "new       0.095\n",
       "right     0.094\n",
       "think     0.075\n",
       "speak     0.073\n",
       "power     0.062\n",
       "future    0.060\n",
       "dtype: float64"
      ]
     },
     "execution_count": 29,
     "metadata": {},
     "output_type": "execute_result"
    }
   ],
   "source": [
    "cluster1_eval_tfidf = X_eval_tfidf[X_eval_tfidf['clusters'] == 1]\n",
    "cluster1_eval_tfidf.mean().sort_values(ascending=False)[1:11]"
   ]
  },
  {
   "cell_type": "code",
   "execution_count": 30,
   "metadata": {
    "ExecuteTime": {
     "end_time": "2019-08-11T02:09:09.565173Z",
     "start_time": "2019-08-11T02:09:09.555253Z"
    }
   },
   "outputs": [
    {
     "data": {
      "text/plain": [
       "good         0.444\n",
       "make         0.088\n",
       "power        0.070\n",
       "government   0.061\n",
       "hope         0.060\n",
       "life         0.043\n",
       "discipline   0.043\n",
       "equal        0.040\n",
       "public       0.036\n",
       "peace        0.036\n",
       "dtype: float64"
      ]
     },
     "execution_count": 30,
     "metadata": {},
     "output_type": "execute_result"
    }
   ],
   "source": [
    "cluster2_train_tfidf = X_train_tfidf[X_train_tfidf['clusters'] == 2]\n",
    "cluster2_train_tfidf.mean().sort_values(ascending=False)[1:11]"
   ]
  },
  {
   "cell_type": "code",
   "execution_count": 31,
   "metadata": {
    "ExecuteTime": {
     "end_time": "2019-08-11T02:09:19.214452Z",
     "start_time": "2019-08-11T02:09:19.202326Z"
    }
   },
   "outputs": [
    {
     "data": {
      "text/plain": [
       "good       0.357\n",
       "land       0.191\n",
       "national   0.175\n",
       "action     0.141\n",
       "place      0.138\n",
       "hold       0.131\n",
       "friend     0.128\n",
       "meet       0.126\n",
       "right      0.116\n",
       "use        0.101\n",
       "dtype: float64"
      ]
     },
     "execution_count": 31,
     "metadata": {},
     "output_type": "execute_result"
    }
   ],
   "source": [
    "cluster2_eval_tfidf = X_eval_tfidf[X_eval_tfidf['clusters'] == 2]\n",
    "cluster2_eval_tfidf.mean().sort_values(ascending=False)[1:11]"
   ]
  },
  {
   "cell_type": "code",
   "execution_count": 33,
   "metadata": {
    "ExecuteTime": {
     "end_time": "2019-08-11T02:10:02.578167Z",
     "start_time": "2019-08-11T02:10:02.564942Z"
    },
    "run_control": {
     "marked": false
    }
   },
   "outputs": [
    {
     "data": {
      "text/plain": [
       "life      0.323\n",
       "hand      0.219\n",
       "heart     0.097\n",
       "new       0.067\n",
       "present   0.057\n",
       "faith     0.052\n",
       "know      0.043\n",
       "great     0.041\n",
       "way       0.037\n",
       "make      0.030\n",
       "dtype: float64"
      ]
     },
     "execution_count": 33,
     "metadata": {},
     "output_type": "execute_result"
    }
   ],
   "source": [
    "cluster3_train_tfidf = X_train_tfidf[\n",
    "    X_train_tfidf['clusters'] == 3]\n",
    "cluster3_train_tfidf.mean().sort_values(ascending=False)[1:11]"
   ]
  },
  {
   "cell_type": "code",
   "execution_count": 35,
   "metadata": {
    "ExecuteTime": {
     "end_time": "2019-08-11T02:11:06.647328Z",
     "start_time": "2019-08-11T02:11:06.637412Z"
    }
   },
   "outputs": [
    {
     "data": {
      "text/plain": [
       "life             0.279\n",
       "hand             0.260\n",
       "national         0.191\n",
       "value            0.134\n",
       "form             0.105\n",
       "administration   0.096\n",
       "leader           0.088\n",
       "majority         0.086\n",
       "heart            0.080\n",
       "day              0.075\n",
       "dtype: float64"
      ]
     },
     "execution_count": 35,
     "metadata": {},
     "output_type": "execute_result"
    }
   ],
   "source": [
    "cluster3_eval_tfidf = X_eval_tfidf[\n",
    "    X_eval_tfidf['clusters'] == 3]\n",
    "cluster3_eval_tfidf.mean().sort_values(ascending=False)[1:11]"
   ]
  },
  {
   "cell_type": "code",
   "execution_count": 36,
   "metadata": {
    "ExecuteTime": {
     "end_time": "2019-08-11T02:12:18.828331Z",
     "start_time": "2019-08-11T02:12:18.817063Z"
    }
   },
   "outputs": [
    {
     "data": {
      "text/plain": [
       "citizen          0.306\n",
       "fellow           0.276\n",
       "fellow citizen   0.175\n",
       "president        0.095\n",
       "country          0.064\n",
       "man              0.054\n",
       "great            0.049\n",
       "free             0.048\n",
       "duty             0.044\n",
       "americans        0.043\n",
       "dtype: float64"
      ]
     },
     "execution_count": 36,
     "metadata": {},
     "output_type": "execute_result"
    }
   ],
   "source": [
    "cluster4_train_tfidf = X_train_tfidf[\n",
    "    X_train_tfidf['clusters'] == 4]\n",
    "cluster4_train_tfidf.mean().sort_values(ascending=False)[1:11]"
   ]
  },
  {
   "cell_type": "code",
   "execution_count": 37,
   "metadata": {
    "ExecuteTime": {
     "end_time": "2019-08-11T02:12:31.348264Z",
     "start_time": "2019-08-11T02:12:31.335462Z"
    }
   },
   "outputs": [
    {
     "data": {
      "text/plain": [
       "citizen          0.458\n",
       "ask              0.247\n",
       "fellow citizen   0.203\n",
       "fellow           0.181\n",
       "america          0.154\n",
       "today            0.146\n",
       "hope             0.143\n",
       "world            0.125\n",
       "mind             0.120\n",
       "heart            0.111\n",
       "dtype: float64"
      ]
     },
     "execution_count": 37,
     "metadata": {},
     "output_type": "execute_result"
    }
   ],
   "source": [
    "cluster4_eval_tfidf = X_eval_tfidf[\n",
    "    X_eval_tfidf['clusters'] == 4]\n",
    "cluster4_eval_tfidf.mean().sort_values(ascending=False)[1:11]"
   ]
  },
  {
   "cell_type": "code",
   "execution_count": 38,
   "metadata": {
    "ExecuteTime": {
     "end_time": "2019-08-11T02:12:45.347637Z",
     "start_time": "2019-08-11T02:12:45.335014Z"
    }
   },
   "outputs": [
    {
     "data": {
      "text/plain": [
       "world           0.195\n",
       "people          0.194\n",
       "free            0.054\n",
       "states          0.049\n",
       "united          0.047\n",
       "great           0.039\n",
       "shall           0.037\n",
       "united states   0.036\n",
       "economic        0.035\n",
       "peace           0.030\n",
       "dtype: float64"
      ]
     },
     "execution_count": 38,
     "metadata": {},
     "output_type": "execute_result"
    }
   ],
   "source": [
    "cluster5_train_tfidf = X_train_tfidf[\n",
    "    X_train_tfidf['clusters'] == 5]\n",
    "cluster5_train_tfidf.mean().sort_values(ascending=False)[1:11]"
   ]
  },
  {
   "cell_type": "code",
   "execution_count": 39,
   "metadata": {
    "ExecuteTime": {
     "end_time": "2019-08-11T02:12:59.118692Z",
     "start_time": "2019-08-11T02:12:59.107140Z"
    }
   },
   "outputs": [
    {
     "data": {
      "text/plain": [
       "people            0.177\n",
       "world             0.175\n",
       "peace             0.097\n",
       "america           0.095\n",
       "great             0.086\n",
       "american people   0.075\n",
       "purpose           0.069\n",
       "american          0.068\n",
       "year              0.058\n",
       "americans         0.058\n",
       "dtype: float64"
      ]
     },
     "execution_count": 39,
     "metadata": {},
     "output_type": "execute_result"
    }
   ],
   "source": [
    "cluster5_eval_tfidf = X_eval_tfidf[\n",
    "    X_eval_tfidf['clusters'] == 5]\n",
    "cluster5_eval_tfidf.mean().sort_values(ascending=False)[1:11]"
   ]
  },
  {
   "cell_type": "code",
   "execution_count": 40,
   "metadata": {
    "ExecuteTime": {
     "end_time": "2019-08-11T02:13:13.310026Z",
     "start_time": "2019-08-11T02:13:13.298479Z"
    }
   },
   "outputs": [
    {
     "data": {
      "text/plain": [
       "need           0.257\n",
       "word           0.160\n",
       "deny           0.098\n",
       "write          0.053\n",
       "constitution   0.043\n",
       "speak          0.040\n",
       "factory        0.040\n",
       "great          0.039\n",
       "material       0.038\n",
       "moment         0.037\n",
       "dtype: float64"
      ]
     },
     "execution_count": 40,
     "metadata": {},
     "output_type": "execute_result"
    }
   ],
   "source": [
    "cluster6_train_tfidf = X_train_tfidf[\n",
    "    X_train_tfidf['clusters'] == 6]\n",
    "cluster6_train_tfidf.mean().sort_values(ascending=False)[1:11]"
   ]
  },
  {
   "cell_type": "code",
   "execution_count": 41,
   "metadata": {
    "ExecuteTime": {
     "end_time": "2019-08-11T02:13:27.274468Z",
     "start_time": "2019-08-11T02:13:27.265289Z"
    }
   },
   "outputs": [
    {
     "data": {
      "text/plain": [
       "need        0.501\n",
       "action      0.152\n",
       "serve       0.126\n",
       "care        0.119\n",
       "congress    0.109\n",
       "executive   0.107\n",
       "face        0.106\n",
       "country     0.100\n",
       "authority   0.097\n",
       "today       0.097\n",
       "dtype: float64"
      ]
     },
     "execution_count": 41,
     "metadata": {},
     "output_type": "execute_result"
    }
   ],
   "source": [
    "cluster6_eval_tfidf = X_eval_tfidf[\n",
    "    X_eval_tfidf['clusters'] == 6]\n",
    "cluster6_eval_tfidf.mean().sort_values(ascending=False)[1:11]"
   ]
  },
  {
   "cell_type": "code",
   "execution_count": 42,
   "metadata": {
    "ExecuteTime": {
     "end_time": "2019-08-11T02:13:41.819445Z",
     "start_time": "2019-08-11T02:13:41.808617Z"
    }
   },
   "outputs": [
    {
     "data": {
      "text/plain": [
       "government   0.310\n",
       "support      0.135\n",
       "shall        0.098\n",
       "people       0.065\n",
       "federal      0.057\n",
       "year         0.041\n",
       "right        0.041\n",
       "power        0.039\n",
       "law          0.039\n",
       "states       0.038\n",
       "dtype: float64"
      ]
     },
     "execution_count": 42,
     "metadata": {},
     "output_type": "execute_result"
    }
   ],
   "source": [
    "cluster7_train_tfidf = X_train_tfidf[\n",
    "    X_train_tfidf['clusters'] == 7]\n",
    "cluster7_train_tfidf.mean().sort_values(ascending=False)[1:11]"
   ]
  },
  {
   "cell_type": "code",
   "execution_count": 43,
   "metadata": {
    "ExecuteTime": {
     "end_time": "2019-08-11T02:13:54.559133Z",
     "start_time": "2019-08-11T02:13:54.549283Z"
    }
   },
   "outputs": [
    {
     "data": {
      "text/plain": [
       "government      0.356\n",
       "states          0.089\n",
       "opportunity     0.076\n",
       "continue        0.076\n",
       "support         0.069\n",
       "united states   0.067\n",
       "let             0.063\n",
       "united          0.061\n",
       "freedom         0.059\n",
       "union           0.059\n",
       "dtype: float64"
      ]
     },
     "execution_count": 43,
     "metadata": {},
     "output_type": "execute_result"
    }
   ],
   "source": [
    "cluster7_eval_tfidf = X_eval_tfidf[\n",
    "    X_eval_tfidf['clusters'] == 7]\n",
    "cluster7_eval_tfidf.mean().sort_values(ascending=False)[1:11]"
   ]
  },
  {
   "cell_type": "code",
   "execution_count": 44,
   "metadata": {
    "ExecuteTime": {
     "end_time": "2019-08-11T02:14:07.882972Z",
     "start_time": "2019-08-11T02:14:07.871891Z"
    }
   },
   "outputs": [
    {
     "data": {
      "text/plain": [
       "work        0.505\n",
       "sacrifice   0.063\n",
       "let         0.056\n",
       "good        0.051\n",
       "return      0.049\n",
       "god         0.046\n",
       "thing       0.046\n",
       "moral       0.043\n",
       "seek        0.042\n",
       "right       0.039\n",
       "dtype: float64"
      ]
     },
     "execution_count": 44,
     "metadata": {},
     "output_type": "execute_result"
    }
   ],
   "source": [
    "cluster8_train_tfidf = X_train_tfidf[\n",
    "    X_train_tfidf['clusters'] == 8]\n",
    "cluster8_train_tfidf.mean().sort_values(ascending=False)[1:11]"
   ]
  },
  {
   "cell_type": "code",
   "execution_count": 45,
   "metadata": {
    "ExecuteTime": {
     "end_time": "2019-08-11T02:15:28.485921Z",
     "start_time": "2019-08-11T02:15:28.468246Z"
    }
   },
   "outputs": [
    {
     "data": {
      "text/plain": [
       "work        0.638\n",
       "know        0.093\n",
       "new         0.089\n",
       "people      0.080\n",
       "task        0.080\n",
       "old         0.075\n",
       "friend      0.074\n",
       "man woman   0.062\n",
       "woman       0.061\n",
       "stand       0.060\n",
       "dtype: float64"
      ]
     },
     "execution_count": 45,
     "metadata": {},
     "output_type": "execute_result"
    }
   ],
   "source": [
    "cluster8_eval_tfidf = X_eval_tfidf[\n",
    "    X_eval_tfidf['clusters'] == 8]\n",
    "cluster8_eval_tfidf.mean().sort_values(ascending=False)[1:11]"
   ]
  },
  {
   "cell_type": "code",
   "execution_count": 46,
   "metadata": {
    "ExecuteTime": {
     "end_time": "2019-08-11T02:15:43.846592Z",
     "start_time": "2019-08-11T02:15:43.835458Z"
    }
   },
   "outputs": [
    {
     "data": {
      "text/plain": [
       "let          0.506\n",
       "begin        0.133\n",
       "fear         0.081\n",
       "renew        0.058\n",
       "remember     0.056\n",
       "hope         0.047\n",
       "hard         0.041\n",
       "understand   0.040\n",
       "america      0.037\n",
       "far          0.034\n",
       "dtype: float64"
      ]
     },
     "execution_count": 46,
     "metadata": {},
     "output_type": "execute_result"
    }
   ],
   "source": [
    "cluster9_train_tfidf = X_train_tfidf[\n",
    "    X_train_tfidf['clusters'] == 9]\n",
    "cluster9_train_tfidf.mean().sort_values(ascending=False)[1:11]"
   ]
  },
  {
   "cell_type": "code",
   "execution_count": 47,
   "metadata": {
    "ExecuteTime": {
     "end_time": "2019-08-11T02:16:00.414884Z",
     "start_time": "2019-08-11T02:16:00.400971Z"
    }
   },
   "outputs": [
    {
     "data": {
      "text/plain": [
       "let              0.554\n",
       "seek             0.197\n",
       "people           0.159\n",
       "child            0.140\n",
       "responsibility   0.138\n",
       "community        0.135\n",
       "country          0.120\n",
       "turn             0.070\n",
       "end              0.068\n",
       "generation       0.067\n",
       "dtype: float64"
      ]
     },
     "execution_count": 47,
     "metadata": {},
     "output_type": "execute_result"
    }
   ],
   "source": [
    "cluster9_eval_tfidf = X_eval_tfidf[\n",
    "    X_eval_tfidf['clusters'] == 9]\n",
    "cluster9_eval_tfidf.mean().sort_values(ascending=False)[1:11]"
   ]
  },
  {
   "cell_type": "markdown",
   "metadata": {},
   "source": [
    "## LSA"
   ]
  },
  {
   "cell_type": "code",
   "execution_count": 71,
   "metadata": {
    "ExecuteTime": {
     "end_time": "2019-08-11T02:26:47.474290Z",
     "start_time": "2019-08-11T02:26:47.350164Z"
    }
   },
   "outputs": [],
   "source": [
    "# Re-run KMeans and extract cluster information.\n",
    "model_lsa = KMeans(n_clusters=10, random_state=42).fit(X_train_lsa_scaled)\n",
    "\n",
    "# Extract cluster assignments for each data point.\n",
    "labels = model_lsa.labels_"
   ]
  },
  {
   "cell_type": "code",
   "execution_count": 72,
   "metadata": {
    "ExecuteTime": {
     "end_time": "2019-08-11T02:27:06.323077Z",
     "start_time": "2019-08-11T02:27:06.306067Z"
    }
   },
   "outputs": [],
   "source": [
    "# Create cluster assignment for eval, holdout groups.\n",
    "X_eval_lsa_labels = model_lsa.predict(X_eval_lsa_scaled)\n",
    "X_holdout_lsa_labels = model_lsa.predict(X_holdout_lsa_scaled)\n",
    "\n",
    "# Create a column for cluster labels.\n",
    "X_eval_lsa_scaled['clusters'] = X_eval_lsa_labels\n",
    "X_holdout_lsa_scaled['clusters'] = X_holdout_lsa_labels\n",
    "\n",
    "X_train_lsa_scaled['clusters'] = labels"
   ]
  },
  {
   "cell_type": "code",
   "execution_count": 73,
   "metadata": {
    "ExecuteTime": {
     "end_time": "2019-08-11T02:27:27.195706Z",
     "start_time": "2019-08-11T02:27:27.166707Z"
    }
   },
   "outputs": [
    {
     "data": {
      "text/html": [
       "<div>\n",
       "<style scoped>\n",
       "    .dataframe tbody tr th:only-of-type {\n",
       "        vertical-align: middle;\n",
       "    }\n",
       "\n",
       "    .dataframe tbody tr th {\n",
       "        vertical-align: top;\n",
       "    }\n",
       "\n",
       "    .dataframe thead th {\n",
       "        text-align: right;\n",
       "    }\n",
       "</style>\n",
       "<table border=\"1\" class=\"dataframe\">\n",
       "  <thead>\n",
       "    <tr style=\"text-align: right;\">\n",
       "      <th></th>\n",
       "      <th>clusters</th>\n",
       "      <th>0</th>\n",
       "      <th>1</th>\n",
       "      <th>2</th>\n",
       "      <th>3</th>\n",
       "      <th>4</th>\n",
       "      <th>5</th>\n",
       "      <th>6</th>\n",
       "      <th>7</th>\n",
       "      <th>8</th>\n",
       "      <th>...</th>\n",
       "      <th>90</th>\n",
       "      <th>91</th>\n",
       "      <th>92</th>\n",
       "      <th>93</th>\n",
       "      <th>94</th>\n",
       "      <th>95</th>\n",
       "      <th>96</th>\n",
       "      <th>97</th>\n",
       "      <th>98</th>\n",
       "      <th>99</th>\n",
       "    </tr>\n",
       "  </thead>\n",
       "  <tbody>\n",
       "    <tr>\n",
       "      <th>0</th>\n",
       "      <td>0</td>\n",
       "      <td>0.187</td>\n",
       "      <td>0.375</td>\n",
       "      <td>0.525</td>\n",
       "      <td>0.373</td>\n",
       "      <td>0.489</td>\n",
       "      <td>0.391</td>\n",
       "      <td>0.470</td>\n",
       "      <td>0.483</td>\n",
       "      <td>0.498</td>\n",
       "      <td>...</td>\n",
       "      <td>0.442</td>\n",
       "      <td>0.508</td>\n",
       "      <td>0.542</td>\n",
       "      <td>0.506</td>\n",
       "      <td>0.487</td>\n",
       "      <td>0.468</td>\n",
       "      <td>0.506</td>\n",
       "      <td>0.413</td>\n",
       "      <td>0.599</td>\n",
       "      <td>0.341</td>\n",
       "    </tr>\n",
       "    <tr>\n",
       "      <th>1</th>\n",
       "      <td>1</td>\n",
       "      <td>0.482</td>\n",
       "      <td>0.430</td>\n",
       "      <td>0.451</td>\n",
       "      <td>0.384</td>\n",
       "      <td>0.441</td>\n",
       "      <td>0.516</td>\n",
       "      <td>0.437</td>\n",
       "      <td>0.448</td>\n",
       "      <td>0.222</td>\n",
       "      <td>...</td>\n",
       "      <td>0.451</td>\n",
       "      <td>0.450</td>\n",
       "      <td>0.528</td>\n",
       "      <td>0.508</td>\n",
       "      <td>0.468</td>\n",
       "      <td>0.516</td>\n",
       "      <td>0.421</td>\n",
       "      <td>0.370</td>\n",
       "      <td>0.553</td>\n",
       "      <td>0.373</td>\n",
       "    </tr>\n",
       "    <tr>\n",
       "      <th>2</th>\n",
       "      <td>2</td>\n",
       "      <td>0.553</td>\n",
       "      <td>0.488</td>\n",
       "      <td>0.426</td>\n",
       "      <td>0.233</td>\n",
       "      <td>0.258</td>\n",
       "      <td>0.349</td>\n",
       "      <td>0.244</td>\n",
       "      <td>0.399</td>\n",
       "      <td>0.470</td>\n",
       "      <td>...</td>\n",
       "      <td>0.430</td>\n",
       "      <td>0.466</td>\n",
       "      <td>0.495</td>\n",
       "      <td>0.427</td>\n",
       "      <td>0.480</td>\n",
       "      <td>0.507</td>\n",
       "      <td>0.475</td>\n",
       "      <td>0.373</td>\n",
       "      <td>0.554</td>\n",
       "      <td>0.412</td>\n",
       "    </tr>\n",
       "    <tr>\n",
       "      <th>3</th>\n",
       "      <td>3</td>\n",
       "      <td>0.391</td>\n",
       "      <td>0.350</td>\n",
       "      <td>0.465</td>\n",
       "      <td>0.308</td>\n",
       "      <td>0.470</td>\n",
       "      <td>0.474</td>\n",
       "      <td>0.390</td>\n",
       "      <td>0.557</td>\n",
       "      <td>0.500</td>\n",
       "      <td>...</td>\n",
       "      <td>0.420</td>\n",
       "      <td>0.440</td>\n",
       "      <td>0.491</td>\n",
       "      <td>0.474</td>\n",
       "      <td>0.478</td>\n",
       "      <td>0.562</td>\n",
       "      <td>0.473</td>\n",
       "      <td>0.357</td>\n",
       "      <td>0.591</td>\n",
       "      <td>0.429</td>\n",
       "    </tr>\n",
       "    <tr>\n",
       "      <th>4</th>\n",
       "      <td>4</td>\n",
       "      <td>0.336</td>\n",
       "      <td>0.360</td>\n",
       "      <td>0.517</td>\n",
       "      <td>0.342</td>\n",
       "      <td>0.475</td>\n",
       "      <td>0.446</td>\n",
       "      <td>0.424</td>\n",
       "      <td>0.465</td>\n",
       "      <td>0.498</td>\n",
       "      <td>...</td>\n",
       "      <td>0.445</td>\n",
       "      <td>0.470</td>\n",
       "      <td>0.458</td>\n",
       "      <td>0.455</td>\n",
       "      <td>0.518</td>\n",
       "      <td>0.528</td>\n",
       "      <td>0.463</td>\n",
       "      <td>0.359</td>\n",
       "      <td>0.521</td>\n",
       "      <td>0.404</td>\n",
       "    </tr>\n",
       "    <tr>\n",
       "      <th>5</th>\n",
       "      <td>5</td>\n",
       "      <td>0.202</td>\n",
       "      <td>0.364</td>\n",
       "      <td>0.514</td>\n",
       "      <td>0.358</td>\n",
       "      <td>0.465</td>\n",
       "      <td>0.416</td>\n",
       "      <td>0.442</td>\n",
       "      <td>0.485</td>\n",
       "      <td>0.452</td>\n",
       "      <td>...</td>\n",
       "      <td>0.452</td>\n",
       "      <td>0.471</td>\n",
       "      <td>0.461</td>\n",
       "      <td>0.471</td>\n",
       "      <td>0.487</td>\n",
       "      <td>0.523</td>\n",
       "      <td>0.467</td>\n",
       "      <td>0.388</td>\n",
       "      <td>0.585</td>\n",
       "      <td>0.400</td>\n",
       "    </tr>\n",
       "    <tr>\n",
       "      <th>6</th>\n",
       "      <td>6</td>\n",
       "      <td>0.436</td>\n",
       "      <td>0.349</td>\n",
       "      <td>0.447</td>\n",
       "      <td>0.377</td>\n",
       "      <td>0.370</td>\n",
       "      <td>0.444</td>\n",
       "      <td>0.559</td>\n",
       "      <td>0.487</td>\n",
       "      <td>0.666</td>\n",
       "      <td>...</td>\n",
       "      <td>0.445</td>\n",
       "      <td>0.460</td>\n",
       "      <td>0.471</td>\n",
       "      <td>0.448</td>\n",
       "      <td>0.463</td>\n",
       "      <td>0.526</td>\n",
       "      <td>0.460</td>\n",
       "      <td>0.371</td>\n",
       "      <td>0.580</td>\n",
       "      <td>0.391</td>\n",
       "    </tr>\n",
       "    <tr>\n",
       "      <th>7</th>\n",
       "      <td>7</td>\n",
       "      <td>0.609</td>\n",
       "      <td>0.439</td>\n",
       "      <td>0.452</td>\n",
       "      <td>0.351</td>\n",
       "      <td>0.390</td>\n",
       "      <td>0.373</td>\n",
       "      <td>0.401</td>\n",
       "      <td>0.482</td>\n",
       "      <td>0.237</td>\n",
       "      <td>...</td>\n",
       "      <td>0.453</td>\n",
       "      <td>0.457</td>\n",
       "      <td>0.469</td>\n",
       "      <td>0.452</td>\n",
       "      <td>0.468</td>\n",
       "      <td>0.522</td>\n",
       "      <td>0.472</td>\n",
       "      <td>0.396</td>\n",
       "      <td>0.565</td>\n",
       "      <td>0.405</td>\n",
       "    </tr>\n",
       "    <tr>\n",
       "      <th>8</th>\n",
       "      <td>8</td>\n",
       "      <td>0.594</td>\n",
       "      <td>0.330</td>\n",
       "      <td>0.514</td>\n",
       "      <td>0.434</td>\n",
       "      <td>0.452</td>\n",
       "      <td>0.329</td>\n",
       "      <td>0.570</td>\n",
       "      <td>0.636</td>\n",
       "      <td>0.322</td>\n",
       "      <td>...</td>\n",
       "      <td>0.458</td>\n",
       "      <td>0.477</td>\n",
       "      <td>0.480</td>\n",
       "      <td>0.456</td>\n",
       "      <td>0.490</td>\n",
       "      <td>0.518</td>\n",
       "      <td>0.476</td>\n",
       "      <td>0.376</td>\n",
       "      <td>0.572</td>\n",
       "      <td>0.375</td>\n",
       "    </tr>\n",
       "    <tr>\n",
       "      <th>9</th>\n",
       "      <td>9</td>\n",
       "      <td>0.632</td>\n",
       "      <td>0.394</td>\n",
       "      <td>0.402</td>\n",
       "      <td>0.431</td>\n",
       "      <td>0.637</td>\n",
       "      <td>0.339</td>\n",
       "      <td>0.474</td>\n",
       "      <td>0.510</td>\n",
       "      <td>0.361</td>\n",
       "      <td>...</td>\n",
       "      <td>0.456</td>\n",
       "      <td>0.459</td>\n",
       "      <td>0.457</td>\n",
       "      <td>0.441</td>\n",
       "      <td>0.491</td>\n",
       "      <td>0.526</td>\n",
       "      <td>0.457</td>\n",
       "      <td>0.359</td>\n",
       "      <td>0.580</td>\n",
       "      <td>0.397</td>\n",
       "    </tr>\n",
       "  </tbody>\n",
       "</table>\n",
       "<p>10 rows × 101 columns</p>\n",
       "</div>"
      ],
      "text/plain": [
       "   clusters     0     1     2     3     4     5     6     7     8  ...    90  \\\n",
       "0         0 0.187 0.375 0.525 0.373 0.489 0.391 0.470 0.483 0.498  ... 0.442   \n",
       "1         1 0.482 0.430 0.451 0.384 0.441 0.516 0.437 0.448 0.222  ... 0.451   \n",
       "2         2 0.553 0.488 0.426 0.233 0.258 0.349 0.244 0.399 0.470  ... 0.430   \n",
       "3         3 0.391 0.350 0.465 0.308 0.470 0.474 0.390 0.557 0.500  ... 0.420   \n",
       "4         4 0.336 0.360 0.517 0.342 0.475 0.446 0.424 0.465 0.498  ... 0.445   \n",
       "5         5 0.202 0.364 0.514 0.358 0.465 0.416 0.442 0.485 0.452  ... 0.452   \n",
       "6         6 0.436 0.349 0.447 0.377 0.370 0.444 0.559 0.487 0.666  ... 0.445   \n",
       "7         7 0.609 0.439 0.452 0.351 0.390 0.373 0.401 0.482 0.237  ... 0.453   \n",
       "8         8 0.594 0.330 0.514 0.434 0.452 0.329 0.570 0.636 0.322  ... 0.458   \n",
       "9         9 0.632 0.394 0.402 0.431 0.637 0.339 0.474 0.510 0.361  ... 0.456   \n",
       "\n",
       "     91    92    93    94    95    96    97    98    99  \n",
       "0 0.508 0.542 0.506 0.487 0.468 0.506 0.413 0.599 0.341  \n",
       "1 0.450 0.528 0.508 0.468 0.516 0.421 0.370 0.553 0.373  \n",
       "2 0.466 0.495 0.427 0.480 0.507 0.475 0.373 0.554 0.412  \n",
       "3 0.440 0.491 0.474 0.478 0.562 0.473 0.357 0.591 0.429  \n",
       "4 0.470 0.458 0.455 0.518 0.528 0.463 0.359 0.521 0.404  \n",
       "5 0.471 0.461 0.471 0.487 0.523 0.467 0.388 0.585 0.400  \n",
       "6 0.460 0.471 0.448 0.463 0.526 0.460 0.371 0.580 0.391  \n",
       "7 0.457 0.469 0.452 0.468 0.522 0.472 0.396 0.565 0.405  \n",
       "8 0.477 0.480 0.456 0.490 0.518 0.476 0.376 0.572 0.375  \n",
       "9 0.459 0.457 0.441 0.491 0.526 0.457 0.359 0.580 0.397  \n",
       "\n",
       "[10 rows x 101 columns]"
      ]
     },
     "execution_count": 73,
     "metadata": {},
     "output_type": "execute_result"
    }
   ],
   "source": [
    "# Aggregate by cluster.\n",
    "X_train_lsa_clusters = X_train_lsa_scaled.groupby(\n",
    "    ['clusters'], as_index=False).mean()\n",
    "X_train_lsa_clusters"
   ]
  },
  {
   "cell_type": "code",
   "execution_count": 74,
   "metadata": {
    "ExecuteTime": {
     "end_time": "2019-08-11T02:27:47.081874Z",
     "start_time": "2019-08-11T02:27:47.072405Z"
    }
   },
   "outputs": [
    {
     "data": {
      "text/plain": [
       "29   0.851\n",
       "26   0.788\n",
       "32   0.738\n",
       "41   0.720\n",
       "24   0.713\n",
       "44   0.711\n",
       "31   0.674\n",
       "25   0.672\n",
       "36   0.655\n",
       "50   0.639\n",
       "dtype: float64"
      ]
     },
     "execution_count": 74,
     "metadata": {},
     "output_type": "execute_result"
    }
   ],
   "source": [
    "# View the ten most common terms in each cluster.\n",
    "cluster0_train_lsa = X_train_lsa_scaled[X_train_lsa_scaled['clusters'] == 0]\n",
    "cluster0_train_lsa.mean().sort_values(ascending=False)[:10]"
   ]
  },
  {
   "cell_type": "code",
   "execution_count": 75,
   "metadata": {
    "ExecuteTime": {
     "end_time": "2019-08-11T02:28:05.338653Z",
     "start_time": "2019-08-11T02:28:05.330220Z"
    }
   },
   "outputs": [
    {
     "data": {
      "text/plain": [
       "0   nan\n",
       "1   nan\n",
       "2   nan\n",
       "3   nan\n",
       "4   nan\n",
       "5   nan\n",
       "6   nan\n",
       "7   nan\n",
       "8   nan\n",
       "9   nan\n",
       "dtype: float64"
      ]
     },
     "execution_count": 75,
     "metadata": {},
     "output_type": "execute_result"
    }
   ],
   "source": [
    "cluster0_eval_lsa = X_eval_lsa_scaled[X_eval_lsa_scaled['clusters'] == 0]\n",
    "cluster0_eval_lsa.mean().sort_values(ascending=False)[:10]"
   ]
  },
  {
   "cell_type": "markdown",
   "metadata": {},
   "source": [
    "It appears that cluster0 is a cluster that deals primarily with **people** of one sort or another. Common words in the top ten for each include \"man\", \"woman\", \"man woman\", and \"say\". "
   ]
  },
  {
   "cell_type": "code",
   "execution_count": 76,
   "metadata": {
    "ExecuteTime": {
     "end_time": "2019-08-11T02:28:23.029990Z",
     "start_time": "2019-08-11T02:28:23.018510Z"
    }
   },
   "outputs": [
    {
     "data": {
      "text/plain": [
       "39   0.850\n",
       "60   0.703\n",
       "53   0.679\n",
       "52   0.663\n",
       "42   0.656\n",
       "37   0.653\n",
       "32   0.641\n",
       "47   0.628\n",
       "41   0.607\n",
       "76   0.605\n",
       "dtype: float64"
      ]
     },
     "execution_count": 76,
     "metadata": {},
     "output_type": "execute_result"
    }
   ],
   "source": [
    "cluster1_train_lsa = X_train_lsa_scaled[X_train_lsa_scaled['clusters'] == 1]\n",
    "cluster1_train_lsa.mean().sort_values(ascending=False)[1:11]"
   ]
  },
  {
   "cell_type": "code",
   "execution_count": 77,
   "metadata": {
    "ExecuteTime": {
     "end_time": "2019-08-11T02:28:42.134375Z",
     "start_time": "2019-08-11T02:28:42.122232Z"
    }
   },
   "outputs": [
    {
     "data": {
      "text/plain": [
       "52   0.750\n",
       "57   0.744\n",
       "39   0.740\n",
       "9    0.738\n",
       "88   0.716\n",
       "0    0.711\n",
       "60   0.708\n",
       "76   0.674\n",
       "83   0.636\n",
       "47   0.620\n",
       "dtype: float64"
      ]
     },
     "execution_count": 77,
     "metadata": {},
     "output_type": "execute_result"
    }
   ],
   "source": [
    "cluster1_eval_lsa = X_eval_lsa_scaled[X_eval_lsa_scaled['clusters'] == 1]\n",
    "cluster1_eval_lsa.mean().sort_values(ascending=False)[1:11]"
   ]
  },
  {
   "cell_type": "markdown",
   "metadata": {},
   "source": [
    "Cluster1 has only one word in common for the top ten of both groups: \"today\". However, it is apparent that this cluster has a lot to do with **ideals**, with words like \"good\"/\"great\", \"world\", \"peace\", \"principle\", \"nation\", \"state\", and \"constitution\"."
   ]
  },
  {
   "cell_type": "code",
   "execution_count": 78,
   "metadata": {
    "ExecuteTime": {
     "end_time": "2019-08-11T02:29:03.282148Z",
     "start_time": "2019-08-11T02:29:03.272122Z"
    }
   },
   "outputs": [
    {
     "data": {
      "text/plain": [
       "9    0.759\n",
       "76   0.569\n",
       "98   0.554\n",
       "0    0.553\n",
       "87   0.549\n",
       "36   0.543\n",
       "69   0.539\n",
       "41   0.528\n",
       "31   0.514\n",
       "50   0.514\n",
       "dtype: float64"
      ]
     },
     "execution_count": 78,
     "metadata": {},
     "output_type": "execute_result"
    }
   ],
   "source": [
    "cluster2_train_lsa = X_train_lsa_scaled[X_train_lsa_scaled['clusters'] == 2]\n",
    "cluster2_train_lsa.mean().sort_values(ascending=False)[1:11]"
   ]
  },
  {
   "cell_type": "code",
   "execution_count": 79,
   "metadata": {
    "ExecuteTime": {
     "end_time": "2019-08-11T02:29:22.225728Z",
     "start_time": "2019-08-11T02:29:22.214648Z"
    }
   },
   "outputs": [
    {
     "data": {
      "text/plain": [
       "9    0.782\n",
       "32   0.623\n",
       "69   0.614\n",
       "27   0.608\n",
       "98   0.595\n",
       "64   0.585\n",
       "1    0.563\n",
       "10   0.550\n",
       "41   0.541\n",
       "87   0.534\n",
       "dtype: float64"
      ]
     },
     "execution_count": 79,
     "metadata": {},
     "output_type": "execute_result"
    }
   ],
   "source": [
    "cluster2_eval_lsa = X_eval_lsa_scaled[X_eval_lsa_scaled['clusters'] == 2]\n",
    "cluster2_eval_lsa.mean().sort_values(ascending=False)[1:11]"
   ]
  },
  {
   "cell_type": "markdown",
   "metadata": {},
   "source": [
    "Cluster2 has a less obvious theme that I would like to call **values**. Two common words are \"hand\" and \"material\", but other important words include \"strong\", \"life\", \"power\", \"liberty\", \"trust\", and \"value\"."
   ]
  },
  {
   "cell_type": "code",
   "execution_count": 80,
   "metadata": {
    "ExecuteTime": {
     "end_time": "2019-08-11T02:29:42.461752Z",
     "start_time": "2019-08-11T02:29:42.452106Z"
    }
   },
   "outputs": [
    {
     "data": {
      "text/plain": [
       "16   0.711\n",
       "76   0.593\n",
       "98   0.591\n",
       "95   0.562\n",
       "85   0.560\n",
       "33   0.559\n",
       "7    0.557\n",
       "41   0.555\n",
       "18   0.553\n",
       "58   0.550\n",
       "dtype: float64"
      ]
     },
     "execution_count": 80,
     "metadata": {},
     "output_type": "execute_result"
    }
   ],
   "source": [
    "cluster3_train_lsa = X_train_lsa_scaled[X_train_lsa_scaled['clusters'] == 3]\n",
    "cluster3_train_lsa.mean().sort_values(ascending=False)[1:11]"
   ]
  },
  {
   "cell_type": "code",
   "execution_count": 81,
   "metadata": {
    "ExecuteTime": {
     "end_time": "2019-08-11T02:30:00.448119Z",
     "start_time": "2019-08-11T02:30:00.438144Z"
    }
   },
   "outputs": [
    {
     "data": {
      "text/plain": [
       "95   0.634\n",
       "98   0.625\n",
       "76   0.614\n",
       "16   0.607\n",
       "50   0.601\n",
       "67   0.591\n",
       "85   0.573\n",
       "93   0.565\n",
       "7    0.562\n",
       "60   0.561\n",
       "dtype: float64"
      ]
     },
     "execution_count": 81,
     "metadata": {},
     "output_type": "execute_result"
    }
   ],
   "source": [
    "cluster3_eval_lsa = X_eval_lsa_scaled[X_eval_lsa_scaled['clusters'] == 3]\n",
    "cluster3_eval_lsa.mean().sort_values(ascending=False)[1:11]"
   ]
  },
  {
   "cell_type": "code",
   "execution_count": 82,
   "metadata": {
    "ExecuteTime": {
     "end_time": "2019-08-11T02:30:21.652974Z",
     "start_time": "2019-08-11T02:30:21.642064Z"
    }
   },
   "outputs": [
    {
     "data": {
      "text/plain": [
       "81   0.558\n",
       "58   0.558\n",
       "29   0.552\n",
       "61   0.547\n",
       "31   0.546\n",
       "38   0.533\n",
       "95   0.528\n",
       "87   0.521\n",
       "98   0.521\n",
       "94   0.518\n",
       "dtype: float64"
      ]
     },
     "execution_count": 82,
     "metadata": {},
     "output_type": "execute_result"
    }
   ],
   "source": [
    "cluster4_train_lsa = X_train_lsa_scaled[X_train_lsa_scaled['clusters'] == 4]\n",
    "cluster4_train_lsa.mean().sort_values(ascending=False)[1:11]"
   ]
  },
  {
   "cell_type": "code",
   "execution_count": 83,
   "metadata": {
    "ExecuteTime": {
     "end_time": "2019-08-11T02:30:39.163467Z",
     "start_time": "2019-08-11T02:30:39.152845Z"
    }
   },
   "outputs": [
    {
     "data": {
      "text/plain": [
       "38   0.610\n",
       "22   0.562\n",
       "31   0.554\n",
       "80   0.542\n",
       "81   0.541\n",
       "95   0.540\n",
       "69   0.538\n",
       "60   0.538\n",
       "98   0.537\n",
       "29   0.537\n",
       "dtype: float64"
      ]
     },
     "execution_count": 83,
     "metadata": {},
     "output_type": "execute_result"
    }
   ],
   "source": [
    "cluster4_eval_lsa = X_eval_lsa_scaled[X_eval_lsa_scaled['clusters'] == 4]\n",
    "cluster4_eval_lsa.mean().sort_values(ascending=False)[1:11]"
   ]
  },
  {
   "cell_type": "code",
   "execution_count": 84,
   "metadata": {
    "ExecuteTime": {
     "end_time": "2019-08-11T02:30:57.106446Z",
     "start_time": "2019-08-11T02:30:57.096437Z"
    }
   },
   "outputs": [
    {
     "data": {
      "text/plain": [
       "98   0.585\n",
       "69   0.542\n",
       "85   0.540\n",
       "87   0.539\n",
       "11   0.530\n",
       "95   0.523\n",
       "9    0.521\n",
       "44   0.520\n",
       "64   0.517\n",
       "58   0.516\n",
       "dtype: float64"
      ]
     },
     "execution_count": 84,
     "metadata": {},
     "output_type": "execute_result"
    }
   ],
   "source": [
    "cluster5_train_lsa = X_train_lsa_scaled[X_train_lsa_scaled['clusters'] == 5]\n",
    "cluster5_train_lsa.mean().sort_values(ascending=False)[1:11]"
   ]
  },
  {
   "cell_type": "code",
   "execution_count": 85,
   "metadata": {
    "ExecuteTime": {
     "end_time": "2019-08-11T02:31:14.685151Z",
     "start_time": "2019-08-11T02:31:14.671858Z"
    }
   },
   "outputs": [
    {
     "data": {
      "text/plain": [
       "98   0.602\n",
       "69   0.550\n",
       "85   0.538\n",
       "47   0.527\n",
       "64   0.526\n",
       "36   0.522\n",
       "11   0.520\n",
       "60   0.519\n",
       "58   0.519\n",
       "44   0.519\n",
       "dtype: float64"
      ]
     },
     "execution_count": 85,
     "metadata": {},
     "output_type": "execute_result"
    }
   ],
   "source": [
    "cluster5_eval_lsa = X_eval_lsa_scaled[X_eval_lsa_scaled['clusters'] == 5]\n",
    "cluster5_eval_lsa.mean().sort_values(ascending=False)[1:11]"
   ]
  },
  {
   "cell_type": "code",
   "execution_count": 86,
   "metadata": {
    "ExecuteTime": {
     "end_time": "2019-08-11T02:31:32.210246Z",
     "start_time": "2019-08-11T02:31:32.200297Z"
    }
   },
   "outputs": [
    {
     "data": {
      "text/plain": [
       "12   0.667\n",
       "8    0.666\n",
       "98   0.580\n",
       "6    0.559\n",
       "85   0.557\n",
       "17   0.550\n",
       "58   0.536\n",
       "76   0.536\n",
       "87   0.535\n",
       "41   0.534\n",
       "dtype: float64"
      ]
     },
     "execution_count": 86,
     "metadata": {},
     "output_type": "execute_result"
    }
   ],
   "source": [
    "cluster6_train_lsa = X_train_lsa_scaled[X_train_lsa_scaled['clusters'] == 6]\n",
    "cluster6_train_lsa.mean().sort_values(ascending=False)[1:11]"
   ]
  },
  {
   "cell_type": "code",
   "execution_count": 87,
   "metadata": {
    "ExecuteTime": {
     "end_time": "2019-08-11T02:31:50.958620Z",
     "start_time": "2019-08-11T02:31:50.946731Z"
    }
   },
   "outputs": [
    {
     "data": {
      "text/plain": [
       "17   0.617\n",
       "87   0.612\n",
       "12   0.607\n",
       "98   0.586\n",
       "8    0.582\n",
       "18   0.581\n",
       "76   0.579\n",
       "11   0.566\n",
       "64   0.559\n",
       "16   0.557\n",
       "dtype: float64"
      ]
     },
     "execution_count": 87,
     "metadata": {},
     "output_type": "execute_result"
    }
   ],
   "source": [
    "cluster6_eval_lsa = X_eval_lsa_scaled[X_eval_lsa_scaled['clusters'] == 6]\n",
    "cluster6_eval_lsa.mean().sort_values(ascending=False)[1:11]"
   ]
  },
  {
   "cell_type": "code",
   "execution_count": 88,
   "metadata": {
    "ExecuteTime": {
     "end_time": "2019-08-11T02:32:09.539769Z",
     "start_time": "2019-08-11T02:32:09.528028Z"
    }
   },
   "outputs": [
    {
     "data": {
      "text/plain": [
       "0    0.609\n",
       "11   0.597\n",
       "98   0.565\n",
       "85   0.546\n",
       "69   0.544\n",
       "33   0.527\n",
       "58   0.525\n",
       "95   0.522\n",
       "76   0.521\n",
       "87   0.520\n",
       "dtype: float64"
      ]
     },
     "execution_count": 88,
     "metadata": {},
     "output_type": "execute_result"
    }
   ],
   "source": [
    "cluster7_train_lsa = X_train_lsa_scaled[X_train_lsa_scaled['clusters'] == 7]\n",
    "cluster7_train_lsa.mean().sort_values(ascending=False)[1:11]"
   ]
  },
  {
   "cell_type": "code",
   "execution_count": 89,
   "metadata": {
    "ExecuteTime": {
     "end_time": "2019-08-11T02:32:27.020941Z",
     "start_time": "2019-08-11T02:32:27.009202Z"
    }
   },
   "outputs": [
    {
     "data": {
      "text/plain": [
       "0    0.660\n",
       "11   0.612\n",
       "69   0.601\n",
       "98   0.573\n",
       "88   0.563\n",
       "67   0.561\n",
       "95   0.547\n",
       "87   0.535\n",
       "54   0.528\n",
       "51   0.523\n",
       "dtype: float64"
      ]
     },
     "execution_count": 89,
     "metadata": {},
     "output_type": "execute_result"
    }
   ],
   "source": [
    "cluster7_eval_lsa = X_eval_lsa_scaled[X_eval_lsa_scaled['clusters'] == 7]\n",
    "cluster7_eval_lsa.mean().sort_values(ascending=False)[1:11]"
   ]
  },
  {
   "cell_type": "code",
   "execution_count": 90,
   "metadata": {
    "ExecuteTime": {
     "end_time": "2019-08-11T02:32:46.524695Z",
     "start_time": "2019-08-11T02:32:46.513257Z"
    }
   },
   "outputs": [
    {
     "data": {
      "text/plain": [
       "7    0.636\n",
       "0    0.594\n",
       "41   0.589\n",
       "14   0.574\n",
       "98   0.572\n",
       "6    0.570\n",
       "19   0.566\n",
       "33   0.543\n",
       "76   0.539\n",
       "85   0.536\n",
       "dtype: float64"
      ]
     },
     "execution_count": 90,
     "metadata": {},
     "output_type": "execute_result"
    }
   ],
   "source": [
    "cluster8_train_lsa = X_train_lsa_scaled[X_train_lsa_scaled['clusters'] == 8]\n",
    "cluster8_train_lsa.mean().sort_values(ascending=False)[1:11]"
   ]
  },
  {
   "cell_type": "code",
   "execution_count": 91,
   "metadata": {
    "ExecuteTime": {
     "end_time": "2019-08-11T02:33:06.518792Z",
     "start_time": "2019-08-11T02:33:06.507176Z"
    }
   },
   "outputs": [
    {
     "data": {
      "text/plain": [
       "98   0.600\n",
       "19   0.596\n",
       "7    0.595\n",
       "0    0.583\n",
       "14   0.583\n",
       "55   0.581\n",
       "6    0.572\n",
       "49   0.571\n",
       "41   0.564\n",
       "64   0.562\n",
       "dtype: float64"
      ]
     },
     "execution_count": 91,
     "metadata": {},
     "output_type": "execute_result"
    }
   ],
   "source": [
    "cluster8_eval_lsa = X_eval_lsa_scaled[X_eval_lsa_scaled['clusters'] == 8]\n",
    "cluster8_eval_lsa.mean().sort_values(ascending=False)[1:11]"
   ]
  },
  {
   "cell_type": "code",
   "execution_count": 92,
   "metadata": {
    "ExecuteTime": {
     "end_time": "2019-08-11T02:33:27.002629Z",
     "start_time": "2019-08-11T02:33:26.987989Z"
    }
   },
   "outputs": [
    {
     "data": {
      "text/plain": [
       "9    0.691\n",
       "4    0.637\n",
       "0    0.632\n",
       "98   0.580\n",
       "12   0.578\n",
       "87   0.541\n",
       "36   0.539\n",
       "85   0.539\n",
       "95   0.526\n",
       "58   0.521\n",
       "dtype: float64"
      ]
     },
     "execution_count": 92,
     "metadata": {},
     "output_type": "execute_result"
    }
   ],
   "source": [
    "cluster9_train_lsa = X_train_lsa_scaled[X_train_lsa_scaled['clusters'] == 9]\n",
    "cluster9_train_lsa.mean().sort_values(ascending=False)[1:11]"
   ]
  },
  {
   "cell_type": "code",
   "execution_count": 94,
   "metadata": {
    "ExecuteTime": {
     "end_time": "2019-08-11T02:34:41.970803Z",
     "start_time": "2019-08-11T02:34:41.960754Z"
    }
   },
   "outputs": [
    {
     "data": {
      "text/plain": [
       "9    0.659\n",
       "12   0.640\n",
       "4    0.617\n",
       "0    0.588\n",
       "85   0.580\n",
       "6    0.559\n",
       "10   0.556\n",
       "36   0.556\n",
       "76   0.554\n",
       "55   0.552\n",
       "dtype: float64"
      ]
     },
     "execution_count": 94,
     "metadata": {},
     "output_type": "execute_result"
    }
   ],
   "source": [
    "cluster9_eval_lsa = X_eval_lsa_scaled[X_eval_lsa_scaled['clusters'] == 9]\n",
    "cluster9_eval_lsa.mean().sort_values(ascending=False)[1:11]"
   ]
  },
  {
   "cell_type": "markdown",
   "metadata": {},
   "source": [
    "Lastly, cluster3 is what I will call **now**. Common words include \"time\" and \"government\", and other relevant words include \"change\", \"history\", \"future\", \"courage\", \"generation\", and \"god\" (lemmatized, so we'll say \"God\")."
   ]
  },
  {
   "cell_type": "markdown",
   "metadata": {},
   "source": [
    "## Latent Dirichlet Allocation (LDA)"
   ]
  },
  {
   "cell_type": "markdown",
   "metadata": {},
   "source": [
    "### Set up text for LDA"
   ]
  },
  {
   "cell_type": "code",
   "execution_count": 95,
   "metadata": {
    "ExecuteTime": {
     "end_time": "2019-08-11T02:35:05.575729Z",
     "start_time": "2019-08-11T02:35:05.560555Z"
    }
   },
   "outputs": [
    {
     "name": "stdout",
     "output_type": "stream",
     "text": [
      "0    fellow - citizens of the senate and of the hou...\n",
      "0    friend and fellow citizens : call upon to unde...\n",
      "0             fellow - citizens of the united states :\n",
      "0     be certain that  fellow americans expect that...\n",
      "0     friend , before  begin the expression of thos...\n",
      "0    vice president johnson , mr. speaker , mr. chi...\n",
      "0    senator hatfield , mr. chief justice , mr. pre...\n",
      "0    mr. chief justice , mr. president , vice presi...\n",
      "0     fellow citizen , today  celebrate the mystery...\n",
      "0     fellow citizen :  stand here today humble by ...\n",
      "Name: sentence_tokens, dtype: object\n"
     ]
    }
   ],
   "source": [
    "# Removing numerals.\n",
    "sent_df['sentence_tokens'] = sent_df.sentence.map(\n",
    "    lambda x: re.sub(r'\\d+', '', x))\n",
    "# Lower case.\n",
    "sent_df['sentence_tokens'] = sent_df.sentence_tokens.map(lambda x: x.lower())\n",
    "print(sent_df['sentence_tokens'][0][:500])"
   ]
  },
  {
   "cell_type": "code",
   "execution_count": 96,
   "metadata": {
    "ExecuteTime": {
     "end_time": "2019-08-11T02:35:26.897035Z",
     "start_time": "2019-08-11T02:35:26.877466Z"
    }
   },
   "outputs": [
    {
     "name": "stdout",
     "output_type": "stream",
     "text": [
      "0    [fellow, citizens, of, the, senate, and, of, t...\n",
      "0    [friend, and, fellow, citizens, call, upon, to...\n",
      "0          [fellow, citizens, of, the, united, states]\n",
      "0    [be, certain, that, fellow, americans, expect,...\n",
      "0    [friend, before, begin, the, expression, of, t...\n",
      "0    [vice, president, johnson, mr, speaker, mr, ch...\n",
      "0    [senator, hatfield, mr, chief, justice, mr, pr...\n",
      "0    [mr, chief, justice, mr, president, vice, pres...\n",
      "0    [fellow, citizen, today, celebrate, the, myste...\n",
      "0    [fellow, citizen, stand, here, today, humble, ...\n",
      "Name: sentence_tokens, dtype: object\n"
     ]
    }
   ],
   "source": [
    "# Tokenize.\n",
    "sent_df['sentence_tokens'] = sent_df.sentence_tokens.map(\n",
    "    lambda x: RegexpTokenizer(r'\\w+').tokenize(x))\n",
    "print(sent_df['sentence_tokens'][0][:25])"
   ]
  },
  {
   "cell_type": "code",
   "execution_count": 97,
   "metadata": {
    "ExecuteTime": {
     "end_time": "2019-08-11T02:35:47.006823Z",
     "start_time": "2019-08-11T02:35:46.760997Z"
    }
   },
   "outputs": [
    {
     "name": "stdout",
     "output_type": "stream",
     "text": [
      "0    [fellow, citizen, of, the, senat, and, of, the...\n",
      "0    [friend, and, fellow, citizen, call, upon, to,...\n",
      "0              [fellow, citizen, of, the, unit, state]\n",
      "0    [be, certain, that, fellow, american, expect, ...\n",
      "0    [friend, befor, begin, the, express, of, those...\n",
      "0    [vice, presid, johnson, mr, speaker, mr, chief...\n",
      "0    [senat, hatfield, mr, chief, justic, mr, presi...\n",
      "0    [mr, chief, justic, mr, presid, vice, presid, ...\n",
      "0    [fellow, citizen, today, celebr, the, mysteri,...\n",
      "0    [fellow, citizen, stand, here, today, humbl, b...\n",
      "Name: sentence_tokens, dtype: object\n"
     ]
    }
   ],
   "source": [
    "# Stemming.\n",
    "snowball = SnowballStemmer(\"english\")\n",
    "sent_df['sentence_tokens'] = sent_df.sentence_tokens.map(\n",
    "    lambda x: [snowball.stem(token) for token in x])\n",
    "print(sent_df['sentence_tokens'][0][:25])"
   ]
  },
  {
   "cell_type": "code",
   "execution_count": 98,
   "metadata": {
    "ExecuteTime": {
     "end_time": "2019-08-11T02:36:07.397332Z",
     "start_time": "2019-08-11T02:36:07.344325Z"
    }
   },
   "outputs": [
    {
     "name": "stdout",
     "output_type": "stream",
     "text": [
      "0               [fellow, citizen, senat, hous, repres]\n",
      "0    [friend, fellow, citizen, call, upon, undertak...\n",
      "0                       [fellow, citizen, unit, state]\n",
      "0    [certain, fellow, american, expect, induct, pr...\n",
      "0    [friend, befor, begin, express, thought, deem,...\n",
      "0    [vice, presid, johnson, mr, speaker, mr, chief...\n",
      "0    [senat, hatfield, mr, chief, justic, mr, presi...\n",
      "0    [mr, chief, justic, mr, presid, vice, presid, ...\n",
      "0    [fellow, citizen, today, celebr, mysteri, amer...\n",
      "0    [fellow, citizen, stand, today, humbl, task, b...\n",
      "Name: sentence_tokens, dtype: object\n"
     ]
    }
   ],
   "source": [
    "# Stop words.\n",
    "stop_en = stopwords.words('english')\n",
    "sent_df['sentence_tokens'] = sent_df.sentence_tokens.map(\n",
    "    lambda x: [t for t in x if t not in stop_en])\n",
    "print(sent_df['sentence_tokens'][0][:25])"
   ]
  },
  {
   "cell_type": "code",
   "execution_count": 99,
   "metadata": {
    "ExecuteTime": {
     "end_time": "2019-08-11T02:36:34.981535Z",
     "start_time": "2019-08-11T02:36:34.966464Z"
    }
   },
   "outputs": [
    {
     "name": "stdout",
     "output_type": "stream",
     "text": [
      "0               [fellow, citizen, senat, hous, repres]\n",
      "0    [friend, fellow, citizen, call, upon, undertak...\n",
      "0                       [fellow, citizen, unit, state]\n",
      "0    [certain, fellow, american, expect, induct, pr...\n",
      "0    [friend, befor, begin, express, thought, deem,...\n",
      "0    [vice, presid, johnson, mr, speaker, mr, chief...\n",
      "0    [senat, hatfield, mr, chief, justic, mr, presi...\n",
      "0    [mr, chief, justic, mr, presid, vice, presid, ...\n",
      "0    [fellow, citizen, today, celebr, mysteri, amer...\n",
      "0    [fellow, citizen, stand, today, humbl, task, b...\n",
      "Name: sentence_tokens, dtype: object\n"
     ]
    }
   ],
   "source": [
    "# Final cleaning.\n",
    "sent_df['sentence_tokens'] = sent_df.sentence_tokens.map(\n",
    "    lambda x: [t for t in x if len(t) > 1])\n",
    "print(sent_df['sentence_tokens'][0][:25])"
   ]
  },
  {
   "cell_type": "markdown",
   "metadata": {},
   "source": [
    "### Run LDA"
   ]
  },
  {
   "cell_type": "code",
   "execution_count": 100,
   "metadata": {
    "ExecuteTime": {
     "end_time": "2019-08-11T02:36:57.308194Z",
     "start_time": "2019-08-11T02:36:54.926137Z"
    }
   },
   "outputs": [],
   "source": [
    "texts = sent_df['sentence_tokens'].values\n",
    "dictionary = corpora.Dictionary(texts)\n",
    "corpus = [dictionary.doc2bow(text) for text in texts]\n",
    "lda = LdaModel(corpus,\n",
    "               id2word=dictionary,\n",
    "               num_topics=10,\n",
    "               passes=5,\n",
    "               minimum_probability=0,\n",
    "               random_state=15)"
   ]
  },
  {
   "cell_type": "code",
   "execution_count": 101,
   "metadata": {
    "ExecuteTime": {
     "end_time": "2019-08-11T02:37:18.240765Z",
     "start_time": "2019-08-11T02:37:18.231292Z"
    }
   },
   "outputs": [
    {
     "data": {
      "text/plain": [
       "[(0,\n",
       "  '0.013*\"america\" + 0.012*\"nation\" + 0.011*\"state\" + 0.010*\"shall\" + 0.010*\"govern\" + 0.009*\"god\" + 0.008*\"let\" + 0.008*\"world\" + 0.007*\"renew\" + 0.007*\"must\"'),\n",
       " (1,\n",
       "  '0.010*\"great\" + 0.010*\"nation\" + 0.009*\"good\" + 0.009*\"everi\" + 0.008*\"peopl\" + 0.007*\"citizen\" + 0.007*\"mean\" + 0.006*\"may\" + 0.006*\"man\" + 0.006*\"free\"'),\n",
       " (2,\n",
       "  '0.016*\"may\" + 0.013*\"constitut\" + 0.009*\"take\" + 0.008*\"state\" + 0.008*\"law\" + 0.006*\"great\" + 0.006*\"shall\" + 0.006*\"say\" + 0.006*\"union\" + 0.006*\"first\"'),\n",
       " (3,\n",
       "  '0.011*\"american\" + 0.010*\"right\" + 0.009*\"ani\" + 0.009*\"onli\" + 0.009*\"state\" + 0.008*\"must\" + 0.008*\"govern\" + 0.007*\"generat\" + 0.007*\"peopl\" + 0.006*\"old\"'),\n",
       " (4,\n",
       "  '0.014*\"peopl\" + 0.012*\"govern\" + 0.011*\"life\" + 0.009*\"countri\" + 0.008*\"strength\" + 0.007*\"ask\" + 0.007*\"free\" + 0.007*\"make\" + 0.006*\"good\" + 0.005*\"man\"'),\n",
       " (5,\n",
       "  '0.013*\"peopl\" + 0.011*\"work\" + 0.010*\"new\" + 0.009*\"nation\" + 0.008*\"make\" + 0.008*\"great\" + 0.007*\"american\" + 0.007*\"man\" + 0.007*\"freedom\" + 0.006*\"today\"'),\n",
       " (6,\n",
       "  '0.014*\"must\" + 0.013*\"let\" + 0.010*\"time\" + 0.010*\"know\" + 0.008*\"free\" + 0.008*\"good\" + 0.008*\"faith\" + 0.007*\"chang\" + 0.006*\"one\" + 0.006*\"hope\"'),\n",
       " (7,\n",
       "  '0.019*\"nation\" + 0.012*\"ani\" + 0.010*\"act\" + 0.009*\"world\" + 0.008*\"constitut\" + 0.007*\"must\" + 0.006*\"requir\" + 0.006*\"peopl\" + 0.006*\"common\" + 0.006*\"presid\"'),\n",
       " (8,\n",
       "  '0.013*\"world\" + 0.013*\"govern\" + 0.011*\"must\" + 0.010*\"man\" + 0.009*\"one\" + 0.008*\"shall\" + 0.007*\"peopl\" + 0.007*\"faith\" + 0.007*\"america\" + 0.007*\"power\"'),\n",
       " (9,\n",
       "  '0.012*\"world\" + 0.008*\"govern\" + 0.008*\"shall\" + 0.008*\"new\" + 0.008*\"becaus\" + 0.007*\"surrend\" + 0.006*\"slave\" + 0.006*\"war\" + 0.006*\"america\" + 0.005*\"man\"')]"
      ]
     },
     "execution_count": 101,
     "metadata": {},
     "output_type": "execute_result"
    }
   ],
   "source": [
    "# Print topics\n",
    "lda.print_topics()"
   ]
  },
  {
   "cell_type": "code",
   "execution_count": 102,
   "metadata": {
    "ExecuteTime": {
     "end_time": "2019-08-11T02:37:52.857959Z",
     "start_time": "2019-08-11T02:37:52.512103Z"
    }
   },
   "outputs": [],
   "source": [
    "# Refactoring results of LDA into numpy matrix.\n",
    "hm = np.array([[y for (x,y) in lda[corpus[i]]] for i in range(len(corpus))])"
   ]
  },
  {
   "cell_type": "code",
   "execution_count": 103,
   "metadata": {
    "ExecuteTime": {
     "end_time": "2019-08-11T02:38:22.084965Z",
     "start_time": "2019-08-11T02:38:16.368817Z"
    }
   },
   "outputs": [],
   "source": [
    "# Reduce dimensionality using t-SNE.\n",
    "tsne = TSNE(random_state=15, perplexity=30, early_exaggeration=120)\n",
    "embedding = tsne.fit_transform(hm)\n",
    "embedding = pd.DataFrame(embedding, columns=['x','y'])\n",
    "embedding['hue'] = hm.argmax(axis=1)"
   ]
  },
  {
   "cell_type": "code",
   "execution_count": 104,
   "metadata": {
    "ExecuteTime": {
     "end_time": "2019-08-11T02:38:43.688099Z",
     "start_time": "2019-08-11T02:38:43.627139Z"
    }
   },
   "outputs": [
    {
     "ename": "ValueError",
     "evalue": "expected a value of type Real, got clinton of type str",
     "output_type": "error",
     "traceback": [
      "\u001b[0;31m---------------------------------------------------------------------------\u001b[0m",
      "\u001b[0;31mValueError\u001b[0m                                Traceback (most recent call last)",
      "\u001b[0;32m<ipython-input-104-52ad4e5e9dd3>\u001b[0m in \u001b[0;36m<module>\u001b[0;34m\u001b[0m\n\u001b[1;32m     51\u001b[0m     \u001b[0mstart\u001b[0m\u001b[0;34m=\u001b[0m\u001b[0msent_df\u001b[0m\u001b[0;34m.\u001b[0m\u001b[0mPresident\u001b[0m\u001b[0;34m.\u001b[0m\u001b[0mmin\u001b[0m\u001b[0;34m(\u001b[0m\u001b[0;34m)\u001b[0m\u001b[0;34m,\u001b[0m \u001b[0mend\u001b[0m\u001b[0;34m=\u001b[0m\u001b[0msent_df\u001b[0m\u001b[0;34m.\u001b[0m\u001b[0msentence\u001b[0m\u001b[0;34m.\u001b[0m\u001b[0mmax\u001b[0m\u001b[0;34m(\u001b[0m\u001b[0;34m)\u001b[0m\u001b[0;34m,\u001b[0m\u001b[0mvalues\u001b[0m\u001b[0;34m=\u001b[0m\u001b[0;34m\u001b[0m\u001b[0;34m\u001b[0m\u001b[0m\n\u001b[1;32m     52\u001b[0m     ['Washington', 'Jefferson', 'Lincoln', 'FDR', 'Eisenhower', 'Kennedy',\n\u001b[0;32m---> 53\u001b[0;31m      'Reagan', 'GHWBush', 'Clinton', 'Obama'], step=1, title=\"Inaugural Speeches\")\n\u001b[0m\u001b[1;32m     54\u001b[0m \u001b[0mslider\u001b[0m\u001b[0;34m.\u001b[0m\u001b[0mjs_on_change\u001b[0m\u001b[0;34m(\u001b[0m\u001b[0;34m'value'\u001b[0m\u001b[0;34m,\u001b[0m \u001b[0mcallback\u001b[0m\u001b[0;34m)\u001b[0m\u001b[0;34m\u001b[0m\u001b[0;34m\u001b[0m\u001b[0m\n\u001b[1;32m     55\u001b[0m \u001b[0;34m\u001b[0m\u001b[0m\n",
      "\u001b[0;32m~/miniconda3/lib/python3.7/site-packages/bokeh/models/widgets/sliders.py\u001b[0m in \u001b[0;36m__init__\u001b[0;34m(self, **kwargs)\u001b[0m\n\u001b[1;32m     60\u001b[0m             \u001b[0;32mif\u001b[0m \u001b[0mkwargs\u001b[0m\u001b[0;34m[\u001b[0m\u001b[0;34m'start'\u001b[0m\u001b[0;34m]\u001b[0m \u001b[0;34m==\u001b[0m \u001b[0mkwargs\u001b[0m\u001b[0;34m[\u001b[0m\u001b[0;34m'end'\u001b[0m\u001b[0;34m]\u001b[0m\u001b[0;34m:\u001b[0m\u001b[0;34m\u001b[0m\u001b[0;34m\u001b[0m\u001b[0m\n\u001b[1;32m     61\u001b[0m                 \u001b[0;32mraise\u001b[0m \u001b[0mValueError\u001b[0m\u001b[0;34m(\u001b[0m\u001b[0;34m\"Slider 'start' and 'end' cannot be equal.\"\u001b[0m\u001b[0;34m)\u001b[0m\u001b[0;34m\u001b[0m\u001b[0;34m\u001b[0m\u001b[0m\n\u001b[0;32m---> 62\u001b[0;31m         \u001b[0msuper\u001b[0m\u001b[0;34m(\u001b[0m\u001b[0mWidget\u001b[0m\u001b[0;34m,\u001b[0m \u001b[0mself\u001b[0m\u001b[0;34m)\u001b[0m\u001b[0;34m.\u001b[0m\u001b[0m__init__\u001b[0m\u001b[0;34m(\u001b[0m\u001b[0;34m**\u001b[0m\u001b[0mkwargs\u001b[0m\u001b[0;34m)\u001b[0m\u001b[0;34m\u001b[0m\u001b[0;34m\u001b[0m\u001b[0m\n\u001b[0m\u001b[1;32m     63\u001b[0m \u001b[0;34m\u001b[0m\u001b[0m\n\u001b[1;32m     64\u001b[0m     title = String(default=\"\", help=\"\"\"\n",
      "\u001b[0;32m~/miniconda3/lib/python3.7/site-packages/bokeh/model.py\u001b[0m in \u001b[0;36m__init__\u001b[0;34m(self, **kwargs)\u001b[0m\n\u001b[1;32m    305\u001b[0m         \u001b[0mkwargs\u001b[0m\u001b[0;34m.\u001b[0m\u001b[0mpop\u001b[0m\u001b[0;34m(\u001b[0m\u001b[0;34m\"id\"\u001b[0m\u001b[0;34m,\u001b[0m \u001b[0;32mNone\u001b[0m\u001b[0;34m)\u001b[0m\u001b[0;34m\u001b[0m\u001b[0;34m\u001b[0m\u001b[0m\n\u001b[1;32m    306\u001b[0m \u001b[0;34m\u001b[0m\u001b[0m\n\u001b[0;32m--> 307\u001b[0;31m         \u001b[0msuper\u001b[0m\u001b[0;34m(\u001b[0m\u001b[0mModel\u001b[0m\u001b[0;34m,\u001b[0m \u001b[0mself\u001b[0m\u001b[0;34m)\u001b[0m\u001b[0;34m.\u001b[0m\u001b[0m__init__\u001b[0m\u001b[0;34m(\u001b[0m\u001b[0;34m**\u001b[0m\u001b[0mkwargs\u001b[0m\u001b[0;34m)\u001b[0m\u001b[0;34m\u001b[0m\u001b[0;34m\u001b[0m\u001b[0m\n\u001b[0m\u001b[1;32m    308\u001b[0m         \u001b[0mdefault_theme\u001b[0m\u001b[0;34m.\u001b[0m\u001b[0mapply_to_model\u001b[0m\u001b[0;34m(\u001b[0m\u001b[0mself\u001b[0m\u001b[0;34m)\u001b[0m\u001b[0;34m\u001b[0m\u001b[0;34m\u001b[0m\u001b[0m\n\u001b[1;32m    309\u001b[0m \u001b[0;34m\u001b[0m\u001b[0m\n",
      "\u001b[0;32m~/miniconda3/lib/python3.7/site-packages/bokeh/core/has_props.py\u001b[0m in \u001b[0;36m__init__\u001b[0;34m(self, **properties)\u001b[0m\n\u001b[1;32m    251\u001b[0m \u001b[0;34m\u001b[0m\u001b[0m\n\u001b[1;32m    252\u001b[0m         \u001b[0;32mfor\u001b[0m \u001b[0mname\u001b[0m\u001b[0;34m,\u001b[0m \u001b[0mvalue\u001b[0m \u001b[0;32min\u001b[0m \u001b[0mproperties\u001b[0m\u001b[0;34m.\u001b[0m\u001b[0mitems\u001b[0m\u001b[0;34m(\u001b[0m\u001b[0;34m)\u001b[0m\u001b[0;34m:\u001b[0m\u001b[0;34m\u001b[0m\u001b[0;34m\u001b[0m\u001b[0m\n\u001b[0;32m--> 253\u001b[0;31m             \u001b[0msetattr\u001b[0m\u001b[0;34m(\u001b[0m\u001b[0mself\u001b[0m\u001b[0;34m,\u001b[0m \u001b[0mname\u001b[0m\u001b[0;34m,\u001b[0m \u001b[0mvalue\u001b[0m\u001b[0;34m)\u001b[0m\u001b[0;34m\u001b[0m\u001b[0;34m\u001b[0m\u001b[0m\n\u001b[0m\u001b[1;32m    254\u001b[0m \u001b[0;34m\u001b[0m\u001b[0m\n\u001b[1;32m    255\u001b[0m     \u001b[0;32mdef\u001b[0m \u001b[0m__setattr__\u001b[0m\u001b[0;34m(\u001b[0m\u001b[0mself\u001b[0m\u001b[0;34m,\u001b[0m \u001b[0mname\u001b[0m\u001b[0;34m,\u001b[0m \u001b[0mvalue\u001b[0m\u001b[0;34m)\u001b[0m\u001b[0;34m:\u001b[0m\u001b[0;34m\u001b[0m\u001b[0;34m\u001b[0m\u001b[0m\n",
      "\u001b[0;32m~/miniconda3/lib/python3.7/site-packages/bokeh/core/has_props.py\u001b[0m in \u001b[0;36m__setattr__\u001b[0;34m(self, name, value)\u001b[0m\n\u001b[1;32m    278\u001b[0m \u001b[0;34m\u001b[0m\u001b[0m\n\u001b[1;32m    279\u001b[0m         \u001b[0;32mif\u001b[0m \u001b[0mname\u001b[0m \u001b[0;32min\u001b[0m \u001b[0mprops\u001b[0m \u001b[0;32mor\u001b[0m \u001b[0;34m(\u001b[0m\u001b[0mdescriptor\u001b[0m \u001b[0;32mis\u001b[0m \u001b[0;32mnot\u001b[0m \u001b[0;32mNone\u001b[0m \u001b[0;32mand\u001b[0m \u001b[0mdescriptor\u001b[0m\u001b[0;34m.\u001b[0m\u001b[0mfset\u001b[0m \u001b[0;32mis\u001b[0m \u001b[0;32mnot\u001b[0m \u001b[0;32mNone\u001b[0m\u001b[0;34m)\u001b[0m\u001b[0;34m:\u001b[0m\u001b[0;34m\u001b[0m\u001b[0;34m\u001b[0m\u001b[0m\n\u001b[0;32m--> 280\u001b[0;31m             \u001b[0msuper\u001b[0m\u001b[0;34m(\u001b[0m\u001b[0mHasProps\u001b[0m\u001b[0;34m,\u001b[0m \u001b[0mself\u001b[0m\u001b[0;34m)\u001b[0m\u001b[0;34m.\u001b[0m\u001b[0m__setattr__\u001b[0m\u001b[0;34m(\u001b[0m\u001b[0mname\u001b[0m\u001b[0;34m,\u001b[0m \u001b[0mvalue\u001b[0m\u001b[0;34m)\u001b[0m\u001b[0;34m\u001b[0m\u001b[0;34m\u001b[0m\u001b[0m\n\u001b[0m\u001b[1;32m    281\u001b[0m         \u001b[0;32melse\u001b[0m\u001b[0;34m:\u001b[0m\u001b[0;34m\u001b[0m\u001b[0;34m\u001b[0m\u001b[0m\n\u001b[1;32m    282\u001b[0m             \u001b[0mmatches\u001b[0m\u001b[0;34m,\u001b[0m \u001b[0mtext\u001b[0m \u001b[0;34m=\u001b[0m \u001b[0mdifflib\u001b[0m\u001b[0;34m.\u001b[0m\u001b[0mget_close_matches\u001b[0m\u001b[0;34m(\u001b[0m\u001b[0mname\u001b[0m\u001b[0;34m.\u001b[0m\u001b[0mlower\u001b[0m\u001b[0;34m(\u001b[0m\u001b[0;34m)\u001b[0m\u001b[0;34m,\u001b[0m \u001b[0mprops\u001b[0m\u001b[0;34m)\u001b[0m\u001b[0;34m,\u001b[0m \u001b[0;34m\"similar\"\u001b[0m\u001b[0;34m\u001b[0m\u001b[0;34m\u001b[0m\u001b[0m\n",
      "\u001b[0;32m~/miniconda3/lib/python3.7/site-packages/bokeh/core/property/descriptors.py\u001b[0m in \u001b[0;36m__set__\u001b[0;34m(self, obj, value, setter)\u001b[0m\n\u001b[1;32m    543\u001b[0m             \u001b[0;32mraise\u001b[0m \u001b[0mRuntimeError\u001b[0m\u001b[0;34m(\u001b[0m\u001b[0;34m\"%s.%s is a readonly property\"\u001b[0m \u001b[0;34m%\u001b[0m \u001b[0;34m(\u001b[0m\u001b[0mobj\u001b[0m\u001b[0;34m.\u001b[0m\u001b[0m__class__\u001b[0m\u001b[0;34m.\u001b[0m\u001b[0m__name__\u001b[0m\u001b[0;34m,\u001b[0m \u001b[0mself\u001b[0m\u001b[0;34m.\u001b[0m\u001b[0mname\u001b[0m\u001b[0;34m)\u001b[0m\u001b[0;34m)\u001b[0m\u001b[0;34m\u001b[0m\u001b[0;34m\u001b[0m\u001b[0m\n\u001b[1;32m    544\u001b[0m \u001b[0;34m\u001b[0m\u001b[0m\n\u001b[0;32m--> 545\u001b[0;31m         \u001b[0mself\u001b[0m\u001b[0;34m.\u001b[0m\u001b[0m_internal_set\u001b[0m\u001b[0;34m(\u001b[0m\u001b[0mobj\u001b[0m\u001b[0;34m,\u001b[0m \u001b[0mvalue\u001b[0m\u001b[0;34m,\u001b[0m \u001b[0msetter\u001b[0m\u001b[0;34m=\u001b[0m\u001b[0msetter\u001b[0m\u001b[0;34m)\u001b[0m\u001b[0;34m\u001b[0m\u001b[0;34m\u001b[0m\u001b[0m\n\u001b[0m\u001b[1;32m    546\u001b[0m \u001b[0;34m\u001b[0m\u001b[0m\n\u001b[1;32m    547\u001b[0m     \u001b[0;32mdef\u001b[0m \u001b[0m__delete__\u001b[0m\u001b[0;34m(\u001b[0m\u001b[0mself\u001b[0m\u001b[0;34m,\u001b[0m \u001b[0mobj\u001b[0m\u001b[0;34m)\u001b[0m\u001b[0;34m:\u001b[0m\u001b[0;34m\u001b[0m\u001b[0;34m\u001b[0m\u001b[0m\n",
      "\u001b[0;32m~/miniconda3/lib/python3.7/site-packages/bokeh/core/property/descriptors.py\u001b[0m in \u001b[0;36m_internal_set\u001b[0;34m(self, obj, value, hint, setter)\u001b[0m\n\u001b[1;32m    764\u001b[0m \u001b[0;34m\u001b[0m\u001b[0m\n\u001b[1;32m    765\u001b[0m         '''\n\u001b[0;32m--> 766\u001b[0;31m         \u001b[0mvalue\u001b[0m \u001b[0;34m=\u001b[0m \u001b[0mself\u001b[0m\u001b[0;34m.\u001b[0m\u001b[0mproperty\u001b[0m\u001b[0;34m.\u001b[0m\u001b[0mprepare_value\u001b[0m\u001b[0;34m(\u001b[0m\u001b[0mobj\u001b[0m\u001b[0;34m,\u001b[0m \u001b[0mself\u001b[0m\u001b[0;34m.\u001b[0m\u001b[0mname\u001b[0m\u001b[0;34m,\u001b[0m \u001b[0mvalue\u001b[0m\u001b[0;34m)\u001b[0m\u001b[0;34m\u001b[0m\u001b[0;34m\u001b[0m\u001b[0m\n\u001b[0m\u001b[1;32m    767\u001b[0m \u001b[0;34m\u001b[0m\u001b[0m\n\u001b[1;32m    768\u001b[0m         \u001b[0mold\u001b[0m \u001b[0;34m=\u001b[0m \u001b[0mself\u001b[0m\u001b[0;34m.\u001b[0m\u001b[0m__get__\u001b[0m\u001b[0;34m(\u001b[0m\u001b[0mobj\u001b[0m\u001b[0;34m,\u001b[0m \u001b[0mobj\u001b[0m\u001b[0;34m.\u001b[0m\u001b[0m__class__\u001b[0m\u001b[0;34m)\u001b[0m\u001b[0;34m\u001b[0m\u001b[0;34m\u001b[0m\u001b[0m\n",
      "\u001b[0;32m~/miniconda3/lib/python3.7/site-packages/bokeh/core/property/bases.py\u001b[0m in \u001b[0;36mprepare_value\u001b[0;34m(self, obj_or_cls, name, value)\u001b[0m\n\u001b[1;32m    325\u001b[0m                     \u001b[0;32mbreak\u001b[0m\u001b[0;34m\u001b[0m\u001b[0;34m\u001b[0m\u001b[0m\n\u001b[1;32m    326\u001b[0m             \u001b[0;32melse\u001b[0m\u001b[0;34m:\u001b[0m\u001b[0;34m\u001b[0m\u001b[0;34m\u001b[0m\u001b[0m\n\u001b[0;32m--> 327\u001b[0;31m                 \u001b[0;32mraise\u001b[0m \u001b[0me\u001b[0m\u001b[0;34m\u001b[0m\u001b[0;34m\u001b[0m\u001b[0m\n\u001b[0m\u001b[1;32m    328\u001b[0m         \u001b[0;32melse\u001b[0m\u001b[0;34m:\u001b[0m\u001b[0;34m\u001b[0m\u001b[0;34m\u001b[0m\u001b[0m\n\u001b[1;32m    329\u001b[0m             \u001b[0mvalue\u001b[0m \u001b[0;34m=\u001b[0m \u001b[0mself\u001b[0m\u001b[0;34m.\u001b[0m\u001b[0mtransform\u001b[0m\u001b[0;34m(\u001b[0m\u001b[0mvalue\u001b[0m\u001b[0;34m)\u001b[0m\u001b[0;34m\u001b[0m\u001b[0;34m\u001b[0m\u001b[0m\n",
      "\u001b[0;32m~/miniconda3/lib/python3.7/site-packages/bokeh/core/property/bases.py\u001b[0m in \u001b[0;36mprepare_value\u001b[0;34m(self, obj_or_cls, name, value)\u001b[0m\n\u001b[1;32m    318\u001b[0m         \u001b[0;32mtry\u001b[0m\u001b[0;34m:\u001b[0m\u001b[0;34m\u001b[0m\u001b[0;34m\u001b[0m\u001b[0m\n\u001b[1;32m    319\u001b[0m             \u001b[0;32mif\u001b[0m \u001b[0mvalidation_on\u001b[0m\u001b[0;34m(\u001b[0m\u001b[0;34m)\u001b[0m\u001b[0;34m:\u001b[0m\u001b[0;34m\u001b[0m\u001b[0;34m\u001b[0m\u001b[0m\n\u001b[0;32m--> 320\u001b[0;31m                 \u001b[0mself\u001b[0m\u001b[0;34m.\u001b[0m\u001b[0mvalidate\u001b[0m\u001b[0;34m(\u001b[0m\u001b[0mvalue\u001b[0m\u001b[0;34m)\u001b[0m\u001b[0;34m\u001b[0m\u001b[0;34m\u001b[0m\u001b[0m\n\u001b[0m\u001b[1;32m    321\u001b[0m         \u001b[0;32mexcept\u001b[0m \u001b[0mValueError\u001b[0m \u001b[0;32mas\u001b[0m \u001b[0me\u001b[0m\u001b[0;34m:\u001b[0m\u001b[0;34m\u001b[0m\u001b[0;34m\u001b[0m\u001b[0m\n\u001b[1;32m    322\u001b[0m             \u001b[0;32mfor\u001b[0m \u001b[0mtp\u001b[0m\u001b[0;34m,\u001b[0m \u001b[0mconverter\u001b[0m \u001b[0;32min\u001b[0m \u001b[0mself\u001b[0m\u001b[0;34m.\u001b[0m\u001b[0malternatives\u001b[0m\u001b[0;34m:\u001b[0m\u001b[0;34m\u001b[0m\u001b[0;34m\u001b[0m\u001b[0m\n",
      "\u001b[0;32m~/miniconda3/lib/python3.7/site-packages/bokeh/core/property/bases.py\u001b[0m in \u001b[0;36mvalidate\u001b[0;34m(self, value, detail)\u001b[0m\n\u001b[1;32m    450\u001b[0m                 \u001b[0mnice_join\u001b[0m\u001b[0;34m(\u001b[0m\u001b[0;34m[\u001b[0m \u001b[0mcls\u001b[0m\u001b[0;34m.\u001b[0m\u001b[0m__name__\u001b[0m \u001b[0;32mfor\u001b[0m \u001b[0mcls\u001b[0m \u001b[0;32min\u001b[0m \u001b[0mself\u001b[0m\u001b[0;34m.\u001b[0m\u001b[0m_underlying_type\u001b[0m \u001b[0;34m]\u001b[0m\u001b[0;34m)\u001b[0m\u001b[0;34m,\u001b[0m \u001b[0mvalue\u001b[0m\u001b[0;34m,\u001b[0m \u001b[0mtype\u001b[0m\u001b[0;34m(\u001b[0m\u001b[0mvalue\u001b[0m\u001b[0;34m)\u001b[0m\u001b[0;34m.\u001b[0m\u001b[0m__name__\u001b[0m\u001b[0;34m\u001b[0m\u001b[0;34m\u001b[0m\u001b[0m\n\u001b[1;32m    451\u001b[0m             )\n\u001b[0;32m--> 452\u001b[0;31m             \u001b[0;32mraise\u001b[0m \u001b[0mValueError\u001b[0m\u001b[0;34m(\u001b[0m\u001b[0mmsg\u001b[0m\u001b[0;34m)\u001b[0m\u001b[0;34m\u001b[0m\u001b[0;34m\u001b[0m\u001b[0m\n\u001b[0m\u001b[1;32m    453\u001b[0m \u001b[0;34m\u001b[0m\u001b[0m\n\u001b[1;32m    454\u001b[0m     \u001b[0;32mdef\u001b[0m \u001b[0mfrom_json\u001b[0m\u001b[0;34m(\u001b[0m\u001b[0mself\u001b[0m\u001b[0;34m,\u001b[0m \u001b[0mjson\u001b[0m\u001b[0;34m,\u001b[0m \u001b[0mmodels\u001b[0m\u001b[0;34m=\u001b[0m\u001b[0;32mNone\u001b[0m\u001b[0;34m)\u001b[0m\u001b[0;34m:\u001b[0m\u001b[0;34m\u001b[0m\u001b[0;34m\u001b[0m\u001b[0m\n",
      "\u001b[0;31mValueError\u001b[0m: expected a value of type Real, got clinton of type str"
     ]
    }
   ],
   "source": [
    "# Scatter plot using Bokeh.\n",
    "source = ColumnDataSource(\n",
    "    data=dict(x=embedding.x,\n",
    "              y=embedding.y,\n",
    "              colors=[all_palettes['Set1'][8] for i in embedding.hue],\n",
    "              sentence=sent_df.sentence,\n",
    "              President=sent_df.President,\n",
    "              alpha=[0.9] * embedding.shape[0],\n",
    "              size=[7] * embedding.shape[0]\n",
    "              )\n",
    ")\n",
    "hover_tsne = HoverTool(names=[\"sent_df\"], tooltips=\"\"\"\n",
    "    <div style=\"margin: 10\">\n",
    "        <div style=\"margin: 0 auto; width:300px;\">\n",
    "            <span style=\"font-size: 12px; font-weight: bold;\">Title:</span>\n",
    "            <span style=\"font-size: 12px\">@title</span>\n",
    "            <span style=\"font-size: 12px; font-weight: bold;\">Year:</span>\n",
    "            <span style=\"font-size: 12px\">@year</span>\n",
    "        </div>\n",
    "    </div>\n",
    "    \"\"\")\n",
    "tools_tsne = [hover_tsne, 'pan', 'wheel_zoom', 'reset']\n",
    "plot_tsne = figure(plot_width=700, plot_height=700,\n",
    "                   tools=tools_tsne, title='Inaugural Addresses')\n",
    "plot_tsne.circle('x', 'y', size='size', fill_color='colors',alpha='alpha',\n",
    "                 line_alpha=0, line_width=0.01, source=source, name=\"sent_df\")\n",
    "\n",
    "callback = CustomJS(args=dict(source=source), code=\n",
    "    \"\"\"var data = source.data;\n",
    "    var f = cb_obj.value\n",
    "    x = data['x']\n",
    "    y = data['y']\n",
    "    colors = data['colors']\n",
    "    alpha = data['alpha']\n",
    "    title = data['title']\n",
    "    President = data['President']\n",
    "    size = data['size']\n",
    "    for (i = 0; i < x.length; i++) {\n",
    "        if (year[i] <= f) {\n",
    "            alpha[i] = 0.9\n",
    "            size[i] = 7\n",
    "        } else {\n",
    "            alpha[i] = 0.05\n",
    "            size[i] = 4\n",
    "        }\n",
    "    }\n",
    "    source.change.emit();\n",
    "    \"\"\")\n",
    "\n",
    "slider = Slider(\n",
    "    start=sent_df.President.min(), end=sent_df.sentence.max(),values=\n",
    "    ['Washington', 'Jefferson', 'Lincoln', 'FDR', 'Eisenhower', 'Kennedy',\n",
    "     'Reagan', 'GHWBush', 'Clinton', 'Obama'], step=1, title=\"Inaugural Speeches\")\n",
    "slider.js_on_change('value', callback)\n",
    "\n",
    "layout = column(plot_tsne)\n",
    "show(layout)"
   ]
  },
  {
   "cell_type": "markdown",
   "metadata": {},
   "source": [
    "# Prepare for Predictive Modeling"
   ]
  },
  {
   "cell_type": "code",
   "execution_count": 105,
   "metadata": {
    "ExecuteTime": {
     "end_time": "2019-08-11T02:40:01.368415Z",
     "start_time": "2019-08-11T02:40:01.354777Z"
    }
   },
   "outputs": [
    {
     "name": "stdout",
     "output_type": "stream",
     "text": [
      "Baseline score to beat: 0.15491452991452967\n"
     ]
    }
   ],
   "source": [
    "'''Create baseline score to beat. Bush41 had the most sentences, so guessing \n",
    "him for all sentences would give this percentage.\n",
    "'''\n",
    "\n",
    "print('Baseline score to beat:', sum(\n",
    "    (sent_df.President == 'ghwbush') / len(sent_df.President)))"
   ]
  },
  {
   "cell_type": "code",
   "execution_count": 106,
   "metadata": {
    "ExecuteTime": {
     "end_time": "2019-08-11T02:40:22.357466Z",
     "start_time": "2019-08-11T02:40:22.354402Z"
    }
   },
   "outputs": [],
   "source": [
    "# Pipeline helpers.\n",
    "skf = StratifiedKFold(n_splits=10, shuffle=True, random_state=15)"
   ]
  },
  {
   "cell_type": "code",
   "execution_count": 109,
   "metadata": {
    "ExecuteTime": {
     "end_time": "2019-08-11T02:41:43.016791Z",
     "start_time": "2019-08-11T02:41:43.009221Z"
    }
   },
   "outputs": [],
   "source": [
    "# Instantiate the models.\n",
    "log_reg = LogisticRegression(solver='lbfgs', max_iter=1000, random_state=15)\n",
    "tree = DecisionTreeClassifier(random_state=15)\n",
    "forest = RandomForestClassifier(max_depth=10, random_state=15)\n",
    "boost = GradientBoostingClassifier(random_state=15)\n",
    "nb = BernoulliNB()"
   ]
  },
  {
   "cell_type": "code",
   "execution_count": 111,
   "metadata": {
    "ExecuteTime": {
     "end_time": "2019-08-11T02:42:40.681562Z",
     "start_time": "2019-08-11T02:42:40.676090Z"
    },
    "run_control": {
     "marked": false
    }
   },
   "outputs": [],
   "source": [
    "# Set up _kwargs files for convenience.\n",
    "tfidf_kwargs = {'X_train': X_train_tfidf,'y_train': y_train,\n",
    "                'X_eval': X_eval_tfidf,'y_eval': y_eval}\n",
    "                #'X_holdout': X_holdout_tfidf, 'y_holdout': y_holdout}\n",
    "\n",
    "lsa_kwargs = {'X_train': X_train_lsa_scaled, 'y_train': y_train,\n",
    "              'X_eval': X_eval_lsa_scaled, 'y_eval': y_eval}\n",
    "              #'X_holdout': X_holdout_tfidf_scaled, 'y_holdout': y_holdout}"
   ]
  },
  {
   "cell_type": "code",
   "execution_count": 112,
   "metadata": {
    "ExecuteTime": {
     "end_time": "2019-08-11T02:43:03.911940Z",
     "start_time": "2019-08-11T02:43:03.904679Z"
    }
   },
   "outputs": [],
   "source": [
    "# Tune parameter grids.\n",
    "log_reg_params = {'model__C': [1, 10, 100, 1000]}\n",
    "tree_params = {'model__criterion': ['gini']}\n",
    "forest_params = {'model__n_estimators': [100, 200, 300,400],\n",
    "                 'model__max_depth': [None, 5, 10]}\n",
    "boost_params = {'model__n_estimators': [100]}\n",
    "nb_params = {'model__alpha': [1]}"
   ]
  },
  {
   "cell_type": "code",
   "execution_count": 113,
   "metadata": {
    "ExecuteTime": {
     "end_time": "2019-08-11T02:43:26.958124Z",
     "start_time": "2019-08-11T02:43:26.951016Z"
    }
   },
   "outputs": [],
   "source": [
    "# Function to fit and predict all working kernals.\n",
    "\n",
    "\n",
    "def fit_and_predict(model, params: Dict,\n",
    "                    X_train: pd.DataFrame,\n",
    "                    y_train: pd.DataFrame,\n",
    "                    X_eval: pd.DataFrame,\n",
    "                    y_eval: pd.DataFrame) -> None:\n",
    "    \"\"\"\n",
    "    Takes an instantiated sklearn model, training data (X_train, y_train), \n",
    "    and performs cross-validation and then prints the mean of the cross-\n",
    "    validation accuracies.\n",
    "    \"\"\"\n",
    "    assert len(X_train) == len(y_train)\n",
    "    assert len(X_eval) == len(y_eval)\n",
    "    # assert len(X_holdout) == len(y_holdout)\n",
    "    pipe = Pipeline(steps=[('model', model)])\n",
    "    clf = GridSearchCV(pipe, cv=skf, param_grid=params, n_jobs=2)\n",
    "    clf.fit(X_train, y_train)\n",
    "    print('The mean cross_val accuracy on train is',\n",
    "          f'{clf.cv_results_[\"mean_test_score\"]}.')\n",
    "    print('The std of the cross_val accuracy is',\n",
    "          f'{clf.cv_results_[\"std_test_score\"]}.')\n",
    "    y_pred = clf.predict(X_eval)\n",
    "    print(classification_report(y_eval, y_pred))\n",
    "    print(confusion_matrix(y_eval, y_pred))"
   ]
  },
  {
   "cell_type": "markdown",
   "metadata": {},
   "source": [
    "## Logistic Regression"
   ]
  },
  {
   "cell_type": "markdown",
   "metadata": {},
   "source": [
    "### Tfidf"
   ]
  },
  {
   "cell_type": "code",
   "execution_count": 114,
   "metadata": {
    "ExecuteTime": {
     "end_time": "2019-08-11T02:44:02.247817Z",
     "start_time": "2019-08-11T02:43:49.788957Z"
    },
    "scrolled": true
   },
   "outputs": [
    {
     "name": "stdout",
     "output_type": "stream",
     "text": [
      "The mean cross_val accuracy on train is [0.34410646 0.34220532 0.31749049 0.28136882].\n",
      "The std of the cross_val accuracy is [0.0365393  0.01761933 0.0400676  0.05275828].\n",
      "              precision    recall  f1-score   support\n",
      "\n",
      "     clinton       0.33      0.12      0.18        16\n",
      "  eisenhower       0.35      0.42      0.38        19\n",
      "         fdr       0.25      0.06      0.10        16\n",
      "     ghwbush       0.15      0.44      0.22        25\n",
      "   jefferson       1.00      0.10      0.18        10\n",
      "     kennedy       0.00      0.00      0.00         9\n",
      "     lincoln       0.58      0.62      0.60        29\n",
      "       obama       0.00      0.00      0.00        25\n",
      "      reagan       0.24      0.33      0.28        24\n",
      "  washington       0.00      0.00      0.00         3\n",
      "\n",
      "   micro avg       0.28      0.28      0.28       176\n",
      "   macro avg       0.29      0.21      0.19       176\n",
      "weighted avg       0.30      0.28      0.25       176\n",
      "\n",
      "[[ 2  1  0  9  0  1  0  0  3  0]\n",
      " [ 0  8  0  7  0  0  1  2  1  0]\n",
      " [ 0  1  1  8  0  0  1  0  5  0]\n",
      " [ 0  5  2 11  0  0  2  0  5  0]\n",
      " [ 0  2  0  2  1  0  2  0  3  0]\n",
      " [ 1  1  0  4  0  0  1  1  1  0]\n",
      " [ 0  1  0  7  0  0 18  0  3  0]\n",
      " [ 1  1  1 15  0  0  3  0  4  0]\n",
      " [ 2  3  0  8  0  0  2  1  8  0]\n",
      " [ 0  0  0  2  0  0  1  0  0  0]]\n"
     ]
    },
    {
     "name": "stderr",
     "output_type": "stream",
     "text": [
      "/Users/danmchenry/miniconda3/lib/python3.7/site-packages/sklearn/model_selection/_search.py:841: DeprecationWarning: The default of the `iid` parameter will change from True to False in version 0.22 and will be removed in 0.24. This will change numeric results when test-set sizes are unequal.\n",
      "  DeprecationWarning)\n",
      "/Users/danmchenry/miniconda3/lib/python3.7/site-packages/sklearn/linear_model/logistic.py:460: FutureWarning: Default multi_class will be changed to 'auto' in 0.22. Specify the multi_class option to silence this warning.\n",
      "  \"this warning.\", FutureWarning)\n",
      "/Users/danmchenry/miniconda3/lib/python3.7/site-packages/sklearn/metrics/classification.py:1143: UndefinedMetricWarning: Precision and F-score are ill-defined and being set to 0.0 in labels with no predicted samples.\n",
      "  'precision', 'predicted', average, warn_for)\n"
     ]
    }
   ],
   "source": [
    "fit_and_predict(log_reg, params=log_reg_params, **tfidf_kwargs)"
   ]
  },
  {
   "cell_type": "markdown",
   "metadata": {},
   "source": [
    "### LSA (Latent Semantic Analysis)"
   ]
  },
  {
   "cell_type": "code",
   "execution_count": 115,
   "metadata": {
    "ExecuteTime": {
     "end_time": "2019-08-11T02:44:38.505661Z",
     "start_time": "2019-08-11T02:44:25.524243Z"
    }
   },
   "outputs": [
    {
     "name": "stdout",
     "output_type": "stream",
     "text": [
      "The mean cross_val accuracy on train is [0.34030418 0.3365019  0.30608365 0.2851711 ].\n",
      "The std of the cross_val accuracy is [0.02437226 0.045907   0.02789979 0.05238789].\n",
      "              precision    recall  f1-score   support\n",
      "\n",
      "     clinton       0.23      0.19      0.21        16\n",
      "  eisenhower       0.27      0.47      0.35        19\n",
      "         fdr       0.36      0.25      0.30        16\n",
      "     ghwbush       0.16      0.36      0.22        25\n",
      "   jefferson       0.33      0.10      0.15        10\n",
      "     kennedy       0.50      0.11      0.18         9\n",
      "     lincoln       0.58      0.52      0.55        29\n",
      "       obama       0.25      0.08      0.12        25\n",
      "      reagan       0.26      0.25      0.26        24\n",
      "  washington       0.00      0.00      0.00         3\n",
      "\n",
      "   micro avg       0.28      0.28      0.28       176\n",
      "   macro avg       0.29      0.23      0.23       176\n",
      "weighted avg       0.32      0.28      0.27       176\n",
      "\n",
      "[[ 3  2  1  8  0  1  0  0  1  0]\n",
      " [ 0  9  0  7  0  0  2  1  0  0]\n",
      " [ 0  2  4  6  0  0  1  1  2  0]\n",
      " [ 2  5  2  9  0  0  1  1  5  0]\n",
      " [ 0  2  0  1  1  0  4  0  2  0]\n",
      " [ 2  2  0  1  1  1  1  1  0  0]\n",
      " [ 0  4  0  6  1  0 15  0  2  1]\n",
      " [ 3  1  2 12  0  0  1  2  4  0]\n",
      " [ 3  4  2  6  0  0  1  2  6  0]\n",
      " [ 0  2  0  0  0  0  0  0  1  0]]\n"
     ]
    },
    {
     "name": "stderr",
     "output_type": "stream",
     "text": [
      "/Users/danmchenry/miniconda3/lib/python3.7/site-packages/sklearn/model_selection/_search.py:841: DeprecationWarning: The default of the `iid` parameter will change from True to False in version 0.22 and will be removed in 0.24. This will change numeric results when test-set sizes are unequal.\n",
      "  DeprecationWarning)\n",
      "/Users/danmchenry/miniconda3/lib/python3.7/site-packages/sklearn/linear_model/logistic.py:460: FutureWarning: Default multi_class will be changed to 'auto' in 0.22. Specify the multi_class option to silence this warning.\n",
      "  \"this warning.\", FutureWarning)\n"
     ]
    }
   ],
   "source": [
    "fit_and_predict(log_reg, params=log_reg_params, **lsa_kwargs)"
   ]
  },
  {
   "cell_type": "markdown",
   "metadata": {},
   "source": [
    "## Decision Trees"
   ]
  },
  {
   "cell_type": "markdown",
   "metadata": {},
   "source": [
    "### Tfidf"
   ]
  },
  {
   "cell_type": "code",
   "execution_count": 116,
   "metadata": {
    "ExecuteTime": {
     "end_time": "2019-08-11T02:45:03.249288Z",
     "start_time": "2019-08-11T02:45:02.963293Z"
    }
   },
   "outputs": [
    {
     "name": "stdout",
     "output_type": "stream",
     "text": [
      "The mean cross_val accuracy on train is [0.26996198].\n",
      "The std of the cross_val accuracy is [0.0617106].\n",
      "              precision    recall  f1-score   support\n",
      "\n",
      "     clinton       0.12      0.12      0.12        16\n",
      "  eisenhower       0.21      0.26      0.23        19\n",
      "         fdr       0.08      0.06      0.07        16\n",
      "     ghwbush       0.11      0.28      0.16        25\n",
      "   jefferson       0.00      0.00      0.00        10\n",
      "     kennedy       0.40      0.22      0.29         9\n",
      "     lincoln       0.55      0.41      0.47        29\n",
      "       obama       0.18      0.08      0.11        25\n",
      "      reagan       0.33      0.25      0.29        24\n",
      "  washington       0.00      0.00      0.00         3\n",
      "\n",
      "   micro avg       0.21      0.21      0.21       176\n",
      "   macro avg       0.20      0.17      0.17       176\n",
      "weighted avg       0.24      0.21      0.21       176\n",
      "\n",
      "[[ 2  1  0  9  0  0  1  1  2  0]\n",
      " [ 1  5  2  9  0  0  1  0  1  0]\n",
      " [ 1  3  1  7  1  0  0  1  2  0]\n",
      " [ 4  4  2  7  0  0  3  2  2  1]\n",
      " [ 0  0  0  2  0  1  3  2  2  0]\n",
      " [ 3  2  1  1  0  2  0  0  0  0]\n",
      " [ 0  3  2  8  0  1 12  0  2  1]\n",
      " [ 4  2  3 12  0  1  0  2  1  0]\n",
      " [ 1  3  1 10  0  0  0  3  6  0]\n",
      " [ 0  1  0  0  0  0  2  0  0  0]]\n"
     ]
    },
    {
     "name": "stderr",
     "output_type": "stream",
     "text": [
      "/Users/danmchenry/miniconda3/lib/python3.7/site-packages/sklearn/model_selection/_search.py:841: DeprecationWarning: The default of the `iid` parameter will change from True to False in version 0.22 and will be removed in 0.24. This will change numeric results when test-set sizes are unequal.\n",
      "  DeprecationWarning)\n"
     ]
    }
   ],
   "source": [
    "fit_and_predict(tree, params=tree_params, **tfidf_kwargs)"
   ]
  },
  {
   "cell_type": "markdown",
   "metadata": {},
   "source": [
    "### LSA"
   ]
  },
  {
   "cell_type": "code",
   "execution_count": 117,
   "metadata": {
    "ExecuteTime": {
     "end_time": "2019-08-11T02:45:26.760674Z",
     "start_time": "2019-08-11T02:45:26.331767Z"
    }
   },
   "outputs": [
    {
     "name": "stdout",
     "output_type": "stream",
     "text": [
      "The mean cross_val accuracy on train is [0.19961977].\n",
      "The std of the cross_val accuracy is [0.04623214].\n",
      "              precision    recall  f1-score   support\n",
      "\n",
      "     clinton       0.00      0.00      0.00        16\n",
      "  eisenhower       0.24      0.32      0.27        19\n",
      "         fdr       0.23      0.19      0.21        16\n",
      "     ghwbush       0.12      0.20      0.15        25\n",
      "   jefferson       0.11      0.10      0.11        10\n",
      "     kennedy       0.00      0.00      0.00         9\n",
      "     lincoln       0.58      0.38      0.46        29\n",
      "       obama       0.14      0.12      0.13        25\n",
      "      reagan       0.13      0.12      0.13        24\n",
      "  washington       0.00      0.00      0.00         3\n",
      "\n",
      "   micro avg       0.18      0.18      0.18       176\n",
      "   macro avg       0.15      0.14      0.15       176\n",
      "weighted avg       0.20      0.18      0.19       176\n",
      "\n",
      "[[ 0  4  1  5  0  1  0  4  1  0]\n",
      " [ 0  6  0  6  1  0  1  3  1  1]\n",
      " [ 1  3  3  3  2  0  1  1  2  0]\n",
      " [ 2  1  1  5  2  1  4  5  4  0]\n",
      " [ 1  1  0  1  1  0  0  0  3  3]\n",
      " [ 2  2  0  1  1  0  0  2  1  0]\n",
      " [ 0  3  1  6  2  0 11  0  5  1]\n",
      " [ 1  1  3 10  0  4  0  3  2  1]\n",
      " [ 4  4  3  4  0  1  1  4  3  0]\n",
      " [ 0  0  1  0  0  0  1  0  1  0]]\n"
     ]
    },
    {
     "name": "stderr",
     "output_type": "stream",
     "text": [
      "/Users/danmchenry/miniconda3/lib/python3.7/site-packages/sklearn/model_selection/_search.py:841: DeprecationWarning: The default of the `iid` parameter will change from True to False in version 0.22 and will be removed in 0.24. This will change numeric results when test-set sizes are unequal.\n",
      "  DeprecationWarning)\n"
     ]
    }
   ],
   "source": [
    "fit_and_predict(tree, params=tree_params, **lsa_kwargs)"
   ]
  },
  {
   "cell_type": "markdown",
   "metadata": {},
   "source": [
    "## Random Forest"
   ]
  },
  {
   "cell_type": "markdown",
   "metadata": {},
   "source": [
    "### Tfidf"
   ]
  },
  {
   "cell_type": "code",
   "execution_count": 118,
   "metadata": {
    "ExecuteTime": {
     "end_time": "2019-08-11T02:46:10.293446Z",
     "start_time": "2019-08-11T02:45:49.452805Z"
    }
   },
   "outputs": [
    {
     "name": "stderr",
     "output_type": "stream",
     "text": [
      "/Users/danmchenry/miniconda3/lib/python3.7/site-packages/sklearn/model_selection/_search.py:841: DeprecationWarning: The default of the `iid` parameter will change from True to False in version 0.22 and will be removed in 0.24. This will change numeric results when test-set sizes are unequal.\n",
      "  DeprecationWarning)\n"
     ]
    },
    {
     "name": "stdout",
     "output_type": "stream",
     "text": [
      "The mean cross_val accuracy on train is [0.30798479 0.31749049 0.32509506 0.32889734 0.28326996 0.29277567\n",
      " 0.28707224 0.28326996 0.28707224 0.29657795 0.30228137 0.30228137].\n",
      "The std of the cross_val accuracy is [0.0383545  0.03435724 0.03282714 0.03598003 0.05548412 0.05193235\n",
      " 0.04677472 0.04852622 0.04649525 0.04687379 0.04612755 0.04741648].\n",
      "              precision    recall  f1-score   support\n",
      "\n",
      "     clinton       0.27      0.25      0.26        16\n",
      "  eisenhower       0.21      0.32      0.25        19\n",
      "         fdr       0.12      0.06      0.08        16\n",
      "     ghwbush       0.15      0.32      0.21        25\n",
      "   jefferson       0.50      0.30      0.37        10\n",
      "     kennedy       1.00      0.11      0.20         9\n",
      "     lincoln       0.56      0.52      0.54        29\n",
      "       obama       0.07      0.04      0.05        25\n",
      "      reagan       0.27      0.25      0.26        24\n",
      "  washington       0.00      0.00      0.00         3\n",
      "\n",
      "   micro avg       0.26      0.26      0.26       176\n",
      "   macro avg       0.31      0.22      0.22       176\n",
      "weighted avg       0.30      0.26      0.25       176\n",
      "\n",
      "[[ 4  2  0  7  0  0  0  1  2  0]\n",
      " [ 0  6  1  6  1  0  1  3  1  0]\n",
      " [ 0  4  1  6  0  0  1  2  2  0]\n",
      " [ 3  6  3  8  0  0  3  1  1  0]\n",
      " [ 0  0  0  0  3  0  4  1  2  0]\n",
      " [ 1  1  0  2  1  1  1  0  2  0]\n",
      " [ 0  2  0  6  1  0 15  0  4  1]\n",
      " [ 5  3  3 11  0  0  0  1  2  0]\n",
      " [ 2  4  0  6  0  0  0  6  6  0]\n",
      " [ 0  1  0  0  0  0  2  0  0  0]]\n"
     ]
    }
   ],
   "source": [
    "fit_and_predict(forest, params=forest_params, **tfidf_kwargs)"
   ]
  },
  {
   "cell_type": "markdown",
   "metadata": {},
   "source": [
    "### LSA"
   ]
  },
  {
   "cell_type": "code",
   "execution_count": 119,
   "metadata": {
    "ExecuteTime": {
     "end_time": "2019-08-11T02:47:24.538163Z",
     "start_time": "2019-08-11T02:46:41.213720Z"
    }
   },
   "outputs": [
    {
     "name": "stderr",
     "output_type": "stream",
     "text": [
      "/Users/danmchenry/miniconda3/lib/python3.7/site-packages/sklearn/model_selection/_search.py:841: DeprecationWarning: The default of the `iid` parameter will change from True to False in version 0.22 and will be removed in 0.24. This will change numeric results when test-set sizes are unequal.\n",
      "  DeprecationWarning)\n"
     ]
    },
    {
     "name": "stdout",
     "output_type": "stream",
     "text": [
      "The mean cross_val accuracy on train is [0.33460076 0.33460076 0.33460076 0.33269962 0.29277567 0.28326996\n",
      " 0.30608365 0.30988593 0.30798479 0.32889734 0.33079848 0.33269962].\n",
      "The std of the cross_val accuracy is [0.04916592 0.05175044 0.0485816  0.03278952 0.06021124 0.04203034\n",
      " 0.04743791 0.04994803 0.04978877 0.03431607 0.03067429 0.03364358].\n",
      "              precision    recall  f1-score   support\n",
      "\n",
      "     clinton       0.43      0.19      0.26        16\n",
      "  eisenhower       0.24      0.47      0.32        19\n",
      "         fdr       0.67      0.25      0.36        16\n",
      "     ghwbush       0.18      0.44      0.26        25\n",
      "   jefferson       0.00      0.00      0.00        10\n",
      "     kennedy       1.00      0.11      0.20         9\n",
      "     lincoln       0.56      0.69      0.62        29\n",
      "       obama       0.00      0.00      0.00        25\n",
      "      reagan       0.30      0.29      0.30        24\n",
      "  washington       0.00      0.00      0.00         3\n",
      "\n",
      "   micro avg       0.31      0.31      0.31       176\n",
      "   macro avg       0.34      0.24      0.23       176\n",
      "weighted avg       0.34      0.31      0.28       176\n",
      "\n",
      "[[ 3  2  0  7  0  0  0  2  2  0]\n",
      " [ 0  9  0  8  0  0  0  1  1  0]\n",
      " [ 0  4  4  5  0  0  2  0  1  0]\n",
      " [ 2  5  1 11  0  0  3  1  2  0]\n",
      " [ 0  2  0  1  0  0  5  0  2  0]\n",
      " [ 0  4  0  2  0  1  1  0  1  0]\n",
      " [ 0  3  0  4  0  0 20  0  2  0]\n",
      " [ 1  3  0 14  0  0  2  0  5  0]\n",
      " [ 1  5  1  7  0  0  2  1  7  0]\n",
      " [ 0  0  0  2  0  0  1  0  0  0]]\n"
     ]
    },
    {
     "name": "stderr",
     "output_type": "stream",
     "text": [
      "/Users/danmchenry/miniconda3/lib/python3.7/site-packages/sklearn/metrics/classification.py:1143: UndefinedMetricWarning: Precision and F-score are ill-defined and being set to 0.0 in labels with no predicted samples.\n",
      "  'precision', 'predicted', average, warn_for)\n"
     ]
    }
   ],
   "source": [
    "fit_and_predict(forest, params=forest_params, **lsa_kwargs)"
   ]
  },
  {
   "cell_type": "markdown",
   "metadata": {},
   "source": [
    "## Gradient Boosting Machines"
   ]
  },
  {
   "cell_type": "markdown",
   "metadata": {},
   "source": [
    "### Tfidf"
   ]
  },
  {
   "cell_type": "code",
   "execution_count": 120,
   "metadata": {
    "ExecuteTime": {
     "end_time": "2019-08-11T02:49:14.724063Z",
     "start_time": "2019-08-11T02:49:05.380635Z"
    }
   },
   "outputs": [
    {
     "name": "stderr",
     "output_type": "stream",
     "text": [
      "/Users/danmchenry/miniconda3/lib/python3.7/site-packages/sklearn/model_selection/_search.py:841: DeprecationWarning: The default of the `iid` parameter will change from True to False in version 0.22 and will be removed in 0.24. This will change numeric results when test-set sizes are unequal.\n",
      "  DeprecationWarning)\n"
     ]
    },
    {
     "name": "stdout",
     "output_type": "stream",
     "text": [
      "The mean cross_val accuracy on train is [0.28326996].\n",
      "The std of the cross_val accuracy is [0.03678817].\n",
      "              precision    recall  f1-score   support\n",
      "\n",
      "     clinton       0.33      0.25      0.29        16\n",
      "  eisenhower       0.19      0.26      0.22        19\n",
      "         fdr       0.25      0.12      0.17        16\n",
      "     ghwbush       0.14      0.36      0.20        25\n",
      "   jefferson       0.00      0.00      0.00        10\n",
      "     kennedy       0.00      0.00      0.00         9\n",
      "     lincoln       0.46      0.38      0.42        29\n",
      "       obama       0.00      0.00      0.00        25\n",
      "      reagan       0.33      0.33      0.33        24\n",
      "  washington       0.00      0.00      0.00         3\n",
      "\n",
      "   micro avg       0.22      0.22      0.22       176\n",
      "   macro avg       0.17      0.17      0.16       176\n",
      "weighted avg       0.21      0.22      0.21       176\n",
      "\n",
      "[[ 4  3  0  6  0  0  1  0  2  0]\n",
      " [ 0  5  1  7  0  1  1  3  1  0]\n",
      " [ 0  0  2  8  0  0  1  1  4  0]\n",
      " [ 1  6  2  9  0  1  2  2  2  0]\n",
      " [ 0  2  0  2  0  0  3  1  2  0]\n",
      " [ 1  2  0  2  1  0  1  1  1  0]\n",
      " [ 1  3  0 10  1  0 11  0  2  1]\n",
      " [ 4  2  3 12  0  0  2  0  2  0]\n",
      " [ 1  2  0  8  1  1  1  2  8  0]\n",
      " [ 0  1  0  1  0  0  1  0  0  0]]\n"
     ]
    }
   ],
   "source": [
    "fit_and_predict(boost, params=boost_params, **tfidf_kwargs)"
   ]
  },
  {
   "cell_type": "markdown",
   "metadata": {},
   "source": [
    "### LSA"
   ]
  },
  {
   "cell_type": "code",
   "execution_count": 121,
   "metadata": {
    "ExecuteTime": {
     "end_time": "2019-08-11T02:49:59.248850Z",
     "start_time": "2019-08-11T02:49:38.433900Z"
    }
   },
   "outputs": [
    {
     "name": "stderr",
     "output_type": "stream",
     "text": [
      "/Users/danmchenry/miniconda3/lib/python3.7/site-packages/sklearn/model_selection/_search.py:841: DeprecationWarning: The default of the `iid` parameter will change from True to False in version 0.22 and will be removed in 0.24. This will change numeric results when test-set sizes are unequal.\n",
      "  DeprecationWarning)\n"
     ]
    },
    {
     "name": "stdout",
     "output_type": "stream",
     "text": [
      "The mean cross_val accuracy on train is [0.25665399].\n",
      "The std of the cross_val accuracy is [0.04243727].\n",
      "              precision    recall  f1-score   support\n",
      "\n",
      "     clinton       0.12      0.06      0.08        16\n",
      "  eisenhower       0.25      0.37      0.30        19\n",
      "         fdr       0.29      0.12      0.17        16\n",
      "     ghwbush       0.12      0.28      0.17        25\n",
      "   jefferson       0.00      0.00      0.00        10\n",
      "     kennedy       0.25      0.11      0.15         9\n",
      "     lincoln       0.50      0.59      0.54        29\n",
      "       obama       0.27      0.12      0.17        25\n",
      "      reagan       0.31      0.33      0.32        24\n",
      "  washington       0.00      0.00      0.00         3\n",
      "\n",
      "   micro avg       0.26      0.26      0.26       176\n",
      "   macro avg       0.21      0.20      0.19       176\n",
      "weighted avg       0.26      0.26      0.24       176\n",
      "\n",
      "[[ 1  2  1 10  0  1  0  1  0  0]\n",
      " [ 0  7  0  9  0  0  1  1  1  0]\n",
      " [ 0  4  2  4  0  0  4  1  1  0]\n",
      " [ 2  3  1  7  0  0  6  0  6  0]\n",
      " [ 0  1  0  2  0  0  4  1  2  0]\n",
      " [ 0  2  0  1  0  1  1  1  3  0]\n",
      " [ 1  4  0  4  0  1 17  1  1  0]\n",
      " [ 1  1  3 12  1  0  1  3  3  0]\n",
      " [ 3  4  0  7  0  1  0  1  8  0]\n",
      " [ 0  0  0  1  0  0  0  1  1  0]]\n"
     ]
    },
    {
     "name": "stderr",
     "output_type": "stream",
     "text": [
      "/Users/danmchenry/miniconda3/lib/python3.7/site-packages/sklearn/metrics/classification.py:1143: UndefinedMetricWarning: Precision and F-score are ill-defined and being set to 0.0 in labels with no predicted samples.\n",
      "  'precision', 'predicted', average, warn_for)\n"
     ]
    }
   ],
   "source": [
    "fit_and_predict(boost, params=boost_params, **lsa_kwargs)"
   ]
  },
  {
   "cell_type": "markdown",
   "metadata": {},
   "source": [
    "## Naive Bayes"
   ]
  },
  {
   "cell_type": "markdown",
   "metadata": {},
   "source": [
    "### Tfidf"
   ]
  },
  {
   "cell_type": "code",
   "execution_count": 122,
   "metadata": {
    "ExecuteTime": {
     "end_time": "2019-08-11T02:51:27.770297Z",
     "start_time": "2019-08-11T02:51:27.559831Z"
    }
   },
   "outputs": [
    {
     "name": "stdout",
     "output_type": "stream",
     "text": [
      "The mean cross_val accuracy on train is [0.36311787].\n",
      "The std of the cross_val accuracy is [0.05182334].\n",
      "              precision    recall  f1-score   support\n",
      "\n",
      "     clinton       0.00      0.00      0.00        16\n",
      "  eisenhower       0.50      0.37      0.42        19\n",
      "         fdr       0.40      0.12      0.19        16\n",
      "     ghwbush       0.21      0.64      0.31        25\n",
      "   jefferson       0.00      0.00      0.00        10\n",
      "     kennedy       0.00      0.00      0.00         9\n",
      "     lincoln       0.63      0.59      0.61        29\n",
      "       obama       0.00      0.00      0.00        25\n",
      "      reagan       0.22      0.42      0.29        24\n",
      "  washington       1.00      0.33      0.50         3\n",
      "\n",
      "   micro avg       0.30      0.30      0.30       176\n",
      "   macro avg       0.30      0.25      0.23       176\n",
      "weighted avg       0.27      0.30      0.26       176\n",
      "\n",
      "[[ 0  1  0 11  0  0  0  0  4  0]\n",
      " [ 0  7  0  8  0  0  2  0  2  0]\n",
      " [ 0  1  2  6  0  0  0  0  7  0]\n",
      " [ 0  1  0 16  0  0  1  0  7  0]\n",
      " [ 0  1  0  2  0  1  2  1  3  0]\n",
      " [ 3  0  0  3  0  0  1  0  2  0]\n",
      " [ 0  0  1  8  0  0 17  1  2  0]\n",
      " [ 1  1  1 13  0  0  1  0  8  0]\n",
      " [ 0  2  1  9  0  0  2  0 10  0]\n",
      " [ 0  0  0  1  0  0  1  0  0  1]]\n"
     ]
    },
    {
     "name": "stderr",
     "output_type": "stream",
     "text": [
      "/Users/danmchenry/miniconda3/lib/python3.7/site-packages/sklearn/model_selection/_search.py:841: DeprecationWarning: The default of the `iid` parameter will change from True to False in version 0.22 and will be removed in 0.24. This will change numeric results when test-set sizes are unequal.\n",
      "  DeprecationWarning)\n",
      "/Users/danmchenry/miniconda3/lib/python3.7/site-packages/sklearn/metrics/classification.py:1143: UndefinedMetricWarning: Precision and F-score are ill-defined and being set to 0.0 in labels with no predicted samples.\n",
      "  'precision', 'predicted', average, warn_for)\n"
     ]
    }
   ],
   "source": [
    "fit_and_predict(nb, params=nb_params, **tfidf_kwargs)"
   ]
  },
  {
   "cell_type": "markdown",
   "metadata": {},
   "source": [
    "###  LSA"
   ]
  },
  {
   "cell_type": "code",
   "execution_count": 123,
   "metadata": {
    "ExecuteTime": {
     "end_time": "2019-08-11T02:52:04.358094Z",
     "start_time": "2019-08-11T02:52:04.207516Z"
    }
   },
   "outputs": [
    {
     "name": "stdout",
     "output_type": "stream",
     "text": [
      "The mean cross_val accuracy on train is [0.16920152].\n",
      "The std of the cross_val accuracy is [0.01089522].\n",
      "              precision    recall  f1-score   support\n",
      "\n",
      "     clinton       0.00      0.00      0.00        16\n",
      "  eisenhower       0.00      0.00      0.00        19\n",
      "         fdr       0.00      0.00      0.00        16\n",
      "     ghwbush       0.14      0.92      0.24        25\n",
      "   jefferson       0.00      0.00      0.00        10\n",
      "     kennedy       0.00      0.00      0.00         9\n",
      "     lincoln       0.60      0.10      0.18        29\n",
      "       obama       0.00      0.00      0.00        25\n",
      "      reagan       0.33      0.04      0.07        24\n",
      "  washington       0.00      0.00      0.00         3\n",
      "\n",
      "   micro avg       0.15      0.15      0.15       176\n",
      "   macro avg       0.11      0.11      0.05       176\n",
      "weighted avg       0.16      0.15      0.07       176\n",
      "\n",
      "[[ 0  0  0 16  0  0  0  0  0  0]\n",
      " [ 0  0  0 18  0  0  1  0  0  0]\n",
      " [ 0  0  0 16  0  0  0  0  0  0]\n",
      " [ 0  1  0 23  0  0  1  0  0  0]\n",
      " [ 0  0  0  8  0  0  0  0  2  0]\n",
      " [ 0  0  0  9  0  0  0  0  0  0]\n",
      " [ 0  0  0 26  0  0  3  0  0  0]\n",
      " [ 0  0  0 25  0  0  0  0  0  0]\n",
      " [ 0  0  0 23  0  0  0  0  1  0]\n",
      " [ 0  0  0  3  0  0  0  0  0  0]]\n"
     ]
    },
    {
     "name": "stderr",
     "output_type": "stream",
     "text": [
      "/Users/danmchenry/miniconda3/lib/python3.7/site-packages/sklearn/metrics/classification.py:1143: UndefinedMetricWarning: Precision and F-score are ill-defined and being set to 0.0 in labels with no predicted samples.\n",
      "  'precision', 'predicted', average, warn_for)\n"
     ]
    }
   ],
   "source": [
    "fit_and_predict(nb, params=nb_params, **lsa_kwargs)"
   ]
  },
  {
   "cell_type": "markdown",
   "metadata": {
    "ExecuteTime": {
     "end_time": "2019-08-03T20:20:36.652787Z",
     "start_time": "2019-08-03T20:20:36.547143Z"
    }
   },
   "source": [
    "# Neural Network"
   ]
  },
  {
   "cell_type": "markdown",
   "metadata": {},
   "source": [
    "## *Note: there are not enough data to effectively run a neural network on this project. Section 5 is merely going through the process for the sake of the capstone.*"
   ]
  },
  {
   "cell_type": "code",
   "execution_count": 126,
   "metadata": {
    "ExecuteTime": {
     "end_time": "2019-08-11T02:53:52.193487Z",
     "start_time": "2019-08-11T02:53:48.409614Z"
    }
   },
   "outputs": [
    {
     "data": {
      "text/plain": [
       "MLPClassifier(activation='relu', alpha=0.05, batch_size='auto', beta_1=0.9,\n",
       "       beta_2=0.999, early_stopping=False, epsilon=1e-08,\n",
       "       hidden_layer_sizes=(3,), learning_rate='constant',\n",
       "       learning_rate_init=0.001, max_iter=5000, momentum=0.9,\n",
       "       n_iter_no_change=10, nesterovs_momentum=True, power_t=0.5,\n",
       "       random_state=15, shuffle=True, solver='adam', tol=0.0001,\n",
       "       validation_fraction=0.1, verbose=False, warm_start=False)"
      ]
     },
     "execution_count": 126,
     "metadata": {},
     "output_type": "execute_result"
    }
   ],
   "source": [
    "# Establish and fit the multi-level perceptron model.\n",
    "mlp = MLPClassifier(\n",
    "    hidden_layer_sizes=(3,), random_state=15, max_iter=5000, alpha=0.05)\n",
    "mlp.fit(X_train_tfidf, y_train)"
   ]
  },
  {
   "cell_type": "code",
   "execution_count": 127,
   "metadata": {
    "ExecuteTime": {
     "end_time": "2019-08-11T02:54:14.937354Z",
     "start_time": "2019-08-11T02:54:14.928398Z"
    }
   },
   "outputs": [
    {
     "data": {
      "text/plain": [
       "0.7718631178707225"
      ]
     },
     "execution_count": 127,
     "metadata": {},
     "output_type": "execute_result"
    }
   ],
   "source": [
    "# Find MLP score.\n",
    "mlp.score(X_train_tfidf, y_train)"
   ]
  },
  {
   "cell_type": "code",
   "execution_count": 128,
   "metadata": {
    "ExecuteTime": {
     "end_time": "2019-08-11T02:54:50.772414Z",
     "start_time": "2019-08-11T02:54:36.211012Z"
    }
   },
   "outputs": [
    {
     "data": {
      "text/plain": [
       "array([0.22727273, 0.22222222, 0.24528302, 0.2745098 , 0.24      ])"
      ]
     },
     "execution_count": 128,
     "metadata": {},
     "output_type": "execute_result"
    }
   ],
   "source": [
    "# Find cross-validation score.\n",
    "cross_val_score(mlp, X_train_tfidf, y_train, cv=5)"
   ]
  },
  {
   "cell_type": "code",
   "execution_count": 129,
   "metadata": {
    "ExecuteTime": {
     "end_time": "2019-08-11T02:55:27.215640Z",
     "start_time": "2019-08-11T02:55:19.791630Z"
    }
   },
   "outputs": [
    {
     "data": {
      "text/plain": [
       "MLPClassifier(activation='relu', alpha=0.01, batch_size='auto', beta_1=0.9,\n",
       "       beta_2=0.999, early_stopping=False, epsilon=1e-08,\n",
       "       hidden_layer_sizes=(5, 2), learning_rate='constant',\n",
       "       learning_rate_init=0.001, max_iter=5000, momentum=0.9,\n",
       "       n_iter_no_change=10, nesterovs_momentum=True, power_t=0.5,\n",
       "       random_state=15, shuffle=True, solver='adam', tol=0.0001,\n",
       "       validation_fraction=0.1, verbose=False, warm_start=False)"
      ]
     },
     "execution_count": 129,
     "metadata": {},
     "output_type": "execute_result"
    }
   ],
   "source": [
    "# Adjust hidden layer parameters.\n",
    "mlp1 = MLPClassifier(\n",
    "    hidden_layer_sizes=(5,2,), random_state=15, max_iter=5000, alpha=0.01)\n",
    "mlp1.fit(X_train_tfidf, y_train)"
   ]
  },
  {
   "cell_type": "code",
   "execution_count": 130,
   "metadata": {
    "ExecuteTime": {
     "end_time": "2019-08-11T02:56:21.991961Z",
     "start_time": "2019-08-11T02:56:21.978480Z"
    },
    "run_control": {
     "marked": false
    }
   },
   "outputs": [
    {
     "data": {
      "text/plain": [
       "0.8897338403041825"
      ]
     },
     "execution_count": 130,
     "metadata": {},
     "output_type": "execute_result"
    }
   ],
   "source": [
    "# Find accuracy score.\n",
    "mlp1.score(X_train_tfidf, y_train)"
   ]
  },
  {
   "cell_type": "code",
   "execution_count": 131,
   "metadata": {
    "ExecuteTime": {
     "end_time": "2019-08-11T02:58:04.327976Z",
     "start_time": "2019-08-11T02:57:40.755319Z"
    }
   },
   "outputs": [
    {
     "data": {
      "text/plain": [
       "array([0.20909091, 0.19444444, 0.19811321, 0.25490196, 0.15      ])"
      ]
     },
     "execution_count": 131,
     "metadata": {},
     "output_type": "execute_result"
    }
   ],
   "source": [
    "# Cross-validation.\n",
    "cross_val_score(mlp1, X_train_tfidf, y_train, cv=5)"
   ]
  },
  {
   "cell_type": "code",
   "execution_count": 132,
   "metadata": {
    "ExecuteTime": {
     "end_time": "2019-08-11T02:58:31.213214Z",
     "start_time": "2019-08-11T02:58:25.617174Z"
    }
   },
   "outputs": [
    {
     "data": {
      "text/plain": [
       "MLPClassifier(activation='relu', alpha=0.05, batch_size='auto', beta_1=0.9,\n",
       "       beta_2=0.999, early_stopping=False, epsilon=1e-08,\n",
       "       hidden_layer_sizes=(5, 2), learning_rate='constant',\n",
       "       learning_rate_init=0.001, max_iter=5000, momentum=0.9,\n",
       "       n_iter_no_change=10, nesterovs_momentum=True, power_t=0.5,\n",
       "       random_state=15, shuffle=True, solver='adam', tol=0.0001,\n",
       "       validation_fraction=0.1, verbose=False, warm_start=False)"
      ]
     },
     "execution_count": 132,
     "metadata": {},
     "output_type": "execute_result"
    }
   ],
   "source": [
    "# Adjust hidden layer parameters.\n",
    "mlp2 = MLPClassifier(\n",
    "    hidden_layer_sizes=(5,2,), random_state=15, max_iter=5000, alpha=0.05)\n",
    "mlp2.fit(X_train_tfidf, y_train)"
   ]
  },
  {
   "cell_type": "code",
   "execution_count": 133,
   "metadata": {
    "ExecuteTime": {
     "end_time": "2019-08-11T02:58:58.897635Z",
     "start_time": "2019-08-11T02:58:58.882440Z"
    }
   },
   "outputs": [
    {
     "data": {
      "text/plain": [
       "0.8878326996197718"
      ]
     },
     "execution_count": 133,
     "metadata": {},
     "output_type": "execute_result"
    }
   ],
   "source": [
    "# Find accuracy score.\n",
    "mlp2.score(X_train_tfidf, y_train)"
   ]
  },
  {
   "cell_type": "code",
   "execution_count": 134,
   "metadata": {
    "ExecuteTime": {
     "end_time": "2019-08-11T03:00:11.735059Z",
     "start_time": "2019-08-11T02:59:50.635960Z"
    }
   },
   "outputs": [
    {
     "data": {
      "text/plain": [
       "array([0.22727273, 0.19444444, 0.19811321, 0.2745098 , 0.15      ])"
      ]
     },
     "execution_count": 134,
     "metadata": {},
     "output_type": "execute_result"
    }
   ],
   "source": [
    "# Cross-validation.\n",
    "cross_val_score(mlp2, X_train_tfidf, y_train, cv=5)"
   ]
  },
  {
   "cell_type": "code",
   "execution_count": 135,
   "metadata": {
    "ExecuteTime": {
     "end_time": "2019-08-11T03:00:32.951720Z",
     "start_time": "2019-08-11T03:00:32.947821Z"
    }
   },
   "outputs": [],
   "source": [
    "#fit_and_predict(log_reg, params=log_reg_params, **bow_kwargs)"
   ]
  },
  {
   "cell_type": "code",
   "execution_count": 136,
   "metadata": {
    "ExecuteTime": {
     "end_time": "2019-08-11T03:00:54.202586Z",
     "start_time": "2019-08-11T03:00:54.197862Z"
    },
    "scrolled": false
   },
   "outputs": [],
   "source": [
    "#fit_and_predict(tree, params=tree_params, **bow_kwargs)"
   ]
  },
  {
   "cell_type": "code",
   "execution_count": 137,
   "metadata": {
    "ExecuteTime": {
     "end_time": "2019-08-11T03:01:15.651684Z",
     "start_time": "2019-08-11T03:01:15.646715Z"
    }
   },
   "outputs": [],
   "source": [
    "#fit_and_predict(forest, params=forest_params, **bow_kwargs)"
   ]
  },
  {
   "cell_type": "code",
   "execution_count": 138,
   "metadata": {
    "ExecuteTime": {
     "end_time": "2019-08-11T03:01:36.942467Z",
     "start_time": "2019-08-11T03:01:36.938843Z"
    }
   },
   "outputs": [],
   "source": [
    "#fit_and_predict(boost, params=boost_params, **bow_kwargs)"
   ]
  },
  {
   "cell_type": "code",
   "execution_count": 139,
   "metadata": {
    "ExecuteTime": {
     "end_time": "2019-08-11T03:01:57.902823Z",
     "start_time": "2019-08-11T03:01:57.899094Z"
    }
   },
   "outputs": [],
   "source": [
    "#fit_and_predict(nb, params=nb_params, **bow_kwargs)"
   ]
  },
  {
   "cell_type": "code",
   "execution_count": null,
   "metadata": {},
   "outputs": [],
   "source": []
  }
 ],
 "metadata": {
  "kernelspec": {
   "display_name": "Python 3",
   "language": "python",
   "name": "python3"
  },
  "language_info": {
   "codemirror_mode": {
    "name": "ipython",
    "version": 3
   },
   "file_extension": ".py",
   "mimetype": "text/x-python",
   "name": "python",
   "nbconvert_exporter": "python",
   "pygments_lexer": "ipython3",
   "version": "3.7.3"
  },
  "toc": {
   "base_numbering": 1,
   "nav_menu": {},
   "number_sections": true,
   "sideBar": true,
   "skip_h1_title": false,
   "title_cell": "Table of Contents",
   "title_sidebar": "Contents",
   "toc_cell": false,
   "toc_position": {},
   "toc_section_display": true,
   "toc_window_display": false
  },
  "varInspector": {
   "cols": {
    "lenName": 16,
    "lenType": 16,
    "lenVar": 40
   },
   "kernels_config": {
    "python": {
     "delete_cmd_postfix": "",
     "delete_cmd_prefix": "del ",
     "library": "var_list.py",
     "varRefreshCmd": "print(var_dic_list())"
    },
    "r": {
     "delete_cmd_postfix": ") ",
     "delete_cmd_prefix": "rm(",
     "library": "var_list.r",
     "varRefreshCmd": "cat(var_dic_list()) "
    }
   },
   "oldHeight": 277,
   "position": {
    "height": "299px",
    "left": "893px",
    "right": "20px",
    "top": "111px",
    "width": "508px"
   },
   "types_to_exclude": [
    "module",
    "function",
    "builtin_function_or_method",
    "instance",
    "_Feature"
   ],
   "varInspector_section_display": "block",
   "window_display": true
  }
 },
 "nbformat": 4,
 "nbformat_minor": 2
}
