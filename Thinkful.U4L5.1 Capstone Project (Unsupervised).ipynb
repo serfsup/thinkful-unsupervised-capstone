{
 "cells": [
  {
   "cell_type": "markdown",
   "metadata": {},
   "source": [
    "For this project you'll dig into a large amount of text and apply most of what you've covered in this unit and in the course so far.\n",
    "\n",
    "First, pick a set of texts. This can be either a series of novels, chapters, or articles. Anything you'd like. It just has to have multiple entries of varying characteristics. At least 100 should be good. There should also be at least 10 different authors, but try to keep the texts related (either all on the same topic of from the same branch of literature - something to make classification a bit more difficult than obviously different subjects).\n",
    "\n",
    "This capstone can be an extension of your NLP challenge if you wish to use the same corpus. If you found problems with that data set that limited your analysis, however, it may be worth using what you learned to choose a new corpus. Reserve 25% of your corpus as a test set.\n",
    "\n",
    "The first technique is to create a series of clusters. Try several techniques and pick the one you think best represents your data. Make sure there is a narrative and reasoning around why you have chosen the given clusters. Are authors consistently grouped into the same cluster?\n",
    "\n",
    "Next, perform some unsupervised feature generation and selection using the techniques covered in this unit and elsewhere in the course. Using those features then build models to attempt to classify your texts by author. Try different permutations of unsupervised and supervised techniques to see which combinations have the best performance.\n",
    "\n",
    "Lastly return to your holdout group. Does your clustering on those members perform as you'd expect? Have your clusters remained stable or changed dramatically? What about your model? Is it's performance consistent?\n",
    "\n",
    "If there is a divergence in the relative stability of your model and your clusters, delve into why.\n",
    "\n",
    "Your end result should be a write up of how clustering and modeling compare for classifying your texts. What are the advantages of each? Why would you want to use one over the other? Approximately 3-5 pages is a good length for your write up, and remember to include visuals to help tell your story!"
   ]
  },
  {
   "cell_type": "code",
   "execution_count": 1,
   "metadata": {
    "ExecuteTime": {
     "end_time": "2019-07-20T15:03:24.471997Z",
     "start_time": "2019-07-20T15:03:19.654200Z"
    }
   },
   "outputs": [],
   "source": [
    "# Set up data science environment.\n",
    "import numpy as np\n",
    "import pandas as pd\n",
    "import matplotlib.pyplot as plt\n",
    "import sklearn\n",
    "import spacy\n",
    "import scipy\n",
    "import seaborn as sns\n",
    "import re\n",
    "from nltk.corpus import inaugural, stopwords\n",
    "from collections import Counter\n",
    "%matplotlib inline"
   ]
  },
  {
   "cell_type": "code",
   "execution_count": 34,
   "metadata": {
    "ExecuteTime": {
     "end_time": "2019-07-20T16:44:31.340433Z",
     "start_time": "2019-07-20T16:44:31.317409Z"
    }
   },
   "outputs": [
    {
     "data": {
      "text/plain": [
       "['1789-Washington.txt',\n",
       " '1793-Washington.txt',\n",
       " '1797-Adams.txt',\n",
       " '1801-Jefferson.txt',\n",
       " '1805-Jefferson.txt',\n",
       " '1809-Madison.txt',\n",
       " '1813-Madison.txt',\n",
       " '1817-Monroe.txt',\n",
       " '1821-Monroe.txt',\n",
       " '1825-Adams.txt',\n",
       " '1829-Jackson.txt',\n",
       " '1833-Jackson.txt',\n",
       " '1837-VanBuren.txt',\n",
       " '1841-Harrison.txt',\n",
       " '1845-Polk.txt',\n",
       " '1849-Taylor.txt',\n",
       " '1853-Pierce.txt',\n",
       " '1857-Buchanan.txt',\n",
       " '1861-Lincoln.txt',\n",
       " '1865-Lincoln.txt',\n",
       " '1869-Grant.txt',\n",
       " '1873-Grant.txt',\n",
       " '1877-Hayes.txt',\n",
       " '1881-Garfield.txt',\n",
       " '1885-Cleveland.txt',\n",
       " '1889-Harrison.txt',\n",
       " '1893-Cleveland.txt',\n",
       " '1897-McKinley.txt',\n",
       " '1901-McKinley.txt',\n",
       " '1905-Roosevelt.txt',\n",
       " '1909-Taft.txt',\n",
       " '1913-Wilson.txt',\n",
       " '1917-Wilson.txt',\n",
       " '1921-Harding.txt',\n",
       " '1925-Coolidge.txt',\n",
       " '1929-Hoover.txt',\n",
       " '1933-Roosevelt.txt',\n",
       " '1937-Roosevelt.txt',\n",
       " '1941-Roosevelt.txt',\n",
       " '1945-Roosevelt.txt',\n",
       " '1949-Truman.txt',\n",
       " '1953-Eisenhower.txt',\n",
       " '1957-Eisenhower.txt',\n",
       " '1961-Kennedy.txt',\n",
       " '1965-Johnson.txt',\n",
       " '1969-Nixon.txt',\n",
       " '1973-Nixon.txt',\n",
       " '1977-Carter.txt',\n",
       " '1981-Reagan.txt',\n",
       " '1985-Reagan.txt',\n",
       " '1989-Bush.txt',\n",
       " '1993-Clinton.txt',\n",
       " '1997-Clinton.txt',\n",
       " '2001-Bush.txt',\n",
       " '2005-Bush.txt',\n",
       " '2009-Obama.txt']"
      ]
     },
     "execution_count": 34,
     "metadata": {},
     "output_type": "execute_result"
    }
   ],
   "source": [
    "# Utility function to clean text.\n",
    "def text_cleaner(text):\n",
    "    text = re.sub(r'--', ' ', text)\n",
    "    text = re.sub(\"[\\[].*?[\\]]\", \"\", text)\n",
    "    text = re.sub(\"[\\<].*?[\\>]\", \"\", text)\n",
    "    text = ' '.join(text.split())\n",
    "    text = re.sub(r'\\\\n', ' ', text)\n",
    "\n",
    "    return text[0:900000]\n",
    "\n",
    "\n",
    "# View text lists.\n",
    "inaugural.fileids()"
   ]
  },
  {
   "cell_type": "code",
   "execution_count": 35,
   "metadata": {
    "ExecuteTime": {
     "end_time": "2019-07-20T16:44:36.627717Z",
     "start_time": "2019-07-20T16:44:36.609769Z"
    }
   },
   "outputs": [],
   "source": [
    "# Import first inaugural address for each of ten Presidents.\n",
    "washington = inaugural.raw(\"1789-Washington.txt\")\n",
    "jefferson = inaugural.raw(\"1801-Jefferson.txt\")\n",
    "lincoln = inaugural.raw(\"1861-Lincoln.txt\")\n",
    "roosevelt2 = inaugural.raw(\"1933-Roosevelt.txt\")\n",
    "eisenhower = inaugural.raw(\"1953-Eisenhower.txt\")\n",
    "kennedy = inaugural.raw(\"1961-Kennedy.txt\")\n",
    "reagan = inaugural.raw(\"1981-Reagan.txt\")\n",
    "bush = inaugural.raw(\"1989-Bush.txt\")\n",
    "clinton = inaugural.raw(\"1993-Clinton.txt\")\n",
    "obama = inaugural.raw(\"2009-Obama.txt\")"
   ]
  },
  {
   "cell_type": "code",
   "execution_count": 4,
   "metadata": {
    "ExecuteTime": {
     "end_time": "2019-07-20T15:03:24.560410Z",
     "start_time": "2019-07-20T15:03:24.553237Z"
    }
   },
   "outputs": [],
   "source": [
    "# Load and clean data.\n",
    "washington_clean = text_cleaner(washington)\n",
    "jefferson_clean = text_cleaner(jefferson)\n",
    "lincoln_clean = text_cleaner(jefferson)\n",
    "roosevelt2_clean = text_cleaner(roosevelt2)\n",
    "eisenhower_clean = text_cleaner(eisenhower)\n",
    "kennedy_clean = text_cleaner(kennedy)\n",
    "reagan_clean = text_cleaner(reagan)\n",
    "bush_clean = text_cleaner(bush)\n",
    "clinton_clean = text_cleaner(clinton)\n",
    "obama_clean = text_cleaner(obama)"
   ]
  },
  {
   "cell_type": "code",
   "execution_count": 5,
   "metadata": {
    "ExecuteTime": {
     "end_time": "2019-07-20T15:03:24.571037Z",
     "start_time": "2019-07-20T15:03:24.564672Z"
    }
   },
   "outputs": [
    {
     "data": {
      "text/plain": [
       "'Fellow-Citizens of the Senate and of the House of Representatives: Among the vicissitudes incident to life no event could have filled me with greater anxieties than that of which the notification was transmitted by your order, and received on the 14th day of the present month. On the one hand, I was summoned by my Country, whose voice I can never hear but with veneration and love, from a retreat which I had chosen with the fondest predilection, and, in my flattering hopes, with an immutable decision, as the asylum of my declining years a retreat which was rendered every day more necessary as well as more dear to me by the addition of habit to inclination, and of frequent interruptions in my health to the gradual waste committed on it by time. On the other hand, the magnitude and difficulty of the trust to which the voice of my country called me, being sufficient to awaken in the wisest and most experienced of her citizens a distrustful scrutiny into his qualifications, could not but ov'"
      ]
     },
     "execution_count": 5,
     "metadata": {},
     "output_type": "execute_result"
    }
   ],
   "source": [
    "# Print the first 100 characters of each address.\n",
    "presidents = [washington_clean,\n",
    "              jefferson_clean,\n",
    "              lincoln_clean,\n",
    "              roosevelt2_clean,\n",
    "              eisenhower_clean,\n",
    "              kennedy_clean,\n",
    "              reagan_clean,\n",
    "              bush_clean,\n",
    "              clinton_clean,\n",
    "              obama_clean]\n",
    "\n",
    "washington_clean[:1000]"
   ]
  },
  {
   "cell_type": "code",
   "execution_count": 6,
   "metadata": {
    "ExecuteTime": {
     "end_time": "2019-07-20T15:03:24.582591Z",
     "start_time": "2019-07-20T15:03:24.575310Z"
    }
   },
   "outputs": [
    {
     "data": {
      "text/plain": [
       "'Friends and Fellow Citizens: Called upon to undertake the duties of the first executive office of our country, I avail myself of the presence of that portion of my fellow citizens which is here assembled to express my grateful thanks for the favor with which they have been pleased to look toward me, to declare a sincere consciousness that the task is above my talents, and that I approach it with those anxious and awful presentiments which the greatness of the charge and the weakness of my powers so justly inspire. A rising nation, spread over a wide and fruitful land, traversing all the seas with the rich productions of their industry, engaged in commerce with nations who feel power and forget right, advancing rapidly to destinies beyond the reach of mortal eye when I contemplate these transcendent objects, and see the honor, the happiness, and the hopes of this beloved country committed to the issue, and the auspices of this day, I shrink from the contemplation, and humble myself befo'"
      ]
     },
     "execution_count": 6,
     "metadata": {},
     "output_type": "execute_result"
    }
   ],
   "source": [
    "jefferson_clean[:1000]"
   ]
  },
  {
   "cell_type": "code",
   "execution_count": 7,
   "metadata": {
    "ExecuteTime": {
     "end_time": "2019-07-20T15:03:24.595710Z",
     "start_time": "2019-07-20T15:03:24.587668Z"
    }
   },
   "outputs": [
    {
     "data": {
      "text/plain": [
       "'Friends and Fellow Citizens: Called upon to undertake the duties of the first executive office of our country, I avail myself of the presence of that portion of my fellow citizens which is here assembled to express my grateful thanks for the favor with which they have been pleased to look toward me, to declare a sincere consciousness that the task is above my talents, and that I approach it with those anxious and awful presentiments which the greatness of the charge and the weakness of my powers so justly inspire. A rising nation, spread over a wide and fruitful land, traversing all the seas with the rich productions of their industry, engaged in commerce with nations who feel power and forget right, advancing rapidly to destinies beyond the reach of mortal eye when I contemplate these transcendent objects, and see the honor, the happiness, and the hopes of this beloved country committed to the issue, and the auspices of this day, I shrink from the contemplation, and humble myself befo'"
      ]
     },
     "execution_count": 7,
     "metadata": {},
     "output_type": "execute_result"
    }
   ],
   "source": [
    "lincoln_clean[:1000]"
   ]
  },
  {
   "cell_type": "code",
   "execution_count": 8,
   "metadata": {
    "ExecuteTime": {
     "end_time": "2019-07-20T15:03:24.606975Z",
     "start_time": "2019-07-20T15:03:24.600387Z"
    }
   },
   "outputs": [
    {
     "data": {
      "text/plain": [
       "'I am certain that my fellow Americans expect that on my induction into the Presidency I will address them with a candor and a decision which the present situation of our Nation impels. This is preeminently the time to speak the truth, the whole truth, frankly and boldly. Nor need we shrink from honestly facing conditions in our country today. This great Nation will endure as it has endured, will revive and will prosper. So, first of all, let me assert my firm belief that the only thing we have to fear is fear itself nameless, unreasoning, unjustified terror which paralyzes needed efforts to convert retreat into advance. In every dark hour of our national life a leadership of frankness and vigor has met with that understanding and support of the people themselves which is essential to victory. I am convinced that you will again give that support to leadership in these critical days. In such a spirit on my part and on yours we face our common difficulties. They concern, thank God, only m'"
      ]
     },
     "execution_count": 8,
     "metadata": {},
     "output_type": "execute_result"
    }
   ],
   "source": [
    "roosevelt2_clean[:1000]"
   ]
  },
  {
   "cell_type": "code",
   "execution_count": 9,
   "metadata": {
    "ExecuteTime": {
     "end_time": "2019-07-20T15:03:24.616269Z",
     "start_time": "2019-07-20T15:03:24.610225Z"
    }
   },
   "outputs": [
    {
     "data": {
      "text/plain": [
       "'My friends, before I begin the expression of those thoughts that I deem appropriate to this moment, would you permit me the privilege of uttering a little private prayer of my own. And I ask that you bow your heads: Almighty God, as we stand here at this moment my future associates in the executive branch of government join me in beseeching that Thou will make full and complete our dedication to the service of the people in this throng, and their fellow citizens everywhere. Give us, we pray, the power to discern clearly right from wrong, and allow all our words and actions to be governed thereby, and by the laws of this land. Especially we pray that our concern shall be for all the people regardless of station, race, or calling. May cooperation be permitted and be the mutual aim of those who, under the concepts of our Constitution, hold to differing political faiths; so that all may work for the good of our beloved country and Thy glory. Amen. My fellow citizens: The world and we have '"
      ]
     },
     "execution_count": 9,
     "metadata": {},
     "output_type": "execute_result"
    }
   ],
   "source": [
    "eisenhower_clean[:1000]"
   ]
  },
  {
   "cell_type": "code",
   "execution_count": 10,
   "metadata": {
    "ExecuteTime": {
     "end_time": "2019-07-20T15:03:24.627249Z",
     "start_time": "2019-07-20T15:03:24.618727Z"
    }
   },
   "outputs": [
    {
     "data": {
      "text/plain": [
       "'Vice President Johnson, Mr. Speaker, Mr. Chief Justice, President Eisenhower, Vice President Nixon, President Truman, reverend clergy, fellow citizens, we observe today not a victory of party, but a celebration of freedom symbolizing an end, as well as a beginning signifying renewal, as well as change. For I have sworn I before you and Almighty God the same solemn oath our forebears l prescribed nearly a century and three quarters ago. The world is very different now. For man holds in his mortal hands the power to abolish all forms of human poverty and all forms of human life. And yet the same revolutionary beliefs for which our forebears fought are still at issue around the globe the belief that the rights of man come not from the generosity of the state, but from the hand of God. We dare not forget today that we are the heirs of that first revolution. Let the word go forth from this time and place, to friend and foe alike, that the torch has been passed to a new generation of America'"
      ]
     },
     "execution_count": 10,
     "metadata": {},
     "output_type": "execute_result"
    }
   ],
   "source": [
    "kennedy_clean[:1000]"
   ]
  },
  {
   "cell_type": "code",
   "execution_count": 11,
   "metadata": {
    "ExecuteTime": {
     "end_time": "2019-07-20T15:03:24.636846Z",
     "start_time": "2019-07-20T15:03:24.632215Z"
    }
   },
   "outputs": [
    {
     "data": {
      "text/plain": [
       "\"Senator Hatfield, Mr. Chief Justice, Mr. President, Vice President Bush, Vice President Mondale, Senator Baker, Speaker O'Neill, Reverend Moomaw, and my fellow citizens: To a few of us here today, this is a solemn and most momentous occasion; and yet, in the history of our Nation, it is a commonplace occurrence. The orderly transfer of authority as called for in the Constitution routinely takes place as it has for almost two centuries and few of us stop to think how unique we really are. In the eyes of many in the world, this every-4-year ceremony we accept as normal is nothing less than a miracle. Mr. President, I want our fellow citizens to know how much you did to carry on this tradition. By your gracious cooperation in the transition process, you have shown a watching world that we are a united people pledged to maintaining a political system which guarantees individual liberty to a greater degree than any other, and I thank you and your people for all your help in maintaining the \""
      ]
     },
     "execution_count": 11,
     "metadata": {},
     "output_type": "execute_result"
    }
   ],
   "source": [
    "reagan_clean[:1000]"
   ]
  },
  {
   "cell_type": "code",
   "execution_count": 12,
   "metadata": {
    "ExecuteTime": {
     "end_time": "2019-07-20T15:03:24.649347Z",
     "start_time": "2019-07-20T15:03:24.638843Z"
    }
   },
   "outputs": [
    {
     "data": {
      "text/plain": [
       "\"Mr. Chief Justice, Mr. President, Vice President Quayle, Senator Mitchell, Speaker Wright, Senator Dole, Congressman Michael, and fellow citizens, neighbors, and friends: There is a man here who has earned a lasting place in our hearts and in our history. President Reagan, on behalf of our Nation, I thank you for the wonderful things that you have done for America. I have just repeated word for word the oath taken by George Washington 200 years ago, and the Bible on which I placed my hand is the Bible on which he placed his. It is right that the memory of Washington be with us today, not only because this is our Bicentennial Inauguration, but because Washington remains the Father of our Country. And he would, I think, be gladdened by this day; for today is the concrete expression of a stunning fact: our continuity these 200 years since our government began. We meet on democracy's front porch, a good place to talk as neighbors and as friends. For this is a day when our nation is made wh\""
      ]
     },
     "execution_count": 12,
     "metadata": {},
     "output_type": "execute_result"
    }
   ],
   "source": [
    "bush_clean[:1000]"
   ]
  },
  {
   "cell_type": "code",
   "execution_count": 13,
   "metadata": {
    "ExecuteTime": {
     "end_time": "2019-07-20T15:03:24.659311Z",
     "start_time": "2019-07-20T15:03:24.652517Z"
    }
   },
   "outputs": [
    {
     "data": {
      "text/plain": [
       "\"My fellow citizens, today we celebrate the mystery of American renewal. This ceremony is held in the depth of winter, but by the words we speak and the faces we show the world, we force the spring. A spring reborn in the world's oldest democracy, that brings forth the vision and courage to reinvent America. When our founders boldly declared America's independence to the world, and our purposes to the Almighty, they knew that America, to endure, would have to change. Not change for change sake, but change to preserve America's ideals: life, liberty, the pursuit of happiness. Though we march to the music of our time, our mission is timeless. Each generation of American's must define what it means to be an American. On behalf of our nation, I salute my predecessor, President Bush, for his half-century of service to America and I thank the millions of men and women whose steadfastness and sacrifice triumphed over depression, fascism and communism. Today, a generation raised in the shadows \""
      ]
     },
     "execution_count": 13,
     "metadata": {},
     "output_type": "execute_result"
    }
   ],
   "source": [
    "clinton_clean[:1000]"
   ]
  },
  {
   "cell_type": "code",
   "execution_count": 14,
   "metadata": {
    "ExecuteTime": {
     "end_time": "2019-07-20T15:03:24.670174Z",
     "start_time": "2019-07-20T15:03:24.663374Z"
    }
   },
   "outputs": [
    {
     "data": {
      "text/plain": [
       "'My fellow citizens: I stand here today humbled by the task before us, grateful for the trust you have bestowed, mindful of the sacrifices borne by our ancestors. I thank President Bush for his service to our nation, as well as the generosity and cooperation he has shown throughout this transition. Forty-four Americans have now taken the presidential oath. The words have been spoken during rising tides of prosperity and the still waters of peace. Yet, every so often the oath is taken amidst gathering clouds and raging storms. At these moments, America has carried on not simply because of the skill or vision of those in high office, but because We the People have remained faithful to the ideals of our forbearers, and true to our founding documents. So it has been. So it must be with this generation of Americans. That we are in the midst of crisis is now well understood. Our nation is at war, against a far-reaching network of violence and hatred. Our economy is badly weakened, a consequen'"
      ]
     },
     "execution_count": 14,
     "metadata": {},
     "output_type": "execute_result"
    }
   ],
   "source": [
    "obama_clean[:1000]"
   ]
  },
  {
   "cell_type": "code",
   "execution_count": 15,
   "metadata": {
    "ExecuteTime": {
     "end_time": "2019-07-20T15:03:30.779841Z",
     "start_time": "2019-07-20T15:03:24.673267Z"
    }
   },
   "outputs": [],
   "source": [
    "# Parse the data. This can take some time.\n",
    "nlp = spacy.load('en')\n",
    "washington_doc = nlp(washington_clean)\n",
    "jefferson_doc = nlp(jefferson_clean)\n",
    "lincoln_doc = nlp(lincoln_clean)\n",
    "roosevelt2_doc = nlp(roosevelt2_clean)\n",
    "eisenhower_doc = nlp(eisenhower_clean)\n",
    "kennedy_doc = nlp(kennedy_clean)\n",
    "reagan_doc = nlp(reagan_clean)\n",
    "bush_doc = nlp(bush_clean)\n",
    "clinton_doc = nlp(clinton_clean)\n",
    "obama_doc = nlp(obama_clean)"
   ]
  },
  {
   "cell_type": "code",
   "execution_count": 16,
   "metadata": {
    "ExecuteTime": {
     "end_time": "2019-07-20T15:03:30.796961Z",
     "start_time": "2019-07-20T15:03:30.782397Z"
    }
   },
   "outputs": [],
   "source": [
    "# Group into sentences.\n",
    "washington_sents = [[sent, \"Washington\"] for sent in washington_doc.sents]\n",
    "jefferson_sents = [[sent, \"Jefferson\"] for sent in jefferson_doc.sents]\n",
    "lincoln_sents = [[sent, \"Lincoln\"] for sent in lincoln_doc.sents]\n",
    "roosevelt2_sents = [[sent, \"Roosevelt\"] for sent in roosevelt2_doc.sents]\n",
    "eisenhower_sents = [[sent, \"Eisenhower\"] for sent in eisenhower_doc.sents]\n",
    "kennedy_sents = [[sent, \"Kennedy\"] for sent in kennedy_doc.sents]\n",
    "reagan_sents = [[sent, \"Reagan\"] for sent in reagan_doc.sents]\n",
    "bush_sents = [[sent, \"Bush\"] for sent in bush_doc.sents]\n",
    "clinton_sents = [[sent, \"Clinton\"] for sent in clinton_doc.sents]\n",
    "obama_sents = [[sent, \"Obama\"] for sent in obama_doc.sents]"
   ]
  },
  {
   "cell_type": "code",
   "execution_count": 17,
   "metadata": {
    "ExecuteTime": {
     "end_time": "2019-07-20T15:03:30.830791Z",
     "start_time": "2019-07-20T15:03:30.800130Z"
    }
   },
   "outputs": [
    {
     "data": {
      "text/html": [
       "<div>\n",
       "<style scoped>\n",
       "    .dataframe tbody tr th:only-of-type {\n",
       "        vertical-align: middle;\n",
       "    }\n",
       "\n",
       "    .dataframe tbody tr th {\n",
       "        vertical-align: top;\n",
       "    }\n",
       "\n",
       "    .dataframe thead th {\n",
       "        text-align: right;\n",
       "    }\n",
       "</style>\n",
       "<table border=\"1\" class=\"dataframe\">\n",
       "  <thead>\n",
       "    <tr style=\"text-align: right;\">\n",
       "      <th></th>\n",
       "      <th>0</th>\n",
       "      <th>1</th>\n",
       "    </tr>\n",
       "  </thead>\n",
       "  <tbody>\n",
       "    <tr>\n",
       "      <th>0</th>\n",
       "      <td>(Fellow, -, Citizens, of, the, Senate, and, of...</td>\n",
       "      <td>Washington</td>\n",
       "    </tr>\n",
       "    <tr>\n",
       "      <th>1</th>\n",
       "      <td>(Among, the, vicissitudes, incident, to, life,...</td>\n",
       "      <td>Washington</td>\n",
       "    </tr>\n",
       "    <tr>\n",
       "      <th>2</th>\n",
       "      <td>(On, the, one, hand, ,, I, was, summoned, by, ...</td>\n",
       "      <td>Washington</td>\n",
       "    </tr>\n",
       "    <tr>\n",
       "      <th>3</th>\n",
       "      <td>(On, the, other, hand, ,, the, magnitude, and,...</td>\n",
       "      <td>Washington</td>\n",
       "    </tr>\n",
       "    <tr>\n",
       "      <th>4</th>\n",
       "      <td>(In, this, conflict, of, emotions, all, I, dar...</td>\n",
       "      <td>Washington</td>\n",
       "    </tr>\n",
       "  </tbody>\n",
       "</table>\n",
       "</div>"
      ],
      "text/plain": [
       "                                                   0           1\n",
       "0  (Fellow, -, Citizens, of, the, Senate, and, of...  Washington\n",
       "1  (Among, the, vicissitudes, incident, to, life,...  Washington\n",
       "2  (On, the, one, hand, ,, I, was, summoned, by, ...  Washington\n",
       "3  (On, the, other, hand, ,, the, magnitude, and,...  Washington\n",
       "4  (In, this, conflict, of, emotions, all, I, dar...  Washington"
      ]
     },
     "execution_count": 17,
     "metadata": {},
     "output_type": "execute_result"
    }
   ],
   "source": [
    "# Combine the sentences into one data frame.\n",
    "sentences = pd.DataFrame(washington_sents +\n",
    "                         jefferson_sents +\n",
    "                         lincoln_sents +\n",
    "                         roosevelt2_sents +\n",
    "                         eisenhower_sents +\n",
    "                         kennedy_sents +\n",
    "                         reagan_sents +\n",
    "                         bush_sents +\n",
    "                         clinton_sents +\n",
    "                         obama_sents\n",
    "                         )\n",
    "sentences.head()"
   ]
  },
  {
   "cell_type": "code",
   "execution_count": 18,
   "metadata": {
    "ExecuteTime": {
     "end_time": "2019-07-20T15:03:30.846867Z",
     "start_time": "2019-07-20T15:03:30.833691Z"
    }
   },
   "outputs": [],
   "source": [
    "# Set up bag of words function for each text.\n",
    "def bag_of_words(text):\n",
    "    allwords = [token.lemma_\n",
    "                for token in text\n",
    "                if not token.is_punct\n",
    "                and not token.is_stop]\n",
    "    return [item[0] for item in Counter(allwords).most_common(100)]\n",
    "\n",
    "\n",
    "def bow_features(sentences, common_words):\n",
    "    df = pd.DataFrame(columns=common_words)\n",
    "    df['text_sentence'] = sentences[0]\n",
    "    df['text_source'] = sentences[1]\n",
    "    df.loc[:, common_words] = 0\n",
    "\n",
    "    for i, sentence in enumerate(df['text_sentence']):\n",
    "        words = [token.lemma_\n",
    "                 for token in sentence\n",
    "                 if(\n",
    "                     not token.is_punct\n",
    "                     and not token.is_stop\n",
    "                     and token.lemma_ in common_words\n",
    "                 )]\n",
    "        for word in words:\n",
    "            df.loc[i, word] += 1\n",
    "        if i % 100 == 0:\n",
    "            print('Processing row {}'.format(i))\n",
    "    return df"
   ]
  },
  {
   "cell_type": "code",
   "execution_count": 19,
   "metadata": {
    "ExecuteTime": {
     "end_time": "2019-07-20T15:03:30.881170Z",
     "start_time": "2019-07-20T15:03:30.849665Z"
    }
   },
   "outputs": [],
   "source": [
    "# Set up bags for each speech.\n",
    "washington_words = bag_of_words(washington_doc)\n",
    "jefferson_words = bag_of_words(jefferson_doc)\n",
    "lincoln_words = bag_of_words(lincoln_doc)\n",
    "roosevelt2_words = bag_of_words(roosevelt2_doc)\n",
    "eisenhower_words = bag_of_words(eisenhower_doc)\n",
    "kennedy_words = bag_of_words(kennedy_doc)\n",
    "reagan_words = bag_of_words(reagan_doc)\n",
    "bush_words = bag_of_words(bush_doc)\n",
    "clinton_words = bag_of_words(clinton_doc)\n",
    "obama_words = bag_of_words(obama_doc)\n",
    "\n",
    "# Make bag of common words.\n",
    "common_words = set(washington_words +\n",
    "                   jefferson_words +\n",
    "                   lincoln_words +\n",
    "                   roosevelt2_words +\n",
    "                   eisenhower_words +\n",
    "                   kennedy_words +\n",
    "                   reagan_words +\n",
    "                   bush_words +\n",
    "                   clinton_words +\n",
    "                   obama_words\n",
    "                   )"
   ]
  },
  {
   "cell_type": "code",
   "execution_count": 20,
   "metadata": {
    "ExecuteTime": {
     "end_time": "2019-07-20T15:04:22.920420Z",
     "start_time": "2019-07-20T15:03:30.883831Z"
    }
   },
   "outputs": [
    {
     "name": "stdout",
     "output_type": "stream",
     "text": [
      "Processing row 0\n",
      "Processing row 100\n",
      "Processing row 200\n",
      "Processing row 300\n",
      "Processing row 400\n",
      "Processing row 500\n",
      "Processing row 600\n",
      "Processing row 700\n",
      "Processing row 800\n"
     ]
    },
    {
     "data": {
      "text/html": [
       "<div>\n",
       "<style scoped>\n",
       "    .dataframe tbody tr th:only-of-type {\n",
       "        vertical-align: middle;\n",
       "    }\n",
       "\n",
       "    .dataframe tbody tr th {\n",
       "        vertical-align: top;\n",
       "    }\n",
       "\n",
       "    .dataframe thead th {\n",
       "        text-align: right;\n",
       "    }\n",
       "</style>\n",
       "<table border=\"1\" class=\"dataframe\">\n",
       "  <thead>\n",
       "    <tr style=\"text-align: right;\">\n",
       "      <th></th>\n",
       "      <th>policy</th>\n",
       "      <th>burden</th>\n",
       "      <th>at</th>\n",
       "      <th>small</th>\n",
       "      <th>in</th>\n",
       "      <th>senator</th>\n",
       "      <th>freedom</th>\n",
       "      <th>celebrate</th>\n",
       "      <th>trial</th>\n",
       "      <th>when</th>\n",
       "      <th>...</th>\n",
       "      <th>tell</th>\n",
       "      <th>not</th>\n",
       "      <th>produce</th>\n",
       "      <th>bring</th>\n",
       "      <th>blessing</th>\n",
       "      <th>economy</th>\n",
       "      <th>sake</th>\n",
       "      <th>world</th>\n",
       "      <th>text_sentence</th>\n",
       "      <th>text_source</th>\n",
       "    </tr>\n",
       "  </thead>\n",
       "  <tbody>\n",
       "    <tr>\n",
       "      <th>0</th>\n",
       "      <td>0</td>\n",
       "      <td>0</td>\n",
       "      <td>0</td>\n",
       "      <td>0</td>\n",
       "      <td>0</td>\n",
       "      <td>0</td>\n",
       "      <td>0</td>\n",
       "      <td>0</td>\n",
       "      <td>0</td>\n",
       "      <td>0</td>\n",
       "      <td>...</td>\n",
       "      <td>0</td>\n",
       "      <td>0</td>\n",
       "      <td>0</td>\n",
       "      <td>0</td>\n",
       "      <td>0</td>\n",
       "      <td>0</td>\n",
       "      <td>0</td>\n",
       "      <td>0</td>\n",
       "      <td>(Fellow, -, Citizens, of, the, Senate, and, of...</td>\n",
       "      <td>Washington</td>\n",
       "    </tr>\n",
       "    <tr>\n",
       "      <th>1</th>\n",
       "      <td>0</td>\n",
       "      <td>0</td>\n",
       "      <td>0</td>\n",
       "      <td>0</td>\n",
       "      <td>0</td>\n",
       "      <td>0</td>\n",
       "      <td>0</td>\n",
       "      <td>0</td>\n",
       "      <td>0</td>\n",
       "      <td>0</td>\n",
       "      <td>...</td>\n",
       "      <td>0</td>\n",
       "      <td>0</td>\n",
       "      <td>0</td>\n",
       "      <td>0</td>\n",
       "      <td>0</td>\n",
       "      <td>0</td>\n",
       "      <td>0</td>\n",
       "      <td>0</td>\n",
       "      <td>(Among, the, vicissitudes, incident, to, life,...</td>\n",
       "      <td>Washington</td>\n",
       "    </tr>\n",
       "    <tr>\n",
       "      <th>2</th>\n",
       "      <td>0</td>\n",
       "      <td>0</td>\n",
       "      <td>0</td>\n",
       "      <td>0</td>\n",
       "      <td>0</td>\n",
       "      <td>0</td>\n",
       "      <td>0</td>\n",
       "      <td>0</td>\n",
       "      <td>0</td>\n",
       "      <td>0</td>\n",
       "      <td>...</td>\n",
       "      <td>0</td>\n",
       "      <td>0</td>\n",
       "      <td>0</td>\n",
       "      <td>0</td>\n",
       "      <td>0</td>\n",
       "      <td>0</td>\n",
       "      <td>0</td>\n",
       "      <td>0</td>\n",
       "      <td>(On, the, one, hand, ,, I, was, summoned, by, ...</td>\n",
       "      <td>Washington</td>\n",
       "    </tr>\n",
       "    <tr>\n",
       "      <th>3</th>\n",
       "      <td>0</td>\n",
       "      <td>0</td>\n",
       "      <td>0</td>\n",
       "      <td>0</td>\n",
       "      <td>0</td>\n",
       "      <td>0</td>\n",
       "      <td>0</td>\n",
       "      <td>0</td>\n",
       "      <td>0</td>\n",
       "      <td>0</td>\n",
       "      <td>...</td>\n",
       "      <td>0</td>\n",
       "      <td>0</td>\n",
       "      <td>0</td>\n",
       "      <td>0</td>\n",
       "      <td>0</td>\n",
       "      <td>0</td>\n",
       "      <td>0</td>\n",
       "      <td>0</td>\n",
       "      <td>(On, the, other, hand, ,, the, magnitude, and,...</td>\n",
       "      <td>Washington</td>\n",
       "    </tr>\n",
       "    <tr>\n",
       "      <th>4</th>\n",
       "      <td>0</td>\n",
       "      <td>0</td>\n",
       "      <td>0</td>\n",
       "      <td>0</td>\n",
       "      <td>1</td>\n",
       "      <td>0</td>\n",
       "      <td>0</td>\n",
       "      <td>0</td>\n",
       "      <td>0</td>\n",
       "      <td>0</td>\n",
       "      <td>...</td>\n",
       "      <td>0</td>\n",
       "      <td>0</td>\n",
       "      <td>0</td>\n",
       "      <td>0</td>\n",
       "      <td>0</td>\n",
       "      <td>0</td>\n",
       "      <td>0</td>\n",
       "      <td>0</td>\n",
       "      <td>(In, this, conflict, of, emotions, all, I, dar...</td>\n",
       "      <td>Washington</td>\n",
       "    </tr>\n",
       "  </tbody>\n",
       "</table>\n",
       "<p>5 rows × 459 columns</p>\n",
       "</div>"
      ],
      "text/plain": [
       "  policy burden at small in senator freedom celebrate trial when  ... tell  \\\n",
       "0      0      0  0     0  0       0       0         0     0    0  ...    0   \n",
       "1      0      0  0     0  0       0       0         0     0    0  ...    0   \n",
       "2      0      0  0     0  0       0       0         0     0    0  ...    0   \n",
       "3      0      0  0     0  0       0       0         0     0    0  ...    0   \n",
       "4      0      0  0     0  1       0       0         0     0    0  ...    0   \n",
       "\n",
       "  not produce bring blessing economy sake world  \\\n",
       "0   0       0     0        0       0    0     0   \n",
       "1   0       0     0        0       0    0     0   \n",
       "2   0       0     0        0       0    0     0   \n",
       "3   0       0     0        0       0    0     0   \n",
       "4   0       0     0        0       0    0     0   \n",
       "\n",
       "                                       text_sentence text_source  \n",
       "0  (Fellow, -, Citizens, of, the, Senate, and, of...  Washington  \n",
       "1  (Among, the, vicissitudes, incident, to, life,...  Washington  \n",
       "2  (On, the, one, hand, ,, I, was, summoned, by, ...  Washington  \n",
       "3  (On, the, other, hand, ,, the, magnitude, and,...  Washington  \n",
       "4  (In, this, conflict, of, emotions, all, I, dar...  Washington  \n",
       "\n",
       "[5 rows x 459 columns]"
      ]
     },
     "execution_count": 20,
     "metadata": {},
     "output_type": "execute_result"
    }
   ],
   "source": [
    "# Set up features from BoW.\n",
    "word_counts = bow_features(sentences, common_words)\n",
    "word_counts.head()"
   ]
  },
  {
   "cell_type": "code",
   "execution_count": 21,
   "metadata": {
    "ExecuteTime": {
     "end_time": "2019-07-20T15:04:22.931928Z",
     "start_time": "2019-07-20T15:04:22.922994Z"
    }
   },
   "outputs": [
    {
     "data": {
      "text/plain": [
       "(839, 459)"
      ]
     },
     "execution_count": 21,
     "metadata": {},
     "output_type": "execute_result"
    }
   ],
   "source": [
    "# See shape of word_counts.\n",
    "word_counts.shape"
   ]
  },
  {
   "cell_type": "code",
   "execution_count": 22,
   "metadata": {
    "ExecuteTime": {
     "end_time": "2019-07-20T15:04:22.988184Z",
     "start_time": "2019-07-20T15:04:22.936505Z"
    }
   },
   "outputs": [],
   "source": [
    "# Re-group into text sentences for tfidf.\n",
    "washington_sents_text = [[sent.text, \"Washington\"]\n",
    "                         for sent in washington_doc.sents]\n",
    "jefferson_sents_text = [[sent.text, \"Jefferson\"]\n",
    "                        for sent in jefferson_doc.sents]\n",
    "lincoln_sents_text = [[sent.text, \"Lincoln\"] for sent in lincoln_doc.sents]\n",
    "roosevelt2_sents_text = [[sent.text, \"Roosevelt\"]\n",
    "                         for sent in roosevelt2_doc.sents]\n",
    "eisenhower_sents_text = [[sent.text, \"Eisenhower\"]\n",
    "                         for sent in eisenhower_doc.sents]\n",
    "kennedy_sents_text = [[sent.text, \"Kennedy\"] for sent in kennedy_doc.sents]\n",
    "reagan_sents_text = [[sent.text, \"Reagan\"] for sent in reagan_doc.sents]\n",
    "bush_sents_text = [[sent.text, \"Bush\"] for sent in bush_doc.sents]\n",
    "clinton_sents_text = [[sent.text, \"Clinton\"] for sent in clinton_doc.sents]\n",
    "obama_sents_text = [[sent.text, \"Obama\"] for sent in obama_doc.sents]"
   ]
  },
  {
   "cell_type": "code",
   "execution_count": 23,
   "metadata": {
    "ExecuteTime": {
     "end_time": "2019-07-20T15:04:23.011969Z",
     "start_time": "2019-07-20T15:04:22.993208Z"
    }
   },
   "outputs": [
    {
     "data": {
      "text/html": [
       "<div>\n",
       "<style scoped>\n",
       "    .dataframe tbody tr th:only-of-type {\n",
       "        vertical-align: middle;\n",
       "    }\n",
       "\n",
       "    .dataframe tbody tr th {\n",
       "        vertical-align: top;\n",
       "    }\n",
       "\n",
       "    .dataframe thead th {\n",
       "        text-align: right;\n",
       "    }\n",
       "</style>\n",
       "<table border=\"1\" class=\"dataframe\">\n",
       "  <thead>\n",
       "    <tr style=\"text-align: right;\">\n",
       "      <th></th>\n",
       "      <th>0</th>\n",
       "      <th>1</th>\n",
       "    </tr>\n",
       "  </thead>\n",
       "  <tbody>\n",
       "    <tr>\n",
       "      <th>0</th>\n",
       "      <td>Fellow-Citizens of the Senate and of the House...</td>\n",
       "      <td>Washington</td>\n",
       "    </tr>\n",
       "    <tr>\n",
       "      <th>1</th>\n",
       "      <td>Among the vicissitudes incident to life no eve...</td>\n",
       "      <td>Washington</td>\n",
       "    </tr>\n",
       "    <tr>\n",
       "      <th>2</th>\n",
       "      <td>On the one hand, I was summoned by my Country,...</td>\n",
       "      <td>Washington</td>\n",
       "    </tr>\n",
       "    <tr>\n",
       "      <th>3</th>\n",
       "      <td>On the other hand, the magnitude and difficult...</td>\n",
       "      <td>Washington</td>\n",
       "    </tr>\n",
       "    <tr>\n",
       "      <th>4</th>\n",
       "      <td>In this conflict of emotions all I dare aver i...</td>\n",
       "      <td>Washington</td>\n",
       "    </tr>\n",
       "  </tbody>\n",
       "</table>\n",
       "</div>"
      ],
      "text/plain": [
       "                                                   0           1\n",
       "0  Fellow-Citizens of the Senate and of the House...  Washington\n",
       "1  Among the vicissitudes incident to life no eve...  Washington\n",
       "2  On the one hand, I was summoned by my Country,...  Washington\n",
       "3  On the other hand, the magnitude and difficult...  Washington\n",
       "4  In this conflict of emotions all I dare aver i...  Washington"
      ]
     },
     "execution_count": 23,
     "metadata": {},
     "output_type": "execute_result"
    }
   ],
   "source": [
    "# Combine the sentences from the speeches into one data frame.\n",
    "sentences_text = pd.DataFrame(washington_sents_text +\n",
    "                              jefferson_sents_text +\n",
    "                              lincoln_sents_text +\n",
    "                              roosevelt2_sents_text +\n",
    "                              eisenhower_sents_text +\n",
    "                              kennedy_sents_text +\n",
    "                              reagan_sents_text +\n",
    "                              bush_sents_text +\n",
    "                              clinton_sents_text +\n",
    "                              obama_sents_text\n",
    "                              )\n",
    "sentences_text.head()"
   ]
  },
  {
   "cell_type": "code",
   "execution_count": 24,
   "metadata": {
    "ExecuteTime": {
     "end_time": "2019-07-20T15:04:23.028897Z",
     "start_time": "2019-07-20T15:04:23.014647Z"
    }
   },
   "outputs": [
    {
     "data": {
      "text/plain": [
       "(839, 2)"
      ]
     },
     "execution_count": 24,
     "metadata": {},
     "output_type": "execute_result"
    }
   ],
   "source": [
    "sentences_text.shape"
   ]
  },
  {
   "cell_type": "code",
   "execution_count": 25,
   "metadata": {
    "ExecuteTime": {
     "end_time": "2019-07-20T15:04:23.139875Z",
     "start_time": "2019-07-20T15:04:23.034060Z"
    }
   },
   "outputs": [
    {
     "data": {
      "text/html": [
       "<div>\n",
       "<style scoped>\n",
       "    .dataframe tbody tr th:only-of-type {\n",
       "        vertical-align: middle;\n",
       "    }\n",
       "\n",
       "    .dataframe tbody tr th {\n",
       "        vertical-align: top;\n",
       "    }\n",
       "\n",
       "    .dataframe thead th {\n",
       "        text-align: right;\n",
       "    }\n",
       "</style>\n",
       "<table border=\"1\" class=\"dataframe\">\n",
       "  <thead>\n",
       "    <tr style=\"text-align: right;\">\n",
       "      <th></th>\n",
       "      <th>policy</th>\n",
       "      <th>burden</th>\n",
       "      <th>at</th>\n",
       "      <th>small</th>\n",
       "      <th>in</th>\n",
       "      <th>senator</th>\n",
       "      <th>freedom</th>\n",
       "      <th>celebrate</th>\n",
       "      <th>trial</th>\n",
       "      <th>when</th>\n",
       "      <th>...</th>\n",
       "      <th>tell</th>\n",
       "      <th>not</th>\n",
       "      <th>produce</th>\n",
       "      <th>bring</th>\n",
       "      <th>blessing</th>\n",
       "      <th>economy</th>\n",
       "      <th>sake</th>\n",
       "      <th>world</th>\n",
       "      <th>text_sentence</th>\n",
       "      <th>text_source</th>\n",
       "    </tr>\n",
       "  </thead>\n",
       "  <tbody>\n",
       "    <tr>\n",
       "      <th>0</th>\n",
       "      <td>0</td>\n",
       "      <td>0</td>\n",
       "      <td>0</td>\n",
       "      <td>0</td>\n",
       "      <td>0</td>\n",
       "      <td>0</td>\n",
       "      <td>0</td>\n",
       "      <td>0</td>\n",
       "      <td>0</td>\n",
       "      <td>0</td>\n",
       "      <td>...</td>\n",
       "      <td>0</td>\n",
       "      <td>0</td>\n",
       "      <td>0</td>\n",
       "      <td>0</td>\n",
       "      <td>0</td>\n",
       "      <td>0</td>\n",
       "      <td>0</td>\n",
       "      <td>0</td>\n",
       "      <td>(Fellow, -, Citizens, of, the, Senate, and, of...</td>\n",
       "      <td>Washington</td>\n",
       "    </tr>\n",
       "    <tr>\n",
       "      <th>1</th>\n",
       "      <td>0</td>\n",
       "      <td>0</td>\n",
       "      <td>0</td>\n",
       "      <td>0</td>\n",
       "      <td>0</td>\n",
       "      <td>0</td>\n",
       "      <td>0</td>\n",
       "      <td>0</td>\n",
       "      <td>0</td>\n",
       "      <td>0</td>\n",
       "      <td>...</td>\n",
       "      <td>0</td>\n",
       "      <td>0</td>\n",
       "      <td>0</td>\n",
       "      <td>0</td>\n",
       "      <td>0</td>\n",
       "      <td>0</td>\n",
       "      <td>0</td>\n",
       "      <td>0</td>\n",
       "      <td>(Among, the, vicissitudes, incident, to, life,...</td>\n",
       "      <td>Washington</td>\n",
       "    </tr>\n",
       "    <tr>\n",
       "      <th>2</th>\n",
       "      <td>0</td>\n",
       "      <td>0</td>\n",
       "      <td>0</td>\n",
       "      <td>0</td>\n",
       "      <td>0</td>\n",
       "      <td>0</td>\n",
       "      <td>0</td>\n",
       "      <td>0</td>\n",
       "      <td>0</td>\n",
       "      <td>0</td>\n",
       "      <td>...</td>\n",
       "      <td>0</td>\n",
       "      <td>0</td>\n",
       "      <td>0</td>\n",
       "      <td>0</td>\n",
       "      <td>0</td>\n",
       "      <td>0</td>\n",
       "      <td>0</td>\n",
       "      <td>0</td>\n",
       "      <td>(On, the, one, hand, ,, I, was, summoned, by, ...</td>\n",
       "      <td>Washington</td>\n",
       "    </tr>\n",
       "    <tr>\n",
       "      <th>3</th>\n",
       "      <td>0</td>\n",
       "      <td>0</td>\n",
       "      <td>0</td>\n",
       "      <td>0</td>\n",
       "      <td>0</td>\n",
       "      <td>0</td>\n",
       "      <td>0</td>\n",
       "      <td>0</td>\n",
       "      <td>0</td>\n",
       "      <td>0</td>\n",
       "      <td>...</td>\n",
       "      <td>0</td>\n",
       "      <td>0</td>\n",
       "      <td>0</td>\n",
       "      <td>0</td>\n",
       "      <td>0</td>\n",
       "      <td>0</td>\n",
       "      <td>0</td>\n",
       "      <td>0</td>\n",
       "      <td>(On, the, other, hand, ,, the, magnitude, and,...</td>\n",
       "      <td>Washington</td>\n",
       "    </tr>\n",
       "    <tr>\n",
       "      <th>4</th>\n",
       "      <td>0</td>\n",
       "      <td>0</td>\n",
       "      <td>0</td>\n",
       "      <td>0</td>\n",
       "      <td>1</td>\n",
       "      <td>0</td>\n",
       "      <td>0</td>\n",
       "      <td>0</td>\n",
       "      <td>0</td>\n",
       "      <td>0</td>\n",
       "      <td>...</td>\n",
       "      <td>0</td>\n",
       "      <td>0</td>\n",
       "      <td>0</td>\n",
       "      <td>0</td>\n",
       "      <td>0</td>\n",
       "      <td>0</td>\n",
       "      <td>0</td>\n",
       "      <td>0</td>\n",
       "      <td>(In, this, conflict, of, emotions, all, I, dar...</td>\n",
       "      <td>Washington</td>\n",
       "    </tr>\n",
       "  </tbody>\n",
       "</table>\n",
       "<p>5 rows × 459 columns</p>\n",
       "</div>"
      ],
      "text/plain": [
       "  policy burden at small in senator freedom celebrate trial when  ... tell  \\\n",
       "0      0      0  0     0  0       0       0         0     0    0  ...    0   \n",
       "1      0      0  0     0  0       0       0         0     0    0  ...    0   \n",
       "2      0      0  0     0  0       0       0         0     0    0  ...    0   \n",
       "3      0      0  0     0  0       0       0         0     0    0  ...    0   \n",
       "4      0      0  0     0  1       0       0         0     0    0  ...    0   \n",
       "\n",
       "  not produce bring blessing economy sake world  \\\n",
       "0   0       0     0        0       0    0     0   \n",
       "1   0       0     0        0       0    0     0   \n",
       "2   0       0     0        0       0    0     0   \n",
       "3   0       0     0        0       0    0     0   \n",
       "4   0       0     0        0       0    0     0   \n",
       "\n",
       "                                       text_sentence text_source  \n",
       "0  (Fellow, -, Citizens, of, the, Senate, and, of...  Washington  \n",
       "1  (Among, the, vicissitudes, incident, to, life,...  Washington  \n",
       "2  (On, the, one, hand, ,, I, was, summoned, by, ...  Washington  \n",
       "3  (On, the, other, hand, ,, the, magnitude, and,...  Washington  \n",
       "4  (In, this, conflict, of, emotions, all, I, dar...  Washington  \n",
       "\n",
       "[5 rows x 459 columns]"
      ]
     },
     "execution_count": 25,
     "metadata": {},
     "output_type": "execute_result"
    }
   ],
   "source": [
    "# Append word_counts and sentences_text.\n",
    "word_counts.append(sentences_text)\n",
    "word_counts.head()"
   ]
  },
  {
   "cell_type": "code",
   "execution_count": 27,
   "metadata": {
    "ExecuteTime": {
     "end_time": "2019-07-20T15:46:17.458365Z",
     "start_time": "2019-07-20T15:46:17.333365Z"
    }
   },
   "outputs": [],
   "source": [
    "# Clustering.\n",
    "# Import clustering environment.\n",
    "from sklearn.cluster import KMeans\n",
    "from sklearn.preprocessing import normalize\n",
    "from sklearn.model_selection import train_test_split\n",
    "from sklearn.decomposition import PCA\n",
    "\n",
    "# Make sure the number of rows divides evenly into four samples.\n",
    "rows = word_counts.shape[0] - word_counts.shape[0] % 4\n",
    "word_counts = word_counts.iloc[:rows, :]\n",
    "\n",
    "# Break into a set of features and a variable for the known outcome.\n",
    "X = word_counts.iloc[:, :-2]\n",
    "y = word_counts.iloc[:, -1]\n",
    "\n",
    "# Normalize.\n",
    "X_norm = normalize(X)\n",
    "\n",
    "# Data frame to store features and predicted cluster memberships.\n",
    "ypred = pd.DataFrame()\n",
    "\n",
    "# Create the two-feature PCA for graphing purposes.\n",
    "pca = PCA(n_components=2)\n",
    "X_pca = pca.fit_transform(X_norm)\n",
    "\n",
    "# Split the data into four equally-sized samples. First we break it in half:\n",
    "X_half1, X_half2, X_pcahalf1, X_pcahalf2 = train_test_split(\n",
    "    X_norm,\n",
    "    X_pca,\n",
    "    test_size=0.25,\n",
    "    random_state=15)\n",
    "\n",
    "# Then we half the halves.\n",
    "X1, X2, X_pca1, X_pca2 = train_test_split(\n",
    "    X_half1,\n",
    "    X_pcahalf1,\n",
    "    test_size=0.25,\n",
    "    random_state=15)\n",
    "X3, X4, X_pca3, X_pca4 = train_test_split(\n",
    "    X_half2,\n",
    "    X_pcahalf2,\n",
    "    test_size=0.25,\n",
    "    random_state=15)"
   ]
  },
  {
   "cell_type": "code",
   "execution_count": 33,
   "metadata": {
    "ExecuteTime": {
     "end_time": "2019-07-20T15:48:40.066083Z",
     "start_time": "2019-07-20T15:48:39.443923Z"
    }
   },
   "outputs": [
    {
     "ename": "ValueError",
     "evalue": "Length of values does not match length of index",
     "output_type": "error",
     "traceback": [
      "\u001b[0;31m---------------------------------------------------------------------------\u001b[0m",
      "\u001b[0;31mValueError\u001b[0m                                Traceback (most recent call last)",
      "\u001b[0;32m<ipython-input-33-3ec61500a7b5>\u001b[0m in \u001b[0;36m<module>\u001b[0;34m\u001b[0m\n\u001b[1;32m     11\u001b[0m \u001b[0;34m\u001b[0m\u001b[0m\n\u001b[1;32m     12\u001b[0m     \u001b[0;31m# Put the features into ypred.\u001b[0m\u001b[0;34m\u001b[0m\u001b[0;34m\u001b[0m\u001b[0;34m\u001b[0m\u001b[0m\n\u001b[0;32m---> 13\u001b[0;31m     \u001b[0mypred\u001b[0m\u001b[0;34m[\u001b[0m\u001b[0;34m'pca_f1'\u001b[0m \u001b[0;34m+\u001b[0m \u001b[0;34m'_sample'\u001b[0m \u001b[0;34m+\u001b[0m \u001b[0mstr\u001b[0m\u001b[0;34m(\u001b[0m\u001b[0mcounter\u001b[0m\u001b[0;34m)\u001b[0m\u001b[0;34m]\u001b[0m \u001b[0;34m=\u001b[0m \u001b[0mdata\u001b[0m\u001b[0;34m[\u001b[0m\u001b[0;36m1\u001b[0m\u001b[0;34m]\u001b[0m\u001b[0;34m[\u001b[0m\u001b[0;34m:\u001b[0m\u001b[0;34m,\u001b[0m \u001b[0;36m0\u001b[0m\u001b[0;34m]\u001b[0m\u001b[0;34m\u001b[0m\u001b[0;34m\u001b[0m\u001b[0m\n\u001b[0m\u001b[1;32m     14\u001b[0m     \u001b[0mypred\u001b[0m\u001b[0;34m[\u001b[0m\u001b[0;34m'pca_f2'\u001b[0m \u001b[0;34m+\u001b[0m \u001b[0;34m'_sample'\u001b[0m \u001b[0;34m+\u001b[0m \u001b[0mstr\u001b[0m\u001b[0;34m(\u001b[0m\u001b[0mcounter\u001b[0m\u001b[0;34m)\u001b[0m\u001b[0;34m]\u001b[0m \u001b[0;34m=\u001b[0m \u001b[0mdata\u001b[0m\u001b[0;34m[\u001b[0m\u001b[0;36m1\u001b[0m\u001b[0;34m]\u001b[0m\u001b[0;34m[\u001b[0m\u001b[0;34m:\u001b[0m\u001b[0;34m,\u001b[0m \u001b[0;36m1\u001b[0m\u001b[0;34m]\u001b[0m\u001b[0;34m\u001b[0m\u001b[0;34m\u001b[0m\u001b[0m\n\u001b[1;32m     15\u001b[0m \u001b[0;34m\u001b[0m\u001b[0m\n",
      "\u001b[0;32m~/miniconda3/lib/python3.7/site-packages/pandas/core/frame.py\u001b[0m in \u001b[0;36m__setitem__\u001b[0;34m(self, key, value)\u001b[0m\n\u001b[1;32m   3368\u001b[0m         \u001b[0;32melse\u001b[0m\u001b[0;34m:\u001b[0m\u001b[0;34m\u001b[0m\u001b[0;34m\u001b[0m\u001b[0m\n\u001b[1;32m   3369\u001b[0m             \u001b[0;31m# set column\u001b[0m\u001b[0;34m\u001b[0m\u001b[0;34m\u001b[0m\u001b[0;34m\u001b[0m\u001b[0m\n\u001b[0;32m-> 3370\u001b[0;31m             \u001b[0mself\u001b[0m\u001b[0;34m.\u001b[0m\u001b[0m_set_item\u001b[0m\u001b[0;34m(\u001b[0m\u001b[0mkey\u001b[0m\u001b[0;34m,\u001b[0m \u001b[0mvalue\u001b[0m\u001b[0;34m)\u001b[0m\u001b[0;34m\u001b[0m\u001b[0;34m\u001b[0m\u001b[0m\n\u001b[0m\u001b[1;32m   3371\u001b[0m \u001b[0;34m\u001b[0m\u001b[0m\n\u001b[1;32m   3372\u001b[0m     \u001b[0;32mdef\u001b[0m \u001b[0m_setitem_slice\u001b[0m\u001b[0;34m(\u001b[0m\u001b[0mself\u001b[0m\u001b[0;34m,\u001b[0m \u001b[0mkey\u001b[0m\u001b[0;34m,\u001b[0m \u001b[0mvalue\u001b[0m\u001b[0;34m)\u001b[0m\u001b[0;34m:\u001b[0m\u001b[0;34m\u001b[0m\u001b[0;34m\u001b[0m\u001b[0m\n",
      "\u001b[0;32m~/miniconda3/lib/python3.7/site-packages/pandas/core/frame.py\u001b[0m in \u001b[0;36m_set_item\u001b[0;34m(self, key, value)\u001b[0m\n\u001b[1;32m   3443\u001b[0m \u001b[0;34m\u001b[0m\u001b[0m\n\u001b[1;32m   3444\u001b[0m         \u001b[0mself\u001b[0m\u001b[0;34m.\u001b[0m\u001b[0m_ensure_valid_index\u001b[0m\u001b[0;34m(\u001b[0m\u001b[0mvalue\u001b[0m\u001b[0;34m)\u001b[0m\u001b[0;34m\u001b[0m\u001b[0;34m\u001b[0m\u001b[0m\n\u001b[0;32m-> 3445\u001b[0;31m         \u001b[0mvalue\u001b[0m \u001b[0;34m=\u001b[0m \u001b[0mself\u001b[0m\u001b[0;34m.\u001b[0m\u001b[0m_sanitize_column\u001b[0m\u001b[0;34m(\u001b[0m\u001b[0mkey\u001b[0m\u001b[0;34m,\u001b[0m \u001b[0mvalue\u001b[0m\u001b[0;34m)\u001b[0m\u001b[0;34m\u001b[0m\u001b[0;34m\u001b[0m\u001b[0m\n\u001b[0m\u001b[1;32m   3446\u001b[0m         \u001b[0mNDFrame\u001b[0m\u001b[0;34m.\u001b[0m\u001b[0m_set_item\u001b[0m\u001b[0;34m(\u001b[0m\u001b[0mself\u001b[0m\u001b[0;34m,\u001b[0m \u001b[0mkey\u001b[0m\u001b[0;34m,\u001b[0m \u001b[0mvalue\u001b[0m\u001b[0;34m)\u001b[0m\u001b[0;34m\u001b[0m\u001b[0;34m\u001b[0m\u001b[0m\n\u001b[1;32m   3447\u001b[0m \u001b[0;34m\u001b[0m\u001b[0m\n",
      "\u001b[0;32m~/miniconda3/lib/python3.7/site-packages/pandas/core/frame.py\u001b[0m in \u001b[0;36m_sanitize_column\u001b[0;34m(self, key, value, broadcast)\u001b[0m\n\u001b[1;32m   3628\u001b[0m \u001b[0;34m\u001b[0m\u001b[0m\n\u001b[1;32m   3629\u001b[0m             \u001b[0;31m# turn me into an ndarray\u001b[0m\u001b[0;34m\u001b[0m\u001b[0;34m\u001b[0m\u001b[0;34m\u001b[0m\u001b[0m\n\u001b[0;32m-> 3630\u001b[0;31m             \u001b[0mvalue\u001b[0m \u001b[0;34m=\u001b[0m \u001b[0msanitize_index\u001b[0m\u001b[0;34m(\u001b[0m\u001b[0mvalue\u001b[0m\u001b[0;34m,\u001b[0m \u001b[0mself\u001b[0m\u001b[0;34m.\u001b[0m\u001b[0mindex\u001b[0m\u001b[0;34m,\u001b[0m \u001b[0mcopy\u001b[0m\u001b[0;34m=\u001b[0m\u001b[0;32mFalse\u001b[0m\u001b[0;34m)\u001b[0m\u001b[0;34m\u001b[0m\u001b[0;34m\u001b[0m\u001b[0m\n\u001b[0m\u001b[1;32m   3631\u001b[0m             \u001b[0;32mif\u001b[0m \u001b[0;32mnot\u001b[0m \u001b[0misinstance\u001b[0m\u001b[0;34m(\u001b[0m\u001b[0mvalue\u001b[0m\u001b[0;34m,\u001b[0m \u001b[0;34m(\u001b[0m\u001b[0mnp\u001b[0m\u001b[0;34m.\u001b[0m\u001b[0mndarray\u001b[0m\u001b[0;34m,\u001b[0m \u001b[0mIndex\u001b[0m\u001b[0;34m)\u001b[0m\u001b[0;34m)\u001b[0m\u001b[0;34m:\u001b[0m\u001b[0;34m\u001b[0m\u001b[0;34m\u001b[0m\u001b[0m\n\u001b[1;32m   3632\u001b[0m                 \u001b[0;32mif\u001b[0m \u001b[0misinstance\u001b[0m\u001b[0;34m(\u001b[0m\u001b[0mvalue\u001b[0m\u001b[0;34m,\u001b[0m \u001b[0mlist\u001b[0m\u001b[0;34m)\u001b[0m \u001b[0;32mand\u001b[0m \u001b[0mlen\u001b[0m\u001b[0;34m(\u001b[0m\u001b[0mvalue\u001b[0m\u001b[0;34m)\u001b[0m \u001b[0;34m>\u001b[0m \u001b[0;36m0\u001b[0m\u001b[0;34m:\u001b[0m\u001b[0;34m\u001b[0m\u001b[0;34m\u001b[0m\u001b[0m\n",
      "\u001b[0;32m~/miniconda3/lib/python3.7/site-packages/pandas/core/internals/construction.py\u001b[0m in \u001b[0;36msanitize_index\u001b[0;34m(data, index, copy)\u001b[0m\n\u001b[1;32m    517\u001b[0m \u001b[0;34m\u001b[0m\u001b[0m\n\u001b[1;32m    518\u001b[0m     \u001b[0;32mif\u001b[0m \u001b[0mlen\u001b[0m\u001b[0;34m(\u001b[0m\u001b[0mdata\u001b[0m\u001b[0;34m)\u001b[0m \u001b[0;34m!=\u001b[0m \u001b[0mlen\u001b[0m\u001b[0;34m(\u001b[0m\u001b[0mindex\u001b[0m\u001b[0;34m)\u001b[0m\u001b[0;34m:\u001b[0m\u001b[0;34m\u001b[0m\u001b[0;34m\u001b[0m\u001b[0m\n\u001b[0;32m--> 519\u001b[0;31m         \u001b[0;32mraise\u001b[0m \u001b[0mValueError\u001b[0m\u001b[0;34m(\u001b[0m\u001b[0;34m'Length of values does not match length of index'\u001b[0m\u001b[0;34m)\u001b[0m\u001b[0;34m\u001b[0m\u001b[0;34m\u001b[0m\u001b[0m\n\u001b[0m\u001b[1;32m    520\u001b[0m \u001b[0;34m\u001b[0m\u001b[0m\n\u001b[1;32m    521\u001b[0m     \u001b[0;32mif\u001b[0m \u001b[0misinstance\u001b[0m\u001b[0;34m(\u001b[0m\u001b[0mdata\u001b[0m\u001b[0;34m,\u001b[0m \u001b[0mABCIndexClass\u001b[0m\u001b[0;34m)\u001b[0m \u001b[0;32mand\u001b[0m \u001b[0;32mnot\u001b[0m \u001b[0mcopy\u001b[0m\u001b[0;34m:\u001b[0m\u001b[0;34m\u001b[0m\u001b[0;34m\u001b[0m\u001b[0m\n",
      "\u001b[0;31mValueError\u001b[0m: Length of values does not match length of index"
     ]
    }
   ],
   "source": [
    "# Pass a list of tuples and a counter that increments each time we go\n",
    "# through the loop. The tuples are the data to be used by k-means,\n",
    "# and the PCA-derived features for graphing. We use k-means to fit a\n",
    "# model to the data, then store the predicted values and the two-feature\n",
    "# PCA solution in the data frame.\n",
    "for counter, data in enumerate([\n",
    "    (X1, X_pca1),\n",
    "    (X2, X_pca2),\n",
    "    (X3, X_pca3),\n",
    "    (X4, X_pca4)\n",
    "]):\n",
    "\n",
    "    # Put the features into ypred.\n",
    "    ypred['pca_f1' + '_sample' + str(counter)] = data[1][:, 0]\n",
    "    ypred['pca_f2' + '_sample' + str(counter)] = data[1][:, 1]\n",
    "\n",
    "    # Generate cluster predictions and store them for clusters 2 to 6.\n",
    "    for nclust in range(2, 7):\n",
    "        pred = KMeans(n_clusters=nclust, random_state=15).fit_predict(data[0])\n",
    "        ypred['clust' + str(nclust) + '_sample' + str(counter)] = pred"
   ]
  },
  {
   "cell_type": "code",
   "execution_count": 28,
   "metadata": {
    "ExecuteTime": {
     "end_time": "2019-07-20T15:46:27.459025Z",
     "start_time": "2019-07-20T15:46:27.446302Z"
    }
   },
   "outputs": [
    {
     "data": {
      "text/plain": [
       "(0, 0)"
      ]
     },
     "execution_count": 28,
     "metadata": {},
     "output_type": "execute_result"
    }
   ],
   "source": [
    "ypred.shape"
   ]
  },
  {
   "cell_type": "code",
   "execution_count": 29,
   "metadata": {
    "ExecuteTime": {
     "end_time": "2019-07-20T15:46:30.465371Z",
     "start_time": "2019-07-20T15:46:30.448592Z"
    }
   },
   "outputs": [
    {
     "data": {
      "text/html": [
       "<div>\n",
       "<style scoped>\n",
       "    .dataframe tbody tr th:only-of-type {\n",
       "        vertical-align: middle;\n",
       "    }\n",
       "\n",
       "    .dataframe tbody tr th {\n",
       "        vertical-align: top;\n",
       "    }\n",
       "\n",
       "    .dataframe thead th {\n",
       "        text-align: right;\n",
       "    }\n",
       "</style>\n",
       "<table border=\"1\" class=\"dataframe\">\n",
       "  <thead>\n",
       "    <tr style=\"text-align: right;\">\n",
       "      <th></th>\n",
       "    </tr>\n",
       "  </thead>\n",
       "  <tbody>\n",
       "  </tbody>\n",
       "</table>\n",
       "</div>"
      ],
      "text/plain": [
       "Empty DataFrame\n",
       "Columns: []\n",
       "Index: []"
      ]
     },
     "execution_count": 29,
     "metadata": {},
     "output_type": "execute_result"
    }
   ],
   "source": [
    "ypred.head()"
   ]
  },
  {
   "cell_type": "code",
   "execution_count": 30,
   "metadata": {
    "ExecuteTime": {
     "end_time": "2019-07-20T15:46:32.716612Z",
     "start_time": "2019-07-20T15:46:32.709127Z"
    }
   },
   "outputs": [
    {
     "data": {
      "text/plain": [
       "(470,)"
      ]
     },
     "execution_count": 30,
     "metadata": {},
     "output_type": "execute_result"
    }
   ],
   "source": [
    "pred.shape"
   ]
  },
  {
   "cell_type": "code",
   "execution_count": 31,
   "metadata": {
    "ExecuteTime": {
     "end_time": "2019-07-20T15:46:36.113176Z",
     "start_time": "2019-07-20T15:46:36.103955Z"
    },
    "scrolled": true
   },
   "outputs": [
    {
     "data": {
      "text/plain": [
       "2"
      ]
     },
     "execution_count": 31,
     "metadata": {},
     "output_type": "execute_result"
    }
   ],
   "source": [
    "len(data)"
   ]
  },
  {
   "cell_type": "code",
   "execution_count": 32,
   "metadata": {
    "ExecuteTime": {
     "end_time": "2019-07-20T15:46:39.755373Z",
     "start_time": "2019-07-20T15:46:39.731438Z"
    }
   },
   "outputs": [
    {
     "data": {
      "text/plain": [
       "(array([[0., 0., 0., ..., 0., 0., 0.],\n",
       "        [0., 0., 0., ..., 0., 0., 0.],\n",
       "        [0., 0., 0., ..., 0., 0., 0.],\n",
       "        ...,\n",
       "        [0., 0., 0., ..., 0., 0., 0.],\n",
       "        [0., 0., 0., ..., 0., 0., 0.],\n",
       "        [0., 0., 0., ..., 0., 0., 0.]]), array([[ 0.33144851, -0.00186973],\n",
       "        [-0.21058511, -0.10580197],\n",
       "        [-0.16988775, -0.02700084],\n",
       "        [-0.20965649,  0.10193564],\n",
       "        [-0.20466654,  0.06373891],\n",
       "        [-0.16968517, -0.03327104],\n",
       "        [-0.19070935, -0.11257718],\n",
       "        [-0.21109759,  0.2735665 ],\n",
       "        [ 0.06043504, -0.00535084],\n",
       "        [-0.18798858, -0.09336119],\n",
       "        [ 0.51424234,  0.05137818],\n",
       "        [-0.18974738, -0.06838806],\n",
       "        [ 0.19756822, -0.06425613],\n",
       "        [-0.16571706, -0.02814263],\n",
       "        [-0.19148442, -0.05401993],\n",
       "        [ 0.53055797,  0.01384743],\n",
       "        [-0.21500285, -0.01714371],\n",
       "        [-0.20266503,  0.16106598],\n",
       "        [-0.18221862, -0.06492401],\n",
       "        [-0.19654174, -0.16047944],\n",
       "        [-0.1667961 , -0.00596926],\n",
       "        [-0.22192892,  0.20500921],\n",
       "        [ 0.32457167,  0.00554842],\n",
       "        [-0.20999545, -0.22874313],\n",
       "        [ 0.38781832,  0.0118095 ],\n",
       "        [-0.17206681, -0.03344896],\n",
       "        [ 0.52915009,  0.01041345],\n",
       "        [ 0.5244513 , -0.06825683],\n",
       "        [-0.21184806,  0.14411645],\n",
       "        [-0.20100346,  0.34080991],\n",
       "        [-0.04335562, -0.06479075],\n",
       "        [-0.18892016, -0.08265716],\n",
       "        [ 0.31589845, -0.01819491],\n",
       "        [-0.18459918, -0.19061784],\n",
       "        [-0.19253545, -0.08188476],\n",
       "        [-0.21861163,  0.12371747],\n",
       "        [-0.21413735,  0.10837556],\n",
       "        [-0.18967533,  0.12689652],\n",
       "        [-0.17567103, -0.03992432],\n",
       "        [ 0.05920298,  0.26745549],\n",
       "        [-0.20999545, -0.22874313],\n",
       "        [ 0.16840747,  0.03197839],\n",
       "        [ 0.41044475,  0.00124314],\n",
       "        [-0.1850193 , -0.04067473],\n",
       "        [ 0.22365133, -0.11934106],\n",
       "        [ 0.39341434, -0.02765622],\n",
       "        [-0.17233984, -0.03573011],\n",
       "        [ 0.21444388,  0.07669496],\n",
       "        [-0.1626201 , -0.03595352],\n",
       "        [ 0.21464194, -0.01564651],\n",
       "        [ 0.26157993, -0.00490605],\n",
       "        [ 0.28404789,  0.01050981],\n",
       "        [-0.18132431, -0.08077143],\n",
       "        [-0.18253184,  0.00331904],\n",
       "        [-0.17748812, -0.01592831],\n",
       "        [-0.17010111, -0.04632505],\n",
       "        [-0.1773242 , -0.03468099],\n",
       "        [-0.23192799,  0.32446901],\n",
       "        [ 0.31658067, -0.16014941],\n",
       "        [-0.22746319,  0.25348504],\n",
       "        [-0.14480768, -0.04651354],\n",
       "        [-0.21904083, -0.21845395],\n",
       "        [ 0.40415419, -0.01050833],\n",
       "        [ 0.40363472, -0.0497508 ],\n",
       "        [-0.17876597,  0.02345355],\n",
       "        [-0.1744222 , -0.00392642],\n",
       "        [-0.16855221, -0.03867185],\n",
       "        [ 0.12878402,  0.04637563],\n",
       "        [-0.16571706, -0.02814263],\n",
       "        [ 0.18293127,  0.0901555 ],\n",
       "        [-0.22665246,  0.19477074],\n",
       "        [-0.21078058, -0.11484938],\n",
       "        [-0.20411949, -0.07012439],\n",
       "        [-0.22709678,  0.08075022],\n",
       "        [ 0.38075676, -0.07691109],\n",
       "        [-0.2056596 , -0.09281777],\n",
       "        [-0.2056596 , -0.09281777],\n",
       "        [-0.19068508, -0.11365386],\n",
       "        [-0.21903569, -0.09014695],\n",
       "        [-0.21751909,  0.16094627],\n",
       "        [ 0.52633328, -0.00159667],\n",
       "        [-0.18030679, -0.0485464 ],\n",
       "        [-0.182879  ,  0.00433938],\n",
       "        [ 0.37546389,  0.26629648],\n",
       "        [-0.20867953, -0.16828487],\n",
       "        [-0.21351921,  0.36263043],\n",
       "        [-0.16862122, -0.05439997],\n",
       "        [-0.19348132,  0.25392034],\n",
       "        [ 0.81142044,  0.02042116],\n",
       "        [-0.19050539, -0.08245321],\n",
       "        [-0.19394903,  0.05770812],\n",
       "        [-0.17400409, -0.05020692],\n",
       "        [-0.18815968,  0.11933817],\n",
       "        [ 0.25792734, -0.12221734],\n",
       "        [-0.18555196, -0.1126742 ],\n",
       "        [-0.19325163, -0.04711281],\n",
       "        [-0.23822899,  0.66462855],\n",
       "        [-0.17214262, -0.01281495],\n",
       "        [ 0.1881    , -0.0319005 ],\n",
       "        [-0.19893348, -0.06701196],\n",
       "        [ 0.39976695,  0.00432449],\n",
       "        [-0.18144128,  0.01834544],\n",
       "        [-0.20007425, -0.12045223],\n",
       "        [-0.2227463 ,  0.20700984],\n",
       "        [-0.1671482 , -0.02875887],\n",
       "        [-0.17570865, -0.07176582],\n",
       "        [-0.21438187, -0.15042184],\n",
       "        [-0.20407631, -0.00346041],\n",
       "        [-0.16225518, -0.05413267],\n",
       "        [-0.20460751, -0.25798799],\n",
       "        [ 0.18719814,  0.01943392],\n",
       "        [ 0.27785512, -0.02139675],\n",
       "        [ 0.52433918, -0.00202292],\n",
       "        [-0.16309307, -0.08747356],\n",
       "        [-0.21438187, -0.15042184],\n",
       "        [-0.21111825,  0.1636327 ],\n",
       "        [ 0.81142044,  0.02042116],\n",
       "        [ 0.01222061,  0.03865755],\n",
       "        [ 0.52170625, -0.02532577],\n",
       "        [-0.19746062, -0.28253265],\n",
       "        [ 0.02074995,  0.13873107],\n",
       "        [-0.21484877, -0.11750734],\n",
       "        [ 0.21036496, -0.00191362],\n",
       "        [ 0.23171049,  0.05946498],\n",
       "        [-0.16109569, -0.00137287],\n",
       "        [ 0.38984399, -0.01788648],\n",
       "        [ 0.1184655 , -0.0761746 ],\n",
       "        [-0.1838857 , -0.01528134],\n",
       "        [-0.18002763, -0.05566597],\n",
       "        [-0.20745921,  0.16037421],\n",
       "        [-0.21558928,  0.28200033],\n",
       "        [-0.17122963, -0.06232749],\n",
       "        [-0.17223278, -0.01927524],\n",
       "        [ 0.09836046,  0.03507686],\n",
       "        [-0.21603933, -0.1825611 ],\n",
       "        [-0.16443948,  0.00398514],\n",
       "        [ 0.17158132, -0.01391075],\n",
       "        [-0.17270897, -0.07667491],\n",
       "        [ 0.52998229, -0.02770207],\n",
       "        [-0.16571706, -0.02814263],\n",
       "        [-0.17500232, -0.03508995],\n",
       "        [-0.22816849, -0.27123737],\n",
       "        [ 0.0465269 , -0.02553207],\n",
       "        [-0.16628413, -0.22561619],\n",
       "        [-0.20962924,  0.19067765],\n",
       "        [ 0.40884556, -0.01110495],\n",
       "        [-0.18243806, -0.07911477],\n",
       "        [ 0.40259702, -0.05728582],\n",
       "        [-0.17092575, -0.03369694],\n",
       "        [ 0.21086271, -0.00492903],\n",
       "        [-0.1678716 , -0.034748  ],\n",
       "        [-0.17136175, -0.05989238],\n",
       "        [ 0.22981164,  0.0103013 ],\n",
       "        [-0.19500392, -0.02358431],\n",
       "        [ 0.32984685,  0.00385199],\n",
       "        [ 0.39718112,  0.00328141],\n",
       "        [ 0.23060897, -0.11617194]]))"
      ]
     },
     "execution_count": 32,
     "metadata": {},
     "output_type": "execute_result"
    }
   ],
   "source": [
    "data"
   ]
  },
  {
   "cell_type": "code",
   "execution_count": null,
   "metadata": {
    "ExecuteTime": {
     "end_time": "2019-07-20T12:40:02.646106Z",
     "start_time": "2019-07-20T12:40:02.628566Z"
    }
   },
   "outputs": [],
   "source": []
  },
  {
   "cell_type": "code",
   "execution_count": null,
   "metadata": {},
   "outputs": [],
   "source": []
  }
 ],
 "metadata": {
  "kernelspec": {
   "display_name": "Python 3",
   "language": "python",
   "name": "python3"
  },
  "language_info": {
   "codemirror_mode": {
    "name": "ipython",
    "version": 3
   },
   "file_extension": ".py",
   "mimetype": "text/x-python",
   "name": "python",
   "nbconvert_exporter": "python",
   "pygments_lexer": "ipython3",
   "version": "3.7.3"
  },
  "toc": {
   "base_numbering": 1,
   "nav_menu": {},
   "number_sections": true,
   "sideBar": true,
   "skip_h1_title": false,
   "title_cell": "Table of Contents",
   "title_sidebar": "Contents",
   "toc_cell": false,
   "toc_position": {},
   "toc_section_display": true,
   "toc_window_display": false
  },
  "varInspector": {
   "cols": {
    "lenName": 16,
    "lenType": 16,
    "lenVar": 40
   },
   "kernels_config": {
    "python": {
     "delete_cmd_postfix": "",
     "delete_cmd_prefix": "del ",
     "library": "var_list.py",
     "varRefreshCmd": "print(var_dic_list())"
    },
    "r": {
     "delete_cmd_postfix": ") ",
     "delete_cmd_prefix": "rm(",
     "library": "var_list.r",
     "varRefreshCmd": "cat(var_dic_list()) "
    }
   },
   "position": {
    "height": "144px",
    "left": "798px",
    "right": "20px",
    "top": "137px",
    "width": "350px"
   },
   "types_to_exclude": [
    "module",
    "function",
    "builtin_function_or_method",
    "instance",
    "_Feature"
   ],
   "window_display": true
  }
 },
 "nbformat": 4,
 "nbformat_minor": 2
}
